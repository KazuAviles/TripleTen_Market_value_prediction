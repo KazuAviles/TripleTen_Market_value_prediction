{
 "cells": [
  {
   "cell_type": "markdown",
   "metadata": {},
   "source": [
    "## Descripción del Proyecto\n",
    "El servicio de venta de autos usados Rusty Bargain está desarrollando una aplicación para atraer nuevos clientes. Gracias a esa app, puedes averiguar rápidamente el valor de mercado de tu coche. Tienes acceso al historial: especificaciones técnicas, versiones de equipamiento y precios. Tienes que crear un modelo que determine el valor de mercado.\n",
    "A Rusty Bargain le interesa:\n",
    "- la calidad de la predicción;\n",
    "- la velocidad de la predicción;\n",
    "- el tiempo requerido para el entrenamiento"
   ]
  },
  {
   "cell_type": "markdown",
   "metadata": {},
   "source": [
    "### Descripción de los datos\n",
    "\n",
    "- `car_data.csv`: Descarga el conjunto de dato\n",
    "\n",
    "Características\n",
    "\n",
    "- `DateCrawled`: fecha en la que se descargó el perfil de la base de datos\n",
    "- `VehicleType`: tipo de carrocería del vehículo\n",
    "- `RegistrationYear` : año de matriculación del vehículo\n",
    "- `Gearbox` : tipo de caja de cambios\n",
    "- `Power` : potencia (CV)\n",
    "- `Model` : modelo del vehículo\n",
    "- `Mileage` : kilometraje (medido en km de acuerdo con las especificidades regionales del conjunto de datos)\n",
    "- `RegistrationMonth` : mes de matriculación del vehículo\n",
    "- `FuelType` :  tipo de combustible\n",
    "- `Brand` : marca del vehículo\n",
    "- `NotRepaired` : vehículo con o sin reparación\n",
    "- `DateCreated` : fecha de creación del perfil\n",
    "- `NumberOfPictures` : número de fotos del vehículo\n",
    "- `PostalCode` : código postal del propietario del perfil (usuario)\n",
    "- `LastSeen` : fecha de la última vez que el usuario estuvo activo\n",
    "\n",
    "Objetivo\n",
    "\n",
    "- `Price` : precio (en euros)"
   ]
  },
  {
   "cell_type": "markdown",
   "metadata": {},
   "source": [
    "## Preparación de datos"
   ]
  },
  {
   "cell_type": "markdown",
   "metadata": {},
   "source": [
    "### Inicialización Cargar librerias"
   ]
  },
  {
   "cell_type": "code",
   "execution_count": 1,
   "metadata": {},
   "outputs": [],
   "source": [
    "import pandas as pd\n",
    "import sklearn\n",
    "import numpy as np\n",
    "\n",
    "from sklearn.metrics import mean_squared_error\n",
    "from sklearn.model_selection import train_test_split\n",
    "from sklearn.impute import SimpleImputer\n",
    "from sklearn.preprocessing import OneHotEncoder\n",
    "from sklearn.preprocessing import OrdinalEncoder\n",
    "\n",
    "import catboost as cb\n",
    "from sklearn.linear_model import LinearRegression\n",
    "from sklearn.ensemble import RandomForestRegressor\n",
    "from sklearn.ensemble import RandomForestClassifier\n",
    "\n",
    "from sklearn.metrics import f1_score\n",
    "from sklearn.metrics import mean_squared_error, r2_score\n",
    "from sklearn.metrics import accuracy_score, roc_auc_score, roc_curve, auc"
   ]
  },
  {
   "cell_type": "code",
   "execution_count": 2,
   "metadata": {},
   "outputs": [],
   "source": [
    "vehicles = pd.read_csv('/datasets/car_data.csv')"
   ]
  },
  {
   "cell_type": "markdown",
   "metadata": {},
   "source": [
    "Renombramos las columnas para que el código se vea más coherente con su estilo."
   ]
  },
  {
   "cell_type": "code",
   "execution_count": 3,
   "metadata": {},
   "outputs": [],
   "source": [
    "vehicles = vehicles.rename(columns={\n",
    "    'DateCrawled': 'date_crawled', \n",
    "    'Price': 'price', \n",
    "    'VehicleType': 'vehicle_type', \n",
    "    'RegistrationYear': 'registration_year', \n",
    "    'Gearbox':'gearbox',\n",
    "    'Power': 'power',\n",
    "    'Model': 'model', \n",
    "    'Mileage':'mileage', \n",
    "    'RegistrationMonth':'registration_month', \n",
    "    'FuelType':'fuel_type', \n",
    "    'Brand':'brand',\n",
    "    'NotRepaired':'not_repaired', \n",
    "    'DateCreated':'date_created', \n",
    "    'NumberOfPictures':'number_of_pictures', \n",
    "    'PostalCode':'postal_code',\n",
    "    'LastSeen':'last_seen'\n",
    "})\n",
    "\n",
    "# actualizar indice\n",
    "vehicles.reset_index(drop=True, inplace=True)"
   ]
  },
  {
   "cell_type": "code",
   "execution_count": 4,
   "metadata": {},
   "outputs": [
    {
     "name": "stdout",
     "output_type": "stream",
     "text": [
      "<class 'pandas.core.frame.DataFrame'>\n",
      "RangeIndex: 354369 entries, 0 to 354368\n",
      "Data columns (total 16 columns):\n",
      " #   Column              Non-Null Count   Dtype \n",
      "---  ------              --------------   ----- \n",
      " 0   date_crawled        354369 non-null  object\n",
      " 1   price               354369 non-null  int64 \n",
      " 2   vehicle_type        316879 non-null  object\n",
      " 3   registration_year   354369 non-null  int64 \n",
      " 4   gearbox             334536 non-null  object\n",
      " 5   power               354369 non-null  int64 \n",
      " 6   model               334664 non-null  object\n",
      " 7   mileage             354369 non-null  int64 \n",
      " 8   registration_month  354369 non-null  int64 \n",
      " 9   fuel_type           321474 non-null  object\n",
      " 10  brand               354369 non-null  object\n",
      " 11  not_repaired        283215 non-null  object\n",
      " 12  date_created        354369 non-null  object\n",
      " 13  number_of_pictures  354369 non-null  int64 \n",
      " 14  postal_code         354369 non-null  int64 \n",
      " 15  last_seen           354369 non-null  object\n",
      "dtypes: int64(7), object(9)\n",
      "memory usage: 43.3+ MB\n"
     ]
    }
   ],
   "source": [
    "vehicles.info()"
   ]
  },
  {
   "cell_type": "code",
   "execution_count": 5,
   "metadata": {
    "scrolled": true
   },
   "outputs": [
    {
     "data": {
      "text/html": [
       "<div>\n",
       "<style scoped>\n",
       "    .dataframe tbody tr th:only-of-type {\n",
       "        vertical-align: middle;\n",
       "    }\n",
       "\n",
       "    .dataframe tbody tr th {\n",
       "        vertical-align: top;\n",
       "    }\n",
       "\n",
       "    .dataframe thead th {\n",
       "        text-align: right;\n",
       "    }\n",
       "</style>\n",
       "<table border=\"1\" class=\"dataframe\">\n",
       "  <thead>\n",
       "    <tr style=\"text-align: right;\">\n",
       "      <th></th>\n",
       "      <th>date_crawled</th>\n",
       "      <th>price</th>\n",
       "      <th>vehicle_type</th>\n",
       "      <th>registration_year</th>\n",
       "      <th>gearbox</th>\n",
       "      <th>power</th>\n",
       "      <th>model</th>\n",
       "      <th>mileage</th>\n",
       "      <th>registration_month</th>\n",
       "      <th>fuel_type</th>\n",
       "      <th>brand</th>\n",
       "      <th>not_repaired</th>\n",
       "      <th>date_created</th>\n",
       "      <th>number_of_pictures</th>\n",
       "      <th>postal_code</th>\n",
       "      <th>last_seen</th>\n",
       "    </tr>\n",
       "  </thead>\n",
       "  <tbody>\n",
       "    <tr>\n",
       "      <th>0</th>\n",
       "      <td>24/03/2016 11:52</td>\n",
       "      <td>480</td>\n",
       "      <td>NaN</td>\n",
       "      <td>1993</td>\n",
       "      <td>manual</td>\n",
       "      <td>0</td>\n",
       "      <td>golf</td>\n",
       "      <td>150000</td>\n",
       "      <td>0</td>\n",
       "      <td>petrol</td>\n",
       "      <td>volkswagen</td>\n",
       "      <td>NaN</td>\n",
       "      <td>24/03/2016 00:00</td>\n",
       "      <td>0</td>\n",
       "      <td>70435</td>\n",
       "      <td>07/04/2016 03:16</td>\n",
       "    </tr>\n",
       "    <tr>\n",
       "      <th>1</th>\n",
       "      <td>24/03/2016 10:58</td>\n",
       "      <td>18300</td>\n",
       "      <td>coupe</td>\n",
       "      <td>2011</td>\n",
       "      <td>manual</td>\n",
       "      <td>190</td>\n",
       "      <td>NaN</td>\n",
       "      <td>125000</td>\n",
       "      <td>5</td>\n",
       "      <td>gasoline</td>\n",
       "      <td>audi</td>\n",
       "      <td>yes</td>\n",
       "      <td>24/03/2016 00:00</td>\n",
       "      <td>0</td>\n",
       "      <td>66954</td>\n",
       "      <td>07/04/2016 01:46</td>\n",
       "    </tr>\n",
       "    <tr>\n",
       "      <th>2</th>\n",
       "      <td>14/03/2016 12:52</td>\n",
       "      <td>9800</td>\n",
       "      <td>suv</td>\n",
       "      <td>2004</td>\n",
       "      <td>auto</td>\n",
       "      <td>163</td>\n",
       "      <td>grand</td>\n",
       "      <td>125000</td>\n",
       "      <td>8</td>\n",
       "      <td>gasoline</td>\n",
       "      <td>jeep</td>\n",
       "      <td>NaN</td>\n",
       "      <td>14/03/2016 00:00</td>\n",
       "      <td>0</td>\n",
       "      <td>90480</td>\n",
       "      <td>05/04/2016 12:47</td>\n",
       "    </tr>\n",
       "    <tr>\n",
       "      <th>3</th>\n",
       "      <td>17/03/2016 16:54</td>\n",
       "      <td>1500</td>\n",
       "      <td>small</td>\n",
       "      <td>2001</td>\n",
       "      <td>manual</td>\n",
       "      <td>75</td>\n",
       "      <td>golf</td>\n",
       "      <td>150000</td>\n",
       "      <td>6</td>\n",
       "      <td>petrol</td>\n",
       "      <td>volkswagen</td>\n",
       "      <td>no</td>\n",
       "      <td>17/03/2016 00:00</td>\n",
       "      <td>0</td>\n",
       "      <td>91074</td>\n",
       "      <td>17/03/2016 17:40</td>\n",
       "    </tr>\n",
       "    <tr>\n",
       "      <th>4</th>\n",
       "      <td>31/03/2016 17:25</td>\n",
       "      <td>3600</td>\n",
       "      <td>small</td>\n",
       "      <td>2008</td>\n",
       "      <td>manual</td>\n",
       "      <td>69</td>\n",
       "      <td>fabia</td>\n",
       "      <td>90000</td>\n",
       "      <td>7</td>\n",
       "      <td>gasoline</td>\n",
       "      <td>skoda</td>\n",
       "      <td>no</td>\n",
       "      <td>31/03/2016 00:00</td>\n",
       "      <td>0</td>\n",
       "      <td>60437</td>\n",
       "      <td>06/04/2016 10:17</td>\n",
       "    </tr>\n",
       "  </tbody>\n",
       "</table>\n",
       "</div>"
      ],
      "text/plain": [
       "       date_crawled  price vehicle_type  registration_year gearbox  power  \\\n",
       "0  24/03/2016 11:52    480          NaN               1993  manual      0   \n",
       "1  24/03/2016 10:58  18300        coupe               2011  manual    190   \n",
       "2  14/03/2016 12:52   9800          suv               2004    auto    163   \n",
       "3  17/03/2016 16:54   1500        small               2001  manual     75   \n",
       "4  31/03/2016 17:25   3600        small               2008  manual     69   \n",
       "\n",
       "   model  mileage  registration_month fuel_type       brand not_repaired  \\\n",
       "0   golf   150000                   0    petrol  volkswagen          NaN   \n",
       "1    NaN   125000                   5  gasoline        audi          yes   \n",
       "2  grand   125000                   8  gasoline        jeep          NaN   \n",
       "3   golf   150000                   6    petrol  volkswagen           no   \n",
       "4  fabia    90000                   7  gasoline       skoda           no   \n",
       "\n",
       "       date_created  number_of_pictures  postal_code         last_seen  \n",
       "0  24/03/2016 00:00                   0        70435  07/04/2016 03:16  \n",
       "1  24/03/2016 00:00                   0        66954  07/04/2016 01:46  \n",
       "2  14/03/2016 00:00                   0        90480  05/04/2016 12:47  \n",
       "3  17/03/2016 00:00                   0        91074  17/03/2016 17:40  \n",
       "4  31/03/2016 00:00                   0        60437  06/04/2016 10:17  "
      ]
     },
     "execution_count": 5,
     "metadata": {},
     "output_type": "execute_result"
    }
   ],
   "source": [
    "vehicles.head()"
   ]
  },
  {
   "cell_type": "code",
   "execution_count": 6,
   "metadata": {},
   "outputs": [],
   "source": [
    "# Definir el target \n",
    "target = \"price\"\n",
    "\n",
    "# Eliminar columnas de fecha y codigo postal, etc.\n",
    "drop_columns = [\n",
    "    \"date_crawled\",\n",
    "    \"registration_month\",\n",
    "    \"date_created\",\n",
    "    \"postal_code\",\n",
    "    \"last_seen\",\n",
    "    \"number_of_pictures\"\n",
    "]\n",
    "# Eliminar las columnas del dataframe\n",
    "vehicles = vehicles.drop(columns=drop_columns)\n",
    "\n",
    "# caracteristicas\n",
    "features = [c for c in vehicles.columns if c not in drop_columns + [target]]\n"
   ]
  },
  {
   "cell_type": "code",
   "execution_count": 7,
   "metadata": {},
   "outputs": [
    {
     "data": {
      "text/plain": [
       "Index(['price', 'vehicle_type', 'registration_year', 'gearbox', 'power',\n",
       "       'model', 'mileage', 'fuel_type', 'brand', 'not_repaired'],\n",
       "      dtype='object')"
      ]
     },
     "execution_count": 7,
     "metadata": {},
     "output_type": "execute_result"
    }
   ],
   "source": [
    "# Verificamos que las columnas se eliminaron \n",
    "vehicles.columns"
   ]
  },
  {
   "cell_type": "code",
   "execution_count": 8,
   "metadata": {},
   "outputs": [
    {
     "data": {
      "text/plain": [
       "vehicle_type         object\n",
       "registration_year     int64\n",
       "gearbox              object\n",
       "power                 int64\n",
       "model                object\n",
       "mileage               int64\n",
       "fuel_type            object\n",
       "brand                object\n",
       "not_repaired         object\n",
       "dtype: object"
      ]
     },
     "execution_count": 8,
     "metadata": {},
     "output_type": "execute_result"
    }
   ],
   "source": [
    "# Verificamos los tipos de datos, solo en las columnas de los features\n",
    "vehicles[features].dtypes"
   ]
  },
  {
   "cell_type": "code",
   "execution_count": 9,
   "metadata": {},
   "outputs": [],
   "source": [
    "# caracteristicas categoricas \n",
    "categorical_features = []\n",
    "\n",
    "for col in vehicles[features].columns:\n",
    "    if vehicles[col].dtype == \"object\":\n",
    "        categorical_features.append(col)\n",
    "        \n",
    "numerical_features = [f for f in features if f not in categorical_features]"
   ]
  },
  {
   "cell_type": "code",
   "execution_count": 10,
   "metadata": {},
   "outputs": [
    {
     "data": {
      "text/plain": [
       "['registration_year', 'power', 'mileage']"
      ]
     },
     "execution_count": 10,
     "metadata": {},
     "output_type": "execute_result"
    }
   ],
   "source": [
    "numerical_features"
   ]
  },
  {
   "cell_type": "code",
   "execution_count": 11,
   "metadata": {},
   "outputs": [
    {
     "data": {
      "text/plain": [
       "['vehicle_type', 'gearbox', 'model', 'fuel_type', 'brand', 'not_repaired']"
      ]
     },
     "execution_count": 11,
     "metadata": {},
     "output_type": "execute_result"
    }
   ],
   "source": [
    "categorical_features"
   ]
  },
  {
   "cell_type": "code",
   "execution_count": 12,
   "metadata": {},
   "outputs": [
    {
     "data": {
      "text/plain": [
       "vehicle_type         37490\n",
       "registration_year        0\n",
       "gearbox              19833\n",
       "power                    0\n",
       "model                19705\n",
       "mileage                  0\n",
       "fuel_type            32895\n",
       "brand                    0\n",
       "not_repaired         71154\n",
       "dtype: int64"
      ]
     },
     "execution_count": 12,
     "metadata": {},
     "output_type": "execute_result"
    }
   ],
   "source": [
    "# Verifica si hay valores nulos en los features\n",
    "vehicles[features].isnull().sum()"
   ]
  },
  {
   "cell_type": "code",
   "execution_count": 13,
   "metadata": {},
   "outputs": [
    {
     "data": {
      "text/html": [
       "<div>\n",
       "<style scoped>\n",
       "    .dataframe tbody tr th:only-of-type {\n",
       "        vertical-align: middle;\n",
       "    }\n",
       "\n",
       "    .dataframe tbody tr th {\n",
       "        vertical-align: top;\n",
       "    }\n",
       "\n",
       "    .dataframe thead th {\n",
       "        text-align: right;\n",
       "    }\n",
       "</style>\n",
       "<table border=\"1\" class=\"dataframe\">\n",
       "  <thead>\n",
       "    <tr style=\"text-align: right;\">\n",
       "      <th></th>\n",
       "      <th>price</th>\n",
       "      <th>vehicle_type</th>\n",
       "      <th>registration_year</th>\n",
       "      <th>gearbox</th>\n",
       "      <th>power</th>\n",
       "      <th>model</th>\n",
       "      <th>mileage</th>\n",
       "      <th>fuel_type</th>\n",
       "      <th>brand</th>\n",
       "      <th>not_repaired</th>\n",
       "    </tr>\n",
       "  </thead>\n",
       "  <tbody>\n",
       "    <tr>\n",
       "      <th>0</th>\n",
       "      <td>480</td>\n",
       "      <td>unknown</td>\n",
       "      <td>1993</td>\n",
       "      <td>manual</td>\n",
       "      <td>0</td>\n",
       "      <td>golf</td>\n",
       "      <td>150000</td>\n",
       "      <td>petrol</td>\n",
       "      <td>volkswagen</td>\n",
       "      <td>unknown</td>\n",
       "    </tr>\n",
       "    <tr>\n",
       "      <th>1</th>\n",
       "      <td>18300</td>\n",
       "      <td>coupe</td>\n",
       "      <td>2011</td>\n",
       "      <td>manual</td>\n",
       "      <td>190</td>\n",
       "      <td>unknown</td>\n",
       "      <td>125000</td>\n",
       "      <td>gasoline</td>\n",
       "      <td>audi</td>\n",
       "      <td>yes</td>\n",
       "    </tr>\n",
       "    <tr>\n",
       "      <th>2</th>\n",
       "      <td>9800</td>\n",
       "      <td>suv</td>\n",
       "      <td>2004</td>\n",
       "      <td>auto</td>\n",
       "      <td>163</td>\n",
       "      <td>grand</td>\n",
       "      <td>125000</td>\n",
       "      <td>gasoline</td>\n",
       "      <td>jeep</td>\n",
       "      <td>unknown</td>\n",
       "    </tr>\n",
       "    <tr>\n",
       "      <th>3</th>\n",
       "      <td>1500</td>\n",
       "      <td>small</td>\n",
       "      <td>2001</td>\n",
       "      <td>manual</td>\n",
       "      <td>75</td>\n",
       "      <td>golf</td>\n",
       "      <td>150000</td>\n",
       "      <td>petrol</td>\n",
       "      <td>volkswagen</td>\n",
       "      <td>no</td>\n",
       "    </tr>\n",
       "    <tr>\n",
       "      <th>4</th>\n",
       "      <td>3600</td>\n",
       "      <td>small</td>\n",
       "      <td>2008</td>\n",
       "      <td>manual</td>\n",
       "      <td>69</td>\n",
       "      <td>fabia</td>\n",
       "      <td>90000</td>\n",
       "      <td>gasoline</td>\n",
       "      <td>skoda</td>\n",
       "      <td>no</td>\n",
       "    </tr>\n",
       "    <tr>\n",
       "      <th>...</th>\n",
       "      <td>...</td>\n",
       "      <td>...</td>\n",
       "      <td>...</td>\n",
       "      <td>...</td>\n",
       "      <td>...</td>\n",
       "      <td>...</td>\n",
       "      <td>...</td>\n",
       "      <td>...</td>\n",
       "      <td>...</td>\n",
       "      <td>...</td>\n",
       "    </tr>\n",
       "    <tr>\n",
       "      <th>354364</th>\n",
       "      <td>0</td>\n",
       "      <td>unknown</td>\n",
       "      <td>2005</td>\n",
       "      <td>manual</td>\n",
       "      <td>0</td>\n",
       "      <td>colt</td>\n",
       "      <td>150000</td>\n",
       "      <td>petrol</td>\n",
       "      <td>mitsubishi</td>\n",
       "      <td>yes</td>\n",
       "    </tr>\n",
       "    <tr>\n",
       "      <th>354365</th>\n",
       "      <td>2200</td>\n",
       "      <td>unknown</td>\n",
       "      <td>2005</td>\n",
       "      <td>unknown</td>\n",
       "      <td>0</td>\n",
       "      <td>unknown</td>\n",
       "      <td>20000</td>\n",
       "      <td>unknown</td>\n",
       "      <td>sonstige_autos</td>\n",
       "      <td>unknown</td>\n",
       "    </tr>\n",
       "    <tr>\n",
       "      <th>354366</th>\n",
       "      <td>1199</td>\n",
       "      <td>convertible</td>\n",
       "      <td>2000</td>\n",
       "      <td>auto</td>\n",
       "      <td>101</td>\n",
       "      <td>fortwo</td>\n",
       "      <td>125000</td>\n",
       "      <td>petrol</td>\n",
       "      <td>smart</td>\n",
       "      <td>no</td>\n",
       "    </tr>\n",
       "    <tr>\n",
       "      <th>354367</th>\n",
       "      <td>9200</td>\n",
       "      <td>bus</td>\n",
       "      <td>1996</td>\n",
       "      <td>manual</td>\n",
       "      <td>102</td>\n",
       "      <td>transporter</td>\n",
       "      <td>150000</td>\n",
       "      <td>gasoline</td>\n",
       "      <td>volkswagen</td>\n",
       "      <td>no</td>\n",
       "    </tr>\n",
       "    <tr>\n",
       "      <th>354368</th>\n",
       "      <td>3400</td>\n",
       "      <td>wagon</td>\n",
       "      <td>2002</td>\n",
       "      <td>manual</td>\n",
       "      <td>100</td>\n",
       "      <td>golf</td>\n",
       "      <td>150000</td>\n",
       "      <td>gasoline</td>\n",
       "      <td>volkswagen</td>\n",
       "      <td>unknown</td>\n",
       "    </tr>\n",
       "  </tbody>\n",
       "</table>\n",
       "<p>354369 rows × 10 columns</p>\n",
       "</div>"
      ],
      "text/plain": [
       "        price vehicle_type  registration_year  gearbox  power        model  \\\n",
       "0         480      unknown               1993   manual      0         golf   \n",
       "1       18300        coupe               2011   manual    190      unknown   \n",
       "2        9800          suv               2004     auto    163        grand   \n",
       "3        1500        small               2001   manual     75         golf   \n",
       "4        3600        small               2008   manual     69        fabia   \n",
       "...       ...          ...                ...      ...    ...          ...   \n",
       "354364      0      unknown               2005   manual      0         colt   \n",
       "354365   2200      unknown               2005  unknown      0      unknown   \n",
       "354366   1199  convertible               2000     auto    101       fortwo   \n",
       "354367   9200          bus               1996   manual    102  transporter   \n",
       "354368   3400        wagon               2002   manual    100         golf   \n",
       "\n",
       "        mileage fuel_type           brand not_repaired  \n",
       "0        150000    petrol      volkswagen      unknown  \n",
       "1        125000  gasoline            audi          yes  \n",
       "2        125000  gasoline            jeep      unknown  \n",
       "3        150000    petrol      volkswagen           no  \n",
       "4         90000  gasoline           skoda           no  \n",
       "...         ...       ...             ...          ...  \n",
       "354364   150000    petrol      mitsubishi          yes  \n",
       "354365    20000   unknown  sonstige_autos      unknown  \n",
       "354366   125000    petrol           smart           no  \n",
       "354367   150000  gasoline      volkswagen           no  \n",
       "354368   150000  gasoline      volkswagen      unknown  \n",
       "\n",
       "[354369 rows x 10 columns]"
      ]
     },
     "execution_count": 13,
     "metadata": {},
     "output_type": "execute_result"
    }
   ],
   "source": [
    "# Fila original\n",
    "# vehicles[categorical_features].fillna('unknown') # reemplazar el dataframe original\n",
    "\n",
    "# Fila modificada\n",
    "vehicles[categorical_features] = vehicles[categorical_features].fillna('unknown') # reemplazar el dataframe original\n",
    "vehicles"
   ]
  },
  {
   "cell_type": "code",
   "execution_count": 14,
   "metadata": {},
   "outputs": [],
   "source": [
    "# Identificar los valores 0 en la columna \"power\"\n",
    "invalid_power_values = vehicles[vehicles['power'] == 0]\n",
    "\n",
    "# Filtrar el DataFrame para excluir esos valores\n",
    "# vehicles_cleaned = vehicles[vehicles['power'] != 0]\n",
    "vehicles = vehicles[vehicles['power'] != 0]"
   ]
  },
  {
   "cell_type": "markdown",
   "metadata": {},
   "source": [
    "## Entrenamiento del modelo "
   ]
  },
  {
   "cell_type": "code",
   "execution_count": 15,
   "metadata": {},
   "outputs": [],
   "source": [
    "# Dividir los datos en conjuntos de entrenamiento y prueba (80% entrenamiento, 20% prueba)\n",
    "# Separa utilizando train_test_split.\n",
    "\n",
    "train_df, test_df = train_test_split(\n",
    "    vehicles, # vehicles_cleaned\n",
    "    test_size = 0.2,\n",
    "    random_state = 88\n",
    ")"
   ]
  },
  {
   "cell_type": "code",
   "execution_count": 16,
   "metadata": {},
   "outputs": [
    {
     "data": {
      "text/plain": [
       "'0.24.1'"
      ]
     },
     "execution_count": 16,
     "metadata": {},
     "output_type": "execute_result"
    }
   ],
   "source": [
    "# Verificar la versión de la libreria\n",
    "sklearn.__version__"
   ]
  },
  {
   "cell_type": "code",
   "execution_count": 17,
   "metadata": {},
   "outputs": [],
   "source": [
    "# vehicles_copy = vehicles.copy()  # Crear una copia independiente\n",
    "# vehicles_copy[categorical_features] = vehicles_copy[categorical_features].fillna('unknown')"
   ]
  },
  {
   "cell_type": "code",
   "execution_count": 18,
   "metadata": {},
   "outputs": [],
   "source": [
    "# creamos una instancia del imputador.\n",
    "# El argumento strategy='median' especifica que queremos reemplazar los valores faltantes de las característica numérica.\n",
    "# imputer = SimpleImputer(strategy='median')\n",
    "\n",
    "#  ajusta el imputador a las características numéricas del conjunto de entrenamiento (train_df)\n",
    "# imputer.fit(train_df[numerical_features])\n",
    "\n",
    "# aplica la imputación a las características numéricas del conjunto de entrenamiento.\n",
    "# Los valores faltantes se reemplazan por la mediana correspondiente.\n",
    "# train_df_nonulls = imputer.transform(train_df[numerical_features])\n",
    "# test_df_nonulls = imputer.transform(test_df[numerical_features])\n",
    "\n",
    "#  convierten las matrices resultantes en DataFrames de pandas.\n",
    "# Luego, se asignan nombres de columnas a las características imputadas utilizando numerical_features\n",
    "# train_df_nonulls = pd.DataFrame(train_df_nonulls)\n",
    "# train_df_nonulls.columns = numerical_features\n",
    "\n",
    "# test_df_nonulls = pd.DataFrame(test_df_nonulls)\n",
    "# test_df_nonulls.columns = numerical_features"
   ]
  },
  {
   "cell_type": "code",
   "execution_count": 19,
   "metadata": {
    "scrolled": true
   },
   "outputs": [],
   "source": [
    "# vehicles[categorical_features].isnull().sum()"
   ]
  },
  {
   "cell_type": "code",
   "execution_count": 20,
   "metadata": {},
   "outputs": [],
   "source": [
    "# Llenar los valores faltantes con la etiqueta \"unknown\"\n",
    "# vehicles[categorical_features] = vehicles[categorical_features].fillna('unknown')"
   ]
  },
  {
   "cell_type": "code",
   "execution_count": 21,
   "metadata": {},
   "outputs": [],
   "source": [
    "# vehicles[categorical_features].isnull().sum()"
   ]
  },
  {
   "cell_type": "code",
   "execution_count": 22,
   "metadata": {
    "scrolled": true
   },
   "outputs": [
    {
     "data": {
      "text/plain": [
       "(314144, 6)"
      ]
     },
     "execution_count": 22,
     "metadata": {},
     "output_type": "execute_result"
    }
   ],
   "source": [
    "vehicles[categorical_features].shape"
   ]
  },
  {
   "cell_type": "code",
   "execution_count": 23,
   "metadata": {},
   "outputs": [],
   "source": [
    "# train_df, test_df = train_test_split(\n",
    "#     vehicles, # vehicles_cleaned\n",
    "#     test_size = 0.2,\n",
    "#     random_state = 88\n",
    "# )"
   ]
  },
  {
   "cell_type": "code",
   "execution_count": 24,
   "metadata": {
    "scrolled": true
   },
   "outputs": [],
   "source": [
    "# Crear un objeto OrdinalEncoder\n",
    "encoder = OrdinalEncoder()\n",
    "\n",
    "# Ajustar el codificador a las características categóricas del conjunto de datos completo (vehicles)\n",
    "# encoder.fit(vehicles[categorical_features])\n",
    "\n",
    "# Aplicar el ordinal encoding a las características categóricas del conjunto de entrenamiento y prueba\n",
    "\n",
    "# train_df_encoded = encoder.transform(vehicles[categorical_features])\n",
    "# test_df_encoded = encoder.transform(vehicles[categorical_features])\n",
    "encoder.fit(train_df[categorical_features])\n",
    "\n",
    "train_df_encoded = train_df.copy()\n",
    "train_df_encoded[categorical_features] = encoder.transform(train_df_encoded[categorical_features])\n",
    "\n",
    "encoder.fit(test_df[categorical_features])\n",
    "\n",
    "test_df_encoded = test_df.copy()\n",
    "test_df_encoded[categorical_features] = encoder.transform(test_df_encoded[categorical_features])\n",
    "\n",
    "# Convertir las matrices resultantes en DataFrames de pandas\n",
    "# train_df_encoded = pd.DataFrame(train_df_encoded, columns=categorical_features)\n",
    "# test_df_encoded = pd.DataFrame(test_df_encoded, columns=categorical_features)"
   ]
  },
  {
   "cell_type": "code",
   "execution_count": 25,
   "metadata": {},
   "outputs": [
    {
     "data": {
      "text/html": [
       "<div>\n",
       "<style scoped>\n",
       "    .dataframe tbody tr th:only-of-type {\n",
       "        vertical-align: middle;\n",
       "    }\n",
       "\n",
       "    .dataframe tbody tr th {\n",
       "        vertical-align: top;\n",
       "    }\n",
       "\n",
       "    .dataframe thead th {\n",
       "        text-align: right;\n",
       "    }\n",
       "</style>\n",
       "<table border=\"1\" class=\"dataframe\">\n",
       "  <thead>\n",
       "    <tr style=\"text-align: right;\">\n",
       "      <th></th>\n",
       "      <th>price</th>\n",
       "      <th>vehicle_type</th>\n",
       "      <th>registration_year</th>\n",
       "      <th>gearbox</th>\n",
       "      <th>power</th>\n",
       "      <th>model</th>\n",
       "      <th>mileage</th>\n",
       "      <th>fuel_type</th>\n",
       "      <th>brand</th>\n",
       "      <th>not_repaired</th>\n",
       "    </tr>\n",
       "  </thead>\n",
       "  <tbody>\n",
       "    <tr>\n",
       "      <th>343747</th>\n",
       "      <td>15000</td>\n",
       "      <td>4.0</td>\n",
       "      <td>2013</td>\n",
       "      <td>1.0</td>\n",
       "      <td>131</td>\n",
       "      <td>42.0</td>\n",
       "      <td>50000</td>\n",
       "      <td>2.0</td>\n",
       "      <td>24.0</td>\n",
       "      <td>1.0</td>\n",
       "    </tr>\n",
       "    <tr>\n",
       "      <th>253248</th>\n",
       "      <td>16200</td>\n",
       "      <td>2.0</td>\n",
       "      <td>2007</td>\n",
       "      <td>1.0</td>\n",
       "      <td>265</td>\n",
       "      <td>248.0</td>\n",
       "      <td>150000</td>\n",
       "      <td>6.0</td>\n",
       "      <td>2.0</td>\n",
       "      <td>0.0</td>\n",
       "    </tr>\n",
       "    <tr>\n",
       "      <th>285181</th>\n",
       "      <td>1500</td>\n",
       "      <td>8.0</td>\n",
       "      <td>2003</td>\n",
       "      <td>1.0</td>\n",
       "      <td>131</td>\n",
       "      <td>154.0</td>\n",
       "      <td>150000</td>\n",
       "      <td>2.0</td>\n",
       "      <td>10.0</td>\n",
       "      <td>0.0</td>\n",
       "    </tr>\n",
       "    <tr>\n",
       "      <th>139426</th>\n",
       "      <td>7300</td>\n",
       "      <td>0.0</td>\n",
       "      <td>2007</td>\n",
       "      <td>1.0</td>\n",
       "      <td>170</td>\n",
       "      <td>221.0</td>\n",
       "      <td>150000</td>\n",
       "      <td>2.0</td>\n",
       "      <td>38.0</td>\n",
       "      <td>0.0</td>\n",
       "    </tr>\n",
       "    <tr>\n",
       "      <th>165930</th>\n",
       "      <td>1690</td>\n",
       "      <td>4.0</td>\n",
       "      <td>2000</td>\n",
       "      <td>1.0</td>\n",
       "      <td>105</td>\n",
       "      <td>116.0</td>\n",
       "      <td>150000</td>\n",
       "      <td>6.0</td>\n",
       "      <td>38.0</td>\n",
       "      <td>0.0</td>\n",
       "    </tr>\n",
       "  </tbody>\n",
       "</table>\n",
       "</div>"
      ],
      "text/plain": [
       "        price  vehicle_type  registration_year  gearbox  power  model  \\\n",
       "343747  15000           4.0               2013      1.0    131   42.0   \n",
       "253248  16200           2.0               2007      1.0    265  248.0   \n",
       "285181   1500           8.0               2003      1.0    131  154.0   \n",
       "139426   7300           0.0               2007      1.0    170  221.0   \n",
       "165930   1690           4.0               2000      1.0    105  116.0   \n",
       "\n",
       "        mileage  fuel_type  brand  not_repaired  \n",
       "343747    50000        2.0   24.0           1.0  \n",
       "253248   150000        6.0    2.0           0.0  \n",
       "285181   150000        2.0   10.0           0.0  \n",
       "139426   150000        2.0   38.0           0.0  \n",
       "165930   150000        6.0   38.0           0.0  "
      ]
     },
     "execution_count": 25,
     "metadata": {},
     "output_type": "execute_result"
    }
   ],
   "source": [
    "train_df_encoded.head()"
   ]
  },
  {
   "cell_type": "code",
   "execution_count": 26,
   "metadata": {},
   "outputs": [
    {
     "data": {
      "text/plain": [
       "0"
      ]
     },
     "execution_count": 26,
     "metadata": {},
     "output_type": "execute_result"
    }
   ],
   "source": [
    "# Verificamos valores nulos\n",
    "train_df_encoded.isna().sum().sum()"
   ]
  },
  {
   "cell_type": "code",
   "execution_count": 27,
   "metadata": {},
   "outputs": [
    {
     "data": {
      "text/plain": [
       "0"
      ]
     },
     "execution_count": 27,
     "metadata": {},
     "output_type": "execute_result"
    }
   ],
   "source": [
    "# Llenar los valores faltantes con la etiqueta \"unknown\"\n",
    "train_df_encoded = train_df_encoded.fillna(-100) \n",
    "\n",
    "# Verificamos valores nulos\n",
    "train_df_encoded.isna().sum().sum()"
   ]
  },
  {
   "cell_type": "code",
   "execution_count": 28,
   "metadata": {},
   "outputs": [
    {
     "data": {
      "text/plain": [
       "0"
      ]
     },
     "execution_count": 28,
     "metadata": {},
     "output_type": "execute_result"
    }
   ],
   "source": [
    "# Verificamos valores nulos\n",
    "test_df_encoded.isna().sum().sum()"
   ]
  },
  {
   "cell_type": "code",
   "execution_count": 29,
   "metadata": {},
   "outputs": [
    {
     "data": {
      "text/plain": [
       "0"
      ]
     },
     "execution_count": 29,
     "metadata": {},
     "output_type": "execute_result"
    }
   ],
   "source": [
    "# Llenar los valores faltantes con la etiqueta \"unknown\"\n",
    "test_df_encoded = test_df_encoded.fillna(-100)\n",
    "\n",
    "# Verificamos valores nulos\n",
    "test_df_encoded.isna().sum().sum()"
   ]
  },
  {
   "cell_type": "code",
   "execution_count": 30,
   "metadata": {
    "scrolled": true
   },
   "outputs": [],
   "source": [
    "# train_df_encoded = pd.concat([vehicles.drop(columns=categorical_features), train_df_encoded], axis=1)\n",
    "# train_df_encoded.head()"
   ]
  },
  {
   "cell_type": "code",
   "execution_count": 31,
   "metadata": {
    "scrolled": false
   },
   "outputs": [],
   "source": [
    "# test_df_encoded = pd.concat([vehicles.drop(columns=categorical_features), test_df_encoded], axis=1)\n",
    "# test_df_encoded.head()"
   ]
  },
  {
   "cell_type": "code",
   "execution_count": 32,
   "metadata": {},
   "outputs": [],
   "source": [
    "# # Verificamos cantidad de columnas\n",
    "# train_df_encoded.shape"
   ]
  },
  {
   "cell_type": "code",
   "execution_count": 33,
   "metadata": {},
   "outputs": [],
   "source": [
    "# # Verificamos cantidad de columnas\n",
    "# test_df_encoded.shape"
   ]
  },
  {
   "cell_type": "markdown",
   "metadata": {},
   "source": [
    "# OHE encoding"
   ]
  },
  {
   "cell_type": "code",
   "execution_count": 34,
   "metadata": {},
   "outputs": [],
   "source": [
    "# Definir las características categóricas excluyendo 'model'\n",
    "categorical_features = [col for col in vehicles.columns if vehicles[col].dtype == 'object' and col != 'model']\n",
    "\n",
    "# tus características (matriz de datos) sin la columna 'model'\n",
    "cat_features_x = vehicles.drop(columns=categorical_features)\n",
    "\n",
    "# Aplicar OHE de forma más directa\n",
    "train_df_ohe = pd.get_dummies(train_df, columns=categorical_features)\n",
    "test_df_ohe = pd.get_dummies(test_df, columns=categorical_features)\n",
    "\n",
    "# Eliminar la variable model de la tabla debido a que no está codificada y no es factible aplicarle OHE\n",
    "test_df_ohe = test_df_ohe.drop(columns = 'model')\n",
    "train_df_ohe = train_df_ohe.drop(columns = 'model')"
   ]
  },
  {
   "cell_type": "code",
   "execution_count": 35,
   "metadata": {},
   "outputs": [],
   "source": [
    "# # One-Hot Encoding\n",
    "# encoder = OneHotEncoder(drop='first', sparse=False)\n",
    "\n",
    "# # Ajusta el codificador a las características categóricas del conjunto de entrenamiento\n",
    "# encoder.fit(vehicles[categorical_features])\n",
    "\n",
    "# # Transformar las características categóricas\n",
    "# train_df_ohe = encoder.transform(vehicles[categorical_features].fillna('unknown'))\n",
    "# test_df_ohe = encoder.transform(vehicles[categorical_features].fillna('unknown'))\n",
    "\n",
    "# # Obtener los nombres de las nuevas columnas\n",
    "# ohe_columns = encoder.get_feature_names(categorical_features)\n",
    "\n",
    "# # Convertir las matrices resultantes en DataFrames de pandas\n",
    "# train_df_ohe = pd.DataFrame(train_df_ohe, columns=ohe_columns)\n",
    "# test_df_ohe = pd.DataFrame(test_df_ohe, columns=ohe_columns)\n"
   ]
  },
  {
   "cell_type": "code",
   "execution_count": 36,
   "metadata": {
    "scrolled": true
   },
   "outputs": [
    {
     "data": {
      "text/plain": [
       "(251315, 67)"
      ]
     },
     "execution_count": 36,
     "metadata": {},
     "output_type": "execute_result"
    }
   ],
   "source": [
    "train_df_ohe.shape"
   ]
  },
  {
   "cell_type": "code",
   "execution_count": 37,
   "metadata": {
    "scrolled": true
   },
   "outputs": [
    {
     "data": {
      "text/plain": [
       "(62829, 67)"
      ]
     },
     "execution_count": 37,
     "metadata": {},
     "output_type": "execute_result"
    }
   ],
   "source": [
    "test_df_ohe.shape"
   ]
  },
  {
   "cell_type": "code",
   "execution_count": 38,
   "metadata": {},
   "outputs": [],
   "source": [
    "# # Verificamos los datos codificados\n",
    "\n",
    "# # vehicles' es tu DataFrame original\n",
    "# train_df, test_df = train_test_split(vehicles, test_size=0.2, random_state=88)\n",
    "\n",
    "# # Aplicar la codificación One-Hot a las características categóricas\n",
    "# encoder = OneHotEncoder(handle_unknown='ignore', sparse=False)\n",
    "\n",
    "# # Ajustar el codificador solo en el conjunto de entrenamiento\n",
    "# train_encoded = encoder.fit_transform(train_df[categorical_features])\n",
    "# test_encoded = encoder.transform(test_df[categorical_features])\n",
    "\n",
    "# # Convertir a DataFrame y agregar de nuevo las columnas codificadas\n",
    "# train_encoded_df = pd.DataFrame(train_encoded, columns=encoder.get_feature_names(categorical_features))\n",
    "# test_encoded_df = pd.DataFrame(test_encoded, columns=encoder.get_feature_names(categorical_features))\n",
    "\n",
    "# # Concatenar las columnas codificadas con los DataFrames originales\n",
    "# train_df = pd.concat([train_df.reset_index(drop=True), train_encoded_df], axis=1)\n",
    "# test_df = pd.concat([test_df.reset_index(drop=True), test_encoded_df], axis=1)\n",
    "\n",
    "# # Eliminar las columnas originales categóricas si ya no son necesarias\n",
    "# train_df.drop(['vehicle_type', 'gearbox', 'fuel_type', 'brand', 'not_repaired', 'model'], axis=1, inplace=True)\n",
    "# test_df.drop(['vehicle_type', 'gearbox', 'fuel_type', 'brand', 'not_repaired', 'model'], axis=1, inplace=True)"
   ]
  },
  {
   "cell_type": "code",
   "execution_count": 39,
   "metadata": {},
   "outputs": [
    {
     "name": "stdout",
     "output_type": "stream",
     "text": [
      "(251315, 10)\n",
      "(62829, 10)\n"
     ]
    }
   ],
   "source": [
    "print(train_df_encoded.shape)\n",
    "print(test_df_encoded.shape)"
   ]
  },
  {
   "cell_type": "code",
   "execution_count": 40,
   "metadata": {},
   "outputs": [
    {
     "name": "stdout",
     "output_type": "stream",
     "text": [
      "(251315, 67)\n",
      "(62829, 67)\n"
     ]
    }
   ],
   "source": [
    "print(train_df_ohe.shape)\n",
    "print(test_df_ohe.shape)"
   ]
  },
  {
   "cell_type": "markdown",
   "metadata": {},
   "source": [
    "## Análisis del modelo"
   ]
  },
  {
   "cell_type": "markdown",
   "metadata": {},
   "source": [
    "### Modelo CatBoostRegressor"
   ]
  },
  {
   "cell_type": "code",
   "execution_count": 41,
   "metadata": {},
   "outputs": [
    {
     "data": {
      "text/plain": [
       "'1.0.3'"
      ]
     },
     "execution_count": 41,
     "metadata": {},
     "output_type": "execute_result"
    }
   ],
   "source": [
    "# Verificamos la versión y la documentación \n",
    "cb.__version__"
   ]
  },
  {
   "cell_type": "code",
   "execution_count": 42,
   "metadata": {},
   "outputs": [],
   "source": [
    "# Entrenamos el modelo CatBoostRegressor\n",
    "model_cb = cb.CatBoostRegressor(loss_function='RMSE', iterations=50)"
   ]
  },
  {
   "cell_type": "code",
   "execution_count": 43,
   "metadata": {
    "scrolled": true
   },
   "outputs": [
    {
     "name": "stdout",
     "output_type": "stream",
     "text": [
      "Learning rate set to 0.5\n",
      "0:\tlearn: 3327.1717496\ttotal: 104ms\tremaining: 5.09s\n",
      "1:\tlearn: 2739.1250486\ttotal: 159ms\tremaining: 3.81s\n",
      "2:\tlearn: 2475.0432885\ttotal: 211ms\tremaining: 3.31s\n",
      "3:\tlearn: 2321.2642328\ttotal: 259ms\tremaining: 2.98s\n",
      "4:\tlearn: 2245.0367066\ttotal: 306ms\tremaining: 2.75s\n",
      "5:\tlearn: 2192.5764065\ttotal: 355ms\tremaining: 2.6s\n",
      "6:\tlearn: 2147.0547773\ttotal: 404ms\tremaining: 2.48s\n",
      "7:\tlearn: 2122.6094267\ttotal: 450ms\tremaining: 2.36s\n",
      "8:\tlearn: 2103.4015206\ttotal: 497ms\tremaining: 2.27s\n",
      "9:\tlearn: 2062.3072762\ttotal: 551ms\tremaining: 2.2s\n",
      "10:\tlearn: 2041.2662164\ttotal: 598ms\tremaining: 2.12s\n",
      "11:\tlearn: 2024.0939709\ttotal: 658ms\tremaining: 2.08s\n",
      "12:\tlearn: 2013.6973752\ttotal: 704ms\tremaining: 2s\n",
      "13:\tlearn: 1999.7281602\ttotal: 754ms\tremaining: 1.94s\n",
      "14:\tlearn: 1990.6031913\ttotal: 805ms\tremaining: 1.88s\n",
      "15:\tlearn: 1982.4059704\ttotal: 857ms\tremaining: 1.82s\n",
      "16:\tlearn: 1972.0698994\ttotal: 903ms\tremaining: 1.75s\n",
      "17:\tlearn: 1963.3756313\ttotal: 955ms\tremaining: 1.7s\n",
      "18:\tlearn: 1953.7001905\ttotal: 1.01s\tremaining: 1.65s\n",
      "19:\tlearn: 1947.9785302\ttotal: 1.06s\tremaining: 1.59s\n",
      "20:\tlearn: 1940.3478283\ttotal: 1.11s\tremaining: 1.53s\n",
      "21:\tlearn: 1935.5020535\ttotal: 1.16s\tremaining: 1.48s\n",
      "22:\tlearn: 1927.7731689\ttotal: 1.21s\tremaining: 1.42s\n",
      "23:\tlearn: 1922.3854571\ttotal: 1.25s\tremaining: 1.36s\n",
      "24:\tlearn: 1917.7218673\ttotal: 1.3s\tremaining: 1.3s\n",
      "25:\tlearn: 1912.2213030\ttotal: 1.35s\tremaining: 1.24s\n",
      "26:\tlearn: 1908.8798351\ttotal: 1.39s\tremaining: 1.19s\n",
      "27:\tlearn: 1905.1090006\ttotal: 1.44s\tremaining: 1.13s\n",
      "28:\tlearn: 1899.0732119\ttotal: 1.5s\tremaining: 1.08s\n",
      "29:\tlearn: 1894.7472581\ttotal: 1.55s\tremaining: 1.03s\n",
      "30:\tlearn: 1888.8190327\ttotal: 1.6s\tremaining: 980ms\n",
      "31:\tlearn: 1884.5940037\ttotal: 1.66s\tremaining: 932ms\n",
      "32:\tlearn: 1880.5028067\ttotal: 1.7s\tremaining: 878ms\n",
      "33:\tlearn: 1876.7237524\ttotal: 1.75s\tremaining: 825ms\n",
      "34:\tlearn: 1873.9311741\ttotal: 1.8s\tremaining: 770ms\n",
      "35:\tlearn: 1868.6339769\ttotal: 1.85s\tremaining: 719ms\n",
      "36:\tlearn: 1861.3886472\ttotal: 1.91s\tremaining: 670ms\n",
      "37:\tlearn: 1857.7543875\ttotal: 1.96s\tremaining: 620ms\n",
      "38:\tlearn: 1854.5796563\ttotal: 2.02s\tremaining: 568ms\n",
      "39:\tlearn: 1852.0048726\ttotal: 2.06s\tremaining: 515ms\n",
      "40:\tlearn: 1849.1726334\ttotal: 2.12s\tremaining: 464ms\n",
      "41:\tlearn: 1845.9043230\ttotal: 2.17s\tremaining: 413ms\n",
      "42:\tlearn: 1843.1800306\ttotal: 2.21s\tremaining: 360ms\n",
      "43:\tlearn: 1840.7561049\ttotal: 2.26s\tremaining: 308ms\n",
      "44:\tlearn: 1838.1747633\ttotal: 2.3s\tremaining: 256ms\n",
      "45:\tlearn: 1835.4972272\ttotal: 2.36s\tremaining: 205ms\n",
      "46:\tlearn: 1833.1484286\ttotal: 2.4s\tremaining: 153ms\n",
      "47:\tlearn: 1831.1896135\ttotal: 2.45s\tremaining: 102ms\n",
      "48:\tlearn: 1828.3884969\ttotal: 2.5s\tremaining: 51.1ms\n",
      "49:\tlearn: 1826.0149570\ttotal: 2.56s\tremaining: 0us\n",
      "\n",
      "RMSE_Catboost performance:\n",
      "1898.5014\n",
      "\n",
      "CPU times: user 2.69 s, sys: 27.9 ms, total: 2.72 s\n",
      "Wall time: 2.94 s\n"
     ]
    }
   ],
   "source": [
    "%%time\n",
    "\n",
    "# utilizamos train_df_encoded[features] y train_df_encoded[target] para entrenar modelo \n",
    "model_cb.fit(\n",
    "    train_df_encoded[features].fillna(-100), # Rellenamos valores nulos con valor -100 fuera del rango para no afectarlo.\n",
    "    train_df_encoded[target])\n",
    "\n",
    "# utilizamos test_df  para la predicción \n",
    "preds_cb = model_cb.predict(test_df_encoded.fillna(-100))\n",
    "\n",
    "# Calcular el error cuadratico medio, calcular cuadrada y redondeado a 4 decimales\n",
    "print(f\"\"\"\n",
    "RMSE_Catboost performance:\n",
    "{round(mean_squared_error(test_df_encoded[target], preds_cb)**0.5, 4)}\n",
    "\"\"\")"
   ]
  },
  {
   "cell_type": "markdown",
   "metadata": {},
   "source": [
    "### Modelo LinearRegression"
   ]
  },
  {
   "cell_type": "code",
   "execution_count": null,
   "metadata": {},
   "outputs": [],
   "source": [
    "train_df_ohe.drop(columns = 'price')"
   ]
  },
  {
   "cell_type": "code",
   "execution_count": null,
   "metadata": {},
   "outputs": [],
   "source": [
    "# Ajustar el modelo\n",
    "model_lr = LinearRegression()\n",
    "model_lr.fit(train_df_ohe.drop(columns = 'price'), train_df_ohe['price'])  "
   ]
  },
  {
   "cell_type": "code",
   "execution_count": null,
   "metadata": {},
   "outputs": [],
   "source": [
    "%%time\n",
    "\n",
    "# Ajustar el modelo\n",
    "model_lr = LinearRegression()\n",
    "model_lr.fit(train_df_ohe.drop(columns = 'price'), train_df_ohe['price'])  \n",
    "\n",
    "# Utilizar test_df para la predicción\n",
    "preds_lr = model_lr.predict(test_df_ohe.drop(columns = 'price'))\n",
    "\n",
    "# Calcular el error cuadrático medio, calcular raíz cuadrada y redondear a 4 decimales\n",
    "rmse_lr = round(mean_squared_error(test_df_ohe['price'], preds_lr) ** 0.5, 4)\n",
    "print(f\"RMSE_LinearRegression:\\n{rmse_lr}\")"
   ]
  },
  {
   "cell_type": "markdown",
   "metadata": {},
   "source": [
    "### Modelo RandomForestRegressor"
   ]
  },
  {
   "cell_type": "code",
   "execution_count": null,
   "metadata": {},
   "outputs": [],
   "source": [
    "%%time\n",
    "\n",
    "# Modelo de Random Forest\n",
    "model_rf = RandomForestRegressor(random_state=88)\n",
    "model_rf.fit(train_df_ohe.drop(columns = 'price'), train_df_ohe['price'])  \n",
    "\n",
    "# utilizamos test_df para la predicción \n",
    "preds_rf = model_rf.predict(test_df_ohe.drop(columns = 'price'))\n",
    "\n",
    "# Calcular el error cuadratico medio, calcular cuadrada y redondeado a 4 decimales\n",
    "print(f\"\"\"\n",
    "RMSE_RandomForestRegressor:\n",
    "{round(mean_squared_error(test_df_ohe['price'], preds_rf)**0.5, 4)}\n",
    "\"\"\")"
   ]
  },
  {
   "cell_type": "markdown",
   "metadata": {},
   "source": [
    "## Conclusiones\n",
    "- El mejor modelo de entrenamiento es Catboost performance para el analisis en tiempo, velocidad y exactitud."
   ]
  },
  {
   "cell_type": "markdown",
   "metadata": {},
   "source": [
    "###  RMSE_LinearRegression: 3352.4402\n",
    "\n",
    "CPU times: user 2.31 s, sys: 446 ms, total: 2.76 s\n",
    "Wall time: 2.71 s\n",
    "\n",
    "### RMSE_Catboost performance: 1898.5014\n",
    "\n",
    "CPU times: user 2.78 s, sys: 8.86 ms, total: 2.79 s\n",
    "Wall time: 3.01 s\n",
    "\n",
    "### RMSE_RandomForestRegressor: 3569.0812\n",
    "\n",
    "CPU times: user 3min 10s, sys: 43.4 ms, total: 3min 10s\n",
    "Wall time: 3min 11s\n"
   ]
  },
  {
   "cell_type": "markdown",
   "metadata": {},
   "source": [
    "# Lista de control"
   ]
  },
  {
   "cell_type": "markdown",
   "metadata": {},
   "source": [
    "Escribe 'x' para verificar. Luego presiona Shift+Enter"
   ]
  },
  {
   "cell_type": "markdown",
   "metadata": {},
   "source": [
    "- [x]  Jupyter Notebook está abierto\n",
    "- [x]  El código no tiene errores\n",
    "- [x]  Las celdas con el código han sido colocadas en orden de ejecución\n",
    "- [x]  Los datos han sido descargados y preparados\n",
    "- [x]  Los modelos han sido entrenados\n",
    "- [x]  Se realizó el análisis de velocidad y calidad de los modelos"
   ]
  },
  {
   "cell_type": "code",
   "execution_count": null,
   "metadata": {},
   "outputs": [],
   "source": []
  },
  {
   "cell_type": "code",
   "execution_count": null,
   "metadata": {},
   "outputs": [],
   "source": []
  }
 ],
 "metadata": {
  "ExecuteTimeLog": [
   {
    "duration": 4,
    "start_time": "2024-07-11T23:37:16.060Z"
   },
   {
    "duration": 5423,
    "start_time": "2024-07-11T23:38:01.411Z"
   },
   {
    "duration": 794,
    "start_time": "2024-07-11T23:39:03.679Z"
   },
   {
    "duration": 39,
    "start_time": "2024-07-11T23:39:07.918Z"
   },
   {
    "duration": 17,
    "start_time": "2024-07-11T23:40:02.357Z"
   },
   {
    "duration": 155,
    "start_time": "2024-07-11T23:40:13.821Z"
   },
   {
    "duration": 409,
    "start_time": "2024-07-11T23:40:40.530Z"
   },
   {
    "duration": 6,
    "start_time": "2024-07-11T23:40:50.949Z"
   },
   {
    "duration": 716,
    "start_time": "2024-07-11T23:42:53.522Z"
   },
   {
    "duration": 6,
    "start_time": "2024-07-11T23:42:54.288Z"
   },
   {
    "duration": 1490,
    "start_time": "2024-07-11T23:42:55.579Z"
   },
   {
    "duration": 0,
    "start_time": "2024-07-11T23:42:57.072Z"
   },
   {
    "duration": 120,
    "start_time": "2024-07-11T23:43:03.175Z"
   },
   {
    "duration": 25,
    "start_time": "2024-07-11T23:43:17.011Z"
   },
   {
    "duration": 258,
    "start_time": "2024-07-11T23:44:05.229Z"
   },
   {
    "duration": 6,
    "start_time": "2024-07-11T23:44:15.728Z"
   },
   {
    "duration": 9,
    "start_time": "2024-07-11T23:44:26.539Z"
   },
   {
    "duration": 75,
    "start_time": "2024-07-11T23:44:52.581Z"
   },
   {
    "duration": 73,
    "start_time": "2024-07-11T23:45:34.098Z"
   },
   {
    "duration": 110,
    "start_time": "2024-07-11T23:45:42.407Z"
   },
   {
    "duration": 6,
    "start_time": "2024-07-11T23:46:11.720Z"
   },
   {
    "duration": 111,
    "start_time": "2024-07-11T23:46:12.431Z"
   },
   {
    "duration": 106,
    "start_time": "2024-07-11T23:46:32.348Z"
   },
   {
    "duration": 111,
    "start_time": "2024-07-11T23:47:56.758Z"
   },
   {
    "duration": 8,
    "start_time": "2024-07-11T23:47:57.057Z"
   },
   {
    "duration": 8,
    "start_time": "2024-07-11T23:48:03.685Z"
   },
   {
    "duration": 6,
    "start_time": "2024-07-11T23:53:37.968Z"
   },
   {
    "duration": 33,
    "start_time": "2024-07-11T23:53:38.686Z"
   },
   {
    "duration": 7,
    "start_time": "2024-07-11T23:53:40.157Z"
   },
   {
    "duration": 40,
    "start_time": "2024-07-11T23:54:06.256Z"
   },
   {
    "duration": 6,
    "start_time": "2024-07-11T23:54:06.743Z"
   },
   {
    "duration": 7,
    "start_time": "2024-07-11T23:54:14.310Z"
   },
   {
    "duration": 697,
    "start_time": "2024-07-11T23:54:34.252Z"
   },
   {
    "duration": 7,
    "start_time": "2024-07-11T23:54:36.609Z"
   },
   {
    "duration": 33,
    "start_time": "2024-07-11T23:54:37.382Z"
   },
   {
    "duration": 6,
    "start_time": "2024-07-11T23:54:38.224Z"
   },
   {
    "duration": 142,
    "start_time": "2024-07-11T23:54:45.733Z"
   },
   {
    "duration": 7,
    "start_time": "2024-07-11T23:55:50.168Z"
   },
   {
    "duration": 31,
    "start_time": "2024-07-11T23:56:08.966Z"
   },
   {
    "duration": 32,
    "start_time": "2024-07-11T23:56:20.657Z"
   },
   {
    "duration": 1599,
    "start_time": "2024-07-11T23:56:56.192Z"
   },
   {
    "duration": 711,
    "start_time": "2024-07-11T23:56:57.795Z"
   },
   {
    "duration": 45,
    "start_time": "2024-07-11T23:56:58.509Z"
   },
   {
    "duration": 63,
    "start_time": "2024-07-11T23:56:58.558Z"
   },
   {
    "duration": 146,
    "start_time": "2024-07-11T23:56:58.625Z"
   },
   {
    "duration": 51,
    "start_time": "2024-07-11T23:56:58.774Z"
   },
   {
    "duration": 32,
    "start_time": "2024-07-11T23:58:14.700Z"
   },
   {
    "duration": 1543,
    "start_time": "2024-07-12T00:03:14.976Z"
   },
   {
    "duration": 4,
    "start_time": "2024-07-12T00:03:59.418Z"
   },
   {
    "duration": 436,
    "start_time": "2024-07-12T00:05:18.057Z"
   },
   {
    "duration": 140,
    "start_time": "2024-07-12T00:06:20.315Z"
   },
   {
    "duration": 128,
    "start_time": "2024-07-12T00:11:47.382Z"
   },
   {
    "duration": 124,
    "start_time": "2024-07-12T00:12:14.328Z"
   },
   {
    "duration": 4,
    "start_time": "2024-07-12T00:12:36.049Z"
   },
   {
    "duration": 4,
    "start_time": "2024-07-12T00:12:42.785Z"
   },
   {
    "duration": 18,
    "start_time": "2024-07-12T00:17:52.947Z"
   },
   {
    "duration": 148,
    "start_time": "2024-07-12T00:18:24.264Z"
   },
   {
    "duration": 34,
    "start_time": "2024-07-12T00:24:04.341Z"
   },
   {
    "duration": 3,
    "start_time": "2024-07-12T00:24:51.457Z"
   },
   {
    "duration": 4,
    "start_time": "2024-07-12T01:01:32.245Z"
   },
   {
    "duration": 4,
    "start_time": "2024-07-12T01:01:55.079Z"
   },
   {
    "duration": 697,
    "start_time": "2024-07-12T01:01:56.329Z"
   },
   {
    "duration": 33,
    "start_time": "2024-07-12T01:01:57.380Z"
   },
   {
    "duration": 18,
    "start_time": "2024-07-12T01:02:02.069Z"
   },
   {
    "duration": 144,
    "start_time": "2024-07-12T01:02:06.264Z"
   },
   {
    "duration": 136,
    "start_time": "2024-07-12T01:02:13.171Z"
   },
   {
    "duration": 5,
    "start_time": "2024-07-12T01:06:14.079Z"
   },
   {
    "duration": 5,
    "start_time": "2024-07-12T01:06:16.643Z"
   },
   {
    "duration": 18,
    "start_time": "2024-07-12T01:06:29.780Z"
   },
   {
    "duration": 17,
    "start_time": "2024-07-12T01:06:36.991Z"
   },
   {
    "duration": 7,
    "start_time": "2024-07-12T01:06:37.516Z"
   },
   {
    "duration": 18,
    "start_time": "2024-07-12T01:06:38.084Z"
   },
   {
    "duration": 38,
    "start_time": "2024-07-12T01:06:53.589Z"
   },
   {
    "duration": 137,
    "start_time": "2024-07-12T01:07:00.299Z"
   },
   {
    "duration": 7,
    "start_time": "2024-07-12T01:09:44.536Z"
   },
   {
    "duration": 34,
    "start_time": "2024-07-12T01:09:45.341Z"
   },
   {
    "duration": 138,
    "start_time": "2024-07-12T01:09:46.249Z"
   },
   {
    "duration": 3,
    "start_time": "2024-07-12T01:12:13.137Z"
   },
   {
    "duration": 22,
    "start_time": "2024-07-12T01:15:08.246Z"
   },
   {
    "duration": 19,
    "start_time": "2024-07-12T01:15:14.045Z"
   },
   {
    "duration": 32,
    "start_time": "2024-07-12T01:15:30.334Z"
   },
   {
    "duration": 33,
    "start_time": "2024-07-12T01:15:31.082Z"
   },
   {
    "duration": 33,
    "start_time": "2024-07-12T01:15:49.130Z"
   },
   {
    "duration": 32,
    "start_time": "2024-07-12T01:15:49.940Z"
   },
   {
    "duration": 34,
    "start_time": "2024-07-12T01:15:50.685Z"
   },
   {
    "duration": 5,
    "start_time": "2024-07-12T01:17:22.251Z"
   },
   {
    "duration": 32,
    "start_time": "2024-07-12T01:17:22.777Z"
   },
   {
    "duration": 30,
    "start_time": "2024-07-12T01:17:23.470Z"
   },
   {
    "duration": 38,
    "start_time": "2024-07-12T01:17:24.415Z"
   },
   {
    "duration": 3,
    "start_time": "2024-07-12T01:18:29.105Z"
   },
   {
    "duration": 4,
    "start_time": "2024-07-12T01:19:37.654Z"
   },
   {
    "duration": 1144,
    "start_time": "2024-07-12T01:19:50.261Z"
   },
   {
    "duration": 745,
    "start_time": "2024-07-12T01:19:51.408Z"
   },
   {
    "duration": 57,
    "start_time": "2024-07-12T01:19:52.156Z"
   },
   {
    "duration": 167,
    "start_time": "2024-07-12T01:19:52.216Z"
   },
   {
    "duration": 33,
    "start_time": "2024-07-12T01:19:52.387Z"
   },
   {
    "duration": 5,
    "start_time": "2024-07-12T01:19:52.423Z"
   },
   {
    "duration": 29,
    "start_time": "2024-07-12T01:19:52.430Z"
   },
   {
    "duration": 60,
    "start_time": "2024-07-12T01:19:52.462Z"
   },
   {
    "duration": 26,
    "start_time": "2024-07-12T01:19:52.526Z"
   },
   {
    "duration": 158,
    "start_time": "2024-07-12T01:19:52.555Z"
   },
   {
    "duration": 3,
    "start_time": "2024-07-12T01:19:52.717Z"
   },
   {
    "duration": 4,
    "start_time": "2024-07-12T01:19:52.723Z"
   },
   {
    "duration": 186,
    "start_time": "2024-07-12T01:19:52.731Z"
   },
   {
    "duration": 1007,
    "start_time": "2024-07-12T01:19:52.922Z"
   },
   {
    "duration": 39,
    "start_time": "2024-07-12T01:20:36.411Z"
   },
   {
    "duration": 178,
    "start_time": "2024-07-12T01:21:04.721Z"
   },
   {
    "duration": 5,
    "start_time": "2024-07-12T01:21:21.845Z"
   },
   {
    "duration": 27,
    "start_time": "2024-07-12T01:22:06.382Z"
   },
   {
    "duration": 101,
    "start_time": "2024-07-12T01:22:20.904Z"
   },
   {
    "duration": 28,
    "start_time": "2024-07-12T01:26:09.939Z"
   },
   {
    "duration": 25,
    "start_time": "2024-07-12T01:26:45.750Z"
   },
   {
    "duration": 26,
    "start_time": "2024-07-12T01:27:12.071Z"
   },
   {
    "duration": 27,
    "start_time": "2024-07-12T01:27:12.977Z"
   },
   {
    "duration": 23,
    "start_time": "2024-07-12T01:28:02.166Z"
   },
   {
    "duration": 5,
    "start_time": "2024-07-12T01:28:04.345Z"
   },
   {
    "duration": 25,
    "start_time": "2024-07-12T01:28:27.149Z"
   },
   {
    "duration": 6,
    "start_time": "2024-07-12T01:28:27.788Z"
   },
   {
    "duration": 7,
    "start_time": "2024-07-12T01:28:43.017Z"
   },
   {
    "duration": 41,
    "start_time": "2024-07-12T01:38:53.781Z"
   },
   {
    "duration": 146,
    "start_time": "2024-07-12T01:39:09.066Z"
   },
   {
    "duration": 28,
    "start_time": "2024-07-12T01:39:09.660Z"
   },
   {
    "duration": 4,
    "start_time": "2024-07-12T01:39:17.658Z"
   },
   {
    "duration": 780,
    "start_time": "2024-07-12T01:39:23.875Z"
   },
   {
    "duration": 11,
    "start_time": "2024-07-12T01:40:40.766Z"
   },
   {
    "duration": 36,
    "start_time": "2024-07-12T01:40:58.072Z"
   },
   {
    "duration": 42,
    "start_time": "2024-07-12T01:41:55.945Z"
   },
   {
    "duration": 17,
    "start_time": "2024-07-12T01:41:56.633Z"
   },
   {
    "duration": 1260,
    "start_time": "2024-07-12T01:45:23.216Z"
   },
   {
    "duration": 714,
    "start_time": "2024-07-12T01:45:24.479Z"
   },
   {
    "duration": 46,
    "start_time": "2024-07-12T01:45:25.196Z"
   },
   {
    "duration": 151,
    "start_time": "2024-07-12T01:45:25.246Z"
   },
   {
    "duration": 37,
    "start_time": "2024-07-12T01:45:25.400Z"
   },
   {
    "duration": 6,
    "start_time": "2024-07-12T01:45:25.440Z"
   },
   {
    "duration": 68,
    "start_time": "2024-07-12T01:45:25.449Z"
   },
   {
    "duration": 25,
    "start_time": "2024-07-12T01:45:25.520Z"
   },
   {
    "duration": 5,
    "start_time": "2024-07-12T01:45:25.548Z"
   },
   {
    "duration": 7,
    "start_time": "2024-07-12T01:45:25.560Z"
   },
   {
    "duration": 146,
    "start_time": "2024-07-12T01:45:25.570Z"
   },
   {
    "duration": 185,
    "start_time": "2024-07-12T01:45:25.720Z"
   },
   {
    "duration": 7,
    "start_time": "2024-07-12T01:45:25.908Z"
   },
   {
    "duration": 180,
    "start_time": "2024-07-12T01:45:25.918Z"
   },
   {
    "duration": 787,
    "start_time": "2024-07-12T01:45:26.102Z"
   },
   {
    "duration": 23,
    "start_time": "2024-07-12T01:45:26.892Z"
   },
   {
    "duration": 5,
    "start_time": "2024-07-12T01:45:26.918Z"
   },
   {
    "duration": 34,
    "start_time": "2024-07-12T01:45:26.926Z"
   },
   {
    "duration": 70,
    "start_time": "2024-07-12T01:45:26.964Z"
   },
   {
    "duration": 16,
    "start_time": "2024-07-12T01:45:27.037Z"
   },
   {
    "duration": 34,
    "start_time": "2024-07-12T01:46:42.249Z"
   },
   {
    "duration": 195,
    "start_time": "2024-07-12T01:53:31.413Z"
   },
   {
    "duration": 857,
    "start_time": "2024-07-12T01:53:32.208Z"
   },
   {
    "duration": 21,
    "start_time": "2024-07-12T01:53:42.024Z"
   },
   {
    "duration": 43,
    "start_time": "2024-07-12T01:57:54.809Z"
   },
   {
    "duration": 17,
    "start_time": "2024-07-12T01:58:08.706Z"
   },
   {
    "duration": 16,
    "start_time": "2024-07-12T02:17:04.911Z"
   },
   {
    "duration": 18,
    "start_time": "2024-07-12T02:17:12.113Z"
   },
   {
    "duration": 115,
    "start_time": "2024-07-12T02:19:13.936Z"
   },
   {
    "duration": 3,
    "start_time": "2024-07-12T02:19:52.734Z"
   },
   {
    "duration": 5,
    "start_time": "2024-07-12T02:19:55.303Z"
   },
   {
    "duration": 4,
    "start_time": "2024-07-12T02:22:22.138Z"
   },
   {
    "duration": 5,
    "start_time": "2024-07-12T02:24:29.102Z"
   },
   {
    "duration": 4,
    "start_time": "2024-07-12T02:28:09.846Z"
   },
   {
    "duration": 4,
    "start_time": "2024-07-12T02:28:31.317Z"
   },
   {
    "duration": 6,
    "start_time": "2024-07-12T02:28:31.930Z"
   },
   {
    "duration": 5,
    "start_time": "2024-07-12T02:28:32.626Z"
   },
   {
    "duration": 4,
    "start_time": "2024-07-12T02:28:46.515Z"
   },
   {
    "duration": 5,
    "start_time": "2024-07-12T02:28:46.970Z"
   },
   {
    "duration": 4,
    "start_time": "2024-07-12T02:28:47.421Z"
   },
   {
    "duration": 317,
    "start_time": "2024-07-12T02:29:24.512Z"
   },
   {
    "duration": 15,
    "start_time": "2024-07-12T02:29:31.291Z"
   },
   {
    "duration": 5,
    "start_time": "2024-07-12T02:29:48.952Z"
   },
   {
    "duration": 4,
    "start_time": "2024-07-12T02:30:18.467Z"
   },
   {
    "duration": 4,
    "start_time": "2024-07-12T02:33:11.873Z"
   },
   {
    "duration": 5,
    "start_time": "2024-07-12T02:33:12.567Z"
   },
   {
    "duration": 5,
    "start_time": "2024-07-12T02:33:13.150Z"
   },
   {
    "duration": 7,
    "start_time": "2024-07-12T02:34:31.182Z"
   },
   {
    "duration": 12005,
    "start_time": "2024-07-12T02:40:31.434Z"
   },
   {
    "duration": 4,
    "start_time": "2024-07-12T02:45:38.394Z"
   },
   {
    "duration": 5,
    "start_time": "2024-07-12T02:45:50.800Z"
   },
   {
    "duration": 4,
    "start_time": "2024-07-12T02:46:41.447Z"
   },
   {
    "duration": 5,
    "start_time": "2024-07-12T02:47:23.784Z"
   },
   {
    "duration": 5,
    "start_time": "2024-07-12T02:47:30.451Z"
   },
   {
    "duration": 227,
    "start_time": "2024-07-12T02:49:11.744Z"
   },
   {
    "duration": 41,
    "start_time": "2024-07-12T02:49:44.995Z"
   },
   {
    "duration": 19,
    "start_time": "2024-07-12T02:55:52.184Z"
   },
   {
    "duration": 251,
    "start_time": "2024-07-12T03:00:33.058Z"
   },
   {
    "duration": 6,
    "start_time": "2024-07-12T03:01:01.777Z"
   },
   {
    "duration": 28,
    "start_time": "2024-07-12T03:02:22.136Z"
   },
   {
    "duration": 142,
    "start_time": "2024-07-12T03:04:04.089Z"
   },
   {
    "duration": 130,
    "start_time": "2024-07-12T03:04:49.461Z"
   },
   {
    "duration": 125,
    "start_time": "2024-07-12T03:05:29.227Z"
   },
   {
    "duration": 23,
    "start_time": "2024-07-12T03:07:37.551Z"
   },
   {
    "duration": 375,
    "start_time": "2024-07-12T03:08:32.126Z"
   },
   {
    "duration": 25,
    "start_time": "2024-07-12T03:08:48.044Z"
   },
   {
    "duration": 1436,
    "start_time": "2024-07-12T03:08:59.202Z"
   },
   {
    "duration": 5,
    "start_time": "2024-07-12T03:09:05.523Z"
   },
   {
    "duration": 1323,
    "start_time": "2024-07-12T03:09:14.138Z"
   },
   {
    "duration": 803,
    "start_time": "2024-07-12T03:09:15.465Z"
   },
   {
    "duration": 54,
    "start_time": "2024-07-12T03:09:16.271Z"
   },
   {
    "duration": 154,
    "start_time": "2024-07-12T03:09:16.327Z"
   },
   {
    "duration": 36,
    "start_time": "2024-07-12T03:09:16.486Z"
   },
   {
    "duration": 4,
    "start_time": "2024-07-12T03:09:16.526Z"
   },
   {
    "duration": 32,
    "start_time": "2024-07-12T03:09:16.534Z"
   },
   {
    "duration": 57,
    "start_time": "2024-07-12T03:09:16.570Z"
   },
   {
    "duration": 7,
    "start_time": "2024-07-12T03:09:16.630Z"
   },
   {
    "duration": 10,
    "start_time": "2024-07-12T03:09:16.641Z"
   },
   {
    "duration": 135,
    "start_time": "2024-07-12T03:09:16.654Z"
   },
   {
    "duration": 186,
    "start_time": "2024-07-12T03:09:16.792Z"
   },
   {
    "duration": 5,
    "start_time": "2024-07-12T03:09:16.981Z"
   },
   {
    "duration": 181,
    "start_time": "2024-07-12T03:09:16.994Z"
   },
   {
    "duration": 801,
    "start_time": "2024-07-12T03:09:17.177Z"
   },
   {
    "duration": 12,
    "start_time": "2024-07-12T03:09:17.981Z"
   },
   {
    "duration": 17,
    "start_time": "2024-07-12T03:09:17.996Z"
   },
   {
    "duration": 35,
    "start_time": "2024-07-12T03:09:18.017Z"
   },
   {
    "duration": 77,
    "start_time": "2024-07-12T03:09:18.056Z"
   },
   {
    "duration": 17,
    "start_time": "2024-07-12T03:09:18.136Z"
   },
   {
    "duration": 4,
    "start_time": "2024-07-12T03:09:18.158Z"
   },
   {
    "duration": 6,
    "start_time": "2024-07-12T03:09:18.165Z"
   },
   {
    "duration": 42,
    "start_time": "2024-07-12T03:09:18.174Z"
   },
   {
    "duration": 4,
    "start_time": "2024-07-12T03:09:18.219Z"
   },
   {
    "duration": 11937,
    "start_time": "2024-07-12T03:09:18.227Z"
   },
   {
    "duration": 4,
    "start_time": "2024-07-12T03:09:30.167Z"
   },
   {
    "duration": 315,
    "start_time": "2024-07-12T03:09:34.816Z"
   },
   {
    "duration": 1285,
    "start_time": "2024-07-12T03:10:06.170Z"
   },
   {
    "duration": 783,
    "start_time": "2024-07-12T03:10:07.458Z"
   },
   {
    "duration": 42,
    "start_time": "2024-07-12T03:10:08.244Z"
   },
   {
    "duration": 172,
    "start_time": "2024-07-12T03:10:08.291Z"
   },
   {
    "duration": 24,
    "start_time": "2024-07-12T03:10:08.466Z"
   },
   {
    "duration": 5,
    "start_time": "2024-07-12T03:10:08.513Z"
   },
   {
    "duration": 36,
    "start_time": "2024-07-12T03:10:08.521Z"
   },
   {
    "duration": 53,
    "start_time": "2024-07-12T03:10:08.560Z"
   },
   {
    "duration": 7,
    "start_time": "2024-07-12T03:10:08.616Z"
   },
   {
    "duration": 6,
    "start_time": "2024-07-12T03:10:08.629Z"
   },
   {
    "duration": 127,
    "start_time": "2024-07-12T03:10:08.638Z"
   },
   {
    "duration": 194,
    "start_time": "2024-07-12T03:10:08.768Z"
   },
   {
    "duration": 6,
    "start_time": "2024-07-12T03:10:08.965Z"
   },
   {
    "duration": 179,
    "start_time": "2024-07-12T03:10:08.974Z"
   },
   {
    "duration": 778,
    "start_time": "2024-07-12T03:10:09.155Z"
   },
   {
    "duration": 11,
    "start_time": "2024-07-12T03:10:09.936Z"
   },
   {
    "duration": 6,
    "start_time": "2024-07-12T03:10:09.949Z"
   },
   {
    "duration": 63,
    "start_time": "2024-07-12T03:10:09.959Z"
   },
   {
    "duration": 46,
    "start_time": "2024-07-12T03:10:10.025Z"
   },
   {
    "duration": 46,
    "start_time": "2024-07-12T03:10:10.074Z"
   },
   {
    "duration": 4,
    "start_time": "2024-07-12T03:10:10.123Z"
   },
   {
    "duration": 6,
    "start_time": "2024-07-12T03:10:10.131Z"
   },
   {
    "duration": 5,
    "start_time": "2024-07-12T03:10:10.140Z"
   },
   {
    "duration": 5,
    "start_time": "2024-07-12T03:10:10.148Z"
   },
   {
    "duration": 11879,
    "start_time": "2024-07-12T03:10:10.156Z"
   },
   {
    "duration": 3,
    "start_time": "2024-07-12T03:10:22.039Z"
   },
   {
    "duration": 312,
    "start_time": "2024-07-12T03:10:43.566Z"
   },
   {
    "duration": 1011,
    "start_time": "2024-07-12T03:11:04.961Z"
   },
   {
    "duration": 99,
    "start_time": "2024-07-12T03:11:05.974Z"
   },
   {
    "duration": 25,
    "start_time": "2024-07-12T03:12:20.518Z"
   },
   {
    "duration": 7,
    "start_time": "2024-07-12T03:13:12.382Z"
   },
   {
    "duration": 24,
    "start_time": "2024-07-12T03:13:17.951Z"
   },
   {
    "duration": 25,
    "start_time": "2024-07-12T03:13:30.744Z"
   },
   {
    "duration": 23,
    "start_time": "2024-07-12T03:13:35.400Z"
   },
   {
    "duration": 3,
    "start_time": "2024-07-12T03:13:44.088Z"
   },
   {
    "duration": 23,
    "start_time": "2024-07-12T03:13:44.682Z"
   },
   {
    "duration": 23,
    "start_time": "2024-07-12T03:14:00.335Z"
   },
   {
    "duration": 24,
    "start_time": "2024-07-12T03:18:10.593Z"
   },
   {
    "duration": 23,
    "start_time": "2024-07-12T03:20:48.984Z"
   },
   {
    "duration": 27,
    "start_time": "2024-07-12T03:23:13.309Z"
   },
   {
    "duration": 302,
    "start_time": "2024-07-12T03:23:22.661Z"
   },
   {
    "duration": 57,
    "start_time": "2024-07-12T03:23:33.369Z"
   },
   {
    "duration": 313,
    "start_time": "2024-07-13T14:33:31.696Z"
   },
   {
    "duration": 1289,
    "start_time": "2024-07-13T14:33:37.368Z"
   },
   {
    "duration": 763,
    "start_time": "2024-07-13T14:33:38.660Z"
   },
   {
    "duration": 40,
    "start_time": "2024-07-13T14:33:39.429Z"
   },
   {
    "duration": 165,
    "start_time": "2024-07-13T14:33:39.472Z"
   },
   {
    "duration": 24,
    "start_time": "2024-07-13T14:33:39.642Z"
   },
   {
    "duration": 5,
    "start_time": "2024-07-13T14:33:39.669Z"
   },
   {
    "duration": 58,
    "start_time": "2024-07-13T14:33:39.676Z"
   },
   {
    "duration": 24,
    "start_time": "2024-07-13T14:33:39.738Z"
   },
   {
    "duration": 5,
    "start_time": "2024-07-13T14:33:39.765Z"
   },
   {
    "duration": 39,
    "start_time": "2024-07-13T14:33:39.774Z"
   },
   {
    "duration": 113,
    "start_time": "2024-07-13T14:33:39.817Z"
   },
   {
    "duration": 226,
    "start_time": "2024-07-13T14:33:39.932Z"
   },
   {
    "duration": 205,
    "start_time": "2024-07-13T14:33:40.161Z"
   },
   {
    "duration": 5,
    "start_time": "2024-07-13T14:33:40.373Z"
   },
   {
    "duration": 181,
    "start_time": "2024-07-13T14:33:40.381Z"
   },
   {
    "duration": 778,
    "start_time": "2024-07-13T14:33:40.565Z"
   },
   {
    "duration": 15,
    "start_time": "2024-07-13T14:33:41.346Z"
   },
   {
    "duration": 6,
    "start_time": "2024-07-13T14:33:41.364Z"
   },
   {
    "duration": 67,
    "start_time": "2024-07-13T14:33:41.373Z"
   },
   {
    "duration": 43,
    "start_time": "2024-07-13T14:33:41.443Z"
   },
   {
    "duration": 39,
    "start_time": "2024-07-13T14:33:41.491Z"
   },
   {
    "duration": 4,
    "start_time": "2024-07-13T14:33:41.534Z"
   },
   {
    "duration": 7,
    "start_time": "2024-07-13T14:33:41.541Z"
   },
   {
    "duration": 5,
    "start_time": "2024-07-13T14:33:41.551Z"
   },
   {
    "duration": 4,
    "start_time": "2024-07-13T14:33:41.559Z"
   },
   {
    "duration": 11850,
    "start_time": "2024-07-13T14:33:41.614Z"
   },
   {
    "duration": 758,
    "start_time": "2024-07-13T14:33:53.468Z"
   },
   {
    "duration": 0,
    "start_time": "2024-07-13T14:33:54.229Z"
   },
   {
    "duration": 5,
    "start_time": "2024-07-13T14:34:10.742Z"
   },
   {
    "duration": 693,
    "start_time": "2024-07-13T14:34:13.420Z"
   },
   {
    "duration": 28,
    "start_time": "2024-07-13T14:34:16.517Z"
   },
   {
    "duration": 145,
    "start_time": "2024-07-13T14:34:17.316Z"
   },
   {
    "duration": 18,
    "start_time": "2024-07-13T14:34:18.242Z"
   },
   {
    "duration": 4,
    "start_time": "2024-07-13T14:34:18.715Z"
   },
   {
    "duration": 27,
    "start_time": "2024-07-13T14:34:19.488Z"
   },
   {
    "duration": 25,
    "start_time": "2024-07-13T14:34:20.025Z"
   },
   {
    "duration": 5,
    "start_time": "2024-07-13T14:34:20.866Z"
   },
   {
    "duration": 6,
    "start_time": "2024-07-13T14:34:21.522Z"
   },
   {
    "duration": 94,
    "start_time": "2024-07-13T14:34:24.425Z"
   },
   {
    "duration": 859,
    "start_time": "2024-07-13T14:37:00.885Z"
   },
   {
    "duration": 81,
    "start_time": "2024-07-13T14:37:02.873Z"
   },
   {
    "duration": 88,
    "start_time": "2024-07-13T14:37:20.847Z"
   },
   {
    "duration": 190,
    "start_time": "2024-07-13T14:37:31.425Z"
   },
   {
    "duration": 82,
    "start_time": "2024-07-13T14:37:32.070Z"
   },
   {
    "duration": 82,
    "start_time": "2024-07-13T14:38:07.629Z"
   },
   {
    "duration": 80,
    "start_time": "2024-07-13T14:38:12.252Z"
   },
   {
    "duration": 219,
    "start_time": "2024-07-13T14:38:25.058Z"
   },
   {
    "duration": 27,
    "start_time": "2024-07-13T14:49:46.948Z"
   },
   {
    "duration": 26,
    "start_time": "2024-07-13T14:50:57.656Z"
   },
   {
    "duration": 3,
    "start_time": "2024-07-13T14:51:47.914Z"
   },
   {
    "duration": 183,
    "start_time": "2024-07-13T14:52:12.055Z"
   },
   {
    "duration": 24,
    "start_time": "2024-07-13T14:52:13.740Z"
   },
   {
    "duration": 134,
    "start_time": "2024-07-13T14:52:41.804Z"
   },
   {
    "duration": 123,
    "start_time": "2024-07-13T14:54:20.073Z"
   },
   {
    "duration": 204,
    "start_time": "2024-07-13T14:55:33.470Z"
   },
   {
    "duration": 109,
    "start_time": "2024-07-13T14:56:17.932Z"
   },
   {
    "duration": 104,
    "start_time": "2024-07-13T14:57:42.374Z"
   },
   {
    "duration": 103,
    "start_time": "2024-07-13T14:57:58.170Z"
   },
   {
    "duration": 203,
    "start_time": "2024-07-13T14:58:23.050Z"
   },
   {
    "duration": 1366,
    "start_time": "2024-07-13T16:02:31.377Z"
   },
   {
    "duration": 766,
    "start_time": "2024-07-13T16:02:32.748Z"
   },
   {
    "duration": 46,
    "start_time": "2024-07-13T16:02:33.517Z"
   },
   {
    "duration": 191,
    "start_time": "2024-07-13T16:02:33.566Z"
   },
   {
    "duration": 28,
    "start_time": "2024-07-13T16:02:33.763Z"
   },
   {
    "duration": 21,
    "start_time": "2024-07-13T16:02:33.794Z"
   },
   {
    "duration": 36,
    "start_time": "2024-07-13T16:02:33.819Z"
   },
   {
    "duration": 29,
    "start_time": "2024-07-13T16:02:33.863Z"
   },
   {
    "duration": 5,
    "start_time": "2024-07-13T16:02:33.913Z"
   },
   {
    "duration": 6,
    "start_time": "2024-07-13T16:02:33.922Z"
   },
   {
    "duration": 123,
    "start_time": "2024-07-13T16:02:33.932Z"
   },
   {
    "duration": 228,
    "start_time": "2024-07-13T16:02:34.059Z"
   },
   {
    "duration": 173,
    "start_time": "2024-07-13T16:02:34.290Z"
   },
   {
    "duration": 8,
    "start_time": "2024-07-13T16:02:34.469Z"
   },
   {
    "duration": 182,
    "start_time": "2024-07-13T16:02:34.480Z"
   },
   {
    "duration": 789,
    "start_time": "2024-07-13T16:02:34.665Z"
   },
   {
    "duration": 15,
    "start_time": "2024-07-13T16:02:35.457Z"
   },
   {
    "duration": 6,
    "start_time": "2024-07-13T16:02:35.474Z"
   },
   {
    "duration": 64,
    "start_time": "2024-07-13T16:02:35.483Z"
   },
   {
    "duration": 65,
    "start_time": "2024-07-13T16:02:35.550Z"
   },
   {
    "duration": 20,
    "start_time": "2024-07-13T16:02:35.620Z"
   },
   {
    "duration": 4,
    "start_time": "2024-07-13T16:02:35.643Z"
   },
   {
    "duration": 7,
    "start_time": "2024-07-13T16:02:35.651Z"
   },
   {
    "duration": 6,
    "start_time": "2024-07-13T16:02:35.662Z"
   },
   {
    "duration": 4,
    "start_time": "2024-07-13T16:02:35.713Z"
   },
   {
    "duration": 12136,
    "start_time": "2024-07-13T16:02:35.720Z"
   },
   {
    "duration": 4,
    "start_time": "2024-07-13T16:02:47.859Z"
   },
   {
    "duration": 212,
    "start_time": "2024-07-13T16:02:47.867Z"
   },
   {
    "duration": 11841,
    "start_time": "2024-07-13T16:02:48.082Z"
   },
   {
    "duration": 489,
    "start_time": "2024-07-13T16:02:59.927Z"
   },
   {
    "duration": 0,
    "start_time": "2024-07-13T16:03:00.420Z"
   },
   {
    "duration": 0,
    "start_time": "2024-07-13T16:03:00.424Z"
   },
   {
    "duration": 170,
    "start_time": "2024-07-13T16:03:29.422Z"
   },
   {
    "duration": 208,
    "start_time": "2024-07-13T16:04:00.495Z"
   },
   {
    "duration": 217,
    "start_time": "2024-07-13T16:04:52.521Z"
   },
   {
    "duration": 325,
    "start_time": "2024-07-13T16:05:09.993Z"
   },
   {
    "duration": 131,
    "start_time": "2024-07-13T16:05:34.017Z"
   },
   {
    "duration": 1946,
    "start_time": "2024-07-13T16:10:05.489Z"
   },
   {
    "duration": 4099,
    "start_time": "2024-07-13T16:10:29.495Z"
   },
   {
    "duration": 4322,
    "start_time": "2024-07-13T16:10:36.425Z"
   },
   {
    "duration": 2500,
    "start_time": "2024-07-13T16:12:02.816Z"
   },
   {
    "duration": 6,
    "start_time": "2024-07-13T16:13:22.900Z"
   },
   {
    "duration": 2648,
    "start_time": "2024-07-13T16:18:31.968Z"
   },
   {
    "duration": 1292,
    "start_time": "2024-07-13T16:19:16.721Z"
   },
   {
    "duration": 736,
    "start_time": "2024-07-13T16:19:18.017Z"
   },
   {
    "duration": 56,
    "start_time": "2024-07-13T16:19:18.756Z"
   },
   {
    "duration": 153,
    "start_time": "2024-07-13T16:19:18.816Z"
   },
   {
    "duration": 39,
    "start_time": "2024-07-13T16:19:18.974Z"
   },
   {
    "duration": 4,
    "start_time": "2024-07-13T16:19:19.016Z"
   },
   {
    "duration": 32,
    "start_time": "2024-07-13T16:19:19.023Z"
   },
   {
    "duration": 57,
    "start_time": "2024-07-13T16:19:19.058Z"
   },
   {
    "duration": 7,
    "start_time": "2024-07-13T16:19:19.118Z"
   },
   {
    "duration": 8,
    "start_time": "2024-07-13T16:19:19.129Z"
   },
   {
    "duration": 125,
    "start_time": "2024-07-13T16:19:19.140Z"
   },
   {
    "duration": 221,
    "start_time": "2024-07-13T16:19:19.267Z"
   },
   {
    "duration": 172,
    "start_time": "2024-07-13T16:19:19.491Z"
   },
   {
    "duration": 5,
    "start_time": "2024-07-13T16:19:19.668Z"
   },
   {
    "duration": 181,
    "start_time": "2024-07-13T16:19:19.677Z"
   },
   {
    "duration": 776,
    "start_time": "2024-07-13T16:19:19.860Z"
   },
   {
    "duration": 11,
    "start_time": "2024-07-13T16:19:20.639Z"
   },
   {
    "duration": 5,
    "start_time": "2024-07-13T16:19:20.653Z"
   },
   {
    "duration": 69,
    "start_time": "2024-07-13T16:19:20.661Z"
   },
   {
    "duration": 45,
    "start_time": "2024-07-13T16:19:20.733Z"
   },
   {
    "duration": 38,
    "start_time": "2024-07-13T16:19:20.782Z"
   },
   {
    "duration": 5,
    "start_time": "2024-07-13T16:19:20.824Z"
   },
   {
    "duration": 7,
    "start_time": "2024-07-13T16:19:20.832Z"
   },
   {
    "duration": 5,
    "start_time": "2024-07-13T16:19:20.844Z"
   },
   {
    "duration": 4,
    "start_time": "2024-07-13T16:19:20.853Z"
   },
   {
    "duration": 11970,
    "start_time": "2024-07-13T16:19:20.860Z"
   },
   {
    "duration": 3010,
    "start_time": "2024-07-13T16:19:32.834Z"
   },
   {
    "duration": 2731,
    "start_time": "2024-07-13T16:22:08.804Z"
   },
   {
    "duration": 275,
    "start_time": "2024-07-13T16:22:11.538Z"
   },
   {
    "duration": 236,
    "start_time": "2024-07-13T16:23:04.879Z"
   },
   {
    "duration": 72,
    "start_time": "2024-07-13T16:23:27.238Z"
   },
   {
    "duration": 75,
    "start_time": "2024-07-13T16:23:36.377Z"
   },
   {
    "duration": 24,
    "start_time": "2024-07-13T16:25:08.373Z"
   },
   {
    "duration": 5,
    "start_time": "2024-07-13T16:25:34.591Z"
   },
   {
    "duration": 2699,
    "start_time": "2024-07-13T16:27:15.821Z"
   },
   {
    "duration": 104,
    "start_time": "2024-07-13T16:27:18.524Z"
   },
   {
    "duration": 5,
    "start_time": "2024-07-13T16:27:18.631Z"
   },
   {
    "duration": 7,
    "start_time": "2024-07-13T16:31:17.960Z"
   },
   {
    "duration": 5,
    "start_time": "2024-07-13T16:32:15.147Z"
   },
   {
    "duration": 11830,
    "start_time": "2024-07-13T16:33:00.385Z"
   },
   {
    "duration": 2449,
    "start_time": "2024-07-13T16:34:15.665Z"
   },
   {
    "duration": 5,
    "start_time": "2024-07-13T16:35:52.203Z"
   },
   {
    "duration": 1314,
    "start_time": "2024-07-13T16:36:30.168Z"
   },
   {
    "duration": 784,
    "start_time": "2024-07-13T16:36:31.486Z"
   },
   {
    "duration": 57,
    "start_time": "2024-07-13T16:36:32.272Z"
   },
   {
    "duration": 150,
    "start_time": "2024-07-13T16:36:32.334Z"
   },
   {
    "duration": 42,
    "start_time": "2024-07-13T16:36:32.487Z"
   },
   {
    "duration": 5,
    "start_time": "2024-07-13T16:36:32.533Z"
   },
   {
    "duration": 32,
    "start_time": "2024-07-13T16:36:32.543Z"
   },
   {
    "duration": 55,
    "start_time": "2024-07-13T16:36:32.578Z"
   },
   {
    "duration": 6,
    "start_time": "2024-07-13T16:36:32.637Z"
   },
   {
    "duration": 6,
    "start_time": "2024-07-13T16:36:32.652Z"
   },
   {
    "duration": 141,
    "start_time": "2024-07-13T16:36:32.662Z"
   },
   {
    "duration": 227,
    "start_time": "2024-07-13T16:36:32.813Z"
   },
   {
    "duration": 169,
    "start_time": "2024-07-13T16:36:33.043Z"
   },
   {
    "duration": 6,
    "start_time": "2024-07-13T16:36:33.217Z"
   },
   {
    "duration": 181,
    "start_time": "2024-07-13T16:36:33.226Z"
   },
   {
    "duration": 818,
    "start_time": "2024-07-13T16:36:33.409Z"
   },
   {
    "duration": 12,
    "start_time": "2024-07-13T16:36:34.229Z"
   },
   {
    "duration": 5,
    "start_time": "2024-07-13T16:36:34.243Z"
   },
   {
    "duration": 62,
    "start_time": "2024-07-13T16:36:34.252Z"
   },
   {
    "duration": 51,
    "start_time": "2024-07-13T16:36:34.317Z"
   },
   {
    "duration": 17,
    "start_time": "2024-07-13T16:36:34.371Z"
   },
   {
    "duration": 4,
    "start_time": "2024-07-13T16:36:34.413Z"
   },
   {
    "duration": 11,
    "start_time": "2024-07-13T16:36:34.421Z"
   },
   {
    "duration": 5,
    "start_time": "2024-07-13T16:36:34.435Z"
   },
   {
    "duration": 3,
    "start_time": "2024-07-13T16:36:34.443Z"
   },
   {
    "duration": 11640,
    "start_time": "2024-07-13T16:36:34.449Z"
   },
   {
    "duration": 1288,
    "start_time": "2024-07-13T16:37:07.804Z"
   },
   {
    "duration": 782,
    "start_time": "2024-07-13T16:37:09.096Z"
   },
   {
    "duration": 50,
    "start_time": "2024-07-13T16:37:09.880Z"
   },
   {
    "duration": 154,
    "start_time": "2024-07-13T16:37:09.933Z"
   },
   {
    "duration": 36,
    "start_time": "2024-07-13T16:37:10.092Z"
   },
   {
    "duration": 5,
    "start_time": "2024-07-13T16:37:10.131Z"
   },
   {
    "duration": 30,
    "start_time": "2024-07-13T16:37:10.140Z"
   },
   {
    "duration": 53,
    "start_time": "2024-07-13T16:37:10.173Z"
   },
   {
    "duration": 6,
    "start_time": "2024-07-13T16:37:10.228Z"
   },
   {
    "duration": 6,
    "start_time": "2024-07-13T16:37:10.237Z"
   },
   {
    "duration": 141,
    "start_time": "2024-07-13T16:37:10.246Z"
   },
   {
    "duration": 229,
    "start_time": "2024-07-13T16:37:10.389Z"
   },
   {
    "duration": 197,
    "start_time": "2024-07-13T16:37:10.621Z"
   },
   {
    "duration": 8,
    "start_time": "2024-07-13T16:37:10.826Z"
   },
   {
    "duration": 191,
    "start_time": "2024-07-13T16:37:10.837Z"
   },
   {
    "duration": 780,
    "start_time": "2024-07-13T16:37:11.031Z"
   },
   {
    "duration": 14,
    "start_time": "2024-07-13T16:37:11.814Z"
   },
   {
    "duration": 6,
    "start_time": "2024-07-13T16:37:11.831Z"
   },
   {
    "duration": 37,
    "start_time": "2024-07-13T16:37:11.840Z"
   },
   {
    "duration": 51,
    "start_time": "2024-07-13T16:37:11.912Z"
   },
   {
    "duration": 19,
    "start_time": "2024-07-13T16:37:11.966Z"
   },
   {
    "duration": 3,
    "start_time": "2024-07-13T16:37:12.013Z"
   },
   {
    "duration": 7,
    "start_time": "2024-07-13T16:37:12.019Z"
   },
   {
    "duration": 5,
    "start_time": "2024-07-13T16:37:12.030Z"
   },
   {
    "duration": 4,
    "start_time": "2024-07-13T16:37:12.038Z"
   },
   {
    "duration": 11878,
    "start_time": "2024-07-13T16:37:12.044Z"
   },
   {
    "duration": 175,
    "start_time": "2024-07-13T17:01:30.717Z"
   },
   {
    "duration": 260,
    "start_time": "2024-07-13T17:01:31.876Z"
   },
   {
    "duration": 25,
    "start_time": "2024-07-13T17:01:33.374Z"
   },
   {
    "duration": 22,
    "start_time": "2024-07-13T17:01:34.092Z"
   },
   {
    "duration": 22,
    "start_time": "2024-07-13T17:01:35.094Z"
   },
   {
    "duration": 1313,
    "start_time": "2024-07-14T03:08:23.697Z"
   },
   {
    "duration": 774,
    "start_time": "2024-07-14T03:08:25.014Z"
   },
   {
    "duration": 54,
    "start_time": "2024-07-14T03:08:25.790Z"
   },
   {
    "duration": 176,
    "start_time": "2024-07-14T03:08:25.847Z"
   },
   {
    "duration": 24,
    "start_time": "2024-07-14T03:08:26.028Z"
   },
   {
    "duration": 5,
    "start_time": "2024-07-14T03:08:26.055Z"
   },
   {
    "duration": 69,
    "start_time": "2024-07-14T03:08:26.062Z"
   },
   {
    "duration": 31,
    "start_time": "2024-07-14T03:08:26.135Z"
   },
   {
    "duration": 5,
    "start_time": "2024-07-14T03:08:26.169Z"
   },
   {
    "duration": 35,
    "start_time": "2024-07-14T03:08:26.177Z"
   },
   {
    "duration": 108,
    "start_time": "2024-07-14T03:08:26.215Z"
   },
   {
    "duration": 221,
    "start_time": "2024-07-14T03:08:26.326Z"
   },
   {
    "duration": 203,
    "start_time": "2024-07-14T03:08:26.550Z"
   },
   {
    "duration": 5,
    "start_time": "2024-07-14T03:08:26.759Z"
   },
   {
    "duration": 179,
    "start_time": "2024-07-14T03:08:26.767Z"
   },
   {
    "duration": 774,
    "start_time": "2024-07-14T03:08:26.948Z"
   },
   {
    "duration": 11,
    "start_time": "2024-07-14T03:08:27.726Z"
   },
   {
    "duration": 6,
    "start_time": "2024-07-14T03:08:27.740Z"
   },
   {
    "duration": 73,
    "start_time": "2024-07-14T03:08:27.749Z"
   },
   {
    "duration": 46,
    "start_time": "2024-07-14T03:08:27.825Z"
   },
   {
    "duration": 41,
    "start_time": "2024-07-14T03:08:27.874Z"
   },
   {
    "duration": 4,
    "start_time": "2024-07-14T03:08:27.918Z"
   },
   {
    "duration": 6,
    "start_time": "2024-07-14T03:08:27.926Z"
   },
   {
    "duration": 5,
    "start_time": "2024-07-14T03:08:27.936Z"
   },
   {
    "duration": 3,
    "start_time": "2024-07-14T03:08:27.944Z"
   },
   {
    "duration": 12052,
    "start_time": "2024-07-14T03:08:27.952Z"
   },
   {
    "duration": 1371,
    "start_time": "2024-07-14T03:09:13.548Z"
   },
   {
    "duration": 808,
    "start_time": "2024-07-14T03:09:14.924Z"
   },
   {
    "duration": 40,
    "start_time": "2024-07-14T03:09:15.736Z"
   },
   {
    "duration": 164,
    "start_time": "2024-07-14T03:09:15.779Z"
   },
   {
    "duration": 25,
    "start_time": "2024-07-14T03:09:15.947Z"
   },
   {
    "duration": 5,
    "start_time": "2024-07-14T03:09:15.975Z"
   },
   {
    "duration": 33,
    "start_time": "2024-07-14T03:09:16.013Z"
   },
   {
    "duration": 26,
    "start_time": "2024-07-14T03:09:16.048Z"
   },
   {
    "duration": 33,
    "start_time": "2024-07-14T03:09:16.079Z"
   },
   {
    "duration": 7,
    "start_time": "2024-07-14T03:09:16.117Z"
   },
   {
    "duration": 126,
    "start_time": "2024-07-14T03:09:16.128Z"
   },
   {
    "duration": 214,
    "start_time": "2024-07-14T03:09:16.257Z"
   },
   {
    "duration": 209,
    "start_time": "2024-07-14T03:09:16.474Z"
   },
   {
    "duration": 8,
    "start_time": "2024-07-14T03:09:16.688Z"
   },
   {
    "duration": 166,
    "start_time": "2024-07-14T03:09:16.712Z"
   },
   {
    "duration": 794,
    "start_time": "2024-07-14T03:09:16.881Z"
   },
   {
    "duration": 12,
    "start_time": "2024-07-14T03:09:17.677Z"
   },
   {
    "duration": 22,
    "start_time": "2024-07-14T03:09:17.692Z"
   },
   {
    "duration": 37,
    "start_time": "2024-07-14T03:09:17.718Z"
   },
   {
    "duration": 78,
    "start_time": "2024-07-14T03:09:17.759Z"
   },
   {
    "duration": 18,
    "start_time": "2024-07-14T03:09:17.840Z"
   },
   {
    "duration": 3,
    "start_time": "2024-07-14T03:09:17.861Z"
   },
   {
    "duration": 7,
    "start_time": "2024-07-14T03:09:17.867Z"
   },
   {
    "duration": 39,
    "start_time": "2024-07-14T03:09:17.876Z"
   },
   {
    "duration": 4,
    "start_time": "2024-07-14T03:09:17.918Z"
   },
   {
    "duration": 11979,
    "start_time": "2024-07-14T03:09:17.925Z"
   },
   {
    "duration": 311,
    "start_time": "2024-07-14T03:09:38.593Z"
   },
   {
    "duration": 1400,
    "start_time": "2024-07-14T03:09:51.914Z"
   },
   {
    "duration": 799,
    "start_time": "2024-07-14T03:09:53.320Z"
   },
   {
    "duration": 45,
    "start_time": "2024-07-14T03:09:54.122Z"
   },
   {
    "duration": 169,
    "start_time": "2024-07-14T03:09:54.170Z"
   },
   {
    "duration": 25,
    "start_time": "2024-07-14T03:09:54.343Z"
   },
   {
    "duration": 9,
    "start_time": "2024-07-14T03:09:54.371Z"
   },
   {
    "duration": 52,
    "start_time": "2024-07-14T03:09:54.388Z"
   },
   {
    "duration": 26,
    "start_time": "2024-07-14T03:09:54.444Z"
   },
   {
    "duration": 6,
    "start_time": "2024-07-14T03:09:54.473Z"
   },
   {
    "duration": 6,
    "start_time": "2024-07-14T03:09:54.514Z"
   },
   {
    "duration": 122,
    "start_time": "2024-07-14T03:09:54.525Z"
   },
   {
    "duration": 218,
    "start_time": "2024-07-14T03:09:54.651Z"
   },
   {
    "duration": 185,
    "start_time": "2024-07-14T03:09:54.872Z"
   },
   {
    "duration": 5,
    "start_time": "2024-07-14T03:09:55.064Z"
   },
   {
    "duration": 180,
    "start_time": "2024-07-14T03:09:55.072Z"
   },
   {
    "duration": 801,
    "start_time": "2024-07-14T03:09:55.255Z"
   },
   {
    "duration": 12,
    "start_time": "2024-07-14T03:09:56.059Z"
   },
   {
    "duration": 6,
    "start_time": "2024-07-14T03:09:56.073Z"
   },
   {
    "duration": 62,
    "start_time": "2024-07-14T03:09:56.083Z"
   },
   {
    "duration": 66,
    "start_time": "2024-07-14T03:09:56.148Z"
   },
   {
    "duration": 18,
    "start_time": "2024-07-14T03:09:56.217Z"
   },
   {
    "duration": 4,
    "start_time": "2024-07-14T03:09:56.238Z"
   },
   {
    "duration": 6,
    "start_time": "2024-07-14T03:09:56.245Z"
   },
   {
    "duration": 5,
    "start_time": "2024-07-14T03:09:56.255Z"
   },
   {
    "duration": 51,
    "start_time": "2024-07-14T03:09:56.263Z"
   },
   {
    "duration": 11997,
    "start_time": "2024-07-14T03:09:56.317Z"
   },
   {
    "duration": 314,
    "start_time": "2024-07-14T03:10:43.742Z"
   },
   {
    "duration": 29,
    "start_time": "2024-07-14T03:10:44.213Z"
   },
   {
    "duration": 22,
    "start_time": "2024-07-14T03:10:47.520Z"
   },
   {
    "duration": 22,
    "start_time": "2024-07-14T03:10:48.414Z"
   },
   {
    "duration": 21,
    "start_time": "2024-07-14T03:10:49.186Z"
   },
   {
    "duration": 22,
    "start_time": "2024-07-14T03:10:49.813Z"
   },
   {
    "duration": 1337,
    "start_time": "2024-07-14T03:10:59.581Z"
   },
   {
    "duration": 819,
    "start_time": "2024-07-14T03:11:00.922Z"
   },
   {
    "duration": 45,
    "start_time": "2024-07-14T03:11:01.745Z"
   },
   {
    "duration": 155,
    "start_time": "2024-07-14T03:11:01.811Z"
   },
   {
    "duration": 25,
    "start_time": "2024-07-14T03:11:01.969Z"
   },
   {
    "duration": 5,
    "start_time": "2024-07-14T03:11:02.011Z"
   },
   {
    "duration": 32,
    "start_time": "2024-07-14T03:11:02.019Z"
   },
   {
    "duration": 26,
    "start_time": "2024-07-14T03:11:02.054Z"
   },
   {
    "duration": 33,
    "start_time": "2024-07-14T03:11:02.082Z"
   },
   {
    "duration": 6,
    "start_time": "2024-07-14T03:11:02.122Z"
   },
   {
    "duration": 129,
    "start_time": "2024-07-14T03:11:02.131Z"
   },
   {
    "duration": 223,
    "start_time": "2024-07-14T03:11:02.263Z"
   },
   {
    "duration": 215,
    "start_time": "2024-07-14T03:11:02.489Z"
   },
   {
    "duration": 8,
    "start_time": "2024-07-14T03:11:02.707Z"
   },
   {
    "duration": 184,
    "start_time": "2024-07-14T03:11:02.719Z"
   },
   {
    "duration": 824,
    "start_time": "2024-07-14T03:11:02.906Z"
   },
   {
    "duration": 12,
    "start_time": "2024-07-14T03:11:03.733Z"
   },
   {
    "duration": 5,
    "start_time": "2024-07-14T03:11:03.748Z"
   },
   {
    "duration": 63,
    "start_time": "2024-07-14T03:11:03.756Z"
   },
   {
    "duration": 46,
    "start_time": "2024-07-14T03:11:03.821Z"
   },
   {
    "duration": 53,
    "start_time": "2024-07-14T03:11:03.870Z"
   },
   {
    "duration": 3,
    "start_time": "2024-07-14T03:11:03.927Z"
   },
   {
    "duration": 5,
    "start_time": "2024-07-14T03:11:03.934Z"
   },
   {
    "duration": 6,
    "start_time": "2024-07-14T03:11:03.942Z"
   },
   {
    "duration": 4,
    "start_time": "2024-07-14T03:11:03.951Z"
   },
   {
    "duration": 11899,
    "start_time": "2024-07-14T03:11:03.958Z"
   },
   {
    "duration": 1338,
    "start_time": "2024-07-14T03:12:45.879Z"
   },
   {
    "duration": 794,
    "start_time": "2024-07-14T03:12:47.220Z"
   },
   {
    "duration": 42,
    "start_time": "2024-07-14T03:12:48.017Z"
   },
   {
    "duration": 194,
    "start_time": "2024-07-14T03:12:48.065Z"
   },
   {
    "duration": 24,
    "start_time": "2024-07-14T03:12:48.263Z"
   },
   {
    "duration": 23,
    "start_time": "2024-07-14T03:12:48.290Z"
   },
   {
    "duration": 31,
    "start_time": "2024-07-14T03:12:48.316Z"
   },
   {
    "duration": 25,
    "start_time": "2024-07-14T03:12:48.351Z"
   },
   {
    "duration": 6,
    "start_time": "2024-07-14T03:12:48.411Z"
   },
   {
    "duration": 6,
    "start_time": "2024-07-14T03:12:48.424Z"
   },
   {
    "duration": 129,
    "start_time": "2024-07-14T03:12:48.433Z"
   },
   {
    "duration": 221,
    "start_time": "2024-07-14T03:12:48.564Z"
   },
   {
    "duration": 198,
    "start_time": "2024-07-14T03:12:48.787Z"
   },
   {
    "duration": 6,
    "start_time": "2024-07-14T03:12:48.987Z"
   },
   {
    "duration": 189,
    "start_time": "2024-07-14T03:12:48.996Z"
   },
   {
    "duration": 779,
    "start_time": "2024-07-14T03:12:49.188Z"
   },
   {
    "duration": 12,
    "start_time": "2024-07-14T03:12:49.970Z"
   },
   {
    "duration": 29,
    "start_time": "2024-07-14T03:12:49.984Z"
   },
   {
    "duration": 35,
    "start_time": "2024-07-14T03:12:50.016Z"
   },
   {
    "duration": 71,
    "start_time": "2024-07-14T03:12:50.054Z"
   },
   {
    "duration": 18,
    "start_time": "2024-07-14T03:12:50.129Z"
   },
   {
    "duration": 5,
    "start_time": "2024-07-14T03:12:50.150Z"
   },
   {
    "duration": 5,
    "start_time": "2024-07-14T03:12:50.158Z"
   },
   {
    "duration": 6,
    "start_time": "2024-07-14T03:12:50.166Z"
   },
   {
    "duration": 3,
    "start_time": "2024-07-14T03:12:50.214Z"
   },
   {
    "duration": 12111,
    "start_time": "2024-07-14T03:12:50.221Z"
   },
   {
    "duration": 14,
    "start_time": "2024-07-14T03:13:59.517Z"
   },
   {
    "duration": 6,
    "start_time": "2024-07-14T03:14:08.565Z"
   },
   {
    "duration": 321,
    "start_time": "2024-07-14T03:14:17.889Z"
   },
   {
    "duration": 25,
    "start_time": "2024-07-14T03:14:19.639Z"
   },
   {
    "duration": 26,
    "start_time": "2024-07-14T03:14:20.378Z"
   },
   {
    "duration": 1384,
    "start_time": "2024-07-14T03:14:25.737Z"
   },
   {
    "duration": 1358,
    "start_time": "2024-07-14T03:14:30.993Z"
   },
   {
    "duration": 786,
    "start_time": "2024-07-14T03:14:32.356Z"
   },
   {
    "duration": 45,
    "start_time": "2024-07-14T03:14:33.145Z"
   },
   {
    "duration": 187,
    "start_time": "2024-07-14T03:14:33.193Z"
   },
   {
    "duration": 46,
    "start_time": "2024-07-14T03:14:33.385Z"
   },
   {
    "duration": 6,
    "start_time": "2024-07-14T03:14:33.435Z"
   },
   {
    "duration": 31,
    "start_time": "2024-07-14T03:14:33.445Z"
   },
   {
    "duration": 53,
    "start_time": "2024-07-14T03:14:33.480Z"
   },
   {
    "duration": 7,
    "start_time": "2024-07-14T03:14:33.537Z"
   },
   {
    "duration": 5,
    "start_time": "2024-07-14T03:14:33.548Z"
   },
   {
    "duration": 147,
    "start_time": "2024-07-14T03:14:33.557Z"
   },
   {
    "duration": 217,
    "start_time": "2024-07-14T03:14:33.715Z"
   },
   {
    "duration": 170,
    "start_time": "2024-07-14T03:14:33.935Z"
   },
   {
    "duration": 5,
    "start_time": "2024-07-14T03:14:34.114Z"
   },
   {
    "duration": 186,
    "start_time": "2024-07-14T03:14:34.123Z"
   },
   {
    "duration": 768,
    "start_time": "2024-07-14T03:14:34.311Z"
   },
   {
    "duration": 12,
    "start_time": "2024-07-14T03:14:35.082Z"
   },
   {
    "duration": 17,
    "start_time": "2024-07-14T03:14:35.096Z"
   },
   {
    "duration": 37,
    "start_time": "2024-07-14T03:14:35.116Z"
   },
   {
    "duration": 74,
    "start_time": "2024-07-14T03:14:35.156Z"
   },
   {
    "duration": 17,
    "start_time": "2024-07-14T03:14:35.233Z"
   },
   {
    "duration": 4,
    "start_time": "2024-07-14T03:14:35.253Z"
   },
   {
    "duration": 6,
    "start_time": "2024-07-14T03:14:35.260Z"
   },
   {
    "duration": 46,
    "start_time": "2024-07-14T03:14:35.269Z"
   },
   {
    "duration": 4,
    "start_time": "2024-07-14T03:14:35.318Z"
   },
   {
    "duration": 6,
    "start_time": "2024-07-14T03:14:35.328Z"
   },
   {
    "duration": 0,
    "start_time": "2024-07-14T03:14:35.337Z"
   },
   {
    "duration": 0,
    "start_time": "2024-07-14T03:14:35.340Z"
   },
   {
    "duration": 0,
    "start_time": "2024-07-14T03:14:35.342Z"
   },
   {
    "duration": 0,
    "start_time": "2024-07-14T03:14:35.345Z"
   },
   {
    "duration": 0,
    "start_time": "2024-07-14T03:14:35.349Z"
   },
   {
    "duration": 180,
    "start_time": "2024-07-14T03:14:50.953Z"
   },
   {
    "duration": 3130,
    "start_time": "2024-07-14T03:14:52.285Z"
   },
   {
    "duration": 2966,
    "start_time": "2024-07-14T03:14:56.565Z"
   },
   {
    "duration": 417,
    "start_time": "2024-07-14T03:15:02.536Z"
   },
   {
    "duration": 24,
    "start_time": "2024-07-14T03:15:11.862Z"
   },
   {
    "duration": 171,
    "start_time": "2024-07-14T03:15:24.126Z"
   },
   {
    "duration": 2849,
    "start_time": "2024-07-14T03:15:24.966Z"
   },
   {
    "duration": 101,
    "start_time": "2024-07-14T03:15:27.819Z"
   },
   {
    "duration": 26,
    "start_time": "2024-07-14T03:15:39.394Z"
   },
   {
    "duration": 6,
    "start_time": "2024-07-14T03:15:41.048Z"
   },
   {
    "duration": 2845,
    "start_time": "2024-07-14T03:16:09.476Z"
   },
   {
    "duration": 26,
    "start_time": "2024-07-14T03:16:22.866Z"
   },
   {
    "duration": 1339,
    "start_time": "2024-07-14T03:16:32.476Z"
   },
   {
    "duration": 774,
    "start_time": "2024-07-14T03:16:33.819Z"
   },
   {
    "duration": 52,
    "start_time": "2024-07-14T03:16:34.596Z"
   },
   {
    "duration": 165,
    "start_time": "2024-07-14T03:16:34.652Z"
   },
   {
    "duration": 24,
    "start_time": "2024-07-14T03:16:34.821Z"
   },
   {
    "duration": 5,
    "start_time": "2024-07-14T03:16:34.848Z"
   },
   {
    "duration": 60,
    "start_time": "2024-07-14T03:16:34.856Z"
   },
   {
    "duration": 26,
    "start_time": "2024-07-14T03:16:34.919Z"
   },
   {
    "duration": 8,
    "start_time": "2024-07-14T03:16:34.947Z"
   },
   {
    "duration": 6,
    "start_time": "2024-07-14T03:16:34.958Z"
   },
   {
    "duration": 147,
    "start_time": "2024-07-14T03:16:34.967Z"
   },
   {
    "duration": 225,
    "start_time": "2024-07-14T03:16:35.119Z"
   },
   {
    "duration": 189,
    "start_time": "2024-07-14T03:16:35.347Z"
   },
   {
    "duration": 5,
    "start_time": "2024-07-14T03:16:35.542Z"
   },
   {
    "duration": 177,
    "start_time": "2024-07-14T03:16:35.550Z"
   },
   {
    "duration": 791,
    "start_time": "2024-07-14T03:16:35.730Z"
   },
   {
    "duration": 12,
    "start_time": "2024-07-14T03:16:36.524Z"
   },
   {
    "duration": 6,
    "start_time": "2024-07-14T03:16:36.538Z"
   },
   {
    "duration": 68,
    "start_time": "2024-07-14T03:16:36.547Z"
   },
   {
    "duration": 45,
    "start_time": "2024-07-14T03:16:36.619Z"
   },
   {
    "duration": 47,
    "start_time": "2024-07-14T03:16:36.667Z"
   },
   {
    "duration": 4,
    "start_time": "2024-07-14T03:16:36.717Z"
   },
   {
    "duration": 8,
    "start_time": "2024-07-14T03:16:36.725Z"
   },
   {
    "duration": 5,
    "start_time": "2024-07-14T03:16:36.736Z"
   },
   {
    "duration": 4,
    "start_time": "2024-07-14T03:16:36.744Z"
   },
   {
    "duration": 7,
    "start_time": "2024-07-14T03:16:36.751Z"
   },
   {
    "duration": 0,
    "start_time": "2024-07-14T03:16:36.761Z"
   },
   {
    "duration": 0,
    "start_time": "2024-07-14T03:16:36.813Z"
   },
   {
    "duration": 0,
    "start_time": "2024-07-14T03:16:36.815Z"
   },
   {
    "duration": 0,
    "start_time": "2024-07-14T03:16:36.817Z"
   },
   {
    "duration": 0,
    "start_time": "2024-07-14T03:16:36.820Z"
   },
   {
    "duration": 411,
    "start_time": "2024-07-14T03:16:56.007Z"
   },
   {
    "duration": 3231,
    "start_time": "2024-07-14T03:16:59.410Z"
   },
   {
    "duration": 109,
    "start_time": "2024-07-14T03:17:02.716Z"
   },
   {
    "duration": 29,
    "start_time": "2024-07-14T03:17:09.421Z"
   },
   {
    "duration": 5,
    "start_time": "2024-07-14T03:17:10.601Z"
   },
   {
    "duration": 3016,
    "start_time": "2024-07-14T03:17:56.002Z"
   },
   {
    "duration": 5,
    "start_time": "2024-07-14T03:18:02.128Z"
   },
   {
    "duration": 23,
    "start_time": "2024-07-14T03:20:51.051Z"
   },
   {
    "duration": 23,
    "start_time": "2024-07-14T03:21:02.022Z"
   },
   {
    "duration": 1316,
    "start_time": "2024-07-14T03:21:12.269Z"
   },
   {
    "duration": 755,
    "start_time": "2024-07-14T03:21:13.588Z"
   },
   {
    "duration": 42,
    "start_time": "2024-07-14T03:21:14.346Z"
   },
   {
    "duration": 183,
    "start_time": "2024-07-14T03:21:14.391Z"
   },
   {
    "duration": 45,
    "start_time": "2024-07-14T03:21:14.578Z"
   },
   {
    "duration": 5,
    "start_time": "2024-07-14T03:21:14.625Z"
   },
   {
    "duration": 29,
    "start_time": "2024-07-14T03:21:14.633Z"
   },
   {
    "duration": 57,
    "start_time": "2024-07-14T03:21:14.665Z"
   },
   {
    "duration": 7,
    "start_time": "2024-07-14T03:21:14.726Z"
   },
   {
    "duration": 7,
    "start_time": "2024-07-14T03:21:14.736Z"
   },
   {
    "duration": 129,
    "start_time": "2024-07-14T03:21:14.746Z"
   },
   {
    "duration": 225,
    "start_time": "2024-07-14T03:21:14.878Z"
   },
   {
    "duration": 166,
    "start_time": "2024-07-14T03:21:15.106Z"
   },
   {
    "duration": 5,
    "start_time": "2024-07-14T03:21:15.279Z"
   },
   {
    "duration": 183,
    "start_time": "2024-07-14T03:21:15.287Z"
   },
   {
    "duration": 771,
    "start_time": "2024-07-14T03:21:15.472Z"
   },
   {
    "duration": 12,
    "start_time": "2024-07-14T03:21:16.246Z"
   },
   {
    "duration": 5,
    "start_time": "2024-07-14T03:21:16.262Z"
   },
   {
    "duration": 66,
    "start_time": "2024-07-14T03:21:16.270Z"
   },
   {
    "duration": 45,
    "start_time": "2024-07-14T03:21:16.339Z"
   },
   {
    "duration": 35,
    "start_time": "2024-07-14T03:21:16.387Z"
   },
   {
    "duration": 4,
    "start_time": "2024-07-14T03:21:16.425Z"
   },
   {
    "duration": 7,
    "start_time": "2024-07-14T03:21:16.433Z"
   },
   {
    "duration": 6,
    "start_time": "2024-07-14T03:21:16.444Z"
   },
   {
    "duration": 5,
    "start_time": "2024-07-14T03:21:16.454Z"
   },
   {
    "duration": 7,
    "start_time": "2024-07-14T03:21:16.514Z"
   },
   {
    "duration": 0,
    "start_time": "2024-07-14T03:21:16.524Z"
   },
   {
    "duration": 0,
    "start_time": "2024-07-14T03:21:16.526Z"
   },
   {
    "duration": 0,
    "start_time": "2024-07-14T03:21:16.528Z"
   },
   {
    "duration": 2991,
    "start_time": "2024-07-14T03:29:28.141Z"
   },
   {
    "duration": 232,
    "start_time": "2024-07-14T03:30:24.801Z"
   },
   {
    "duration": 242,
    "start_time": "2024-07-14T03:31:03.304Z"
   },
   {
    "duration": 42,
    "start_time": "2024-07-14T03:31:51.549Z"
   },
   {
    "duration": 402,
    "start_time": "2024-07-14T03:32:24.643Z"
   },
   {
    "duration": 20,
    "start_time": "2024-07-14T03:32:32.539Z"
   },
   {
    "duration": 31,
    "start_time": "2024-07-14T03:33:44.653Z"
   },
   {
    "duration": 9,
    "start_time": "2024-07-14T03:33:56.419Z"
   },
   {
    "duration": 909,
    "start_time": "2024-07-14T03:34:23.572Z"
   },
   {
    "duration": 12,
    "start_time": "2024-07-14T03:34:37.838Z"
   },
   {
    "duration": 27,
    "start_time": "2024-07-14T03:35:22.242Z"
   },
   {
    "duration": 101,
    "start_time": "2024-07-14T03:35:46.277Z"
   },
   {
    "duration": 96,
    "start_time": "2024-07-14T03:36:01.121Z"
   },
   {
    "duration": 10,
    "start_time": "2024-07-14T03:36:17.017Z"
   },
   {
    "duration": 10,
    "start_time": "2024-07-14T03:36:33.326Z"
   },
   {
    "duration": 26,
    "start_time": "2024-07-14T03:36:43.524Z"
   },
   {
    "duration": 33,
    "start_time": "2024-07-14T03:36:55.398Z"
   },
   {
    "duration": 28,
    "start_time": "2024-07-14T03:37:24.143Z"
   },
   {
    "duration": 9,
    "start_time": "2024-07-14T03:37:41.415Z"
   },
   {
    "duration": 14,
    "start_time": "2024-07-14T03:37:43.514Z"
   },
   {
    "duration": 11,
    "start_time": "2024-07-14T03:37:47.768Z"
   },
   {
    "duration": 7,
    "start_time": "2024-07-14T03:38:19.678Z"
   },
   {
    "duration": 165,
    "start_time": "2024-07-14T03:43:23.770Z"
   },
   {
    "duration": 172,
    "start_time": "2024-07-14T03:43:41.783Z"
   },
   {
    "duration": 1333,
    "start_time": "2024-07-14T03:44:45.554Z"
   },
   {
    "duration": 781,
    "start_time": "2024-07-14T03:44:46.890Z"
   },
   {
    "duration": 58,
    "start_time": "2024-07-14T03:44:47.675Z"
   },
   {
    "duration": 144,
    "start_time": "2024-07-14T03:44:47.736Z"
   },
   {
    "duration": 39,
    "start_time": "2024-07-14T03:44:47.885Z"
   },
   {
    "duration": 5,
    "start_time": "2024-07-14T03:44:47.928Z"
   },
   {
    "duration": 31,
    "start_time": "2024-07-14T03:44:47.936Z"
   },
   {
    "duration": 53,
    "start_time": "2024-07-14T03:44:47.971Z"
   },
   {
    "duration": 6,
    "start_time": "2024-07-14T03:44:48.027Z"
   },
   {
    "duration": 6,
    "start_time": "2024-07-14T03:44:48.036Z"
   },
   {
    "duration": 133,
    "start_time": "2024-07-14T03:44:48.045Z"
   },
   {
    "duration": 423,
    "start_time": "2024-07-14T03:44:48.181Z"
   },
   {
    "duration": 151,
    "start_time": "2024-07-14T03:44:48.611Z"
   },
   {
    "duration": 6,
    "start_time": "2024-07-14T03:44:48.770Z"
   },
   {
    "duration": 185,
    "start_time": "2024-07-14T03:44:48.779Z"
   },
   {
    "duration": 778,
    "start_time": "2024-07-14T03:44:48.966Z"
   },
   {
    "duration": 13,
    "start_time": "2024-07-14T03:44:49.746Z"
   },
   {
    "duration": 7,
    "start_time": "2024-07-14T03:44:49.761Z"
   },
   {
    "duration": 66,
    "start_time": "2024-07-14T03:44:49.771Z"
   },
   {
    "duration": 44,
    "start_time": "2024-07-14T03:44:49.840Z"
   },
   {
    "duration": 38,
    "start_time": "2024-07-14T03:44:49.887Z"
   },
   {
    "duration": 3,
    "start_time": "2024-07-14T03:44:49.928Z"
   },
   {
    "duration": 6,
    "start_time": "2024-07-14T03:44:49.935Z"
   },
   {
    "duration": 4,
    "start_time": "2024-07-14T03:44:49.944Z"
   },
   {
    "duration": 4,
    "start_time": "2024-07-14T03:44:49.951Z"
   },
   {
    "duration": 56,
    "start_time": "2024-07-14T03:44:49.958Z"
   },
   {
    "duration": 0,
    "start_time": "2024-07-14T03:44:50.017Z"
   },
   {
    "duration": 0,
    "start_time": "2024-07-14T03:44:50.019Z"
   },
   {
    "duration": 0,
    "start_time": "2024-07-14T03:44:50.021Z"
   },
   {
    "duration": 0,
    "start_time": "2024-07-14T03:44:50.023Z"
   },
   {
    "duration": 0,
    "start_time": "2024-07-14T03:44:50.026Z"
   },
   {
    "duration": 181,
    "start_time": "2024-07-14T03:45:02.236Z"
   },
   {
    "duration": 318,
    "start_time": "2024-07-14T03:54:34.182Z"
   },
   {
    "duration": 1320,
    "start_time": "2024-07-14T03:54:40.152Z"
   },
   {
    "duration": 787,
    "start_time": "2024-07-14T03:54:41.476Z"
   },
   {
    "duration": 53,
    "start_time": "2024-07-14T03:54:42.265Z"
   },
   {
    "duration": 155,
    "start_time": "2024-07-14T03:54:42.321Z"
   },
   {
    "duration": 41,
    "start_time": "2024-07-14T03:54:42.480Z"
   },
   {
    "duration": 431,
    "start_time": "2024-07-14T03:54:42.524Z"
   },
   {
    "duration": 0,
    "start_time": "2024-07-14T03:54:42.960Z"
   },
   {
    "duration": 0,
    "start_time": "2024-07-14T03:54:42.962Z"
   },
   {
    "duration": 0,
    "start_time": "2024-07-14T03:54:42.964Z"
   },
   {
    "duration": 0,
    "start_time": "2024-07-14T03:54:42.966Z"
   },
   {
    "duration": 0,
    "start_time": "2024-07-14T03:54:42.968Z"
   },
   {
    "duration": 0,
    "start_time": "2024-07-14T03:54:42.971Z"
   },
   {
    "duration": 0,
    "start_time": "2024-07-14T03:54:42.973Z"
   },
   {
    "duration": 0,
    "start_time": "2024-07-14T03:54:42.975Z"
   },
   {
    "duration": 0,
    "start_time": "2024-07-14T03:54:42.976Z"
   },
   {
    "duration": 0,
    "start_time": "2024-07-14T03:54:42.978Z"
   },
   {
    "duration": 0,
    "start_time": "2024-07-14T03:54:43.012Z"
   },
   {
    "duration": 0,
    "start_time": "2024-07-14T03:54:43.016Z"
   },
   {
    "duration": 0,
    "start_time": "2024-07-14T03:54:43.019Z"
   },
   {
    "duration": 0,
    "start_time": "2024-07-14T03:54:43.021Z"
   },
   {
    "duration": 0,
    "start_time": "2024-07-14T03:54:43.024Z"
   },
   {
    "duration": 0,
    "start_time": "2024-07-14T03:54:43.036Z"
   },
   {
    "duration": 0,
    "start_time": "2024-07-14T03:54:43.038Z"
   },
   {
    "duration": 0,
    "start_time": "2024-07-14T03:54:43.048Z"
   },
   {
    "duration": 0,
    "start_time": "2024-07-14T03:54:43.050Z"
   },
   {
    "duration": 0,
    "start_time": "2024-07-14T03:54:43.054Z"
   },
   {
    "duration": 0,
    "start_time": "2024-07-14T03:54:43.056Z"
   },
   {
    "duration": 0,
    "start_time": "2024-07-14T03:54:43.059Z"
   },
   {
    "duration": 0,
    "start_time": "2024-07-14T03:54:43.060Z"
   },
   {
    "duration": 0,
    "start_time": "2024-07-14T03:54:43.062Z"
   },
   {
    "duration": 0,
    "start_time": "2024-07-14T03:54:43.113Z"
   },
   {
    "duration": 1284,
    "start_time": "2024-07-14T03:55:07.096Z"
   },
   {
    "duration": 751,
    "start_time": "2024-07-14T03:55:08.385Z"
   },
   {
    "duration": 43,
    "start_time": "2024-07-14T03:55:09.138Z"
   },
   {
    "duration": 166,
    "start_time": "2024-07-14T03:55:09.183Z"
   },
   {
    "duration": 25,
    "start_time": "2024-07-14T03:55:09.355Z"
   },
   {
    "duration": 435,
    "start_time": "2024-07-14T03:55:09.384Z"
   },
   {
    "duration": 0,
    "start_time": "2024-07-14T03:55:09.823Z"
   },
   {
    "duration": 0,
    "start_time": "2024-07-14T03:55:09.825Z"
   },
   {
    "duration": 0,
    "start_time": "2024-07-14T03:55:09.827Z"
   },
   {
    "duration": 0,
    "start_time": "2024-07-14T03:55:09.829Z"
   },
   {
    "duration": 0,
    "start_time": "2024-07-14T03:55:09.831Z"
   },
   {
    "duration": 0,
    "start_time": "2024-07-14T03:55:09.833Z"
   },
   {
    "duration": 0,
    "start_time": "2024-07-14T03:55:09.835Z"
   },
   {
    "duration": 0,
    "start_time": "2024-07-14T03:55:09.837Z"
   },
   {
    "duration": 0,
    "start_time": "2024-07-14T03:55:09.839Z"
   },
   {
    "duration": 0,
    "start_time": "2024-07-14T03:55:09.840Z"
   },
   {
    "duration": 0,
    "start_time": "2024-07-14T03:55:09.842Z"
   },
   {
    "duration": 0,
    "start_time": "2024-07-14T03:55:09.844Z"
   },
   {
    "duration": 0,
    "start_time": "2024-07-14T03:55:09.846Z"
   },
   {
    "duration": 0,
    "start_time": "2024-07-14T03:55:09.849Z"
   },
   {
    "duration": 0,
    "start_time": "2024-07-14T03:55:09.850Z"
   },
   {
    "duration": 0,
    "start_time": "2024-07-14T03:55:09.852Z"
   },
   {
    "duration": 0,
    "start_time": "2024-07-14T03:55:09.854Z"
   },
   {
    "duration": 0,
    "start_time": "2024-07-14T03:55:09.855Z"
   },
   {
    "duration": 0,
    "start_time": "2024-07-14T03:55:09.857Z"
   },
   {
    "duration": 0,
    "start_time": "2024-07-14T03:55:09.858Z"
   },
   {
    "duration": 0,
    "start_time": "2024-07-14T03:55:09.859Z"
   },
   {
    "duration": 0,
    "start_time": "2024-07-14T03:55:09.914Z"
   },
   {
    "duration": 0,
    "start_time": "2024-07-14T03:55:09.917Z"
   },
   {
    "duration": 0,
    "start_time": "2024-07-14T03:55:09.919Z"
   },
   {
    "duration": 0,
    "start_time": "2024-07-14T03:55:09.922Z"
   },
   {
    "duration": 5,
    "start_time": "2024-07-14T03:55:33.325Z"
   },
   {
    "duration": 28,
    "start_time": "2024-07-14T03:55:45.942Z"
   },
   {
    "duration": 6,
    "start_time": "2024-07-14T03:55:46.887Z"
   },
   {
    "duration": 5,
    "start_time": "2024-07-14T03:55:48.162Z"
   },
   {
    "duration": 97,
    "start_time": "2024-07-14T03:55:50.561Z"
   },
   {
    "duration": 3,
    "start_time": "2024-07-14T04:03:10.895Z"
   },
   {
    "duration": 83,
    "start_time": "2024-07-14T04:04:02.023Z"
   },
   {
    "duration": 27,
    "start_time": "2024-07-14T04:04:03.392Z"
   },
   {
    "duration": 1321,
    "start_time": "2024-07-14T04:04:24.670Z"
   },
   {
    "duration": 796,
    "start_time": "2024-07-14T04:04:25.994Z"
   },
   {
    "duration": 55,
    "start_time": "2024-07-14T04:04:26.794Z"
   },
   {
    "duration": 167,
    "start_time": "2024-07-14T04:04:26.853Z"
   },
   {
    "duration": 24,
    "start_time": "2024-07-14T04:04:27.023Z"
   },
   {
    "duration": 5,
    "start_time": "2024-07-14T04:04:27.051Z"
   },
   {
    "duration": 65,
    "start_time": "2024-07-14T04:04:27.060Z"
   },
   {
    "duration": 24,
    "start_time": "2024-07-14T04:04:27.129Z"
   },
   {
    "duration": 5,
    "start_time": "2024-07-14T04:04:27.156Z"
   },
   {
    "duration": 6,
    "start_time": "2024-07-14T04:04:27.167Z"
   },
   {
    "duration": 105,
    "start_time": "2024-07-14T04:04:27.212Z"
   },
   {
    "duration": 399,
    "start_time": "2024-07-14T04:04:27.319Z"
   },
   {
    "duration": 173,
    "start_time": "2024-07-14T04:04:27.721Z"
   },
   {
    "duration": 6,
    "start_time": "2024-07-14T04:04:27.897Z"
   },
   {
    "duration": 185,
    "start_time": "2024-07-14T04:04:27.914Z"
   },
   {
    "duration": 776,
    "start_time": "2024-07-14T04:04:28.102Z"
   },
   {
    "duration": 12,
    "start_time": "2024-07-14T04:04:28.881Z"
   },
   {
    "duration": 5,
    "start_time": "2024-07-14T04:04:28.912Z"
   },
   {
    "duration": 36,
    "start_time": "2024-07-14T04:04:28.920Z"
   },
   {
    "duration": 82,
    "start_time": "2024-07-14T04:04:28.959Z"
   },
   {
    "duration": 18,
    "start_time": "2024-07-14T04:04:29.044Z"
   },
   {
    "duration": 4,
    "start_time": "2024-07-14T04:04:29.064Z"
   },
   {
    "duration": 6,
    "start_time": "2024-07-14T04:04:29.071Z"
   },
   {
    "duration": 6,
    "start_time": "2024-07-14T04:04:29.113Z"
   },
   {
    "duration": 5,
    "start_time": "2024-07-14T04:04:29.122Z"
   },
   {
    "duration": 13,
    "start_time": "2024-07-14T04:04:29.131Z"
   },
   {
    "duration": 0,
    "start_time": "2024-07-14T04:04:29.147Z"
   },
   {
    "duration": 0,
    "start_time": "2024-07-14T04:04:29.149Z"
   },
   {
    "duration": 0,
    "start_time": "2024-07-14T04:04:29.152Z"
   },
   {
    "duration": 0,
    "start_time": "2024-07-14T04:04:29.154Z"
   },
   {
    "duration": 1541,
    "start_time": "2024-07-14T14:57:09.202Z"
   },
   {
    "duration": 891,
    "start_time": "2024-07-14T14:57:10.748Z"
   },
   {
    "duration": 41,
    "start_time": "2024-07-14T14:57:11.647Z"
   },
   {
    "duration": 197,
    "start_time": "2024-07-14T14:57:11.693Z"
   },
   {
    "duration": 49,
    "start_time": "2024-07-14T14:57:11.893Z"
   },
   {
    "duration": 5,
    "start_time": "2024-07-14T14:57:11.945Z"
   },
   {
    "duration": 30,
    "start_time": "2024-07-14T14:57:11.953Z"
   },
   {
    "duration": 54,
    "start_time": "2024-07-14T14:57:11.986Z"
   },
   {
    "duration": 6,
    "start_time": "2024-07-14T14:57:12.043Z"
   },
   {
    "duration": 5,
    "start_time": "2024-07-14T14:57:12.055Z"
   },
   {
    "duration": 144,
    "start_time": "2024-07-14T14:57:12.064Z"
   },
   {
    "duration": 456,
    "start_time": "2024-07-14T14:57:12.211Z"
   },
   {
    "duration": 177,
    "start_time": "2024-07-14T14:57:12.671Z"
   },
   {
    "duration": 6,
    "start_time": "2024-07-14T14:57:12.851Z"
   },
   {
    "duration": 214,
    "start_time": "2024-07-14T14:57:12.860Z"
   },
   {
    "duration": 886,
    "start_time": "2024-07-14T14:57:13.077Z"
   },
   {
    "duration": 12,
    "start_time": "2024-07-14T14:57:13.966Z"
   },
   {
    "duration": 6,
    "start_time": "2024-07-14T14:57:13.980Z"
   },
   {
    "duration": 49,
    "start_time": "2024-07-14T14:57:14.014Z"
   },
   {
    "duration": 75,
    "start_time": "2024-07-14T14:57:14.067Z"
   },
   {
    "duration": 20,
    "start_time": "2024-07-14T14:57:14.148Z"
   },
   {
    "duration": 4,
    "start_time": "2024-07-14T14:57:14.171Z"
   },
   {
    "duration": 5,
    "start_time": "2024-07-14T14:57:14.179Z"
   },
   {
    "duration": 6,
    "start_time": "2024-07-14T14:57:14.215Z"
   },
   {
    "duration": 4,
    "start_time": "2024-07-14T14:57:14.225Z"
   },
   {
    "duration": 9,
    "start_time": "2024-07-14T14:57:14.233Z"
   },
   {
    "duration": 0,
    "start_time": "2024-07-14T14:57:14.247Z"
   },
   {
    "duration": 0,
    "start_time": "2024-07-14T14:57:14.249Z"
   },
   {
    "duration": 0,
    "start_time": "2024-07-14T14:57:14.252Z"
   },
   {
    "duration": 0,
    "start_time": "2024-07-14T14:57:14.254Z"
   },
   {
    "duration": 452,
    "start_time": "2024-07-14T14:58:16.339Z"
   },
   {
    "duration": 172,
    "start_time": "2024-07-14T15:01:06.668Z"
   },
   {
    "duration": 238,
    "start_time": "2024-07-14T15:02:23.371Z"
   },
   {
    "duration": 5,
    "start_time": "2024-07-14T15:02:49.382Z"
   },
   {
    "duration": 273,
    "start_time": "2024-07-14T15:02:54.180Z"
   },
   {
    "duration": 45,
    "start_time": "2024-07-14T15:03:19.630Z"
   },
   {
    "duration": 1233,
    "start_time": "2024-07-14T15:03:42.395Z"
   },
   {
    "duration": 12,
    "start_time": "2024-07-14T15:04:23.049Z"
   },
   {
    "duration": 13,
    "start_time": "2024-07-14T15:04:53.230Z"
   },
   {
    "duration": 1486,
    "start_time": "2024-07-14T15:07:02.001Z"
   },
   {
    "duration": 852,
    "start_time": "2024-07-14T15:07:03.490Z"
   },
   {
    "duration": 46,
    "start_time": "2024-07-14T15:07:04.347Z"
   },
   {
    "duration": 184,
    "start_time": "2024-07-14T15:07:04.398Z"
   },
   {
    "duration": 40,
    "start_time": "2024-07-14T15:07:04.585Z"
   },
   {
    "duration": 15,
    "start_time": "2024-07-14T15:07:04.628Z"
   },
   {
    "duration": 30,
    "start_time": "2024-07-14T15:07:04.646Z"
   },
   {
    "duration": 52,
    "start_time": "2024-07-14T15:07:04.679Z"
   },
   {
    "duration": 10,
    "start_time": "2024-07-14T15:07:04.739Z"
   },
   {
    "duration": 6,
    "start_time": "2024-07-14T15:07:04.754Z"
   },
   {
    "duration": 127,
    "start_time": "2024-07-14T15:07:04.762Z"
   },
   {
    "duration": 197,
    "start_time": "2024-07-14T15:07:04.892Z"
   },
   {
    "duration": 19,
    "start_time": "2024-07-14T15:07:05.093Z"
   },
   {
    "duration": 145,
    "start_time": "2024-07-14T15:07:05.124Z"
   },
   {
    "duration": 864,
    "start_time": "2024-07-14T15:07:05.271Z"
   },
   {
    "duration": 11,
    "start_time": "2024-07-14T15:07:06.143Z"
   },
   {
    "duration": 6,
    "start_time": "2024-07-14T15:07:06.157Z"
   },
   {
    "duration": 48,
    "start_time": "2024-07-14T15:07:06.167Z"
   },
   {
    "duration": 51,
    "start_time": "2024-07-14T15:07:06.218Z"
   },
   {
    "duration": 42,
    "start_time": "2024-07-14T15:07:06.273Z"
   },
   {
    "duration": 15,
    "start_time": "2024-07-14T15:07:06.318Z"
   },
   {
    "duration": 5,
    "start_time": "2024-07-14T15:07:06.348Z"
   },
   {
    "duration": 5,
    "start_time": "2024-07-14T15:07:06.357Z"
   },
   {
    "duration": 4,
    "start_time": "2024-07-14T15:07:06.365Z"
   },
   {
    "duration": 8,
    "start_time": "2024-07-14T15:07:06.372Z"
   },
   {
    "duration": 0,
    "start_time": "2024-07-14T15:07:06.383Z"
   },
   {
    "duration": 0,
    "start_time": "2024-07-14T15:07:06.386Z"
   },
   {
    "duration": 0,
    "start_time": "2024-07-14T15:07:06.420Z"
   },
   {
    "duration": 0,
    "start_time": "2024-07-14T15:07:06.421Z"
   },
   {
    "duration": 5,
    "start_time": "2024-07-14T15:07:26.544Z"
   },
   {
    "duration": 767,
    "start_time": "2024-07-14T15:07:27.477Z"
   },
   {
    "duration": 39,
    "start_time": "2024-07-14T15:07:28.410Z"
   },
   {
    "duration": 173,
    "start_time": "2024-07-14T15:07:28.889Z"
   },
   {
    "duration": 18,
    "start_time": "2024-07-14T15:07:29.795Z"
   },
   {
    "duration": 4,
    "start_time": "2024-07-14T15:07:30.299Z"
   },
   {
    "duration": 31,
    "start_time": "2024-07-14T15:07:30.853Z"
   },
   {
    "duration": 24,
    "start_time": "2024-07-14T15:07:31.382Z"
   },
   {
    "duration": 6,
    "start_time": "2024-07-14T15:07:31.938Z"
   },
   {
    "duration": 6,
    "start_time": "2024-07-14T15:07:32.457Z"
   },
   {
    "duration": 117,
    "start_time": "2024-07-14T15:07:33.137Z"
   },
   {
    "duration": 206,
    "start_time": "2024-07-14T15:07:37.929Z"
   },
   {
    "duration": 5,
    "start_time": "2024-07-14T15:07:38.667Z"
   },
   {
    "duration": 126,
    "start_time": "2024-07-14T15:07:39.168Z"
   },
   {
    "duration": 871,
    "start_time": "2024-07-14T15:07:39.864Z"
   },
   {
    "duration": 11,
    "start_time": "2024-07-14T15:07:40.739Z"
   },
   {
    "duration": 10,
    "start_time": "2024-07-14T15:07:41.428Z"
   },
   {
    "duration": 35,
    "start_time": "2024-07-14T15:07:43.351Z"
   },
   {
    "duration": 52,
    "start_time": "2024-07-14T15:07:48.694Z"
   },
   {
    "duration": 18,
    "start_time": "2024-07-14T15:07:51.372Z"
   },
   {
    "duration": 4,
    "start_time": "2024-07-14T15:07:54.054Z"
   },
   {
    "duration": 6,
    "start_time": "2024-07-14T15:07:54.537Z"
   },
   {
    "duration": 6,
    "start_time": "2024-07-14T15:07:55.132Z"
   },
   {
    "duration": 3,
    "start_time": "2024-07-14T15:07:55.864Z"
   },
   {
    "duration": 2894,
    "start_time": "2024-07-14T15:08:03.537Z"
   },
   {
    "duration": 74,
    "start_time": "2024-07-14T15:08:06.441Z"
   },
   {
    "duration": 167,
    "start_time": "2024-07-14T15:08:30.574Z"
   },
   {
    "duration": 1425,
    "start_time": "2024-07-14T15:08:39.718Z"
   },
   {
    "duration": 116,
    "start_time": "2024-07-14T15:08:47.415Z"
   },
   {
    "duration": 227,
    "start_time": "2024-07-14T15:08:51.231Z"
   },
   {
    "duration": 19,
    "start_time": "2024-07-14T15:09:36.165Z"
   },
   {
    "duration": 23,
    "start_time": "2024-07-14T15:09:37.420Z"
   },
   {
    "duration": 4,
    "start_time": "2024-07-14T15:17:13.175Z"
   },
   {
    "duration": 22,
    "start_time": "2024-07-14T15:17:14.056Z"
   },
   {
    "duration": 25,
    "start_time": "2024-07-14T15:17:44.464Z"
   },
   {
    "duration": 3929,
    "start_time": "2024-07-14T15:18:54.431Z"
   },
   {
    "duration": 0,
    "start_time": "2024-07-14T15:18:58.363Z"
   },
   {
    "duration": 0,
    "start_time": "2024-07-14T15:18:58.365Z"
   },
   {
    "duration": 4,
    "start_time": "2024-07-14T15:19:17.619Z"
   },
   {
    "duration": 4,
    "start_time": "2024-07-14T15:19:21.365Z"
   },
   {
    "duration": 23,
    "start_time": "2024-07-14T15:19:22.284Z"
   },
   {
    "duration": 17,
    "start_time": "2024-07-14T15:19:23.260Z"
   },
   {
    "duration": 6,
    "start_time": "2024-07-14T15:19:42.301Z"
   },
   {
    "duration": 4,
    "start_time": "2024-07-14T15:19:42.754Z"
   },
   {
    "duration": 731,
    "start_time": "2024-07-14T15:19:44.831Z"
   },
   {
    "duration": 40,
    "start_time": "2024-07-14T15:19:46.151Z"
   },
   {
    "duration": 223,
    "start_time": "2024-07-14T15:19:53.542Z"
   },
   {
    "duration": 28,
    "start_time": "2024-07-14T15:20:08.620Z"
   },
   {
    "duration": 29,
    "start_time": "2024-07-14T15:20:10.237Z"
   },
   {
    "duration": 1366,
    "start_time": "2024-07-14T15:20:18.907Z"
   },
   {
    "duration": 247,
    "start_time": "2024-07-14T15:20:20.277Z"
   },
   {
    "duration": 803,
    "start_time": "2024-07-14T15:20:20.526Z"
   },
   {
    "duration": 41,
    "start_time": "2024-07-14T15:20:21.332Z"
   },
   {
    "duration": 175,
    "start_time": "2024-07-14T15:20:21.378Z"
   },
   {
    "duration": 22,
    "start_time": "2024-07-14T15:20:21.556Z"
   },
   {
    "duration": 5,
    "start_time": "2024-07-14T15:20:21.581Z"
   },
   {
    "duration": 33,
    "start_time": "2024-07-14T15:20:21.613Z"
   },
   {
    "duration": 24,
    "start_time": "2024-07-14T15:20:21.649Z"
   },
   {
    "duration": 36,
    "start_time": "2024-07-14T15:20:21.676Z"
   },
   {
    "duration": 6,
    "start_time": "2024-07-14T15:20:21.716Z"
   },
   {
    "duration": 123,
    "start_time": "2024-07-14T15:20:21.727Z"
   },
   {
    "duration": 178,
    "start_time": "2024-07-14T15:20:21.853Z"
   },
   {
    "duration": 6,
    "start_time": "2024-07-14T15:20:22.038Z"
   },
   {
    "duration": 150,
    "start_time": "2024-07-14T15:20:22.048Z"
   },
   {
    "duration": 844,
    "start_time": "2024-07-14T15:20:22.201Z"
   },
   {
    "duration": 14,
    "start_time": "2024-07-14T15:20:23.048Z"
   },
   {
    "duration": 6,
    "start_time": "2024-07-14T15:20:23.065Z"
   },
   {
    "duration": 70,
    "start_time": "2024-07-14T15:20:23.075Z"
   },
   {
    "duration": 43,
    "start_time": "2024-07-14T15:20:23.148Z"
   },
   {
    "duration": 33,
    "start_time": "2024-07-14T15:20:23.194Z"
   },
   {
    "duration": 5,
    "start_time": "2024-07-14T15:20:23.230Z"
   },
   {
    "duration": 6,
    "start_time": "2024-07-14T15:20:23.238Z"
   },
   {
    "duration": 5,
    "start_time": "2024-07-14T15:20:23.248Z"
   },
   {
    "duration": 5,
    "start_time": "2024-07-14T15:20:23.256Z"
   },
   {
    "duration": 10,
    "start_time": "2024-07-14T15:20:23.312Z"
   },
   {
    "duration": 0,
    "start_time": "2024-07-14T15:20:23.326Z"
   },
   {
    "duration": 0,
    "start_time": "2024-07-14T15:20:23.329Z"
   },
   {
    "duration": 0,
    "start_time": "2024-07-14T15:20:23.331Z"
   },
   {
    "duration": 0,
    "start_time": "2024-07-14T15:20:23.333Z"
   },
   {
    "duration": 0,
    "start_time": "2024-07-14T15:20:23.335Z"
   },
   {
    "duration": 0,
    "start_time": "2024-07-14T15:20:23.337Z"
   },
   {
    "duration": 5,
    "start_time": "2024-07-14T15:20:59.434Z"
   },
   {
    "duration": 4,
    "start_time": "2024-07-14T15:21:00.211Z"
   },
   {
    "duration": 701,
    "start_time": "2024-07-14T15:21:01.423Z"
   },
   {
    "duration": 27,
    "start_time": "2024-07-14T15:21:02.262Z"
   },
   {
    "duration": 151,
    "start_time": "2024-07-14T15:21:02.774Z"
   },
   {
    "duration": 20,
    "start_time": "2024-07-14T15:21:03.610Z"
   },
   {
    "duration": 6,
    "start_time": "2024-07-14T15:21:04.087Z"
   },
   {
    "duration": 25,
    "start_time": "2024-07-14T15:21:04.614Z"
   },
   {
    "duration": 24,
    "start_time": "2024-07-14T15:21:05.109Z"
   },
   {
    "duration": 5,
    "start_time": "2024-07-14T15:21:05.640Z"
   },
   {
    "duration": 7,
    "start_time": "2024-07-14T15:21:06.075Z"
   },
   {
    "duration": 97,
    "start_time": "2024-07-14T15:21:06.541Z"
   },
   {
    "duration": 183,
    "start_time": "2024-07-14T15:21:08.735Z"
   },
   {
    "duration": 6,
    "start_time": "2024-07-14T15:21:09.345Z"
   },
   {
    "duration": 120,
    "start_time": "2024-07-14T15:21:09.855Z"
   },
   {
    "duration": 830,
    "start_time": "2024-07-14T15:21:10.633Z"
   },
   {
    "duration": 13,
    "start_time": "2024-07-14T15:21:11.520Z"
   },
   {
    "duration": 5,
    "start_time": "2024-07-14T15:21:12.145Z"
   },
   {
    "duration": 35,
    "start_time": "2024-07-14T15:21:13.384Z"
   },
   {
    "duration": 48,
    "start_time": "2024-07-14T15:21:14.827Z"
   },
   {
    "duration": 17,
    "start_time": "2024-07-14T15:21:15.740Z"
   },
   {
    "duration": 4,
    "start_time": "2024-07-14T15:21:26.226Z"
   },
   {
    "duration": 470,
    "start_time": "2024-07-14T15:21:27.135Z"
   },
   {
    "duration": 174,
    "start_time": "2024-07-14T15:21:36.654Z"
   },
   {
    "duration": 19,
    "start_time": "2024-07-14T15:26:38.429Z"
   },
   {
    "duration": 282,
    "start_time": "2024-07-14T15:26:39.646Z"
   },
   {
    "duration": 1531,
    "start_time": "2024-07-14T15:26:52.728Z"
   },
   {
    "duration": 287,
    "start_time": "2024-07-14T15:26:54.262Z"
   },
   {
    "duration": 929,
    "start_time": "2024-07-14T15:26:54.553Z"
   },
   {
    "duration": 59,
    "start_time": "2024-07-14T15:26:55.485Z"
   },
   {
    "duration": 181,
    "start_time": "2024-07-14T15:26:55.549Z"
   },
   {
    "duration": 28,
    "start_time": "2024-07-14T15:26:55.732Z"
   },
   {
    "duration": 4,
    "start_time": "2024-07-14T15:26:55.763Z"
   },
   {
    "duration": 54,
    "start_time": "2024-07-14T15:26:55.770Z"
   },
   {
    "duration": 30,
    "start_time": "2024-07-14T15:26:55.828Z"
   },
   {
    "duration": 8,
    "start_time": "2024-07-14T15:26:55.861Z"
   },
   {
    "duration": 6,
    "start_time": "2024-07-14T15:26:55.872Z"
   },
   {
    "duration": 155,
    "start_time": "2024-07-14T15:26:55.881Z"
   },
   {
    "duration": 168,
    "start_time": "2024-07-14T15:26:56.039Z"
   },
   {
    "duration": 5,
    "start_time": "2024-07-14T15:26:56.219Z"
   },
   {
    "duration": 150,
    "start_time": "2024-07-14T15:26:56.234Z"
   },
   {
    "duration": 856,
    "start_time": "2024-07-14T15:26:56.387Z"
   },
   {
    "duration": 9,
    "start_time": "2024-07-14T15:26:57.247Z"
   },
   {
    "duration": 5,
    "start_time": "2024-07-14T15:26:57.259Z"
   },
   {
    "duration": 68,
    "start_time": "2024-07-14T15:26:57.267Z"
   },
   {
    "duration": 45,
    "start_time": "2024-07-14T15:26:57.338Z"
   },
   {
    "duration": 50,
    "start_time": "2024-07-14T15:26:57.387Z"
   },
   {
    "duration": 3,
    "start_time": "2024-07-14T15:26:57.446Z"
   },
   {
    "duration": 6,
    "start_time": "2024-07-14T15:26:57.453Z"
   },
   {
    "duration": 5,
    "start_time": "2024-07-14T15:26:57.462Z"
   },
   {
    "duration": 4,
    "start_time": "2024-07-14T15:26:57.470Z"
   },
   {
    "duration": 42,
    "start_time": "2024-07-14T15:26:57.477Z"
   },
   {
    "duration": 0,
    "start_time": "2024-07-14T15:26:57.523Z"
   },
   {
    "duration": 0,
    "start_time": "2024-07-14T15:26:57.528Z"
   },
   {
    "duration": 0,
    "start_time": "2024-07-14T15:26:57.530Z"
   },
   {
    "duration": 0,
    "start_time": "2024-07-14T15:26:57.532Z"
   },
   {
    "duration": 0,
    "start_time": "2024-07-14T15:26:57.533Z"
   },
   {
    "duration": 1568,
    "start_time": "2024-07-14T15:51:45.485Z"
   },
   {
    "duration": 1384,
    "start_time": "2024-07-14T15:52:07.347Z"
   },
   {
    "duration": 1378,
    "start_time": "2024-07-14T15:52:28.690Z"
   },
   {
    "duration": 16,
    "start_time": "2024-07-14T15:53:00.836Z"
   },
   {
    "duration": 1376,
    "start_time": "2024-07-14T15:53:27.158Z"
   },
   {
    "duration": 1438,
    "start_time": "2024-07-14T15:54:14.035Z"
   },
   {
    "duration": 1304,
    "start_time": "2024-07-15T02:10:47.281Z"
   },
   {
    "duration": 1467,
    "start_time": "2024-07-15T02:12:12.636Z"
   },
   {
    "duration": 197,
    "start_time": "2024-07-15T02:13:11.155Z"
   },
   {
    "duration": 277,
    "start_time": "2024-07-15T02:13:18.378Z"
   },
   {
    "duration": 24,
    "start_time": "2024-07-15T02:13:19.232Z"
   },
   {
    "duration": 5,
    "start_time": "2024-07-15T02:13:19.962Z"
   },
   {
    "duration": 3,
    "start_time": "2024-07-15T02:13:20.601Z"
   },
   {
    "duration": 1762,
    "start_time": "2024-07-15T02:13:26.437Z"
   },
   {
    "duration": 1390,
    "start_time": "2024-07-15T02:19:50.358Z"
   },
   {
    "duration": 409,
    "start_time": "2024-07-15T02:19:53.134Z"
   },
   {
    "duration": 1435,
    "start_time": "2024-07-15T02:20:00.651Z"
   },
   {
    "duration": 847,
    "start_time": "2024-07-15T02:20:02.090Z"
   },
   {
    "duration": 62,
    "start_time": "2024-07-15T02:20:03.905Z"
   },
   {
    "duration": 166,
    "start_time": "2024-07-15T02:20:04.649Z"
   },
   {
    "duration": 33,
    "start_time": "2024-07-15T02:20:05.208Z"
   },
   {
    "duration": 5,
    "start_time": "2024-07-15T02:20:06.246Z"
   },
   {
    "duration": 32,
    "start_time": "2024-07-15T02:20:06.899Z"
   },
   {
    "duration": 31,
    "start_time": "2024-07-15T02:20:07.626Z"
   },
   {
    "duration": 7,
    "start_time": "2024-07-15T02:20:08.309Z"
   },
   {
    "duration": 6,
    "start_time": "2024-07-15T02:20:08.996Z"
   },
   {
    "duration": 118,
    "start_time": "2024-07-15T02:20:09.534Z"
   },
   {
    "duration": 172,
    "start_time": "2024-07-15T02:20:18.356Z"
   },
   {
    "duration": 6,
    "start_time": "2024-07-15T02:20:19.483Z"
   },
   {
    "duration": 144,
    "start_time": "2024-07-15T02:20:20.479Z"
   },
   {
    "duration": 825,
    "start_time": "2024-07-15T02:20:21.747Z"
   },
   {
    "duration": 16,
    "start_time": "2024-07-15T02:20:25.527Z"
   },
   {
    "duration": 34,
    "start_time": "2024-07-15T02:20:26.336Z"
   },
   {
    "duration": 56,
    "start_time": "2024-07-15T02:20:27.313Z"
   },
   {
    "duration": 39,
    "start_time": "2024-07-15T02:20:38.648Z"
   },
   {
    "duration": 15,
    "start_time": "2024-07-15T02:20:48.083Z"
   },
   {
    "duration": 4,
    "start_time": "2024-07-15T02:20:53.589Z"
   },
   {
    "duration": 5,
    "start_time": "2024-07-15T02:20:54.603Z"
   },
   {
    "duration": 12441,
    "start_time": "2024-07-15T02:21:04.065Z"
   },
   {
    "duration": 185,
    "start_time": "2024-07-15T02:22:35.147Z"
   },
   {
    "duration": 292,
    "start_time": "2024-07-15T02:22:35.338Z"
   },
   {
    "duration": 18,
    "start_time": "2024-07-15T02:22:49.619Z"
   },
   {
    "duration": 29,
    "start_time": "2024-07-15T02:22:50.622Z"
   },
   {
    "duration": 15,
    "start_time": "2024-07-15T02:23:28.940Z"
   },
   {
    "duration": 27,
    "start_time": "2024-07-15T02:23:32.908Z"
   },
   {
    "duration": 1449,
    "start_time": "2024-07-15T02:23:43.156Z"
   },
   {
    "duration": 910,
    "start_time": "2024-07-15T02:23:44.608Z"
   },
   {
    "duration": 54,
    "start_time": "2024-07-15T02:23:45.523Z"
   },
   {
    "duration": 190,
    "start_time": "2024-07-15T02:23:45.579Z"
   },
   {
    "duration": 42,
    "start_time": "2024-07-15T02:23:45.773Z"
   },
   {
    "duration": 6,
    "start_time": "2024-07-15T02:23:45.819Z"
   },
   {
    "duration": 36,
    "start_time": "2024-07-15T02:23:45.829Z"
   },
   {
    "duration": 53,
    "start_time": "2024-07-15T02:23:45.869Z"
   },
   {
    "duration": 9,
    "start_time": "2024-07-15T02:23:45.926Z"
   },
   {
    "duration": 6,
    "start_time": "2024-07-15T02:23:45.941Z"
   },
   {
    "duration": 128,
    "start_time": "2024-07-15T02:23:45.950Z"
   },
   {
    "duration": 203,
    "start_time": "2024-07-15T02:23:46.081Z"
   },
   {
    "duration": 6,
    "start_time": "2024-07-15T02:23:46.286Z"
   },
   {
    "duration": 169,
    "start_time": "2024-07-15T02:23:46.297Z"
   },
   {
    "duration": 853,
    "start_time": "2024-07-15T02:23:46.470Z"
   },
   {
    "duration": 16,
    "start_time": "2024-07-15T02:23:47.326Z"
   },
   {
    "duration": 13,
    "start_time": "2024-07-15T02:23:47.346Z"
   },
   {
    "duration": 63,
    "start_time": "2024-07-15T02:23:47.365Z"
   },
   {
    "duration": 48,
    "start_time": "2024-07-15T02:23:47.432Z"
   },
   {
    "duration": 39,
    "start_time": "2024-07-15T02:23:47.484Z"
   },
   {
    "duration": 4,
    "start_time": "2024-07-15T02:23:47.528Z"
   },
   {
    "duration": 17,
    "start_time": "2024-07-15T02:23:47.539Z"
   },
   {
    "duration": 5,
    "start_time": "2024-07-15T02:23:47.560Z"
   },
   {
    "duration": 12379,
    "start_time": "2024-07-15T02:23:47.568Z"
   },
   {
    "duration": 193,
    "start_time": "2024-07-15T02:24:20.354Z"
   },
   {
    "duration": 312,
    "start_time": "2024-07-15T02:24:22.036Z"
   },
   {
    "duration": 1383,
    "start_time": "2024-07-15T02:24:32.744Z"
   },
   {
    "duration": 7,
    "start_time": "2024-07-15T02:24:53.640Z"
   },
   {
    "duration": 3,
    "start_time": "2024-07-15T02:25:00.232Z"
   },
   {
    "duration": 129,
    "start_time": "2024-07-15T02:25:00.958Z"
   },
   {
    "duration": 36,
    "start_time": "2024-07-15T02:25:10.497Z"
   },
   {
    "duration": 31,
    "start_time": "2024-07-15T02:25:11.582Z"
   },
   {
    "duration": 1053,
    "start_time": "2024-07-15T02:25:49.192Z"
   },
   {
    "duration": 282,
    "start_time": "2024-07-15T02:25:50.249Z"
   },
   {
    "duration": 318,
    "start_time": "2024-07-15T02:25:50.542Z"
   },
   {
    "duration": 23,
    "start_time": "2024-07-15T02:26:09.068Z"
   },
   {
    "duration": 35,
    "start_time": "2024-07-15T02:26:10.493Z"
   },
   {
    "duration": 41,
    "start_time": "2024-07-15T02:26:10.914Z"
   },
   {
    "duration": 40,
    "start_time": "2024-07-15T02:26:11.624Z"
   },
   {
    "duration": 1382,
    "start_time": "2024-07-15T02:26:17.142Z"
   },
   {
    "duration": 908,
    "start_time": "2024-07-15T02:26:18.534Z"
   },
   {
    "duration": 43,
    "start_time": "2024-07-15T02:26:19.446Z"
   },
   {
    "duration": 197,
    "start_time": "2024-07-15T02:26:19.491Z"
   },
   {
    "duration": 43,
    "start_time": "2024-07-15T02:26:19.693Z"
   },
   {
    "duration": 6,
    "start_time": "2024-07-15T02:26:19.745Z"
   },
   {
    "duration": 29,
    "start_time": "2024-07-15T02:26:19.754Z"
   },
   {
    "duration": 38,
    "start_time": "2024-07-15T02:26:19.788Z"
   },
   {
    "duration": 5,
    "start_time": "2024-07-15T02:26:19.830Z"
   },
   {
    "duration": 16,
    "start_time": "2024-07-15T02:26:19.839Z"
   },
   {
    "duration": 135,
    "start_time": "2024-07-15T02:26:19.858Z"
   },
   {
    "duration": 203,
    "start_time": "2024-07-15T02:26:19.996Z"
   },
   {
    "duration": 17,
    "start_time": "2024-07-15T02:26:20.202Z"
   },
   {
    "duration": 159,
    "start_time": "2024-07-15T02:26:20.228Z"
   },
   {
    "duration": 875,
    "start_time": "2024-07-15T02:26:20.390Z"
   },
   {
    "duration": 11,
    "start_time": "2024-07-15T02:26:21.268Z"
   },
   {
    "duration": 6,
    "start_time": "2024-07-15T02:26:21.281Z"
   },
   {
    "duration": 69,
    "start_time": "2024-07-15T02:26:21.289Z"
   },
   {
    "duration": 69,
    "start_time": "2024-07-15T02:26:21.362Z"
   },
   {
    "duration": 23,
    "start_time": "2024-07-15T02:26:21.434Z"
   },
   {
    "duration": 4,
    "start_time": "2024-07-15T02:26:21.460Z"
   },
   {
    "duration": 9,
    "start_time": "2024-07-15T02:26:21.467Z"
   },
   {
    "duration": 3,
    "start_time": "2024-07-15T02:26:21.479Z"
   },
   {
    "duration": 12455,
    "start_time": "2024-07-15T02:26:21.521Z"
   },
   {
    "duration": 3,
    "start_time": "2024-07-15T02:26:33.979Z"
   },
   {
    "duration": 1448,
    "start_time": "2024-07-15T02:27:50.428Z"
   },
   {
    "duration": 912,
    "start_time": "2024-07-15T02:27:51.880Z"
   },
   {
    "duration": 56,
    "start_time": "2024-07-15T02:27:52.795Z"
   },
   {
    "duration": 212,
    "start_time": "2024-07-15T02:27:52.854Z"
   },
   {
    "duration": 29,
    "start_time": "2024-07-15T02:27:53.071Z"
   },
   {
    "duration": 17,
    "start_time": "2024-07-15T02:27:53.103Z"
   },
   {
    "duration": 41,
    "start_time": "2024-07-15T02:27:53.123Z"
   },
   {
    "duration": 24,
    "start_time": "2024-07-15T02:27:53.168Z"
   },
   {
    "duration": 38,
    "start_time": "2024-07-15T02:27:53.195Z"
   },
   {
    "duration": 11,
    "start_time": "2024-07-15T02:27:53.239Z"
   },
   {
    "duration": 122,
    "start_time": "2024-07-15T02:27:53.253Z"
   },
   {
    "duration": 182,
    "start_time": "2024-07-15T02:27:53.378Z"
   },
   {
    "duration": 6,
    "start_time": "2024-07-15T02:27:53.564Z"
   },
   {
    "duration": 160,
    "start_time": "2024-07-15T02:27:53.574Z"
   },
   {
    "duration": 848,
    "start_time": "2024-07-15T02:27:53.741Z"
   },
   {
    "duration": 29,
    "start_time": "2024-07-15T02:27:54.592Z"
   },
   {
    "duration": 13,
    "start_time": "2024-07-15T02:27:54.627Z"
   },
   {
    "duration": 35,
    "start_time": "2024-07-15T02:27:54.642Z"
   },
   {
    "duration": 68,
    "start_time": "2024-07-15T02:27:54.680Z"
   },
   {
    "duration": 15,
    "start_time": "2024-07-15T02:27:54.751Z"
   },
   {
    "duration": 4,
    "start_time": "2024-07-15T02:27:54.769Z"
   },
   {
    "duration": 38,
    "start_time": "2024-07-15T02:27:54.776Z"
   },
   {
    "duration": 14,
    "start_time": "2024-07-15T02:27:54.818Z"
   },
   {
    "duration": 12468,
    "start_time": "2024-07-15T02:27:54.835Z"
   },
   {
    "duration": 6,
    "start_time": "2024-07-15T02:28:07.317Z"
   },
   {
    "duration": 1443,
    "start_time": "2024-07-15T02:28:45.219Z"
   },
   {
    "duration": 894,
    "start_time": "2024-07-15T02:28:46.665Z"
   },
   {
    "duration": 65,
    "start_time": "2024-07-15T02:28:47.562Z"
   },
   {
    "duration": 170,
    "start_time": "2024-07-15T02:28:47.631Z"
   },
   {
    "duration": 45,
    "start_time": "2024-07-15T02:28:47.803Z"
   },
   {
    "duration": 5,
    "start_time": "2024-07-15T02:28:47.851Z"
   },
   {
    "duration": 55,
    "start_time": "2024-07-15T02:28:47.859Z"
   },
   {
    "duration": 35,
    "start_time": "2024-07-15T02:28:47.917Z"
   },
   {
    "duration": 5,
    "start_time": "2024-07-15T02:28:47.955Z"
   },
   {
    "duration": 5,
    "start_time": "2024-07-15T02:28:47.968Z"
   },
   {
    "duration": 146,
    "start_time": "2024-07-15T02:28:47.976Z"
   },
   {
    "duration": 192,
    "start_time": "2024-07-15T02:28:48.125Z"
   },
   {
    "duration": 7,
    "start_time": "2024-07-15T02:28:48.320Z"
   },
   {
    "duration": 163,
    "start_time": "2024-07-15T02:28:48.330Z"
   },
   {
    "duration": 873,
    "start_time": "2024-07-15T02:28:48.496Z"
   },
   {
    "duration": 10,
    "start_time": "2024-07-15T02:28:49.372Z"
   },
   {
    "duration": 5,
    "start_time": "2024-07-15T02:28:49.385Z"
   },
   {
    "duration": 41,
    "start_time": "2024-07-15T02:28:49.415Z"
   },
   {
    "duration": 76,
    "start_time": "2024-07-15T02:28:49.459Z"
   },
   {
    "duration": 18,
    "start_time": "2024-07-15T02:28:49.539Z"
   },
   {
    "duration": 4,
    "start_time": "2024-07-15T02:28:49.560Z"
   },
   {
    "duration": 5,
    "start_time": "2024-07-15T02:28:49.568Z"
   },
   {
    "duration": 38,
    "start_time": "2024-07-15T02:28:49.576Z"
   },
   {
    "duration": 12539,
    "start_time": "2024-07-15T02:28:49.617Z"
   },
   {
    "duration": 10,
    "start_time": "2024-07-15T02:29:02.159Z"
   },
   {
    "duration": 344,
    "start_time": "2024-07-15T02:31:49.786Z"
   },
   {
    "duration": 352,
    "start_time": "2024-07-15T02:32:08.868Z"
   },
   {
    "duration": 31,
    "start_time": "2024-07-15T02:32:10.432Z"
   },
   {
    "duration": 23,
    "start_time": "2024-07-15T02:32:11.647Z"
   },
   {
    "duration": 20,
    "start_time": "2024-07-15T02:32:12.686Z"
   },
   {
    "duration": 1442,
    "start_time": "2024-07-15T02:32:37.220Z"
   },
   {
    "duration": 872,
    "start_time": "2024-07-15T02:32:38.665Z"
   },
   {
    "duration": 41,
    "start_time": "2024-07-15T02:32:40.242Z"
   },
   {
    "duration": 166,
    "start_time": "2024-07-15T02:32:41.134Z"
   },
   {
    "duration": 31,
    "start_time": "2024-07-15T02:32:42.222Z"
   },
   {
    "duration": 4,
    "start_time": "2024-07-15T02:32:42.954Z"
   },
   {
    "duration": 30,
    "start_time": "2024-07-15T02:32:43.756Z"
   },
   {
    "duration": 27,
    "start_time": "2024-07-15T02:32:44.833Z"
   },
   {
    "duration": 10,
    "start_time": "2024-07-15T02:32:45.975Z"
   },
   {
    "duration": 12,
    "start_time": "2024-07-15T02:32:47.018Z"
   },
   {
    "duration": 110,
    "start_time": "2024-07-15T02:32:47.779Z"
   },
   {
    "duration": 196,
    "start_time": "2024-07-15T02:32:50.688Z"
   },
   {
    "duration": 5,
    "start_time": "2024-07-15T02:32:51.569Z"
   },
   {
    "duration": 145,
    "start_time": "2024-07-15T02:32:52.700Z"
   },
   {
    "duration": 852,
    "start_time": "2024-07-15T02:32:55.237Z"
   },
   {
    "duration": 481,
    "start_time": "2024-07-15T02:32:56.517Z"
   },
   {
    "duration": 148,
    "start_time": "2024-07-15T02:33:01.931Z"
   },
   {
    "duration": 885,
    "start_time": "2024-07-15T02:33:02.635Z"
   },
   {
    "duration": 42,
    "start_time": "2024-07-15T02:33:03.592Z"
   },
   {
    "duration": 1426,
    "start_time": "2024-07-15T02:37:34.820Z"
   },
   {
    "duration": 811,
    "start_time": "2024-07-15T02:37:36.249Z"
   },
   {
    "duration": 51,
    "start_time": "2024-07-15T02:37:37.063Z"
   },
   {
    "duration": 177,
    "start_time": "2024-07-15T02:37:37.119Z"
   },
   {
    "duration": 49,
    "start_time": "2024-07-15T02:37:37.300Z"
   },
   {
    "duration": 5,
    "start_time": "2024-07-15T02:37:37.352Z"
   },
   {
    "duration": 28,
    "start_time": "2024-07-15T02:37:37.361Z"
   },
   {
    "duration": 47,
    "start_time": "2024-07-15T02:37:37.392Z"
   },
   {
    "duration": 8,
    "start_time": "2024-07-15T02:37:37.444Z"
   },
   {
    "duration": 6,
    "start_time": "2024-07-15T02:37:37.456Z"
   },
   {
    "duration": 154,
    "start_time": "2024-07-15T02:37:37.464Z"
   },
   {
    "duration": 195,
    "start_time": "2024-07-15T02:37:37.629Z"
   },
   {
    "duration": 6,
    "start_time": "2024-07-15T02:37:37.827Z"
   },
   {
    "duration": 145,
    "start_time": "2024-07-15T02:37:37.841Z"
   },
   {
    "duration": 871,
    "start_time": "2024-07-15T02:37:37.988Z"
   },
   {
    "duration": 486,
    "start_time": "2024-07-15T02:37:38.862Z"
   },
   {
    "duration": 0,
    "start_time": "2024-07-15T02:37:39.354Z"
   },
   {
    "duration": 0,
    "start_time": "2024-07-15T02:37:39.360Z"
   },
   {
    "duration": 0,
    "start_time": "2024-07-15T02:37:39.369Z"
   },
   {
    "duration": 0,
    "start_time": "2024-07-15T02:37:39.372Z"
   },
   {
    "duration": 0,
    "start_time": "2024-07-15T02:37:39.374Z"
   },
   {
    "duration": 0,
    "start_time": "2024-07-15T02:37:39.375Z"
   },
   {
    "duration": 0,
    "start_time": "2024-07-15T02:37:39.377Z"
   },
   {
    "duration": 0,
    "start_time": "2024-07-15T02:37:39.379Z"
   },
   {
    "duration": 0,
    "start_time": "2024-07-15T02:37:39.381Z"
   },
   {
    "duration": 1,
    "start_time": "2024-07-15T02:37:39.383Z"
   },
   {
    "duration": 1,
    "start_time": "2024-07-15T02:37:39.385Z"
   },
   {
    "duration": 0,
    "start_time": "2024-07-15T02:37:39.387Z"
   },
   {
    "duration": 0,
    "start_time": "2024-07-15T02:37:39.420Z"
   },
   {
    "duration": 4,
    "start_time": "2024-07-15T02:37:58.198Z"
   },
   {
    "duration": 102,
    "start_time": "2024-07-15T02:38:00.734Z"
   },
   {
    "duration": 36,
    "start_time": "2024-07-15T02:38:02.899Z"
   },
   {
    "duration": 215,
    "start_time": "2024-07-15T02:38:46.907Z"
   },
   {
    "duration": 6,
    "start_time": "2024-07-15T02:38:48.550Z"
   },
   {
    "duration": 129,
    "start_time": "2024-07-15T02:38:49.465Z"
   },
   {
    "duration": 931,
    "start_time": "2024-07-15T02:38:51.610Z"
   },
   {
    "duration": 46,
    "start_time": "2024-07-15T02:38:52.810Z"
   },
   {
    "duration": 848,
    "start_time": "2024-07-15T02:39:01.407Z"
   },
   {
    "duration": 52,
    "start_time": "2024-07-15T02:39:02.309Z"
   },
   {
    "duration": 841,
    "start_time": "2024-07-15T02:39:08.059Z"
   },
   {
    "duration": 50,
    "start_time": "2024-07-15T02:39:09.107Z"
   },
   {
    "duration": 37,
    "start_time": "2024-07-15T02:39:10.203Z"
   },
   {
    "duration": 25,
    "start_time": "2024-07-15T02:39:11.332Z"
   },
   {
    "duration": 24,
    "start_time": "2024-07-15T02:39:12.251Z"
   },
   {
    "duration": 1024,
    "start_time": "2024-07-15T02:39:40.928Z"
   },
   {
    "duration": 245,
    "start_time": "2024-07-15T02:39:41.956Z"
   },
   {
    "duration": 322,
    "start_time": "2024-07-15T02:39:43.378Z"
   },
   {
    "duration": 1406,
    "start_time": "2024-07-15T02:40:00.600Z"
   },
   {
    "duration": 834,
    "start_time": "2024-07-15T02:40:02.014Z"
   },
   {
    "duration": 43,
    "start_time": "2024-07-15T02:40:02.851Z"
   },
   {
    "duration": 208,
    "start_time": "2024-07-15T02:40:02.897Z"
   },
   {
    "duration": 37,
    "start_time": "2024-07-15T02:40:03.113Z"
   },
   {
    "duration": 8,
    "start_time": "2024-07-15T02:40:03.152Z"
   },
   {
    "duration": 52,
    "start_time": "2024-07-15T02:40:03.162Z"
   },
   {
    "duration": 36,
    "start_time": "2024-07-15T02:40:03.217Z"
   },
   {
    "duration": 6,
    "start_time": "2024-07-15T02:40:03.256Z"
   },
   {
    "duration": 6,
    "start_time": "2024-07-15T02:40:03.265Z"
   },
   {
    "duration": 179,
    "start_time": "2024-07-15T02:40:03.274Z"
   },
   {
    "duration": 204,
    "start_time": "2024-07-15T02:40:03.457Z"
   },
   {
    "duration": 6,
    "start_time": "2024-07-15T02:40:03.666Z"
   },
   {
    "duration": 166,
    "start_time": "2024-07-15T02:40:03.679Z"
   },
   {
    "duration": 847,
    "start_time": "2024-07-15T02:40:03.848Z"
   },
   {
    "duration": 482,
    "start_time": "2024-07-15T02:40:04.698Z"
   },
   {
    "duration": 0,
    "start_time": "2024-07-15T02:40:05.183Z"
   },
   {
    "duration": 0,
    "start_time": "2024-07-15T02:40:05.184Z"
   },
   {
    "duration": 0,
    "start_time": "2024-07-15T02:40:05.186Z"
   },
   {
    "duration": 0,
    "start_time": "2024-07-15T02:40:05.188Z"
   },
   {
    "duration": 0,
    "start_time": "2024-07-15T02:40:05.190Z"
   },
   {
    "duration": 0,
    "start_time": "2024-07-15T02:40:05.193Z"
   },
   {
    "duration": 0,
    "start_time": "2024-07-15T02:40:05.213Z"
   },
   {
    "duration": 0,
    "start_time": "2024-07-15T02:40:05.215Z"
   },
   {
    "duration": 0,
    "start_time": "2024-07-15T02:40:05.217Z"
   },
   {
    "duration": 0,
    "start_time": "2024-07-15T02:40:05.220Z"
   },
   {
    "duration": 0,
    "start_time": "2024-07-15T02:40:05.223Z"
   },
   {
    "duration": 0,
    "start_time": "2024-07-15T02:40:05.225Z"
   },
   {
    "duration": 0,
    "start_time": "2024-07-15T02:40:05.228Z"
   },
   {
    "duration": 3,
    "start_time": "2024-07-15T02:40:17.988Z"
   },
   {
    "duration": 95,
    "start_time": "2024-07-15T02:40:18.752Z"
   },
   {
    "duration": 25,
    "start_time": "2024-07-15T02:40:19.882Z"
   },
   {
    "duration": 15,
    "start_time": "2024-07-15T02:40:38.753Z"
   },
   {
    "duration": 23,
    "start_time": "2024-07-15T02:40:39.938Z"
   },
   {
    "duration": 6,
    "start_time": "2024-07-15T02:40:49.145Z"
   },
   {
    "duration": 783,
    "start_time": "2024-07-15T02:40:50.231Z"
   },
   {
    "duration": 40,
    "start_time": "2024-07-15T02:40:51.965Z"
   },
   {
    "duration": 183,
    "start_time": "2024-07-15T02:40:52.889Z"
   },
   {
    "duration": 31,
    "start_time": "2024-07-15T02:40:54.110Z"
   },
   {
    "duration": 5,
    "start_time": "2024-07-15T02:40:55.074Z"
   },
   {
    "duration": 41,
    "start_time": "2024-07-15T02:40:56.109Z"
   },
   {
    "duration": 24,
    "start_time": "2024-07-15T02:40:57.086Z"
   },
   {
    "duration": 6,
    "start_time": "2024-07-15T02:40:57.903Z"
   },
   {
    "duration": 5,
    "start_time": "2024-07-15T02:40:58.787Z"
   },
   {
    "duration": 119,
    "start_time": "2024-07-15T02:40:59.520Z"
   },
   {
    "duration": 205,
    "start_time": "2024-07-15T02:41:02.386Z"
   },
   {
    "duration": 7,
    "start_time": "2024-07-15T02:41:03.363Z"
   },
   {
    "duration": 138,
    "start_time": "2024-07-15T02:41:04.359Z"
   },
   {
    "duration": 848,
    "start_time": "2024-07-15T02:41:05.303Z"
   },
   {
    "duration": 34,
    "start_time": "2024-07-15T02:41:06.348Z"
   },
   {
    "duration": 25,
    "start_time": "2024-07-15T02:41:08.132Z"
   },
   {
    "duration": 1016,
    "start_time": "2024-07-15T02:43:06.419Z"
   },
   {
    "duration": 261,
    "start_time": "2024-07-15T02:43:07.439Z"
   },
   {
    "duration": 301,
    "start_time": "2024-07-15T02:43:08.847Z"
   },
   {
    "duration": 27,
    "start_time": "2024-07-15T02:43:43.880Z"
   },
   {
    "duration": 26,
    "start_time": "2024-07-15T02:43:45.728Z"
   },
   {
    "duration": 21,
    "start_time": "2024-07-15T02:43:46.291Z"
   },
   {
    "duration": 1330,
    "start_time": "2024-07-15T02:43:54.675Z"
   },
   {
    "duration": 767,
    "start_time": "2024-07-15T02:43:56.009Z"
   },
   {
    "duration": 46,
    "start_time": "2024-07-15T02:43:56.781Z"
   },
   {
    "duration": 167,
    "start_time": "2024-07-15T02:43:56.830Z"
   },
   {
    "duration": 35,
    "start_time": "2024-07-15T02:43:57.006Z"
   },
   {
    "duration": 5,
    "start_time": "2024-07-15T02:43:57.045Z"
   },
   {
    "duration": 64,
    "start_time": "2024-07-15T02:43:57.054Z"
   },
   {
    "duration": 24,
    "start_time": "2024-07-15T02:43:57.121Z"
   },
   {
    "duration": 6,
    "start_time": "2024-07-15T02:43:57.149Z"
   },
   {
    "duration": 6,
    "start_time": "2024-07-15T02:43:57.158Z"
   },
   {
    "duration": 147,
    "start_time": "2024-07-15T02:43:57.166Z"
   },
   {
    "duration": 153,
    "start_time": "2024-07-15T02:43:57.316Z"
   },
   {
    "duration": 6,
    "start_time": "2024-07-15T02:43:57.472Z"
   },
   {
    "duration": 154,
    "start_time": "2024-07-15T02:43:57.484Z"
   },
   {
    "duration": 798,
    "start_time": "2024-07-15T02:43:57.644Z"
   },
   {
    "duration": 438,
    "start_time": "2024-07-15T02:43:58.444Z"
   },
   {
    "duration": 0,
    "start_time": "2024-07-15T02:43:58.885Z"
   },
   {
    "duration": 0,
    "start_time": "2024-07-15T02:43:58.887Z"
   },
   {
    "duration": 0,
    "start_time": "2024-07-15T02:43:58.890Z"
   },
   {
    "duration": 0,
    "start_time": "2024-07-15T02:43:58.892Z"
   },
   {
    "duration": 0,
    "start_time": "2024-07-15T02:43:58.912Z"
   },
   {
    "duration": 0,
    "start_time": "2024-07-15T02:43:58.915Z"
   },
   {
    "duration": 0,
    "start_time": "2024-07-15T02:43:58.918Z"
   },
   {
    "duration": 0,
    "start_time": "2024-07-15T02:43:58.920Z"
   },
   {
    "duration": 0,
    "start_time": "2024-07-15T02:43:58.923Z"
   },
   {
    "duration": 0,
    "start_time": "2024-07-15T02:43:58.925Z"
   },
   {
    "duration": 0,
    "start_time": "2024-07-15T02:43:58.928Z"
   },
   {
    "duration": 0,
    "start_time": "2024-07-15T02:43:58.930Z"
   },
   {
    "duration": 0,
    "start_time": "2024-07-15T02:43:58.932Z"
   },
   {
    "duration": 5,
    "start_time": "2024-07-15T02:44:10.686Z"
   },
   {
    "duration": 4,
    "start_time": "2024-07-15T02:44:11.662Z"
   },
   {
    "duration": 3,
    "start_time": "2024-07-15T02:44:12.782Z"
   },
   {
    "duration": 12434,
    "start_time": "2024-07-15T02:44:13.666Z"
   },
   {
    "duration": 90,
    "start_time": "2024-07-15T02:44:29.919Z"
   },
   {
    "duration": 36,
    "start_time": "2024-07-15T02:44:31.719Z"
   },
   {
    "duration": 191,
    "start_time": "2024-07-15T02:44:54.642Z"
   },
   {
    "duration": 6,
    "start_time": "2024-07-15T02:44:56.070Z"
   },
   {
    "duration": 130,
    "start_time": "2024-07-15T02:44:56.960Z"
   },
   {
    "duration": 853,
    "start_time": "2024-07-15T02:44:57.796Z"
   },
   {
    "duration": 34,
    "start_time": "2024-07-15T02:44:58.652Z"
   },
   {
    "duration": 22,
    "start_time": "2024-07-15T02:44:59.741Z"
   },
   {
    "duration": 25,
    "start_time": "2024-07-15T02:45:00.567Z"
   },
   {
    "duration": 31,
    "start_time": "2024-07-15T02:45:01.192Z"
   },
   {
    "duration": 44,
    "start_time": "2024-07-15T02:45:01.903Z"
   },
   {
    "duration": 10,
    "start_time": "2024-07-15T02:45:08.929Z"
   },
   {
    "duration": 814,
    "start_time": "2024-07-15T02:45:09.783Z"
   },
   {
    "duration": 33,
    "start_time": "2024-07-15T02:45:11.560Z"
   },
   {
    "duration": 172,
    "start_time": "2024-07-15T02:45:12.288Z"
   },
   {
    "duration": 32,
    "start_time": "2024-07-15T02:45:13.099Z"
   },
   {
    "duration": 7,
    "start_time": "2024-07-15T02:45:13.821Z"
   },
   {
    "duration": 46,
    "start_time": "2024-07-15T02:45:14.519Z"
   },
   {
    "duration": 23,
    "start_time": "2024-07-15T02:45:15.362Z"
   },
   {
    "duration": 5,
    "start_time": "2024-07-15T02:45:16.058Z"
   },
   {
    "duration": 6,
    "start_time": "2024-07-15T02:45:16.758Z"
   },
   {
    "duration": 111,
    "start_time": "2024-07-15T02:45:17.366Z"
   },
   {
    "duration": 170,
    "start_time": "2024-07-15T02:45:21.758Z"
   },
   {
    "duration": 8,
    "start_time": "2024-07-15T02:45:22.330Z"
   },
   {
    "duration": 156,
    "start_time": "2024-07-15T02:45:23.017Z"
   },
   {
    "duration": 838,
    "start_time": "2024-07-15T02:45:23.754Z"
   },
   {
    "duration": 54,
    "start_time": "2024-07-15T02:45:24.596Z"
   },
   {
    "duration": 26,
    "start_time": "2024-07-15T02:45:26.298Z"
   },
   {
    "duration": 24,
    "start_time": "2024-07-15T02:45:27.094Z"
   },
   {
    "duration": 33,
    "start_time": "2024-07-15T02:45:28.005Z"
   },
   {
    "duration": 16,
    "start_time": "2024-07-15T02:45:29.070Z"
   },
   {
    "duration": 1372,
    "start_time": "2024-07-15T02:46:12.491Z"
   },
   {
    "duration": 839,
    "start_time": "2024-07-15T02:46:13.867Z"
   },
   {
    "duration": 52,
    "start_time": "2024-07-15T02:46:14.709Z"
   },
   {
    "duration": 197,
    "start_time": "2024-07-15T02:46:14.765Z"
   },
   {
    "duration": 24,
    "start_time": "2024-07-15T02:46:14.967Z"
   },
   {
    "duration": 7,
    "start_time": "2024-07-15T02:46:15.014Z"
   },
   {
    "duration": 37,
    "start_time": "2024-07-15T02:46:15.024Z"
   },
   {
    "duration": 49,
    "start_time": "2024-07-15T02:46:15.067Z"
   },
   {
    "duration": 18,
    "start_time": "2024-07-15T02:46:15.120Z"
   },
   {
    "duration": 9,
    "start_time": "2024-07-15T02:46:15.147Z"
   },
   {
    "duration": 127,
    "start_time": "2024-07-15T02:46:15.159Z"
   },
   {
    "duration": 213,
    "start_time": "2024-07-15T02:46:15.289Z"
   },
   {
    "duration": 27,
    "start_time": "2024-07-15T02:46:15.504Z"
   },
   {
    "duration": 150,
    "start_time": "2024-07-15T02:46:15.539Z"
   },
   {
    "duration": 859,
    "start_time": "2024-07-15T02:46:15.692Z"
   },
   {
    "duration": 473,
    "start_time": "2024-07-15T02:46:16.553Z"
   },
   {
    "duration": 0,
    "start_time": "2024-07-15T02:46:17.030Z"
   },
   {
    "duration": 0,
    "start_time": "2024-07-15T02:46:17.032Z"
   },
   {
    "duration": 0,
    "start_time": "2024-07-15T02:46:17.034Z"
   },
   {
    "duration": 0,
    "start_time": "2024-07-15T02:46:17.037Z"
   },
   {
    "duration": 0,
    "start_time": "2024-07-15T02:46:17.041Z"
   },
   {
    "duration": 0,
    "start_time": "2024-07-15T02:46:17.044Z"
   },
   {
    "duration": 0,
    "start_time": "2024-07-15T02:46:17.047Z"
   },
   {
    "duration": 0,
    "start_time": "2024-07-15T02:46:17.053Z"
   },
   {
    "duration": 0,
    "start_time": "2024-07-15T02:46:17.055Z"
   },
   {
    "duration": 0,
    "start_time": "2024-07-15T02:46:17.058Z"
   },
   {
    "duration": 0,
    "start_time": "2024-07-15T02:46:17.061Z"
   },
   {
    "duration": 0,
    "start_time": "2024-07-15T02:46:17.064Z"
   },
   {
    "duration": 0,
    "start_time": "2024-07-15T02:46:17.067Z"
   },
   {
    "duration": 89,
    "start_time": "2024-07-15T02:46:35.608Z"
   },
   {
    "duration": 33,
    "start_time": "2024-07-15T02:46:36.932Z"
   },
   {
    "duration": 4,
    "start_time": "2024-07-15T02:46:38.764Z"
   },
   {
    "duration": 11,
    "start_time": "2024-07-15T02:46:39.428Z"
   },
   {
    "duration": 5,
    "start_time": "2024-07-15T02:46:40.344Z"
   },
   {
    "duration": 12521,
    "start_time": "2024-07-15T02:46:41.078Z"
   },
   {
    "duration": 35,
    "start_time": "2024-07-15T02:46:53.603Z"
   },
   {
    "duration": 843,
    "start_time": "2024-07-15T02:47:15.507Z"
   },
   {
    "duration": 47,
    "start_time": "2024-07-15T02:47:17.712Z"
   },
   {
    "duration": 153,
    "start_time": "2024-07-15T02:47:32.608Z"
   },
   {
    "duration": 864,
    "start_time": "2024-07-15T02:47:33.467Z"
   },
   {
    "duration": 22,
    "start_time": "2024-07-15T02:47:34.334Z"
   },
   {
    "duration": 5,
    "start_time": "2024-07-15T02:47:35.368Z"
   },
   {
    "duration": 33,
    "start_time": "2024-07-15T02:47:36.142Z"
   },
   {
    "duration": 60,
    "start_time": "2024-07-15T02:47:36.990Z"
   },
   {
    "duration": 18,
    "start_time": "2024-07-15T02:47:37.648Z"
   },
   {
    "duration": 190,
    "start_time": "2024-07-15T02:48:01.043Z"
   },
   {
    "duration": 306,
    "start_time": "2024-07-15T02:48:02.635Z"
   },
   {
    "duration": 1391,
    "start_time": "2024-07-15T02:48:48.190Z"
   },
   {
    "duration": 903,
    "start_time": "2024-07-15T02:48:49.584Z"
   },
   {
    "duration": 53,
    "start_time": "2024-07-15T02:48:50.491Z"
   },
   {
    "duration": 187,
    "start_time": "2024-07-15T02:48:50.548Z"
   },
   {
    "duration": 25,
    "start_time": "2024-07-15T02:48:50.745Z"
   },
   {
    "duration": 4,
    "start_time": "2024-07-15T02:48:50.773Z"
   },
   {
    "duration": 61,
    "start_time": "2024-07-15T02:48:50.781Z"
   },
   {
    "duration": 25,
    "start_time": "2024-07-15T02:48:50.846Z"
   },
   {
    "duration": 6,
    "start_time": "2024-07-15T02:48:50.877Z"
   },
   {
    "duration": 7,
    "start_time": "2024-07-15T02:48:50.888Z"
   },
   {
    "duration": 143,
    "start_time": "2024-07-15T02:48:50.916Z"
   },
   {
    "duration": 213,
    "start_time": "2024-07-15T02:48:51.062Z"
   },
   {
    "duration": 8,
    "start_time": "2024-07-15T02:48:51.278Z"
   },
   {
    "duration": 159,
    "start_time": "2024-07-15T02:48:51.292Z"
   },
   {
    "duration": 964,
    "start_time": "2024-07-15T02:48:51.455Z"
   },
   {
    "duration": 10,
    "start_time": "2024-07-15T02:48:52.438Z"
   },
   {
    "duration": 6,
    "start_time": "2024-07-15T02:48:52.451Z"
   },
   {
    "duration": 38,
    "start_time": "2024-07-15T02:48:52.460Z"
   },
   {
    "duration": 63,
    "start_time": "2024-07-15T02:48:52.500Z"
   },
   {
    "duration": 17,
    "start_time": "2024-07-15T02:48:52.565Z"
   },
   {
    "duration": 191,
    "start_time": "2024-07-15T02:49:24.339Z"
   },
   {
    "duration": 297,
    "start_time": "2024-07-15T02:49:25.600Z"
   },
   {
    "duration": 14,
    "start_time": "2024-07-15T02:49:35.761Z"
   },
   {
    "duration": 24,
    "start_time": "2024-07-15T02:49:36.599Z"
   },
   {
    "duration": 1429,
    "start_time": "2024-07-15T02:50:08.533Z"
   },
   {
    "duration": 904,
    "start_time": "2024-07-15T02:50:09.966Z"
   },
   {
    "duration": 59,
    "start_time": "2024-07-15T02:50:10.873Z"
   },
   {
    "duration": 189,
    "start_time": "2024-07-15T02:50:10.938Z"
   },
   {
    "duration": 30,
    "start_time": "2024-07-15T02:50:11.132Z"
   },
   {
    "duration": 6,
    "start_time": "2024-07-15T02:50:11.165Z"
   },
   {
    "duration": 62,
    "start_time": "2024-07-15T02:50:11.174Z"
   },
   {
    "duration": 26,
    "start_time": "2024-07-15T02:50:11.239Z"
   },
   {
    "duration": 6,
    "start_time": "2024-07-15T02:50:11.268Z"
   },
   {
    "duration": 37,
    "start_time": "2024-07-15T02:50:11.277Z"
   },
   {
    "duration": 142,
    "start_time": "2024-07-15T02:50:11.317Z"
   },
   {
    "duration": 191,
    "start_time": "2024-07-15T02:50:11.462Z"
   },
   {
    "duration": 8,
    "start_time": "2024-07-15T02:50:11.659Z"
   },
   {
    "duration": 167,
    "start_time": "2024-07-15T02:50:11.672Z"
   },
   {
    "duration": 838,
    "start_time": "2024-07-15T02:50:11.846Z"
   },
   {
    "duration": 10,
    "start_time": "2024-07-15T02:50:12.686Z"
   },
   {
    "duration": 27,
    "start_time": "2024-07-15T02:50:12.698Z"
   },
   {
    "duration": 38,
    "start_time": "2024-07-15T02:50:12.732Z"
   },
   {
    "duration": 66,
    "start_time": "2024-07-15T02:50:12.773Z"
   },
   {
    "duration": 17,
    "start_time": "2024-07-15T02:50:12.842Z"
   },
   {
    "duration": 1447,
    "start_time": "2024-07-15T02:51:51.318Z"
   },
   {
    "duration": 911,
    "start_time": "2024-07-15T02:51:52.769Z"
   },
   {
    "duration": 56,
    "start_time": "2024-07-15T02:51:53.683Z"
   },
   {
    "duration": 171,
    "start_time": "2024-07-15T02:51:53.743Z"
   },
   {
    "duration": 31,
    "start_time": "2024-07-15T02:51:53.918Z"
   },
   {
    "duration": 8,
    "start_time": "2024-07-15T02:51:53.952Z"
   },
   {
    "duration": 52,
    "start_time": "2024-07-15T02:51:53.963Z"
   },
   {
    "duration": 37,
    "start_time": "2024-07-15T02:51:54.021Z"
   },
   {
    "duration": 10,
    "start_time": "2024-07-15T02:51:54.061Z"
   },
   {
    "duration": 6,
    "start_time": "2024-07-15T02:51:54.074Z"
   },
   {
    "duration": 149,
    "start_time": "2024-07-15T02:51:54.084Z"
   },
   {
    "duration": 182,
    "start_time": "2024-07-15T02:51:54.239Z"
   },
   {
    "duration": 7,
    "start_time": "2024-07-15T02:51:54.427Z"
   },
   {
    "duration": 162,
    "start_time": "2024-07-15T02:51:54.442Z"
   },
   {
    "duration": 879,
    "start_time": "2024-07-15T02:51:54.606Z"
   },
   {
    "duration": 9,
    "start_time": "2024-07-15T02:51:55.488Z"
   },
   {
    "duration": 6,
    "start_time": "2024-07-15T02:51:55.513Z"
   },
   {
    "duration": 51,
    "start_time": "2024-07-15T02:51:55.522Z"
   },
   {
    "duration": 78,
    "start_time": "2024-07-15T02:51:55.577Z"
   },
   {
    "duration": 16,
    "start_time": "2024-07-15T02:51:55.658Z"
   },
   {
    "duration": 1395,
    "start_time": "2024-07-15T02:53:53.951Z"
   },
   {
    "duration": 904,
    "start_time": "2024-07-15T02:53:55.352Z"
   },
   {
    "duration": 47,
    "start_time": "2024-07-15T02:53:56.522Z"
   },
   {
    "duration": 167,
    "start_time": "2024-07-15T02:53:57.427Z"
   },
   {
    "duration": 39,
    "start_time": "2024-07-15T02:53:59.509Z"
   },
   {
    "duration": 5,
    "start_time": "2024-07-15T02:54:00.637Z"
   },
   {
    "duration": 28,
    "start_time": "2024-07-15T02:54:01.447Z"
   },
   {
    "duration": 23,
    "start_time": "2024-07-15T02:54:02.387Z"
   },
   {
    "duration": 5,
    "start_time": "2024-07-15T02:54:04.193Z"
   },
   {
    "duration": 11,
    "start_time": "2024-07-15T02:54:05.352Z"
   },
   {
    "duration": 118,
    "start_time": "2024-07-15T02:54:08.342Z"
   },
   {
    "duration": 152,
    "start_time": "2024-07-15T02:54:10.667Z"
   },
   {
    "duration": 6,
    "start_time": "2024-07-15T02:54:11.663Z"
   },
   {
    "duration": 140,
    "start_time": "2024-07-15T02:54:12.549Z"
   },
   {
    "duration": 871,
    "start_time": "2024-07-15T02:54:13.784Z"
   },
   {
    "duration": 15,
    "start_time": "2024-07-15T02:54:15.128Z"
   },
   {
    "duration": 6,
    "start_time": "2024-07-15T02:54:19.676Z"
   },
   {
    "duration": 47,
    "start_time": "2024-07-15T02:54:21.406Z"
   },
   {
    "duration": 42,
    "start_time": "2024-07-15T02:54:23.547Z"
   },
   {
    "duration": 17,
    "start_time": "2024-07-15T02:54:24.784Z"
   },
   {
    "duration": 201,
    "start_time": "2024-07-15T02:55:00.828Z"
   },
   {
    "duration": 302,
    "start_time": "2024-07-15T02:55:02.420Z"
   },
   {
    "duration": 32,
    "start_time": "2024-07-15T02:55:10.049Z"
   },
   {
    "duration": 1362,
    "start_time": "2024-07-15T02:55:21.076Z"
   },
   {
    "duration": 933,
    "start_time": "2024-07-15T02:55:22.876Z"
   },
   {
    "duration": 47,
    "start_time": "2024-07-15T02:55:24.630Z"
   },
   {
    "duration": 160,
    "start_time": "2024-07-15T02:55:25.748Z"
   },
   {
    "duration": 26,
    "start_time": "2024-07-15T02:55:26.762Z"
   },
   {
    "duration": 7,
    "start_time": "2024-07-15T02:55:27.815Z"
   },
   {
    "duration": 33,
    "start_time": "2024-07-15T02:55:28.425Z"
   },
   {
    "duration": 30,
    "start_time": "2024-07-15T02:55:29.197Z"
   },
   {
    "duration": 14,
    "start_time": "2024-07-15T02:55:29.810Z"
   },
   {
    "duration": 5,
    "start_time": "2024-07-15T02:55:30.643Z"
   },
   {
    "duration": 139,
    "start_time": "2024-07-15T02:55:31.496Z"
   },
   {
    "duration": 198,
    "start_time": "2024-07-15T02:55:33.452Z"
   },
   {
    "duration": 6,
    "start_time": "2024-07-15T02:55:34.537Z"
   },
   {
    "duration": 142,
    "start_time": "2024-07-15T02:55:35.378Z"
   },
   {
    "duration": 852,
    "start_time": "2024-07-15T02:55:36.345Z"
   },
   {
    "duration": 25,
    "start_time": "2024-07-15T02:55:37.201Z"
   },
   {
    "duration": 6,
    "start_time": "2024-07-15T02:55:37.976Z"
   },
   {
    "duration": 40,
    "start_time": "2024-07-15T02:55:38.795Z"
   },
   {
    "duration": 44,
    "start_time": "2024-07-15T02:55:39.649Z"
   },
   {
    "duration": 19,
    "start_time": "2024-07-15T02:55:40.596Z"
   },
   {
    "duration": 312,
    "start_time": "2024-07-15T02:56:07.757Z"
   },
   {
    "duration": 24,
    "start_time": "2024-07-15T02:56:08.506Z"
   },
   {
    "duration": 4,
    "start_time": "2024-07-15T02:56:09.606Z"
   },
   {
    "duration": 1314,
    "start_time": "2024-07-15T02:56:22.778Z"
   },
   {
    "duration": 787,
    "start_time": "2024-07-15T02:56:24.096Z"
   },
   {
    "duration": 49,
    "start_time": "2024-07-15T02:56:24.886Z"
   },
   {
    "duration": 160,
    "start_time": "2024-07-15T02:56:24.938Z"
   },
   {
    "duration": 29,
    "start_time": "2024-07-15T02:56:25.111Z"
   },
   {
    "duration": 5,
    "start_time": "2024-07-15T02:56:25.143Z"
   },
   {
    "duration": 28,
    "start_time": "2024-07-15T02:56:25.151Z"
   },
   {
    "duration": 53,
    "start_time": "2024-07-15T02:56:25.182Z"
   },
   {
    "duration": 8,
    "start_time": "2024-07-15T02:56:25.238Z"
   },
   {
    "duration": 6,
    "start_time": "2024-07-15T02:56:25.249Z"
   },
   {
    "duration": 157,
    "start_time": "2024-07-15T02:56:25.258Z"
   },
   {
    "duration": 195,
    "start_time": "2024-07-15T02:56:25.418Z"
   },
   {
    "duration": 6,
    "start_time": "2024-07-15T02:56:25.616Z"
   },
   {
    "duration": 149,
    "start_time": "2024-07-15T02:56:25.630Z"
   },
   {
    "duration": 771,
    "start_time": "2024-07-15T02:56:25.782Z"
   },
   {
    "duration": 13,
    "start_time": "2024-07-15T02:56:26.555Z"
   },
   {
    "duration": 6,
    "start_time": "2024-07-15T02:56:26.571Z"
   },
   {
    "duration": 64,
    "start_time": "2024-07-15T02:56:26.580Z"
   },
   {
    "duration": 67,
    "start_time": "2024-07-15T02:56:26.647Z"
   },
   {
    "duration": 18,
    "start_time": "2024-07-15T02:56:26.717Z"
   },
   {
    "duration": 1497,
    "start_time": "2024-07-16T03:41:07.040Z"
   },
   {
    "duration": 855,
    "start_time": "2024-07-16T03:41:09.634Z"
   },
   {
    "duration": 51,
    "start_time": "2024-07-16T03:41:18.713Z"
   },
   {
    "duration": 173,
    "start_time": "2024-07-16T03:41:23.666Z"
   },
   {
    "duration": 456,
    "start_time": "2024-07-16T03:45:55.919Z"
   },
   {
    "duration": 4,
    "start_time": "2024-07-16T03:45:58.972Z"
   },
   {
    "duration": 56,
    "start_time": "2024-07-16T03:46:05.278Z"
   },
   {
    "duration": 24,
    "start_time": "2024-07-16T03:57:58.541Z"
   },
   {
    "duration": 25,
    "start_time": "2024-07-16T03:59:06.084Z"
   },
   {
    "duration": 33,
    "start_time": "2024-07-16T03:59:13.813Z"
   },
   {
    "duration": 5,
    "start_time": "2024-07-16T03:59:19.336Z"
   },
   {
    "duration": 7,
    "start_time": "2024-07-16T03:59:20.310Z"
   },
   {
    "duration": 117,
    "start_time": "2024-07-16T03:59:22.974Z"
   },
   {
    "duration": 184,
    "start_time": "2024-07-16T04:01:54.101Z"
   },
   {
    "duration": 171,
    "start_time": "2024-07-16T04:02:01.248Z"
   },
   {
    "duration": 26,
    "start_time": "2024-07-16T04:02:14.336Z"
   },
   {
    "duration": 37,
    "start_time": "2024-07-16T04:02:17.007Z"
   },
   {
    "duration": 865,
    "start_time": "2024-07-16T04:02:18.322Z"
   },
   {
    "duration": 11,
    "start_time": "2024-07-16T04:02:22.634Z"
   },
   {
    "duration": 5,
    "start_time": "2024-07-16T04:02:23.425Z"
   },
   {
    "duration": 35,
    "start_time": "2024-07-16T04:02:24.255Z"
   },
   {
    "duration": 1589,
    "start_time": "2024-07-16T04:12:57.804Z"
   },
   {
    "duration": 944,
    "start_time": "2024-07-16T04:12:59.398Z"
   },
   {
    "duration": 47,
    "start_time": "2024-07-16T04:13:00.350Z"
   },
   {
    "duration": 215,
    "start_time": "2024-07-16T04:13:00.400Z"
   },
   {
    "duration": 41,
    "start_time": "2024-07-16T04:13:00.620Z"
   },
   {
    "duration": 5,
    "start_time": "2024-07-16T04:13:00.664Z"
   },
   {
    "duration": 74,
    "start_time": "2024-07-16T04:13:00.673Z"
   },
   {
    "duration": 27,
    "start_time": "2024-07-16T04:13:00.751Z"
   },
   {
    "duration": 7,
    "start_time": "2024-07-16T04:13:00.782Z"
   },
   {
    "duration": 29,
    "start_time": "2024-07-16T04:13:00.793Z"
   },
   {
    "duration": 148,
    "start_time": "2024-07-16T04:13:00.824Z"
   },
   {
    "duration": 215,
    "start_time": "2024-07-16T04:19:14.622Z"
   },
   {
    "duration": 6,
    "start_time": "2024-07-16T04:19:19.571Z"
   },
   {
    "duration": 38,
    "start_time": "2024-07-16T04:21:24.335Z"
   },
   {
    "duration": 163,
    "start_time": "2024-07-16T04:21:41.578Z"
   },
   {
    "duration": 28,
    "start_time": "2024-07-16T04:21:47.430Z"
   },
   {
    "duration": 149,
    "start_time": "2024-07-16T04:22:15.635Z"
   },
   {
    "duration": 968,
    "start_time": "2024-07-16T04:24:45.789Z"
   },
   {
    "duration": 12,
    "start_time": "2024-07-16T04:24:55.744Z"
   },
   {
    "duration": 20,
    "start_time": "2024-07-16T04:24:56.421Z"
   },
   {
    "duration": 53,
    "start_time": "2024-07-16T04:24:56.929Z"
   },
   {
    "duration": 316,
    "start_time": "2024-07-16T22:53:48.374Z"
   },
   {
    "duration": 23,
    "start_time": "2024-07-16T22:57:53.933Z"
   },
   {
    "duration": 1312,
    "start_time": "2024-07-16T22:58:09.860Z"
   },
   {
    "duration": 801,
    "start_time": "2024-07-16T22:58:11.176Z"
   },
   {
    "duration": 48,
    "start_time": "2024-07-16T22:58:11.980Z"
   },
   {
    "duration": 167,
    "start_time": "2024-07-16T22:58:12.031Z"
   },
   {
    "duration": 24,
    "start_time": "2024-07-16T22:58:12.203Z"
   },
   {
    "duration": 5,
    "start_time": "2024-07-16T22:58:12.230Z"
   },
   {
    "duration": 69,
    "start_time": "2024-07-16T22:58:12.238Z"
   },
   {
    "duration": 28,
    "start_time": "2024-07-16T22:58:12.310Z"
   },
   {
    "duration": 6,
    "start_time": "2024-07-16T22:58:12.341Z"
   },
   {
    "duration": 5,
    "start_time": "2024-07-16T22:58:12.351Z"
   },
   {
    "duration": 136,
    "start_time": "2024-07-16T22:58:12.391Z"
   },
   {
    "duration": 73,
    "start_time": "2024-07-16T22:58:12.530Z"
   },
   {
    "duration": 7,
    "start_time": "2024-07-16T22:58:12.606Z"
   },
   {
    "duration": 0,
    "start_time": "2024-07-16T22:58:12.618Z"
   },
   {
    "duration": 0,
    "start_time": "2024-07-16T22:58:12.621Z"
   },
   {
    "duration": 0,
    "start_time": "2024-07-16T22:58:12.624Z"
   },
   {
    "duration": 0,
    "start_time": "2024-07-16T22:58:12.627Z"
   },
   {
    "duration": 1,
    "start_time": "2024-07-16T22:58:12.628Z"
   },
   {
    "duration": 0,
    "start_time": "2024-07-16T22:58:12.631Z"
   },
   {
    "duration": 0,
    "start_time": "2024-07-16T22:58:12.633Z"
   },
   {
    "duration": 0,
    "start_time": "2024-07-16T22:58:12.636Z"
   },
   {
    "duration": 0,
    "start_time": "2024-07-16T22:58:12.639Z"
   },
   {
    "duration": 0,
    "start_time": "2024-07-16T22:58:12.641Z"
   },
   {
    "duration": 0,
    "start_time": "2024-07-16T22:58:12.644Z"
   },
   {
    "duration": 0,
    "start_time": "2024-07-16T22:58:12.692Z"
   },
   {
    "duration": 0,
    "start_time": "2024-07-16T22:58:12.694Z"
   },
   {
    "duration": 0,
    "start_time": "2024-07-16T22:58:12.698Z"
   },
   {
    "duration": 0,
    "start_time": "2024-07-16T22:58:12.701Z"
   },
   {
    "duration": 0,
    "start_time": "2024-07-16T22:58:12.702Z"
   },
   {
    "duration": 0,
    "start_time": "2024-07-16T22:58:12.705Z"
   },
   {
    "duration": 6,
    "start_time": "2024-07-16T22:58:22.501Z"
   },
   {
    "duration": 765,
    "start_time": "2024-07-16T22:58:23.328Z"
   },
   {
    "duration": 35,
    "start_time": "2024-07-16T22:58:24.725Z"
   },
   {
    "duration": 143,
    "start_time": "2024-07-16T22:58:25.638Z"
   },
   {
    "duration": 19,
    "start_time": "2024-07-16T22:58:26.779Z"
   },
   {
    "duration": 5,
    "start_time": "2024-07-16T22:58:33.878Z"
   },
   {
    "duration": 35,
    "start_time": "2024-07-16T22:58:39.817Z"
   },
   {
    "duration": 29,
    "start_time": "2024-07-16T22:58:40.661Z"
   },
   {
    "duration": 5,
    "start_time": "2024-07-16T22:58:41.671Z"
   },
   {
    "duration": 6,
    "start_time": "2024-07-16T22:58:42.354Z"
   },
   {
    "duration": 114,
    "start_time": "2024-07-16T22:58:43.107Z"
   },
   {
    "duration": 69,
    "start_time": "2024-07-16T22:58:48.236Z"
   },
   {
    "duration": 6,
    "start_time": "2024-07-16T22:58:51.538Z"
   },
   {
    "duration": 67,
    "start_time": "2024-07-16T22:59:57.708Z"
   },
   {
    "duration": 133,
    "start_time": "2024-07-16T23:00:15.790Z"
   },
   {
    "duration": 5,
    "start_time": "2024-07-16T23:00:17.103Z"
   },
   {
    "duration": 405,
    "start_time": "2024-07-16T23:02:18.795Z"
   },
   {
    "duration": 24,
    "start_time": "2024-07-16T23:02:29.458Z"
   },
   {
    "duration": 115,
    "start_time": "2024-07-16T23:02:42.282Z"
   },
   {
    "duration": 870,
    "start_time": "2024-07-16T23:04:58.843Z"
   },
   {
    "duration": 113,
    "start_time": "2024-07-16T23:05:29.216Z"
   },
   {
    "duration": 6,
    "start_time": "2024-07-16T23:06:20.066Z"
   },
   {
    "duration": 4,
    "start_time": "2024-07-16T23:06:32.050Z"
   },
   {
    "duration": 111,
    "start_time": "2024-07-16T23:06:43.472Z"
   },
   {
    "duration": 4,
    "start_time": "2024-07-16T23:06:47.418Z"
   },
   {
    "duration": 111,
    "start_time": "2024-07-16T23:06:47.904Z"
   },
   {
    "duration": 115,
    "start_time": "2024-07-16T23:06:48.505Z"
   },
   {
    "duration": 1134,
    "start_time": "2024-07-16T23:08:50.801Z"
   },
   {
    "duration": 10,
    "start_time": "2024-07-16T23:08:51.939Z"
   },
   {
    "duration": 6,
    "start_time": "2024-07-16T23:08:52.861Z"
   },
   {
    "duration": 35,
    "start_time": "2024-07-16T23:08:53.646Z"
   },
   {
    "duration": 147,
    "start_time": "2024-07-16T23:08:55.094Z"
   },
   {
    "duration": 40,
    "start_time": "2024-07-16T23:08:55.763Z"
   },
   {
    "duration": 346,
    "start_time": "2024-07-16T23:09:42.456Z"
   },
   {
    "duration": 119,
    "start_time": "2024-07-16T23:09:46.916Z"
   },
   {
    "duration": 24,
    "start_time": "2024-07-16T23:09:47.769Z"
   },
   {
    "duration": 1361,
    "start_time": "2024-07-16T23:10:03.424Z"
   },
   {
    "duration": 790,
    "start_time": "2024-07-16T23:10:04.791Z"
   },
   {
    "duration": 48,
    "start_time": "2024-07-16T23:10:05.583Z"
   },
   {
    "duration": 169,
    "start_time": "2024-07-16T23:10:05.635Z"
   },
   {
    "duration": 25,
    "start_time": "2024-07-16T23:10:05.808Z"
   },
   {
    "duration": 6,
    "start_time": "2024-07-16T23:10:05.836Z"
   },
   {
    "duration": 67,
    "start_time": "2024-07-16T23:10:05.846Z"
   },
   {
    "duration": 28,
    "start_time": "2024-07-16T23:10:05.916Z"
   },
   {
    "duration": 6,
    "start_time": "2024-07-16T23:10:05.947Z"
   },
   {
    "duration": 35,
    "start_time": "2024-07-16T23:10:05.957Z"
   },
   {
    "duration": 130,
    "start_time": "2024-07-16T23:10:05.995Z"
   },
   {
    "duration": 74,
    "start_time": "2024-07-16T23:10:06.128Z"
   },
   {
    "duration": 167,
    "start_time": "2024-07-16T23:10:06.204Z"
   },
   {
    "duration": 5,
    "start_time": "2024-07-16T23:10:06.377Z"
   },
   {
    "duration": 5,
    "start_time": "2024-07-16T23:10:06.391Z"
   },
   {
    "duration": 140,
    "start_time": "2024-07-16T23:10:06.399Z"
   },
   {
    "duration": 131,
    "start_time": "2024-07-16T23:10:06.542Z"
   },
   {
    "duration": 1162,
    "start_time": "2024-07-16T23:10:06.676Z"
   },
   {
    "duration": 10,
    "start_time": "2024-07-16T23:10:07.841Z"
   },
   {
    "duration": 5,
    "start_time": "2024-07-16T23:10:07.854Z"
   },
   {
    "duration": 59,
    "start_time": "2024-07-16T23:10:07.862Z"
   },
   {
    "duration": 173,
    "start_time": "2024-07-16T23:10:07.924Z"
   },
   {
    "duration": 43,
    "start_time": "2024-07-16T23:10:08.100Z"
   },
   {
    "duration": 1332,
    "start_time": "2024-07-16T23:13:03.963Z"
   },
   {
    "duration": 782,
    "start_time": "2024-07-16T23:13:05.299Z"
   },
   {
    "duration": 46,
    "start_time": "2024-07-16T23:13:06.084Z"
   },
   {
    "duration": 167,
    "start_time": "2024-07-16T23:13:06.132Z"
   },
   {
    "duration": 24,
    "start_time": "2024-07-16T23:13:06.303Z"
   },
   {
    "duration": 8,
    "start_time": "2024-07-16T23:13:06.330Z"
   },
   {
    "duration": 60,
    "start_time": "2024-07-16T23:13:06.341Z"
   },
   {
    "duration": 28,
    "start_time": "2024-07-16T23:13:06.404Z"
   },
   {
    "duration": 8,
    "start_time": "2024-07-16T23:13:06.435Z"
   },
   {
    "duration": 6,
    "start_time": "2024-07-16T23:13:06.446Z"
   },
   {
    "duration": 124,
    "start_time": "2024-07-16T23:13:06.491Z"
   },
   {
    "duration": 73,
    "start_time": "2024-07-16T23:13:06.617Z"
   },
   {
    "duration": 157,
    "start_time": "2024-07-16T23:13:06.693Z"
   },
   {
    "duration": 5,
    "start_time": "2024-07-16T23:13:06.858Z"
   },
   {
    "duration": 4,
    "start_time": "2024-07-16T23:13:06.867Z"
   },
   {
    "duration": 130,
    "start_time": "2024-07-16T23:13:06.892Z"
   },
   {
    "duration": 130,
    "start_time": "2024-07-16T23:13:07.026Z"
   },
   {
    "duration": 1347,
    "start_time": "2024-07-16T23:13:07.159Z"
   },
   {
    "duration": 10,
    "start_time": "2024-07-16T23:13:08.510Z"
   },
   {
    "duration": 6,
    "start_time": "2024-07-16T23:13:08.522Z"
   },
   {
    "duration": 65,
    "start_time": "2024-07-16T23:13:08.531Z"
   },
   {
    "duration": 167,
    "start_time": "2024-07-16T23:13:08.599Z"
   },
   {
    "duration": 51,
    "start_time": "2024-07-16T23:13:08.770Z"
   },
   {
    "duration": 1367,
    "start_time": "2024-07-16T23:15:12.421Z"
   },
   {
    "duration": 798,
    "start_time": "2024-07-16T23:15:13.793Z"
   },
   {
    "duration": 43,
    "start_time": "2024-07-16T23:15:14.594Z"
   },
   {
    "duration": 189,
    "start_time": "2024-07-16T23:15:14.640Z"
   },
   {
    "duration": 26,
    "start_time": "2024-07-16T23:15:14.834Z"
   },
   {
    "duration": 5,
    "start_time": "2024-07-16T23:15:14.863Z"
   },
   {
    "duration": 34,
    "start_time": "2024-07-16T23:15:14.892Z"
   },
   {
    "duration": 28,
    "start_time": "2024-07-16T23:15:14.929Z"
   },
   {
    "duration": 34,
    "start_time": "2024-07-16T23:15:14.960Z"
   },
   {
    "duration": 7,
    "start_time": "2024-07-16T23:15:14.998Z"
   },
   {
    "duration": 148,
    "start_time": "2024-07-16T23:15:15.007Z"
   },
   {
    "duration": 74,
    "start_time": "2024-07-16T23:15:15.158Z"
   },
   {
    "duration": 185,
    "start_time": "2024-07-16T23:15:15.236Z"
   },
   {
    "duration": 5,
    "start_time": "2024-07-16T23:15:15.429Z"
   },
   {
    "duration": 5,
    "start_time": "2024-07-16T23:15:15.437Z"
   },
   {
    "duration": 153,
    "start_time": "2024-07-16T23:15:15.445Z"
   },
   {
    "duration": 130,
    "start_time": "2024-07-16T23:15:15.601Z"
   },
   {
    "duration": 1157,
    "start_time": "2024-07-16T23:15:15.734Z"
   },
   {
    "duration": 10,
    "start_time": "2024-07-16T23:15:16.894Z"
   },
   {
    "duration": 6,
    "start_time": "2024-07-16T23:15:16.907Z"
   },
   {
    "duration": 36,
    "start_time": "2024-07-16T23:15:16.916Z"
   },
   {
    "duration": 160,
    "start_time": "2024-07-16T23:15:16.991Z"
   },
   {
    "duration": 54,
    "start_time": "2024-07-16T23:15:17.154Z"
   },
   {
    "duration": 328,
    "start_time": "2024-07-16T23:18:01.326Z"
   },
   {
    "duration": 24,
    "start_time": "2024-07-16T23:18:10.875Z"
   },
   {
    "duration": 21,
    "start_time": "2024-07-16T23:18:11.335Z"
   },
   {
    "duration": 1395,
    "start_time": "2024-07-16T23:18:16.779Z"
   },
   {
    "duration": 799,
    "start_time": "2024-07-16T23:18:18.178Z"
   },
   {
    "duration": 49,
    "start_time": "2024-07-16T23:18:18.979Z"
   },
   {
    "duration": 180,
    "start_time": "2024-07-16T23:18:19.031Z"
   },
   {
    "duration": 27,
    "start_time": "2024-07-16T23:18:19.216Z"
   },
   {
    "duration": 5,
    "start_time": "2024-07-16T23:18:19.247Z"
   },
   {
    "duration": 61,
    "start_time": "2024-07-16T23:18:19.256Z"
   },
   {
    "duration": 27,
    "start_time": "2024-07-16T23:18:19.320Z"
   },
   {
    "duration": 6,
    "start_time": "2024-07-16T23:18:19.350Z"
   },
   {
    "duration": 7,
    "start_time": "2024-07-16T23:18:19.391Z"
   },
   {
    "duration": 133,
    "start_time": "2024-07-16T23:18:19.401Z"
   },
   {
    "duration": 72,
    "start_time": "2024-07-16T23:18:19.537Z"
   },
   {
    "duration": 150,
    "start_time": "2024-07-16T23:18:19.612Z"
   },
   {
    "duration": 19,
    "start_time": "2024-07-16T23:18:19.768Z"
   },
   {
    "duration": 190,
    "start_time": "2024-07-16T23:18:19.791Z"
   },
   {
    "duration": 120,
    "start_time": "2024-07-16T23:18:19.989Z"
   },
   {
    "duration": 1156,
    "start_time": "2024-07-16T23:18:20.112Z"
   },
   {
    "duration": 23,
    "start_time": "2024-07-16T23:18:21.271Z"
   },
   {
    "duration": 8,
    "start_time": "2024-07-16T23:18:21.297Z"
   },
   {
    "duration": 40,
    "start_time": "2024-07-16T23:18:21.309Z"
   },
   {
    "duration": 188,
    "start_time": "2024-07-16T23:18:21.352Z"
   },
   {
    "duration": 55,
    "start_time": "2024-07-16T23:18:21.545Z"
   },
   {
    "duration": 313,
    "start_time": "2024-07-16T23:19:17.862Z"
   },
   {
    "duration": 1329,
    "start_time": "2024-07-16T23:20:27.630Z"
   },
   {
    "duration": 784,
    "start_time": "2024-07-16T23:20:28.963Z"
   },
   {
    "duration": 58,
    "start_time": "2024-07-16T23:20:29.750Z"
   },
   {
    "duration": 156,
    "start_time": "2024-07-16T23:20:29.812Z"
   },
   {
    "duration": 34,
    "start_time": "2024-07-16T23:20:29.972Z"
   },
   {
    "duration": 5,
    "start_time": "2024-07-16T23:20:30.009Z"
   },
   {
    "duration": 34,
    "start_time": "2024-07-16T23:20:30.017Z"
   },
   {
    "duration": 61,
    "start_time": "2024-07-16T23:20:30.054Z"
   },
   {
    "duration": 6,
    "start_time": "2024-07-16T23:20:30.118Z"
   },
   {
    "duration": 6,
    "start_time": "2024-07-16T23:20:30.127Z"
   },
   {
    "duration": 159,
    "start_time": "2024-07-16T23:20:30.137Z"
   },
   {
    "duration": 160,
    "start_time": "2024-07-16T23:20:30.299Z"
   },
   {
    "duration": 77,
    "start_time": "2024-07-16T23:20:30.462Z"
   },
   {
    "duration": 164,
    "start_time": "2024-07-16T23:20:30.546Z"
   },
   {
    "duration": 6,
    "start_time": "2024-07-16T23:20:30.714Z"
   },
   {
    "duration": 4,
    "start_time": "2024-07-16T23:20:30.723Z"
   },
   {
    "duration": 175,
    "start_time": "2024-07-16T23:20:30.730Z"
   },
   {
    "duration": 131,
    "start_time": "2024-07-16T23:20:30.908Z"
   },
   {
    "duration": 1148,
    "start_time": "2024-07-16T23:20:31.042Z"
   },
   {
    "duration": 11,
    "start_time": "2024-07-16T23:20:32.193Z"
   },
   {
    "duration": 6,
    "start_time": "2024-07-16T23:20:32.206Z"
   },
   {
    "duration": 37,
    "start_time": "2024-07-16T23:20:32.215Z"
   },
   {
    "duration": 193,
    "start_time": "2024-07-16T23:20:32.255Z"
   },
   {
    "duration": 64,
    "start_time": "2024-07-16T23:20:32.451Z"
   },
   {
    "duration": 1339,
    "start_time": "2024-07-16T23:20:38.833Z"
   },
   {
    "duration": 770,
    "start_time": "2024-07-16T23:20:40.176Z"
   },
   {
    "duration": 45,
    "start_time": "2024-07-16T23:20:41.568Z"
   },
   {
    "duration": 156,
    "start_time": "2024-07-16T23:20:42.621Z"
   },
   {
    "duration": 29,
    "start_time": "2024-07-16T23:20:43.190Z"
   },
   {
    "duration": 4,
    "start_time": "2024-07-16T23:20:46.514Z"
   },
   {
    "duration": 33,
    "start_time": "2024-07-16T23:20:48.035Z"
   },
   {
    "duration": 27,
    "start_time": "2024-07-16T23:20:48.812Z"
   },
   {
    "duration": 6,
    "start_time": "2024-07-16T23:20:49.507Z"
   },
   {
    "duration": 5,
    "start_time": "2024-07-16T23:20:50.247Z"
   },
   {
    "duration": 114,
    "start_time": "2024-07-16T23:20:54.222Z"
   },
   {
    "duration": 132,
    "start_time": "2024-07-16T23:20:55.669Z"
   },
   {
    "duration": 65,
    "start_time": "2024-07-16T23:21:07.193Z"
   },
   {
    "duration": 144,
    "start_time": "2024-07-16T23:21:09.520Z"
   },
   {
    "duration": 6,
    "start_time": "2024-07-16T23:21:10.000Z"
   },
   {
    "duration": 3,
    "start_time": "2024-07-16T23:21:10.667Z"
   },
   {
    "duration": 147,
    "start_time": "2024-07-16T23:21:11.451Z"
   },
   {
    "duration": 124,
    "start_time": "2024-07-16T23:21:12.536Z"
   },
   {
    "duration": 1150,
    "start_time": "2024-07-16T23:21:15.189Z"
   },
   {
    "duration": 11,
    "start_time": "2024-07-16T23:21:16.342Z"
   },
   {
    "duration": 5,
    "start_time": "2024-07-16T23:21:17.760Z"
   },
   {
    "duration": 36,
    "start_time": "2024-07-16T23:21:18.734Z"
   },
   {
    "duration": 145,
    "start_time": "2024-07-16T23:21:23.772Z"
   },
   {
    "duration": 46,
    "start_time": "2024-07-16T23:21:24.671Z"
   },
   {
    "duration": 317,
    "start_time": "2024-07-16T23:21:30.215Z"
   },
   {
    "duration": 123,
    "start_time": "2024-07-16T23:21:33.523Z"
   },
   {
    "duration": 30,
    "start_time": "2024-07-16T23:21:34.703Z"
   },
   {
    "duration": 1338,
    "start_time": "2024-07-16T23:21:42.520Z"
   },
   {
    "duration": 117,
    "start_time": "2024-07-16T23:21:46.284Z"
   },
   {
    "duration": 29,
    "start_time": "2024-07-16T23:21:55.064Z"
   },
   {
    "duration": 28,
    "start_time": "2024-07-16T23:22:01.246Z"
   },
   {
    "duration": 26,
    "start_time": "2024-07-16T23:22:06.155Z"
   },
   {
    "duration": 26,
    "start_time": "2024-07-16T23:22:10.192Z"
   },
   {
    "duration": 6,
    "start_time": "2024-07-16T23:22:19.090Z"
   },
   {
    "duration": 768,
    "start_time": "2024-07-16T23:22:20.094Z"
   },
   {
    "duration": 46,
    "start_time": "2024-07-16T23:22:21.432Z"
   },
   {
    "duration": 145,
    "start_time": "2024-07-16T23:22:22.097Z"
   },
   {
    "duration": 26,
    "start_time": "2024-07-16T23:22:22.888Z"
   },
   {
    "duration": 5,
    "start_time": "2024-07-16T23:22:24.019Z"
   },
   {
    "duration": 31,
    "start_time": "2024-07-16T23:22:26.310Z"
   },
   {
    "duration": 29,
    "start_time": "2024-07-16T23:22:26.868Z"
   },
   {
    "duration": 5,
    "start_time": "2024-07-16T23:22:27.418Z"
   },
   {
    "duration": 5,
    "start_time": "2024-07-16T23:22:28.067Z"
   },
   {
    "duration": 113,
    "start_time": "2024-07-16T23:22:28.586Z"
   },
   {
    "duration": 131,
    "start_time": "2024-07-16T23:22:29.109Z"
   },
   {
    "duration": 69,
    "start_time": "2024-07-16T23:22:29.694Z"
   },
   {
    "duration": 169,
    "start_time": "2024-07-16T23:22:32.130Z"
   },
   {
    "duration": 7,
    "start_time": "2024-07-16T23:22:33.041Z"
   },
   {
    "duration": 4,
    "start_time": "2024-07-16T23:22:33.738Z"
   },
   {
    "duration": 142,
    "start_time": "2024-07-16T23:22:34.416Z"
   },
   {
    "duration": 113,
    "start_time": "2024-07-16T23:22:35.044Z"
   },
   {
    "duration": 1142,
    "start_time": "2024-07-16T23:22:37.609Z"
   },
   {
    "duration": 11,
    "start_time": "2024-07-16T23:22:38.754Z"
   },
   {
    "duration": 6,
    "start_time": "2024-07-16T23:22:39.308Z"
   },
   {
    "duration": 36,
    "start_time": "2024-07-16T23:22:40.058Z"
   },
   {
    "duration": 148,
    "start_time": "2024-07-16T23:22:40.549Z"
   },
   {
    "duration": 39,
    "start_time": "2024-07-16T23:22:41.236Z"
   },
   {
    "duration": 324,
    "start_time": "2024-07-16T23:22:52.339Z"
   },
   {
    "duration": 25,
    "start_time": "2024-07-16T23:22:53.372Z"
   },
   {
    "duration": 3,
    "start_time": "2024-07-16T23:22:54.176Z"
   },
   {
    "duration": 118,
    "start_time": "2024-07-16T23:22:54.912Z"
   },
   {
    "duration": 15,
    "start_time": "2024-07-16T23:22:56.482Z"
   },
   {
    "duration": 25,
    "start_time": "2024-07-16T23:22:57.550Z"
   },
   {
    "duration": 1373,
    "start_time": "2024-07-16T23:23:17.295Z"
   },
   {
    "duration": 791,
    "start_time": "2024-07-16T23:23:18.672Z"
   },
   {
    "duration": 59,
    "start_time": "2024-07-16T23:23:19.465Z"
   },
   {
    "duration": 152,
    "start_time": "2024-07-16T23:23:19.526Z"
   },
   {
    "duration": 29,
    "start_time": "2024-07-16T23:23:19.694Z"
   },
   {
    "duration": 6,
    "start_time": "2024-07-16T23:23:19.726Z"
   },
   {
    "duration": 65,
    "start_time": "2024-07-16T23:23:19.736Z"
   },
   {
    "duration": 26,
    "start_time": "2024-07-16T23:23:19.807Z"
   },
   {
    "duration": 6,
    "start_time": "2024-07-16T23:23:19.836Z"
   },
   {
    "duration": 6,
    "start_time": "2024-07-16T23:23:19.845Z"
   },
   {
    "duration": 153,
    "start_time": "2024-07-16T23:23:19.853Z"
   },
   {
    "duration": 146,
    "start_time": "2024-07-16T23:23:20.009Z"
   },
   {
    "duration": 79,
    "start_time": "2024-07-16T23:23:20.158Z"
   },
   {
    "duration": 156,
    "start_time": "2024-07-16T23:23:20.245Z"
   },
   {
    "duration": 8,
    "start_time": "2024-07-16T23:23:20.404Z"
   },
   {
    "duration": 4,
    "start_time": "2024-07-16T23:23:20.415Z"
   },
   {
    "duration": 170,
    "start_time": "2024-07-16T23:23:20.422Z"
   },
   {
    "duration": 132,
    "start_time": "2024-07-16T23:23:20.595Z"
   },
   {
    "duration": 1155,
    "start_time": "2024-07-16T23:23:20.730Z"
   },
   {
    "duration": 13,
    "start_time": "2024-07-16T23:23:21.887Z"
   },
   {
    "duration": 6,
    "start_time": "2024-07-16T23:23:21.903Z"
   },
   {
    "duration": 35,
    "start_time": "2024-07-16T23:23:21.912Z"
   },
   {
    "duration": 193,
    "start_time": "2024-07-16T23:23:21.951Z"
   },
   {
    "duration": 55,
    "start_time": "2024-07-16T23:23:22.147Z"
   },
   {
    "duration": 1388,
    "start_time": "2024-07-16T23:26:22.367Z"
   },
   {
    "duration": 777,
    "start_time": "2024-07-16T23:26:23.758Z"
   },
   {
    "duration": 41,
    "start_time": "2024-07-16T23:26:25.125Z"
   },
   {
    "duration": 144,
    "start_time": "2024-07-16T23:26:25.728Z"
   },
   {
    "duration": 25,
    "start_time": "2024-07-16T23:26:26.745Z"
   },
   {
    "duration": 4,
    "start_time": "2024-07-16T23:26:33.527Z"
   },
   {
    "duration": 31,
    "start_time": "2024-07-16T23:26:36.000Z"
   },
   {
    "duration": 27,
    "start_time": "2024-07-16T23:26:36.521Z"
   },
   {
    "duration": 6,
    "start_time": "2024-07-16T23:26:37.089Z"
   },
   {
    "duration": 7,
    "start_time": "2024-07-16T23:26:37.646Z"
   },
   {
    "duration": 112,
    "start_time": "2024-07-16T23:26:38.116Z"
   },
   {
    "duration": 133,
    "start_time": "2024-07-16T23:26:38.617Z"
   },
   {
    "duration": 64,
    "start_time": "2024-07-16T23:26:39.277Z"
   },
   {
    "duration": 153,
    "start_time": "2024-07-16T23:26:41.485Z"
   },
   {
    "duration": 6,
    "start_time": "2024-07-16T23:26:42.834Z"
   },
   {
    "duration": 3,
    "start_time": "2024-07-16T23:26:44.195Z"
   },
   {
    "duration": 142,
    "start_time": "2024-07-16T23:26:45.107Z"
   },
   {
    "duration": 116,
    "start_time": "2024-07-16T23:26:46.276Z"
   },
   {
    "duration": 1145,
    "start_time": "2024-07-16T23:26:49.153Z"
   },
   {
    "duration": 10,
    "start_time": "2024-07-16T23:26:57.070Z"
   },
   {
    "duration": 6,
    "start_time": "2024-07-16T23:26:58.219Z"
   },
   {
    "duration": 34,
    "start_time": "2024-07-16T23:26:59.305Z"
   },
   {
    "duration": 152,
    "start_time": "2024-07-16T23:27:00.366Z"
   },
   {
    "duration": 42,
    "start_time": "2024-07-16T23:27:01.418Z"
   },
   {
    "duration": 193,
    "start_time": "2024-07-16T23:27:31.951Z"
   },
   {
    "duration": 318,
    "start_time": "2024-07-16T23:27:47.012Z"
   },
   {
    "duration": 1276,
    "start_time": "2024-07-16T23:30:33.411Z"
   },
   {
    "duration": 33,
    "start_time": "2024-07-16T23:30:34.784Z"
   },
   {
    "duration": 26,
    "start_time": "2024-07-16T23:30:37.407Z"
   },
   {
    "duration": 4,
    "start_time": "2024-07-16T23:31:13.575Z"
   },
   {
    "duration": 29,
    "start_time": "2024-07-16T23:31:15.197Z"
   },
   {
    "duration": 1376,
    "start_time": "2024-07-16T23:31:25.621Z"
   },
   {
    "duration": 757,
    "start_time": "2024-07-16T23:31:27.001Z"
   },
   {
    "duration": 52,
    "start_time": "2024-07-16T23:31:27.761Z"
   },
   {
    "duration": 151,
    "start_time": "2024-07-16T23:31:27.819Z"
   },
   {
    "duration": 34,
    "start_time": "2024-07-16T23:31:27.975Z"
   },
   {
    "duration": 5,
    "start_time": "2024-07-16T23:31:28.013Z"
   },
   {
    "duration": 37,
    "start_time": "2024-07-16T23:31:28.021Z"
   },
   {
    "duration": 27,
    "start_time": "2024-07-16T23:31:28.095Z"
   },
   {
    "duration": 6,
    "start_time": "2024-07-16T23:31:28.124Z"
   },
   {
    "duration": 5,
    "start_time": "2024-07-16T23:31:28.137Z"
   },
   {
    "duration": 158,
    "start_time": "2024-07-16T23:31:28.146Z"
   },
   {
    "duration": 148,
    "start_time": "2024-07-16T23:31:28.308Z"
   },
   {
    "duration": 79,
    "start_time": "2024-07-16T23:31:28.459Z"
   },
   {
    "duration": 200,
    "start_time": "2024-07-16T23:31:28.541Z"
   },
   {
    "duration": 8,
    "start_time": "2024-07-16T23:31:28.744Z"
   },
   {
    "duration": 5,
    "start_time": "2024-07-16T23:31:28.755Z"
   },
   {
    "duration": 170,
    "start_time": "2024-07-16T23:31:28.762Z"
   },
   {
    "duration": 147,
    "start_time": "2024-07-16T23:31:28.935Z"
   },
   {
    "duration": 6,
    "start_time": "2024-07-16T23:31:29.085Z"
   },
   {
    "duration": 717,
    "start_time": "2024-07-16T23:31:29.094Z"
   },
   {
    "duration": 0,
    "start_time": "2024-07-16T23:31:29.814Z"
   },
   {
    "duration": 0,
    "start_time": "2024-07-16T23:31:29.817Z"
   },
   {
    "duration": 0,
    "start_time": "2024-07-16T23:31:29.819Z"
   },
   {
    "duration": 0,
    "start_time": "2024-07-16T23:31:29.821Z"
   },
   {
    "duration": 0,
    "start_time": "2024-07-16T23:31:29.823Z"
   },
   {
    "duration": 0,
    "start_time": "2024-07-16T23:31:29.825Z"
   },
   {
    "duration": 0,
    "start_time": "2024-07-16T23:31:29.828Z"
   },
   {
    "duration": 1,
    "start_time": "2024-07-16T23:31:29.830Z"
   },
   {
    "duration": 0,
    "start_time": "2024-07-16T23:31:29.834Z"
   },
   {
    "duration": 0,
    "start_time": "2024-07-16T23:31:29.836Z"
   },
   {
    "duration": 0,
    "start_time": "2024-07-16T23:31:29.839Z"
   },
   {
    "duration": 0,
    "start_time": "2024-07-16T23:31:29.841Z"
   },
   {
    "duration": 0,
    "start_time": "2024-07-16T23:31:29.843Z"
   },
   {
    "duration": 5,
    "start_time": "2024-07-16T23:31:40.102Z"
   },
   {
    "duration": 696,
    "start_time": "2024-07-16T23:31:40.781Z"
   },
   {
    "duration": 40,
    "start_time": "2024-07-16T23:31:41.956Z"
   },
   {
    "duration": 152,
    "start_time": "2024-07-16T23:31:42.729Z"
   },
   {
    "duration": 19,
    "start_time": "2024-07-16T23:31:43.239Z"
   },
   {
    "duration": 5,
    "start_time": "2024-07-16T23:31:44.539Z"
   },
   {
    "duration": 30,
    "start_time": "2024-07-16T23:31:47.222Z"
   },
   {
    "duration": 26,
    "start_time": "2024-07-16T23:31:47.919Z"
   },
   {
    "duration": 6,
    "start_time": "2024-07-16T23:31:48.501Z"
   },
   {
    "duration": 6,
    "start_time": "2024-07-16T23:31:49.215Z"
   },
   {
    "duration": 111,
    "start_time": "2024-07-16T23:31:49.883Z"
   },
   {
    "duration": 133,
    "start_time": "2024-07-16T23:31:50.589Z"
   },
   {
    "duration": 67,
    "start_time": "2024-07-16T23:31:51.200Z"
   },
   {
    "duration": 199,
    "start_time": "2024-07-16T23:31:53.641Z"
   },
   {
    "duration": 5,
    "start_time": "2024-07-16T23:31:54.498Z"
   },
   {
    "duration": 3,
    "start_time": "2024-07-16T23:31:55.493Z"
   },
   {
    "duration": 127,
    "start_time": "2024-07-16T23:31:56.045Z"
   },
   {
    "duration": 127,
    "start_time": "2024-07-16T23:31:57.298Z"
   },
   {
    "duration": 5,
    "start_time": "2024-07-16T23:32:01.226Z"
   },
   {
    "duration": 201,
    "start_time": "2024-07-16T23:32:01.773Z"
   },
   {
    "duration": 25,
    "start_time": "2024-07-16T23:32:05.003Z"
   },
   {
    "duration": 133,
    "start_time": "2024-07-16T23:32:16.102Z"
   },
   {
    "duration": 128,
    "start_time": "2024-07-16T23:32:40.037Z"
   },
   {
    "duration": 128,
    "start_time": "2024-07-16T23:32:41.470Z"
   },
   {
    "duration": 5,
    "start_time": "2024-07-16T23:32:43.007Z"
   },
   {
    "duration": 9,
    "start_time": "2024-07-16T23:34:14.432Z"
   },
   {
    "duration": 7,
    "start_time": "2024-07-16T23:34:51.060Z"
   },
   {
    "duration": 9,
    "start_time": "2024-07-16T23:35:30.438Z"
   },
   {
    "duration": 134,
    "start_time": "2024-07-16T23:36:26.990Z"
   },
   {
    "duration": 254,
    "start_time": "2024-07-16T23:37:07.510Z"
   },
   {
    "duration": 257,
    "start_time": "2024-07-16T23:37:11.054Z"
   },
   {
    "duration": 258,
    "start_time": "2024-07-16T23:37:19.596Z"
   },
   {
    "duration": 311,
    "start_time": "2024-07-16T23:38:34.522Z"
   },
   {
    "duration": 270,
    "start_time": "2024-07-16T23:38:42.564Z"
   },
   {
    "duration": 1319,
    "start_time": "2024-07-16T23:38:49.027Z"
   },
   {
    "duration": 741,
    "start_time": "2024-07-16T23:38:50.350Z"
   },
   {
    "duration": 42,
    "start_time": "2024-07-16T23:38:51.094Z"
   },
   {
    "duration": 170,
    "start_time": "2024-07-16T23:38:51.139Z"
   },
   {
    "duration": 27,
    "start_time": "2024-07-16T23:38:51.313Z"
   },
   {
    "duration": 4,
    "start_time": "2024-07-16T23:38:51.343Z"
   },
   {
    "duration": 61,
    "start_time": "2024-07-16T23:38:51.350Z"
   },
   {
    "duration": 27,
    "start_time": "2024-07-16T23:38:51.414Z"
   },
   {
    "duration": 5,
    "start_time": "2024-07-16T23:38:51.444Z"
   },
   {
    "duration": 5,
    "start_time": "2024-07-16T23:38:51.453Z"
   },
   {
    "duration": 125,
    "start_time": "2024-07-16T23:38:51.492Z"
   },
   {
    "duration": 155,
    "start_time": "2024-07-16T23:38:51.621Z"
   },
   {
    "duration": 70,
    "start_time": "2024-07-16T23:38:51.779Z"
   },
   {
    "duration": 211,
    "start_time": "2024-07-16T23:38:51.855Z"
   },
   {
    "duration": 5,
    "start_time": "2024-07-16T23:38:52.069Z"
   },
   {
    "duration": 14,
    "start_time": "2024-07-16T23:38:52.077Z"
   },
   {
    "duration": 158,
    "start_time": "2024-07-16T23:38:52.095Z"
   },
   {
    "duration": 142,
    "start_time": "2024-07-16T23:38:52.256Z"
   },
   {
    "duration": 6,
    "start_time": "2024-07-16T23:38:52.400Z"
   },
   {
    "duration": 885,
    "start_time": "2024-07-16T23:38:52.409Z"
   },
   {
    "duration": 0,
    "start_time": "2024-07-16T23:38:53.297Z"
   },
   {
    "duration": 0,
    "start_time": "2024-07-16T23:38:53.299Z"
   },
   {
    "duration": 0,
    "start_time": "2024-07-16T23:38:53.301Z"
   },
   {
    "duration": 0,
    "start_time": "2024-07-16T23:38:53.303Z"
   },
   {
    "duration": 0,
    "start_time": "2024-07-16T23:38:53.305Z"
   },
   {
    "duration": 0,
    "start_time": "2024-07-16T23:38:53.307Z"
   },
   {
    "duration": 0,
    "start_time": "2024-07-16T23:38:53.309Z"
   },
   {
    "duration": 0,
    "start_time": "2024-07-16T23:38:53.312Z"
   },
   {
    "duration": 0,
    "start_time": "2024-07-16T23:38:53.315Z"
   },
   {
    "duration": 0,
    "start_time": "2024-07-16T23:38:53.316Z"
   },
   {
    "duration": 0,
    "start_time": "2024-07-16T23:38:53.319Z"
   },
   {
    "duration": 0,
    "start_time": "2024-07-16T23:38:53.322Z"
   },
   {
    "duration": 0,
    "start_time": "2024-07-16T23:38:53.324Z"
   },
   {
    "duration": 5,
    "start_time": "2024-07-16T23:39:03.954Z"
   },
   {
    "duration": 715,
    "start_time": "2024-07-16T23:39:04.561Z"
   },
   {
    "duration": 39,
    "start_time": "2024-07-16T23:39:05.537Z"
   },
   {
    "duration": 147,
    "start_time": "2024-07-16T23:39:06.051Z"
   },
   {
    "duration": 18,
    "start_time": "2024-07-16T23:39:06.930Z"
   },
   {
    "duration": 4,
    "start_time": "2024-07-16T23:39:07.958Z"
   },
   {
    "duration": 29,
    "start_time": "2024-07-16T23:39:09.571Z"
   },
   {
    "duration": 27,
    "start_time": "2024-07-16T23:39:10.067Z"
   },
   {
    "duration": 5,
    "start_time": "2024-07-16T23:39:10.581Z"
   },
   {
    "duration": 6,
    "start_time": "2024-07-16T23:39:11.066Z"
   },
   {
    "duration": 114,
    "start_time": "2024-07-16T23:39:11.568Z"
   },
   {
    "duration": 133,
    "start_time": "2024-07-16T23:39:12.089Z"
   },
   {
    "duration": 64,
    "start_time": "2024-07-16T23:39:12.668Z"
   },
   {
    "duration": 224,
    "start_time": "2024-07-16T23:39:15.490Z"
   },
   {
    "duration": 6,
    "start_time": "2024-07-16T23:39:16.363Z"
   },
   {
    "duration": 3,
    "start_time": "2024-07-16T23:39:17.102Z"
   },
   {
    "duration": 130,
    "start_time": "2024-07-16T23:39:17.703Z"
   },
   {
    "duration": 131,
    "start_time": "2024-07-16T23:39:21.780Z"
   },
   {
    "duration": 141,
    "start_time": "2024-07-16T23:39:22.377Z"
   },
   {
    "duration": 4,
    "start_time": "2024-07-16T23:39:25.604Z"
   },
   {
    "duration": 346,
    "start_time": "2024-07-16T23:39:26.260Z"
   },
   {
    "duration": 137,
    "start_time": "2024-07-16T23:39:50.349Z"
   },
   {
    "duration": 138,
    "start_time": "2024-07-16T23:39:51.093Z"
   },
   {
    "duration": 322,
    "start_time": "2024-07-16T23:40:54.083Z"
   },
   {
    "duration": 144,
    "start_time": "2024-07-16T23:41:23.368Z"
   },
   {
    "duration": 145,
    "start_time": "2024-07-16T23:41:23.983Z"
   },
   {
    "duration": 400,
    "start_time": "2024-07-16T23:42:35.428Z"
   },
   {
    "duration": 387,
    "start_time": "2024-07-16T23:42:41.176Z"
   },
   {
    "duration": 137,
    "start_time": "2024-07-16T23:42:49.100Z"
   },
   {
    "duration": 377,
    "start_time": "2024-07-16T23:42:49.733Z"
   },
   {
    "duration": 394,
    "start_time": "2024-07-16T23:43:21.742Z"
   },
   {
    "duration": 389,
    "start_time": "2024-07-16T23:44:58.489Z"
   },
   {
    "duration": 388,
    "start_time": "2024-07-16T23:45:24.994Z"
   },
   {
    "duration": 1373,
    "start_time": "2024-07-16T23:45:59.036Z"
   },
   {
    "duration": 32,
    "start_time": "2024-07-16T23:46:04.024Z"
   },
   {
    "duration": 49,
    "start_time": "2024-07-16T23:46:44.134Z"
   },
   {
    "duration": 28,
    "start_time": "2024-07-16T23:47:04.843Z"
   },
   {
    "duration": 5,
    "start_time": "2024-07-16T23:47:14.472Z"
   },
   {
    "duration": 18,
    "start_time": "2024-07-16T23:47:22.010Z"
   },
   {
    "duration": 22,
    "start_time": "2024-07-16T23:47:23.437Z"
   },
   {
    "duration": 25,
    "start_time": "2024-07-16T23:47:24.332Z"
   },
   {
    "duration": 22,
    "start_time": "2024-07-16T23:47:30.485Z"
   },
   {
    "duration": 23,
    "start_time": "2024-07-16T23:47:51.510Z"
   },
   {
    "duration": 6,
    "start_time": "2024-07-16T23:48:23.767Z"
   },
   {
    "duration": 143,
    "start_time": "2024-07-16T23:48:43.114Z"
   },
   {
    "duration": 1265,
    "start_time": "2024-07-16T23:48:44.123Z"
   },
   {
    "duration": 52,
    "start_time": "2024-07-16T23:48:45.392Z"
   },
   {
    "duration": 5,
    "start_time": "2024-07-16T23:48:46.537Z"
   },
   {
    "duration": 21,
    "start_time": "2024-07-16T23:48:53.815Z"
   },
   {
    "duration": 25,
    "start_time": "2024-07-16T23:48:54.842Z"
   },
   {
    "duration": 23,
    "start_time": "2024-07-16T23:48:55.556Z"
   },
   {
    "duration": 86,
    "start_time": "2024-07-16T23:49:51.844Z"
   },
   {
    "duration": 29,
    "start_time": "2024-07-16T23:49:53.178Z"
   },
   {
    "duration": 312,
    "start_time": "2024-07-16T23:50:55.654Z"
   },
   {
    "duration": 21,
    "start_time": "2024-07-16T23:51:06.125Z"
   },
   {
    "duration": 133,
    "start_time": "2024-07-16T23:51:26.937Z"
   },
   {
    "duration": 202,
    "start_time": "2024-07-16T23:51:46.953Z"
   },
   {
    "duration": 136,
    "start_time": "2024-07-16T23:54:02.264Z"
   },
   {
    "duration": 903,
    "start_time": "2024-07-16T23:54:43.750Z"
   },
   {
    "duration": 75,
    "start_time": "2024-07-16T23:54:59.763Z"
   },
   {
    "duration": 20,
    "start_time": "2024-07-16T23:58:09.649Z"
   },
   {
    "duration": 735,
    "start_time": "2024-07-16T23:58:33.074Z"
   },
   {
    "duration": 4,
    "start_time": "2024-07-16T23:58:57.772Z"
   },
   {
    "duration": 63,
    "start_time": "2024-07-16T23:59:05.498Z"
   },
   {
    "duration": 17,
    "start_time": "2024-07-16T23:59:06.582Z"
   },
   {
    "duration": 4,
    "start_time": "2024-07-16T23:59:37.975Z"
   },
   {
    "duration": 69,
    "start_time": "2024-07-17T00:00:10.253Z"
   },
   {
    "duration": 76,
    "start_time": "2024-07-17T00:02:00.723Z"
   },
   {
    "duration": 20,
    "start_time": "2024-07-17T00:03:22.386Z"
   },
   {
    "duration": 65,
    "start_time": "2024-07-17T00:03:40.914Z"
   },
   {
    "duration": 64,
    "start_time": "2024-07-17T00:05:21.658Z"
   },
   {
    "duration": 77,
    "start_time": "2024-07-17T00:07:26.720Z"
   },
   {
    "duration": 130,
    "start_time": "2024-07-17T00:07:52.245Z"
   },
   {
    "duration": 42,
    "start_time": "2024-07-17T00:08:22.480Z"
   },
   {
    "duration": 145,
    "start_time": "2024-07-17T00:08:46.568Z"
   },
   {
    "duration": 140,
    "start_time": "2024-07-17T00:09:13.009Z"
   },
   {
    "duration": 1260,
    "start_time": "2024-07-17T00:09:13.830Z"
   },
   {
    "duration": 53,
    "start_time": "2024-07-17T00:09:15.093Z"
   },
   {
    "duration": 6,
    "start_time": "2024-07-17T00:09:15.640Z"
   },
   {
    "duration": 19,
    "start_time": "2024-07-17T00:09:16.342Z"
   },
   {
    "duration": 22,
    "start_time": "2024-07-17T00:09:16.968Z"
   },
   {
    "duration": 22,
    "start_time": "2024-07-17T00:09:17.532Z"
   },
   {
    "duration": 181,
    "start_time": "2024-07-17T00:09:19.433Z"
   },
   {
    "duration": 4,
    "start_time": "2024-07-17T00:09:20.667Z"
   },
   {
    "duration": 155,
    "start_time": "2024-07-17T00:09:36.654Z"
   },
   {
    "duration": 140,
    "start_time": "2024-07-17T00:10:24.984Z"
   },
   {
    "duration": 37,
    "start_time": "2024-07-17T00:11:45.248Z"
   },
   {
    "duration": 130,
    "start_time": "2024-07-17T00:11:58.542Z"
   },
   {
    "duration": 135,
    "start_time": "2024-07-17T00:12:18.699Z"
   },
   {
    "duration": 132,
    "start_time": "2024-07-17T00:12:55.120Z"
   },
   {
    "duration": 4,
    "start_time": "2024-07-17T00:14:45.602Z"
   },
   {
    "duration": 131,
    "start_time": "2024-07-17T00:14:46.562Z"
   },
   {
    "duration": 33,
    "start_time": "2024-07-17T00:15:16.784Z"
   },
   {
    "duration": 7,
    "start_time": "2024-07-17T00:15:35.981Z"
   },
   {
    "duration": 42,
    "start_time": "2024-07-17T00:15:54.037Z"
   },
   {
    "duration": 157,
    "start_time": "2024-07-17T00:16:03.432Z"
   },
   {
    "duration": 7,
    "start_time": "2024-07-17T00:16:21.573Z"
   },
   {
    "duration": 11,
    "start_time": "2024-07-17T00:16:51.258Z"
   },
   {
    "duration": 7,
    "start_time": "2024-07-17T00:17:02.345Z"
   },
   {
    "duration": 7,
    "start_time": "2024-07-17T00:17:49.509Z"
   },
   {
    "duration": 131,
    "start_time": "2024-07-17T00:17:58.669Z"
   },
   {
    "duration": 133,
    "start_time": "2024-07-17T00:18:17.975Z"
   },
   {
    "duration": 133,
    "start_time": "2024-07-17T00:19:06.016Z"
   },
   {
    "duration": 4,
    "start_time": "2024-07-17T00:19:15.232Z"
   },
   {
    "duration": 7,
    "start_time": "2024-07-17T00:19:15.804Z"
   },
   {
    "duration": 131,
    "start_time": "2024-07-17T00:19:16.514Z"
   },
   {
    "duration": 69,
    "start_time": "2024-07-17T00:22:08.709Z"
   },
   {
    "duration": 92,
    "start_time": "2024-07-17T00:24:06.661Z"
   },
   {
    "duration": 73,
    "start_time": "2024-07-17T00:25:24.353Z"
   },
   {
    "duration": 73,
    "start_time": "2024-07-17T00:26:22.213Z"
   },
   {
    "duration": 78,
    "start_time": "2024-07-17T00:28:13.287Z"
   },
   {
    "duration": 3,
    "start_time": "2024-07-17T00:37:43.723Z"
   },
   {
    "duration": 5,
    "start_time": "2024-07-17T00:37:45.542Z"
   },
   {
    "duration": 4,
    "start_time": "2024-07-17T00:37:46.558Z"
   },
   {
    "duration": 13529,
    "start_time": "2024-07-17T00:37:47.443Z"
   },
   {
    "duration": 18,
    "start_time": "2024-07-17T00:38:40.471Z"
   },
   {
    "duration": 181,
    "start_time": "2024-07-17T00:39:30.620Z"
   },
   {
    "duration": 133,
    "start_time": "2024-07-17T00:39:53.418Z"
   },
   {
    "duration": 1325,
    "start_time": "2024-07-17T00:42:56.607Z"
   },
   {
    "duration": 721,
    "start_time": "2024-07-17T00:42:57.935Z"
   },
   {
    "duration": 55,
    "start_time": "2024-07-17T00:42:58.659Z"
   },
   {
    "duration": 147,
    "start_time": "2024-07-17T00:42:58.716Z"
   },
   {
    "duration": 40,
    "start_time": "2024-07-17T00:42:58.867Z"
   },
   {
    "duration": 5,
    "start_time": "2024-07-17T00:42:58.910Z"
   },
   {
    "duration": 34,
    "start_time": "2024-07-17T00:42:58.918Z"
   },
   {
    "duration": 27,
    "start_time": "2024-07-17T00:42:58.990Z"
   },
   {
    "duration": 8,
    "start_time": "2024-07-17T00:42:59.020Z"
   },
   {
    "duration": 6,
    "start_time": "2024-07-17T00:42:59.031Z"
   },
   {
    "duration": 147,
    "start_time": "2024-07-17T00:42:59.041Z"
   },
   {
    "duration": 149,
    "start_time": "2024-07-17T00:42:59.191Z"
   },
   {
    "duration": 78,
    "start_time": "2024-07-17T00:42:59.343Z"
   },
   {
    "duration": 189,
    "start_time": "2024-07-17T00:42:59.427Z"
   },
   {
    "duration": 6,
    "start_time": "2024-07-17T00:42:59.618Z"
   },
   {
    "duration": 3,
    "start_time": "2024-07-17T00:42:59.627Z"
   },
   {
    "duration": 172,
    "start_time": "2024-07-17T00:42:59.633Z"
   },
   {
    "duration": 148,
    "start_time": "2024-07-17T00:42:59.807Z"
   },
   {
    "duration": 4,
    "start_time": "2024-07-17T00:42:59.958Z"
   },
   {
    "duration": 159,
    "start_time": "2024-07-17T00:42:59.966Z"
   },
   {
    "duration": 1263,
    "start_time": "2024-07-17T00:43:00.127Z"
   },
   {
    "duration": 50,
    "start_time": "2024-07-17T00:43:01.394Z"
   },
   {
    "duration": 6,
    "start_time": "2024-07-17T00:43:01.447Z"
   },
   {
    "duration": 49,
    "start_time": "2024-07-17T00:43:01.457Z"
   },
   {
    "duration": 23,
    "start_time": "2024-07-17T00:43:01.509Z"
   },
   {
    "duration": 23,
    "start_time": "2024-07-17T00:43:01.535Z"
   },
   {
    "duration": 4,
    "start_time": "2024-07-17T00:43:01.591Z"
   },
   {
    "duration": 6,
    "start_time": "2024-07-17T00:43:01.599Z"
   },
   {
    "duration": 13590,
    "start_time": "2024-07-17T00:43:01.608Z"
   },
   {
    "duration": 674,
    "start_time": "2024-07-17T00:43:15.200Z"
   },
   {
    "duration": 254,
    "start_time": "2024-07-17T00:43:15.877Z"
   },
   {
    "duration": 135,
    "start_time": "2024-07-17T00:47:41.317Z"
   },
   {
    "duration": 25,
    "start_time": "2024-07-17T00:47:41.833Z"
   },
   {
    "duration": 126,
    "start_time": "2024-07-17T00:48:26.302Z"
   },
   {
    "duration": 27,
    "start_time": "2024-07-17T00:48:28.879Z"
   },
   {
    "duration": 23,
    "start_time": "2024-07-17T00:50:38.082Z"
   },
   {
    "duration": 3,
    "start_time": "2024-07-17T00:50:47.706Z"
   },
   {
    "duration": 4,
    "start_time": "2024-07-17T00:51:25.687Z"
   },
   {
    "duration": 117,
    "start_time": "2024-07-17T00:51:26.532Z"
   },
   {
    "duration": 201,
    "start_time": "2024-07-17T00:51:44.078Z"
   },
   {
    "duration": 230,
    "start_time": "2024-07-17T00:52:13.850Z"
   },
   {
    "duration": 13472,
    "start_time": "2024-07-17T00:53:15.323Z"
   },
   {
    "duration": 13515,
    "start_time": "2024-07-17T00:54:48.533Z"
   },
   {
    "duration": 106,
    "start_time": "2024-07-17T00:57:02.240Z"
   },
   {
    "duration": 136,
    "start_time": "2024-07-17T00:57:53.199Z"
   },
   {
    "duration": 138,
    "start_time": "2024-07-17T00:58:11.272Z"
   },
   {
    "duration": 139,
    "start_time": "2024-07-17T00:58:34.283Z"
   },
   {
    "duration": 136,
    "start_time": "2024-07-17T00:58:48.715Z"
   },
   {
    "duration": 136,
    "start_time": "2024-07-17T00:59:08.936Z"
   },
   {
    "duration": 139,
    "start_time": "2024-07-17T00:59:13.962Z"
   },
   {
    "duration": 5,
    "start_time": "2024-07-17T00:59:23.293Z"
   },
   {
    "duration": 135,
    "start_time": "2024-07-17T00:59:24.111Z"
   },
   {
    "duration": 4,
    "start_time": "2024-07-17T00:59:32.463Z"
   },
   {
    "duration": 141,
    "start_time": "2024-07-17T00:59:32.772Z"
   },
   {
    "duration": 134,
    "start_time": "2024-07-17T01:00:06.242Z"
   },
   {
    "duration": 3,
    "start_time": "2024-07-17T01:00:25.310Z"
   },
   {
    "duration": 140,
    "start_time": "2024-07-17T01:00:26.318Z"
   },
   {
    "duration": 24,
    "start_time": "2024-07-17T01:00:29.017Z"
   },
   {
    "duration": 1364,
    "start_time": "2024-07-17T01:02:22.717Z"
   },
   {
    "duration": 765,
    "start_time": "2024-07-17T01:02:24.085Z"
   },
   {
    "duration": 57,
    "start_time": "2024-07-17T01:02:24.853Z"
   },
   {
    "duration": 152,
    "start_time": "2024-07-17T01:02:24.914Z"
   },
   {
    "duration": 41,
    "start_time": "2024-07-17T01:02:25.070Z"
   },
   {
    "duration": 8,
    "start_time": "2024-07-17T01:02:25.114Z"
   },
   {
    "duration": 35,
    "start_time": "2024-07-17T01:02:25.125Z"
   },
   {
    "duration": 29,
    "start_time": "2024-07-17T01:02:25.192Z"
   },
   {
    "duration": 6,
    "start_time": "2024-07-17T01:02:25.224Z"
   },
   {
    "duration": 6,
    "start_time": "2024-07-17T01:02:25.236Z"
   },
   {
    "duration": 153,
    "start_time": "2024-07-17T01:02:25.246Z"
   },
   {
    "duration": 152,
    "start_time": "2024-07-17T01:02:25.402Z"
   },
   {
    "duration": 88,
    "start_time": "2024-07-17T01:02:25.557Z"
   },
   {
    "duration": 231,
    "start_time": "2024-07-17T01:02:25.648Z"
   },
   {
    "duration": 11,
    "start_time": "2024-07-17T01:02:25.882Z"
   },
   {
    "duration": 4,
    "start_time": "2024-07-17T01:02:25.896Z"
   },
   {
    "duration": 168,
    "start_time": "2024-07-17T01:02:25.904Z"
   },
   {
    "duration": 161,
    "start_time": "2024-07-17T01:02:26.075Z"
   },
   {
    "duration": 4,
    "start_time": "2024-07-17T01:02:26.241Z"
   },
   {
    "duration": 163,
    "start_time": "2024-07-17T01:02:26.248Z"
   },
   {
    "duration": 1303,
    "start_time": "2024-07-17T01:02:26.414Z"
   },
   {
    "duration": 51,
    "start_time": "2024-07-17T01:02:27.720Z"
   },
   {
    "duration": 19,
    "start_time": "2024-07-17T01:02:27.774Z"
   },
   {
    "duration": 20,
    "start_time": "2024-07-17T01:02:27.796Z"
   },
   {
    "duration": 24,
    "start_time": "2024-07-17T01:02:27.821Z"
   },
   {
    "duration": 62,
    "start_time": "2024-07-17T01:02:27.848Z"
   },
   {
    "duration": 4,
    "start_time": "2024-07-17T01:02:27.913Z"
   },
   {
    "duration": 8,
    "start_time": "2024-07-17T01:02:27.925Z"
   },
   {
    "duration": 13572,
    "start_time": "2024-07-17T01:02:27.936Z"
   },
   {
    "duration": 4,
    "start_time": "2024-07-17T01:02:41.512Z"
   },
   {
    "duration": 838,
    "start_time": "2024-07-17T01:02:41.519Z"
   },
   {
    "duration": 0,
    "start_time": "2024-07-17T01:02:42.360Z"
   },
   {
    "duration": 134,
    "start_time": "2024-07-17T01:05:47.594Z"
   },
   {
    "duration": 137,
    "start_time": "2024-07-17T01:06:54.546Z"
   },
   {
    "duration": 122,
    "start_time": "2024-07-17T01:07:05.988Z"
   },
   {
    "duration": 127,
    "start_time": "2024-07-17T01:07:37.571Z"
   },
   {
    "duration": 4,
    "start_time": "2024-07-17T01:08:27.441Z"
   },
   {
    "duration": 142,
    "start_time": "2024-07-17T01:08:29.043Z"
   },
   {
    "duration": 12,
    "start_time": "2024-07-17T01:11:06.308Z"
   },
   {
    "duration": 5673,
    "start_time": "2024-07-17T01:11:07.092Z"
   },
   {
    "duration": 1954,
    "start_time": "2024-07-17T01:11:52.460Z"
   },
   {
    "duration": 5485,
    "start_time": "2024-07-17T01:11:54.418Z"
   },
   {
    "duration": 11,
    "start_time": "2024-07-17T01:12:21.934Z"
   },
   {
    "duration": 2044,
    "start_time": "2024-07-17T01:12:28.874Z"
   },
   {
    "duration": 23,
    "start_time": "2024-07-17T01:12:30.921Z"
   },
   {
    "duration": 13,
    "start_time": "2024-07-17T01:12:52.931Z"
   },
   {
    "duration": 1781,
    "start_time": "2024-07-17T01:12:53.550Z"
   },
   {
    "duration": 22,
    "start_time": "2024-07-17T01:12:55.335Z"
   },
   {
    "duration": 1711,
    "start_time": "2024-07-17T01:12:56.309Z"
   },
   {
    "duration": 12,
    "start_time": "2024-07-17T01:13:19.305Z"
   },
   {
    "duration": 1862,
    "start_time": "2024-07-17T01:14:01.699Z"
   },
   {
    "duration": 68,
    "start_time": "2024-07-17T01:14:03.564Z"
   },
   {
    "duration": 1867,
    "start_time": "2024-07-17T01:14:11.731Z"
   },
   {
    "duration": 270,
    "start_time": "2024-07-17T01:14:45.454Z"
   },
   {
    "duration": 267,
    "start_time": "2024-07-17T01:15:10.364Z"
   },
   {
    "duration": 254,
    "start_time": "2024-07-17T01:16:33.746Z"
   },
   {
    "duration": 250,
    "start_time": "2024-07-17T01:17:12.298Z"
   },
   {
    "duration": 49,
    "start_time": "2024-07-17T01:17:13.909Z"
   },
   {
    "duration": 269,
    "start_time": "2024-07-17T01:17:14.284Z"
   },
   {
    "duration": 273,
    "start_time": "2024-07-17T01:17:22.397Z"
   },
   {
    "duration": 243,
    "start_time": "2024-07-17T01:17:40.709Z"
   },
   {
    "duration": 46,
    "start_time": "2024-07-17T01:17:41.501Z"
   },
   {
    "duration": 271,
    "start_time": "2024-07-17T01:17:42.053Z"
   },
   {
    "duration": 4,
    "start_time": "2024-07-17T01:17:49.897Z"
   },
   {
    "duration": 273,
    "start_time": "2024-07-17T01:17:50.660Z"
   },
   {
    "duration": 3,
    "start_time": "2024-07-17T01:18:30.642Z"
   },
   {
    "duration": 261,
    "start_time": "2024-07-17T01:18:31.169Z"
   },
   {
    "duration": 4,
    "start_time": "2024-07-17T01:19:37.221Z"
   },
   {
    "duration": 257,
    "start_time": "2024-07-17T01:19:37.928Z"
   },
   {
    "duration": 379,
    "start_time": "2024-07-17T01:22:43.005Z"
   },
   {
    "duration": 1297,
    "start_time": "2024-07-17T01:23:00.020Z"
   },
   {
    "duration": 348,
    "start_time": "2024-07-17T01:23:01.322Z"
   },
   {
    "duration": 281,
    "start_time": "2024-07-17T01:23:42.282Z"
   },
   {
    "duration": 270,
    "start_time": "2024-07-17T01:25:04.382Z"
   },
   {
    "duration": 3,
    "start_time": "2024-07-17T01:25:06.268Z"
   },
   {
    "duration": 98,
    "start_time": "2024-07-17T01:25:06.846Z"
   },
   {
    "duration": 269,
    "start_time": "2024-07-17T01:26:04.287Z"
   },
   {
    "duration": 3,
    "start_time": "2024-07-17T01:26:06.169Z"
   },
   {
    "duration": 86,
    "start_time": "2024-07-17T01:26:06.881Z"
   },
   {
    "duration": 85,
    "start_time": "2024-07-17T01:26:33.951Z"
   },
   {
    "duration": 26,
    "start_time": "2024-07-17T01:26:38.826Z"
   },
   {
    "duration": 264,
    "start_time": "2024-07-17T01:28:05.138Z"
   },
   {
    "duration": 17,
    "start_time": "2024-07-17T01:28:05.837Z"
   },
   {
    "duration": 3,
    "start_time": "2024-07-17T01:28:07.345Z"
   },
   {
    "duration": 177,
    "start_time": "2024-07-17T01:28:07.948Z"
   },
   {
    "duration": 262,
    "start_time": "2024-07-17T01:28:37.456Z"
   },
   {
    "duration": 4,
    "start_time": "2024-07-17T01:28:37.940Z"
   },
   {
    "duration": 3,
    "start_time": "2024-07-17T01:28:38.999Z"
   },
   {
    "duration": 93,
    "start_time": "2024-07-17T01:28:39.529Z"
   },
   {
    "duration": 81,
    "start_time": "2024-07-17T01:30:29.063Z"
   },
   {
    "duration": 24,
    "start_time": "2024-07-17T01:30:30.518Z"
   },
   {
    "duration": 264,
    "start_time": "2024-07-17T01:31:04.082Z"
   },
   {
    "duration": 80,
    "start_time": "2024-07-17T01:31:05.796Z"
   },
   {
    "duration": 24,
    "start_time": "2024-07-17T01:31:06.871Z"
   },
   {
    "duration": 319,
    "start_time": "2024-07-17T01:31:39.836Z"
   },
   {
    "duration": 325,
    "start_time": "2024-07-17T01:31:50.325Z"
   },
   {
    "duration": 310,
    "start_time": "2024-07-17T01:32:10.916Z"
   },
   {
    "duration": 1311,
    "start_time": "2024-07-17T01:32:32.523Z"
   },
   {
    "duration": 49,
    "start_time": "2024-07-17T01:32:33.996Z"
   },
   {
    "duration": 5,
    "start_time": "2024-07-17T01:32:35.059Z"
   },
   {
    "duration": 18,
    "start_time": "2024-07-17T01:32:35.502Z"
   },
   {
    "duration": 21,
    "start_time": "2024-07-17T01:32:35.970Z"
   },
   {
    "duration": 58,
    "start_time": "2024-07-17T01:32:36.360Z"
   },
   {
    "duration": 21,
    "start_time": "2024-07-17T01:32:36.858Z"
   },
   {
    "duration": 21,
    "start_time": "2024-07-17T01:32:37.279Z"
   },
   {
    "duration": 4,
    "start_time": "2024-07-17T01:32:38.937Z"
   },
   {
    "duration": 6,
    "start_time": "2024-07-17T01:32:39.405Z"
   },
   {
    "duration": 503,
    "start_time": "2024-07-17T01:32:44.769Z"
   },
   {
    "duration": 462,
    "start_time": "2024-07-17T01:33:18.276Z"
   },
   {
    "duration": 466,
    "start_time": "2024-07-17T01:34:00.661Z"
   },
   {
    "duration": 79,
    "start_time": "2024-07-17T01:34:25.729Z"
   },
   {
    "duration": 23,
    "start_time": "2024-07-17T01:34:26.641Z"
   },
   {
    "duration": 86,
    "start_time": "2024-07-17T01:35:04.024Z"
   },
   {
    "duration": 100,
    "start_time": "2024-07-17T01:35:33.205Z"
   },
   {
    "duration": 99,
    "start_time": "2024-07-17T01:35:50.934Z"
   },
   {
    "duration": 478,
    "start_time": "2024-07-17T01:36:22.331Z"
   },
   {
    "duration": 5,
    "start_time": "2024-07-17T01:36:25.390Z"
   },
   {
    "duration": 6,
    "start_time": "2024-07-17T01:36:26.089Z"
   },
   {
    "duration": 96,
    "start_time": "2024-07-17T01:36:33.896Z"
   },
   {
    "duration": 7,
    "start_time": "2024-07-17T01:41:00.244Z"
   },
   {
    "duration": 103,
    "start_time": "2024-07-17T01:41:01.193Z"
   },
   {
    "duration": 27,
    "start_time": "2024-07-17T01:41:28.546Z"
   },
   {
    "duration": 26,
    "start_time": "2024-07-17T01:41:47.445Z"
   },
   {
    "duration": 164,
    "start_time": "2024-07-17T01:44:11.238Z"
   },
   {
    "duration": 265,
    "start_time": "2024-07-17T01:44:12.215Z"
   },
   {
    "duration": 14,
    "start_time": "2024-07-17T01:44:47.824Z"
   },
   {
    "duration": 22,
    "start_time": "2024-07-17T01:44:48.310Z"
   },
   {
    "duration": 1297,
    "start_time": "2024-07-17T01:44:57.046Z"
   },
   {
    "duration": 793,
    "start_time": "2024-07-17T01:44:58.347Z"
   },
   {
    "duration": 56,
    "start_time": "2024-07-17T01:44:59.142Z"
   },
   {
    "duration": 161,
    "start_time": "2024-07-17T01:44:59.202Z"
   },
   {
    "duration": 38,
    "start_time": "2024-07-17T01:44:59.366Z"
   },
   {
    "duration": 5,
    "start_time": "2024-07-17T01:44:59.407Z"
   },
   {
    "duration": 35,
    "start_time": "2024-07-17T01:44:59.416Z"
   },
   {
    "duration": 56,
    "start_time": "2024-07-17T01:44:59.454Z"
   },
   {
    "duration": 6,
    "start_time": "2024-07-17T01:44:59.512Z"
   },
   {
    "duration": 6,
    "start_time": "2024-07-17T01:44:59.524Z"
   },
   {
    "duration": 156,
    "start_time": "2024-07-17T01:44:59.534Z"
   },
   {
    "duration": 145,
    "start_time": "2024-07-17T01:44:59.693Z"
   },
   {
    "duration": 78,
    "start_time": "2024-07-17T01:44:59.841Z"
   },
   {
    "duration": 179,
    "start_time": "2024-07-17T01:44:59.922Z"
   },
   {
    "duration": 8,
    "start_time": "2024-07-17T01:45:00.104Z"
   },
   {
    "duration": 4,
    "start_time": "2024-07-17T01:45:00.115Z"
   },
   {
    "duration": 174,
    "start_time": "2024-07-17T01:45:00.123Z"
   },
   {
    "duration": 144,
    "start_time": "2024-07-17T01:45:00.300Z"
   },
   {
    "duration": 5,
    "start_time": "2024-07-17T01:45:00.447Z"
   },
   {
    "duration": 164,
    "start_time": "2024-07-17T01:45:00.456Z"
   },
   {
    "duration": 1267,
    "start_time": "2024-07-17T01:45:00.623Z"
   },
   {
    "duration": 52,
    "start_time": "2024-07-17T01:45:01.894Z"
   },
   {
    "duration": 7,
    "start_time": "2024-07-17T01:45:01.949Z"
   },
   {
    "duration": 50,
    "start_time": "2024-07-17T01:45:01.959Z"
   },
   {
    "duration": 22,
    "start_time": "2024-07-17T01:45:02.012Z"
   },
   {
    "duration": 99,
    "start_time": "2024-07-17T01:45:02.037Z"
   },
   {
    "duration": 23,
    "start_time": "2024-07-17T01:45:02.140Z"
   },
   {
    "duration": 39,
    "start_time": "2024-07-17T01:45:02.169Z"
   },
   {
    "duration": 5,
    "start_time": "2024-07-17T01:45:02.212Z"
   },
   {
    "duration": 7,
    "start_time": "2024-07-17T01:45:02.221Z"
   },
   {
    "duration": 13835,
    "start_time": "2024-07-17T01:45:02.232Z"
   },
   {
    "duration": 843,
    "start_time": "2024-07-17T01:45:16.070Z"
   },
   {
    "duration": 0,
    "start_time": "2024-07-17T01:45:16.917Z"
   },
   {
    "duration": 0,
    "start_time": "2024-07-17T01:45:16.920Z"
   },
   {
    "duration": 0,
    "start_time": "2024-07-17T01:45:16.922Z"
   },
   {
    "duration": 5,
    "start_time": "2024-07-17T01:46:53.533Z"
   },
   {
    "duration": 6,
    "start_time": "2024-07-17T01:47:18.191Z"
   },
   {
    "duration": 442,
    "start_time": "2024-07-17T01:47:42.047Z"
   },
   {
    "duration": 27,
    "start_time": "2024-07-17T01:48:13.411Z"
   },
   {
    "duration": 712,
    "start_time": "2024-07-17T01:48:39.383Z"
   },
   {
    "duration": 468,
    "start_time": "2024-07-17T01:49:03.401Z"
   },
   {
    "duration": 485,
    "start_time": "2024-07-17T01:50:38.401Z"
   },
   {
    "duration": 516,
    "start_time": "2024-07-17T01:50:50.963Z"
   },
   {
    "duration": 36,
    "start_time": "2024-07-17T01:51:53.649Z"
   },
   {
    "duration": 430,
    "start_time": "2024-07-17T01:53:06.173Z"
   },
   {
    "duration": 470,
    "start_time": "2024-07-17T01:53:15.414Z"
   },
   {
    "duration": 584,
    "start_time": "2024-07-17T01:54:07.786Z"
   },
   {
    "duration": 512,
    "start_time": "2024-07-17T01:54:22.439Z"
   },
   {
    "duration": 6,
    "start_time": "2024-07-17T01:56:36.214Z"
   },
   {
    "duration": 1307,
    "start_time": "2024-07-17T02:00:52.573Z"
   },
   {
    "duration": 1314,
    "start_time": "2024-07-17T02:01:11.129Z"
   },
   {
    "duration": 771,
    "start_time": "2024-07-17T02:01:12.447Z"
   },
   {
    "duration": 47,
    "start_time": "2024-07-17T02:01:13.221Z"
   },
   {
    "duration": 172,
    "start_time": "2024-07-17T02:01:13.271Z"
   },
   {
    "duration": 43,
    "start_time": "2024-07-17T02:01:13.449Z"
   },
   {
    "duration": 5,
    "start_time": "2024-07-17T02:01:13.495Z"
   },
   {
    "duration": 32,
    "start_time": "2024-07-17T02:01:13.504Z"
   },
   {
    "duration": 59,
    "start_time": "2024-07-17T02:01:13.539Z"
   },
   {
    "duration": 7,
    "start_time": "2024-07-17T02:01:13.601Z"
   },
   {
    "duration": 7,
    "start_time": "2024-07-17T02:01:13.610Z"
   },
   {
    "duration": 147,
    "start_time": "2024-07-17T02:01:13.620Z"
   },
   {
    "duration": 144,
    "start_time": "2024-07-17T02:01:13.770Z"
   },
   {
    "duration": 77,
    "start_time": "2024-07-17T02:01:13.917Z"
   },
   {
    "duration": 167,
    "start_time": "2024-07-17T02:01:14.000Z"
   },
   {
    "duration": 6,
    "start_time": "2024-07-17T02:01:14.170Z"
   },
   {
    "duration": 3,
    "start_time": "2024-07-17T02:01:14.191Z"
   },
   {
    "duration": 156,
    "start_time": "2024-07-17T02:01:14.198Z"
   },
   {
    "duration": 1300,
    "start_time": "2024-07-17T02:01:14.357Z"
   },
   {
    "duration": 167,
    "start_time": "2024-07-17T02:01:15.660Z"
   },
   {
    "duration": 1272,
    "start_time": "2024-07-17T02:01:15.830Z"
   },
   {
    "duration": 49,
    "start_time": "2024-07-17T02:01:17.105Z"
   },
   {
    "duration": 6,
    "start_time": "2024-07-17T02:01:17.157Z"
   },
   {
    "duration": 41,
    "start_time": "2024-07-17T02:01:17.165Z"
   },
   {
    "duration": 22,
    "start_time": "2024-07-17T02:01:17.209Z"
   },
   {
    "duration": 90,
    "start_time": "2024-07-17T02:01:17.233Z"
   },
   {
    "duration": 22,
    "start_time": "2024-07-17T02:01:17.326Z"
   },
   {
    "duration": 50,
    "start_time": "2024-07-17T02:01:17.352Z"
   },
   {
    "duration": 5,
    "start_time": "2024-07-17T02:01:17.404Z"
   },
   {
    "duration": 6,
    "start_time": "2024-07-17T02:01:17.411Z"
   },
   {
    "duration": 13857,
    "start_time": "2024-07-17T02:01:17.421Z"
   },
   {
    "duration": 5,
    "start_time": "2024-07-17T02:01:31.290Z"
   },
   {
    "duration": 1360,
    "start_time": "2024-07-17T02:02:01.925Z"
   },
   {
    "duration": 802,
    "start_time": "2024-07-17T02:02:03.292Z"
   },
   {
    "duration": 42,
    "start_time": "2024-07-17T02:02:04.096Z"
   },
   {
    "duration": 170,
    "start_time": "2024-07-17T02:02:04.141Z"
   },
   {
    "duration": 26,
    "start_time": "2024-07-17T02:02:04.315Z"
   },
   {
    "duration": 5,
    "start_time": "2024-07-17T02:02:04.344Z"
   },
   {
    "duration": 63,
    "start_time": "2024-07-17T02:02:04.353Z"
   },
   {
    "duration": 27,
    "start_time": "2024-07-17T02:02:04.419Z"
   },
   {
    "duration": 6,
    "start_time": "2024-07-17T02:02:04.448Z"
   },
   {
    "duration": 35,
    "start_time": "2024-07-17T02:02:04.458Z"
   },
   {
    "duration": 132,
    "start_time": "2024-07-17T02:02:04.496Z"
   },
   {
    "duration": 170,
    "start_time": "2024-07-17T02:02:04.631Z"
   },
   {
    "duration": 93,
    "start_time": "2024-07-17T02:02:04.805Z"
   },
   {
    "duration": 200,
    "start_time": "2024-07-17T02:02:04.907Z"
   },
   {
    "duration": 5,
    "start_time": "2024-07-17T02:02:05.110Z"
   },
   {
    "duration": 3,
    "start_time": "2024-07-17T02:02:05.118Z"
   },
   {
    "duration": 159,
    "start_time": "2024-07-17T02:02:05.124Z"
   },
   {
    "duration": 1300,
    "start_time": "2024-07-17T02:02:05.290Z"
   },
   {
    "duration": 157,
    "start_time": "2024-07-17T02:02:06.593Z"
   },
   {
    "duration": 1278,
    "start_time": "2024-07-17T02:02:06.753Z"
   },
   {
    "duration": 64,
    "start_time": "2024-07-17T02:02:08.033Z"
   },
   {
    "duration": 6,
    "start_time": "2024-07-17T02:02:08.100Z"
   },
   {
    "duration": 20,
    "start_time": "2024-07-17T02:02:08.110Z"
   },
   {
    "duration": 59,
    "start_time": "2024-07-17T02:02:08.134Z"
   },
   {
    "duration": 62,
    "start_time": "2024-07-17T02:02:08.196Z"
   },
   {
    "duration": 42,
    "start_time": "2024-07-17T02:02:08.261Z"
   },
   {
    "duration": 22,
    "start_time": "2024-07-17T02:02:08.306Z"
   },
   {
    "duration": 4,
    "start_time": "2024-07-17T02:02:08.331Z"
   },
   {
    "duration": 7,
    "start_time": "2024-07-17T02:02:08.339Z"
   },
   {
    "duration": 13897,
    "start_time": "2024-07-17T02:02:08.349Z"
   },
   {
    "duration": 6,
    "start_time": "2024-07-17T02:02:22.249Z"
   },
   {
    "duration": 315,
    "start_time": "2024-07-17T02:04:58.707Z"
   },
   {
    "duration": 116,
    "start_time": "2024-07-17T02:05:04.051Z"
   },
   {
    "duration": 1292,
    "start_time": "2024-07-17T02:05:24.248Z"
   },
   {
    "duration": 1294,
    "start_time": "2024-07-17T02:05:40.866Z"
   },
   {
    "duration": 839,
    "start_time": "2024-07-17T02:05:42.164Z"
   },
   {
    "duration": 41,
    "start_time": "2024-07-17T02:05:43.006Z"
   },
   {
    "duration": 168,
    "start_time": "2024-07-17T02:05:43.050Z"
   },
   {
    "duration": 24,
    "start_time": "2024-07-17T02:05:43.224Z"
   },
   {
    "duration": 5,
    "start_time": "2024-07-17T02:05:43.252Z"
   },
   {
    "duration": 66,
    "start_time": "2024-07-17T02:05:43.260Z"
   },
   {
    "duration": 29,
    "start_time": "2024-07-17T02:05:43.329Z"
   },
   {
    "duration": 32,
    "start_time": "2024-07-17T02:05:43.361Z"
   },
   {
    "duration": 7,
    "start_time": "2024-07-17T02:05:43.396Z"
   },
   {
    "duration": 139,
    "start_time": "2024-07-17T02:05:43.407Z"
   },
   {
    "duration": 155,
    "start_time": "2024-07-17T02:05:43.549Z"
   },
   {
    "duration": 64,
    "start_time": "2024-07-17T02:05:43.708Z"
   },
   {
    "duration": 183,
    "start_time": "2024-07-17T02:05:43.792Z"
   },
   {
    "duration": 14,
    "start_time": "2024-07-17T02:05:43.977Z"
   },
   {
    "duration": 3,
    "start_time": "2024-07-17T02:05:43.995Z"
   },
   {
    "duration": 156,
    "start_time": "2024-07-17T02:05:44.002Z"
   },
   {
    "duration": 1301,
    "start_time": "2024-07-17T02:05:44.162Z"
   },
   {
    "duration": 156,
    "start_time": "2024-07-17T02:05:45.466Z"
   },
   {
    "duration": 1249,
    "start_time": "2024-07-17T02:05:45.626Z"
   },
   {
    "duration": 59,
    "start_time": "2024-07-17T02:05:46.878Z"
   },
   {
    "duration": 6,
    "start_time": "2024-07-17T02:05:46.940Z"
   },
   {
    "duration": 43,
    "start_time": "2024-07-17T02:05:46.949Z"
   },
   {
    "duration": 21,
    "start_time": "2024-07-17T02:05:46.995Z"
   },
   {
    "duration": 83,
    "start_time": "2024-07-17T02:05:47.019Z"
   },
   {
    "duration": 23,
    "start_time": "2024-07-17T02:05:47.105Z"
   },
   {
    "duration": 24,
    "start_time": "2024-07-17T02:05:47.145Z"
   },
   {
    "duration": 5,
    "start_time": "2024-07-17T02:05:47.191Z"
   },
   {
    "duration": 5,
    "start_time": "2024-07-17T02:05:47.199Z"
   },
   {
    "duration": 13685,
    "start_time": "2024-07-17T02:05:47.207Z"
   },
   {
    "duration": 5,
    "start_time": "2024-07-17T02:06:00.895Z"
   },
   {
    "duration": 4,
    "start_time": "2024-07-17T02:08:34.889Z"
   },
   {
    "duration": 3,
    "start_time": "2024-07-17T02:08:55.108Z"
   },
   {
    "duration": 1349,
    "start_time": "2024-07-17T02:09:02.645Z"
   },
   {
    "duration": 873,
    "start_time": "2024-07-17T02:09:03.999Z"
   },
   {
    "duration": 52,
    "start_time": "2024-07-17T02:09:04.879Z"
   },
   {
    "duration": 234,
    "start_time": "2024-07-17T02:09:04.934Z"
   },
   {
    "duration": 33,
    "start_time": "2024-07-17T02:09:05.173Z"
   },
   {
    "duration": 5,
    "start_time": "2024-07-17T02:09:05.208Z"
   },
   {
    "duration": 35,
    "start_time": "2024-07-17T02:09:05.217Z"
   },
   {
    "duration": 60,
    "start_time": "2024-07-17T02:09:05.256Z"
   },
   {
    "duration": 9,
    "start_time": "2024-07-17T02:09:05.319Z"
   },
   {
    "duration": 6,
    "start_time": "2024-07-17T02:09:05.331Z"
   },
   {
    "duration": 154,
    "start_time": "2024-07-17T02:09:05.341Z"
   },
   {
    "duration": 144,
    "start_time": "2024-07-17T02:09:05.498Z"
   },
   {
    "duration": 79,
    "start_time": "2024-07-17T02:09:05.647Z"
   },
   {
    "duration": 182,
    "start_time": "2024-07-17T02:09:05.732Z"
   },
   {
    "duration": 6,
    "start_time": "2024-07-17T02:09:05.917Z"
   },
   {
    "duration": 3,
    "start_time": "2024-07-17T02:09:05.927Z"
   },
   {
    "duration": 5,
    "start_time": "2024-07-17T02:09:05.933Z"
   },
   {
    "duration": 9,
    "start_time": "2024-07-17T02:09:05.941Z"
   },
   {
    "duration": 161,
    "start_time": "2024-07-17T02:09:05.990Z"
   },
   {
    "duration": 1261,
    "start_time": "2024-07-17T02:09:06.154Z"
   },
   {
    "duration": 437,
    "start_time": "2024-07-17T02:09:07.418Z"
   },
   {
    "duration": 0,
    "start_time": "2024-07-17T02:09:07.859Z"
   },
   {
    "duration": 0,
    "start_time": "2024-07-17T02:09:07.862Z"
   },
   {
    "duration": 0,
    "start_time": "2024-07-17T02:09:07.865Z"
   },
   {
    "duration": 0,
    "start_time": "2024-07-17T02:09:07.868Z"
   },
   {
    "duration": 0,
    "start_time": "2024-07-17T02:09:07.891Z"
   },
   {
    "duration": 0,
    "start_time": "2024-07-17T02:09:07.893Z"
   },
   {
    "duration": 0,
    "start_time": "2024-07-17T02:09:07.895Z"
   },
   {
    "duration": 0,
    "start_time": "2024-07-17T02:09:07.897Z"
   },
   {
    "duration": 0,
    "start_time": "2024-07-17T02:09:07.899Z"
   },
   {
    "duration": 0,
    "start_time": "2024-07-17T02:09:07.901Z"
   },
   {
    "duration": 0,
    "start_time": "2024-07-17T02:09:07.903Z"
   },
   {
    "duration": 0,
    "start_time": "2024-07-17T02:09:07.904Z"
   },
   {
    "duration": 7,
    "start_time": "2024-07-17T02:09:19.221Z"
   },
   {
    "duration": 25,
    "start_time": "2024-07-17T02:09:20.088Z"
   },
   {
    "duration": 28,
    "start_time": "2024-07-17T02:09:21.773Z"
   },
   {
    "duration": 5,
    "start_time": "2024-07-17T02:10:08.739Z"
   },
   {
    "duration": 24,
    "start_time": "2024-07-17T02:10:09.645Z"
   },
   {
    "duration": 239,
    "start_time": "2024-07-17T02:11:36.570Z"
   },
   {
    "duration": 1389,
    "start_time": "2024-07-17T02:12:14.627Z"
   },
   {
    "duration": 24,
    "start_time": "2024-07-17T02:12:16.982Z"
   },
   {
    "duration": 5,
    "start_time": "2024-07-17T02:12:27.139Z"
   },
   {
    "duration": 16,
    "start_time": "2024-07-17T02:12:27.967Z"
   },
   {
    "duration": 19,
    "start_time": "2024-07-17T02:12:36.912Z"
   },
   {
    "duration": 23,
    "start_time": "2024-07-17T02:12:37.785Z"
   },
   {
    "duration": 20,
    "start_time": "2024-07-17T02:12:38.611Z"
   },
   {
    "duration": 20,
    "start_time": "2024-07-17T02:12:39.223Z"
   },
   {
    "duration": 357,
    "start_time": "2024-07-17T02:12:51.739Z"
   },
   {
    "duration": 586,
    "start_time": "2024-07-17T02:13:17.255Z"
   },
   {
    "duration": 61,
    "start_time": "2024-07-17T02:13:52.287Z"
   },
   {
    "duration": 88,
    "start_time": "2024-07-17T02:13:57.857Z"
   },
   {
    "duration": 557,
    "start_time": "2024-07-17T02:14:20.323Z"
   },
   {
    "duration": 25,
    "start_time": "2024-07-17T02:14:40.298Z"
   },
   {
    "duration": 82,
    "start_time": "2024-07-17T02:14:49.971Z"
   },
   {
    "duration": 80,
    "start_time": "2024-07-17T02:15:06.575Z"
   },
   {
    "duration": 24,
    "start_time": "2024-07-17T02:15:18.289Z"
   },
   {
    "duration": 64,
    "start_time": "2024-07-17T02:15:27.339Z"
   },
   {
    "duration": 6,
    "start_time": "2024-07-17T02:34:24.466Z"
   },
   {
    "duration": 675,
    "start_time": "2024-07-17T02:34:25.166Z"
   },
   {
    "duration": 39,
    "start_time": "2024-07-17T02:34:26.905Z"
   },
   {
    "duration": 142,
    "start_time": "2024-07-17T02:34:27.765Z"
   },
   {
    "duration": 19,
    "start_time": "2024-07-17T02:34:28.373Z"
   },
   {
    "duration": 4,
    "start_time": "2024-07-17T02:34:29.974Z"
   },
   {
    "duration": 31,
    "start_time": "2024-07-17T02:34:38.718Z"
   },
   {
    "duration": 29,
    "start_time": "2024-07-17T02:34:39.477Z"
   },
   {
    "duration": 6,
    "start_time": "2024-07-17T02:34:40.069Z"
   },
   {
    "duration": 4,
    "start_time": "2024-07-17T02:35:06.482Z"
   },
   {
    "duration": 8,
    "start_time": "2024-07-17T02:36:11.631Z"
   },
   {
    "duration": 36,
    "start_time": "2024-07-17T02:36:40.211Z"
   },
   {
    "duration": 67,
    "start_time": "2024-07-17T02:36:59.698Z"
   },
   {
    "duration": 4,
    "start_time": "2024-07-17T02:37:39.942Z"
   },
   {
    "duration": 84,
    "start_time": "2024-07-17T02:37:41.849Z"
   },
   {
    "duration": 194,
    "start_time": "2024-07-17T02:37:42.700Z"
   },
   {
    "duration": 25,
    "start_time": "2024-07-17T02:40:26.747Z"
   },
   {
    "duration": 23,
    "start_time": "2024-07-17T02:40:46.686Z"
   },
   {
    "duration": 88,
    "start_time": "2024-07-17T02:41:22.107Z"
   },
   {
    "duration": 63,
    "start_time": "2024-07-17T02:41:52.377Z"
   },
   {
    "duration": 13,
    "start_time": "2024-07-17T02:41:59.622Z"
   },
   {
    "duration": 378,
    "start_time": "2024-07-17T02:42:21.686Z"
   },
   {
    "duration": 86,
    "start_time": "2024-07-17T02:42:36.299Z"
   },
   {
    "duration": 233,
    "start_time": "2024-07-17T02:43:20.162Z"
   },
   {
    "duration": 88,
    "start_time": "2024-07-17T02:43:39.602Z"
   },
   {
    "duration": 87,
    "start_time": "2024-07-17T02:44:31.803Z"
   },
   {
    "duration": 137,
    "start_time": "2024-07-17T02:45:32.433Z"
   },
   {
    "duration": 232,
    "start_time": "2024-07-17T02:45:51.956Z"
   },
   {
    "duration": 124,
    "start_time": "2024-07-17T02:46:19.147Z"
   },
   {
    "duration": 226,
    "start_time": "2024-07-17T02:46:25.766Z"
   },
   {
    "duration": 66,
    "start_time": "2024-07-17T02:47:05.938Z"
   },
   {
    "duration": 96,
    "start_time": "2024-07-17T02:48:07.396Z"
   },
   {
    "duration": 4,
    "start_time": "2024-07-17T02:50:31.787Z"
   },
   {
    "duration": 187,
    "start_time": "2024-07-17T02:50:32.576Z"
   },
   {
    "duration": 74,
    "start_time": "2024-07-17T02:50:33.316Z"
   },
   {
    "duration": 24,
    "start_time": "2024-07-17T02:50:37.498Z"
   },
   {
    "duration": 71,
    "start_time": "2024-07-17T02:50:43.659Z"
   },
   {
    "duration": 25,
    "start_time": "2024-07-17T02:50:44.966Z"
   },
   {
    "duration": 69,
    "start_time": "2024-07-17T02:50:53.854Z"
   },
   {
    "duration": 66,
    "start_time": "2024-07-17T02:51:03.977Z"
   },
   {
    "duration": 24,
    "start_time": "2024-07-17T02:51:06.241Z"
   },
   {
    "duration": 27,
    "start_time": "2024-07-17T02:51:53.297Z"
   },
   {
    "duration": 72,
    "start_time": "2024-07-17T02:52:44.260Z"
   },
   {
    "duration": 24,
    "start_time": "2024-07-17T02:52:45.278Z"
   },
   {
    "duration": 60,
    "start_time": "2024-07-17T02:52:57.047Z"
   },
   {
    "duration": 6,
    "start_time": "2024-07-17T02:52:58.219Z"
   },
   {
    "duration": 71,
    "start_time": "2024-07-17T02:54:18.536Z"
   },
   {
    "duration": 12,
    "start_time": "2024-07-17T02:54:22.027Z"
   },
   {
    "duration": 91,
    "start_time": "2024-07-17T02:55:45.177Z"
   },
   {
    "duration": 4,
    "start_time": "2024-07-17T02:56:01.068Z"
   },
   {
    "duration": 14027,
    "start_time": "2024-07-17T02:56:01.938Z"
   },
   {
    "duration": 76,
    "start_time": "2024-07-17T02:57:27.015Z"
   },
   {
    "duration": 1301,
    "start_time": "2024-07-17T03:03:16.558Z"
   },
   {
    "duration": 728,
    "start_time": "2024-07-17T03:03:17.862Z"
   },
   {
    "duration": 41,
    "start_time": "2024-07-17T03:03:18.593Z"
   },
   {
    "duration": 169,
    "start_time": "2024-07-17T03:03:18.637Z"
   },
   {
    "duration": 25,
    "start_time": "2024-07-17T03:03:18.811Z"
   },
   {
    "duration": 5,
    "start_time": "2024-07-17T03:03:18.839Z"
   },
   {
    "duration": 64,
    "start_time": "2024-07-17T03:03:18.848Z"
   },
   {
    "duration": 28,
    "start_time": "2024-07-17T03:03:18.915Z"
   },
   {
    "duration": 6,
    "start_time": "2024-07-17T03:03:18.945Z"
   },
   {
    "duration": 38,
    "start_time": "2024-07-17T03:03:18.955Z"
   },
   {
    "duration": 130,
    "start_time": "2024-07-17T03:03:18.997Z"
   },
   {
    "duration": 144,
    "start_time": "2024-07-17T03:03:19.131Z"
   },
   {
    "duration": 77,
    "start_time": "2024-07-17T03:03:19.278Z"
   },
   {
    "duration": 194,
    "start_time": "2024-07-17T03:03:19.361Z"
   },
   {
    "duration": 6,
    "start_time": "2024-07-17T03:03:19.559Z"
   },
   {
    "duration": 22,
    "start_time": "2024-07-17T03:03:19.568Z"
   },
   {
    "duration": 4,
    "start_time": "2024-07-17T03:03:19.594Z"
   },
   {
    "duration": 5,
    "start_time": "2024-07-17T03:03:19.602Z"
   },
   {
    "duration": 185,
    "start_time": "2024-07-17T03:03:19.611Z"
   },
   {
    "duration": 1287,
    "start_time": "2024-07-17T03:03:19.799Z"
   },
   {
    "duration": 4,
    "start_time": "2024-07-17T03:03:21.091Z"
   },
   {
    "duration": 7,
    "start_time": "2024-07-17T03:03:21.099Z"
   },
   {
    "duration": 18,
    "start_time": "2024-07-17T03:03:21.109Z"
   },
   {
    "duration": 20,
    "start_time": "2024-07-17T03:03:21.131Z"
   },
   {
    "duration": 22,
    "start_time": "2024-07-17T03:03:21.192Z"
   },
   {
    "duration": 20,
    "start_time": "2024-07-17T03:03:21.217Z"
   },
   {
    "duration": 55,
    "start_time": "2024-07-17T03:03:21.240Z"
   },
   {
    "duration": 8,
    "start_time": "2024-07-17T03:03:21.299Z"
   },
   {
    "duration": 5,
    "start_time": "2024-07-17T03:03:21.310Z"
   },
   {
    "duration": 13764,
    "start_time": "2024-07-17T03:03:21.318Z"
   },
   {
    "duration": 4,
    "start_time": "2024-07-17T03:03:35.090Z"
   },
   {
    "duration": 101,
    "start_time": "2024-07-17T03:03:35.098Z"
   },
   {
    "duration": 1323,
    "start_time": "2024-07-17T03:04:07.817Z"
   },
   {
    "duration": 738,
    "start_time": "2024-07-17T03:04:09.144Z"
   },
   {
    "duration": 43,
    "start_time": "2024-07-17T03:04:09.886Z"
   },
   {
    "duration": 167,
    "start_time": "2024-07-17T03:04:09.932Z"
   },
   {
    "duration": 25,
    "start_time": "2024-07-17T03:04:10.103Z"
   },
   {
    "duration": 5,
    "start_time": "2024-07-17T03:04:10.131Z"
   },
   {
    "duration": 65,
    "start_time": "2024-07-17T03:04:10.140Z"
   },
   {
    "duration": 28,
    "start_time": "2024-07-17T03:04:10.208Z"
   },
   {
    "duration": 7,
    "start_time": "2024-07-17T03:04:10.238Z"
   },
   {
    "duration": 42,
    "start_time": "2024-07-17T03:04:10.248Z"
   },
   {
    "duration": 131,
    "start_time": "2024-07-17T03:04:10.294Z"
   },
   {
    "duration": 143,
    "start_time": "2024-07-17T03:04:10.428Z"
   },
   {
    "duration": 71,
    "start_time": "2024-07-17T03:04:10.575Z"
   },
   {
    "duration": 209,
    "start_time": "2024-07-17T03:04:10.654Z"
   },
   {
    "duration": 5,
    "start_time": "2024-07-17T03:04:10.866Z"
   },
   {
    "duration": 3,
    "start_time": "2024-07-17T03:04:10.890Z"
   },
   {
    "duration": 5,
    "start_time": "2024-07-17T03:04:10.897Z"
   },
   {
    "duration": 5,
    "start_time": "2024-07-17T03:04:10.906Z"
   },
   {
    "duration": 184,
    "start_time": "2024-07-17T03:04:10.914Z"
   },
   {
    "duration": 1281,
    "start_time": "2024-07-17T03:04:11.101Z"
   },
   {
    "duration": 7,
    "start_time": "2024-07-17T03:04:12.384Z"
   },
   {
    "duration": 7,
    "start_time": "2024-07-17T03:04:12.394Z"
   },
   {
    "duration": 15,
    "start_time": "2024-07-17T03:04:12.404Z"
   },
   {
    "duration": 20,
    "start_time": "2024-07-17T03:04:12.423Z"
   },
   {
    "duration": 28,
    "start_time": "2024-07-17T03:04:12.490Z"
   },
   {
    "duration": 23,
    "start_time": "2024-07-17T03:04:12.522Z"
   },
   {
    "duration": 56,
    "start_time": "2024-07-17T03:04:12.548Z"
   },
   {
    "duration": 6,
    "start_time": "2024-07-17T03:04:12.607Z"
   },
   {
    "duration": 4,
    "start_time": "2024-07-17T03:04:12.616Z"
   },
   {
    "duration": 13846,
    "start_time": "2024-07-17T03:04:12.624Z"
   },
   {
    "duration": 3,
    "start_time": "2024-07-17T03:04:26.473Z"
   },
   {
    "duration": 102,
    "start_time": "2024-07-17T03:04:26.491Z"
   },
   {
    "duration": 6,
    "start_time": "2024-07-17T03:04:28.134Z"
   },
   {
    "duration": 707,
    "start_time": "2024-07-17T03:04:28.867Z"
   },
   {
    "duration": 37,
    "start_time": "2024-07-17T03:04:29.712Z"
   },
   {
    "duration": 152,
    "start_time": "2024-07-17T03:04:30.154Z"
   },
   {
    "duration": 19,
    "start_time": "2024-07-17T03:04:30.654Z"
   },
   {
    "duration": 4,
    "start_time": "2024-07-17T03:04:31.561Z"
   },
   {
    "duration": 34,
    "start_time": "2024-07-17T03:04:32.720Z"
   },
   {
    "duration": 28,
    "start_time": "2024-07-17T03:04:33.160Z"
   },
   {
    "duration": 6,
    "start_time": "2024-07-17T03:04:33.624Z"
   },
   {
    "duration": 5,
    "start_time": "2024-07-17T03:04:34.047Z"
   },
   {
    "duration": 120,
    "start_time": "2024-07-17T03:04:34.458Z"
   },
   {
    "duration": 130,
    "start_time": "2024-07-17T03:04:34.861Z"
   },
   {
    "duration": 57,
    "start_time": "2024-07-17T03:04:35.326Z"
   },
   {
    "duration": 200,
    "start_time": "2024-07-17T03:04:36.660Z"
   },
   {
    "duration": 6,
    "start_time": "2024-07-17T03:04:37.185Z"
   },
   {
    "duration": 3,
    "start_time": "2024-07-17T03:04:37.535Z"
   },
   {
    "duration": 4,
    "start_time": "2024-07-17T03:04:38.188Z"
   },
   {
    "duration": 4,
    "start_time": "2024-07-17T03:04:39.508Z"
   },
   {
    "duration": 136,
    "start_time": "2024-07-17T03:04:39.978Z"
   },
   {
    "duration": 1256,
    "start_time": "2024-07-17T03:04:40.485Z"
   },
   {
    "duration": 3,
    "start_time": "2024-07-17T03:04:41.745Z"
   },
   {
    "duration": 6,
    "start_time": "2024-07-17T03:04:41.795Z"
   },
   {
    "duration": 15,
    "start_time": "2024-07-17T03:04:42.560Z"
   },
   {
    "duration": 19,
    "start_time": "2024-07-17T03:04:43.327Z"
   },
   {
    "duration": 23,
    "start_time": "2024-07-17T03:04:43.803Z"
   },
   {
    "duration": 20,
    "start_time": "2024-07-17T03:04:44.275Z"
   },
   {
    "duration": 18,
    "start_time": "2024-07-17T03:04:44.751Z"
   },
   {
    "duration": 6,
    "start_time": "2024-07-17T03:04:46.594Z"
   },
   {
    "duration": 4,
    "start_time": "2024-07-17T03:04:47.103Z"
   },
   {
    "duration": 75,
    "start_time": "2024-07-17T03:04:53.350Z"
   },
   {
    "duration": 4,
    "start_time": "2024-07-18T20:08:18.728Z"
   },
   {
    "duration": 985,
    "start_time": "2024-07-18T20:08:19.016Z"
   },
   {
    "duration": 4,
    "start_time": "2024-07-18T20:08:28.659Z"
   },
   {
    "duration": 1394,
    "start_time": "2024-07-18T20:09:34.324Z"
   },
   {
    "duration": 837,
    "start_time": "2024-07-18T20:09:35.722Z"
   },
   {
    "duration": 40,
    "start_time": "2024-07-18T20:09:36.563Z"
   },
   {
    "duration": 163,
    "start_time": "2024-07-18T20:09:36.607Z"
   },
   {
    "duration": 24,
    "start_time": "2024-07-18T20:09:36.773Z"
   },
   {
    "duration": 29,
    "start_time": "2024-07-18T20:09:36.801Z"
   },
   {
    "duration": 36,
    "start_time": "2024-07-18T20:09:36.833Z"
   },
   {
    "duration": 27,
    "start_time": "2024-07-18T20:09:36.872Z"
   },
   {
    "duration": 6,
    "start_time": "2024-07-18T20:09:36.930Z"
   },
   {
    "duration": 5,
    "start_time": "2024-07-18T20:09:36.942Z"
   },
   {
    "duration": 143,
    "start_time": "2024-07-18T20:09:36.950Z"
   },
   {
    "duration": 145,
    "start_time": "2024-07-18T20:09:37.096Z"
   },
   {
    "duration": 88,
    "start_time": "2024-07-18T20:09:37.244Z"
   },
   {
    "duration": 192,
    "start_time": "2024-07-18T20:09:37.336Z"
   },
   {
    "duration": 6,
    "start_time": "2024-07-18T20:09:37.531Z"
   },
   {
    "duration": 3,
    "start_time": "2024-07-18T20:09:37.540Z"
   },
   {
    "duration": 4,
    "start_time": "2024-07-18T20:09:37.547Z"
   },
   {
    "duration": 4,
    "start_time": "2024-07-18T20:09:37.554Z"
   },
   {
    "duration": 199,
    "start_time": "2024-07-18T20:09:37.561Z"
   },
   {
    "duration": 1270,
    "start_time": "2024-07-18T20:09:37.763Z"
   },
   {
    "duration": 3,
    "start_time": "2024-07-18T20:09:39.036Z"
   },
   {
    "duration": 6,
    "start_time": "2024-07-18T20:09:39.043Z"
   },
   {
    "duration": 17,
    "start_time": "2024-07-18T20:09:39.052Z"
   },
   {
    "duration": 64,
    "start_time": "2024-07-18T20:09:39.073Z"
   },
   {
    "duration": 24,
    "start_time": "2024-07-18T20:09:39.140Z"
   },
   {
    "duration": 19,
    "start_time": "2024-07-18T20:09:39.169Z"
   },
   {
    "duration": 45,
    "start_time": "2024-07-18T20:09:39.191Z"
   },
   {
    "duration": 6,
    "start_time": "2024-07-18T20:09:39.243Z"
   },
   {
    "duration": 4,
    "start_time": "2024-07-18T20:09:39.252Z"
   },
   {
    "duration": 13901,
    "start_time": "2024-07-18T20:09:39.260Z"
   },
   {
    "duration": 102,
    "start_time": "2024-07-18T20:09:53.164Z"
   },
   {
    "duration": 64,
    "start_time": "2024-07-18T20:09:53.268Z"
   },
   {
    "duration": 1312,
    "start_time": "2024-07-18T20:10:38.740Z"
   },
   {
    "duration": 732,
    "start_time": "2024-07-18T20:10:40.057Z"
   },
   {
    "duration": 57,
    "start_time": "2024-07-18T20:10:40.792Z"
   },
   {
    "duration": 158,
    "start_time": "2024-07-18T20:10:40.854Z"
   },
   {
    "duration": 34,
    "start_time": "2024-07-18T20:10:41.015Z"
   },
   {
    "duration": 4,
    "start_time": "2024-07-18T20:10:41.052Z"
   },
   {
    "duration": 33,
    "start_time": "2024-07-18T20:10:41.060Z"
   },
   {
    "duration": 60,
    "start_time": "2024-07-18T20:10:41.095Z"
   },
   {
    "duration": 6,
    "start_time": "2024-07-18T20:10:41.157Z"
   },
   {
    "duration": 4,
    "start_time": "2024-07-18T20:10:41.169Z"
   },
   {
    "duration": 148,
    "start_time": "2024-07-18T20:10:41.176Z"
   },
   {
    "duration": 147,
    "start_time": "2024-07-18T20:10:41.329Z"
   },
   {
    "duration": 78,
    "start_time": "2024-07-18T20:10:41.479Z"
   },
   {
    "duration": 176,
    "start_time": "2024-07-18T20:10:41.559Z"
   },
   {
    "duration": 9,
    "start_time": "2024-07-18T20:10:41.739Z"
   },
   {
    "duration": 26,
    "start_time": "2024-07-18T20:10:41.752Z"
   },
   {
    "duration": 11,
    "start_time": "2024-07-18T20:10:41.787Z"
   },
   {
    "duration": 15,
    "start_time": "2024-07-18T20:10:41.803Z"
   },
   {
    "duration": 183,
    "start_time": "2024-07-18T20:10:41.822Z"
   },
   {
    "duration": 1310,
    "start_time": "2024-07-18T20:10:42.010Z"
   },
   {
    "duration": 4,
    "start_time": "2024-07-18T20:10:43.322Z"
   },
   {
    "duration": 7,
    "start_time": "2024-07-18T20:10:43.332Z"
   },
   {
    "duration": 17,
    "start_time": "2024-07-18T20:10:43.342Z"
   },
   {
    "duration": 21,
    "start_time": "2024-07-18T20:10:43.363Z"
   },
   {
    "duration": 63,
    "start_time": "2024-07-18T20:10:43.387Z"
   },
   {
    "duration": 21,
    "start_time": "2024-07-18T20:10:43.453Z"
   },
   {
    "duration": 16,
    "start_time": "2024-07-18T20:10:43.476Z"
   },
   {
    "duration": 6,
    "start_time": "2024-07-18T20:10:43.536Z"
   },
   {
    "duration": 4,
    "start_time": "2024-07-18T20:10:43.546Z"
   },
   {
    "duration": 13855,
    "start_time": "2024-07-18T20:10:43.554Z"
   },
   {
    "duration": 123,
    "start_time": "2024-07-18T20:10:57.414Z"
   },
   {
    "duration": 4,
    "start_time": "2024-07-18T20:10:57.541Z"
   },
   {
    "duration": 935,
    "start_time": "2024-07-18T20:12:08.431Z"
   },
   {
    "duration": 228,
    "start_time": "2024-07-18T20:12:09.634Z"
   },
   {
    "duration": 278,
    "start_time": "2024-07-18T20:12:14.281Z"
   },
   {
    "duration": 25,
    "start_time": "2024-07-18T20:12:24.810Z"
   },
   {
    "duration": 4,
    "start_time": "2024-07-18T20:12:32.492Z"
   },
   {
    "duration": 25,
    "start_time": "2024-07-18T20:12:33.566Z"
   },
   {
    "duration": 25,
    "start_time": "2024-07-18T20:12:53.346Z"
   },
   {
    "duration": 4,
    "start_time": "2024-07-18T20:12:56.890Z"
   },
   {
    "duration": 24,
    "start_time": "2024-07-18T20:12:58.184Z"
   },
   {
    "duration": 25,
    "start_time": "2024-07-18T20:13:14.940Z"
   },
   {
    "duration": 1306,
    "start_time": "2024-07-18T20:13:25.847Z"
   },
   {
    "duration": 725,
    "start_time": "2024-07-18T20:13:27.157Z"
   },
   {
    "duration": 52,
    "start_time": "2024-07-18T20:13:27.885Z"
   },
   {
    "duration": 149,
    "start_time": "2024-07-18T20:13:27.940Z"
   },
   {
    "duration": 44,
    "start_time": "2024-07-18T20:13:28.094Z"
   },
   {
    "duration": 5,
    "start_time": "2024-07-18T20:13:28.141Z"
   },
   {
    "duration": 36,
    "start_time": "2024-07-18T20:13:28.149Z"
   },
   {
    "duration": 60,
    "start_time": "2024-07-18T20:13:28.188Z"
   },
   {
    "duration": 7,
    "start_time": "2024-07-18T20:13:28.251Z"
   },
   {
    "duration": 5,
    "start_time": "2024-07-18T20:13:28.261Z"
   },
   {
    "duration": 144,
    "start_time": "2024-07-18T20:13:28.270Z"
   },
   {
    "duration": 150,
    "start_time": "2024-07-18T20:13:28.416Z"
   },
   {
    "duration": 76,
    "start_time": "2024-07-18T20:13:28.569Z"
   },
   {
    "duration": 177,
    "start_time": "2024-07-18T20:13:28.652Z"
   },
   {
    "duration": 8,
    "start_time": "2024-07-18T20:13:28.832Z"
   },
   {
    "duration": 3,
    "start_time": "2024-07-18T20:13:28.847Z"
   },
   {
    "duration": 5,
    "start_time": "2024-07-18T20:13:28.854Z"
   },
   {
    "duration": 5,
    "start_time": "2024-07-18T20:13:28.863Z"
   },
   {
    "duration": 192,
    "start_time": "2024-07-18T20:13:28.870Z"
   },
   {
    "duration": 1273,
    "start_time": "2024-07-18T20:13:29.064Z"
   },
   {
    "duration": 3,
    "start_time": "2024-07-18T20:13:30.340Z"
   },
   {
    "duration": 5,
    "start_time": "2024-07-18T20:13:30.347Z"
   },
   {
    "duration": 16,
    "start_time": "2024-07-18T20:13:30.355Z"
   },
   {
    "duration": 62,
    "start_time": "2024-07-18T20:13:30.374Z"
   },
   {
    "duration": 23,
    "start_time": "2024-07-18T20:13:30.439Z"
   },
   {
    "duration": 20,
    "start_time": "2024-07-18T20:13:30.465Z"
   },
   {
    "duration": 53,
    "start_time": "2024-07-18T20:13:30.488Z"
   },
   {
    "duration": 5,
    "start_time": "2024-07-18T20:13:30.544Z"
   },
   {
    "duration": 4,
    "start_time": "2024-07-18T20:13:30.552Z"
   },
   {
    "duration": 13538,
    "start_time": "2024-07-18T20:13:30.560Z"
   },
   {
    "duration": 134,
    "start_time": "2024-07-18T20:13:44.101Z"
   },
   {
    "duration": 5,
    "start_time": "2024-07-18T20:13:44.239Z"
   },
   {
    "duration": 1331,
    "start_time": "2024-07-18T20:15:37.156Z"
   },
   {
    "duration": 852,
    "start_time": "2024-07-18T20:15:38.491Z"
   },
   {
    "duration": 41,
    "start_time": "2024-07-18T20:15:39.346Z"
   },
   {
    "duration": 168,
    "start_time": "2024-07-18T20:15:39.390Z"
   },
   {
    "duration": 24,
    "start_time": "2024-07-18T20:15:39.563Z"
   },
   {
    "duration": 5,
    "start_time": "2024-07-18T20:15:39.589Z"
   },
   {
    "duration": 60,
    "start_time": "2024-07-18T20:15:39.597Z"
   },
   {
    "duration": 27,
    "start_time": "2024-07-18T20:15:39.660Z"
   },
   {
    "duration": 6,
    "start_time": "2024-07-18T20:15:39.689Z"
   },
   {
    "duration": 34,
    "start_time": "2024-07-18T20:15:39.698Z"
   },
   {
    "duration": 130,
    "start_time": "2024-07-18T20:15:39.735Z"
   },
   {
    "duration": 148,
    "start_time": "2024-07-18T20:15:39.868Z"
   },
   {
    "duration": 83,
    "start_time": "2024-07-18T20:15:40.020Z"
   },
   {
    "duration": 162,
    "start_time": "2024-07-18T20:15:40.111Z"
   },
   {
    "duration": 6,
    "start_time": "2024-07-18T20:15:40.276Z"
   },
   {
    "duration": 3,
    "start_time": "2024-07-18T20:15:40.286Z"
   },
   {
    "duration": 5,
    "start_time": "2024-07-18T20:15:40.292Z"
   },
   {
    "duration": 33,
    "start_time": "2024-07-18T20:15:40.300Z"
   },
   {
    "duration": 168,
    "start_time": "2024-07-18T20:15:40.336Z"
   },
   {
    "duration": 1251,
    "start_time": "2024-07-18T20:15:40.507Z"
   },
   {
    "duration": 4,
    "start_time": "2024-07-18T20:15:41.761Z"
   },
   {
    "duration": 14,
    "start_time": "2024-07-18T20:15:41.767Z"
   },
   {
    "duration": 20,
    "start_time": "2024-07-18T20:15:41.785Z"
   },
   {
    "duration": 20,
    "start_time": "2024-07-18T20:15:41.830Z"
   },
   {
    "duration": 23,
    "start_time": "2024-07-18T20:15:41.853Z"
   },
   {
    "duration": 52,
    "start_time": "2024-07-18T20:15:41.881Z"
   },
   {
    "duration": 18,
    "start_time": "2024-07-18T20:15:41.936Z"
   },
   {
    "duration": 6,
    "start_time": "2024-07-18T20:15:41.956Z"
   },
   {
    "duration": 4,
    "start_time": "2024-07-18T20:15:41.965Z"
   },
   {
    "duration": 13720,
    "start_time": "2024-07-18T20:15:41.972Z"
   },
   {
    "duration": 135,
    "start_time": "2024-07-18T20:15:55.695Z"
   },
   {
    "duration": 4,
    "start_time": "2024-07-18T20:15:55.833Z"
   },
   {
    "duration": 318,
    "start_time": "2024-07-18T20:16:23.830Z"
   },
   {
    "duration": 995,
    "start_time": "2024-07-18T20:16:27.824Z"
   },
   {
    "duration": 93,
    "start_time": "2024-07-18T20:16:29.152Z"
   },
   {
    "duration": 318,
    "start_time": "2024-07-18T20:16:37.688Z"
   },
   {
    "duration": 786,
    "start_time": "2024-07-18T20:16:39.000Z"
   },
   {
    "duration": 40,
    "start_time": "2024-07-18T20:16:43.001Z"
   },
   {
    "duration": 1307,
    "start_time": "2024-07-18T20:16:50.893Z"
   },
   {
    "duration": 746,
    "start_time": "2024-07-18T20:16:52.204Z"
   },
   {
    "duration": 38,
    "start_time": "2024-07-18T20:16:52.953Z"
   },
   {
    "duration": 164,
    "start_time": "2024-07-18T20:16:52.995Z"
   },
   {
    "duration": 26,
    "start_time": "2024-07-18T20:16:53.163Z"
   },
   {
    "duration": 5,
    "start_time": "2024-07-18T20:16:53.192Z"
   },
   {
    "duration": 34,
    "start_time": "2024-07-18T20:16:53.232Z"
   },
   {
    "duration": 28,
    "start_time": "2024-07-18T20:16:53.269Z"
   },
   {
    "duration": 33,
    "start_time": "2024-07-18T20:16:53.299Z"
   },
   {
    "duration": 5,
    "start_time": "2024-07-18T20:16:53.336Z"
   },
   {
    "duration": 140,
    "start_time": "2024-07-18T20:16:53.345Z"
   },
   {
    "duration": 148,
    "start_time": "2024-07-18T20:16:53.488Z"
   },
   {
    "duration": 72,
    "start_time": "2024-07-18T20:16:53.639Z"
   },
   {
    "duration": 156,
    "start_time": "2024-07-18T20:16:53.730Z"
   },
   {
    "duration": 5,
    "start_time": "2024-07-18T20:16:53.889Z"
   },
   {
    "duration": 3,
    "start_time": "2024-07-18T20:16:53.898Z"
   },
   {
    "duration": 3,
    "start_time": "2024-07-18T20:16:53.905Z"
   },
   {
    "duration": 4,
    "start_time": "2024-07-18T20:16:53.932Z"
   },
   {
    "duration": 172,
    "start_time": "2024-07-18T20:16:53.939Z"
   },
   {
    "duration": 1300,
    "start_time": "2024-07-18T20:16:54.113Z"
   },
   {
    "duration": 14,
    "start_time": "2024-07-18T20:16:55.416Z"
   },
   {
    "duration": 6,
    "start_time": "2024-07-18T20:16:55.433Z"
   },
   {
    "duration": 18,
    "start_time": "2024-07-18T20:16:55.442Z"
   },
   {
    "duration": 20,
    "start_time": "2024-07-18T20:16:55.463Z"
   },
   {
    "duration": 63,
    "start_time": "2024-07-18T20:16:55.486Z"
   },
   {
    "duration": 19,
    "start_time": "2024-07-18T20:16:55.552Z"
   },
   {
    "duration": 18,
    "start_time": "2024-07-18T20:16:55.574Z"
   },
   {
    "duration": 38,
    "start_time": "2024-07-18T20:16:55.595Z"
   },
   {
    "duration": 5,
    "start_time": "2024-07-18T20:16:55.637Z"
   },
   {
    "duration": 13775,
    "start_time": "2024-07-18T20:16:55.645Z"
   },
   {
    "duration": 117,
    "start_time": "2024-07-18T20:17:09.423Z"
   },
   {
    "duration": 3,
    "start_time": "2024-07-18T20:17:09.543Z"
   },
   {
    "duration": 314,
    "start_time": "2024-07-18T20:46:26.880Z"
   },
   {
    "duration": 22,
    "start_time": "2024-07-18T20:46:29.171Z"
   },
   {
    "duration": 22,
    "start_time": "2024-07-18T20:47:00.942Z"
   },
   {
    "duration": 320,
    "start_time": "2024-07-18T20:47:29.961Z"
   },
   {
    "duration": 22,
    "start_time": "2024-07-18T20:47:31.804Z"
   },
   {
    "duration": 1461,
    "start_time": "2024-07-18T20:47:39.300Z"
   },
   {
    "duration": 789,
    "start_time": "2024-07-18T20:47:40.765Z"
   },
   {
    "duration": 40,
    "start_time": "2024-07-18T20:47:41.557Z"
   },
   {
    "duration": 165,
    "start_time": "2024-07-18T20:47:41.600Z"
   },
   {
    "duration": 35,
    "start_time": "2024-07-18T20:47:41.770Z"
   },
   {
    "duration": 26,
    "start_time": "2024-07-18T20:47:41.808Z"
   },
   {
    "duration": 36,
    "start_time": "2024-07-18T20:47:41.837Z"
   },
   {
    "duration": 55,
    "start_time": "2024-07-18T20:47:41.876Z"
   },
   {
    "duration": 6,
    "start_time": "2024-07-18T20:47:41.934Z"
   },
   {
    "duration": 6,
    "start_time": "2024-07-18T20:47:41.943Z"
   },
   {
    "duration": 154,
    "start_time": "2024-07-18T20:47:41.952Z"
   },
   {
    "duration": 164,
    "start_time": "2024-07-18T20:47:42.109Z"
   },
   {
    "duration": 81,
    "start_time": "2024-07-18T20:47:42.276Z"
   },
   {
    "duration": 163,
    "start_time": "2024-07-18T20:47:42.363Z"
   },
   {
    "duration": 5,
    "start_time": "2024-07-18T20:47:42.531Z"
   },
   {
    "duration": 3,
    "start_time": "2024-07-18T20:47:42.540Z"
   },
   {
    "duration": 5,
    "start_time": "2024-07-18T20:47:42.546Z"
   },
   {
    "duration": 5,
    "start_time": "2024-07-18T20:47:42.554Z"
   },
   {
    "duration": 218,
    "start_time": "2024-07-18T20:47:42.563Z"
   },
   {
    "duration": 45,
    "start_time": "2024-07-18T20:47:42.785Z"
   },
   {
    "duration": 6,
    "start_time": "2024-07-18T20:47:42.834Z"
   },
   {
    "duration": 173,
    "start_time": "2024-07-18T20:47:42.843Z"
   },
   {
    "duration": 1279,
    "start_time": "2024-07-18T20:47:43.019Z"
   },
   {
    "duration": 3,
    "start_time": "2024-07-18T20:47:44.301Z"
   },
   {
    "duration": 6,
    "start_time": "2024-07-18T20:47:44.307Z"
   },
   {
    "duration": 17,
    "start_time": "2024-07-18T20:47:44.332Z"
   },
   {
    "duration": 19,
    "start_time": "2024-07-18T20:47:44.353Z"
   },
   {
    "duration": 66,
    "start_time": "2024-07-18T20:47:44.375Z"
   },
   {
    "duration": 20,
    "start_time": "2024-07-18T20:47:44.448Z"
   },
   {
    "duration": 18,
    "start_time": "2024-07-18T20:47:44.471Z"
   },
   {
    "duration": 39,
    "start_time": "2024-07-18T20:47:44.492Z"
   },
   {
    "duration": 4,
    "start_time": "2024-07-18T20:47:44.534Z"
   },
   {
    "duration": 13586,
    "start_time": "2024-07-18T20:47:44.541Z"
   },
   {
    "duration": 104,
    "start_time": "2024-07-18T20:47:58.131Z"
   },
   {
    "duration": 5,
    "start_time": "2024-07-18T20:47:58.237Z"
   },
   {
    "duration": 1509,
    "start_time": "2024-07-18T20:48:50.490Z"
   },
   {
    "duration": 854,
    "start_time": "2024-07-18T20:48:52.004Z"
   },
   {
    "duration": 40,
    "start_time": "2024-07-18T20:48:52.860Z"
   },
   {
    "duration": 175,
    "start_time": "2024-07-18T20:48:52.906Z"
   },
   {
    "duration": 24,
    "start_time": "2024-07-18T20:48:53.085Z"
   },
   {
    "duration": 22,
    "start_time": "2024-07-18T20:48:53.111Z"
   },
   {
    "duration": 34,
    "start_time": "2024-07-18T20:48:53.136Z"
   },
   {
    "duration": 57,
    "start_time": "2024-07-18T20:48:53.173Z"
   },
   {
    "duration": 5,
    "start_time": "2024-07-18T20:48:53.233Z"
   },
   {
    "duration": 6,
    "start_time": "2024-07-18T20:48:53.242Z"
   },
   {
    "duration": 147,
    "start_time": "2024-07-18T20:48:53.252Z"
   },
   {
    "duration": 151,
    "start_time": "2024-07-18T20:48:53.402Z"
   },
   {
    "duration": 61,
    "start_time": "2024-07-18T20:48:53.555Z"
   },
   {
    "duration": 167,
    "start_time": "2024-07-18T20:48:53.635Z"
   },
   {
    "duration": 7,
    "start_time": "2024-07-18T20:48:53.805Z"
   },
   {
    "duration": 16,
    "start_time": "2024-07-18T20:48:53.817Z"
   },
   {
    "duration": 4,
    "start_time": "2024-07-18T20:48:53.837Z"
   },
   {
    "duration": 5,
    "start_time": "2024-07-18T20:48:53.845Z"
   },
   {
    "duration": 209,
    "start_time": "2024-07-18T20:48:53.854Z"
   },
   {
    "duration": 30,
    "start_time": "2024-07-18T20:48:54.066Z"
   },
   {
    "duration": 5,
    "start_time": "2024-07-18T20:48:54.099Z"
   },
   {
    "duration": 160,
    "start_time": "2024-07-18T20:48:54.130Z"
   },
   {
    "duration": 1283,
    "start_time": "2024-07-18T20:48:54.292Z"
   },
   {
    "duration": 3,
    "start_time": "2024-07-18T20:48:55.578Z"
   },
   {
    "duration": 6,
    "start_time": "2024-07-18T20:48:55.585Z"
   },
   {
    "duration": 39,
    "start_time": "2024-07-18T20:48:55.594Z"
   },
   {
    "duration": 20,
    "start_time": "2024-07-18T20:48:55.637Z"
   },
   {
    "duration": 23,
    "start_time": "2024-07-18T20:48:55.660Z"
   },
   {
    "duration": 60,
    "start_time": "2024-07-18T20:48:55.686Z"
   },
   {
    "duration": 16,
    "start_time": "2024-07-18T20:48:55.749Z"
   },
   {
    "duration": 5,
    "start_time": "2024-07-18T20:48:55.768Z"
   },
   {
    "duration": 3,
    "start_time": "2024-07-18T20:48:55.777Z"
   },
   {
    "duration": 13782,
    "start_time": "2024-07-18T20:48:55.784Z"
   },
   {
    "duration": 78,
    "start_time": "2024-07-18T20:49:09.569Z"
   },
   {
    "duration": 9,
    "start_time": "2024-07-18T20:49:09.650Z"
   },
   {
    "duration": 364,
    "start_time": "2024-07-18T20:55:10.153Z"
   },
   {
    "duration": 1432,
    "start_time": "2024-07-18T20:55:17.178Z"
   },
   {
    "duration": 796,
    "start_time": "2024-07-18T20:55:18.613Z"
   },
   {
    "duration": 51,
    "start_time": "2024-07-18T20:55:19.412Z"
   },
   {
    "duration": 146,
    "start_time": "2024-07-18T20:55:19.880Z"
   },
   {
    "duration": 24,
    "start_time": "2024-07-18T20:55:20.754Z"
   },
   {
    "duration": 4,
    "start_time": "2024-07-18T20:55:22.223Z"
   },
   {
    "duration": 33,
    "start_time": "2024-07-18T20:55:24.058Z"
   },
   {
    "duration": 28,
    "start_time": "2024-07-18T20:55:24.805Z"
   },
   {
    "duration": 5,
    "start_time": "2024-07-18T20:55:25.482Z"
   },
   {
    "duration": 6,
    "start_time": "2024-07-18T20:55:26.157Z"
   },
   {
    "duration": 123,
    "start_time": "2024-07-18T20:55:26.982Z"
   },
   {
    "duration": 134,
    "start_time": "2024-07-18T20:55:27.563Z"
   },
   {
    "duration": 73,
    "start_time": "2024-07-18T20:55:28.419Z"
   },
   {
    "duration": 180,
    "start_time": "2024-07-18T20:55:30.776Z"
   },
   {
    "duration": 5,
    "start_time": "2024-07-18T20:55:31.693Z"
   },
   {
    "duration": 3,
    "start_time": "2024-07-18T20:55:32.277Z"
   },
   {
    "duration": 189,
    "start_time": "2024-07-18T20:55:51.215Z"
   },
   {
    "duration": 35,
    "start_time": "2024-07-18T20:55:53.812Z"
   },
   {
    "duration": 1312,
    "start_time": "2024-07-18T20:57:16.367Z"
   },
   {
    "duration": 147,
    "start_time": "2024-07-18T20:57:18.140Z"
   },
   {
    "duration": 1244,
    "start_time": "2024-07-18T20:57:19.262Z"
   },
   {
    "duration": 3,
    "start_time": "2024-07-18T20:57:20.739Z"
   },
   {
    "duration": 7,
    "start_time": "2024-07-18T20:57:21.688Z"
   },
   {
    "duration": 1125,
    "start_time": "2024-07-18T20:57:41.331Z"
   },
   {
    "duration": 434,
    "start_time": "2024-07-18T20:57:42.460Z"
   },
   {
    "duration": 8,
    "start_time": "2024-07-18T20:58:26.904Z"
   },
   {
    "duration": 5,
    "start_time": "2024-07-18T20:58:35.799Z"
   },
   {
    "duration": 27,
    "start_time": "2024-07-18T20:58:42.263Z"
   },
   {
    "duration": 3,
    "start_time": "2024-07-18T20:59:29.926Z"
   },
   {
    "duration": 24,
    "start_time": "2024-07-18T21:00:10.237Z"
   },
   {
    "duration": 29,
    "start_time": "2024-07-18T21:00:13.940Z"
   },
   {
    "duration": 372,
    "start_time": "2024-07-18T21:00:27.024Z"
   },
   {
    "duration": 58,
    "start_time": "2024-07-18T21:00:38.152Z"
   },
   {
    "duration": 22,
    "start_time": "2024-07-18T21:00:40.972Z"
   },
   {
    "duration": 1339,
    "start_time": "2024-07-18T21:00:48.337Z"
   },
   {
    "duration": 806,
    "start_time": "2024-07-18T21:00:49.680Z"
   },
   {
    "duration": 57,
    "start_time": "2024-07-18T21:00:50.490Z"
   },
   {
    "duration": 153,
    "start_time": "2024-07-18T21:00:50.550Z"
   },
   {
    "duration": 36,
    "start_time": "2024-07-18T21:00:50.708Z"
   },
   {
    "duration": 5,
    "start_time": "2024-07-18T21:00:50.747Z"
   },
   {
    "duration": 32,
    "start_time": "2024-07-18T21:00:50.756Z"
   },
   {
    "duration": 55,
    "start_time": "2024-07-18T21:00:50.791Z"
   },
   {
    "duration": 5,
    "start_time": "2024-07-18T21:00:50.849Z"
   },
   {
    "duration": 6,
    "start_time": "2024-07-18T21:00:50.857Z"
   },
   {
    "duration": 149,
    "start_time": "2024-07-18T21:00:50.865Z"
   },
   {
    "duration": 153,
    "start_time": "2024-07-18T21:00:51.017Z"
   },
   {
    "duration": 80,
    "start_time": "2024-07-18T21:00:51.173Z"
   },
   {
    "duration": 180,
    "start_time": "2024-07-18T21:00:51.260Z"
   },
   {
    "duration": 7,
    "start_time": "2024-07-18T21:00:51.442Z"
   },
   {
    "duration": 3,
    "start_time": "2024-07-18T21:00:51.453Z"
   },
   {
    "duration": 4,
    "start_time": "2024-07-18T21:00:51.460Z"
   },
   {
    "duration": 4,
    "start_time": "2024-07-18T21:00:51.467Z"
   },
   {
    "duration": 215,
    "start_time": "2024-07-18T21:00:51.475Z"
   },
   {
    "duration": 44,
    "start_time": "2024-07-18T21:00:51.693Z"
   },
   {
    "duration": 1368,
    "start_time": "2024-07-18T21:00:51.739Z"
   },
   {
    "duration": 6,
    "start_time": "2024-07-18T21:00:53.110Z"
   },
   {
    "duration": 167,
    "start_time": "2024-07-18T21:00:53.118Z"
   },
   {
    "duration": 1312,
    "start_time": "2024-07-18T21:00:53.287Z"
   },
   {
    "duration": 3,
    "start_time": "2024-07-18T21:00:54.602Z"
   },
   {
    "duration": 6,
    "start_time": "2024-07-18T21:00:54.608Z"
   },
   {
    "duration": 16,
    "start_time": "2024-07-18T21:00:54.632Z"
   },
   {
    "duration": 19,
    "start_time": "2024-07-18T21:00:54.651Z"
   },
   {
    "duration": 59,
    "start_time": "2024-07-18T21:00:54.673Z"
   },
   {
    "duration": 19,
    "start_time": "2024-07-18T21:00:54.735Z"
   },
   {
    "duration": 17,
    "start_time": "2024-07-18T21:00:54.757Z"
   },
   {
    "duration": 6,
    "start_time": "2024-07-18T21:00:54.776Z"
   },
   {
    "duration": 4,
    "start_time": "2024-07-18T21:00:54.785Z"
   },
   {
    "duration": 13579,
    "start_time": "2024-07-18T21:00:54.832Z"
   },
   {
    "duration": 126,
    "start_time": "2024-07-18T21:01:08.413Z"
   },
   {
    "duration": 4,
    "start_time": "2024-07-18T21:01:08.541Z"
   },
   {
    "duration": 179,
    "start_time": "2024-07-18T21:02:11.121Z"
   },
   {
    "duration": 1439,
    "start_time": "2024-07-18T21:02:21.451Z"
   },
   {
    "duration": 912,
    "start_time": "2024-07-18T21:02:22.894Z"
   },
   {
    "duration": 59,
    "start_time": "2024-07-18T21:02:23.809Z"
   },
   {
    "duration": 218,
    "start_time": "2024-07-18T21:02:23.875Z"
   },
   {
    "duration": 35,
    "start_time": "2024-07-18T21:02:24.103Z"
   },
   {
    "duration": 7,
    "start_time": "2024-07-18T21:02:24.149Z"
   },
   {
    "duration": 42,
    "start_time": "2024-07-18T21:02:24.165Z"
   },
   {
    "duration": 37,
    "start_time": "2024-07-18T21:02:24.217Z"
   },
   {
    "duration": 14,
    "start_time": "2024-07-18T21:02:24.262Z"
   },
   {
    "duration": 6,
    "start_time": "2024-07-18T21:02:24.287Z"
   },
   {
    "duration": 193,
    "start_time": "2024-07-18T21:02:24.296Z"
   },
   {
    "duration": 201,
    "start_time": "2024-07-18T21:02:24.492Z"
   },
   {
    "duration": 85,
    "start_time": "2024-07-18T21:02:24.695Z"
   },
   {
    "duration": 188,
    "start_time": "2024-07-18T21:02:24.783Z"
   },
   {
    "duration": 5,
    "start_time": "2024-07-18T21:02:24.974Z"
   },
   {
    "duration": 3,
    "start_time": "2024-07-18T21:02:24.982Z"
   },
   {
    "duration": 5,
    "start_time": "2024-07-18T21:02:24.988Z"
   },
   {
    "duration": 35,
    "start_time": "2024-07-18T21:02:24.996Z"
   },
   {
    "duration": 222,
    "start_time": "2024-07-18T21:02:25.036Z"
   },
   {
    "duration": 35,
    "start_time": "2024-07-18T21:02:25.263Z"
   },
   {
    "duration": 1517,
    "start_time": "2024-07-18T21:02:25.301Z"
   },
   {
    "duration": 13,
    "start_time": "2024-07-18T21:02:26.821Z"
   },
   {
    "duration": 220,
    "start_time": "2024-07-18T21:02:26.838Z"
   },
   {
    "duration": 1481,
    "start_time": "2024-07-18T21:02:27.061Z"
   },
   {
    "duration": 3,
    "start_time": "2024-07-18T21:02:28.545Z"
   },
   {
    "duration": 7,
    "start_time": "2024-07-18T21:02:28.552Z"
   },
   {
    "duration": 20,
    "start_time": "2024-07-18T21:02:28.563Z"
   },
   {
    "duration": 53,
    "start_time": "2024-07-18T21:02:28.592Z"
   },
   {
    "duration": 32,
    "start_time": "2024-07-18T21:02:28.650Z"
   },
   {
    "duration": 56,
    "start_time": "2024-07-18T21:02:28.687Z"
   },
   {
    "duration": 24,
    "start_time": "2024-07-18T21:02:28.748Z"
   },
   {
    "duration": 7,
    "start_time": "2024-07-18T21:02:28.778Z"
   },
   {
    "duration": 46,
    "start_time": "2024-07-18T21:02:28.789Z"
   },
   {
    "duration": 1378,
    "start_time": "2024-07-18T21:13:28.642Z"
   },
   {
    "duration": 794,
    "start_time": "2024-07-18T21:13:30.024Z"
   },
   {
    "duration": 49,
    "start_time": "2024-07-18T21:13:30.821Z"
   },
   {
    "duration": 164,
    "start_time": "2024-07-18T21:13:30.872Z"
   },
   {
    "duration": 24,
    "start_time": "2024-07-18T21:13:31.041Z"
   },
   {
    "duration": 5,
    "start_time": "2024-07-18T21:13:31.068Z"
   },
   {
    "duration": 64,
    "start_time": "2024-07-18T21:13:31.076Z"
   },
   {
    "duration": 27,
    "start_time": "2024-07-18T21:13:31.142Z"
   },
   {
    "duration": 6,
    "start_time": "2024-07-18T21:13:31.172Z"
   },
   {
    "duration": 6,
    "start_time": "2024-07-18T21:13:31.181Z"
   },
   {
    "duration": 122,
    "start_time": "2024-07-18T21:13:31.230Z"
   },
   {
    "duration": 152,
    "start_time": "2024-07-18T21:13:31.355Z"
   },
   {
    "duration": 80,
    "start_time": "2024-07-18T21:13:31.509Z"
   },
   {
    "duration": 177,
    "start_time": "2024-07-18T21:13:31.598Z"
   },
   {
    "duration": 18,
    "start_time": "2024-07-18T21:13:31.778Z"
   },
   {
    "duration": 10,
    "start_time": "2024-07-18T21:13:31.798Z"
   },
   {
    "duration": 5,
    "start_time": "2024-07-18T21:13:31.811Z"
   },
   {
    "duration": 8,
    "start_time": "2024-07-18T21:13:31.832Z"
   },
   {
    "duration": 171,
    "start_time": "2024-07-18T21:13:31.843Z"
   },
   {
    "duration": 46,
    "start_time": "2024-07-18T21:13:32.017Z"
   },
   {
    "duration": 1345,
    "start_time": "2024-07-18T21:13:32.065Z"
   },
   {
    "duration": 6,
    "start_time": "2024-07-18T21:13:33.413Z"
   },
   {
    "duration": 150,
    "start_time": "2024-07-18T21:13:33.431Z"
   },
   {
    "duration": 1283,
    "start_time": "2024-07-18T21:13:33.584Z"
   },
   {
    "duration": 4,
    "start_time": "2024-07-18T21:13:34.869Z"
   },
   {
    "duration": 6,
    "start_time": "2024-07-18T21:13:34.876Z"
   },
   {
    "duration": 44,
    "start_time": "2024-07-18T21:13:34.886Z"
   },
   {
    "duration": 20,
    "start_time": "2024-07-18T21:13:34.934Z"
   },
   {
    "duration": 23,
    "start_time": "2024-07-18T21:13:34.957Z"
   },
   {
    "duration": 56,
    "start_time": "2024-07-18T21:13:34.983Z"
   },
   {
    "duration": 17,
    "start_time": "2024-07-18T21:13:35.042Z"
   },
   {
    "duration": 5,
    "start_time": "2024-07-18T21:13:35.062Z"
   },
   {
    "duration": 4,
    "start_time": "2024-07-18T21:13:35.071Z"
   },
   {
    "duration": 13534,
    "start_time": "2024-07-18T21:13:35.077Z"
   },
   {
    "duration": 118,
    "start_time": "2024-07-18T21:13:48.614Z"
   },
   {
    "duration": 168,
    "start_time": "2024-07-18T21:14:23.208Z"
   },
   {
    "duration": 1313,
    "start_time": "2024-07-18T21:14:33.081Z"
   },
   {
    "duration": 786,
    "start_time": "2024-07-18T21:14:34.397Z"
   },
   {
    "duration": 4,
    "start_time": "2024-07-18T21:14:46.940Z"
   },
   {
    "duration": 115,
    "start_time": "2024-07-18T21:14:47.813Z"
   },
   {
    "duration": 239,
    "start_time": "2024-07-18T21:16:00.995Z"
   },
   {
    "duration": 1590,
    "start_time": "2024-07-18T21:16:05.288Z"
   },
   {
    "duration": 0,
    "start_time": "2024-07-18T21:16:06.881Z"
   },
   {
    "duration": 343,
    "start_time": "2024-07-18T21:16:31.032Z"
   },
   {
    "duration": 69,
    "start_time": "2024-07-18T21:18:29.449Z"
   },
   {
    "duration": 68,
    "start_time": "2024-07-18T21:18:34.838Z"
   },
   {
    "duration": 36,
    "start_time": "2024-07-18T21:19:02.028Z"
   },
   {
    "duration": 84,
    "start_time": "2024-07-18T21:19:16.181Z"
   },
   {
    "duration": 5,
    "start_time": "2024-07-18T21:20:30.747Z"
   },
   {
    "duration": 1387,
    "start_time": "2024-07-18T21:21:01.728Z"
   },
   {
    "duration": 721,
    "start_time": "2024-07-18T21:21:03.119Z"
   },
   {
    "duration": 41,
    "start_time": "2024-07-18T21:21:03.847Z"
   },
   {
    "duration": 164,
    "start_time": "2024-07-18T21:21:03.891Z"
   },
   {
    "duration": 24,
    "start_time": "2024-07-18T21:21:04.061Z"
   },
   {
    "duration": 4,
    "start_time": "2024-07-18T21:21:04.088Z"
   },
   {
    "duration": 62,
    "start_time": "2024-07-18T21:21:04.095Z"
   },
   {
    "duration": 27,
    "start_time": "2024-07-18T21:21:04.160Z"
   },
   {
    "duration": 6,
    "start_time": "2024-07-18T21:21:04.190Z"
   },
   {
    "duration": 34,
    "start_time": "2024-07-18T21:21:04.199Z"
   },
   {
    "duration": 142,
    "start_time": "2024-07-18T21:21:04.238Z"
   },
   {
    "duration": 149,
    "start_time": "2024-07-18T21:21:04.383Z"
   },
   {
    "duration": 73,
    "start_time": "2024-07-18T21:21:04.535Z"
   },
   {
    "duration": 150,
    "start_time": "2024-07-18T21:21:04.630Z"
   },
   {
    "duration": 6,
    "start_time": "2024-07-18T21:21:04.782Z"
   },
   {
    "duration": 3,
    "start_time": "2024-07-18T21:21:04.791Z"
   },
   {
    "duration": 33,
    "start_time": "2024-07-18T21:21:04.797Z"
   },
   {
    "duration": 5,
    "start_time": "2024-07-18T21:21:04.833Z"
   },
   {
    "duration": 181,
    "start_time": "2024-07-18T21:21:04.842Z"
   },
   {
    "duration": 6,
    "start_time": "2024-07-18T21:21:05.026Z"
   },
   {
    "duration": 32,
    "start_time": "2024-07-18T21:21:05.035Z"
   },
   {
    "duration": 1366,
    "start_time": "2024-07-18T21:21:05.070Z"
   },
   {
    "duration": 12,
    "start_time": "2024-07-18T21:21:06.438Z"
   },
   {
    "duration": 169,
    "start_time": "2024-07-18T21:21:06.453Z"
   },
   {
    "duration": 1291,
    "start_time": "2024-07-18T21:21:06.625Z"
   },
   {
    "duration": 11,
    "start_time": "2024-07-18T21:21:07.919Z"
   },
   {
    "duration": 5,
    "start_time": "2024-07-18T21:21:07.933Z"
   },
   {
    "duration": 15,
    "start_time": "2024-07-18T21:21:07.941Z"
   },
   {
    "duration": 20,
    "start_time": "2024-07-18T21:21:07.959Z"
   },
   {
    "duration": 63,
    "start_time": "2024-07-18T21:21:07.982Z"
   },
   {
    "duration": 20,
    "start_time": "2024-07-18T21:21:08.049Z"
   },
   {
    "duration": 18,
    "start_time": "2024-07-18T21:21:08.072Z"
   },
   {
    "duration": 38,
    "start_time": "2024-07-18T21:21:08.092Z"
   },
   {
    "duration": 4,
    "start_time": "2024-07-18T21:21:08.133Z"
   },
   {
    "duration": 13580,
    "start_time": "2024-07-18T21:21:08.142Z"
   },
   {
    "duration": 111,
    "start_time": "2024-07-18T21:21:21.731Z"
   },
   {
    "duration": 5,
    "start_time": "2024-07-18T21:21:21.846Z"
   },
   {
    "duration": 5,
    "start_time": "2024-07-18T21:22:57.236Z"
   },
   {
    "duration": 1542,
    "start_time": "2024-07-18T21:23:30.925Z"
   },
   {
    "duration": 904,
    "start_time": "2024-07-18T21:23:32.471Z"
   },
   {
    "duration": 66,
    "start_time": "2024-07-18T21:23:33.379Z"
   },
   {
    "duration": 152,
    "start_time": "2024-07-18T21:23:33.449Z"
   },
   {
    "duration": 40,
    "start_time": "2024-07-18T21:23:33.607Z"
   },
   {
    "duration": 7,
    "start_time": "2024-07-18T21:23:33.651Z"
   },
   {
    "duration": 73,
    "start_time": "2024-07-18T21:23:33.662Z"
   },
   {
    "duration": 31,
    "start_time": "2024-07-18T21:23:33.739Z"
   },
   {
    "duration": 8,
    "start_time": "2024-07-18T21:23:33.773Z"
   },
   {
    "duration": 6,
    "start_time": "2024-07-18T21:23:33.785Z"
   },
   {
    "duration": 187,
    "start_time": "2024-07-18T21:23:33.795Z"
   },
   {
    "duration": 154,
    "start_time": "2024-07-18T21:23:33.985Z"
   },
   {
    "duration": 63,
    "start_time": "2024-07-18T21:23:34.142Z"
   },
   {
    "duration": 134,
    "start_time": "2024-07-18T21:23:34.230Z"
   },
   {
    "duration": 6,
    "start_time": "2024-07-18T21:23:34.367Z"
   },
   {
    "duration": 3,
    "start_time": "2024-07-18T21:23:34.376Z"
   },
   {
    "duration": 4,
    "start_time": "2024-07-18T21:23:34.386Z"
   },
   {
    "duration": 5,
    "start_time": "2024-07-18T21:23:34.393Z"
   },
   {
    "duration": 186,
    "start_time": "2024-07-18T21:23:34.430Z"
   },
   {
    "duration": 6,
    "start_time": "2024-07-18T21:23:34.618Z"
   },
   {
    "duration": 37,
    "start_time": "2024-07-18T21:23:34.626Z"
   },
   {
    "duration": 427,
    "start_time": "2024-07-18T21:23:34.666Z"
   },
   {
    "duration": 0,
    "start_time": "2024-07-18T21:23:35.098Z"
   },
   {
    "duration": 0,
    "start_time": "2024-07-18T21:23:35.100Z"
   },
   {
    "duration": 0,
    "start_time": "2024-07-18T21:23:35.103Z"
   },
   {
    "duration": 0,
    "start_time": "2024-07-18T21:23:35.105Z"
   },
   {
    "duration": 0,
    "start_time": "2024-07-18T21:23:35.107Z"
   },
   {
    "duration": 0,
    "start_time": "2024-07-18T21:23:35.110Z"
   },
   {
    "duration": 0,
    "start_time": "2024-07-18T21:23:35.130Z"
   },
   {
    "duration": 0,
    "start_time": "2024-07-18T21:23:35.132Z"
   },
   {
    "duration": 0,
    "start_time": "2024-07-18T21:23:35.135Z"
   },
   {
    "duration": 0,
    "start_time": "2024-07-18T21:23:35.137Z"
   },
   {
    "duration": 0,
    "start_time": "2024-07-18T21:23:35.140Z"
   },
   {
    "duration": 0,
    "start_time": "2024-07-18T21:23:35.143Z"
   },
   {
    "duration": 0,
    "start_time": "2024-07-18T21:23:35.145Z"
   },
   {
    "duration": 0,
    "start_time": "2024-07-18T21:23:35.147Z"
   },
   {
    "duration": 0,
    "start_time": "2024-07-18T21:23:35.150Z"
   },
   {
    "duration": 0,
    "start_time": "2024-07-18T21:23:35.152Z"
   },
   {
    "duration": 0,
    "start_time": "2024-07-18T21:23:35.156Z"
   },
   {
    "duration": 81,
    "start_time": "2024-07-18T21:23:51.113Z"
   },
   {
    "duration": 374,
    "start_time": "2024-07-18T21:24:14.893Z"
   },
   {
    "duration": 149,
    "start_time": "2024-07-18T21:24:20.779Z"
   },
   {
    "duration": 6,
    "start_time": "2024-07-18T21:24:27.656Z"
   },
   {
    "duration": 701,
    "start_time": "2024-07-18T21:24:28.322Z"
   },
   {
    "duration": 30,
    "start_time": "2024-07-18T21:24:30.274Z"
   },
   {
    "duration": 143,
    "start_time": "2024-07-18T21:24:30.933Z"
   },
   {
    "duration": 19,
    "start_time": "2024-07-18T21:24:31.561Z"
   },
   {
    "duration": 4,
    "start_time": "2024-07-18T21:24:32.773Z"
   },
   {
    "duration": 29,
    "start_time": "2024-07-18T21:24:34.967Z"
   },
   {
    "duration": 27,
    "start_time": "2024-07-18T21:24:35.700Z"
   },
   {
    "duration": 6,
    "start_time": "2024-07-18T21:24:36.261Z"
   },
   {
    "duration": 5,
    "start_time": "2024-07-18T21:24:36.996Z"
   },
   {
    "duration": 111,
    "start_time": "2024-07-18T21:24:37.539Z"
   },
   {
    "duration": 129,
    "start_time": "2024-07-18T21:24:38.102Z"
   },
   {
    "duration": 69,
    "start_time": "2024-07-18T21:24:38.668Z"
   },
   {
    "duration": 163,
    "start_time": "2024-07-18T21:24:41.338Z"
   },
   {
    "duration": 6,
    "start_time": "2024-07-18T21:24:41.953Z"
   },
   {
    "duration": 2,
    "start_time": "2024-07-18T21:24:42.703Z"
   },
   {
    "duration": 4,
    "start_time": "2024-07-18T21:24:43.169Z"
   },
   {
    "duration": 4,
    "start_time": "2024-07-18T21:24:44.920Z"
   },
   {
    "duration": 179,
    "start_time": "2024-07-18T21:24:45.427Z"
   },
   {
    "duration": 4,
    "start_time": "2024-07-18T21:24:46.188Z"
   },
   {
    "duration": 37,
    "start_time": "2024-07-18T21:24:46.913Z"
   },
   {
    "duration": 27,
    "start_time": "2024-07-18T21:24:51.007Z"
   },
   {
    "duration": 40,
    "start_time": "2024-07-18T21:24:59.406Z"
   },
   {
    "duration": 3,
    "start_time": "2024-07-18T21:24:59.947Z"
   },
   {
    "duration": 136,
    "start_time": "2024-07-18T21:25:00.650Z"
   },
   {
    "duration": 1374,
    "start_time": "2024-07-18T21:25:01.348Z"
   },
   {
    "duration": 8,
    "start_time": "2024-07-18T21:25:02.725Z"
   },
   {
    "duration": 9,
    "start_time": "2024-07-18T21:25:02.736Z"
   },
   {
    "duration": 15,
    "start_time": "2024-07-18T21:25:10.210Z"
   },
   {
    "duration": 19,
    "start_time": "2024-07-18T21:25:11.421Z"
   },
   {
    "duration": 24,
    "start_time": "2024-07-18T21:25:12.142Z"
   },
   {
    "duration": 22,
    "start_time": "2024-07-18T21:25:13.059Z"
   },
   {
    "duration": 17,
    "start_time": "2024-07-18T21:25:13.819Z"
   },
   {
    "duration": 5,
    "start_time": "2024-07-18T21:25:28.292Z"
   },
   {
    "duration": 4,
    "start_time": "2024-07-18T21:25:29.188Z"
   },
   {
    "duration": 13706,
    "start_time": "2024-07-18T21:25:30.176Z"
   },
   {
    "duration": 79,
    "start_time": "2024-07-18T21:26:16.469Z"
   },
   {
    "duration": 3,
    "start_time": "2024-07-18T21:26:32.898Z"
   },
   {
    "duration": 26,
    "start_time": "2024-07-18T21:26:34.014Z"
   },
   {
    "duration": 327,
    "start_time": "2024-07-18T21:27:10.358Z"
   },
   {
    "duration": 1062,
    "start_time": "2024-07-18T21:27:15.500Z"
   },
   {
    "duration": 96,
    "start_time": "2024-07-18T21:27:16.566Z"
   },
   {
    "duration": 43,
    "start_time": "2024-07-18T21:27:34.013Z"
   },
   {
    "duration": 1287,
    "start_time": "2024-07-18T21:27:44.655Z"
   },
   {
    "duration": 788,
    "start_time": "2024-07-18T21:27:45.947Z"
   },
   {
    "duration": 44,
    "start_time": "2024-07-18T21:27:46.737Z"
   },
   {
    "duration": 163,
    "start_time": "2024-07-18T21:27:46.784Z"
   },
   {
    "duration": 26,
    "start_time": "2024-07-18T21:27:46.952Z"
   },
   {
    "duration": 5,
    "start_time": "2024-07-18T21:27:46.980Z"
   },
   {
    "duration": 65,
    "start_time": "2024-07-18T21:27:46.988Z"
   },
   {
    "duration": 26,
    "start_time": "2024-07-18T21:27:47.056Z"
   },
   {
    "duration": 5,
    "start_time": "2024-07-18T21:27:47.085Z"
   },
   {
    "duration": 37,
    "start_time": "2024-07-18T21:27:47.093Z"
   },
   {
    "duration": 124,
    "start_time": "2024-07-18T21:27:47.133Z"
   },
   {
    "duration": 139,
    "start_time": "2024-07-18T21:27:47.260Z"
   },
   {
    "duration": 77,
    "start_time": "2024-07-18T21:27:47.402Z"
   },
   {
    "duration": 164,
    "start_time": "2024-07-18T21:27:47.487Z"
   },
   {
    "duration": 7,
    "start_time": "2024-07-18T21:27:47.654Z"
   },
   {
    "duration": 4,
    "start_time": "2024-07-18T21:27:47.664Z"
   },
   {
    "duration": 5,
    "start_time": "2024-07-18T21:27:47.671Z"
   },
   {
    "duration": 8,
    "start_time": "2024-07-18T21:27:47.679Z"
   },
   {
    "duration": 222,
    "start_time": "2024-07-18T21:27:47.690Z"
   },
   {
    "duration": 5,
    "start_time": "2024-07-18T21:27:47.915Z"
   },
   {
    "duration": 33,
    "start_time": "2024-07-18T21:27:47.931Z"
   },
   {
    "duration": 4,
    "start_time": "2024-07-18T21:27:47.966Z"
   },
   {
    "duration": 171,
    "start_time": "2024-07-18T21:27:47.973Z"
   },
   {
    "duration": 1415,
    "start_time": "2024-07-19T00:31:34.683Z"
   },
   {
    "duration": 849,
    "start_time": "2024-07-19T00:31:36.103Z"
   },
   {
    "duration": 56,
    "start_time": "2024-07-19T00:31:36.955Z"
   },
   {
    "duration": 166,
    "start_time": "2024-07-19T00:31:37.014Z"
   },
   {
    "duration": 27,
    "start_time": "2024-07-19T00:31:37.202Z"
   },
   {
    "duration": 5,
    "start_time": "2024-07-19T00:31:37.232Z"
   },
   {
    "duration": 60,
    "start_time": "2024-07-19T00:31:37.241Z"
   },
   {
    "duration": 27,
    "start_time": "2024-07-19T00:31:37.305Z"
   },
   {
    "duration": 6,
    "start_time": "2024-07-19T00:31:37.335Z"
   },
   {
    "duration": 6,
    "start_time": "2024-07-19T00:31:37.344Z"
   },
   {
    "duration": 165,
    "start_time": "2024-07-19T00:31:37.354Z"
   },
   {
    "duration": 150,
    "start_time": "2024-07-19T00:31:37.522Z"
   },
   {
    "duration": 86,
    "start_time": "2024-07-19T00:31:37.675Z"
   },
   {
    "duration": 188,
    "start_time": "2024-07-19T00:31:37.770Z"
   },
   {
    "duration": 6,
    "start_time": "2024-07-19T00:31:37.961Z"
   },
   {
    "duration": 4,
    "start_time": "2024-07-19T00:31:37.970Z"
   },
   {
    "duration": 4,
    "start_time": "2024-07-19T00:31:38.001Z"
   },
   {
    "duration": 5,
    "start_time": "2024-07-19T00:31:38.008Z"
   },
   {
    "duration": 5,
    "start_time": "2024-07-19T00:31:38.016Z"
   },
   {
    "duration": 78,
    "start_time": "2024-07-19T00:31:38.024Z"
   },
   {
    "duration": 4,
    "start_time": "2024-07-19T00:31:38.105Z"
   },
   {
    "duration": 188,
    "start_time": "2024-07-19T00:31:38.112Z"
   },
   {
    "duration": 1270,
    "start_time": "2024-07-19T00:31:38.303Z"
   },
   {
    "duration": 4,
    "start_time": "2024-07-19T00:31:39.576Z"
   },
   {
    "duration": 23,
    "start_time": "2024-07-19T00:31:39.583Z"
   },
   {
    "duration": 16,
    "start_time": "2024-07-19T00:31:39.610Z"
   },
   {
    "duration": 22,
    "start_time": "2024-07-19T00:31:39.630Z"
   },
   {
    "duration": 60,
    "start_time": "2024-07-19T00:31:39.655Z"
   },
   {
    "duration": 20,
    "start_time": "2024-07-19T00:31:39.718Z"
   },
   {
    "duration": 17,
    "start_time": "2024-07-19T00:31:39.741Z"
   },
   {
    "duration": 43,
    "start_time": "2024-07-19T00:31:39.761Z"
   },
   {
    "duration": 4,
    "start_time": "2024-07-19T00:31:39.808Z"
   },
   {
    "duration": 13617,
    "start_time": "2024-07-19T00:31:39.815Z"
   },
   {
    "duration": 165,
    "start_time": "2024-07-19T00:31:53.436Z"
   },
   {
    "duration": 5,
    "start_time": "2024-07-19T00:31:53.604Z"
   },
   {
    "duration": 342,
    "start_time": "2024-07-19T00:31:53.612Z"
   },
   {
    "duration": 4,
    "start_time": "2024-07-19T00:31:53.957Z"
   },
   {
    "duration": 481,
    "start_time": "2024-07-19T00:31:53.965Z"
   },
   {
    "duration": 4,
    "start_time": "2024-07-19T00:32:12.944Z"
   },
   {
    "duration": 4,
    "start_time": "2024-07-19T00:32:13.553Z"
   },
   {
    "duration": 42,
    "start_time": "2024-07-19T00:32:14.662Z"
   },
   {
    "duration": 4,
    "start_time": "2024-07-19T00:32:40.129Z"
   },
   {
    "duration": 54,
    "start_time": "2024-07-19T00:36:10.456Z"
   },
   {
    "duration": 46,
    "start_time": "2024-07-19T00:36:17.668Z"
   },
   {
    "duration": 7,
    "start_time": "2024-07-19T00:36:58.476Z"
   },
   {
    "duration": 41,
    "start_time": "2024-07-19T00:37:09.839Z"
   },
   {
    "duration": 38,
    "start_time": "2024-07-19T00:37:43.270Z"
   },
   {
    "duration": 80,
    "start_time": "2024-07-19T00:37:57.989Z"
   },
   {
    "duration": 483,
    "start_time": "2024-07-19T00:38:21.856Z"
   },
   {
    "duration": 43,
    "start_time": "2024-07-19T00:38:40.846Z"
   },
   {
    "duration": 520,
    "start_time": "2024-07-19T00:38:41.861Z"
   },
   {
    "duration": 7,
    "start_time": "2024-07-19T00:39:13.163Z"
   },
   {
    "duration": 349,
    "start_time": "2024-07-19T00:39:18.033Z"
   },
   {
    "duration": 456,
    "start_time": "2024-07-19T00:39:42.633Z"
   },
   {
    "duration": 337,
    "start_time": "2024-07-19T00:41:38.651Z"
   },
   {
    "duration": 24,
    "start_time": "2024-07-19T00:41:42.814Z"
   },
   {
    "duration": 32,
    "start_time": "2024-07-19T00:41:55.309Z"
   },
   {
    "duration": 29,
    "start_time": "2024-07-19T00:41:56.650Z"
   },
   {
    "duration": 1538,
    "start_time": "2024-07-19T00:42:08.720Z"
   },
   {
    "duration": 882,
    "start_time": "2024-07-19T00:42:10.262Z"
   },
   {
    "duration": 59,
    "start_time": "2024-07-19T00:42:11.147Z"
   },
   {
    "duration": 216,
    "start_time": "2024-07-19T00:42:11.212Z"
   },
   {
    "duration": 32,
    "start_time": "2024-07-19T00:42:11.432Z"
   },
   {
    "duration": 5,
    "start_time": "2024-07-19T00:42:11.470Z"
   },
   {
    "duration": 41,
    "start_time": "2024-07-19T00:42:11.503Z"
   },
   {
    "duration": 62,
    "start_time": "2024-07-19T00:42:11.547Z"
   },
   {
    "duration": 16,
    "start_time": "2024-07-19T00:42:11.612Z"
   },
   {
    "duration": 7,
    "start_time": "2024-07-19T00:42:11.635Z"
   },
   {
    "duration": 138,
    "start_time": "2024-07-19T00:42:11.645Z"
   },
   {
    "duration": 151,
    "start_time": "2024-07-19T00:42:11.786Z"
   },
   {
    "duration": 81,
    "start_time": "2024-07-19T00:42:11.942Z"
   },
   {
    "duration": 239,
    "start_time": "2024-07-19T00:42:12.027Z"
   },
   {
    "duration": 10,
    "start_time": "2024-07-19T00:42:12.269Z"
   },
   {
    "duration": 18,
    "start_time": "2024-07-19T00:42:12.283Z"
   },
   {
    "duration": 5,
    "start_time": "2024-07-19T00:42:12.305Z"
   },
   {
    "duration": 5,
    "start_time": "2024-07-19T00:42:12.313Z"
   },
   {
    "duration": 10,
    "start_time": "2024-07-19T00:42:12.322Z"
   },
   {
    "duration": 591,
    "start_time": "2024-07-19T00:42:12.335Z"
   },
   {
    "duration": 0,
    "start_time": "2024-07-19T00:42:12.930Z"
   },
   {
    "duration": 0,
    "start_time": "2024-07-19T00:42:12.932Z"
   },
   {
    "duration": 0,
    "start_time": "2024-07-19T00:42:12.935Z"
   },
   {
    "duration": 0,
    "start_time": "2024-07-19T00:42:12.937Z"
   },
   {
    "duration": 0,
    "start_time": "2024-07-19T00:42:12.939Z"
   },
   {
    "duration": 0,
    "start_time": "2024-07-19T00:42:12.941Z"
   },
   {
    "duration": 0,
    "start_time": "2024-07-19T00:42:12.943Z"
   },
   {
    "duration": 0,
    "start_time": "2024-07-19T00:42:12.946Z"
   },
   {
    "duration": 0,
    "start_time": "2024-07-19T00:42:12.948Z"
   },
   {
    "duration": 0,
    "start_time": "2024-07-19T00:42:12.949Z"
   },
   {
    "duration": 0,
    "start_time": "2024-07-19T00:42:12.953Z"
   },
   {
    "duration": 0,
    "start_time": "2024-07-19T00:42:12.956Z"
   },
   {
    "duration": 0,
    "start_time": "2024-07-19T00:42:12.957Z"
   },
   {
    "duration": 0,
    "start_time": "2024-07-19T00:42:12.959Z"
   },
   {
    "duration": 0,
    "start_time": "2024-07-19T00:42:12.960Z"
   },
   {
    "duration": 0,
    "start_time": "2024-07-19T00:42:13.003Z"
   },
   {
    "duration": 0,
    "start_time": "2024-07-19T00:42:13.013Z"
   },
   {
    "duration": 0,
    "start_time": "2024-07-19T00:42:13.016Z"
   },
   {
    "duration": 0,
    "start_time": "2024-07-19T00:42:13.018Z"
   },
   {
    "duration": 0,
    "start_time": "2024-07-19T00:42:13.021Z"
   },
   {
    "duration": 73,
    "start_time": "2024-07-19T00:42:28.634Z"
   },
   {
    "duration": 53,
    "start_time": "2024-07-19T00:42:37.506Z"
   },
   {
    "duration": 46,
    "start_time": "2024-07-19T00:42:43.815Z"
   },
   {
    "duration": 367,
    "start_time": "2024-07-19T00:42:58.161Z"
   },
   {
    "duration": 159,
    "start_time": "2024-07-19T00:43:11.416Z"
   },
   {
    "duration": 82,
    "start_time": "2024-07-19T00:44:23.963Z"
   },
   {
    "duration": 364,
    "start_time": "2024-07-19T00:50:48.485Z"
   },
   {
    "duration": 36,
    "start_time": "2024-07-19T00:50:54.523Z"
   },
   {
    "duration": 1461,
    "start_time": "2024-07-19T00:51:41.647Z"
   },
   {
    "duration": 922,
    "start_time": "2024-07-19T00:51:43.112Z"
   },
   {
    "duration": 43,
    "start_time": "2024-07-19T00:51:44.037Z"
   },
   {
    "duration": 153,
    "start_time": "2024-07-19T00:51:44.101Z"
   },
   {
    "duration": 49,
    "start_time": "2024-07-19T00:51:44.258Z"
   },
   {
    "duration": 6,
    "start_time": "2024-07-19T00:51:44.317Z"
   },
   {
    "duration": 43,
    "start_time": "2024-07-19T00:51:44.326Z"
   },
   {
    "duration": 54,
    "start_time": "2024-07-19T00:51:44.373Z"
   },
   {
    "duration": 6,
    "start_time": "2024-07-19T00:51:44.431Z"
   },
   {
    "duration": 6,
    "start_time": "2024-07-19T00:51:44.444Z"
   },
   {
    "duration": 155,
    "start_time": "2024-07-19T00:51:44.453Z"
   },
   {
    "duration": 149,
    "start_time": "2024-07-19T00:51:44.612Z"
   },
   {
    "duration": 86,
    "start_time": "2024-07-19T00:51:44.764Z"
   },
   {
    "duration": 205,
    "start_time": "2024-07-19T00:51:44.853Z"
   },
   {
    "duration": 6,
    "start_time": "2024-07-19T00:51:45.062Z"
   },
   {
    "duration": 4,
    "start_time": "2024-07-19T00:51:45.072Z"
   },
   {
    "duration": 5,
    "start_time": "2024-07-19T00:51:45.103Z"
   },
   {
    "duration": 1418,
    "start_time": "2024-07-19T00:52:32.359Z"
   },
   {
    "duration": 1408,
    "start_time": "2024-07-19T00:52:57.252Z"
   },
   {
    "duration": 920,
    "start_time": "2024-07-19T00:52:58.665Z"
   },
   {
    "duration": 49,
    "start_time": "2024-07-19T00:52:59.588Z"
   },
   {
    "duration": 195,
    "start_time": "2024-07-19T00:52:59.642Z"
   },
   {
    "duration": 32,
    "start_time": "2024-07-19T00:52:59.840Z"
   },
   {
    "duration": 27,
    "start_time": "2024-07-19T00:52:59.876Z"
   },
   {
    "duration": 35,
    "start_time": "2024-07-19T00:52:59.907Z"
   },
   {
    "duration": 60,
    "start_time": "2024-07-19T00:52:59.946Z"
   },
   {
    "duration": 9,
    "start_time": "2024-07-19T00:53:00.010Z"
   },
   {
    "duration": 8,
    "start_time": "2024-07-19T00:53:00.030Z"
   },
   {
    "duration": 148,
    "start_time": "2024-07-19T00:53:00.042Z"
   },
   {
    "duration": 144,
    "start_time": "2024-07-19T00:53:00.201Z"
   },
   {
    "duration": 82,
    "start_time": "2024-07-19T00:53:00.349Z"
   },
   {
    "duration": 229,
    "start_time": "2024-07-19T00:53:00.434Z"
   },
   {
    "duration": 7,
    "start_time": "2024-07-19T00:53:00.666Z"
   },
   {
    "duration": 25,
    "start_time": "2024-07-19T00:53:00.677Z"
   },
   {
    "duration": 4,
    "start_time": "2024-07-19T00:53:00.706Z"
   },
   {
    "duration": 1446,
    "start_time": "2024-07-19T00:53:48.716Z"
   },
   {
    "duration": 896,
    "start_time": "2024-07-19T00:53:50.165Z"
   },
   {
    "duration": 53,
    "start_time": "2024-07-19T00:53:51.065Z"
   },
   {
    "duration": 156,
    "start_time": "2024-07-19T00:53:51.122Z"
   },
   {
    "duration": 39,
    "start_time": "2024-07-19T00:53:51.282Z"
   },
   {
    "duration": 6,
    "start_time": "2024-07-19T00:53:51.324Z"
   },
   {
    "duration": 35,
    "start_time": "2024-07-19T00:53:51.336Z"
   },
   {
    "duration": 29,
    "start_time": "2024-07-19T00:53:51.403Z"
   },
   {
    "duration": 5,
    "start_time": "2024-07-19T00:53:51.436Z"
   },
   {
    "duration": 6,
    "start_time": "2024-07-19T00:53:51.448Z"
   },
   {
    "duration": 166,
    "start_time": "2024-07-19T00:53:51.458Z"
   },
   {
    "duration": 215,
    "start_time": "2024-07-19T00:53:51.628Z"
   },
   {
    "duration": 89,
    "start_time": "2024-07-19T00:53:51.847Z"
   },
   {
    "duration": 218,
    "start_time": "2024-07-19T00:53:51.938Z"
   },
   {
    "duration": 5,
    "start_time": "2024-07-19T00:53:52.162Z"
   },
   {
    "duration": 4,
    "start_time": "2024-07-19T00:53:52.170Z"
   },
   {
    "duration": 26,
    "start_time": "2024-07-19T00:53:52.177Z"
   },
   {
    "duration": 348,
    "start_time": "2024-07-19T01:02:20.308Z"
   },
   {
    "duration": 27,
    "start_time": "2024-07-19T01:02:21.251Z"
   },
   {
    "duration": 35,
    "start_time": "2024-07-19T01:02:24.597Z"
   },
   {
    "duration": 338,
    "start_time": "2024-07-19T01:37:51.311Z"
   },
   {
    "duration": 1405,
    "start_time": "2024-07-19T01:38:21.948Z"
   },
   {
    "duration": 942,
    "start_time": "2024-07-19T01:38:23.356Z"
   },
   {
    "duration": 49,
    "start_time": "2024-07-19T01:38:25.032Z"
   },
   {
    "duration": 182,
    "start_time": "2024-07-19T01:38:25.807Z"
   },
   {
    "duration": 28,
    "start_time": "2024-07-19T01:38:26.752Z"
   },
   {
    "duration": 5,
    "start_time": "2024-07-19T01:38:27.842Z"
   },
   {
    "duration": 35,
    "start_time": "2024-07-19T01:38:29.650Z"
   },
   {
    "duration": 28,
    "start_time": "2024-07-19T01:38:30.293Z"
   },
   {
    "duration": 6,
    "start_time": "2024-07-19T01:38:31.039Z"
   },
   {
    "duration": 7,
    "start_time": "2024-07-19T01:38:32.195Z"
   },
   {
    "duration": 116,
    "start_time": "2024-07-19T01:38:32.987Z"
   },
   {
    "duration": 139,
    "start_time": "2024-07-19T01:38:34.468Z"
   },
   {
    "duration": 75,
    "start_time": "2024-07-19T01:38:48.281Z"
   },
   {
    "duration": 211,
    "start_time": "2024-07-19T01:38:53.743Z"
   },
   {
    "duration": 166,
    "start_time": "2024-07-19T01:39:02.829Z"
   },
   {
    "duration": 127,
    "start_time": "2024-07-19T01:39:16.738Z"
   },
   {
    "duration": 132,
    "start_time": "2024-07-19T01:39:32.238Z"
   },
   {
    "duration": 137,
    "start_time": "2024-07-19T01:39:33.925Z"
   },
   {
    "duration": 132,
    "start_time": "2024-07-19T01:39:34.569Z"
   },
   {
    "duration": 28,
    "start_time": "2024-07-19T01:39:45.822Z"
   },
   {
    "duration": 781,
    "start_time": "2024-07-19T01:40:07.735Z"
   },
   {
    "duration": 422,
    "start_time": "2024-07-19T01:40:34.586Z"
   },
   {
    "duration": 352,
    "start_time": "2024-07-19T01:41:38.152Z"
   },
   {
    "duration": 22,
    "start_time": "2024-07-19T01:41:42.156Z"
   },
   {
    "duration": 25,
    "start_time": "2024-07-19T01:41:43.149Z"
   },
   {
    "duration": 394,
    "start_time": "2024-07-19T01:42:42.250Z"
   },
   {
    "duration": 34,
    "start_time": "2024-07-19T01:42:48.378Z"
   },
   {
    "duration": 1394,
    "start_time": "2024-07-19T01:43:24.131Z"
   },
   {
    "duration": 911,
    "start_time": "2024-07-19T01:43:29.230Z"
   },
   {
    "duration": 1395,
    "start_time": "2024-07-19T01:43:49.756Z"
   },
   {
    "duration": 798,
    "start_time": "2024-07-19T01:43:51.154Z"
   },
   {
    "duration": 1602,
    "start_time": "2024-07-19T01:43:56.148Z"
   },
   {
    "duration": 798,
    "start_time": "2024-07-19T01:43:57.757Z"
   },
   {
    "duration": 57,
    "start_time": "2024-07-19T01:43:58.558Z"
   },
   {
    "duration": 197,
    "start_time": "2024-07-19T01:43:58.618Z"
   },
   {
    "duration": 32,
    "start_time": "2024-07-19T01:43:58.821Z"
   },
   {
    "duration": 10,
    "start_time": "2024-07-19T01:43:58.857Z"
   },
   {
    "duration": 68,
    "start_time": "2024-07-19T01:43:58.870Z"
   },
   {
    "duration": 30,
    "start_time": "2024-07-19T01:43:58.942Z"
   },
   {
    "duration": 31,
    "start_time": "2024-07-19T01:43:58.975Z"
   },
   {
    "duration": 9,
    "start_time": "2024-07-19T01:43:59.010Z"
   },
   {
    "duration": 141,
    "start_time": "2024-07-19T01:43:59.022Z"
   },
   {
    "duration": 177,
    "start_time": "2024-07-19T01:43:59.166Z"
   },
   {
    "duration": 86,
    "start_time": "2024-07-19T01:43:59.347Z"
   },
   {
    "duration": 211,
    "start_time": "2024-07-19T01:43:59.442Z"
   },
   {
    "duration": 9,
    "start_time": "2024-07-19T01:43:59.659Z"
   },
   {
    "duration": 4,
    "start_time": "2024-07-19T01:43:59.674Z"
   },
   {
    "duration": 21,
    "start_time": "2024-07-19T01:43:59.682Z"
   },
   {
    "duration": 162,
    "start_time": "2024-07-19T01:43:59.708Z"
   },
   {
    "duration": 199,
    "start_time": "2024-07-19T01:43:59.874Z"
   },
   {
    "duration": 169,
    "start_time": "2024-07-19T01:44:00.076Z"
   },
   {
    "duration": 28,
    "start_time": "2024-07-19T01:44:00.248Z"
   },
   {
    "duration": 41,
    "start_time": "2024-07-19T01:44:00.303Z"
   },
   {
    "duration": 242,
    "start_time": "2024-07-19T01:44:00.347Z"
   },
   {
    "duration": 1477,
    "start_time": "2024-07-19T01:44:48.687Z"
   },
   {
    "duration": 863,
    "start_time": "2024-07-19T01:44:50.169Z"
   },
   {
    "duration": 49,
    "start_time": "2024-07-19T01:44:51.036Z"
   },
   {
    "duration": 158,
    "start_time": "2024-07-19T01:44:51.602Z"
   },
   {
    "duration": 28,
    "start_time": "2024-07-19T01:44:52.464Z"
   },
   {
    "duration": 6,
    "start_time": "2024-07-19T01:44:53.881Z"
   },
   {
    "duration": 37,
    "start_time": "2024-07-19T01:44:55.662Z"
   },
   {
    "duration": 29,
    "start_time": "2024-07-19T01:44:56.190Z"
   },
   {
    "duration": 6,
    "start_time": "2024-07-19T01:44:56.618Z"
   },
   {
    "duration": 6,
    "start_time": "2024-07-19T01:44:57.085Z"
   },
   {
    "duration": 185,
    "start_time": "2024-07-19T01:44:57.797Z"
   },
   {
    "duration": 154,
    "start_time": "2024-07-19T01:44:58.879Z"
   },
   {
    "duration": 207,
    "start_time": "2024-07-19T01:45:14.626Z"
   },
   {
    "duration": 9,
    "start_time": "2024-07-19T01:45:15.325Z"
   },
   {
    "duration": 127,
    "start_time": "2024-07-19T01:45:22.487Z"
   },
   {
    "duration": 155,
    "start_time": "2024-07-19T01:45:24.232Z"
   },
   {
    "duration": 125,
    "start_time": "2024-07-19T01:45:25.380Z"
   },
   {
    "duration": 30,
    "start_time": "2024-07-19T01:45:29.551Z"
   },
   {
    "duration": 43,
    "start_time": "2024-07-19T01:45:34.424Z"
   },
   {
    "duration": 238,
    "start_time": "2024-07-19T01:45:37.646Z"
   },
   {
    "duration": 2410,
    "start_time": "2024-07-19T01:46:15.462Z"
   },
   {
    "duration": 3,
    "start_time": "2024-07-19T01:46:17.876Z"
   },
   {
    "duration": 6,
    "start_time": "2024-07-19T01:46:18.515Z"
   },
   {
    "duration": 19,
    "start_time": "2024-07-19T01:46:19.954Z"
   },
   {
    "duration": 22,
    "start_time": "2024-07-19T01:47:19.622Z"
   },
   {
    "duration": 36,
    "start_time": "2024-07-19T01:47:20.595Z"
   },
   {
    "duration": 27,
    "start_time": "2024-07-19T01:47:21.412Z"
   },
   {
    "duration": 25,
    "start_time": "2024-07-19T01:47:22.124Z"
   },
   {
    "duration": 9,
    "start_time": "2024-07-19T01:47:31.038Z"
   },
   {
    "duration": 4,
    "start_time": "2024-07-19T01:47:31.932Z"
   },
   {
    "duration": 1581,
    "start_time": "2024-07-19T01:47:33.492Z"
   },
   {
    "duration": 356,
    "start_time": "2024-07-19T01:48:50.039Z"
   },
   {
    "duration": 23,
    "start_time": "2024-07-19T01:48:50.918Z"
   },
   {
    "duration": 343,
    "start_time": "2024-07-19T01:49:10.574Z"
   },
   {
    "duration": 23,
    "start_time": "2024-07-19T01:49:11.547Z"
   },
   {
    "duration": 1569,
    "start_time": "2024-07-19T01:49:17.700Z"
   },
   {
    "duration": 817,
    "start_time": "2024-07-19T01:49:19.273Z"
   },
   {
    "duration": 57,
    "start_time": "2024-07-19T01:49:20.094Z"
   },
   {
    "duration": 219,
    "start_time": "2024-07-19T01:49:20.155Z"
   },
   {
    "duration": 45,
    "start_time": "2024-07-19T01:49:20.377Z"
   },
   {
    "duration": 5,
    "start_time": "2024-07-19T01:49:22.093Z"
   },
   {
    "duration": 37,
    "start_time": "2024-07-19T01:49:23.644Z"
   },
   {
    "duration": 31,
    "start_time": "2024-07-19T01:49:24.213Z"
   },
   {
    "duration": 6,
    "start_time": "2024-07-19T01:49:24.864Z"
   },
   {
    "duration": 6,
    "start_time": "2024-07-19T01:49:25.543Z"
   },
   {
    "duration": 129,
    "start_time": "2024-07-19T01:49:26.053Z"
   },
   {
    "duration": 157,
    "start_time": "2024-07-19T01:49:26.824Z"
   },
   {
    "duration": 79,
    "start_time": "2024-07-19T01:49:27.456Z"
   },
   {
    "duration": 206,
    "start_time": "2024-07-19T01:49:29.841Z"
   },
   {
    "duration": 6,
    "start_time": "2024-07-19T01:49:30.532Z"
   },
   {
    "duration": 3,
    "start_time": "2024-07-19T01:49:31.276Z"
   },
   {
    "duration": 6,
    "start_time": "2024-07-19T01:49:32.309Z"
   },
   {
    "duration": 119,
    "start_time": "2024-07-19T01:49:34.673Z"
   },
   {
    "duration": 179,
    "start_time": "2024-07-19T01:49:35.347Z"
   },
   {
    "duration": 114,
    "start_time": "2024-07-19T01:49:36.220Z"
   },
   {
    "duration": 29,
    "start_time": "2024-07-19T01:49:36.958Z"
   },
   {
    "duration": 3,
    "start_time": "2024-07-19T01:49:47.775Z"
   },
   {
    "duration": 4,
    "start_time": "2024-07-19T01:50:00.980Z"
   },
   {
    "duration": 4,
    "start_time": "2024-07-19T01:50:10.384Z"
   },
   {
    "duration": 148,
    "start_time": "2024-07-19T01:50:13.174Z"
   },
   {
    "duration": 1352,
    "start_time": "2024-07-19T01:50:14.244Z"
   },
   {
    "duration": 3,
    "start_time": "2024-07-19T01:50:15.601Z"
   },
   {
    "duration": 6,
    "start_time": "2024-07-19T01:50:15.826Z"
   },
   {
    "duration": 19,
    "start_time": "2024-07-19T01:50:16.579Z"
   },
   {
    "duration": 21,
    "start_time": "2024-07-19T01:50:17.378Z"
   },
   {
    "duration": 29,
    "start_time": "2024-07-19T01:50:17.878Z"
   },
   {
    "duration": 21,
    "start_time": "2024-07-19T01:50:18.444Z"
   },
   {
    "duration": 21,
    "start_time": "2024-07-19T01:50:18.899Z"
   },
   {
    "duration": 6,
    "start_time": "2024-07-19T01:50:21.196Z"
   },
   {
    "duration": 4,
    "start_time": "2024-07-19T01:50:21.925Z"
   },
   {
    "duration": 14235,
    "start_time": "2024-07-19T01:50:22.724Z"
   },
   {
    "duration": 85,
    "start_time": "2024-07-19T01:50:43.854Z"
   },
   {
    "duration": 4,
    "start_time": "2024-07-19T01:51:15.244Z"
   },
   {
    "duration": 1125,
    "start_time": "2024-07-19T01:51:38.215Z"
   },
   {
    "duration": 486,
    "start_time": "2024-07-19T01:51:39.343Z"
   },
   {
    "duration": 29,
    "start_time": "2024-07-19T01:51:52.817Z"
   },
   {
    "duration": 354,
    "start_time": "2024-07-19T01:52:55.925Z"
   },
   {
    "duration": 136,
    "start_time": "2024-07-19T01:52:57.706Z"
   },
   {
    "duration": 1351,
    "start_time": "2024-07-19T01:53:21.331Z"
   },
   {
    "duration": 985,
    "start_time": "2024-07-19T01:53:22.686Z"
   },
   {
    "duration": 56,
    "start_time": "2024-07-19T01:53:23.674Z"
   },
   {
    "duration": 169,
    "start_time": "2024-07-19T01:53:23.734Z"
   },
   {
    "duration": 29,
    "start_time": "2024-07-19T01:53:23.908Z"
   },
   {
    "duration": 6,
    "start_time": "2024-07-19T01:53:23.941Z"
   },
   {
    "duration": 74,
    "start_time": "2024-07-19T01:53:23.952Z"
   },
   {
    "duration": 34,
    "start_time": "2024-07-19T01:53:24.033Z"
   },
   {
    "duration": 30,
    "start_time": "2024-07-19T01:53:24.073Z"
   },
   {
    "duration": 9,
    "start_time": "2024-07-19T01:53:24.106Z"
   },
   {
    "duration": 166,
    "start_time": "2024-07-19T01:53:24.119Z"
   },
   {
    "duration": 150,
    "start_time": "2024-07-19T01:53:24.295Z"
   },
   {
    "duration": 76,
    "start_time": "2024-07-19T01:53:24.449Z"
   },
   {
    "duration": 206,
    "start_time": "2024-07-19T01:53:24.539Z"
   },
   {
    "duration": 6,
    "start_time": "2024-07-19T01:53:24.749Z"
   },
   {
    "duration": 5,
    "start_time": "2024-07-19T01:53:24.759Z"
   },
   {
    "duration": 33,
    "start_time": "2024-07-19T01:53:24.768Z"
   },
   {
    "duration": 154,
    "start_time": "2024-07-19T01:53:24.805Z"
   },
   {
    "duration": 184,
    "start_time": "2024-07-19T01:53:24.962Z"
   },
   {
    "duration": 121,
    "start_time": "2024-07-19T01:53:25.149Z"
   },
   {
    "duration": 44,
    "start_time": "2024-07-19T01:53:25.274Z"
   },
   {
    "duration": 5,
    "start_time": "2024-07-19T01:53:25.321Z"
   },
   {
    "duration": 8,
    "start_time": "2024-07-19T01:53:25.331Z"
   },
   {
    "duration": 5,
    "start_time": "2024-07-19T01:53:25.343Z"
   },
   {
    "duration": 489,
    "start_time": "2024-07-19T01:53:25.352Z"
   },
   {
    "duration": 0,
    "start_time": "2024-07-19T01:53:25.844Z"
   },
   {
    "duration": 0,
    "start_time": "2024-07-19T01:53:25.847Z"
   },
   {
    "duration": 0,
    "start_time": "2024-07-19T01:53:25.849Z"
   },
   {
    "duration": 0,
    "start_time": "2024-07-19T01:53:25.852Z"
   },
   {
    "duration": 0,
    "start_time": "2024-07-19T01:53:25.855Z"
   },
   {
    "duration": 0,
    "start_time": "2024-07-19T01:53:25.857Z"
   },
   {
    "duration": 0,
    "start_time": "2024-07-19T01:53:25.860Z"
   },
   {
    "duration": 0,
    "start_time": "2024-07-19T01:53:25.863Z"
   },
   {
    "duration": 0,
    "start_time": "2024-07-19T01:53:25.865Z"
   },
   {
    "duration": 0,
    "start_time": "2024-07-19T01:53:25.868Z"
   },
   {
    "duration": 0,
    "start_time": "2024-07-19T01:53:25.902Z"
   },
   {
    "duration": 0,
    "start_time": "2024-07-19T01:53:25.904Z"
   },
   {
    "duration": 0,
    "start_time": "2024-07-19T01:53:25.906Z"
   },
   {
    "duration": 0,
    "start_time": "2024-07-19T01:53:25.907Z"
   },
   {
    "duration": 0,
    "start_time": "2024-07-19T01:53:25.909Z"
   },
   {
    "duration": 7,
    "start_time": "2024-07-19T01:53:39.695Z"
   },
   {
    "duration": 4,
    "start_time": "2024-07-19T01:53:40.463Z"
   },
   {
    "duration": 14049,
    "start_time": "2024-07-19T01:53:41.378Z"
   },
   {
    "duration": 41,
    "start_time": "2024-07-19T01:54:12.706Z"
   },
   {
    "duration": 4,
    "start_time": "2024-07-19T01:54:55.607Z"
   },
   {
    "duration": 180,
    "start_time": "2024-07-19T01:57:22.407Z"
   },
   {
    "duration": 1414,
    "start_time": "2024-07-19T02:01:03.129Z"
   },
   {
    "duration": 1168,
    "start_time": "2024-07-19T02:10:00.860Z"
   },
   {
    "duration": 468,
    "start_time": "2024-07-19T02:10:02.113Z"
   },
   {
    "duration": 1536,
    "start_time": "2024-07-19T02:10:40.673Z"
   },
   {
    "duration": 834,
    "start_time": "2024-07-19T02:10:42.213Z"
   },
   {
    "duration": 56,
    "start_time": "2024-07-19T02:10:43.050Z"
   },
   {
    "duration": 156,
    "start_time": "2024-07-19T02:10:43.109Z"
   },
   {
    "duration": 39,
    "start_time": "2024-07-19T02:10:43.271Z"
   },
   {
    "duration": 5,
    "start_time": "2024-07-19T02:10:43.314Z"
   },
   {
    "duration": 33,
    "start_time": "2024-07-19T02:10:43.322Z"
   },
   {
    "duration": 59,
    "start_time": "2024-07-19T02:10:43.358Z"
   },
   {
    "duration": 7,
    "start_time": "2024-07-19T02:10:43.420Z"
   },
   {
    "duration": 6,
    "start_time": "2024-07-19T02:10:43.430Z"
   },
   {
    "duration": 145,
    "start_time": "2024-07-19T02:10:43.439Z"
   },
   {
    "duration": 154,
    "start_time": "2024-07-19T02:10:43.587Z"
   },
   {
    "duration": 90,
    "start_time": "2024-07-19T02:10:43.745Z"
   },
   {
    "duration": 223,
    "start_time": "2024-07-19T02:10:43.843Z"
   },
   {
    "duration": 6,
    "start_time": "2024-07-19T02:10:44.069Z"
   },
   {
    "duration": 24,
    "start_time": "2024-07-19T02:10:44.078Z"
   },
   {
    "duration": 5,
    "start_time": "2024-07-19T02:10:44.104Z"
   },
   {
    "duration": 131,
    "start_time": "2024-07-19T02:10:44.112Z"
   },
   {
    "duration": 165,
    "start_time": "2024-07-19T02:10:44.246Z"
   },
   {
    "duration": 120,
    "start_time": "2024-07-19T02:10:44.414Z"
   },
   {
    "duration": 26,
    "start_time": "2024-07-19T02:10:44.537Z"
   },
   {
    "duration": 4,
    "start_time": "2024-07-19T02:10:44.566Z"
   },
   {
    "duration": 29,
    "start_time": "2024-07-19T02:10:44.574Z"
   },
   {
    "duration": 4,
    "start_time": "2024-07-19T02:10:44.606Z"
   },
   {
    "duration": 3,
    "start_time": "2024-07-19T02:10:44.613Z"
   },
   {
    "duration": 1307,
    "start_time": "2024-07-19T02:10:44.620Z"
   },
   {
    "duration": 11,
    "start_time": "2024-07-19T02:10:45.931Z"
   },
   {
    "duration": 7,
    "start_time": "2024-07-19T02:10:45.946Z"
   },
   {
    "duration": 18,
    "start_time": "2024-07-19T02:10:45.957Z"
   },
   {
    "duration": 22,
    "start_time": "2024-07-19T02:10:46.004Z"
   },
   {
    "duration": 25,
    "start_time": "2024-07-19T02:10:46.030Z"
   },
   {
    "duration": 57,
    "start_time": "2024-07-19T02:10:46.058Z"
   },
   {
    "duration": 17,
    "start_time": "2024-07-19T02:10:46.119Z"
   },
   {
    "duration": 5,
    "start_time": "2024-07-19T02:10:46.139Z"
   },
   {
    "duration": 3,
    "start_time": "2024-07-19T02:10:46.148Z"
   },
   {
    "duration": 14014,
    "start_time": "2024-07-19T02:10:46.155Z"
   },
   {
    "duration": 5,
    "start_time": "2024-07-19T02:11:00.173Z"
   },
   {
    "duration": 222,
    "start_time": "2024-07-19T02:11:00.182Z"
   },
   {
    "duration": 42,
    "start_time": "2024-07-19T02:11:00.408Z"
   },
   {
    "duration": 334,
    "start_time": "2024-07-19T02:18:43.125Z"
   },
   {
    "duration": 1135,
    "start_time": "2024-07-19T02:18:49.443Z"
   },
   {
    "duration": 115,
    "start_time": "2024-07-19T02:18:50.737Z"
   },
   {
    "duration": 33,
    "start_time": "2024-07-19T02:18:53.041Z"
   },
   {
    "duration": 365,
    "start_time": "2024-07-19T02:19:01.807Z"
   },
   {
    "duration": 975,
    "start_time": "2024-07-19T02:19:02.711Z"
   },
   {
    "duration": 58,
    "start_time": "2024-07-19T02:19:04.708Z"
   },
   {
    "duration": 200,
    "start_time": "2024-07-19T02:19:05.629Z"
   },
   {
    "duration": 28,
    "start_time": "2024-07-19T02:19:06.684Z"
   },
   {
    "duration": 5,
    "start_time": "2024-07-19T02:19:07.882Z"
   },
   {
    "duration": 46,
    "start_time": "2024-07-19T02:19:09.585Z"
   },
   {
    "duration": 27,
    "start_time": "2024-07-19T02:19:10.269Z"
   },
   {
    "duration": 6,
    "start_time": "2024-07-19T02:19:10.781Z"
   },
   {
    "duration": 10,
    "start_time": "2024-07-19T02:19:11.233Z"
   },
   {
    "duration": 146,
    "start_time": "2024-07-19T02:19:11.760Z"
   },
   {
    "duration": 172,
    "start_time": "2024-07-19T02:19:12.415Z"
   },
   {
    "duration": 88,
    "start_time": "2024-07-19T02:19:12.905Z"
   },
   {
    "duration": 217,
    "start_time": "2024-07-19T02:19:18.617Z"
   },
   {
    "duration": 5,
    "start_time": "2024-07-19T02:19:19.669Z"
   },
   {
    "duration": 147,
    "start_time": "2024-07-19T02:19:26.571Z"
   },
   {
    "duration": 177,
    "start_time": "2024-07-19T02:19:27.426Z"
   },
   {
    "duration": 134,
    "start_time": "2024-07-19T02:19:28.353Z"
   },
   {
    "duration": 29,
    "start_time": "2024-07-19T02:19:29.450Z"
   },
   {
    "duration": 1515,
    "start_time": "2024-07-19T02:19:31.573Z"
   },
   {
    "duration": 14,
    "start_time": "2024-07-19T02:19:33.091Z"
   },
   {
    "duration": 22,
    "start_time": "2024-07-19T02:19:33.973Z"
   },
   {
    "duration": 22,
    "start_time": "2024-07-19T02:19:35.272Z"
   },
   {
    "duration": 29,
    "start_time": "2024-07-19T02:19:36.116Z"
   },
   {
    "duration": 23,
    "start_time": "2024-07-19T02:19:36.678Z"
   },
   {
    "duration": 20,
    "start_time": "2024-07-19T02:19:37.540Z"
   },
   {
    "duration": 6,
    "start_time": "2024-07-19T02:19:44.392Z"
   },
   {
    "duration": 5,
    "start_time": "2024-07-19T02:19:45.145Z"
   },
   {
    "duration": 15105,
    "start_time": "2024-07-19T02:19:46.185Z"
   },
   {
    "duration": 6,
    "start_time": "2024-07-19T02:20:05.148Z"
   },
   {
    "duration": 182,
    "start_time": "2024-07-19T02:20:06.177Z"
   },
   {
    "duration": 37,
    "start_time": "2024-07-19T02:20:07.241Z"
   },
   {
    "duration": 376,
    "start_time": "2024-07-19T02:22:17.627Z"
   },
   {
    "duration": 1192,
    "start_time": "2024-07-19T02:22:27.387Z"
   },
   {
    "duration": 142,
    "start_time": "2024-07-19T02:22:28.933Z"
   },
   {
    "duration": 35,
    "start_time": "2024-07-19T02:22:30.681Z"
   },
   {
    "duration": 29,
    "start_time": "2024-07-19T02:22:31.978Z"
   },
   {
    "duration": 1065,
    "start_time": "2024-07-19T02:23:37.782Z"
   },
   {
    "duration": 518,
    "start_time": "2024-07-19T02:23:38.852Z"
   },
   {
    "duration": 0,
    "start_time": "2024-07-19T02:23:39.375Z"
   },
   {
    "duration": 35,
    "start_time": "2024-07-19T02:23:41.163Z"
   },
   {
    "duration": 96,
    "start_time": "2024-07-19T02:24:25.793Z"
   },
   {
    "duration": 7,
    "start_time": "2024-07-19T02:24:29.196Z"
   },
   {
    "duration": 173,
    "start_time": "2024-07-19T02:24:42.094Z"
   },
   {
    "duration": 1365,
    "start_time": "2024-07-19T02:24:49.784Z"
   },
   {
    "duration": 820,
    "start_time": "2024-07-19T02:24:51.152Z"
   },
   {
    "duration": 44,
    "start_time": "2024-07-19T02:24:52.001Z"
   },
   {
    "duration": 145,
    "start_time": "2024-07-19T02:24:52.701Z"
   },
   {
    "duration": 25,
    "start_time": "2024-07-19T02:24:53.449Z"
   },
   {
    "duration": 5,
    "start_time": "2024-07-19T02:24:54.477Z"
   },
   {
    "duration": 38,
    "start_time": "2024-07-19T02:24:55.939Z"
   },
   {
    "duration": 26,
    "start_time": "2024-07-19T02:24:56.538Z"
   },
   {
    "duration": 5,
    "start_time": "2024-07-19T02:24:56.971Z"
   },
   {
    "duration": 5,
    "start_time": "2024-07-19T02:24:57.300Z"
   },
   {
    "duration": 115,
    "start_time": "2024-07-19T02:24:57.661Z"
   },
   {
    "duration": 146,
    "start_time": "2024-07-19T02:24:58.034Z"
   },
   {
    "duration": 65,
    "start_time": "2024-07-19T02:24:58.435Z"
   },
   {
    "duration": 165,
    "start_time": "2024-07-19T02:25:00.396Z"
   },
   {
    "duration": 6,
    "start_time": "2024-07-19T02:25:00.849Z"
   },
   {
    "duration": 4,
    "start_time": "2024-07-19T02:25:01.283Z"
   },
   {
    "duration": 6,
    "start_time": "2024-07-19T02:25:01.692Z"
   },
   {
    "duration": 116,
    "start_time": "2024-07-19T02:25:03.227Z"
   },
   {
    "duration": 154,
    "start_time": "2024-07-19T02:25:03.540Z"
   },
   {
    "duration": 113,
    "start_time": "2024-07-19T02:25:04.046Z"
   },
   {
    "duration": 28,
    "start_time": "2024-07-19T02:25:04.465Z"
   },
   {
    "duration": 1298,
    "start_time": "2024-07-19T02:25:04.789Z"
   },
   {
    "duration": 22,
    "start_time": "2024-07-19T02:25:06.092Z"
   },
   {
    "duration": 16,
    "start_time": "2024-07-19T02:25:06.314Z"
   },
   {
    "duration": 21,
    "start_time": "2024-07-19T02:25:07.009Z"
   },
   {
    "duration": 28,
    "start_time": "2024-07-19T02:25:07.682Z"
   },
   {
    "duration": 20,
    "start_time": "2024-07-19T02:25:08.249Z"
   },
   {
    "duration": 17,
    "start_time": "2024-07-19T02:25:08.857Z"
   },
   {
    "duration": 7,
    "start_time": "2024-07-19T02:25:11.984Z"
   },
   {
    "duration": 4,
    "start_time": "2024-07-19T02:25:12.429Z"
   },
   {
    "duration": 113,
    "start_time": "2024-07-19T02:25:20.589Z"
   },
   {
    "duration": 7,
    "start_time": "2024-07-19T02:25:23.080Z"
   },
   {
    "duration": 421,
    "start_time": "2024-07-19T02:25:30.473Z"
   },
   {
    "duration": 136,
    "start_time": "2024-07-19T02:25:48.072Z"
   },
   {
    "duration": 62,
    "start_time": "2024-07-19T02:26:00.847Z"
   },
   {
    "duration": 113,
    "start_time": "2024-07-19T02:26:13.695Z"
   },
   {
    "duration": 3,
    "start_time": "2024-07-19T02:26:35.205Z"
   },
   {
    "duration": 1014,
    "start_time": "2024-07-19T02:28:15.300Z"
   },
   {
    "duration": 453,
    "start_time": "2024-07-19T02:28:16.862Z"
   },
   {
    "duration": 1367,
    "start_time": "2024-07-19T02:30:02.384Z"
   },
   {
    "duration": 803,
    "start_time": "2024-07-19T02:30:03.755Z"
   },
   {
    "duration": 45,
    "start_time": "2024-07-19T02:30:04.749Z"
   },
   {
    "duration": 158,
    "start_time": "2024-07-19T02:30:05.290Z"
   },
   {
    "duration": 27,
    "start_time": "2024-07-19T02:30:05.799Z"
   },
   {
    "duration": 5,
    "start_time": "2024-07-19T02:30:07.057Z"
   },
   {
    "duration": 32,
    "start_time": "2024-07-19T02:30:08.258Z"
   },
   {
    "duration": 29,
    "start_time": "2024-07-19T02:30:08.496Z"
   },
   {
    "duration": 6,
    "start_time": "2024-07-19T02:30:09.059Z"
   },
   {
    "duration": 5,
    "start_time": "2024-07-19T02:30:09.344Z"
   },
   {
    "duration": 131,
    "start_time": "2024-07-19T02:30:09.930Z"
   },
   {
    "duration": 136,
    "start_time": "2024-07-19T02:30:10.411Z"
   },
   {
    "duration": 74,
    "start_time": "2024-07-19T02:30:10.870Z"
   },
   {
    "duration": 320,
    "start_time": "2024-07-19T02:30:12.940Z"
   },
   {
    "duration": 6,
    "start_time": "2024-07-19T02:30:13.426Z"
   },
   {
    "duration": 3,
    "start_time": "2024-07-19T02:30:13.925Z"
   },
   {
    "duration": 4,
    "start_time": "2024-07-19T02:30:15.244Z"
   },
   {
    "duration": 132,
    "start_time": "2024-07-19T02:30:16.735Z"
   },
   {
    "duration": 185,
    "start_time": "2024-07-19T02:30:17.547Z"
   },
   {
    "duration": 183,
    "start_time": "2024-07-19T02:30:18.046Z"
   },
   {
    "duration": 30,
    "start_time": "2024-07-19T02:30:19.017Z"
   },
   {
    "duration": 1403,
    "start_time": "2024-07-19T02:30:19.767Z"
   },
   {
    "duration": 6,
    "start_time": "2024-07-19T02:30:21.173Z"
   },
   {
    "duration": 27,
    "start_time": "2024-07-19T02:30:22.401Z"
   },
   {
    "duration": 37,
    "start_time": "2024-07-19T02:30:23.192Z"
   },
   {
    "duration": 25,
    "start_time": "2024-07-19T02:30:23.851Z"
   },
   {
    "duration": 25,
    "start_time": "2024-07-19T02:30:24.439Z"
   },
   {
    "duration": 25,
    "start_time": "2024-07-19T02:30:25.135Z"
   },
   {
    "duration": 4,
    "start_time": "2024-07-19T02:30:58.127Z"
   },
   {
    "duration": 286,
    "start_time": "2024-07-19T02:30:59.266Z"
   },
   {
    "duration": 37,
    "start_time": "2024-07-19T02:31:00.483Z"
   },
   {
    "duration": 332,
    "start_time": "2024-07-19T02:31:17.450Z"
   },
   {
    "duration": 38,
    "start_time": "2024-07-19T02:31:20.330Z"
   },
   {
    "duration": 23,
    "start_time": "2024-07-19T02:31:22.661Z"
   },
   {
    "duration": 1079,
    "start_time": "2024-07-19T02:31:29.736Z"
   },
   {
    "duration": 109,
    "start_time": "2024-07-19T02:31:30.821Z"
   },
   {
    "duration": 316,
    "start_time": "2024-07-19T02:31:48.870Z"
   },
   {
    "duration": 825,
    "start_time": "2024-07-19T02:31:49.523Z"
   },
   {
    "duration": 51,
    "start_time": "2024-07-19T02:31:50.604Z"
   },
   {
    "duration": 3,
    "start_time": "2024-07-19T02:32:00.951Z"
   },
   {
    "duration": 58,
    "start_time": "2024-07-19T02:32:02.055Z"
   },
   {
    "duration": 177,
    "start_time": "2024-07-19T02:32:13.283Z"
   },
   {
    "duration": 10,
    "start_time": "2024-07-19T02:32:13.968Z"
   },
   {
    "duration": 5,
    "start_time": "2024-07-19T02:32:15.059Z"
   },
   {
    "duration": 10,
    "start_time": "2024-07-19T02:32:15.280Z"
   },
   {
    "duration": 38,
    "start_time": "2024-07-19T02:32:16.683Z"
   },
   {
    "duration": 38,
    "start_time": "2024-07-19T02:32:17.454Z"
   },
   {
    "duration": 6,
    "start_time": "2024-07-19T02:32:26.781Z"
   },
   {
    "duration": 777,
    "start_time": "2024-07-19T02:32:27.448Z"
   },
   {
    "duration": 38,
    "start_time": "2024-07-19T02:32:28.597Z"
   },
   {
    "duration": 143,
    "start_time": "2024-07-19T02:32:29.470Z"
   },
   {
    "duration": 22,
    "start_time": "2024-07-19T02:32:29.905Z"
   },
   {
    "duration": 5,
    "start_time": "2024-07-19T02:32:30.803Z"
   },
   {
    "duration": 31,
    "start_time": "2024-07-19T02:32:32.644Z"
   },
   {
    "duration": 29,
    "start_time": "2024-07-19T02:32:33.121Z"
   },
   {
    "duration": 5,
    "start_time": "2024-07-19T02:32:33.632Z"
   },
   {
    "duration": 5,
    "start_time": "2024-07-19T02:32:34.118Z"
   },
   {
    "duration": 118,
    "start_time": "2024-07-19T02:32:34.657Z"
   },
   {
    "duration": 135,
    "start_time": "2024-07-19T02:32:35.138Z"
   },
   {
    "duration": 65,
    "start_time": "2024-07-19T02:32:35.680Z"
   },
   {
    "duration": 255,
    "start_time": "2024-07-19T02:32:37.446Z"
   },
   {
    "duration": 5,
    "start_time": "2024-07-19T02:32:38.405Z"
   },
   {
    "duration": 3,
    "start_time": "2024-07-19T02:32:38.896Z"
   },
   {
    "duration": 4,
    "start_time": "2024-07-19T02:32:39.746Z"
   },
   {
    "duration": 109,
    "start_time": "2024-07-19T02:32:41.261Z"
   },
   {
    "duration": 138,
    "start_time": "2024-07-19T02:32:41.797Z"
   },
   {
    "duration": 107,
    "start_time": "2024-07-19T02:32:42.308Z"
   },
   {
    "duration": 26,
    "start_time": "2024-07-19T02:32:42.942Z"
   },
   {
    "duration": 1270,
    "start_time": "2024-07-19T02:32:43.462Z"
   },
   {
    "duration": 9,
    "start_time": "2024-07-19T02:32:44.735Z"
   },
   {
    "duration": 16,
    "start_time": "2024-07-19T02:32:44.747Z"
   },
   {
    "duration": 20,
    "start_time": "2024-07-19T02:32:45.559Z"
   },
   {
    "duration": 22,
    "start_time": "2024-07-19T02:32:46.166Z"
   },
   {
    "duration": 21,
    "start_time": "2024-07-19T02:32:46.725Z"
   },
   {
    "duration": 17,
    "start_time": "2024-07-19T02:32:47.168Z"
   },
   {
    "duration": 3,
    "start_time": "2024-07-19T02:33:10.466Z"
   },
   {
    "duration": 0,
    "start_time": "2024-07-19T02:34:20.064Z"
   },
   {
    "duration": 888,
    "start_time": "2024-07-19T02:35:20.360Z"
   },
   {
    "duration": 4,
    "start_time": "2024-07-19T02:35:27.181Z"
   },
   {
    "duration": 439,
    "start_time": "2024-07-19T02:35:29.716Z"
   },
   {
    "duration": 40,
    "start_time": "2024-07-19T02:35:39.710Z"
   },
   {
    "duration": 1467,
    "start_time": "2024-07-19T02:35:45.516Z"
   },
   {
    "duration": 920,
    "start_time": "2024-07-19T02:35:46.987Z"
   },
   {
    "duration": 56,
    "start_time": "2024-07-19T02:35:47.911Z"
   },
   {
    "duration": 217,
    "start_time": "2024-07-19T02:35:47.970Z"
   },
   {
    "duration": 43,
    "start_time": "2024-07-19T02:35:48.204Z"
   },
   {
    "duration": 6,
    "start_time": "2024-07-19T02:35:48.251Z"
   },
   {
    "duration": 51,
    "start_time": "2024-07-19T02:35:48.261Z"
   },
   {
    "duration": 33,
    "start_time": "2024-07-19T02:35:48.317Z"
   },
   {
    "duration": 7,
    "start_time": "2024-07-19T02:35:48.354Z"
   },
   {
    "duration": 39,
    "start_time": "2024-07-19T02:35:48.365Z"
   },
   {
    "duration": 131,
    "start_time": "2024-07-19T02:35:48.408Z"
   },
   {
    "duration": 155,
    "start_time": "2024-07-19T02:35:48.544Z"
   },
   {
    "duration": 73,
    "start_time": "2024-07-19T02:35:48.703Z"
   },
   {
    "duration": 208,
    "start_time": "2024-07-19T02:35:48.784Z"
   },
   {
    "duration": 10,
    "start_time": "2024-07-19T02:35:48.995Z"
   },
   {
    "duration": 3,
    "start_time": "2024-07-19T02:35:49.009Z"
   },
   {
    "duration": 5,
    "start_time": "2024-07-19T02:35:49.016Z"
   },
   {
    "duration": 174,
    "start_time": "2024-07-19T02:35:49.025Z"
   },
   {
    "duration": 194,
    "start_time": "2024-07-19T02:35:49.203Z"
   },
   {
    "duration": 162,
    "start_time": "2024-07-19T02:35:49.400Z"
   },
   {
    "duration": 46,
    "start_time": "2024-07-19T02:35:49.565Z"
   },
   {
    "duration": 1525,
    "start_time": "2024-07-19T02:35:49.618Z"
   },
   {
    "duration": 7,
    "start_time": "2024-07-19T02:35:51.147Z"
   },
   {
    "duration": 43,
    "start_time": "2024-07-19T02:35:51.159Z"
   },
   {
    "duration": 32,
    "start_time": "2024-07-19T02:35:51.205Z"
   },
   {
    "duration": 56,
    "start_time": "2024-07-19T02:35:51.245Z"
   },
   {
    "duration": 28,
    "start_time": "2024-07-19T02:35:51.305Z"
   },
   {
    "duration": 19,
    "start_time": "2024-07-19T02:35:51.336Z"
   },
   {
    "duration": 6,
    "start_time": "2024-07-19T02:35:51.359Z"
   },
   {
    "duration": 5,
    "start_time": "2024-07-19T02:35:51.403Z"
   },
   {
    "duration": 14857,
    "start_time": "2024-07-19T02:35:51.411Z"
   },
   {
    "duration": 5,
    "start_time": "2024-07-19T02:36:06.272Z"
   },
   {
    "duration": 290,
    "start_time": "2024-07-19T02:36:06.280Z"
   },
   {
    "duration": 43,
    "start_time": "2024-07-19T02:36:06.572Z"
   },
   {
    "duration": 1163,
    "start_time": "2024-07-19T03:04:47.388Z"
   },
   {
    "duration": 502,
    "start_time": "2024-07-19T03:04:48.556Z"
   },
   {
    "duration": 34,
    "start_time": "2024-07-19T03:05:01.089Z"
   },
   {
    "duration": 1482,
    "start_time": "2024-07-19T03:06:08.549Z"
   },
   {
    "duration": 901,
    "start_time": "2024-07-19T03:06:10.038Z"
   },
   {
    "duration": 43,
    "start_time": "2024-07-19T03:06:10.944Z"
   },
   {
    "duration": 178,
    "start_time": "2024-07-19T03:06:11.001Z"
   },
   {
    "duration": 31,
    "start_time": "2024-07-19T03:06:11.443Z"
   },
   {
    "duration": 4,
    "start_time": "2024-07-19T03:06:12.546Z"
   },
   {
    "duration": 35,
    "start_time": "2024-07-19T03:06:13.946Z"
   },
   {
    "duration": 28,
    "start_time": "2024-07-19T03:06:14.451Z"
   },
   {
    "duration": 13,
    "start_time": "2024-07-19T03:06:15.012Z"
   },
   {
    "duration": 10,
    "start_time": "2024-07-19T03:06:15.440Z"
   },
   {
    "duration": 128,
    "start_time": "2024-07-19T03:06:16.144Z"
   },
   {
    "duration": 161,
    "start_time": "2024-07-19T03:06:16.666Z"
   },
   {
    "duration": 83,
    "start_time": "2024-07-19T03:06:18.253Z"
   },
   {
    "duration": 219,
    "start_time": "2024-07-19T03:06:19.953Z"
   },
   {
    "duration": 5,
    "start_time": "2024-07-19T03:06:20.559Z"
   },
   {
    "duration": 3,
    "start_time": "2024-07-19T03:06:21.174Z"
   },
   {
    "duration": 4,
    "start_time": "2024-07-19T03:06:21.897Z"
   },
   {
    "duration": 137,
    "start_time": "2024-07-19T03:06:23.933Z"
   },
   {
    "duration": 177,
    "start_time": "2024-07-19T03:06:24.751Z"
   },
   {
    "duration": 136,
    "start_time": "2024-07-19T03:06:25.740Z"
   },
   {
    "duration": 27,
    "start_time": "2024-07-19T03:06:26.663Z"
   },
   {
    "duration": 1401,
    "start_time": "2024-07-19T03:06:26.978Z"
   },
   {
    "duration": 7,
    "start_time": "2024-07-19T03:06:30.531Z"
   },
   {
    "duration": 25,
    "start_time": "2024-07-19T03:06:31.300Z"
   },
   {
    "duration": 23,
    "start_time": "2024-07-19T03:06:32.081Z"
   },
   {
    "duration": 36,
    "start_time": "2024-07-19T03:06:32.992Z"
   },
   {
    "duration": 26,
    "start_time": "2024-07-19T03:06:33.618Z"
   },
   {
    "duration": 22,
    "start_time": "2024-07-19T03:06:34.015Z"
   },
   {
    "duration": 1278,
    "start_time": "2024-07-19T03:07:09.481Z"
   },
   {
    "duration": 6,
    "start_time": "2024-07-19T03:07:10.765Z"
   },
   {
    "duration": 34,
    "start_time": "2024-07-19T03:07:10.775Z"
   },
   {
    "duration": 20,
    "start_time": "2024-07-19T03:07:11.625Z"
   },
   {
    "duration": 24,
    "start_time": "2024-07-19T03:07:12.237Z"
   },
   {
    "duration": 20,
    "start_time": "2024-07-19T03:07:12.657Z"
   },
   {
    "duration": 21,
    "start_time": "2024-07-19T03:07:13.011Z"
   },
   {
    "duration": 4,
    "start_time": "2024-07-19T03:07:47.530Z"
   },
   {
    "duration": 227,
    "start_time": "2024-07-19T03:07:48.907Z"
   },
   {
    "duration": 36,
    "start_time": "2024-07-19T03:07:51.064Z"
   },
   {
    "duration": 80,
    "start_time": "2024-07-19T03:08:00.369Z"
   },
   {
    "duration": 70,
    "start_time": "2024-07-19T03:08:06.246Z"
   },
   {
    "duration": 4,
    "start_time": "2024-07-19T03:08:31.037Z"
   },
   {
    "duration": 66224,
    "start_time": "2024-07-19T03:11:53.900Z"
   },
   {
    "duration": 55,
    "start_time": "2024-07-19T03:13:00.128Z"
   },
   {
    "duration": 1437,
    "start_time": "2024-07-20T03:08:02.719Z"
   },
   {
    "duration": 909,
    "start_time": "2024-07-20T03:08:04.160Z"
   },
   {
    "duration": 43,
    "start_time": "2024-07-20T03:08:05.810Z"
   },
   {
    "duration": 153,
    "start_time": "2024-07-20T03:08:07.687Z"
   },
   {
    "duration": 29,
    "start_time": "2024-07-20T03:08:08.621Z"
   },
   {
    "duration": 6,
    "start_time": "2024-07-20T03:08:10.530Z"
   },
   {
    "duration": 38,
    "start_time": "2024-07-20T03:08:13.228Z"
   },
   {
    "duration": 28,
    "start_time": "2024-07-20T03:08:15.487Z"
   },
   {
    "duration": 7,
    "start_time": "2024-07-20T03:08:16.431Z"
   },
   {
    "duration": 5,
    "start_time": "2024-07-20T03:08:17.168Z"
   },
   {
    "duration": 136,
    "start_time": "2024-07-20T03:08:17.856Z"
   },
   {
    "duration": 134,
    "start_time": "2024-07-20T03:08:19.596Z"
   },
   {
    "duration": 64,
    "start_time": "2024-07-20T03:08:20.488Z"
   },
   {
    "duration": 225,
    "start_time": "2024-07-20T03:09:07.376Z"
   },
   {
    "duration": 6,
    "start_time": "2024-07-20T03:09:09.413Z"
   },
   {
    "duration": 117,
    "start_time": "2024-07-20T03:09:15.819Z"
   },
   {
    "duration": 156,
    "start_time": "2024-07-20T03:09:17.335Z"
   },
   {
    "duration": 116,
    "start_time": "2024-07-20T03:09:18.052Z"
   },
   {
    "duration": 30,
    "start_time": "2024-07-20T03:09:19.856Z"
   },
   {
    "duration": 1286,
    "start_time": "2024-07-20T03:09:39.077Z"
   },
   {
    "duration": 6,
    "start_time": "2024-07-20T03:09:42.598Z"
   },
   {
    "duration": 20,
    "start_time": "2024-07-20T03:09:43.517Z"
   },
   {
    "duration": 24,
    "start_time": "2024-07-20T03:10:14.643Z"
   },
   {
    "duration": 24,
    "start_time": "2024-07-20T03:10:15.215Z"
   },
   {
    "duration": 21,
    "start_time": "2024-07-20T03:10:18.630Z"
   },
   {
    "duration": 20,
    "start_time": "2024-07-20T03:10:20.706Z"
   },
   {
    "duration": 34,
    "start_time": "2024-07-20T03:14:04.546Z"
   },
   {
    "duration": 1379,
    "start_time": "2024-07-20T03:16:00.638Z"
   },
   {
    "duration": 778,
    "start_time": "2024-07-20T03:16:02.021Z"
   },
   {
    "duration": 48,
    "start_time": "2024-07-20T03:16:02.802Z"
   },
   {
    "duration": 170,
    "start_time": "2024-07-20T03:16:02.853Z"
   },
   {
    "duration": 39,
    "start_time": "2024-07-20T03:16:03.037Z"
   },
   {
    "duration": 4,
    "start_time": "2024-07-20T03:16:03.081Z"
   },
   {
    "duration": 57,
    "start_time": "2024-07-20T03:16:03.089Z"
   },
   {
    "duration": 30,
    "start_time": "2024-07-20T03:16:03.152Z"
   },
   {
    "duration": 30,
    "start_time": "2024-07-20T03:16:03.185Z"
   },
   {
    "duration": 5,
    "start_time": "2024-07-20T03:16:03.218Z"
   },
   {
    "duration": 187,
    "start_time": "2024-07-20T03:16:03.226Z"
   },
   {
    "duration": 156,
    "start_time": "2024-07-20T03:16:03.417Z"
   },
   {
    "duration": 81,
    "start_time": "2024-07-20T03:16:03.577Z"
   },
   {
    "duration": 205,
    "start_time": "2024-07-20T03:17:28.139Z"
   },
   {
    "duration": 142,
    "start_time": "2024-07-20T03:17:31.387Z"
   },
   {
    "duration": 173,
    "start_time": "2024-07-20T03:17:32.207Z"
   },
   {
    "duration": 129,
    "start_time": "2024-07-20T03:17:33.139Z"
   },
   {
    "duration": 30,
    "start_time": "2024-07-20T03:17:35.184Z"
   },
   {
    "duration": 128,
    "start_time": "2024-07-20T03:18:39.917Z"
   },
   {
    "duration": 37,
    "start_time": "2024-07-20T03:18:49.617Z"
   },
   {
    "duration": 1331,
    "start_time": "2024-07-20T03:20:02.977Z"
   },
   {
    "duration": 6,
    "start_time": "2024-07-20T03:20:06.301Z"
   },
   {
    "duration": 17,
    "start_time": "2024-07-20T03:20:06.965Z"
   },
   {
    "duration": 26,
    "start_time": "2024-07-20T03:20:17.861Z"
   },
   {
    "duration": 23,
    "start_time": "2024-07-20T03:20:18.707Z"
   },
   {
    "duration": 21,
    "start_time": "2024-07-20T03:20:19.215Z"
   },
   {
    "duration": 18,
    "start_time": "2024-07-20T03:20:19.809Z"
   },
   {
    "duration": 32,
    "start_time": "2024-07-20T03:23:12.037Z"
   },
   {
    "duration": 29,
    "start_time": "2024-07-20T03:27:39.677Z"
   },
   {
    "duration": 24,
    "start_time": "2024-07-20T03:27:44.289Z"
   },
   {
    "duration": 1413,
    "start_time": "2024-07-20T03:27:56.499Z"
   },
   {
    "duration": 778,
    "start_time": "2024-07-20T03:27:57.916Z"
   },
   {
    "duration": 48,
    "start_time": "2024-07-20T03:27:58.697Z"
   },
   {
    "duration": 165,
    "start_time": "2024-07-20T03:27:58.747Z"
   },
   {
    "duration": 27,
    "start_time": "2024-07-20T03:27:58.917Z"
   },
   {
    "duration": 6,
    "start_time": "2024-07-20T03:27:58.947Z"
   },
   {
    "duration": 73,
    "start_time": "2024-07-20T03:27:58.956Z"
   },
   {
    "duration": 25,
    "start_time": "2024-07-20T03:28:10.604Z"
   },
   {
    "duration": 36,
    "start_time": "2024-07-20T03:28:11.318Z"
   },
   {
    "duration": 29,
    "start_time": "2024-07-20T03:28:16.030Z"
   },
   {
    "duration": 7,
    "start_time": "2024-07-20T03:28:16.861Z"
   },
   {
    "duration": 6,
    "start_time": "2024-07-20T03:28:17.702Z"
   },
   {
    "duration": 156,
    "start_time": "2024-07-20T03:28:18.326Z"
   },
   {
    "duration": 135,
    "start_time": "2024-07-20T03:28:19.965Z"
   },
   {
    "duration": 49,
    "start_time": "2024-07-20T03:28:22.044Z"
   },
   {
    "duration": 119,
    "start_time": "2024-07-20T03:28:23.930Z"
   },
   {
    "duration": 6,
    "start_time": "2024-07-20T03:28:24.582Z"
   },
   {
    "duration": 117,
    "start_time": "2024-07-20T03:28:27.322Z"
   },
   {
    "duration": 148,
    "start_time": "2024-07-20T03:28:28.342Z"
   },
   {
    "duration": 109,
    "start_time": "2024-07-20T03:28:28.745Z"
   },
   {
    "duration": 27,
    "start_time": "2024-07-20T03:28:29.949Z"
   },
   {
    "duration": 172,
    "start_time": "2024-07-20T03:28:31.496Z"
   },
   {
    "duration": 1312,
    "start_time": "2024-07-20T03:28:33.530Z"
   },
   {
    "duration": 7,
    "start_time": "2024-07-20T03:28:34.846Z"
   },
   {
    "duration": 18,
    "start_time": "2024-07-20T03:28:34.856Z"
   },
   {
    "duration": 21,
    "start_time": "2024-07-20T03:28:38.113Z"
   },
   {
    "duration": 28,
    "start_time": "2024-07-20T03:28:38.140Z"
   },
   {
    "duration": 58,
    "start_time": "2024-07-20T03:28:38.173Z"
   },
   {
    "duration": 19,
    "start_time": "2024-07-20T03:28:38.234Z"
   },
   {
    "duration": 15,
    "start_time": "2024-07-20T03:30:36.566Z"
   },
   {
    "duration": 16,
    "start_time": "2024-07-20T03:30:51.087Z"
   },
   {
    "duration": 444,
    "start_time": "2024-07-20T03:31:51.941Z"
   },
   {
    "duration": 36,
    "start_time": "2024-07-20T03:31:57.481Z"
   },
   {
    "duration": 17,
    "start_time": "2024-07-20T03:32:28.656Z"
   },
   {
    "duration": 1420,
    "start_time": "2024-07-20T03:32:41.996Z"
   },
   {
    "duration": 825,
    "start_time": "2024-07-20T03:32:43.419Z"
   },
   {
    "duration": 45,
    "start_time": "2024-07-20T03:32:44.248Z"
   },
   {
    "duration": 150,
    "start_time": "2024-07-20T03:32:44.311Z"
   },
   {
    "duration": 54,
    "start_time": "2024-07-20T03:32:44.466Z"
   },
   {
    "duration": 14,
    "start_time": "2024-07-20T03:32:44.524Z"
   },
   {
    "duration": 28,
    "start_time": "2024-07-20T03:32:44.541Z"
   },
   {
    "duration": 58,
    "start_time": "2024-07-20T03:32:44.575Z"
   },
   {
    "duration": 28,
    "start_time": "2024-07-20T03:32:44.635Z"
   },
   {
    "duration": 7,
    "start_time": "2024-07-20T03:32:44.666Z"
   },
   {
    "duration": 39,
    "start_time": "2024-07-20T03:32:44.677Z"
   },
   {
    "duration": 191,
    "start_time": "2024-07-20T03:32:44.721Z"
   },
   {
    "duration": 149,
    "start_time": "2024-07-20T03:32:44.918Z"
   },
   {
    "duration": 53,
    "start_time": "2024-07-20T03:32:45.075Z"
   },
   {
    "duration": 139,
    "start_time": "2024-07-20T03:32:45.131Z"
   },
   {
    "duration": 5,
    "start_time": "2024-07-20T03:32:45.274Z"
   },
   {
    "duration": 4,
    "start_time": "2024-07-20T03:32:45.283Z"
   },
   {
    "duration": 25,
    "start_time": "2024-07-20T03:32:45.291Z"
   },
   {
    "duration": 135,
    "start_time": "2024-07-20T03:32:45.320Z"
   },
   {
    "duration": 161,
    "start_time": "2024-07-20T03:32:45.458Z"
   },
   {
    "duration": 121,
    "start_time": "2024-07-20T03:32:45.621Z"
   },
   {
    "duration": 28,
    "start_time": "2024-07-20T03:32:45.744Z"
   },
   {
    "duration": 153,
    "start_time": "2024-07-20T03:32:45.775Z"
   },
   {
    "duration": 1349,
    "start_time": "2024-07-20T03:32:45.932Z"
   },
   {
    "duration": 6,
    "start_time": "2024-07-20T03:32:47.284Z"
   },
   {
    "duration": 30,
    "start_time": "2024-07-20T03:32:47.293Z"
   },
   {
    "duration": 21,
    "start_time": "2024-07-20T03:32:47.326Z"
   },
   {
    "duration": 63,
    "start_time": "2024-07-20T03:32:47.351Z"
   },
   {
    "duration": 22,
    "start_time": "2024-07-20T03:32:47.418Z"
   },
   {
    "duration": 18,
    "start_time": "2024-07-20T03:32:47.443Z"
   },
   {
    "duration": 32,
    "start_time": "2024-07-20T03:32:54.366Z"
   },
   {
    "duration": 27,
    "start_time": "2024-07-20T03:33:09.808Z"
   },
   {
    "duration": 4,
    "start_time": "2024-07-20T03:34:42.322Z"
   },
   {
    "duration": 1408,
    "start_time": "2024-07-20T03:49:36.630Z"
   },
   {
    "duration": 793,
    "start_time": "2024-07-20T03:49:38.042Z"
   },
   {
    "duration": 42,
    "start_time": "2024-07-20T03:49:38.838Z"
   },
   {
    "duration": 175,
    "start_time": "2024-07-20T03:49:38.886Z"
   },
   {
    "duration": 46,
    "start_time": "2024-07-20T03:49:39.065Z"
   },
   {
    "duration": 5,
    "start_time": "2024-07-20T03:49:39.115Z"
   },
   {
    "duration": 33,
    "start_time": "2024-07-20T03:49:39.124Z"
   },
   {
    "duration": 65,
    "start_time": "2024-07-20T03:49:39.161Z"
   },
   {
    "duration": 29,
    "start_time": "2024-07-20T03:49:39.230Z"
   },
   {
    "duration": 6,
    "start_time": "2024-07-20T03:49:39.265Z"
   },
   {
    "duration": 38,
    "start_time": "2024-07-20T03:49:39.274Z"
   },
   {
    "duration": 132,
    "start_time": "2024-07-20T03:49:39.315Z"
   },
   {
    "duration": 169,
    "start_time": "2024-07-20T03:49:39.450Z"
   },
   {
    "duration": 47,
    "start_time": "2024-07-20T03:49:39.622Z"
   },
   {
    "duration": 150,
    "start_time": "2024-07-20T03:49:39.672Z"
   },
   {
    "duration": 10,
    "start_time": "2024-07-20T03:49:39.825Z"
   },
   {
    "duration": 4,
    "start_time": "2024-07-20T03:49:39.838Z"
   },
   {
    "duration": 5,
    "start_time": "2024-07-20T03:49:39.845Z"
   },
   {
    "duration": 146,
    "start_time": "2024-07-20T03:49:39.854Z"
   },
   {
    "duration": 160,
    "start_time": "2024-07-20T03:49:40.013Z"
   },
   {
    "duration": 128,
    "start_time": "2024-07-20T03:49:40.176Z"
   },
   {
    "duration": 32,
    "start_time": "2024-07-20T03:49:40.311Z"
   },
   {
    "duration": 157,
    "start_time": "2024-07-20T03:49:40.346Z"
   },
   {
    "duration": 1339,
    "start_time": "2024-07-20T03:49:40.514Z"
   },
   {
    "duration": 5,
    "start_time": "2024-07-20T03:49:41.857Z"
   },
   {
    "duration": 21,
    "start_time": "2024-07-20T03:49:41.876Z"
   },
   {
    "duration": 31,
    "start_time": "2024-07-20T03:49:41.900Z"
   },
   {
    "duration": 25,
    "start_time": "2024-07-20T03:49:41.937Z"
   },
   {
    "duration": 60,
    "start_time": "2024-07-20T03:49:41.965Z"
   },
   {
    "duration": 18,
    "start_time": "2024-07-20T03:49:42.028Z"
   },
   {
    "duration": 31,
    "start_time": "2024-07-20T03:49:42.052Z"
   },
   {
    "duration": 29,
    "start_time": "2024-07-20T03:49:42.113Z"
   },
   {
    "duration": 22,
    "start_time": "2024-07-20T03:49:45.996Z"
   },
   {
    "duration": 6,
    "start_time": "2024-07-20T03:49:51.576Z"
   },
   {
    "duration": 29,
    "start_time": "2024-07-20T03:49:56.301Z"
   },
   {
    "duration": 15,
    "start_time": "2024-07-20T03:50:13.582Z"
   },
   {
    "duration": 25,
    "start_time": "2024-07-20T03:50:28.155Z"
   },
   {
    "duration": 6,
    "start_time": "2024-07-20T03:50:30.047Z"
   },
   {
    "duration": 36,
    "start_time": "2024-07-20T03:51:17.327Z"
   },
   {
    "duration": 213,
    "start_time": "2024-07-20T03:51:41.157Z"
   },
   {
    "duration": 22,
    "start_time": "2024-07-20T03:51:45.651Z"
   },
   {
    "duration": 26,
    "start_time": "2024-07-20T03:52:45.178Z"
   },
   {
    "duration": 1363,
    "start_time": "2024-07-20T03:55:18.560Z"
   },
   {
    "duration": 811,
    "start_time": "2024-07-20T03:55:19.927Z"
   },
   {
    "duration": 45,
    "start_time": "2024-07-20T03:55:20.741Z"
   },
   {
    "duration": 174,
    "start_time": "2024-07-20T03:55:20.789Z"
   },
   {
    "duration": 35,
    "start_time": "2024-07-20T03:55:20.968Z"
   },
   {
    "duration": 7,
    "start_time": "2024-07-20T03:55:21.017Z"
   },
   {
    "duration": 29,
    "start_time": "2024-07-20T03:55:21.029Z"
   },
   {
    "duration": 58,
    "start_time": "2024-07-20T03:55:21.061Z"
   },
   {
    "duration": 29,
    "start_time": "2024-07-20T03:55:21.123Z"
   },
   {
    "duration": 7,
    "start_time": "2024-07-20T03:55:21.155Z"
   },
   {
    "duration": 47,
    "start_time": "2024-07-20T03:55:21.165Z"
   },
   {
    "duration": 199,
    "start_time": "2024-07-20T03:55:21.215Z"
   },
   {
    "duration": 154,
    "start_time": "2024-07-20T03:55:21.418Z"
   },
   {
    "duration": 64,
    "start_time": "2024-07-20T03:55:21.580Z"
   },
   {
    "duration": 150,
    "start_time": "2024-07-20T03:55:21.646Z"
   },
   {
    "duration": 13,
    "start_time": "2024-07-20T03:55:21.799Z"
   },
   {
    "duration": 4,
    "start_time": "2024-07-20T03:55:21.816Z"
   },
   {
    "duration": 10,
    "start_time": "2024-07-20T03:55:21.823Z"
   },
   {
    "duration": 139,
    "start_time": "2024-07-20T03:55:21.837Z"
   },
   {
    "duration": 179,
    "start_time": "2024-07-20T03:55:21.979Z"
   },
   {
    "duration": 122,
    "start_time": "2024-07-20T03:55:22.162Z"
   },
   {
    "duration": 41,
    "start_time": "2024-07-20T03:55:22.288Z"
   },
   {
    "duration": 152,
    "start_time": "2024-07-20T03:55:22.332Z"
   },
   {
    "duration": 1320,
    "start_time": "2024-07-20T03:55:22.487Z"
   },
   {
    "duration": 10,
    "start_time": "2024-07-20T03:55:23.812Z"
   },
   {
    "duration": 18,
    "start_time": "2024-07-20T03:55:23.826Z"
   },
   {
    "duration": 30,
    "start_time": "2024-07-20T03:55:23.847Z"
   },
   {
    "duration": 52,
    "start_time": "2024-07-20T03:55:23.880Z"
   },
   {
    "duration": 24,
    "start_time": "2024-07-20T03:55:23.936Z"
   },
   {
    "duration": 64,
    "start_time": "2024-07-20T03:55:23.964Z"
   },
   {
    "duration": 32,
    "start_time": "2024-07-20T03:55:24.030Z"
   },
   {
    "duration": 48,
    "start_time": "2024-07-20T03:55:24.065Z"
   },
   {
    "duration": 6,
    "start_time": "2024-07-20T03:55:24.117Z"
   },
   {
    "duration": 4,
    "start_time": "2024-07-20T03:55:24.127Z"
   },
   {
    "duration": 1394,
    "start_time": "2024-07-20T03:55:40.938Z"
   },
   {
    "duration": 843,
    "start_time": "2024-07-20T03:55:42.335Z"
   },
   {
    "duration": 58,
    "start_time": "2024-07-20T03:55:43.181Z"
   },
   {
    "duration": 159,
    "start_time": "2024-07-20T03:55:43.244Z"
   },
   {
    "duration": 32,
    "start_time": "2024-07-20T03:55:43.417Z"
   },
   {
    "duration": 7,
    "start_time": "2024-07-20T03:55:43.451Z"
   },
   {
    "duration": 53,
    "start_time": "2024-07-20T03:55:43.461Z"
   },
   {
    "duration": 42,
    "start_time": "2024-07-20T03:55:43.517Z"
   },
   {
    "duration": 51,
    "start_time": "2024-07-20T03:55:43.563Z"
   },
   {
    "duration": 9,
    "start_time": "2024-07-20T03:55:43.622Z"
   },
   {
    "duration": 6,
    "start_time": "2024-07-20T03:55:43.635Z"
   },
   {
    "duration": 149,
    "start_time": "2024-07-20T03:55:43.644Z"
   },
   {
    "duration": 159,
    "start_time": "2024-07-20T03:55:43.796Z"
   },
   {
    "duration": 71,
    "start_time": "2024-07-20T03:55:43.959Z"
   },
   {
    "duration": 130,
    "start_time": "2024-07-20T03:55:44.033Z"
   },
   {
    "duration": 6,
    "start_time": "2024-07-20T03:55:44.167Z"
   },
   {
    "duration": 4,
    "start_time": "2024-07-20T03:55:44.177Z"
   },
   {
    "duration": 29,
    "start_time": "2024-07-20T03:55:44.185Z"
   },
   {
    "duration": 129,
    "start_time": "2024-07-20T03:55:44.217Z"
   },
   {
    "duration": 176,
    "start_time": "2024-07-20T03:55:44.352Z"
   },
   {
    "duration": 121,
    "start_time": "2024-07-20T03:55:44.532Z"
   },
   {
    "duration": 29,
    "start_time": "2024-07-20T03:55:44.657Z"
   },
   {
    "duration": 193,
    "start_time": "2024-07-20T03:55:44.689Z"
   },
   {
    "duration": 1339,
    "start_time": "2024-07-20T03:55:44.886Z"
   },
   {
    "duration": 6,
    "start_time": "2024-07-20T03:55:46.228Z"
   },
   {
    "duration": 18,
    "start_time": "2024-07-20T03:55:46.238Z"
   },
   {
    "duration": 54,
    "start_time": "2024-07-20T03:55:46.260Z"
   },
   {
    "duration": 23,
    "start_time": "2024-07-20T03:55:46.322Z"
   },
   {
    "duration": 20,
    "start_time": "2024-07-20T03:55:46.348Z"
   },
   {
    "duration": 54,
    "start_time": "2024-07-20T03:55:46.372Z"
   },
   {
    "duration": 29,
    "start_time": "2024-07-20T03:55:46.431Z"
   },
   {
    "duration": 51,
    "start_time": "2024-07-20T03:55:46.463Z"
   },
   {
    "duration": 1387,
    "start_time": "2024-07-20T03:58:47.747Z"
   },
   {
    "duration": 831,
    "start_time": "2024-07-20T03:58:49.139Z"
   },
   {
    "duration": 55,
    "start_time": "2024-07-20T03:58:49.973Z"
   },
   {
    "duration": 158,
    "start_time": "2024-07-20T03:58:50.032Z"
   },
   {
    "duration": 31,
    "start_time": "2024-07-20T03:58:50.192Z"
   },
   {
    "duration": 7,
    "start_time": "2024-07-20T03:58:50.226Z"
   },
   {
    "duration": 30,
    "start_time": "2024-07-20T03:58:50.236Z"
   },
   {
    "duration": 68,
    "start_time": "2024-07-20T03:58:50.268Z"
   },
   {
    "duration": 27,
    "start_time": "2024-07-20T03:58:50.339Z"
   },
   {
    "duration": 5,
    "start_time": "2024-07-20T03:58:50.372Z"
   },
   {
    "duration": 35,
    "start_time": "2024-07-20T03:58:50.380Z"
   },
   {
    "duration": 134,
    "start_time": "2024-07-20T03:58:50.419Z"
   },
   {
    "duration": 147,
    "start_time": "2024-07-20T03:58:50.556Z"
   },
   {
    "duration": 48,
    "start_time": "2024-07-20T03:58:50.714Z"
   },
   {
    "duration": 130,
    "start_time": "2024-07-20T03:58:50.765Z"
   },
   {
    "duration": 7,
    "start_time": "2024-07-20T03:58:50.898Z"
   },
   {
    "duration": 4,
    "start_time": "2024-07-20T03:58:50.917Z"
   },
   {
    "duration": 11,
    "start_time": "2024-07-20T03:58:50.924Z"
   },
   {
    "duration": 135,
    "start_time": "2024-07-20T03:58:50.938Z"
   },
   {
    "duration": 165,
    "start_time": "2024-07-20T03:58:51.076Z"
   },
   {
    "duration": 132,
    "start_time": "2024-07-20T03:58:51.244Z"
   },
   {
    "duration": 48,
    "start_time": "2024-07-20T03:58:51.380Z"
   },
   {
    "duration": 146,
    "start_time": "2024-07-20T03:58:51.432Z"
   },
   {
    "duration": 1304,
    "start_time": "2024-07-20T03:58:51.581Z"
   },
   {
    "duration": 24,
    "start_time": "2024-07-20T03:58:52.888Z"
   },
   {
    "duration": 17,
    "start_time": "2024-07-20T03:58:52.915Z"
   },
   {
    "duration": 21,
    "start_time": "2024-07-20T03:58:52.936Z"
   },
   {
    "duration": 69,
    "start_time": "2024-07-20T03:58:52.966Z"
   },
   {
    "duration": 28,
    "start_time": "2024-07-20T03:58:53.038Z"
   },
   {
    "duration": 18,
    "start_time": "2024-07-20T03:58:53.069Z"
   },
   {
    "duration": 57,
    "start_time": "2024-07-20T03:58:53.090Z"
   },
   {
    "duration": 28,
    "start_time": "2024-07-20T03:58:53.150Z"
   },
   {
    "duration": 22,
    "start_time": "2024-07-20T03:58:58.455Z"
   },
   {
    "duration": 34,
    "start_time": "2024-07-20T03:59:01.896Z"
   },
   {
    "duration": 347,
    "start_time": "2024-07-20T03:59:44.078Z"
   },
   {
    "duration": 1340,
    "start_time": "2024-07-21T14:13:18.131Z"
   },
   {
    "duration": 783,
    "start_time": "2024-07-21T14:13:19.475Z"
   },
   {
    "duration": 40,
    "start_time": "2024-07-21T14:13:20.262Z"
   },
   {
    "duration": 173,
    "start_time": "2024-07-21T14:13:20.304Z"
   },
   {
    "duration": 24,
    "start_time": "2024-07-21T14:13:20.481Z"
   },
   {
    "duration": 24,
    "start_time": "2024-07-21T14:13:20.508Z"
   },
   {
    "duration": 28,
    "start_time": "2024-07-21T14:13:20.535Z"
   },
   {
    "duration": 35,
    "start_time": "2024-07-21T14:13:20.566Z"
   },
   {
    "duration": 28,
    "start_time": "2024-07-21T14:13:20.632Z"
   },
   {
    "duration": 5,
    "start_time": "2024-07-21T14:13:20.663Z"
   },
   {
    "duration": 6,
    "start_time": "2024-07-21T14:13:20.671Z"
   },
   {
    "duration": 152,
    "start_time": "2024-07-21T14:13:20.680Z"
   },
   {
    "duration": 152,
    "start_time": "2024-07-21T14:13:20.838Z"
   },
   {
    "duration": 54,
    "start_time": "2024-07-21T14:13:20.998Z"
   },
   {
    "duration": 114,
    "start_time": "2024-07-21T14:13:21.054Z"
   },
   {
    "duration": 6,
    "start_time": "2024-07-21T14:13:21.171Z"
   },
   {
    "duration": 3,
    "start_time": "2024-07-21T14:13:21.180Z"
   },
   {
    "duration": 5,
    "start_time": "2024-07-21T14:13:21.186Z"
   },
   {
    "duration": 146,
    "start_time": "2024-07-21T14:13:21.194Z"
   },
   {
    "duration": 155,
    "start_time": "2024-07-21T14:13:21.343Z"
   },
   {
    "duration": 118,
    "start_time": "2024-07-21T14:13:21.501Z"
   },
   {
    "duration": 29,
    "start_time": "2024-07-21T14:13:21.622Z"
   },
   {
    "duration": 153,
    "start_time": "2024-07-21T14:13:21.654Z"
   },
   {
    "duration": 1303,
    "start_time": "2024-07-21T14:13:21.811Z"
   },
   {
    "duration": 14,
    "start_time": "2024-07-21T14:13:23.117Z"
   },
   {
    "duration": 19,
    "start_time": "2024-07-21T14:13:23.134Z"
   },
   {
    "duration": 23,
    "start_time": "2024-07-21T14:13:23.157Z"
   },
   {
    "duration": 63,
    "start_time": "2024-07-21T14:13:23.185Z"
   },
   {
    "duration": 20,
    "start_time": "2024-07-21T14:13:23.253Z"
   },
   {
    "duration": 17,
    "start_time": "2024-07-21T14:13:23.278Z"
   },
   {
    "duration": 55,
    "start_time": "2024-07-21T14:13:23.298Z"
   },
   {
    "duration": 26,
    "start_time": "2024-07-21T14:13:23.356Z"
   },
   {
    "duration": 296,
    "start_time": "2024-07-21T14:13:23.386Z"
   },
   {
    "duration": 5,
    "start_time": "2024-07-21T14:13:23.685Z"
   },
   {
    "duration": 4,
    "start_time": "2024-07-21T14:13:23.693Z"
   },
   {
    "duration": 1479,
    "start_time": "2024-07-21T14:13:23.700Z"
   },
   {
    "duration": 27,
    "start_time": "2024-07-21T14:13:25.183Z"
   },
   {
    "duration": 1870,
    "start_time": "2024-07-21T14:13:25.214Z"
   },
   {
    "duration": 0,
    "start_time": "2024-07-21T14:13:27.087Z"
   },
   {
    "duration": 0,
    "start_time": "2024-07-21T14:13:27.089Z"
   },
   {
    "duration": 0,
    "start_time": "2024-07-21T14:13:27.092Z"
   },
   {
    "duration": 0,
    "start_time": "2024-07-21T14:13:27.095Z"
   },
   {
    "duration": 1460,
    "start_time": "2024-07-21T14:14:39.586Z"
   },
   {
    "duration": 6,
    "start_time": "2024-07-21T14:15:01.819Z"
   },
   {
    "duration": 665,
    "start_time": "2024-07-21T14:15:03.538Z"
   },
   {
    "duration": 28,
    "start_time": "2024-07-21T14:15:04.986Z"
   },
   {
    "duration": 209,
    "start_time": "2024-07-21T14:15:05.988Z"
   },
   {
    "duration": 25,
    "start_time": "2024-07-21T14:15:06.925Z"
   },
   {
    "duration": 24,
    "start_time": "2024-07-21T14:15:08.716Z"
   },
   {
    "duration": 69,
    "start_time": "2024-07-21T14:15:12.739Z"
   },
   {
    "duration": 69,
    "start_time": "2024-07-21T14:15:29.313Z"
   },
   {
    "duration": 71,
    "start_time": "2024-07-21T14:16:01.513Z"
   },
   {
    "duration": 69,
    "start_time": "2024-07-21T14:16:09.378Z"
   },
   {
    "duration": 95,
    "start_time": "2024-07-21T14:24:07.713Z"
   },
   {
    "duration": 9,
    "start_time": "2024-07-21T14:24:19.901Z"
   },
   {
    "duration": 666,
    "start_time": "2024-07-21T14:24:20.719Z"
   },
   {
    "duration": 45,
    "start_time": "2024-07-21T14:24:21.844Z"
   },
   {
    "duration": 156,
    "start_time": "2024-07-21T14:24:22.540Z"
   },
   {
    "duration": 18,
    "start_time": "2024-07-21T14:24:23.272Z"
   },
   {
    "duration": 23,
    "start_time": "2024-07-21T14:24:24.732Z"
   },
   {
    "duration": 29,
    "start_time": "2024-07-21T14:24:36.854Z"
   },
   {
    "duration": 27,
    "start_time": "2024-07-21T14:24:38.440Z"
   },
   {
    "duration": 5,
    "start_time": "2024-07-21T14:24:39.995Z"
   },
   {
    "duration": 6,
    "start_time": "2024-07-21T14:24:40.753Z"
   },
   {
    "duration": 110,
    "start_time": "2024-07-21T14:24:41.546Z"
   },
   {
    "duration": 142,
    "start_time": "2024-07-21T14:24:42.225Z"
   },
   {
    "duration": 38,
    "start_time": "2024-07-21T14:24:43.322Z"
   },
   {
    "duration": 109,
    "start_time": "2024-07-21T14:24:46.927Z"
   },
   {
    "duration": 5,
    "start_time": "2024-07-21T14:24:47.786Z"
   },
   {
    "duration": 3,
    "start_time": "2024-07-21T14:24:48.614Z"
   },
   {
    "duration": 108,
    "start_time": "2024-07-21T14:24:57.483Z"
   },
   {
    "duration": 139,
    "start_time": "2024-07-21T14:24:59.143Z"
   },
   {
    "duration": 113,
    "start_time": "2024-07-21T14:24:59.948Z"
   },
   {
    "duration": 26,
    "start_time": "2024-07-21T14:25:00.712Z"
   },
   {
    "duration": 123,
    "start_time": "2024-07-21T14:25:01.407Z"
   },
   {
    "duration": 1290,
    "start_time": "2024-07-21T14:25:02.267Z"
   },
   {
    "duration": 6,
    "start_time": "2024-07-21T14:25:03.560Z"
   },
   {
    "duration": 17,
    "start_time": "2024-07-21T14:25:04.372Z"
   },
   {
    "duration": 20,
    "start_time": "2024-07-21T14:25:05.181Z"
   },
   {
    "duration": 23,
    "start_time": "2024-07-21T14:25:05.777Z"
   },
   {
    "duration": 20,
    "start_time": "2024-07-21T14:25:06.497Z"
   },
   {
    "duration": 16,
    "start_time": "2024-07-21T14:25:06.907Z"
   },
   {
    "duration": 1300,
    "start_time": "2024-07-21T14:26:10.505Z"
   },
   {
    "duration": 739,
    "start_time": "2024-07-21T14:26:11.810Z"
   },
   {
    "duration": 42,
    "start_time": "2024-07-21T14:26:12.552Z"
   },
   {
    "duration": 160,
    "start_time": "2024-07-21T14:26:12.596Z"
   },
   {
    "duration": 24,
    "start_time": "2024-07-21T14:26:12.761Z"
   },
   {
    "duration": 59,
    "start_time": "2024-07-21T14:26:12.788Z"
   },
   {
    "duration": 38,
    "start_time": "2024-07-21T14:26:12.851Z"
   },
   {
    "duration": 49,
    "start_time": "2024-07-21T14:26:12.895Z"
   },
   {
    "duration": 6,
    "start_time": "2024-07-21T14:26:12.948Z"
   },
   {
    "duration": 6,
    "start_time": "2024-07-21T14:26:12.959Z"
   },
   {
    "duration": 148,
    "start_time": "2024-07-21T14:26:12.969Z"
   },
   {
    "duration": 156,
    "start_time": "2024-07-21T14:26:13.120Z"
   },
   {
    "duration": 55,
    "start_time": "2024-07-21T14:26:13.278Z"
   },
   {
    "duration": 115,
    "start_time": "2024-07-21T14:26:13.340Z"
   },
   {
    "duration": 6,
    "start_time": "2024-07-21T14:26:13.458Z"
   },
   {
    "duration": 3,
    "start_time": "2024-07-21T14:26:13.467Z"
   },
   {
    "duration": 4,
    "start_time": "2024-07-21T14:26:13.474Z"
   },
   {
    "duration": 150,
    "start_time": "2024-07-21T14:26:13.482Z"
   },
   {
    "duration": 158,
    "start_time": "2024-07-21T14:26:13.635Z"
   },
   {
    "duration": 116,
    "start_time": "2024-07-21T14:26:13.795Z"
   },
   {
    "duration": 38,
    "start_time": "2024-07-21T14:26:13.914Z"
   },
   {
    "duration": 156,
    "start_time": "2024-07-21T14:26:13.955Z"
   },
   {
    "duration": 1277,
    "start_time": "2024-07-21T14:26:14.114Z"
   },
   {
    "duration": 6,
    "start_time": "2024-07-21T14:26:15.394Z"
   },
   {
    "duration": 31,
    "start_time": "2024-07-21T14:26:15.403Z"
   },
   {
    "duration": 20,
    "start_time": "2024-07-21T14:26:15.438Z"
   },
   {
    "duration": 22,
    "start_time": "2024-07-21T14:26:15.461Z"
   },
   {
    "duration": 60,
    "start_time": "2024-07-21T14:26:15.486Z"
   },
   {
    "duration": 17,
    "start_time": "2024-07-21T14:26:15.549Z"
   },
   {
    "duration": 26,
    "start_time": "2024-07-21T14:26:15.569Z"
   },
   {
    "duration": 27,
    "start_time": "2024-07-21T14:26:15.630Z"
   },
   {
    "duration": 290,
    "start_time": "2024-07-21T14:26:15.659Z"
   },
   {
    "duration": 5,
    "start_time": "2024-07-21T14:26:15.951Z"
   },
   {
    "duration": 4,
    "start_time": "2024-07-21T14:26:15.959Z"
   },
   {
    "duration": 1468,
    "start_time": "2024-07-21T14:26:15.966Z"
   },
   {
    "duration": 30,
    "start_time": "2024-07-21T14:26:17.437Z"
   },
   {
    "duration": 1855,
    "start_time": "2024-07-21T14:26:17.470Z"
   },
   {
    "duration": 0,
    "start_time": "2024-07-21T14:26:19.332Z"
   },
   {
    "duration": 0,
    "start_time": "2024-07-21T14:26:19.335Z"
   },
   {
    "duration": 0,
    "start_time": "2024-07-21T14:26:19.336Z"
   },
   {
    "duration": 0,
    "start_time": "2024-07-21T14:26:19.338Z"
   },
   {
    "duration": 1281,
    "start_time": "2024-07-21T16:36:49.586Z"
   },
   {
    "duration": 813,
    "start_time": "2024-07-21T16:36:50.871Z"
   },
   {
    "duration": 51,
    "start_time": "2024-07-21T16:36:51.687Z"
   },
   {
    "duration": 168,
    "start_time": "2024-07-21T16:36:51.741Z"
   },
   {
    "duration": 39,
    "start_time": "2024-07-21T16:36:51.914Z"
   },
   {
    "duration": 36,
    "start_time": "2024-07-21T16:36:51.956Z"
   },
   {
    "duration": 65,
    "start_time": "2024-07-21T16:36:51.996Z"
   },
   {
    "duration": 27,
    "start_time": "2024-07-21T16:36:52.064Z"
   },
   {
    "duration": 5,
    "start_time": "2024-07-21T16:36:52.094Z"
   },
   {
    "duration": 32,
    "start_time": "2024-07-21T16:36:52.103Z"
   },
   {
    "duration": 150,
    "start_time": "2024-07-21T16:36:52.138Z"
   },
   {
    "duration": 158,
    "start_time": "2024-07-21T16:36:52.290Z"
   },
   {
    "duration": 47,
    "start_time": "2024-07-21T16:36:52.451Z"
   },
   {
    "duration": 120,
    "start_time": "2024-07-21T16:36:52.504Z"
   },
   {
    "duration": 11,
    "start_time": "2024-07-21T16:36:52.632Z"
   },
   {
    "duration": 4,
    "start_time": "2024-07-21T16:36:52.646Z"
   },
   {
    "duration": 4,
    "start_time": "2024-07-21T16:36:52.653Z"
   },
   {
    "duration": 152,
    "start_time": "2024-07-21T16:36:52.660Z"
   },
   {
    "duration": 158,
    "start_time": "2024-07-21T16:36:52.815Z"
   },
   {
    "duration": 131,
    "start_time": "2024-07-21T16:36:52.976Z"
   },
   {
    "duration": 34,
    "start_time": "2024-07-21T16:36:53.110Z"
   },
   {
    "duration": 143,
    "start_time": "2024-07-21T16:36:53.146Z"
   },
   {
    "duration": 1289,
    "start_time": "2024-07-21T16:36:53.292Z"
   },
   {
    "duration": 6,
    "start_time": "2024-07-21T16:36:54.583Z"
   },
   {
    "duration": 38,
    "start_time": "2024-07-21T16:36:54.592Z"
   },
   {
    "duration": 20,
    "start_time": "2024-07-21T16:36:54.633Z"
   },
   {
    "duration": 22,
    "start_time": "2024-07-21T16:36:54.656Z"
   },
   {
    "duration": 55,
    "start_time": "2024-07-21T16:36:54.681Z"
   },
   {
    "duration": 16,
    "start_time": "2024-07-21T16:36:54.739Z"
   },
   {
    "duration": 26,
    "start_time": "2024-07-21T16:36:54.758Z"
   },
   {
    "duration": 58,
    "start_time": "2024-07-21T16:36:54.787Z"
   },
   {
    "duration": 283,
    "start_time": "2024-07-21T16:36:54.848Z"
   },
   {
    "duration": 5,
    "start_time": "2024-07-21T16:36:55.134Z"
   },
   {
    "duration": 4,
    "start_time": "2024-07-21T16:36:55.143Z"
   },
   {
    "duration": 1465,
    "start_time": "2024-07-21T16:36:55.150Z"
   },
   {
    "duration": 28,
    "start_time": "2024-07-21T16:36:56.630Z"
   },
   {
    "duration": 1866,
    "start_time": "2024-07-21T16:36:56.662Z"
   },
   {
    "duration": 0,
    "start_time": "2024-07-21T16:36:58.531Z"
   },
   {
    "duration": 0,
    "start_time": "2024-07-21T16:36:58.534Z"
   },
   {
    "duration": 0,
    "start_time": "2024-07-21T16:36:58.536Z"
   },
   {
    "duration": 0,
    "start_time": "2024-07-21T16:36:58.538Z"
   },
   {
    "duration": 6,
    "start_time": "2024-07-21T16:37:22.598Z"
   },
   {
    "duration": 680,
    "start_time": "2024-07-21T16:37:23.515Z"
   },
   {
    "duration": 38,
    "start_time": "2024-07-21T16:37:31.334Z"
   },
   {
    "duration": 141,
    "start_time": "2024-07-21T16:37:34.625Z"
   },
   {
    "duration": 18,
    "start_time": "2024-07-21T16:37:48.851Z"
   },
   {
    "duration": 24,
    "start_time": "2024-07-21T16:37:55.520Z"
   },
   {
    "duration": 31,
    "start_time": "2024-07-21T16:38:05.559Z"
   },
   {
    "duration": 29,
    "start_time": "2024-07-21T16:38:05.955Z"
   },
   {
    "duration": 6,
    "start_time": "2024-07-21T16:38:08.280Z"
   },
   {
    "duration": 6,
    "start_time": "2024-07-21T16:38:10.626Z"
   },
   {
    "duration": 132,
    "start_time": "2024-07-21T16:38:11.920Z"
   },
   {
    "duration": 130,
    "start_time": "2024-07-21T16:38:13.475Z"
   },
   {
    "duration": 38,
    "start_time": "2024-07-21T16:38:14.487Z"
   },
   {
    "duration": 103,
    "start_time": "2024-07-21T16:38:17.949Z"
   },
   {
    "duration": 4,
    "start_time": "2024-07-21T16:38:18.790Z"
   },
   {
    "duration": 3,
    "start_time": "2024-07-21T16:38:19.922Z"
   },
   {
    "duration": 4,
    "start_time": "2024-07-21T16:38:21.006Z"
   },
   {
    "duration": 166,
    "start_time": "2024-07-21T16:38:24.713Z"
   },
   {
    "duration": 157,
    "start_time": "2024-07-21T16:38:30.483Z"
   },
   {
    "duration": 137,
    "start_time": "2024-07-21T16:38:32.646Z"
   },
   {
    "duration": 27,
    "start_time": "2024-07-21T16:38:33.723Z"
   },
   {
    "duration": 132,
    "start_time": "2024-07-21T16:38:34.434Z"
   },
   {
    "duration": 1284,
    "start_time": "2024-07-21T16:38:35.851Z"
   },
   {
    "duration": 6,
    "start_time": "2024-07-21T16:38:37.732Z"
   },
   {
    "duration": 15,
    "start_time": "2024-07-21T16:38:40.651Z"
   },
   {
    "duration": 19,
    "start_time": "2024-07-21T16:38:41.448Z"
   },
   {
    "duration": 26,
    "start_time": "2024-07-21T16:38:42.241Z"
   },
   {
    "duration": 23,
    "start_time": "2024-07-21T16:38:42.856Z"
   },
   {
    "duration": 18,
    "start_time": "2024-07-21T16:38:43.686Z"
   },
   {
    "duration": 30,
    "start_time": "2024-07-21T16:38:52.622Z"
   },
   {
    "duration": 31,
    "start_time": "2024-07-21T16:39:32.078Z"
   },
   {
    "duration": 26,
    "start_time": "2024-07-21T16:39:33.048Z"
   },
   {
    "duration": 43,
    "start_time": "2024-07-21T16:41:58.333Z"
   },
   {
    "duration": 28,
    "start_time": "2024-07-21T16:41:59.271Z"
   },
   {
    "duration": 690,
    "start_time": "2024-07-21T16:42:01.072Z"
   },
   {
    "duration": 42,
    "start_time": "2024-07-21T16:42:14.800Z"
   },
   {
    "duration": 276,
    "start_time": "2024-07-21T16:42:20.563Z"
   },
   {
    "duration": 1775,
    "start_time": "2024-07-21T16:42:21.543Z"
   },
   {
    "duration": 1070,
    "start_time": "2024-07-21T16:47:12.685Z"
   },
   {
    "duration": 5,
    "start_time": "2024-07-21T16:47:15.711Z"
   },
   {
    "duration": 1048,
    "start_time": "2024-07-21T16:47:29.069Z"
   },
   {
    "duration": 1762,
    "start_time": "2024-07-21T16:50:10.602Z"
   },
   {
    "duration": 2492,
    "start_time": "2024-07-21T16:51:20.959Z"
   },
   {
    "duration": 1845,
    "start_time": "2024-07-21T16:51:50.243Z"
   },
   {
    "duration": 30,
    "start_time": "2024-07-21T16:52:45.328Z"
   },
   {
    "duration": 32,
    "start_time": "2024-07-21T16:52:46.195Z"
   },
   {
    "duration": 1853,
    "start_time": "2024-07-21T16:52:48.825Z"
   },
   {
    "duration": 1848,
    "start_time": "2024-07-21T16:53:45.585Z"
   },
   {
    "duration": 1789,
    "start_time": "2024-07-21T16:54:09.641Z"
   },
   {
    "duration": 1788,
    "start_time": "2024-07-21T16:54:21.197Z"
   },
   {
    "duration": 1867,
    "start_time": "2024-07-21T16:54:41.159Z"
   },
   {
    "duration": 312,
    "start_time": "2024-07-21T16:56:27.032Z"
   },
   {
    "duration": 1224,
    "start_time": "2024-07-21T16:57:05.272Z"
   },
   {
    "duration": 1291,
    "start_time": "2024-07-21T16:57:26.053Z"
   },
   {
    "duration": 782,
    "start_time": "2024-07-21T16:57:27.348Z"
   },
   {
    "duration": 44,
    "start_time": "2024-07-21T16:57:28.133Z"
   },
   {
    "duration": 168,
    "start_time": "2024-07-21T16:57:28.180Z"
   },
   {
    "duration": 24,
    "start_time": "2024-07-21T16:57:28.352Z"
   },
   {
    "duration": 51,
    "start_time": "2024-07-21T16:57:28.379Z"
   },
   {
    "duration": 37,
    "start_time": "2024-07-21T16:57:28.434Z"
   },
   {
    "duration": 27,
    "start_time": "2024-07-21T16:57:28.473Z"
   },
   {
    "duration": 30,
    "start_time": "2024-07-21T16:57:28.503Z"
   },
   {
    "duration": 5,
    "start_time": "2024-07-21T16:57:28.536Z"
   },
   {
    "duration": 145,
    "start_time": "2024-07-21T16:57:28.544Z"
   },
   {
    "duration": 143,
    "start_time": "2024-07-21T16:57:28.692Z"
   },
   {
    "duration": 43,
    "start_time": "2024-07-21T16:57:28.838Z"
   },
   {
    "duration": 123,
    "start_time": "2024-07-21T16:57:28.888Z"
   },
   {
    "duration": 18,
    "start_time": "2024-07-21T16:57:29.013Z"
   },
   {
    "duration": 4,
    "start_time": "2024-07-21T16:57:29.034Z"
   },
   {
    "duration": 5,
    "start_time": "2024-07-21T16:57:29.042Z"
   },
   {
    "duration": 134,
    "start_time": "2024-07-21T16:57:29.050Z"
   },
   {
    "duration": 153,
    "start_time": "2024-07-21T16:57:29.187Z"
   },
   {
    "duration": 118,
    "start_time": "2024-07-21T16:57:29.344Z"
   },
   {
    "duration": 26,
    "start_time": "2024-07-21T16:57:29.466Z"
   },
   {
    "duration": 1284,
    "start_time": "2024-07-21T16:57:29.495Z"
   },
   {
    "duration": 6,
    "start_time": "2024-07-21T16:57:30.781Z"
   },
   {
    "duration": 16,
    "start_time": "2024-07-21T16:57:30.790Z"
   },
   {
    "duration": 44,
    "start_time": "2024-07-21T16:57:30.808Z"
   },
   {
    "duration": 23,
    "start_time": "2024-07-21T16:57:30.855Z"
   },
   {
    "duration": 57,
    "start_time": "2024-07-21T16:57:30.881Z"
   },
   {
    "duration": 17,
    "start_time": "2024-07-21T16:57:30.941Z"
   },
   {
    "duration": 27,
    "start_time": "2024-07-21T16:57:30.961Z"
   },
   {
    "duration": 57,
    "start_time": "2024-07-21T16:57:30.991Z"
   },
   {
    "duration": 1548,
    "start_time": "2024-07-21T16:59:39.644Z"
   },
   {
    "duration": 190,
    "start_time": "2024-07-21T16:59:51.237Z"
   },
   {
    "duration": 859,
    "start_time": "2024-07-21T16:59:54.276Z"
   },
   {
    "duration": 45,
    "start_time": "2024-07-21T16:59:58.478Z"
   },
   {
    "duration": 148,
    "start_time": "2024-07-21T16:59:58.971Z"
   },
   {
    "duration": 25,
    "start_time": "2024-07-21T16:59:59.933Z"
   },
   {
    "duration": 24,
    "start_time": "2024-07-21T17:00:01.162Z"
   },
   {
    "duration": 37,
    "start_time": "2024-07-21T17:00:05.322Z"
   },
   {
    "duration": 27,
    "start_time": "2024-07-21T17:00:07.284Z"
   },
   {
    "duration": 6,
    "start_time": "2024-07-21T17:00:08.029Z"
   },
   {
    "duration": 6,
    "start_time": "2024-07-21T17:00:08.722Z"
   },
   {
    "duration": 118,
    "start_time": "2024-07-21T17:00:09.354Z"
   },
   {
    "duration": 153,
    "start_time": "2024-07-21T17:00:12.482Z"
   },
   {
    "duration": 45,
    "start_time": "2024-07-21T17:00:13.401Z"
   },
   {
    "duration": 96,
    "start_time": "2024-07-21T17:00:16.108Z"
   },
   {
    "duration": 5,
    "start_time": "2024-07-21T17:00:16.746Z"
   },
   {
    "duration": 4,
    "start_time": "2024-07-21T17:00:17.603Z"
   },
   {
    "duration": 4,
    "start_time": "2024-07-21T17:00:18.984Z"
   },
   {
    "duration": 114,
    "start_time": "2024-07-21T17:00:21.109Z"
   },
   {
    "duration": 153,
    "start_time": "2024-07-21T17:00:22.043Z"
   },
   {
    "duration": 117,
    "start_time": "2024-07-21T17:00:24.388Z"
   },
   {
    "duration": 25,
    "start_time": "2024-07-21T17:00:25.320Z"
   },
   {
    "duration": 1247,
    "start_time": "2024-07-21T17:00:26.198Z"
   },
   {
    "duration": 5,
    "start_time": "2024-07-21T17:00:27.448Z"
   },
   {
    "duration": 16,
    "start_time": "2024-07-21T17:00:28.438Z"
   },
   {
    "duration": 19,
    "start_time": "2024-07-21T17:00:29.400Z"
   },
   {
    "duration": 23,
    "start_time": "2024-07-21T17:00:30.486Z"
   },
   {
    "duration": 20,
    "start_time": "2024-07-21T17:00:31.690Z"
   },
   {
    "duration": 17,
    "start_time": "2024-07-21T17:00:32.389Z"
   },
   {
    "duration": 27,
    "start_time": "2024-07-21T17:00:35.780Z"
   },
   {
    "duration": 25,
    "start_time": "2024-07-21T17:00:36.671Z"
   },
   {
    "duration": 1516,
    "start_time": "2024-07-21T17:01:04.043Z"
   },
   {
    "duration": 27,
    "start_time": "2024-07-21T17:01:25.714Z"
   },
   {
    "duration": 33,
    "start_time": "2024-07-21T17:01:26.622Z"
   },
   {
    "duration": 33,
    "start_time": "2024-07-21T17:04:00.789Z"
   },
   {
    "duration": 1322,
    "start_time": "2024-07-21T17:04:11.470Z"
   },
   {
    "duration": 809,
    "start_time": "2024-07-21T17:04:12.797Z"
   },
   {
    "duration": 53,
    "start_time": "2024-07-21T17:04:13.610Z"
   },
   {
    "duration": 156,
    "start_time": "2024-07-21T17:04:13.666Z"
   },
   {
    "duration": 26,
    "start_time": "2024-07-21T17:04:13.831Z"
   },
   {
    "duration": 31,
    "start_time": "2024-07-21T17:04:13.860Z"
   },
   {
    "duration": 61,
    "start_time": "2024-07-21T17:04:13.894Z"
   },
   {
    "duration": 27,
    "start_time": "2024-07-21T17:04:13.958Z"
   },
   {
    "duration": 8,
    "start_time": "2024-07-21T17:04:13.988Z"
   },
   {
    "duration": 30,
    "start_time": "2024-07-21T17:04:13.999Z"
   },
   {
    "duration": 139,
    "start_time": "2024-07-21T17:04:14.033Z"
   },
   {
    "duration": 146,
    "start_time": "2024-07-21T17:04:14.174Z"
   },
   {
    "duration": 48,
    "start_time": "2024-07-21T17:04:14.323Z"
   },
   {
    "duration": 121,
    "start_time": "2024-07-21T17:04:14.378Z"
   },
   {
    "duration": 6,
    "start_time": "2024-07-21T17:04:14.502Z"
   },
   {
    "duration": 19,
    "start_time": "2024-07-21T17:04:14.512Z"
   },
   {
    "duration": 4,
    "start_time": "2024-07-21T17:04:14.534Z"
   },
   {
    "duration": 134,
    "start_time": "2024-07-21T17:04:14.541Z"
   },
   {
    "duration": 156,
    "start_time": "2024-07-21T17:04:14.678Z"
   },
   {
    "duration": 119,
    "start_time": "2024-07-21T17:04:14.836Z"
   },
   {
    "duration": 25,
    "start_time": "2024-07-21T17:04:14.958Z"
   },
   {
    "duration": 1281,
    "start_time": "2024-07-21T17:04:14.986Z"
   },
   {
    "duration": 6,
    "start_time": "2024-07-21T17:04:16.270Z"
   },
   {
    "duration": 16,
    "start_time": "2024-07-21T17:04:16.281Z"
   },
   {
    "duration": 46,
    "start_time": "2024-07-21T17:04:16.300Z"
   },
   {
    "duration": 23,
    "start_time": "2024-07-21T17:04:16.348Z"
   },
   {
    "duration": 57,
    "start_time": "2024-07-21T17:04:16.374Z"
   },
   {
    "duration": 17,
    "start_time": "2024-07-21T17:04:16.438Z"
   },
   {
    "duration": 27,
    "start_time": "2024-07-21T17:04:16.459Z"
   },
   {
    "duration": 54,
    "start_time": "2024-07-21T17:04:16.488Z"
   },
   {
    "duration": 1652,
    "start_time": "2024-07-21T17:55:48.867Z"
   },
   {
    "duration": 1028,
    "start_time": "2024-07-21T17:55:50.524Z"
   },
   {
    "duration": 58,
    "start_time": "2024-07-21T17:55:51.562Z"
   },
   {
    "duration": 240,
    "start_time": "2024-07-21T17:55:51.626Z"
   },
   {
    "duration": 54,
    "start_time": "2024-07-21T17:55:51.870Z"
   },
   {
    "duration": 35,
    "start_time": "2024-07-21T17:55:51.928Z"
   },
   {
    "duration": 60,
    "start_time": "2024-07-21T17:55:51.966Z"
   },
   {
    "duration": 32,
    "start_time": "2024-07-21T17:55:52.029Z"
   },
   {
    "duration": 6,
    "start_time": "2024-07-21T17:55:52.065Z"
   },
   {
    "duration": 33,
    "start_time": "2024-07-21T17:55:52.080Z"
   },
   {
    "duration": 190,
    "start_time": "2024-07-21T17:55:52.117Z"
   },
   {
    "duration": 211,
    "start_time": "2024-07-21T17:55:52.316Z"
   },
   {
    "duration": 53,
    "start_time": "2024-07-21T17:55:52.531Z"
   },
   {
    "duration": 174,
    "start_time": "2024-07-21T17:55:52.588Z"
   },
   {
    "duration": 7,
    "start_time": "2024-07-21T17:55:52.766Z"
   },
   {
    "duration": 5,
    "start_time": "2024-07-21T17:55:52.777Z"
   },
   {
    "duration": 6,
    "start_time": "2024-07-21T17:55:52.805Z"
   },
   {
    "duration": 186,
    "start_time": "2024-07-21T17:55:52.814Z"
   },
   {
    "duration": 224,
    "start_time": "2024-07-21T17:55:53.007Z"
   },
   {
    "duration": 176,
    "start_time": "2024-07-21T17:55:53.242Z"
   },
   {
    "duration": 37,
    "start_time": "2024-07-21T17:55:53.425Z"
   },
   {
    "duration": 1687,
    "start_time": "2024-07-21T17:55:53.469Z"
   },
   {
    "duration": 7,
    "start_time": "2024-07-21T17:55:55.159Z"
   },
   {
    "duration": 20,
    "start_time": "2024-07-21T17:55:55.170Z"
   },
   {
    "duration": 32,
    "start_time": "2024-07-21T17:55:55.215Z"
   },
   {
    "duration": 29,
    "start_time": "2024-07-21T17:55:55.251Z"
   },
   {
    "duration": 25,
    "start_time": "2024-07-21T17:55:55.314Z"
   },
   {
    "duration": 24,
    "start_time": "2024-07-21T17:55:55.349Z"
   },
   {
    "duration": 60,
    "start_time": "2024-07-21T17:55:55.376Z"
   },
   {
    "duration": 38,
    "start_time": "2024-07-21T17:55:55.440Z"
   },
   {
    "duration": 1933,
    "start_time": "2024-07-21T17:56:27.629Z"
   },
   {
    "duration": 1339,
    "start_time": "2024-07-21T17:56:29.573Z"
   },
   {
    "duration": 50,
    "start_time": "2024-07-21T17:56:30.915Z"
   },
   {
    "duration": 262,
    "start_time": "2024-07-21T17:56:30.972Z"
   },
   {
    "duration": 34,
    "start_time": "2024-07-21T17:56:31.241Z"
   },
   {
    "duration": 52,
    "start_time": "2024-07-21T17:56:31.278Z"
   },
   {
    "duration": 51,
    "start_time": "2024-07-21T17:56:31.338Z"
   },
   {
    "duration": 41,
    "start_time": "2024-07-21T17:56:31.392Z"
   },
   {
    "duration": 6,
    "start_time": "2024-07-21T17:56:31.437Z"
   },
   {
    "duration": 6,
    "start_time": "2024-07-21T17:56:31.451Z"
   },
   {
    "duration": 207,
    "start_time": "2024-07-21T17:56:31.461Z"
   },
   {
    "duration": 207,
    "start_time": "2024-07-21T17:56:31.672Z"
   },
   {
    "duration": 60,
    "start_time": "2024-07-21T17:56:31.882Z"
   },
   {
    "duration": 131,
    "start_time": "2024-07-21T17:56:31.945Z"
   },
   {
    "duration": 7,
    "start_time": "2024-07-21T17:56:32.079Z"
   },
   {
    "duration": 4,
    "start_time": "2024-07-21T17:56:32.089Z"
   },
   {
    "duration": 19,
    "start_time": "2024-07-21T17:56:32.097Z"
   },
   {
    "duration": 142,
    "start_time": "2024-07-21T17:56:32.120Z"
   },
   {
    "duration": 169,
    "start_time": "2024-07-21T17:56:32.265Z"
   },
   {
    "duration": 134,
    "start_time": "2024-07-21T17:56:32.438Z"
   },
   {
    "duration": 41,
    "start_time": "2024-07-21T17:56:32.575Z"
   },
   {
    "duration": 1531,
    "start_time": "2024-07-21T17:56:32.620Z"
   },
   {
    "duration": 14,
    "start_time": "2024-07-21T17:56:34.154Z"
   },
   {
    "duration": 20,
    "start_time": "2024-07-21T17:56:34.172Z"
   },
   {
    "duration": 27,
    "start_time": "2024-07-21T17:56:34.214Z"
   },
   {
    "duration": 26,
    "start_time": "2024-07-21T17:56:34.245Z"
   },
   {
    "duration": 48,
    "start_time": "2024-07-21T17:56:34.275Z"
   },
   {
    "duration": 18,
    "start_time": "2024-07-21T17:56:34.334Z"
   },
   {
    "duration": 62,
    "start_time": "2024-07-21T17:56:34.356Z"
   },
   {
    "duration": 28,
    "start_time": "2024-07-21T17:56:34.421Z"
   },
   {
    "duration": 1851,
    "start_time": "2024-07-21T17:57:17.409Z"
   },
   {
    "duration": 1050,
    "start_time": "2024-07-21T17:57:19.264Z"
   },
   {
    "duration": 69,
    "start_time": "2024-07-21T17:57:24.485Z"
   },
   {
    "duration": 1678,
    "start_time": "2024-07-21T17:58:16.107Z"
   },
   {
    "duration": 1090,
    "start_time": "2024-07-21T17:58:17.789Z"
   },
   {
    "duration": 61,
    "start_time": "2024-07-21T17:58:18.882Z"
   },
   {
    "duration": 245,
    "start_time": "2024-07-21T17:58:18.949Z"
   },
   {
    "duration": 39,
    "start_time": "2024-07-21T17:58:19.201Z"
   },
   {
    "duration": 40,
    "start_time": "2024-07-21T17:58:19.243Z"
   },
   {
    "duration": 1641,
    "start_time": "2024-07-21T17:59:33.884Z"
   },
   {
    "duration": 1055,
    "start_time": "2024-07-21T17:59:35.529Z"
   },
   {
    "duration": 49,
    "start_time": "2024-07-21T17:59:36.870Z"
   },
   {
    "duration": 250,
    "start_time": "2024-07-21T17:59:37.764Z"
   },
   {
    "duration": 31,
    "start_time": "2024-07-21T17:59:39.044Z"
   },
   {
    "duration": 53,
    "start_time": "2024-07-21T17:59:41.847Z"
   },
   {
    "duration": 2394,
    "start_time": "2024-07-21T17:59:45.866Z"
   },
   {
    "duration": 0,
    "start_time": "2024-07-21T17:59:48.264Z"
   },
   {
    "duration": 43,
    "start_time": "2024-07-21T18:00:01.078Z"
   },
   {
    "duration": 32,
    "start_time": "2024-07-21T18:00:01.374Z"
   },
   {
    "duration": 6,
    "start_time": "2024-07-21T18:00:02.210Z"
   },
   {
    "duration": 9,
    "start_time": "2024-07-21T18:00:03.010Z"
   },
   {
    "duration": 120,
    "start_time": "2024-07-21T18:00:03.738Z"
   },
   {
    "duration": 132,
    "start_time": "2024-07-21T18:00:04.798Z"
   },
   {
    "duration": 45,
    "start_time": "2024-07-21T18:00:05.889Z"
   },
   {
    "duration": 105,
    "start_time": "2024-07-21T18:00:16.291Z"
   },
   {
    "duration": 6,
    "start_time": "2024-07-21T18:00:17.318Z"
   },
   {
    "duration": 3,
    "start_time": "2024-07-21T18:00:18.481Z"
   },
   {
    "duration": 4,
    "start_time": "2024-07-21T18:00:19.641Z"
   },
   {
    "duration": 146,
    "start_time": "2024-07-21T18:00:21.739Z"
   },
   {
    "duration": 157,
    "start_time": "2024-07-21T18:00:23.045Z"
   },
   {
    "duration": 141,
    "start_time": "2024-07-21T18:00:31.897Z"
   },
   {
    "duration": 108,
    "start_time": "2024-07-21T18:00:32.893Z"
   },
   {
    "duration": 29,
    "start_time": "2024-07-21T18:00:33.905Z"
   },
   {
    "duration": 1340,
    "start_time": "2024-07-21T18:00:34.626Z"
   },
   {
    "duration": 6,
    "start_time": "2024-07-21T18:00:39.036Z"
   },
   {
    "duration": 19,
    "start_time": "2024-07-21T18:00:44.175Z"
   },
   {
    "duration": 22,
    "start_time": "2024-07-21T18:00:45.845Z"
   },
   {
    "duration": 24,
    "start_time": "2024-07-21T18:00:46.818Z"
   },
   {
    "duration": 27,
    "start_time": "2024-07-21T18:00:47.595Z"
   },
   {
    "duration": 17,
    "start_time": "2024-07-21T18:00:49.881Z"
   },
   {
    "duration": 28,
    "start_time": "2024-07-21T18:01:24.344Z"
   },
   {
    "duration": 27,
    "start_time": "2024-07-21T18:01:25.518Z"
   },
   {
    "duration": 324,
    "start_time": "2024-07-21T18:02:57.294Z"
   },
   {
    "duration": 1334,
    "start_time": "2024-07-21T18:03:21.594Z"
   },
   {
    "duration": 141,
    "start_time": "2024-07-21T18:03:22.931Z"
   },
   {
    "duration": 321,
    "start_time": "2024-07-21T18:08:20.308Z"
   },
   {
    "duration": 30,
    "start_time": "2024-07-21T18:08:22.280Z"
   },
   {
    "duration": 1139,
    "start_time": "2024-07-21T18:09:08.241Z"
   },
   {
    "duration": 109,
    "start_time": "2024-07-21T18:09:16.443Z"
   },
   {
    "duration": 33,
    "start_time": "2024-07-21T18:09:16.748Z"
   },
   {
    "duration": 26,
    "start_time": "2024-07-21T18:09:23.936Z"
   },
   {
    "duration": 30,
    "start_time": "2024-07-21T18:09:25.680Z"
   },
   {
    "duration": 208,
    "start_time": "2024-07-21T18:09:33.438Z"
   },
   {
    "duration": 795,
    "start_time": "2024-07-21T18:09:33.738Z"
   },
   {
    "duration": 41,
    "start_time": "2024-07-21T18:09:36.558Z"
   },
   {
    "duration": 147,
    "start_time": "2024-07-21T18:09:37.627Z"
   },
   {
    "duration": 25,
    "start_time": "2024-07-21T18:09:38.507Z"
   },
   {
    "duration": 29,
    "start_time": "2024-07-21T18:09:39.715Z"
   },
   {
    "duration": 37,
    "start_time": "2024-07-21T18:09:41.913Z"
   },
   {
    "duration": 28,
    "start_time": "2024-07-21T18:09:42.367Z"
   },
   {
    "duration": 6,
    "start_time": "2024-07-21T18:09:42.944Z"
   },
   {
    "duration": 6,
    "start_time": "2024-07-21T18:09:43.460Z"
   },
   {
    "duration": 119,
    "start_time": "2024-07-21T18:09:43.972Z"
   },
   {
    "duration": 136,
    "start_time": "2024-07-21T18:09:44.632Z"
   },
   {
    "duration": 48,
    "start_time": "2024-07-21T18:09:45.229Z"
   },
   {
    "duration": 136,
    "start_time": "2024-07-21T18:09:47.405Z"
   },
   {
    "duration": 5,
    "start_time": "2024-07-21T18:09:47.948Z"
   },
   {
    "duration": 3,
    "start_time": "2024-07-21T18:09:48.614Z"
   },
   {
    "duration": 3,
    "start_time": "2024-07-21T18:09:49.224Z"
   },
   {
    "duration": 123,
    "start_time": "2024-07-21T18:09:51.423Z"
   },
   {
    "duration": 147,
    "start_time": "2024-07-21T18:09:52.390Z"
   },
   {
    "duration": 122,
    "start_time": "2024-07-21T18:09:52.912Z"
   },
   {
    "duration": 32,
    "start_time": "2024-07-21T18:09:53.594Z"
   },
   {
    "duration": 1270,
    "start_time": "2024-07-21T18:09:54.113Z"
   },
   {
    "duration": 6,
    "start_time": "2024-07-21T18:09:55.387Z"
   },
   {
    "duration": 16,
    "start_time": "2024-07-21T18:09:56.690Z"
   },
   {
    "duration": 21,
    "start_time": "2024-07-21T18:09:57.521Z"
   },
   {
    "duration": 22,
    "start_time": "2024-07-21T18:09:58.105Z"
   },
   {
    "duration": 20,
    "start_time": "2024-07-21T18:09:58.789Z"
   },
   {
    "duration": 18,
    "start_time": "2024-07-21T18:09:59.423Z"
   },
   {
    "duration": 27,
    "start_time": "2024-07-21T18:10:01.526Z"
   },
   {
    "duration": 25,
    "start_time": "2024-07-21T18:10:02.340Z"
   },
   {
    "duration": 4,
    "start_time": "2024-07-21T18:10:04.147Z"
   },
   {
    "duration": 266,
    "start_time": "2024-07-21T18:10:04.971Z"
   },
   {
    "duration": 1731,
    "start_time": "2024-07-21T18:10:06.075Z"
   },
   {
    "duration": 1754,
    "start_time": "2024-07-21T18:10:55.862Z"
   },
   {
    "duration": 3,
    "start_time": "2024-07-21T18:11:20.157Z"
   },
   {
    "duration": 293,
    "start_time": "2024-07-21T18:11:21.801Z"
   },
   {
    "duration": 1721,
    "start_time": "2024-07-21T18:11:23.556Z"
   },
   {
    "duration": 1666,
    "start_time": "2024-07-21T18:12:05.023Z"
   },
   {
    "duration": 1754,
    "start_time": "2024-07-21T18:12:22.858Z"
   },
   {
    "duration": 25,
    "start_time": "2024-07-21T18:12:24.615Z"
   },
   {
    "duration": 2276,
    "start_time": "2024-07-21T18:13:12.725Z"
   },
   {
    "duration": 995,
    "start_time": "2024-07-21T18:13:24.751Z"
   },
   {
    "duration": 937,
    "start_time": "2024-07-21T18:13:57.399Z"
   },
   {
    "duration": 1109,
    "start_time": "2024-07-21T18:14:09.377Z"
   },
   {
    "duration": 142,
    "start_time": "2024-07-21T18:14:36.672Z"
   },
   {
    "duration": 295,
    "start_time": "2024-07-21T18:14:54.391Z"
   },
   {
    "duration": 1982,
    "start_time": "2024-07-21T18:14:56.114Z"
   },
   {
    "duration": 132,
    "start_time": "2024-07-21T18:14:58.100Z"
   },
   {
    "duration": 5,
    "start_time": "2024-07-21T18:15:20.116Z"
   },
   {
    "duration": 8,
    "start_time": "2024-07-21T18:15:30.129Z"
   },
   {
    "duration": 391,
    "start_time": "2024-07-21T18:19:26.606Z"
   },
   {
    "duration": 2275,
    "start_time": "2024-07-21T18:19:28.071Z"
   },
   {
    "duration": 394,
    "start_time": "2024-07-21T18:19:33.446Z"
   },
   {
    "duration": 2285,
    "start_time": "2024-07-21T18:19:34.440Z"
   },
   {
    "duration": 7,
    "start_time": "2024-07-21T18:19:36.729Z"
   },
   {
    "duration": 6,
    "start_time": "2024-07-21T18:19:37.829Z"
   },
   {
    "duration": 2331,
    "start_time": "2024-07-21T18:19:47.249Z"
   },
   {
    "duration": 6,
    "start_time": "2024-07-21T18:19:49.583Z"
   },
   {
    "duration": 6,
    "start_time": "2024-07-21T18:19:50.537Z"
   },
   {
    "duration": 166,
    "start_time": "2024-07-21T18:19:51.381Z"
   },
   {
    "duration": 186,
    "start_time": "2024-07-21T18:19:53.182Z"
   },
   {
    "duration": 2282,
    "start_time": "2024-07-21T18:22:53.211Z"
   },
   {
    "duration": 2707,
    "start_time": "2024-07-21T18:24:04.160Z"
   },
   {
    "duration": 435,
    "start_time": "2024-07-21T18:26:39.891Z"
   },
   {
    "duration": 25,
    "start_time": "2024-07-21T18:26:41.577Z"
   },
   {
    "duration": 1708,
    "start_time": "2024-07-21T18:27:03.270Z"
   },
   {
    "duration": 932,
    "start_time": "2024-07-21T18:27:04.982Z"
   },
   {
    "duration": 43,
    "start_time": "2024-07-21T18:27:05.917Z"
   },
   {
    "duration": 171,
    "start_time": "2024-07-21T18:27:05.965Z"
   },
   {
    "duration": 33,
    "start_time": "2024-07-21T18:27:06.140Z"
   },
   {
    "duration": 56,
    "start_time": "2024-07-21T18:27:06.177Z"
   },
   {
    "duration": 40,
    "start_time": "2024-07-21T18:27:06.237Z"
   },
   {
    "duration": 58,
    "start_time": "2024-07-21T18:27:06.281Z"
   },
   {
    "duration": 7,
    "start_time": "2024-07-21T18:27:06.343Z"
   },
   {
    "duration": 13,
    "start_time": "2024-07-21T18:27:06.358Z"
   },
   {
    "duration": 206,
    "start_time": "2024-07-21T18:27:06.373Z"
   },
   {
    "duration": 207,
    "start_time": "2024-07-21T18:27:06.585Z"
   },
   {
    "duration": 50,
    "start_time": "2024-07-21T18:27:06.804Z"
   },
   {
    "duration": 119,
    "start_time": "2024-07-21T18:27:06.862Z"
   },
   {
    "duration": 12,
    "start_time": "2024-07-21T18:27:06.984Z"
   },
   {
    "duration": 4,
    "start_time": "2024-07-21T18:27:06.999Z"
   },
   {
    "duration": 5,
    "start_time": "2024-07-21T18:27:07.014Z"
   },
   {
    "duration": 191,
    "start_time": "2024-07-21T18:27:07.022Z"
   },
   {
    "duration": 214,
    "start_time": "2024-07-21T18:27:07.216Z"
   },
   {
    "duration": 183,
    "start_time": "2024-07-21T18:27:07.432Z"
   },
   {
    "duration": 27,
    "start_time": "2024-07-21T18:27:07.618Z"
   },
   {
    "duration": 1709,
    "start_time": "2024-07-21T18:27:07.649Z"
   },
   {
    "duration": 6,
    "start_time": "2024-07-21T18:27:09.361Z"
   },
   {
    "duration": 44,
    "start_time": "2024-07-21T18:27:09.370Z"
   },
   {
    "duration": 26,
    "start_time": "2024-07-21T18:27:09.417Z"
   },
   {
    "duration": 28,
    "start_time": "2024-07-21T18:27:09.446Z"
   },
   {
    "duration": 56,
    "start_time": "2024-07-21T18:27:09.478Z"
   },
   {
    "duration": 20,
    "start_time": "2024-07-21T18:27:09.544Z"
   },
   {
    "duration": 65,
    "start_time": "2024-07-21T18:27:09.568Z"
   },
   {
    "duration": 35,
    "start_time": "2024-07-21T18:27:09.636Z"
   },
   {
    "duration": 1708,
    "start_time": "2024-07-21T18:27:45.759Z"
   },
   {
    "duration": 983,
    "start_time": "2024-07-21T18:27:47.470Z"
   },
   {
    "duration": 55,
    "start_time": "2024-07-21T18:27:48.457Z"
   },
   {
    "duration": 244,
    "start_time": "2024-07-21T18:27:49.000Z"
   },
   {
    "duration": 366,
    "start_time": "2024-07-21T18:35:05.389Z"
   },
   {
    "duration": 11,
    "start_time": "2024-07-21T18:35:11.092Z"
   },
   {
    "duration": 4,
    "start_time": "2024-07-21T18:35:11.954Z"
   },
   {
    "duration": 9,
    "start_time": "2024-07-21T18:35:13.122Z"
   },
   {
    "duration": 35,
    "start_time": "2024-07-21T18:35:13.704Z"
   },
   {
    "duration": 1323,
    "start_time": "2024-07-21T18:39:34.017Z"
   },
   {
    "duration": 878,
    "start_time": "2024-07-21T18:39:35.861Z"
   },
   {
    "duration": 49,
    "start_time": "2024-07-21T18:39:37.600Z"
   },
   {
    "duration": 148,
    "start_time": "2024-07-21T18:39:38.536Z"
   },
   {
    "duration": 29,
    "start_time": "2024-07-21T18:39:39.474Z"
   },
   {
    "duration": 32,
    "start_time": "2024-07-21T18:39:41.102Z"
   },
   {
    "duration": 38,
    "start_time": "2024-07-21T18:39:44.027Z"
   },
   {
    "duration": 31,
    "start_time": "2024-07-21T18:39:44.812Z"
   },
   {
    "duration": 6,
    "start_time": "2024-07-21T18:39:45.484Z"
   },
   {
    "duration": 8,
    "start_time": "2024-07-21T18:39:46.243Z"
   },
   {
    "duration": 121,
    "start_time": "2024-07-21T18:39:47.005Z"
   },
   {
    "duration": 139,
    "start_time": "2024-07-21T18:39:47.807Z"
   },
   {
    "duration": 48,
    "start_time": "2024-07-21T18:39:49.060Z"
   },
   {
    "duration": 109,
    "start_time": "2024-07-21T18:39:52.521Z"
   },
   {
    "duration": 7,
    "start_time": "2024-07-21T18:39:53.429Z"
   },
   {
    "duration": 4,
    "start_time": "2024-07-21T18:39:54.192Z"
   },
   {
    "duration": 3,
    "start_time": "2024-07-21T18:39:55.126Z"
   },
   {
    "duration": 137,
    "start_time": "2024-07-21T18:39:56.714Z"
   },
   {
    "duration": 200,
    "start_time": "2024-07-21T18:39:57.660Z"
   },
   {
    "duration": 216,
    "start_time": "2024-07-21T18:40:00.266Z"
   },
   {
    "duration": 60,
    "start_time": "2024-07-21T18:40:01.302Z"
   },
   {
    "duration": 1428,
    "start_time": "2024-07-21T18:40:03.010Z"
   },
   {
    "duration": 7,
    "start_time": "2024-07-21T18:40:04.783Z"
   },
   {
    "duration": 22,
    "start_time": "2024-07-21T18:40:07.059Z"
   },
   {
    "duration": 20,
    "start_time": "2024-07-21T18:40:07.829Z"
   },
   {
    "duration": 29,
    "start_time": "2024-07-21T18:40:08.536Z"
   },
   {
    "duration": 25,
    "start_time": "2024-07-21T18:40:09.160Z"
   },
   {
    "duration": 18,
    "start_time": "2024-07-21T18:40:09.845Z"
   },
   {
    "duration": 33,
    "start_time": "2024-07-21T18:40:11.897Z"
   },
   {
    "duration": 28,
    "start_time": "2024-07-21T18:40:12.812Z"
   },
   {
    "duration": 338,
    "start_time": "2024-07-21T18:40:22.432Z"
   },
   {
    "duration": 37,
    "start_time": "2024-07-21T18:40:43.264Z"
   },
   {
    "duration": 23,
    "start_time": "2024-07-21T18:40:48.455Z"
   },
   {
    "duration": 1386,
    "start_time": "2024-07-21T20:11:53.480Z"
   },
   {
    "duration": 787,
    "start_time": "2024-07-21T20:11:54.870Z"
   },
   {
    "duration": 41,
    "start_time": "2024-07-21T20:11:55.661Z"
   },
   {
    "duration": 166,
    "start_time": "2024-07-21T20:11:55.705Z"
   },
   {
    "duration": 46,
    "start_time": "2024-07-21T20:11:55.877Z"
   },
   {
    "duration": 29,
    "start_time": "2024-07-21T20:11:55.926Z"
   },
   {
    "duration": 64,
    "start_time": "2024-07-21T20:11:55.959Z"
   },
   {
    "duration": 29,
    "start_time": "2024-07-21T20:11:56.026Z"
   },
   {
    "duration": 7,
    "start_time": "2024-07-21T20:11:56.058Z"
   },
   {
    "duration": 8,
    "start_time": "2024-07-21T20:11:56.068Z"
   },
   {
    "duration": 161,
    "start_time": "2024-07-21T20:11:56.080Z"
   },
   {
    "duration": 148,
    "start_time": "2024-07-21T20:11:56.245Z"
   },
   {
    "duration": 66,
    "start_time": "2024-07-21T20:11:56.396Z"
   },
   {
    "duration": 122,
    "start_time": "2024-07-21T20:11:56.469Z"
   },
   {
    "duration": 6,
    "start_time": "2024-07-21T20:11:56.594Z"
   },
   {
    "duration": 20,
    "start_time": "2024-07-21T20:11:56.603Z"
   },
   {
    "duration": 5,
    "start_time": "2024-07-21T20:11:56.626Z"
   },
   {
    "duration": 134,
    "start_time": "2024-07-21T20:11:56.634Z"
   },
   {
    "duration": 174,
    "start_time": "2024-07-21T20:11:56.771Z"
   },
   {
    "duration": 125,
    "start_time": "2024-07-21T20:11:56.948Z"
   },
   {
    "duration": 47,
    "start_time": "2024-07-21T20:11:57.076Z"
   },
   {
    "duration": 1278,
    "start_time": "2024-07-21T20:11:57.126Z"
   },
   {
    "duration": 6,
    "start_time": "2024-07-21T20:11:58.407Z"
   },
   {
    "duration": 17,
    "start_time": "2024-07-21T20:11:58.423Z"
   },
   {
    "duration": 21,
    "start_time": "2024-07-21T20:11:58.444Z"
   },
   {
    "duration": 67,
    "start_time": "2024-07-21T20:11:58.468Z"
   },
   {
    "duration": 20,
    "start_time": "2024-07-21T20:11:58.539Z"
   },
   {
    "duration": 17,
    "start_time": "2024-07-21T20:11:58.562Z"
   },
   {
    "duration": 61,
    "start_time": "2024-07-21T20:11:58.582Z"
   },
   {
    "duration": 27,
    "start_time": "2024-07-21T20:11:58.646Z"
   },
   {
    "duration": 326,
    "start_time": "2024-07-21T20:12:16.047Z"
   },
   {
    "duration": 22,
    "start_time": "2024-07-21T20:12:17.669Z"
   },
   {
    "duration": 3,
    "start_time": "2024-07-21T20:12:18.409Z"
   },
   {
    "duration": 1417,
    "start_time": "2024-07-21T20:12:23.787Z"
   },
   {
    "duration": 852,
    "start_time": "2024-07-21T20:12:25.599Z"
   },
   {
    "duration": 46,
    "start_time": "2024-07-21T20:12:27.927Z"
   },
   {
    "duration": 144,
    "start_time": "2024-07-21T20:12:28.667Z"
   },
   {
    "duration": 33,
    "start_time": "2024-07-21T20:12:29.543Z"
   },
   {
    "duration": 31,
    "start_time": "2024-07-21T20:12:31.004Z"
   },
   {
    "duration": 36,
    "start_time": "2024-07-21T20:12:35.123Z"
   },
   {
    "duration": 28,
    "start_time": "2024-07-21T20:12:35.812Z"
   },
   {
    "duration": 5,
    "start_time": "2024-07-21T20:12:36.709Z"
   },
   {
    "duration": 6,
    "start_time": "2024-07-21T20:12:37.612Z"
   },
   {
    "duration": 111,
    "start_time": "2024-07-21T20:12:38.344Z"
   },
   {
    "duration": 133,
    "start_time": "2024-07-21T20:12:38.979Z"
   },
   {
    "duration": 49,
    "start_time": "2024-07-21T20:12:39.641Z"
   },
   {
    "duration": 152,
    "start_time": "2024-07-21T20:12:42.342Z"
   },
   {
    "duration": 6,
    "start_time": "2024-07-21T20:12:42.989Z"
   },
   {
    "duration": 3,
    "start_time": "2024-07-21T20:12:43.653Z"
   },
   {
    "duration": 3,
    "start_time": "2024-07-21T20:12:44.302Z"
   },
   {
    "duration": 133,
    "start_time": "2024-07-21T20:12:46.625Z"
   },
   {
    "duration": 144,
    "start_time": "2024-07-21T20:12:47.405Z"
   },
   {
    "duration": 110,
    "start_time": "2024-07-21T20:12:48.489Z"
   },
   {
    "duration": 26,
    "start_time": "2024-07-21T20:12:49.257Z"
   },
   {
    "duration": 1343,
    "start_time": "2024-07-21T20:12:49.998Z"
   },
   {
    "duration": 6,
    "start_time": "2024-07-21T20:12:51.570Z"
   },
   {
    "duration": 16,
    "start_time": "2024-07-21T20:12:52.377Z"
   },
   {
    "duration": 21,
    "start_time": "2024-07-21T20:12:53.189Z"
   },
   {
    "duration": 24,
    "start_time": "2024-07-21T20:12:55.879Z"
   },
   {
    "duration": 21,
    "start_time": "2024-07-21T20:12:56.474Z"
   },
   {
    "duration": 18,
    "start_time": "2024-07-21T20:12:56.966Z"
   },
   {
    "duration": 27,
    "start_time": "2024-07-21T20:12:59.118Z"
   },
   {
    "duration": 28,
    "start_time": "2024-07-21T20:12:59.915Z"
   },
   {
    "duration": 320,
    "start_time": "2024-07-21T20:13:12.704Z"
   },
   {
    "duration": 27,
    "start_time": "2024-07-21T20:13:31.942Z"
   },
   {
    "duration": 4,
    "start_time": "2024-07-21T20:13:54.610Z"
   },
   {
    "duration": 10,
    "start_time": "2024-07-21T20:14:21.149Z"
   },
   {
    "duration": 5,
    "start_time": "2024-07-21T20:14:44.669Z"
   },
   {
    "duration": 1369,
    "start_time": "2024-07-21T20:14:52.586Z"
   },
   {
    "duration": 807,
    "start_time": "2024-07-21T20:14:53.959Z"
   },
   {
    "duration": 56,
    "start_time": "2024-07-21T20:14:54.769Z"
   },
   {
    "duration": 172,
    "start_time": "2024-07-21T20:14:54.828Z"
   },
   {
    "duration": 39,
    "start_time": "2024-07-21T20:14:55.005Z"
   },
   {
    "duration": 30,
    "start_time": "2024-07-21T20:14:55.047Z"
   },
   {
    "duration": 70,
    "start_time": "2024-07-21T20:14:55.080Z"
   },
   {
    "duration": 29,
    "start_time": "2024-07-21T20:14:55.153Z"
   },
   {
    "duration": 7,
    "start_time": "2024-07-21T20:14:55.185Z"
   },
   {
    "duration": 31,
    "start_time": "2024-07-21T20:14:55.195Z"
   },
   {
    "duration": 138,
    "start_time": "2024-07-21T20:14:55.229Z"
   },
   {
    "duration": 145,
    "start_time": "2024-07-21T20:14:55.370Z"
   },
   {
    "duration": 46,
    "start_time": "2024-07-21T20:14:55.524Z"
   },
   {
    "duration": 180,
    "start_time": "2024-07-21T20:14:55.578Z"
   },
   {
    "duration": 7,
    "start_time": "2024-07-21T20:14:55.761Z"
   },
   {
    "duration": 3,
    "start_time": "2024-07-21T20:14:55.772Z"
   },
   {
    "duration": 5,
    "start_time": "2024-07-21T20:14:55.779Z"
   },
   {
    "duration": 167,
    "start_time": "2024-07-21T20:14:55.788Z"
   },
   {
    "duration": 157,
    "start_time": "2024-07-21T20:14:55.958Z"
   },
   {
    "duration": 120,
    "start_time": "2024-07-21T20:14:56.122Z"
   },
   {
    "duration": 27,
    "start_time": "2024-07-21T20:14:56.245Z"
   },
   {
    "duration": 1304,
    "start_time": "2024-07-21T20:14:56.275Z"
   },
   {
    "duration": 6,
    "start_time": "2024-07-21T20:14:57.582Z"
   },
   {
    "duration": 38,
    "start_time": "2024-07-21T20:14:57.592Z"
   },
   {
    "duration": 20,
    "start_time": "2024-07-21T20:14:57.633Z"
   },
   {
    "duration": 25,
    "start_time": "2024-07-21T20:14:57.657Z"
   },
   {
    "duration": 54,
    "start_time": "2024-07-21T20:14:57.685Z"
   },
   {
    "duration": 21,
    "start_time": "2024-07-21T20:14:57.742Z"
   },
   {
    "duration": 70,
    "start_time": "2024-07-21T20:14:57.767Z"
   },
   {
    "duration": 29,
    "start_time": "2024-07-21T20:14:57.840Z"
   },
   {
    "duration": 1417,
    "start_time": "2024-07-21T20:15:20.727Z"
   },
   {
    "duration": 799,
    "start_time": "2024-07-21T20:15:22.148Z"
   },
   {
    "duration": 44,
    "start_time": "2024-07-21T20:15:22.951Z"
   },
   {
    "duration": 166,
    "start_time": "2024-07-21T20:15:22.998Z"
   },
   {
    "duration": 26,
    "start_time": "2024-07-21T20:15:23.169Z"
   },
   {
    "duration": 30,
    "start_time": "2024-07-21T20:15:23.223Z"
   },
   {
    "duration": 37,
    "start_time": "2024-07-21T20:15:23.257Z"
   },
   {
    "duration": 48,
    "start_time": "2024-07-21T20:15:23.297Z"
   },
   {
    "duration": 7,
    "start_time": "2024-07-21T20:15:23.348Z"
   },
   {
    "duration": 10,
    "start_time": "2024-07-21T20:15:23.359Z"
   },
   {
    "duration": 161,
    "start_time": "2024-07-21T20:15:23.371Z"
   },
   {
    "duration": 153,
    "start_time": "2024-07-21T20:15:23.535Z"
   },
   {
    "duration": 54,
    "start_time": "2024-07-21T20:15:23.692Z"
   },
   {
    "duration": 191,
    "start_time": "2024-07-21T20:15:23.754Z"
   },
   {
    "duration": 1417,
    "start_time": "2024-07-21T20:15:51.411Z"
   },
   {
    "duration": 748,
    "start_time": "2024-07-21T20:15:52.832Z"
   },
   {
    "duration": 44,
    "start_time": "2024-07-21T20:15:54.526Z"
   },
   {
    "duration": 147,
    "start_time": "2024-07-21T20:15:55.406Z"
   },
   {
    "duration": 25,
    "start_time": "2024-07-21T20:15:56.308Z"
   },
   {
    "duration": 28,
    "start_time": "2024-07-21T20:15:58.955Z"
   },
   {
    "duration": 37,
    "start_time": "2024-07-21T20:16:04.296Z"
   },
   {
    "duration": 28,
    "start_time": "2024-07-21T20:16:04.973Z"
   },
   {
    "duration": 6,
    "start_time": "2024-07-21T20:16:05.499Z"
   },
   {
    "duration": 6,
    "start_time": "2024-07-21T20:16:06.367Z"
   },
   {
    "duration": 113,
    "start_time": "2024-07-21T20:16:07.032Z"
   },
   {
    "duration": 137,
    "start_time": "2024-07-21T20:16:07.546Z"
   },
   {
    "duration": 6,
    "start_time": "2024-07-21T20:16:19.943Z"
   },
   {
    "duration": 28,
    "start_time": "2024-07-21T20:16:59.128Z"
   },
   {
    "duration": 27,
    "start_time": "2024-07-21T20:17:08.198Z"
   },
   {
    "duration": 7,
    "start_time": "2024-07-21T20:17:09.419Z"
   },
   {
    "duration": 7,
    "start_time": "2024-07-21T20:17:10.118Z"
   },
   {
    "duration": 119,
    "start_time": "2024-07-21T20:17:10.823Z"
   },
   {
    "duration": 132,
    "start_time": "2024-07-21T20:17:11.878Z"
   },
   {
    "duration": 51,
    "start_time": "2024-07-21T20:17:12.786Z"
   },
   {
    "duration": 149,
    "start_time": "2024-07-21T20:17:19.972Z"
   },
   {
    "duration": 6,
    "start_time": "2024-07-21T20:17:20.986Z"
   },
   {
    "duration": 3,
    "start_time": "2024-07-21T20:17:22.271Z"
   },
   {
    "duration": 4,
    "start_time": "2024-07-21T20:17:22.762Z"
   },
   {
    "duration": 114,
    "start_time": "2024-07-21T20:17:25.110Z"
   },
   {
    "duration": 146,
    "start_time": "2024-07-21T20:17:26.006Z"
   },
   {
    "duration": 106,
    "start_time": "2024-07-21T20:17:26.918Z"
   },
   {
    "duration": 26,
    "start_time": "2024-07-21T20:17:27.818Z"
   },
   {
    "duration": 1274,
    "start_time": "2024-07-21T20:17:28.515Z"
   },
   {
    "duration": 7,
    "start_time": "2024-07-21T20:17:29.793Z"
   },
   {
    "duration": 18,
    "start_time": "2024-07-21T20:17:30.687Z"
   },
   {
    "duration": 20,
    "start_time": "2024-07-21T20:17:31.579Z"
   },
   {
    "duration": 23,
    "start_time": "2024-07-21T20:17:32.564Z"
   },
   {
    "duration": 20,
    "start_time": "2024-07-21T20:17:33.957Z"
   },
   {
    "duration": 18,
    "start_time": "2024-07-21T20:17:35.472Z"
   },
   {
    "duration": 27,
    "start_time": "2024-07-21T20:17:40.692Z"
   },
   {
    "duration": 27,
    "start_time": "2024-07-21T20:17:41.458Z"
   },
   {
    "duration": 5,
    "start_time": "2024-07-21T20:17:52.476Z"
   },
   {
    "duration": 6,
    "start_time": "2024-07-21T20:18:05.895Z"
   },
   {
    "duration": 320,
    "start_time": "2024-07-21T20:18:46.753Z"
   },
   {
    "duration": 22,
    "start_time": "2024-07-21T20:18:54.420Z"
   },
   {
    "duration": 1361,
    "start_time": "2024-07-21T20:19:00.374Z"
   },
   {
    "duration": 796,
    "start_time": "2024-07-21T20:19:01.740Z"
   },
   {
    "duration": 41,
    "start_time": "2024-07-21T20:19:02.539Z"
   },
   {
    "duration": 165,
    "start_time": "2024-07-21T20:19:02.655Z"
   },
   {
    "duration": 26,
    "start_time": "2024-07-21T20:19:03.103Z"
   },
   {
    "duration": 30,
    "start_time": "2024-07-21T20:19:04.486Z"
   },
   {
    "duration": 6,
    "start_time": "2024-07-21T20:19:22.214Z"
   },
   {
    "duration": 6,
    "start_time": "2024-07-21T20:20:04.431Z"
   },
   {
    "duration": 150,
    "start_time": "2024-07-21T20:20:04.606Z"
   },
   {
    "duration": 50,
    "start_time": "2024-07-21T20:20:07.567Z"
   },
   {
    "duration": 158,
    "start_time": "2024-07-21T20:20:22.364Z"
   },
   {
    "duration": 52,
    "start_time": "2024-07-21T20:20:30.381Z"
   },
   {
    "duration": 6,
    "start_time": "2024-07-21T20:20:40.593Z"
   },
   {
    "duration": 716,
    "start_time": "2024-07-21T20:20:41.429Z"
   },
   {
    "duration": 31,
    "start_time": "2024-07-21T20:20:43.176Z"
   },
   {
    "duration": 142,
    "start_time": "2024-07-21T20:20:43.853Z"
   },
   {
    "duration": 18,
    "start_time": "2024-07-21T20:20:44.670Z"
   },
   {
    "duration": 30,
    "start_time": "2024-07-21T20:20:45.929Z"
   },
   {
    "duration": 8,
    "start_time": "2024-07-21T20:20:49.047Z"
   },
   {
    "duration": 36,
    "start_time": "2024-07-21T20:20:49.770Z"
   },
   {
    "duration": 30,
    "start_time": "2024-07-21T20:20:50.397Z"
   },
   {
    "duration": 6,
    "start_time": "2024-07-21T20:20:51.000Z"
   },
   {
    "duration": 5,
    "start_time": "2024-07-21T20:20:51.640Z"
   },
   {
    "duration": 118,
    "start_time": "2024-07-21T20:20:52.326Z"
   },
   {
    "duration": 139,
    "start_time": "2024-07-21T20:20:52.922Z"
   },
   {
    "duration": 46,
    "start_time": "2024-07-21T20:21:02.450Z"
   },
   {
    "duration": 109,
    "start_time": "2024-07-21T20:21:02.499Z"
   },
   {
    "duration": 8,
    "start_time": "2024-07-21T20:21:02.620Z"
   },
   {
    "duration": 6,
    "start_time": "2024-07-21T20:21:02.633Z"
   },
   {
    "duration": 109,
    "start_time": "2024-07-21T20:21:10.660Z"
   },
   {
    "duration": 145,
    "start_time": "2024-07-21T20:21:11.593Z"
   },
   {
    "duration": 115,
    "start_time": "2024-07-21T20:21:12.740Z"
   },
   {
    "duration": 28,
    "start_time": "2024-07-21T20:21:13.811Z"
   },
   {
    "duration": 1280,
    "start_time": "2024-07-21T20:21:14.896Z"
   },
   {
    "duration": 6,
    "start_time": "2024-07-21T20:21:16.179Z"
   },
   {
    "duration": 16,
    "start_time": "2024-07-21T20:21:17.094Z"
   },
   {
    "duration": 20,
    "start_time": "2024-07-21T20:21:17.847Z"
   },
   {
    "duration": 23,
    "start_time": "2024-07-21T20:21:18.567Z"
   },
   {
    "duration": 20,
    "start_time": "2024-07-21T20:21:19.349Z"
   },
   {
    "duration": 19,
    "start_time": "2024-07-21T20:21:20.317Z"
   },
   {
    "duration": 26,
    "start_time": "2024-07-21T20:21:22.576Z"
   },
   {
    "duration": 27,
    "start_time": "2024-07-21T20:21:23.408Z"
   },
   {
    "duration": 7,
    "start_time": "2024-07-21T20:21:24.115Z"
   },
   {
    "duration": 5,
    "start_time": "2024-07-21T20:21:24.819Z"
   },
   {
    "duration": 6,
    "start_time": "2024-07-21T20:21:26.983Z"
   },
   {
    "duration": 719,
    "start_time": "2024-07-21T20:21:27.903Z"
   },
   {
    "duration": 699,
    "start_time": "2024-07-21T20:22:11.890Z"
   },
   {
    "duration": 755,
    "start_time": "2024-07-21T20:22:15.567Z"
   },
   {
    "duration": 156,
    "start_time": "2024-07-21T20:22:41.270Z"
   },
   {
    "duration": 62,
    "start_time": "2024-07-21T20:24:12.476Z"
   },
   {
    "duration": 753,
    "start_time": "2024-07-21T20:24:23.942Z"
   },
   {
    "duration": 66,
    "start_time": "2024-07-21T20:24:26.964Z"
   },
   {
    "duration": 265,
    "start_time": "2024-07-21T20:25:01.176Z"
   },
   {
    "duration": 77,
    "start_time": "2024-07-21T20:25:05.256Z"
   },
   {
    "duration": 1638,
    "start_time": "2024-07-21T20:25:09.267Z"
   },
   {
    "duration": 26,
    "start_time": "2024-07-21T20:25:11.241Z"
   },
   {
    "duration": 1866,
    "start_time": "2024-07-21T20:25:41.721Z"
   },
   {
    "duration": 4,
    "start_time": "2024-07-21T20:25:43.624Z"
   },
   {
    "duration": 27,
    "start_time": "2024-07-21T20:25:45.089Z"
   },
   {
    "duration": 4,
    "start_time": "2024-07-21T20:26:01.148Z"
   },
   {
    "duration": 417,
    "start_time": "2024-07-21T20:26:13.850Z"
   },
   {
    "duration": 2007,
    "start_time": "2024-07-21T20:26:19.077Z"
   },
   {
    "duration": 6,
    "start_time": "2024-07-21T20:26:57.182Z"
   },
   {
    "duration": 5,
    "start_time": "2024-07-21T20:26:58.243Z"
   },
   {
    "duration": 446,
    "start_time": "2024-07-21T20:27:39.524Z"
   },
   {
    "duration": 260,
    "start_time": "2024-07-21T20:27:40.548Z"
   },
   {
    "duration": 85,
    "start_time": "2024-07-21T20:28:56.347Z"
   },
   {
    "duration": 5,
    "start_time": "2024-07-21T20:29:03.222Z"
   },
   {
    "duration": 5,
    "start_time": "2024-07-21T20:29:04.110Z"
   },
   {
    "duration": 55,
    "start_time": "2024-07-21T20:29:07.846Z"
   },
   {
    "duration": 89,
    "start_time": "2024-07-21T20:29:31.236Z"
   },
   {
    "duration": 56,
    "start_time": "2024-07-21T20:30:03.178Z"
   },
   {
    "duration": 57,
    "start_time": "2024-07-21T20:30:27.884Z"
   },
   {
    "duration": 58,
    "start_time": "2024-07-21T20:30:52.948Z"
   },
   {
    "duration": 60,
    "start_time": "2024-07-21T20:30:59.568Z"
   },
   {
    "duration": 32,
    "start_time": "2024-07-21T20:32:15.840Z"
   },
   {
    "duration": 35,
    "start_time": "2024-07-21T20:33:30.635Z"
   },
   {
    "duration": 4,
    "start_time": "2024-07-21T20:36:40.684Z"
   },
   {
    "duration": 1164,
    "start_time": "2024-07-21T20:36:41.938Z"
   },
   {
    "duration": 71,
    "start_time": "2024-07-21T20:37:44.597Z"
   },
   {
    "duration": 66,
    "start_time": "2024-07-21T20:38:17.395Z"
   },
   {
    "duration": 319,
    "start_time": "2024-07-21T20:38:30.458Z"
   },
   {
    "duration": 272,
    "start_time": "2024-07-21T20:39:32.473Z"
   },
   {
    "duration": 29,
    "start_time": "2024-07-21T20:40:28.046Z"
   },
   {
    "duration": 56,
    "start_time": "2024-07-21T20:40:43.357Z"
   },
   {
    "duration": 5,
    "start_time": "2024-07-21T20:41:11.906Z"
   },
   {
    "duration": 5,
    "start_time": "2024-07-21T20:41:19.475Z"
   },
   {
    "duration": 35,
    "start_time": "2024-07-21T20:42:05.177Z"
   },
   {
    "duration": 259,
    "start_time": "2024-07-21T20:42:32.031Z"
   },
   {
    "duration": 83,
    "start_time": "2024-07-21T20:42:37.710Z"
   },
   {
    "duration": 307,
    "start_time": "2024-07-21T20:42:42.580Z"
   },
   {
    "duration": 0,
    "start_time": "2024-07-21T20:42:42.889Z"
   },
   {
    "duration": 22,
    "start_time": "2024-07-21T20:42:48.510Z"
   },
   {
    "duration": 26,
    "start_time": "2024-07-21T20:42:49.438Z"
   },
   {
    "duration": 23,
    "start_time": "2024-07-21T20:42:50.297Z"
   },
   {
    "duration": 1329,
    "start_time": "2024-07-21T20:48:34.042Z"
   },
   {
    "duration": 779,
    "start_time": "2024-07-21T20:48:35.492Z"
   },
   {
    "duration": 40,
    "start_time": "2024-07-21T20:48:38.846Z"
   },
   {
    "duration": 154,
    "start_time": "2024-07-21T20:48:40.269Z"
   },
   {
    "duration": 24,
    "start_time": "2024-07-21T20:48:41.311Z"
   },
   {
    "duration": 30,
    "start_time": "2024-07-21T20:48:42.648Z"
   },
   {
    "duration": 5,
    "start_time": "2024-07-21T20:48:45.206Z"
   },
   {
    "duration": 35,
    "start_time": "2024-07-21T20:48:45.988Z"
   },
   {
    "duration": 27,
    "start_time": "2024-07-21T20:48:47.013Z"
   },
   {
    "duration": 6,
    "start_time": "2024-07-21T20:48:47.977Z"
   },
   {
    "duration": 5,
    "start_time": "2024-07-21T20:48:48.642Z"
   },
   {
    "duration": 110,
    "start_time": "2024-07-21T20:48:49.260Z"
   },
   {
    "duration": 135,
    "start_time": "2024-07-21T20:48:49.915Z"
   },
   {
    "duration": 44,
    "start_time": "2024-07-21T20:48:50.572Z"
   },
   {
    "duration": 144,
    "start_time": "2024-07-21T20:48:53.973Z"
   },
   {
    "duration": 6,
    "start_time": "2024-07-21T20:48:55.176Z"
   },
   {
    "duration": 4,
    "start_time": "2024-07-21T20:48:55.860Z"
   },
   {
    "duration": 4,
    "start_time": "2024-07-21T20:48:56.359Z"
   },
   {
    "duration": 114,
    "start_time": "2024-07-21T20:48:57.895Z"
   },
   {
    "duration": 146,
    "start_time": "2024-07-21T20:48:58.619Z"
   },
   {
    "duration": 104,
    "start_time": "2024-07-21T20:48:59.115Z"
   },
   {
    "duration": 27,
    "start_time": "2024-07-21T20:48:59.845Z"
   },
   {
    "duration": 1275,
    "start_time": "2024-07-21T20:49:00.467Z"
   },
   {
    "duration": 6,
    "start_time": "2024-07-21T20:49:01.746Z"
   },
   {
    "duration": 16,
    "start_time": "2024-07-21T20:49:02.451Z"
   },
   {
    "duration": 20,
    "start_time": "2024-07-21T20:49:03.138Z"
   },
   {
    "duration": 27,
    "start_time": "2024-07-21T20:49:03.816Z"
   },
   {
    "duration": 19,
    "start_time": "2024-07-21T20:49:04.558Z"
   },
   {
    "duration": 17,
    "start_time": "2024-07-21T20:49:05.239Z"
   },
   {
    "duration": 28,
    "start_time": "2024-07-21T20:49:07.397Z"
   },
   {
    "duration": 26,
    "start_time": "2024-07-21T20:49:08.283Z"
   },
   {
    "duration": 5,
    "start_time": "2024-07-21T20:49:09.677Z"
   },
   {
    "duration": 5,
    "start_time": "2024-07-21T20:49:10.517Z"
   },
   {
    "duration": 5,
    "start_time": "2024-07-21T20:49:14.210Z"
   },
   {
    "duration": 265,
    "start_time": "2024-07-21T20:49:16.047Z"
   },
   {
    "duration": 76,
    "start_time": "2024-07-21T20:49:19.351Z"
   },
   {
    "duration": 1640,
    "start_time": "2024-07-21T20:49:21.162Z"
   },
   {
    "duration": 4,
    "start_time": "2024-07-21T20:49:23.152Z"
   },
   {
    "duration": 5,
    "start_time": "2024-07-21T20:49:26.783Z"
   },
   {
    "duration": 419,
    "start_time": "2024-07-21T20:49:29.255Z"
   },
   {
    "duration": 280,
    "start_time": "2024-07-21T20:49:31.186Z"
   },
   {
    "duration": 5,
    "start_time": "2024-07-21T20:49:32.183Z"
   },
   {
    "duration": 5,
    "start_time": "2024-07-21T20:49:32.844Z"
   },
   {
    "duration": 35,
    "start_time": "2024-07-21T20:49:45.722Z"
   },
   {
    "duration": 262,
    "start_time": "2024-07-21T20:51:40.902Z"
   },
   {
    "duration": 1065,
    "start_time": "2024-07-21T20:51:42.792Z"
   },
   {
    "duration": 317,
    "start_time": "2024-07-21T20:52:56.307Z"
   },
   {
    "duration": 21,
    "start_time": "2024-07-21T20:53:08.415Z"
   },
   {
    "duration": 27,
    "start_time": "2024-07-21T20:53:10.736Z"
   },
   {
    "duration": 20,
    "start_time": "2024-07-21T20:53:31.256Z"
   },
   {
    "duration": 332,
    "start_time": "2024-07-21T20:53:50.951Z"
   },
   {
    "duration": 8,
    "start_time": "2024-07-21T20:54:12.917Z"
   },
   {
    "duration": 1400,
    "start_time": "2024-07-21T20:54:29.646Z"
   },
   {
    "duration": 811,
    "start_time": "2024-07-21T20:54:31.050Z"
   },
   {
    "duration": 42,
    "start_time": "2024-07-21T20:54:32.370Z"
   },
   {
    "duration": 161,
    "start_time": "2024-07-21T20:54:33.546Z"
   },
   {
    "duration": 24,
    "start_time": "2024-07-21T20:54:33.945Z"
   },
   {
    "duration": 29,
    "start_time": "2024-07-21T20:54:35.099Z"
   },
   {
    "duration": 6,
    "start_time": "2024-07-21T20:54:37.275Z"
   },
   {
    "duration": 36,
    "start_time": "2024-07-21T20:54:37.942Z"
   },
   {
    "duration": 27,
    "start_time": "2024-07-21T20:54:38.608Z"
   },
   {
    "duration": 5,
    "start_time": "2024-07-21T20:54:39.275Z"
   },
   {
    "duration": 6,
    "start_time": "2024-07-21T20:54:39.893Z"
   },
   {
    "duration": 113,
    "start_time": "2024-07-21T20:54:40.459Z"
   },
   {
    "duration": 136,
    "start_time": "2024-07-21T20:54:41.324Z"
   },
   {
    "duration": 45,
    "start_time": "2024-07-21T20:54:41.859Z"
   },
   {
    "duration": 102,
    "start_time": "2024-07-21T20:54:43.808Z"
   },
   {
    "duration": 5,
    "start_time": "2024-07-21T20:54:44.632Z"
   },
   {
    "duration": 3,
    "start_time": "2024-07-21T20:54:45.629Z"
   },
   {
    "duration": 3,
    "start_time": "2024-07-21T20:54:46.097Z"
   },
   {
    "duration": 117,
    "start_time": "2024-07-21T20:54:47.367Z"
   },
   {
    "duration": 143,
    "start_time": "2024-07-21T20:54:48.093Z"
   },
   {
    "duration": 109,
    "start_time": "2024-07-21T20:54:48.599Z"
   },
   {
    "duration": 27,
    "start_time": "2024-07-21T20:54:49.341Z"
   },
   {
    "duration": 1263,
    "start_time": "2024-07-21T20:54:50.068Z"
   },
   {
    "duration": 6,
    "start_time": "2024-07-21T20:54:51.335Z"
   },
   {
    "duration": 19,
    "start_time": "2024-07-21T20:54:51.968Z"
   },
   {
    "duration": 20,
    "start_time": "2024-07-21T20:54:52.651Z"
   },
   {
    "duration": 22,
    "start_time": "2024-07-21T20:54:53.287Z"
   },
   {
    "duration": 20,
    "start_time": "2024-07-21T20:54:53.942Z"
   },
   {
    "duration": 17,
    "start_time": "2024-07-21T20:54:54.558Z"
   },
   {
    "duration": 28,
    "start_time": "2024-07-21T20:54:56.913Z"
   },
   {
    "duration": 26,
    "start_time": "2024-07-21T20:55:06.145Z"
   },
   {
    "duration": 6,
    "start_time": "2024-07-21T20:55:08.025Z"
   },
   {
    "duration": 6,
    "start_time": "2024-07-21T20:55:08.453Z"
   },
   {
    "duration": 5,
    "start_time": "2024-07-21T20:56:21.399Z"
   },
   {
    "duration": 18,
    "start_time": "2024-07-21T20:56:22.256Z"
   },
   {
    "duration": 126,
    "start_time": "2024-07-21T20:56:35.987Z"
   },
   {
    "duration": 94,
    "start_time": "2024-07-21T20:56:57.432Z"
   },
   {
    "duration": 5,
    "start_time": "2024-07-21T20:57:09.866Z"
   },
   {
    "duration": 19,
    "start_time": "2024-07-21T20:57:10.711Z"
   },
   {
    "duration": 6,
    "start_time": "2024-07-21T20:57:11.597Z"
   },
   {
    "duration": 941,
    "start_time": "2024-07-21T20:57:12.755Z"
   },
   {
    "duration": 180,
    "start_time": "2024-07-21T20:57:51.548Z"
   },
   {
    "duration": 4468,
    "start_time": "2024-07-21T20:58:31.802Z"
   },
   {
    "duration": 4115,
    "start_time": "2024-07-21T20:59:26.176Z"
   },
   {
    "duration": 4128,
    "start_time": "2024-07-21T20:59:51.401Z"
   },
   {
    "duration": 4482,
    "start_time": "2024-07-21T21:00:25.145Z"
   },
   {
    "duration": 4038,
    "start_time": "2024-07-21T21:01:13.652Z"
   },
   {
    "duration": 3950,
    "start_time": "2024-07-21T21:01:40.960Z"
   },
   {
    "duration": 1363,
    "start_time": "2024-07-21T21:30:56.825Z"
   },
   {
    "duration": 792,
    "start_time": "2024-07-21T21:30:58.192Z"
   },
   {
    "duration": 56,
    "start_time": "2024-07-21T21:30:58.987Z"
   },
   {
    "duration": 146,
    "start_time": "2024-07-21T21:30:59.045Z"
   },
   {
    "duration": 42,
    "start_time": "2024-07-21T21:30:59.197Z"
   },
   {
    "duration": 31,
    "start_time": "2024-07-21T21:30:59.242Z"
   },
   {
    "duration": 6,
    "start_time": "2024-07-21T21:30:59.277Z"
   },
   {
    "duration": 68,
    "start_time": "2024-07-21T21:30:59.287Z"
   },
   {
    "duration": 29,
    "start_time": "2024-07-21T21:30:59.358Z"
   },
   {
    "duration": 33,
    "start_time": "2024-07-21T21:30:59.390Z"
   },
   {
    "duration": 7,
    "start_time": "2024-07-21T21:30:59.427Z"
   },
   {
    "duration": 138,
    "start_time": "2024-07-21T21:30:59.437Z"
   },
   {
    "duration": 165,
    "start_time": "2024-07-21T21:30:59.578Z"
   },
   {
    "duration": 40,
    "start_time": "2024-07-21T21:30:59.753Z"
   },
   {
    "duration": 153,
    "start_time": "2024-07-21T21:30:59.795Z"
   },
   {
    "duration": 6,
    "start_time": "2024-07-21T21:30:59.951Z"
   },
   {
    "duration": 4,
    "start_time": "2024-07-21T21:30:59.961Z"
   },
   {
    "duration": 5,
    "start_time": "2024-07-21T21:30:59.968Z"
   },
   {
    "duration": 153,
    "start_time": "2024-07-21T21:30:59.976Z"
   },
   {
    "duration": 159,
    "start_time": "2024-07-21T21:31:00.132Z"
   },
   {
    "duration": 128,
    "start_time": "2024-07-21T21:31:00.293Z"
   },
   {
    "duration": 36,
    "start_time": "2024-07-21T21:31:00.425Z"
   },
   {
    "duration": 1325,
    "start_time": "2024-07-21T21:31:00.465Z"
   },
   {
    "duration": 6,
    "start_time": "2024-07-21T21:31:01.793Z"
   },
   {
    "duration": 29,
    "start_time": "2024-07-21T21:31:01.802Z"
   },
   {
    "duration": 22,
    "start_time": "2024-07-21T21:31:01.834Z"
   },
   {
    "duration": 24,
    "start_time": "2024-07-21T21:31:01.858Z"
   },
   {
    "duration": 19,
    "start_time": "2024-07-21T21:31:01.924Z"
   },
   {
    "duration": 18,
    "start_time": "2024-07-21T21:31:01.946Z"
   },
   {
    "duration": 64,
    "start_time": "2024-07-21T21:31:01.967Z"
   },
   {
    "duration": 29,
    "start_time": "2024-07-21T21:31:02.034Z"
   },
   {
    "duration": 6,
    "start_time": "2024-07-21T21:31:02.065Z"
   },
   {
    "duration": 6,
    "start_time": "2024-07-21T21:31:02.075Z"
   },
   {
    "duration": 267,
    "start_time": "2024-07-21T21:31:02.123Z"
   },
   {
    "duration": 1038,
    "start_time": "2024-07-21T21:31:02.393Z"
   },
   {
    "duration": 0,
    "start_time": "2024-07-21T21:31:03.435Z"
   },
   {
    "duration": 0,
    "start_time": "2024-07-21T21:31:03.438Z"
   },
   {
    "duration": 0,
    "start_time": "2024-07-21T21:31:03.441Z"
   },
   {
    "duration": 0,
    "start_time": "2024-07-21T21:31:03.443Z"
   },
   {
    "duration": 1,
    "start_time": "2024-07-21T21:31:03.446Z"
   },
   {
    "duration": 0,
    "start_time": "2024-07-21T21:31:03.450Z"
   },
   {
    "duration": 0,
    "start_time": "2024-07-21T21:31:03.452Z"
   },
   {
    "duration": 0,
    "start_time": "2024-07-21T21:31:03.454Z"
   },
   {
    "duration": 0,
    "start_time": "2024-07-21T21:31:03.457Z"
   },
   {
    "duration": 0,
    "start_time": "2024-07-21T21:31:03.460Z"
   },
   {
    "duration": 0,
    "start_time": "2024-07-21T21:31:03.462Z"
   },
   {
    "duration": 0,
    "start_time": "2024-07-21T21:31:03.465Z"
   },
   {
    "duration": 0,
    "start_time": "2024-07-21T21:31:03.467Z"
   },
   {
    "duration": 0,
    "start_time": "2024-07-21T21:31:03.468Z"
   },
   {
    "duration": 0,
    "start_time": "2024-07-21T21:31:03.470Z"
   },
   {
    "duration": 0,
    "start_time": "2024-07-21T21:31:03.524Z"
   },
   {
    "duration": 0,
    "start_time": "2024-07-21T21:31:03.526Z"
   },
   {
    "duration": 0,
    "start_time": "2024-07-21T21:31:03.528Z"
   },
   {
    "duration": 1364,
    "start_time": "2024-07-21T22:28:54.923Z"
   },
   {
    "duration": 730,
    "start_time": "2024-07-21T22:28:57.485Z"
   },
   {
    "duration": 43,
    "start_time": "2024-07-21T22:28:59.930Z"
   },
   {
    "duration": 147,
    "start_time": "2024-07-21T22:29:00.835Z"
   },
   {
    "duration": 25,
    "start_time": "2024-07-21T22:29:02.509Z"
   },
   {
    "duration": 30,
    "start_time": "2024-07-21T22:29:03.596Z"
   },
   {
    "duration": 5,
    "start_time": "2024-07-21T22:29:06.401Z"
   },
   {
    "duration": 35,
    "start_time": "2024-07-21T22:29:09.549Z"
   },
   {
    "duration": 27,
    "start_time": "2024-07-21T22:29:10.538Z"
   },
   {
    "duration": 5,
    "start_time": "2024-07-21T22:29:11.538Z"
   },
   {
    "duration": 6,
    "start_time": "2024-07-21T22:29:12.467Z"
   },
   {
    "duration": 114,
    "start_time": "2024-07-21T22:29:13.420Z"
   },
   {
    "duration": 134,
    "start_time": "2024-07-21T22:29:14.672Z"
   },
   {
    "duration": 44,
    "start_time": "2024-07-21T22:29:16.284Z"
   },
   {
    "duration": 100,
    "start_time": "2024-07-21T22:29:19.809Z"
   },
   {
    "duration": 7,
    "start_time": "2024-07-21T22:29:21.644Z"
   },
   {
    "duration": 120,
    "start_time": "2024-07-21T22:29:28.235Z"
   },
   {
    "duration": 146,
    "start_time": "2024-07-21T22:29:29.977Z"
   },
   {
    "duration": 111,
    "start_time": "2024-07-21T22:29:31.039Z"
   },
   {
    "duration": 27,
    "start_time": "2024-07-21T22:29:31.958Z"
   },
   {
    "duration": 1272,
    "start_time": "2024-07-21T22:29:33.016Z"
   },
   {
    "duration": 5,
    "start_time": "2024-07-21T22:29:34.292Z"
   },
   {
    "duration": 16,
    "start_time": "2024-07-21T22:29:35.070Z"
   },
   {
    "duration": 21,
    "start_time": "2024-07-21T22:29:36.010Z"
   },
   {
    "duration": 23,
    "start_time": "2024-07-21T22:29:38.634Z"
   },
   {
    "duration": 24,
    "start_time": "2024-07-21T22:29:39.733Z"
   },
   {
    "duration": 20,
    "start_time": "2024-07-21T22:29:40.415Z"
   },
   {
    "duration": 28,
    "start_time": "2024-07-21T22:29:51.645Z"
   },
   {
    "duration": 27,
    "start_time": "2024-07-21T22:29:52.568Z"
   },
   {
    "duration": 9,
    "start_time": "2024-07-21T22:29:53.514Z"
   },
   {
    "duration": 5,
    "start_time": "2024-07-21T22:29:54.203Z"
   },
   {
    "duration": 258,
    "start_time": "2024-07-21T22:30:22.649Z"
   },
   {
    "duration": 1050,
    "start_time": "2024-07-21T22:30:24.246Z"
   },
   {
    "duration": 263,
    "start_time": "2024-07-21T22:30:31.578Z"
   },
   {
    "duration": 60,
    "start_time": "2024-07-21T22:30:32.568Z"
   },
   {
    "duration": 64,
    "start_time": "2024-07-21T22:30:33.476Z"
   },
   {
    "duration": 6,
    "start_time": "2024-07-21T22:30:45.588Z"
   },
   {
    "duration": 698,
    "start_time": "2024-07-21T22:30:46.341Z"
   },
   {
    "duration": 34,
    "start_time": "2024-07-21T22:30:47.748Z"
   },
   {
    "duration": 141,
    "start_time": "2024-07-21T22:30:48.911Z"
   },
   {
    "duration": 23,
    "start_time": "2024-07-21T22:30:49.707Z"
   },
   {
    "duration": 6,
    "start_time": "2024-07-21T22:30:57.142Z"
   },
   {
    "duration": 692,
    "start_time": "2024-07-21T22:31:00.016Z"
   },
   {
    "duration": 38,
    "start_time": "2024-07-21T22:31:01.379Z"
   },
   {
    "duration": 141,
    "start_time": "2024-07-21T22:31:02.034Z"
   },
   {
    "duration": 22,
    "start_time": "2024-07-21T22:31:02.598Z"
   },
   {
    "duration": 24,
    "start_time": "2024-07-21T22:31:05.037Z"
   },
   {
    "duration": 6,
    "start_time": "2024-07-21T22:31:08.147Z"
   },
   {
    "duration": 29,
    "start_time": "2024-07-21T22:31:08.832Z"
   },
   {
    "duration": 27,
    "start_time": "2024-07-21T22:31:09.173Z"
   },
   {
    "duration": 6,
    "start_time": "2024-07-21T22:31:09.748Z"
   },
   {
    "duration": 5,
    "start_time": "2024-07-21T22:31:10.313Z"
   },
   {
    "duration": 110,
    "start_time": "2024-07-21T22:31:10.813Z"
   },
   {
    "duration": 129,
    "start_time": "2024-07-21T22:31:11.234Z"
   },
   {
    "duration": 45,
    "start_time": "2024-07-21T22:31:11.731Z"
   },
   {
    "duration": 110,
    "start_time": "2024-07-21T22:31:13.858Z"
   },
   {
    "duration": 6,
    "start_time": "2024-07-21T22:31:14.523Z"
   },
   {
    "duration": 4,
    "start_time": "2024-07-21T22:31:15.256Z"
   },
   {
    "duration": 4,
    "start_time": "2024-07-21T22:31:15.990Z"
   },
   {
    "duration": 121,
    "start_time": "2024-07-21T22:31:17.664Z"
   },
   {
    "duration": 145,
    "start_time": "2024-07-21T22:31:18.236Z"
   },
   {
    "duration": 110,
    "start_time": "2024-07-21T22:31:18.728Z"
   },
   {
    "duration": 27,
    "start_time": "2024-07-21T22:31:19.167Z"
   },
   {
    "duration": 1295,
    "start_time": "2024-07-21T22:31:19.597Z"
   },
   {
    "duration": 5,
    "start_time": "2024-07-21T22:31:20.895Z"
   },
   {
    "duration": 30,
    "start_time": "2024-07-21T22:31:20.904Z"
   },
   {
    "duration": 21,
    "start_time": "2024-07-21T22:31:20.938Z"
   },
   {
    "duration": 28,
    "start_time": "2024-07-21T22:31:21.134Z"
   },
   {
    "duration": 20,
    "start_time": "2024-07-21T22:31:21.412Z"
   },
   {
    "duration": 17,
    "start_time": "2024-07-21T22:31:21.694Z"
   },
   {
    "duration": 26,
    "start_time": "2024-07-21T22:31:23.028Z"
   },
   {
    "duration": 27,
    "start_time": "2024-07-21T22:31:23.645Z"
   },
   {
    "duration": 6,
    "start_time": "2024-07-21T22:31:24.156Z"
   },
   {
    "duration": 6,
    "start_time": "2024-07-21T22:31:24.618Z"
   },
   {
    "duration": 255,
    "start_time": "2024-07-21T22:31:28.905Z"
   },
   {
    "duration": 64,
    "start_time": "2024-07-21T22:31:29.552Z"
   },
   {
    "duration": 66,
    "start_time": "2024-07-21T22:31:30.480Z"
   },
   {
    "duration": 199,
    "start_time": "2024-07-21T22:31:31.524Z"
   },
   {
    "duration": 24,
    "start_time": "2024-07-21T22:31:32.818Z"
   },
   {
    "duration": 397,
    "start_time": "2024-07-21T22:31:36.055Z"
   },
   {
    "duration": 938,
    "start_time": "2024-07-21T22:31:36.936Z"
   },
   {
    "duration": 6,
    "start_time": "2024-07-21T22:31:37.877Z"
   },
   {
    "duration": 5,
    "start_time": "2024-07-21T22:31:38.139Z"
   },
   {
    "duration": 311,
    "start_time": "2024-07-21T22:31:52.538Z"
   },
   {
    "duration": 1297,
    "start_time": "2024-07-21T22:32:05.186Z"
   },
   {
    "duration": 724,
    "start_time": "2024-07-21T22:32:06.486Z"
   },
   {
    "duration": 47,
    "start_time": "2024-07-21T22:32:07.213Z"
   },
   {
    "duration": 173,
    "start_time": "2024-07-21T22:32:07.263Z"
   },
   {
    "duration": 26,
    "start_time": "2024-07-21T22:32:07.440Z"
   },
   {
    "duration": 29,
    "start_time": "2024-07-21T22:32:07.470Z"
   },
   {
    "duration": 5,
    "start_time": "2024-07-21T22:32:07.525Z"
   },
   {
    "duration": 36,
    "start_time": "2024-07-21T22:32:07.534Z"
   },
   {
    "duration": 60,
    "start_time": "2024-07-21T22:32:07.574Z"
   },
   {
    "duration": 6,
    "start_time": "2024-07-21T22:32:07.636Z"
   },
   {
    "duration": 6,
    "start_time": "2024-07-21T22:32:07.645Z"
   },
   {
    "duration": 150,
    "start_time": "2024-07-21T22:32:07.654Z"
   },
   {
    "duration": 151,
    "start_time": "2024-07-21T22:32:07.807Z"
   },
   {
    "duration": 39,
    "start_time": "2024-07-21T22:32:07.970Z"
   },
   {
    "duration": 119,
    "start_time": "2024-07-21T22:32:08.022Z"
   },
   {
    "duration": 6,
    "start_time": "2024-07-21T22:32:08.144Z"
   },
   {
    "duration": 16,
    "start_time": "2024-07-21T22:32:08.154Z"
   },
   {
    "duration": 4,
    "start_time": "2024-07-21T22:32:08.174Z"
   },
   {
    "duration": 146,
    "start_time": "2024-07-21T22:32:08.183Z"
   },
   {
    "duration": 156,
    "start_time": "2024-07-21T22:32:08.332Z"
   },
   {
    "duration": 119,
    "start_time": "2024-07-21T22:32:08.493Z"
   },
   {
    "duration": 31,
    "start_time": "2024-07-21T22:32:08.615Z"
   },
   {
    "duration": 1288,
    "start_time": "2024-07-21T22:32:08.649Z"
   },
   {
    "duration": 6,
    "start_time": "2024-07-21T22:32:09.940Z"
   },
   {
    "duration": 15,
    "start_time": "2024-07-21T22:32:09.950Z"
   },
   {
    "duration": 58,
    "start_time": "2024-07-21T22:32:09.969Z"
   },
   {
    "duration": 24,
    "start_time": "2024-07-21T22:32:10.030Z"
   },
   {
    "duration": 20,
    "start_time": "2024-07-21T22:32:10.056Z"
   },
   {
    "duration": 51,
    "start_time": "2024-07-21T22:32:10.079Z"
   },
   {
    "duration": 27,
    "start_time": "2024-07-21T22:32:10.134Z"
   },
   {
    "duration": 61,
    "start_time": "2024-07-21T22:32:10.163Z"
   },
   {
    "duration": 7,
    "start_time": "2024-07-21T22:32:10.228Z"
   },
   {
    "duration": 7,
    "start_time": "2024-07-21T22:32:10.237Z"
   },
   {
    "duration": 302,
    "start_time": "2024-07-21T22:32:10.248Z"
   },
   {
    "duration": 1042,
    "start_time": "2024-07-21T22:32:10.553Z"
   },
   {
    "duration": 0,
    "start_time": "2024-07-21T22:32:11.599Z"
   },
   {
    "duration": 0,
    "start_time": "2024-07-21T22:32:11.601Z"
   },
   {
    "duration": 0,
    "start_time": "2024-07-21T22:32:11.603Z"
   },
   {
    "duration": 0,
    "start_time": "2024-07-21T22:32:11.606Z"
   },
   {
    "duration": 0,
    "start_time": "2024-07-21T22:32:11.623Z"
   },
   {
    "duration": 0,
    "start_time": "2024-07-21T22:32:11.625Z"
   },
   {
    "duration": 0,
    "start_time": "2024-07-21T22:32:11.627Z"
   },
   {
    "duration": 0,
    "start_time": "2024-07-21T22:32:11.628Z"
   },
   {
    "duration": 0,
    "start_time": "2024-07-21T22:32:11.630Z"
   },
   {
    "duration": 0,
    "start_time": "2024-07-21T22:32:11.631Z"
   },
   {
    "duration": 0,
    "start_time": "2024-07-21T22:32:11.633Z"
   },
   {
    "duration": 0,
    "start_time": "2024-07-21T22:32:11.635Z"
   },
   {
    "duration": 0,
    "start_time": "2024-07-21T22:32:11.640Z"
   },
   {
    "duration": 0,
    "start_time": "2024-07-21T22:32:11.642Z"
   },
   {
    "duration": 1,
    "start_time": "2024-07-21T22:32:11.643Z"
   },
   {
    "duration": 0,
    "start_time": "2024-07-21T22:32:11.645Z"
   },
   {
    "duration": 0,
    "start_time": "2024-07-21T22:32:11.647Z"
   },
   {
    "duration": 0,
    "start_time": "2024-07-21T22:32:11.649Z"
   },
   {
    "duration": 5,
    "start_time": "2024-07-21T22:32:20.271Z"
   },
   {
    "duration": 4,
    "start_time": "2024-07-21T22:32:21.074Z"
   },
   {
    "duration": 3999,
    "start_time": "2024-07-21T22:32:23.033Z"
   },
   {
    "duration": 1330,
    "start_time": "2024-07-21T22:36:14.171Z"
   },
   {
    "duration": 892,
    "start_time": "2024-07-21T22:36:16.481Z"
   },
   {
    "duration": 44,
    "start_time": "2024-07-21T22:36:18.724Z"
   },
   {
    "duration": 171,
    "start_time": "2024-07-21T22:36:19.834Z"
   },
   {
    "duration": 25,
    "start_time": "2024-07-21T22:36:20.733Z"
   },
   {
    "duration": 30,
    "start_time": "2024-07-21T22:36:22.045Z"
   },
   {
    "duration": 19,
    "start_time": "2024-07-21T22:36:26.619Z"
   },
   {
    "duration": 38,
    "start_time": "2024-07-21T22:36:27.254Z"
   },
   {
    "duration": 40,
    "start_time": "2024-07-21T22:36:27.989Z"
   },
   {
    "duration": 32,
    "start_time": "2024-07-21T22:36:28.571Z"
   },
   {
    "duration": 30,
    "start_time": "2024-07-21T22:36:29.219Z"
   },
   {
    "duration": 136,
    "start_time": "2024-07-21T22:36:29.855Z"
   },
   {
    "duration": 153,
    "start_time": "2024-07-21T22:36:30.422Z"
   },
   {
    "duration": 52,
    "start_time": "2024-07-21T22:36:30.992Z"
   },
   {
    "duration": 145,
    "start_time": "2024-07-21T22:36:33.386Z"
   },
   {
    "duration": 7,
    "start_time": "2024-07-21T22:36:34.155Z"
   },
   {
    "duration": 4,
    "start_time": "2024-07-21T22:36:34.895Z"
   },
   {
    "duration": 4,
    "start_time": "2024-07-21T22:36:36.001Z"
   },
   {
    "duration": 114,
    "start_time": "2024-07-21T22:36:38.088Z"
   },
   {
    "duration": 209,
    "start_time": "2024-07-21T22:36:38.830Z"
   },
   {
    "duration": 133,
    "start_time": "2024-07-21T22:36:39.281Z"
   },
   {
    "duration": 32,
    "start_time": "2024-07-21T22:36:39.823Z"
   },
   {
    "duration": 1336,
    "start_time": "2024-07-21T22:36:41.090Z"
   },
   {
    "duration": 6,
    "start_time": "2024-07-21T22:36:42.430Z"
   },
   {
    "duration": 16,
    "start_time": "2024-07-21T22:36:43.241Z"
   },
   {
    "duration": 19,
    "start_time": "2024-07-21T22:36:44.036Z"
   },
   {
    "duration": 35,
    "start_time": "2024-07-21T22:36:44.709Z"
   },
   {
    "duration": 22,
    "start_time": "2024-07-21T22:36:45.382Z"
   },
   {
    "duration": 17,
    "start_time": "2024-07-21T22:36:46.228Z"
   },
   {
    "duration": 27,
    "start_time": "2024-07-21T22:36:48.474Z"
   },
   {
    "duration": 27,
    "start_time": "2024-07-21T22:36:49.190Z"
   },
   {
    "duration": 21,
    "start_time": "2024-07-21T22:36:50.115Z"
   },
   {
    "duration": 5,
    "start_time": "2024-07-21T22:36:50.605Z"
   },
   {
    "duration": 263,
    "start_time": "2024-07-21T22:37:01.434Z"
   },
   {
    "duration": 1065,
    "start_time": "2024-07-21T22:37:03.270Z"
   },
   {
    "duration": 173,
    "start_time": "2024-07-21T22:40:15.621Z"
   },
   {
    "duration": 15,
    "start_time": "2024-07-21T22:40:23.616Z"
   },
   {
    "duration": 1388,
    "start_time": "2024-07-21T22:40:31.559Z"
   },
   {
    "duration": 830,
    "start_time": "2024-07-21T22:40:32.951Z"
   },
   {
    "duration": 68,
    "start_time": "2024-07-21T22:40:33.785Z"
   },
   {
    "duration": 148,
    "start_time": "2024-07-21T22:40:33.861Z"
   },
   {
    "duration": 26,
    "start_time": "2024-07-21T22:40:34.371Z"
   },
   {
    "duration": 30,
    "start_time": "2024-07-21T22:40:35.639Z"
   },
   {
    "duration": 6,
    "start_time": "2024-07-21T22:40:37.778Z"
   },
   {
    "duration": 41,
    "start_time": "2024-07-21T22:40:38.376Z"
   },
   {
    "duration": 32,
    "start_time": "2024-07-21T22:40:38.822Z"
   },
   {
    "duration": 6,
    "start_time": "2024-07-21T22:40:39.271Z"
   },
   {
    "duration": 9,
    "start_time": "2024-07-21T22:40:39.732Z"
   },
   {
    "duration": 121,
    "start_time": "2024-07-21T22:40:40.234Z"
   },
   {
    "duration": 143,
    "start_time": "2024-07-21T22:40:40.670Z"
   },
   {
    "duration": 47,
    "start_time": "2024-07-21T22:40:41.106Z"
   },
   {
    "duration": 136,
    "start_time": "2024-07-21T22:40:42.586Z"
   },
   {
    "duration": 6,
    "start_time": "2024-07-21T22:40:42.963Z"
   },
   {
    "duration": 3,
    "start_time": "2024-07-21T22:40:43.652Z"
   },
   {
    "duration": 4,
    "start_time": "2024-07-21T22:40:44.987Z"
   },
   {
    "duration": 122,
    "start_time": "2024-07-21T22:40:46.768Z"
   },
   {
    "duration": 157,
    "start_time": "2024-07-21T22:40:47.206Z"
   },
   {
    "duration": 119,
    "start_time": "2024-07-21T22:40:48.013Z"
   },
   {
    "duration": 28,
    "start_time": "2024-07-21T22:40:48.608Z"
   },
   {
    "duration": 1267,
    "start_time": "2024-07-21T22:40:49.147Z"
   },
   {
    "duration": 12,
    "start_time": "2024-07-21T22:40:50.422Z"
   },
   {
    "duration": 17,
    "start_time": "2024-07-21T22:40:50.438Z"
   },
   {
    "duration": 23,
    "start_time": "2024-07-21T22:40:51.062Z"
   },
   {
    "duration": 25,
    "start_time": "2024-07-21T22:40:51.557Z"
   },
   {
    "duration": 23,
    "start_time": "2024-07-21T22:40:52.457Z"
   },
   {
    "duration": 18,
    "start_time": "2024-07-21T22:40:52.866Z"
   },
   {
    "duration": 28,
    "start_time": "2024-07-21T22:40:54.407Z"
   },
   {
    "duration": 27,
    "start_time": "2024-07-21T22:40:55.011Z"
   },
   {
    "duration": 6,
    "start_time": "2024-07-21T22:40:55.512Z"
   },
   {
    "duration": 6,
    "start_time": "2024-07-21T22:40:56.034Z"
   },
   {
    "duration": 104,
    "start_time": "2024-07-21T22:41:44.702Z"
   },
   {
    "duration": 329,
    "start_time": "2024-07-21T22:41:45.400Z"
   },
   {
    "duration": 319,
    "start_time": "2024-07-21T22:47:25.411Z"
   },
   {
    "duration": 1276,
    "start_time": "2024-07-21T22:47:35.198Z"
   },
   {
    "duration": 122,
    "start_time": "2024-07-21T22:47:45.009Z"
   },
   {
    "duration": 27,
    "start_time": "2024-07-21T22:48:35.184Z"
   },
   {
    "duration": 26,
    "start_time": "2024-07-21T22:49:02.755Z"
   },
   {
    "duration": 1353,
    "start_time": "2024-07-21T22:49:18.631Z"
   },
   {
    "duration": 754,
    "start_time": "2024-07-21T22:49:19.988Z"
   },
   {
    "duration": 45,
    "start_time": "2024-07-21T22:49:20.744Z"
   },
   {
    "duration": 165,
    "start_time": "2024-07-21T22:49:20.793Z"
   },
   {
    "duration": 24,
    "start_time": "2024-07-21T22:49:20.962Z"
   },
   {
    "duration": 55,
    "start_time": "2024-07-21T22:49:20.989Z"
   },
   {
    "duration": 6,
    "start_time": "2024-07-21T22:49:21.047Z"
   },
   {
    "duration": 35,
    "start_time": "2024-07-21T22:49:21.059Z"
   },
   {
    "duration": 55,
    "start_time": "2024-07-21T22:49:21.097Z"
   },
   {
    "duration": 10,
    "start_time": "2024-07-21T22:49:21.155Z"
   },
   {
    "duration": 5,
    "start_time": "2024-07-21T22:49:21.168Z"
   },
   {
    "duration": 147,
    "start_time": "2024-07-21T22:49:21.177Z"
   },
   {
    "duration": 148,
    "start_time": "2024-07-21T22:49:21.328Z"
   },
   {
    "duration": 55,
    "start_time": "2024-07-21T22:49:21.482Z"
   },
   {
    "duration": 101,
    "start_time": "2024-07-21T22:49:21.539Z"
   },
   {
    "duration": 6,
    "start_time": "2024-07-21T22:49:21.643Z"
   },
   {
    "duration": 4,
    "start_time": "2024-07-21T22:49:21.653Z"
   },
   {
    "duration": 4,
    "start_time": "2024-07-21T22:49:21.660Z"
   },
   {
    "duration": 157,
    "start_time": "2024-07-21T22:49:21.667Z"
   },
   {
    "duration": 156,
    "start_time": "2024-07-21T22:49:21.828Z"
   },
   {
    "duration": 120,
    "start_time": "2024-07-21T22:49:21.987Z"
   },
   {
    "duration": 30,
    "start_time": "2024-07-21T22:49:22.110Z"
   },
   {
    "duration": 1270,
    "start_time": "2024-07-21T22:49:22.143Z"
   },
   {
    "duration": 11,
    "start_time": "2024-07-21T22:49:23.416Z"
   },
   {
    "duration": 15,
    "start_time": "2024-07-21T22:49:23.430Z"
   },
   {
    "duration": 20,
    "start_time": "2024-07-21T22:49:23.449Z"
   },
   {
    "duration": 63,
    "start_time": "2024-07-21T22:49:23.472Z"
   },
   {
    "duration": 20,
    "start_time": "2024-07-21T22:49:23.538Z"
   },
   {
    "duration": 16,
    "start_time": "2024-07-21T22:49:23.561Z"
   },
   {
    "duration": 59,
    "start_time": "2024-07-21T22:49:23.580Z"
   },
   {
    "duration": 27,
    "start_time": "2024-07-21T22:49:23.642Z"
   },
   {
    "duration": 5,
    "start_time": "2024-07-21T22:49:23.672Z"
   },
   {
    "duration": 46,
    "start_time": "2024-07-21T22:49:23.681Z"
   },
   {
    "duration": 10,
    "start_time": "2024-07-21T22:49:23.731Z"
   },
   {
    "duration": 110,
    "start_time": "2024-07-21T22:49:23.747Z"
   },
   {
    "duration": 6,
    "start_time": "2024-07-21T22:49:23.860Z"
   },
   {
    "duration": 3,
    "start_time": "2024-07-21T22:49:23.870Z"
   },
   {
    "duration": 4146,
    "start_time": "2024-07-21T22:49:23.877Z"
   },
   {
    "duration": 114,
    "start_time": "2024-07-21T22:49:28.026Z"
   },
   {
    "duration": 396,
    "start_time": "2024-07-21T22:49:28.143Z"
   },
   {
    "duration": 320,
    "start_time": "2024-07-21T22:51:57.020Z"
   },
   {
    "duration": 1320,
    "start_time": "2024-07-21T22:52:03.758Z"
   },
   {
    "duration": 128,
    "start_time": "2024-07-21T22:52:07.489Z"
   },
   {
    "duration": 29,
    "start_time": "2024-07-21T22:52:07.929Z"
   },
   {
    "duration": 6,
    "start_time": "2024-07-21T22:52:14.482Z"
   },
   {
    "duration": 784,
    "start_time": "2024-07-21T22:52:15.034Z"
   },
   {
    "duration": 42,
    "start_time": "2024-07-21T22:52:16.094Z"
   },
   {
    "duration": 146,
    "start_time": "2024-07-21T22:52:17.681Z"
   },
   {
    "duration": 24,
    "start_time": "2024-07-21T22:52:18.168Z"
   },
   {
    "duration": 30,
    "start_time": "2024-07-21T22:52:19.108Z"
   },
   {
    "duration": 318,
    "start_time": "2024-07-21T22:53:02.929Z"
   },
   {
    "duration": 1346,
    "start_time": "2024-07-21T22:53:14.160Z"
   },
   {
    "duration": 771,
    "start_time": "2024-07-21T22:53:15.511Z"
   },
   {
    "duration": 45,
    "start_time": "2024-07-21T22:53:16.306Z"
   },
   {
    "duration": 155,
    "start_time": "2024-07-21T22:53:16.708Z"
   },
   {
    "duration": 25,
    "start_time": "2024-07-21T22:53:16.913Z"
   },
   {
    "duration": 31,
    "start_time": "2024-07-21T22:53:17.311Z"
   },
   {
    "duration": 6,
    "start_time": "2024-07-21T22:53:18.248Z"
   },
   {
    "duration": 38,
    "start_time": "2024-07-21T22:53:18.441Z"
   },
   {
    "duration": 29,
    "start_time": "2024-07-21T22:53:18.677Z"
   },
   {
    "duration": 6,
    "start_time": "2024-07-21T22:53:18.861Z"
   },
   {
    "duration": 6,
    "start_time": "2024-07-21T22:53:19.076Z"
   },
   {
    "duration": 114,
    "start_time": "2024-07-21T22:53:19.270Z"
   },
   {
    "duration": 133,
    "start_time": "2024-07-21T22:53:19.473Z"
   },
   {
    "duration": 50,
    "start_time": "2024-07-21T22:53:19.651Z"
   },
   {
    "duration": 158,
    "start_time": "2024-07-21T22:53:21.879Z"
   },
   {
    "duration": 127,
    "start_time": "2024-07-21T22:53:27.482Z"
   },
   {
    "duration": 119,
    "start_time": "2024-07-21T22:53:33.373Z"
   },
   {
    "duration": 242,
    "start_time": "2024-07-21T22:53:34.186Z"
   },
   {
    "duration": 224,
    "start_time": "2024-07-21T22:53:58.266Z"
   },
   {
    "duration": 227,
    "start_time": "2024-07-21T22:54:25.278Z"
   },
   {
    "duration": 129,
    "start_time": "2024-07-21T22:55:04.625Z"
   },
   {
    "duration": 132,
    "start_time": "2024-07-21T22:55:12.785Z"
   },
   {
    "duration": 218,
    "start_time": "2024-07-21T22:55:27.452Z"
   },
   {
    "duration": 224,
    "start_time": "2024-07-21T22:55:44.600Z"
   },
   {
    "duration": 109,
    "start_time": "2024-07-21T22:59:14.558Z"
   },
   {
    "duration": 1276,
    "start_time": "2024-07-21T23:00:13.664Z"
   },
   {
    "duration": 9,
    "start_time": "2024-07-21T23:00:16.736Z"
   },
   {
    "duration": 327,
    "start_time": "2024-07-21T23:00:39.880Z"
   },
   {
    "duration": 1374,
    "start_time": "2024-07-21T23:00:45.723Z"
   },
   {
    "duration": 132,
    "start_time": "2024-07-21T23:00:49.874Z"
   },
   {
    "duration": 26,
    "start_time": "2024-07-21T23:01:00.836Z"
   },
   {
    "duration": 25,
    "start_time": "2024-07-21T23:01:01.860Z"
   },
   {
    "duration": 25,
    "start_time": "2024-07-21T23:01:27.152Z"
   },
   {
    "duration": 26,
    "start_time": "2024-07-21T23:01:27.986Z"
   },
   {
    "duration": 356,
    "start_time": "2024-07-21T23:03:30.909Z"
   },
   {
    "duration": 36,
    "start_time": "2024-07-21T23:03:32.416Z"
   },
   {
    "duration": 35,
    "start_time": "2024-07-21T23:04:44.751Z"
   },
   {
    "duration": 29,
    "start_time": "2024-07-21T23:04:46.725Z"
   },
   {
    "duration": 328,
    "start_time": "2024-07-21T23:05:47.966Z"
   },
   {
    "duration": 1588,
    "start_time": "2024-07-21T23:05:57.490Z"
   },
   {
    "duration": 1153,
    "start_time": "2024-07-21T23:05:59.084Z"
   },
   {
    "duration": 49,
    "start_time": "2024-07-21T23:06:00.245Z"
   },
   {
    "duration": 176,
    "start_time": "2024-07-21T23:06:00.297Z"
   },
   {
    "duration": 34,
    "start_time": "2024-07-21T23:06:00.865Z"
   },
   {
    "duration": 33,
    "start_time": "2024-07-21T23:06:02.365Z"
   },
   {
    "duration": 9,
    "start_time": "2024-07-21T23:06:04.575Z"
   },
   {
    "duration": 43,
    "start_time": "2024-07-21T23:06:04.948Z"
   },
   {
    "duration": 29,
    "start_time": "2024-07-21T23:06:05.390Z"
   },
   {
    "duration": 7,
    "start_time": "2024-07-21T23:06:05.782Z"
   },
   {
    "duration": 6,
    "start_time": "2024-07-21T23:06:06.163Z"
   },
   {
    "duration": 120,
    "start_time": "2024-07-21T23:06:06.517Z"
   },
   {
    "duration": 139,
    "start_time": "2024-07-21T23:06:06.934Z"
   },
   {
    "duration": 51,
    "start_time": "2024-07-21T23:06:07.163Z"
   },
   {
    "duration": 180,
    "start_time": "2024-07-21T23:06:08.438Z"
   },
   {
    "duration": 7,
    "start_time": "2024-07-21T23:06:08.642Z"
   },
   {
    "duration": 6,
    "start_time": "2024-07-21T23:06:09.196Z"
   },
   {
    "duration": 5,
    "start_time": "2024-07-21T23:06:09.571Z"
   },
   {
    "duration": 135,
    "start_time": "2024-07-21T23:06:10.948Z"
   },
   {
    "duration": 156,
    "start_time": "2024-07-21T23:06:11.567Z"
   },
   {
    "duration": 110,
    "start_time": "2024-07-21T23:06:12.020Z"
   },
   {
    "duration": 27,
    "start_time": "2024-07-21T23:06:12.311Z"
   },
   {
    "duration": 1336,
    "start_time": "2024-07-21T23:06:12.503Z"
   },
   {
    "duration": 7,
    "start_time": "2024-07-21T23:06:13.843Z"
   },
   {
    "duration": 24,
    "start_time": "2024-07-21T23:06:13.854Z"
   },
   {
    "duration": 53,
    "start_time": "2024-07-21T23:06:13.883Z"
   },
   {
    "duration": 29,
    "start_time": "2024-07-21T23:06:13.940Z"
   },
   {
    "duration": 61,
    "start_time": "2024-07-21T23:06:13.972Z"
   },
   {
    "duration": 20,
    "start_time": "2024-07-21T23:06:14.708Z"
   },
   {
    "duration": 35,
    "start_time": "2024-07-21T23:06:16.848Z"
   },
   {
    "duration": 30,
    "start_time": "2024-07-21T23:06:17.491Z"
   },
   {
    "duration": 9,
    "start_time": "2024-07-21T23:06:18.899Z"
   },
   {
    "duration": 8,
    "start_time": "2024-07-21T23:06:19.681Z"
   },
   {
    "duration": 285,
    "start_time": "2024-07-21T23:06:21.131Z"
   },
   {
    "duration": 1801,
    "start_time": "2024-07-21T23:06:22.325Z"
   },
   {
    "duration": 2083,
    "start_time": "2024-07-21T23:08:24.254Z"
   },
   {
    "duration": 2173,
    "start_time": "2024-07-21T23:08:33.646Z"
   },
   {
    "duration": 2194,
    "start_time": "2024-07-21T23:08:39.946Z"
   },
   {
    "duration": 278,
    "start_time": "2024-07-21T23:08:47.575Z"
   },
   {
    "duration": 2127,
    "start_time": "2024-07-21T23:08:48.396Z"
   },
   {
    "duration": 5,
    "start_time": "2024-07-21T23:08:51.602Z"
   },
   {
    "duration": 4,
    "start_time": "2024-07-21T23:08:52.310Z"
   },
   {
    "duration": 776,
    "start_time": "2024-07-21T23:08:53.381Z"
   },
   {
    "duration": 1449,
    "start_time": "2024-07-21T23:12:16.104Z"
   },
   {
    "duration": 755,
    "start_time": "2024-07-21T23:12:17.561Z"
   },
   {
    "duration": 45,
    "start_time": "2024-07-21T23:12:18.319Z"
   },
   {
    "duration": 209,
    "start_time": "2024-07-21T23:12:18.368Z"
   },
   {
    "duration": 41,
    "start_time": "2024-07-21T23:12:18.584Z"
   },
   {
    "duration": 33,
    "start_time": "2024-07-21T23:12:18.628Z"
   },
   {
    "duration": 6,
    "start_time": "2024-07-21T23:12:18.664Z"
   },
   {
    "duration": 69,
    "start_time": "2024-07-21T23:12:18.674Z"
   },
   {
    "duration": 29,
    "start_time": "2024-07-21T23:12:18.746Z"
   },
   {
    "duration": 5,
    "start_time": "2024-07-21T23:12:18.778Z"
   },
   {
    "duration": 39,
    "start_time": "2024-07-21T23:12:18.786Z"
   },
   {
    "duration": 163,
    "start_time": "2024-07-21T23:12:18.829Z"
   },
   {
    "duration": 157,
    "start_time": "2024-07-21T23:12:18.996Z"
   },
   {
    "duration": 44,
    "start_time": "2024-07-21T23:12:19.162Z"
   },
   {
    "duration": 120,
    "start_time": "2024-07-21T23:12:19.223Z"
   },
   {
    "duration": 6,
    "start_time": "2024-07-21T23:12:19.347Z"
   },
   {
    "duration": 4,
    "start_time": "2024-07-21T23:12:19.357Z"
   },
   {
    "duration": 5,
    "start_time": "2024-07-21T23:12:19.365Z"
   },
   {
    "duration": 205,
    "start_time": "2024-07-21T23:12:19.373Z"
   },
   {
    "duration": 182,
    "start_time": "2024-07-21T23:12:19.582Z"
   },
   {
    "duration": 174,
    "start_time": "2024-07-21T23:12:19.768Z"
   },
   {
    "duration": 27,
    "start_time": "2024-07-21T23:12:19.945Z"
   },
   {
    "duration": 1352,
    "start_time": "2024-07-21T23:12:19.975Z"
   },
   {
    "duration": 7,
    "start_time": "2024-07-21T23:12:21.330Z"
   },
   {
    "duration": 18,
    "start_time": "2024-07-21T23:12:21.341Z"
   },
   {
    "duration": 22,
    "start_time": "2024-07-21T23:12:21.363Z"
   },
   {
    "duration": 26,
    "start_time": "2024-07-21T23:12:21.423Z"
   },
   {
    "duration": 21,
    "start_time": "2024-07-21T23:12:21.452Z"
   },
   {
    "duration": 53,
    "start_time": "2024-07-21T23:12:21.476Z"
   },
   {
    "duration": 28,
    "start_time": "2024-07-21T23:12:21.532Z"
   },
   {
    "duration": 27,
    "start_time": "2024-07-21T23:12:21.564Z"
   },
   {
    "duration": 13,
    "start_time": "2024-07-21T23:12:21.623Z"
   },
   {
    "duration": 7,
    "start_time": "2024-07-21T23:12:21.645Z"
   },
   {
    "duration": 306,
    "start_time": "2024-07-21T23:12:21.655Z"
   },
   {
    "duration": 2090,
    "start_time": "2024-07-21T23:12:21.967Z"
   },
   {
    "duration": 7,
    "start_time": "2024-07-21T23:12:24.061Z"
   },
   {
    "duration": 5,
    "start_time": "2024-07-21T23:12:24.073Z"
   },
   {
    "duration": 1049,
    "start_time": "2024-07-21T23:12:24.084Z"
   },
   {
    "duration": 286,
    "start_time": "2024-07-21T23:12:25.139Z"
   },
   {
    "duration": 243,
    "start_time": "2024-07-21T23:12:25.429Z"
   },
   {
    "duration": 126,
    "start_time": "2024-07-21T23:12:59.197Z"
   },
   {
    "duration": 268,
    "start_time": "2024-07-21T23:13:30.956Z"
   },
   {
    "duration": 220,
    "start_time": "2024-07-21T23:15:11.622Z"
   },
   {
    "duration": 390,
    "start_time": "2024-07-21T23:16:34.836Z"
   },
   {
    "duration": 102,
    "start_time": "2024-07-21T23:17:21.526Z"
   },
   {
    "duration": 121,
    "start_time": "2024-07-21T23:17:57.869Z"
   },
   {
    "duration": 5,
    "start_time": "2024-07-21T23:19:18.128Z"
   },
   {
    "duration": 10,
    "start_time": "2024-07-21T23:19:30.045Z"
   },
   {
    "duration": 7,
    "start_time": "2024-07-21T23:19:39.751Z"
   },
   {
    "duration": 3,
    "start_time": "2024-07-21T23:19:40.598Z"
   },
   {
    "duration": 150,
    "start_time": "2024-07-21T23:19:41.253Z"
   },
   {
    "duration": 1708,
    "start_time": "2024-07-21T23:20:13.118Z"
   },
   {
    "duration": 6,
    "start_time": "2024-07-21T23:20:15.947Z"
   },
   {
    "duration": 6,
    "start_time": "2024-07-21T23:20:16.565Z"
   },
   {
    "duration": 6,
    "start_time": "2024-07-21T23:20:18.492Z"
   },
   {
    "duration": 4,
    "start_time": "2024-07-21T23:20:19.004Z"
   },
   {
    "duration": 70,
    "start_time": "2024-07-21T23:20:19.550Z"
   },
   {
    "duration": 95,
    "start_time": "2024-07-21T23:20:21.702Z"
   },
   {
    "duration": 66,
    "start_time": "2024-07-21T23:20:23.104Z"
   },
   {
    "duration": 1125,
    "start_time": "2024-07-21T23:20:47.607Z"
   },
   {
    "duration": 6,
    "start_time": "2024-07-21T23:20:48.951Z"
   },
   {
    "duration": 21,
    "start_time": "2024-07-21T23:20:49.682Z"
   },
   {
    "duration": 22,
    "start_time": "2024-07-21T23:20:50.422Z"
   },
   {
    "duration": 20,
    "start_time": "2024-07-21T23:20:51.013Z"
   },
   {
    "duration": 25,
    "start_time": "2024-07-21T23:20:51.396Z"
   },
   {
    "duration": 1420,
    "start_time": "2024-07-22T00:17:06.803Z"
   },
   {
    "duration": 832,
    "start_time": "2024-07-22T00:17:08.226Z"
   },
   {
    "duration": 42,
    "start_time": "2024-07-22T00:17:09.062Z"
   },
   {
    "duration": 146,
    "start_time": "2024-07-22T00:17:09.205Z"
   },
   {
    "duration": 25,
    "start_time": "2024-07-22T00:17:09.907Z"
   },
   {
    "duration": 30,
    "start_time": "2024-07-22T00:17:10.857Z"
   },
   {
    "duration": 6,
    "start_time": "2024-07-22T00:17:13.318Z"
   },
   {
    "duration": 41,
    "start_time": "2024-07-22T00:17:13.825Z"
   },
   {
    "duration": 28,
    "start_time": "2024-07-22T00:17:14.374Z"
   },
   {
    "duration": 5,
    "start_time": "2024-07-22T00:17:14.812Z"
   },
   {
    "duration": 8,
    "start_time": "2024-07-22T00:17:15.400Z"
   },
   {
    "duration": 118,
    "start_time": "2024-07-22T00:17:15.692Z"
   },
   {
    "duration": 133,
    "start_time": "2024-07-22T00:17:16.395Z"
   },
   {
    "duration": 43,
    "start_time": "2024-07-22T00:17:17.089Z"
   },
   {
    "duration": 114,
    "start_time": "2024-07-22T00:17:18.895Z"
   },
   {
    "duration": 6,
    "start_time": "2024-07-22T00:17:19.511Z"
   },
   {
    "duration": 3,
    "start_time": "2024-07-22T00:17:20.138Z"
   },
   {
    "duration": 5,
    "start_time": "2024-07-22T00:17:21.441Z"
   },
   {
    "duration": 115,
    "start_time": "2024-07-22T00:17:23.073Z"
   },
   {
    "duration": 148,
    "start_time": "2024-07-22T00:17:23.620Z"
   },
   {
    "duration": 118,
    "start_time": "2024-07-22T00:17:24.153Z"
   },
   {
    "duration": 32,
    "start_time": "2024-07-22T00:17:24.832Z"
   },
   {
    "duration": 1319,
    "start_time": "2024-07-22T00:17:25.370Z"
   },
   {
    "duration": 7,
    "start_time": "2024-07-22T00:17:26.852Z"
   },
   {
    "duration": 19,
    "start_time": "2024-07-22T00:17:27.481Z"
   },
   {
    "duration": 41,
    "start_time": "2024-07-22T00:17:46.463Z"
   },
   {
    "duration": 39,
    "start_time": "2024-07-22T00:17:47.180Z"
   },
   {
    "duration": 7,
    "start_time": "2024-07-22T00:17:48.068Z"
   },
   {
    "duration": 6,
    "start_time": "2024-07-22T00:17:48.652Z"
   },
   {
    "duration": 5,
    "start_time": "2024-07-22T00:18:13.488Z"
   },
   {
    "duration": 7,
    "start_time": "2024-07-22T00:18:27.126Z"
   },
   {
    "duration": 256,
    "start_time": "2024-07-22T00:20:41.354Z"
   },
   {
    "duration": 1659,
    "start_time": "2024-07-22T00:20:54.242Z"
   },
   {
    "duration": 6,
    "start_time": "2024-07-22T00:21:11.828Z"
   },
   {
    "duration": 6,
    "start_time": "2024-07-22T00:21:12.535Z"
   },
   {
    "duration": 4,
    "start_time": "2024-07-22T00:21:42.332Z"
   },
   {
    "duration": 4012,
    "start_time": "2024-07-22T00:21:43.844Z"
   },
   {
    "duration": 595,
    "start_time": "2024-07-22T00:23:49.556Z"
   },
   {
    "duration": 256,
    "start_time": "2024-07-22T00:24:42.993Z"
   },
   {
    "duration": 628,
    "start_time": "2024-07-22T00:24:43.685Z"
   },
   {
    "duration": 341,
    "start_time": "2024-07-22T00:28:33.708Z"
   },
   {
    "duration": 1338,
    "start_time": "2024-07-22T00:28:48.610Z"
   },
   {
    "duration": 3,
    "start_time": "2024-07-22T00:29:31.208Z"
   },
   {
    "duration": 126,
    "start_time": "2024-07-22T00:29:31.692Z"
   },
   {
    "duration": 3,
    "start_time": "2024-07-22T00:30:25.781Z"
   },
   {
    "duration": 28,
    "start_time": "2024-07-22T00:30:25.789Z"
   },
   {
    "duration": 31,
    "start_time": "2024-07-22T00:30:42.462Z"
   },
   {
    "duration": 6,
    "start_time": "2024-07-22T00:30:53.377Z"
   },
   {
    "duration": 796,
    "start_time": "2024-07-22T00:30:53.902Z"
   },
   {
    "duration": 43,
    "start_time": "2024-07-22T00:30:55.042Z"
   },
   {
    "duration": 143,
    "start_time": "2024-07-22T00:30:55.590Z"
   },
   {
    "duration": 25,
    "start_time": "2024-07-22T00:30:56.033Z"
   },
   {
    "duration": 28,
    "start_time": "2024-07-22T00:30:57.057Z"
   },
   {
    "duration": 7,
    "start_time": "2024-07-22T00:30:59.943Z"
   },
   {
    "duration": 39,
    "start_time": "2024-07-22T00:31:00.393Z"
   },
   {
    "duration": 27,
    "start_time": "2024-07-22T00:31:00.804Z"
   },
   {
    "duration": 5,
    "start_time": "2024-07-22T00:31:01.090Z"
   },
   {
    "duration": 6,
    "start_time": "2024-07-22T00:31:01.385Z"
   },
   {
    "duration": 116,
    "start_time": "2024-07-22T00:31:01.685Z"
   },
   {
    "duration": 130,
    "start_time": "2024-07-22T00:31:01.963Z"
   },
   {
    "duration": 50,
    "start_time": "2024-07-22T00:31:02.375Z"
   },
   {
    "duration": 92,
    "start_time": "2024-07-22T00:31:03.660Z"
   },
   {
    "duration": 6,
    "start_time": "2024-07-22T00:31:04.644Z"
   },
   {
    "duration": 3,
    "start_time": "2024-07-22T00:31:04.912Z"
   },
   {
    "duration": 4,
    "start_time": "2024-07-22T00:31:05.255Z"
   },
   {
    "duration": 115,
    "start_time": "2024-07-22T00:31:06.476Z"
   },
   {
    "duration": 152,
    "start_time": "2024-07-22T00:31:06.875Z"
   },
   {
    "duration": 119,
    "start_time": "2024-07-22T00:31:07.358Z"
   },
   {
    "duration": 26,
    "start_time": "2024-07-22T00:31:07.818Z"
   },
   {
    "duration": 1288,
    "start_time": "2024-07-22T00:31:08.370Z"
   },
   {
    "duration": 6,
    "start_time": "2024-07-22T00:31:09.664Z"
   },
   {
    "duration": 18,
    "start_time": "2024-07-22T00:31:09.674Z"
   },
   {
    "duration": 24,
    "start_time": "2024-07-22T00:31:10.010Z"
   },
   {
    "duration": 23,
    "start_time": "2024-07-22T00:31:10.652Z"
   },
   {
    "duration": 20,
    "start_time": "2024-07-22T00:31:11.043Z"
   },
   {
    "duration": 16,
    "start_time": "2024-07-22T00:31:11.496Z"
   },
   {
    "duration": 4,
    "start_time": "2024-07-22T00:31:24.037Z"
   },
   {
    "duration": 235,
    "start_time": "2024-07-22T00:31:24.743Z"
   },
   {
    "duration": 15,
    "start_time": "2024-07-22T00:31:49.999Z"
   },
   {
    "duration": 26,
    "start_time": "2024-07-22T00:32:34.789Z"
   },
   {
    "duration": 247,
    "start_time": "2024-07-22T00:32:43.212Z"
   },
   {
    "duration": 1633,
    "start_time": "2024-07-22T00:32:44.528Z"
   },
   {
    "duration": 34,
    "start_time": "2024-07-22T00:32:56.271Z"
   },
   {
    "duration": 32,
    "start_time": "2024-07-22T00:33:00.225Z"
   },
   {
    "duration": 631,
    "start_time": "2024-07-22T00:33:08.338Z"
   },
   {
    "duration": 203,
    "start_time": "2024-07-22T00:33:23.114Z"
   },
   {
    "duration": 106,
    "start_time": "2024-07-22T00:33:28.723Z"
   },
   {
    "duration": 103,
    "start_time": "2024-07-22T00:33:39.963Z"
   },
   {
    "duration": 102,
    "start_time": "2024-07-22T00:33:53.179Z"
   },
   {
    "duration": 99,
    "start_time": "2024-07-22T00:35:09.516Z"
   },
   {
    "duration": 407,
    "start_time": "2024-07-22T00:35:31.348Z"
   },
   {
    "duration": 328,
    "start_time": "2024-07-22T00:36:22.879Z"
   },
   {
    "duration": 102,
    "start_time": "2024-07-22T00:36:42.691Z"
   },
   {
    "duration": 99,
    "start_time": "2024-07-22T00:36:52.095Z"
   },
   {
    "duration": 102,
    "start_time": "2024-07-22T00:37:15.910Z"
   },
   {
    "duration": 689,
    "start_time": "2024-07-22T00:37:30.877Z"
   },
   {
    "duration": 119,
    "start_time": "2024-07-22T00:38:41.252Z"
   },
   {
    "duration": 98,
    "start_time": "2024-07-22T00:38:48.584Z"
   },
   {
    "duration": 5,
    "start_time": "2024-07-22T00:39:51.724Z"
   },
   {
    "duration": 24,
    "start_time": "2024-07-22T00:40:12.412Z"
   },
   {
    "duration": 4,
    "start_time": "2024-07-22T00:40:24.390Z"
   },
   {
    "duration": 466,
    "start_time": "2024-07-22T00:41:04.345Z"
   },
   {
    "duration": 85,
    "start_time": "2024-07-22T00:41:13.976Z"
   },
   {
    "duration": 82,
    "start_time": "2024-07-22T00:42:03.038Z"
   },
   {
    "duration": 79,
    "start_time": "2024-07-22T00:42:16.720Z"
   },
   {
    "duration": 80,
    "start_time": "2024-07-22T00:42:26.836Z"
   },
   {
    "duration": 79,
    "start_time": "2024-07-22T00:42:58.725Z"
   },
   {
    "duration": 7,
    "start_time": "2024-07-22T00:43:11.329Z"
   },
   {
    "duration": 107,
    "start_time": "2024-07-22T00:43:21.224Z"
   },
   {
    "duration": 83,
    "start_time": "2024-07-22T00:43:34.617Z"
   },
   {
    "duration": 87,
    "start_time": "2024-07-22T00:43:48.148Z"
   },
   {
    "duration": 7,
    "start_time": "2024-07-22T00:45:01.052Z"
   },
   {
    "duration": 8,
    "start_time": "2024-07-22T00:45:18.718Z"
   },
   {
    "duration": 3268,
    "start_time": "2024-07-22T00:45:19.358Z"
   },
   {
    "duration": 3259,
    "start_time": "2024-07-22T00:45:45.766Z"
   },
   {
    "duration": 63,
    "start_time": "2024-07-22T00:46:54.802Z"
   },
   {
    "duration": 62,
    "start_time": "2024-07-22T00:48:00.610Z"
   },
   {
    "duration": 61,
    "start_time": "2024-07-22T00:49:11.297Z"
   },
   {
    "duration": 1044,
    "start_time": "2024-07-22T00:55:58.590Z"
   },
   {
    "duration": 553,
    "start_time": "2024-07-22T00:56:00.086Z"
   },
   {
    "duration": 32,
    "start_time": "2024-07-22T00:56:18.204Z"
   },
   {
    "duration": 355,
    "start_time": "2024-07-22T00:56:26.652Z"
   },
   {
    "duration": 764,
    "start_time": "2024-07-22T00:56:27.274Z"
   },
   {
    "duration": 42,
    "start_time": "2024-07-22T00:56:28.425Z"
   },
   {
    "duration": 156,
    "start_time": "2024-07-22T00:56:28.844Z"
   },
   {
    "duration": 33,
    "start_time": "2024-07-22T00:56:29.731Z"
   },
   {
    "duration": 28,
    "start_time": "2024-07-22T00:56:30.632Z"
   },
   {
    "duration": 7,
    "start_time": "2024-07-22T00:56:32.364Z"
   },
   {
    "duration": 41,
    "start_time": "2024-07-22T00:56:32.737Z"
   },
   {
    "duration": 30,
    "start_time": "2024-07-22T00:56:33.366Z"
   },
   {
    "duration": 7,
    "start_time": "2024-07-22T00:56:33.743Z"
   },
   {
    "duration": 7,
    "start_time": "2024-07-22T00:56:34.051Z"
   },
   {
    "duration": 140,
    "start_time": "2024-07-22T00:56:34.324Z"
   },
   {
    "duration": 138,
    "start_time": "2024-07-22T00:56:34.621Z"
   },
   {
    "duration": 46,
    "start_time": "2024-07-22T00:56:35.057Z"
   },
   {
    "duration": 101,
    "start_time": "2024-07-22T00:56:36.288Z"
   },
   {
    "duration": 7,
    "start_time": "2024-07-22T00:56:36.679Z"
   },
   {
    "duration": 3,
    "start_time": "2024-07-22T00:56:37.144Z"
   },
   {
    "duration": 9,
    "start_time": "2024-07-22T00:56:37.612Z"
   },
   {
    "duration": 116,
    "start_time": "2024-07-22T00:56:39.230Z"
   },
   {
    "duration": 181,
    "start_time": "2024-07-22T00:56:39.675Z"
   },
   {
    "duration": 116,
    "start_time": "2024-07-22T00:56:40.349Z"
   },
   {
    "duration": 27,
    "start_time": "2024-07-22T00:56:40.813Z"
   },
   {
    "duration": 1366,
    "start_time": "2024-07-22T00:56:41.277Z"
   },
   {
    "duration": 7,
    "start_time": "2024-07-22T00:56:42.647Z"
   },
   {
    "duration": 18,
    "start_time": "2024-07-22T00:56:42.658Z"
   },
   {
    "duration": 20,
    "start_time": "2024-07-22T00:56:43.311Z"
   },
   {
    "duration": 28,
    "start_time": "2024-07-22T00:56:43.773Z"
   },
   {
    "duration": 21,
    "start_time": "2024-07-22T00:56:44.268Z"
   },
   {
    "duration": 20,
    "start_time": "2024-07-22T00:56:44.733Z"
   },
   {
    "duration": 40,
    "start_time": "2024-07-22T00:56:46.693Z"
   },
   {
    "duration": 28,
    "start_time": "2024-07-22T00:56:47.218Z"
   },
   {
    "duration": 6,
    "start_time": "2024-07-22T00:56:47.705Z"
   },
   {
    "duration": 6,
    "start_time": "2024-07-22T00:56:48.381Z"
   },
   {
    "duration": 298,
    "start_time": "2024-07-22T00:56:54.050Z"
   },
   {
    "duration": 1699,
    "start_time": "2024-07-22T00:56:55.079Z"
   },
   {
    "duration": 6,
    "start_time": "2024-07-22T00:56:56.784Z"
   },
   {
    "duration": 7,
    "start_time": "2024-07-22T00:56:57.837Z"
   },
   {
    "duration": 4,
    "start_time": "2024-07-22T00:57:13.716Z"
   },
   {
    "duration": 506,
    "start_time": "2024-07-22T00:57:15.258Z"
   },
   {
    "duration": 1327,
    "start_time": "2024-07-22T01:01:26.096Z"
   },
   {
    "duration": 721,
    "start_time": "2024-07-22T01:01:27.567Z"
   },
   {
    "duration": 43,
    "start_time": "2024-07-22T01:01:28.930Z"
   },
   {
    "duration": 161,
    "start_time": "2024-07-22T01:01:29.687Z"
   },
   {
    "duration": 24,
    "start_time": "2024-07-22T01:01:30.769Z"
   },
   {
    "duration": 31,
    "start_time": "2024-07-22T01:01:32.277Z"
   },
   {
    "duration": 6,
    "start_time": "2024-07-22T01:01:34.372Z"
   },
   {
    "duration": 36,
    "start_time": "2024-07-22T01:01:35.036Z"
   },
   {
    "duration": 30,
    "start_time": "2024-07-22T01:01:35.687Z"
   },
   {
    "duration": 5,
    "start_time": "2024-07-22T01:01:36.259Z"
   },
   {
    "duration": 6,
    "start_time": "2024-07-22T01:01:36.989Z"
   },
   {
    "duration": 144,
    "start_time": "2024-07-22T01:01:37.653Z"
   },
   {
    "duration": 137,
    "start_time": "2024-07-22T01:01:38.286Z"
   },
   {
    "duration": 46,
    "start_time": "2024-07-22T01:01:39.204Z"
   },
   {
    "duration": 109,
    "start_time": "2024-07-22T01:01:41.075Z"
   },
   {
    "duration": 5,
    "start_time": "2024-07-22T01:01:41.852Z"
   },
   {
    "duration": 3,
    "start_time": "2024-07-22T01:01:42.513Z"
   },
   {
    "duration": 4,
    "start_time": "2024-07-22T01:01:43.123Z"
   },
   {
    "duration": 114,
    "start_time": "2024-07-22T01:01:44.760Z"
   },
   {
    "duration": 149,
    "start_time": "2024-07-22T01:01:45.515Z"
   },
   {
    "duration": 105,
    "start_time": "2024-07-22T01:01:46.091Z"
   },
   {
    "duration": 27,
    "start_time": "2024-07-22T01:01:46.881Z"
   },
   {
    "duration": 1251,
    "start_time": "2024-07-22T01:01:47.476Z"
   },
   {
    "duration": 6,
    "start_time": "2024-07-22T01:01:52.639Z"
   },
   {
    "duration": 16,
    "start_time": "2024-07-22T01:01:53.460Z"
   },
   {
    "duration": 20,
    "start_time": "2024-07-22T01:01:54.242Z"
   },
   {
    "duration": 23,
    "start_time": "2024-07-22T01:01:56.440Z"
   },
   {
    "duration": 20,
    "start_time": "2024-07-22T01:01:57.144Z"
   },
   {
    "duration": 21,
    "start_time": "2024-07-22T01:01:57.749Z"
   },
   {
    "duration": 27,
    "start_time": "2024-07-22T01:01:59.526Z"
   },
   {
    "duration": 28,
    "start_time": "2024-07-22T01:02:00.217Z"
   },
   {
    "duration": 6,
    "start_time": "2024-07-22T01:02:00.672Z"
   },
   {
    "duration": 5,
    "start_time": "2024-07-22T01:02:01.322Z"
   },
   {
    "duration": 266,
    "start_time": "2024-07-22T01:02:02.388Z"
   },
   {
    "duration": 1647,
    "start_time": "2024-07-22T01:02:03.472Z"
   },
   {
    "duration": 6,
    "start_time": "2024-07-22T01:02:05.123Z"
   },
   {
    "duration": 6,
    "start_time": "2024-07-22T01:02:06.096Z"
   },
   {
    "duration": 1316,
    "start_time": "2024-07-23T08:03:51.597Z"
   },
   {
    "duration": 1629,
    "start_time": "2024-07-23T08:03:52.917Z"
   },
   {
    "duration": 42,
    "start_time": "2024-07-23T08:03:54.549Z"
   },
   {
    "duration": 160,
    "start_time": "2024-07-23T08:03:54.594Z"
   },
   {
    "duration": 23,
    "start_time": "2024-07-23T08:03:54.759Z"
   },
   {
    "duration": 55,
    "start_time": "2024-07-23T08:03:54.785Z"
   },
   {
    "duration": 6,
    "start_time": "2024-07-23T08:03:54.843Z"
   },
   {
    "duration": 35,
    "start_time": "2024-07-23T08:03:54.852Z"
   },
   {
    "duration": 63,
    "start_time": "2024-07-23T08:03:54.889Z"
   },
   {
    "duration": 6,
    "start_time": "2024-07-23T08:03:54.955Z"
   },
   {
    "duration": 5,
    "start_time": "2024-07-23T08:03:54.964Z"
   },
   {
    "duration": 151,
    "start_time": "2024-07-23T08:03:54.972Z"
   },
   {
    "duration": 143,
    "start_time": "2024-07-23T08:03:55.129Z"
   },
   {
    "duration": 52,
    "start_time": "2024-07-23T08:03:55.278Z"
   },
   {
    "duration": 116,
    "start_time": "2024-07-23T08:03:55.333Z"
   },
   {
    "duration": 10,
    "start_time": "2024-07-23T08:03:55.452Z"
   },
   {
    "duration": 7,
    "start_time": "2024-07-23T08:03:55.465Z"
   },
   {
    "duration": 3,
    "start_time": "2024-07-23T08:03:55.531Z"
   },
   {
    "duration": 142,
    "start_time": "2024-07-23T08:03:55.538Z"
   },
   {
    "duration": 448,
    "start_time": "2024-07-23T08:03:55.683Z"
   },
   {
    "duration": 206,
    "start_time": "2024-07-23T08:03:56.134Z"
   },
   {
    "duration": 88,
    "start_time": "2024-07-23T08:03:56.344Z"
   },
   {
    "duration": 1606,
    "start_time": "2024-07-23T08:03:56.436Z"
   },
   {
    "duration": 5,
    "start_time": "2024-07-23T08:03:58.045Z"
   },
   {
    "duration": 15,
    "start_time": "2024-07-23T08:03:58.054Z"
   },
   {
    "duration": 20,
    "start_time": "2024-07-23T08:03:58.072Z"
   },
   {
    "duration": 22,
    "start_time": "2024-07-23T08:03:58.131Z"
   },
   {
    "duration": 19,
    "start_time": "2024-07-23T08:03:58.156Z"
   },
   {
    "duration": 52,
    "start_time": "2024-07-23T08:03:58.177Z"
   },
   {
    "duration": 26,
    "start_time": "2024-07-23T08:04:02.703Z"
   },
   {
    "duration": 25,
    "start_time": "2024-07-23T08:04:03.515Z"
   },
   {
    "duration": 6,
    "start_time": "2024-07-23T08:04:04.149Z"
   },
   {
    "duration": 5,
    "start_time": "2024-07-23T08:04:04.733Z"
   },
   {
    "duration": 255,
    "start_time": "2024-07-23T08:04:08.678Z"
   },
   {
    "duration": 367,
    "start_time": "2024-07-23T08:04:12.294Z"
   },
   {
    "duration": 0,
    "start_time": "2024-07-23T08:04:12.663Z"
   },
   {
    "duration": 1365,
    "start_time": "2024-07-23T08:04:28.879Z"
   },
   {
    "duration": 791,
    "start_time": "2024-07-23T08:04:30.248Z"
   },
   {
    "duration": 43,
    "start_time": "2024-07-23T08:04:33.565Z"
   },
   {
    "duration": 145,
    "start_time": "2024-07-23T08:04:34.966Z"
   },
   {
    "duration": 24,
    "start_time": "2024-07-23T08:04:37.560Z"
   },
   {
    "duration": 29,
    "start_time": "2024-07-23T08:04:40.791Z"
   },
   {
    "duration": 1758,
    "start_time": "2024-07-23T08:04:43.865Z"
   },
   {
    "duration": 1284,
    "start_time": "2024-07-23T08:04:54.209Z"
   },
   {
    "duration": 726,
    "start_time": "2024-07-23T08:04:55.496Z"
   },
   {
    "duration": 46,
    "start_time": "2024-07-23T08:04:56.225Z"
   },
   {
    "duration": 163,
    "start_time": "2024-07-23T08:04:56.274Z"
   },
   {
    "duration": 25,
    "start_time": "2024-07-23T08:04:56.441Z"
   },
   {
    "duration": 29,
    "start_time": "2024-07-23T08:04:59.196Z"
   },
   {
    "duration": 5,
    "start_time": "2024-07-23T08:05:02.988Z"
   },
   {
    "duration": 37,
    "start_time": "2024-07-23T08:05:03.707Z"
   },
   {
    "duration": 28,
    "start_time": "2024-07-23T08:05:09.278Z"
   },
   {
    "duration": 5,
    "start_time": "2024-07-23T08:05:10.033Z"
   },
   {
    "duration": 6,
    "start_time": "2024-07-23T08:05:10.708Z"
   },
   {
    "duration": 114,
    "start_time": "2024-07-23T08:05:12.891Z"
   },
   {
    "duration": 130,
    "start_time": "2024-07-23T08:05:15.453Z"
   },
   {
    "duration": 46,
    "start_time": "2024-07-23T08:05:17.736Z"
   },
   {
    "duration": 106,
    "start_time": "2024-07-23T08:05:22.550Z"
   },
   {
    "duration": 6,
    "start_time": "2024-07-23T08:05:24.960Z"
   },
   {
    "duration": 115,
    "start_time": "2024-07-23T08:05:28.364Z"
   },
   {
    "duration": 143,
    "start_time": "2024-07-23T08:05:30.801Z"
   },
   {
    "duration": 122,
    "start_time": "2024-07-23T08:05:31.714Z"
   },
   {
    "duration": 27,
    "start_time": "2024-07-23T08:05:33.847Z"
   },
   {
    "duration": 1278,
    "start_time": "2024-07-23T08:06:01.356Z"
   },
   {
    "duration": 10,
    "start_time": "2024-07-23T08:06:02.637Z"
   },
   {
    "duration": 15,
    "start_time": "2024-07-23T08:06:03.402Z"
   },
   {
    "duration": 20,
    "start_time": "2024-07-23T08:06:13.114Z"
   },
   {
    "duration": 22,
    "start_time": "2024-07-23T08:06:18.893Z"
   },
   {
    "duration": 19,
    "start_time": "2024-07-23T08:06:20.289Z"
   },
   {
    "duration": 17,
    "start_time": "2024-07-23T08:06:23.191Z"
   },
   {
    "duration": 1338,
    "start_time": "2024-07-23T08:06:45.527Z"
   },
   {
    "duration": 779,
    "start_time": "2024-07-23T08:06:46.868Z"
   },
   {
    "duration": 41,
    "start_time": "2024-07-23T08:06:47.650Z"
   },
   {
    "duration": 166,
    "start_time": "2024-07-23T08:06:47.693Z"
   },
   {
    "duration": 24,
    "start_time": "2024-07-23T08:06:47.864Z"
   },
   {
    "duration": 50,
    "start_time": "2024-07-23T08:06:47.891Z"
   },
   {
    "duration": 6,
    "start_time": "2024-07-23T08:06:47.944Z"
   },
   {
    "duration": 37,
    "start_time": "2024-07-23T08:06:47.953Z"
   },
   {
    "duration": 63,
    "start_time": "2024-07-23T08:06:47.993Z"
   },
   {
    "duration": 5,
    "start_time": "2024-07-23T08:06:48.059Z"
   },
   {
    "duration": 6,
    "start_time": "2024-07-23T08:06:48.068Z"
   },
   {
    "duration": 146,
    "start_time": "2024-07-23T08:06:48.077Z"
   },
   {
    "duration": 144,
    "start_time": "2024-07-23T08:06:48.229Z"
   },
   {
    "duration": 56,
    "start_time": "2024-07-23T08:06:48.379Z"
   },
   {
    "duration": 102,
    "start_time": "2024-07-23T08:06:48.438Z"
   },
   {
    "duration": 7,
    "start_time": "2024-07-23T08:06:48.543Z"
   },
   {
    "duration": 3,
    "start_time": "2024-07-23T08:06:48.553Z"
   },
   {
    "duration": 4,
    "start_time": "2024-07-23T08:06:48.559Z"
   },
   {
    "duration": 153,
    "start_time": "2024-07-23T08:06:48.566Z"
   },
   {
    "duration": 164,
    "start_time": "2024-07-23T08:06:48.722Z"
   },
   {
    "duration": 123,
    "start_time": "2024-07-23T08:06:48.889Z"
   },
   {
    "duration": 36,
    "start_time": "2024-07-23T08:06:49.015Z"
   },
   {
    "duration": 1347,
    "start_time": "2024-07-23T08:07:11.074Z"
   },
   {
    "duration": 779,
    "start_time": "2024-07-23T08:07:12.424Z"
   },
   {
    "duration": 56,
    "start_time": "2024-07-23T08:07:13.206Z"
   },
   {
    "duration": 156,
    "start_time": "2024-07-23T08:07:13.264Z"
   },
   {
    "duration": 25,
    "start_time": "2024-07-23T08:07:13.434Z"
   },
   {
    "duration": 29,
    "start_time": "2024-07-23T08:07:13.461Z"
   },
   {
    "duration": 37,
    "start_time": "2024-07-23T08:07:13.493Z"
   },
   {
    "duration": 37,
    "start_time": "2024-07-23T08:07:13.533Z"
   },
   {
    "duration": 27,
    "start_time": "2024-07-23T08:07:13.572Z"
   },
   {
    "duration": 31,
    "start_time": "2024-07-23T08:07:13.602Z"
   },
   {
    "duration": 6,
    "start_time": "2024-07-23T08:07:13.636Z"
   },
   {
    "duration": 140,
    "start_time": "2024-07-23T08:07:13.646Z"
   },
   {
    "duration": 144,
    "start_time": "2024-07-23T08:07:13.789Z"
   },
   {
    "duration": 43,
    "start_time": "2024-07-23T08:07:13.940Z"
   },
   {
    "duration": 130,
    "start_time": "2024-07-23T08:07:13.987Z"
   },
   {
    "duration": 13,
    "start_time": "2024-07-23T08:07:14.120Z"
   },
   {
    "duration": 3,
    "start_time": "2024-07-23T08:07:14.137Z"
   },
   {
    "duration": 5,
    "start_time": "2024-07-23T08:07:14.144Z"
   },
   {
    "duration": 155,
    "start_time": "2024-07-23T08:07:14.152Z"
   },
   {
    "duration": 166,
    "start_time": "2024-07-23T08:07:14.310Z"
   },
   {
    "duration": 116,
    "start_time": "2024-07-23T08:07:14.479Z"
   },
   {
    "duration": 41,
    "start_time": "2024-07-23T08:07:14.597Z"
   },
   {
    "duration": 1277,
    "start_time": "2024-07-23T08:07:34.382Z"
   },
   {
    "duration": 759,
    "start_time": "2024-07-23T08:07:36.411Z"
   },
   {
    "duration": 51,
    "start_time": "2024-07-23T08:07:40.092Z"
   },
   {
    "duration": 145,
    "start_time": "2024-07-23T08:07:41.796Z"
   },
   {
    "duration": 27,
    "start_time": "2024-07-23T08:07:42.750Z"
   },
   {
    "duration": 31,
    "start_time": "2024-07-23T08:07:46.841Z"
   },
   {
    "duration": 7,
    "start_time": "2024-07-23T08:08:07.380Z"
   },
   {
    "duration": 36,
    "start_time": "2024-07-23T08:08:07.983Z"
   },
   {
    "duration": 26,
    "start_time": "2024-07-23T08:08:09.393Z"
   },
   {
    "duration": 25,
    "start_time": "2024-07-23T08:08:20.068Z"
   },
   {
    "duration": 5,
    "start_time": "2024-07-23T08:09:03.612Z"
   },
   {
    "duration": 5,
    "start_time": "2024-07-23T08:09:04.137Z"
   },
   {
    "duration": 112,
    "start_time": "2024-07-23T08:09:05.251Z"
   },
   {
    "duration": 140,
    "start_time": "2024-07-23T08:09:32.504Z"
   },
   {
    "duration": 24,
    "start_time": "2024-07-23T08:09:36.619Z"
   },
   {
    "duration": 112,
    "start_time": "2024-07-23T08:09:45.099Z"
   },
   {
    "duration": 24,
    "start_time": "2024-07-23T08:09:47.850Z"
   },
   {
    "duration": 1302,
    "start_time": "2024-07-23T08:09:54.411Z"
   },
   {
    "duration": 802,
    "start_time": "2024-07-23T08:09:55.717Z"
   },
   {
    "duration": 44,
    "start_time": "2024-07-23T08:09:56.522Z"
   },
   {
    "duration": 166,
    "start_time": "2024-07-23T08:09:56.569Z"
   },
   {
    "duration": 25,
    "start_time": "2024-07-23T08:09:56.739Z"
   },
   {
    "duration": 28,
    "start_time": "2024-07-23T08:09:56.767Z"
   },
   {
    "duration": 32,
    "start_time": "2024-07-23T08:09:56.798Z"
   },
   {
    "duration": 36,
    "start_time": "2024-07-23T08:09:56.834Z"
   },
   {
    "duration": 27,
    "start_time": "2024-07-23T08:09:56.873Z"
   },
   {
    "duration": 8,
    "start_time": "2024-07-23T08:09:56.931Z"
   },
   {
    "duration": 7,
    "start_time": "2024-07-23T08:09:56.941Z"
   },
   {
    "duration": 140,
    "start_time": "2024-07-23T08:09:56.950Z"
   },
   {
    "duration": 130,
    "start_time": "2024-07-23T08:10:03.420Z"
   },
   {
    "duration": 1342,
    "start_time": "2024-07-23T08:10:36.221Z"
   },
   {
    "duration": 778,
    "start_time": "2024-07-23T08:10:37.567Z"
   },
   {
    "duration": 43,
    "start_time": "2024-07-23T08:10:38.347Z"
   },
   {
    "duration": 164,
    "start_time": "2024-07-23T08:10:38.392Z"
   },
   {
    "duration": 24,
    "start_time": "2024-07-23T08:10:38.561Z"
   },
   {
    "duration": 50,
    "start_time": "2024-07-23T08:10:38.591Z"
   },
   {
    "duration": 7,
    "start_time": "2024-07-23T08:10:38.644Z"
   },
   {
    "duration": 36,
    "start_time": "2024-07-23T08:10:38.654Z"
   },
   {
    "duration": 60,
    "start_time": "2024-07-23T08:10:38.693Z"
   },
   {
    "duration": 6,
    "start_time": "2024-07-23T08:10:38.755Z"
   },
   {
    "duration": 6,
    "start_time": "2024-07-23T08:10:38.764Z"
   },
   {
    "duration": 151,
    "start_time": "2024-07-23T08:10:38.774Z"
   },
   {
    "duration": 139,
    "start_time": "2024-07-23T08:10:42.568Z"
   },
   {
    "duration": 24,
    "start_time": "2024-07-23T08:10:51.165Z"
   },
   {
    "duration": 1340,
    "start_time": "2024-07-23T08:11:35.253Z"
   },
   {
    "duration": 320,
    "start_time": "2024-07-23T08:11:52.236Z"
   },
   {
    "duration": 1291,
    "start_time": "2024-07-23T08:11:59.804Z"
   },
   {
    "duration": 1361,
    "start_time": "2024-07-23T08:13:41.449Z"
   },
   {
    "duration": 1285,
    "start_time": "2024-07-23T08:15:15.988Z"
   },
   {
    "duration": 778,
    "start_time": "2024-07-23T08:15:17.276Z"
   },
   {
    "duration": 43,
    "start_time": "2024-07-23T08:15:19.386Z"
   },
   {
    "duration": 163,
    "start_time": "2024-07-23T08:15:31.044Z"
   },
   {
    "duration": 31,
    "start_time": "2024-07-23T08:15:31.210Z"
   },
   {
    "duration": 29,
    "start_time": "2024-07-23T08:15:31.245Z"
   },
   {
    "duration": 6,
    "start_time": "2024-07-23T08:15:31.278Z"
   },
   {
    "duration": 69,
    "start_time": "2024-07-23T08:15:31.290Z"
   },
   {
    "duration": 28,
    "start_time": "2024-07-23T08:15:31.362Z"
   },
   {
    "duration": 37,
    "start_time": "2024-07-23T08:15:31.393Z"
   },
   {
    "duration": 6,
    "start_time": "2024-07-23T08:15:31.433Z"
   },
   {
    "duration": 133,
    "start_time": "2024-07-23T08:15:31.442Z"
   },
   {
    "duration": 147,
    "start_time": "2024-07-23T08:15:31.578Z"
   },
   {
    "duration": 28,
    "start_time": "2024-07-23T08:15:31.734Z"
   },
   {
    "duration": 61,
    "start_time": "2024-07-23T08:15:31.769Z"
   },
   {
    "duration": 107,
    "start_time": "2024-07-23T08:15:31.833Z"
   },
   {
    "duration": 4,
    "start_time": "2024-07-23T08:15:31.946Z"
   },
   {
    "duration": 4,
    "start_time": "2024-07-23T08:15:31.953Z"
   },
   {
    "duration": 5,
    "start_time": "2024-07-23T08:15:31.960Z"
   },
   {
    "duration": 153,
    "start_time": "2024-07-23T08:15:31.967Z"
   },
   {
    "duration": 157,
    "start_time": "2024-07-23T08:15:32.131Z"
   },
   {
    "duration": 118,
    "start_time": "2024-07-23T08:15:32.292Z"
   },
   {
    "duration": 37,
    "start_time": "2024-07-23T08:15:32.412Z"
   },
   {
    "duration": 1277,
    "start_time": "2024-07-23T08:15:32.453Z"
   },
   {
    "duration": 6,
    "start_time": "2024-07-23T08:15:33.733Z"
   },
   {
    "duration": 16,
    "start_time": "2024-07-23T08:15:33.742Z"
   },
   {
    "duration": 19,
    "start_time": "2024-07-23T08:15:33.762Z"
   },
   {
    "duration": 64,
    "start_time": "2024-07-23T08:15:33.784Z"
   },
   {
    "duration": 20,
    "start_time": "2024-07-23T08:15:33.850Z"
   },
   {
    "duration": 17,
    "start_time": "2024-07-23T08:15:33.872Z"
   },
   {
    "duration": 28,
    "start_time": "2024-07-23T08:15:42.919Z"
   },
   {
    "duration": 26,
    "start_time": "2024-07-23T08:15:42.951Z"
   },
   {
    "duration": 6,
    "start_time": "2024-07-23T08:15:42.980Z"
   },
   {
    "duration": 6,
    "start_time": "2024-07-23T08:15:42.990Z"
   },
   {
    "duration": 267,
    "start_time": "2024-07-23T08:15:43.035Z"
   },
   {
    "duration": 1651,
    "start_time": "2024-07-23T08:15:43.305Z"
   },
   {
    "duration": 6,
    "start_time": "2024-07-23T08:15:44.959Z"
   },
   {
    "duration": 5,
    "start_time": "2024-07-23T08:15:44.968Z"
   },
   {
    "duration": 171,
    "start_time": "2024-07-23T08:15:53.226Z"
   },
   {
    "duration": 22,
    "start_time": "2024-07-23T08:16:20.491Z"
   },
   {
    "duration": 162,
    "start_time": "2024-07-23T08:25:08.649Z"
   },
   {
    "duration": 164,
    "start_time": "2024-07-23T08:25:13.747Z"
   },
   {
    "duration": 24,
    "start_time": "2024-07-23T08:25:20.949Z"
   },
   {
    "duration": 325,
    "start_time": "2024-07-24T00:38:26.670Z"
   },
   {
    "duration": 1345,
    "start_time": "2024-07-24T00:38:35.245Z"
   },
   {
    "duration": 807,
    "start_time": "2024-07-24T00:38:36.594Z"
   },
   {
    "duration": 51,
    "start_time": "2024-07-24T00:38:37.404Z"
   },
   {
    "duration": 165,
    "start_time": "2024-07-24T00:38:37.458Z"
   },
   {
    "duration": 26,
    "start_time": "2024-07-24T00:38:37.630Z"
   },
   {
    "duration": 32,
    "start_time": "2024-07-24T00:38:37.659Z"
   },
   {
    "duration": 31,
    "start_time": "2024-07-24T00:38:37.695Z"
   },
   {
    "duration": 41,
    "start_time": "2024-07-24T00:38:37.729Z"
   },
   {
    "duration": 68,
    "start_time": "2024-07-24T00:38:37.772Z"
   },
   {
    "duration": 7,
    "start_time": "2024-07-24T00:38:37.843Z"
   },
   {
    "duration": 6,
    "start_time": "2024-07-24T00:38:37.854Z"
   },
   {
    "duration": 155,
    "start_time": "2024-07-24T00:38:37.864Z"
   },
   {
    "duration": 142,
    "start_time": "2024-07-24T00:38:38.025Z"
   },
   {
    "duration": 24,
    "start_time": "2024-07-24T00:38:38.176Z"
   },
   {
    "duration": 39,
    "start_time": "2024-07-24T00:38:38.224Z"
   },
   {
    "duration": 125,
    "start_time": "2024-07-24T00:38:38.266Z"
   },
   {
    "duration": 6,
    "start_time": "2024-07-24T00:38:38.393Z"
   },
   {
    "duration": 3,
    "start_time": "2024-07-24T00:38:38.403Z"
   },
   {
    "duration": 4,
    "start_time": "2024-07-24T00:38:38.424Z"
   },
   {
    "duration": 134,
    "start_time": "2024-07-24T00:38:38.432Z"
   },
   {
    "duration": 155,
    "start_time": "2024-07-24T00:38:38.569Z"
   },
   {
    "duration": 117,
    "start_time": "2024-07-24T00:38:38.727Z"
   },
   {
    "duration": 26,
    "start_time": "2024-07-24T00:38:38.848Z"
   },
   {
    "duration": 1278,
    "start_time": "2024-07-24T00:38:38.877Z"
   },
   {
    "duration": 7,
    "start_time": "2024-07-24T00:38:40.158Z"
   },
   {
    "duration": 16,
    "start_time": "2024-07-24T00:38:40.168Z"
   },
   {
    "duration": 49,
    "start_time": "2024-07-24T00:38:40.188Z"
   },
   {
    "duration": 24,
    "start_time": "2024-07-24T00:38:40.240Z"
   },
   {
    "duration": 56,
    "start_time": "2024-07-24T00:38:40.268Z"
   },
   {
    "duration": 19,
    "start_time": "2024-07-24T00:38:40.328Z"
   },
   {
    "duration": 29,
    "start_time": "2024-07-24T00:38:40.351Z"
   },
   {
    "duration": 60,
    "start_time": "2024-07-24T00:38:40.383Z"
   },
   {
    "duration": 5,
    "start_time": "2024-07-24T00:38:40.446Z"
   },
   {
    "duration": 6,
    "start_time": "2024-07-24T00:38:40.455Z"
   },
   {
    "duration": 304,
    "start_time": "2024-07-24T00:38:40.465Z"
   },
   {
    "duration": 1720,
    "start_time": "2024-07-24T00:38:40.771Z"
   },
   {
    "duration": 6,
    "start_time": "2024-07-24T00:38:42.494Z"
   },
   {
    "duration": 32,
    "start_time": "2024-07-24T00:38:42.504Z"
   },
   {
    "duration": 148,
    "start_time": "2024-07-24T00:38:42.540Z"
   },
   {
    "duration": 5,
    "start_time": "2024-07-24T00:38:42.691Z"
   },
   {
    "duration": 19,
    "start_time": "2024-07-24T00:38:42.705Z"
   },
   {
    "duration": 4291,
    "start_time": "2024-07-24T00:38:42.728Z"
   },
   {
    "duration": 310,
    "start_time": "2024-07-24T00:38:47.022Z"
   },
   {
    "duration": 121,
    "start_time": "2024-07-24T00:38:47.335Z"
   },
   {
    "duration": 101,
    "start_time": "2024-07-24T00:39:03.692Z"
   },
   {
    "duration": 6,
    "start_time": "2024-07-24T00:39:06.311Z"
   },
   {
    "duration": 4,
    "start_time": "2024-07-24T00:39:07.004Z"
   },
   {
    "duration": 4126,
    "start_time": "2024-07-24T00:39:07.895Z"
   },
   {
    "duration": 119,
    "start_time": "2024-07-24T00:39:52.879Z"
   },
   {
    "duration": 95,
    "start_time": "2024-07-24T00:40:49.540Z"
   },
   {
    "duration": 6,
    "start_time": "2024-07-24T00:40:51.657Z"
   },
   {
    "duration": 4,
    "start_time": "2024-07-24T00:40:52.289Z"
   },
   {
    "duration": 1131,
    "start_time": "2024-07-24T00:40:53.096Z"
   },
   {
    "duration": 117,
    "start_time": "2024-07-24T00:41:05.544Z"
   },
   {
    "duration": 106,
    "start_time": "2024-07-24T00:41:07.509Z"
   },
   {
    "duration": 77,
    "start_time": "2024-07-24T00:42:00.821Z"
   },
   {
    "duration": 5,
    "start_time": "2024-07-24T00:42:04.683Z"
   },
   {
    "duration": 4,
    "start_time": "2024-07-24T00:42:05.389Z"
   },
   {
    "duration": 259,
    "start_time": "2024-07-24T00:42:06.119Z"
   },
   {
    "duration": 122,
    "start_time": "2024-07-24T00:42:09.909Z"
   },
   {
    "duration": 104,
    "start_time": "2024-07-24T00:42:11.794Z"
   },
   {
    "duration": 263,
    "start_time": "2024-07-24T00:42:20.270Z"
   },
   {
    "duration": 1292,
    "start_time": "2024-07-24T00:45:57.795Z"
   },
   {
    "duration": 388,
    "start_time": "2024-07-24T00:46:15.781Z"
   },
   {
    "duration": 742,
    "start_time": "2024-07-24T00:46:16.605Z"
   },
   {
    "duration": 43,
    "start_time": "2024-07-24T00:46:17.628Z"
   },
   {
    "duration": 149,
    "start_time": "2024-07-24T00:46:18.097Z"
   },
   {
    "duration": 26,
    "start_time": "2024-07-24T00:46:18.576Z"
   },
   {
    "duration": 31,
    "start_time": "2024-07-24T00:46:19.442Z"
   },
   {
    "duration": 7,
    "start_time": "2024-07-24T00:52:11.049Z"
   },
   {
    "duration": 35,
    "start_time": "2024-07-24T00:52:11.264Z"
   },
   {
    "duration": 27,
    "start_time": "2024-07-24T00:52:11.514Z"
   },
   {
    "duration": 6,
    "start_time": "2024-07-24T00:52:11.721Z"
   },
   {
    "duration": 5,
    "start_time": "2024-07-24T00:52:11.995Z"
   },
   {
    "duration": 110,
    "start_time": "2024-07-24T00:52:12.275Z"
   },
   {
    "duration": 132,
    "start_time": "2024-07-24T00:52:12.566Z"
   },
   {
    "duration": 25,
    "start_time": "2024-07-24T00:52:12.850Z"
   },
   {
    "duration": 52,
    "start_time": "2024-07-24T00:52:13.285Z"
   },
   {
    "duration": 111,
    "start_time": "2024-07-24T00:52:14.490Z"
   },
   {
    "duration": 5,
    "start_time": "2024-07-24T00:52:14.780Z"
   },
   {
    "duration": 3,
    "start_time": "2024-07-24T00:52:15.044Z"
   },
   {
    "duration": 4,
    "start_time": "2024-07-24T00:52:15.341Z"
   },
   {
    "duration": 114,
    "start_time": "2024-07-24T00:52:16.325Z"
   },
   {
    "duration": 160,
    "start_time": "2024-07-24T00:52:16.568Z"
   },
   {
    "duration": 111,
    "start_time": "2024-07-24T00:52:16.861Z"
   },
   {
    "duration": 27,
    "start_time": "2024-07-24T00:52:17.084Z"
   },
   {
    "duration": 1286,
    "start_time": "2024-07-24T00:52:17.367Z"
   },
   {
    "duration": 6,
    "start_time": "2024-07-24T00:52:18.656Z"
   },
   {
    "duration": 16,
    "start_time": "2024-07-24T00:52:18.665Z"
   },
   {
    "duration": 52,
    "start_time": "2024-07-24T00:52:18.685Z"
   },
   {
    "duration": 23,
    "start_time": "2024-07-24T00:52:18.739Z"
   },
   {
    "duration": 19,
    "start_time": "2024-07-24T00:52:18.933Z"
   },
   {
    "duration": 17,
    "start_time": "2024-07-24T00:52:19.560Z"
   },
   {
    "duration": 28,
    "start_time": "2024-07-24T00:52:21.017Z"
   },
   {
    "duration": 26,
    "start_time": "2024-07-24T00:52:21.315Z"
   },
   {
    "duration": 6,
    "start_time": "2024-07-24T00:52:21.672Z"
   },
   {
    "duration": 5,
    "start_time": "2024-07-24T00:52:22.041Z"
   },
   {
    "duration": 251,
    "start_time": "2024-07-24T00:52:23.084Z"
   },
   {
    "duration": 1662,
    "start_time": "2024-07-24T00:52:23.438Z"
   },
   {
    "duration": 19,
    "start_time": "2024-07-24T00:52:25.104Z"
   },
   {
    "duration": 7,
    "start_time": "2024-07-24T00:52:25.127Z"
   },
   {
    "duration": 797,
    "start_time": "2024-07-24T00:52:26.251Z"
   },
   {
    "duration": 195,
    "start_time": "2024-07-24T00:56:39.596Z"
   },
   {
    "duration": 182,
    "start_time": "2024-07-24T00:56:44.520Z"
   },
   {
    "duration": 194,
    "start_time": "2024-07-24T00:57:12.630Z"
   },
   {
    "duration": 22,
    "start_time": "2024-07-24T00:58:41.205Z"
   },
   {
    "duration": 23,
    "start_time": "2024-07-24T00:58:48.646Z"
   },
   {
    "duration": 4,
    "start_time": "2024-07-24T00:59:12.512Z"
   },
   {
    "duration": 551,
    "start_time": "2024-07-24T01:00:20.255Z"
   },
   {
    "duration": 82,
    "start_time": "2024-07-24T01:01:15.361Z"
   },
   {
    "duration": 26,
    "start_time": "2024-07-24T01:02:32.769Z"
   },
   {
    "duration": 179,
    "start_time": "2024-07-24T01:02:35.216Z"
   },
   {
    "duration": 175,
    "start_time": "2024-07-24T01:02:50.389Z"
   },
   {
    "duration": 782,
    "start_time": "2024-07-24T01:03:29.045Z"
   },
   {
    "duration": 804,
    "start_time": "2024-07-24T01:03:33.022Z"
   },
   {
    "duration": 888,
    "start_time": "2024-07-24T01:05:24.479Z"
   },
   {
    "duration": 777,
    "start_time": "2024-07-24T01:05:45.686Z"
   },
   {
    "duration": 1625,
    "start_time": "2024-07-24T01:09:38.683Z"
   },
   {
    "duration": 1046,
    "start_time": "2024-07-24T01:13:45.633Z"
   },
   {
    "duration": 1025,
    "start_time": "2024-07-24T01:14:04.900Z"
   },
   {
    "duration": 5,
    "start_time": "2024-07-24T01:14:06.709Z"
   },
   {
    "duration": 4,
    "start_time": "2024-07-24T01:14:07.697Z"
   },
   {
    "duration": 4156,
    "start_time": "2024-07-24T01:14:08.456Z"
   },
   {
    "duration": 3314,
    "start_time": "2024-07-24T01:14:22.818Z"
   },
   {
    "duration": 191397,
    "start_time": "2024-07-24T01:14:34.331Z"
   },
   {
    "duration": 1071,
    "start_time": "2024-07-24T01:17:45.732Z"
   },
   {
    "duration": 7,
    "start_time": "2024-07-24T01:17:46.806Z"
   },
   {
    "duration": 5,
    "start_time": "2024-07-24T01:17:46.826Z"
   },
   {
    "duration": 4109,
    "start_time": "2024-07-24T01:17:46.835Z"
   },
   {
    "duration": 1042,
    "start_time": "2024-07-24T01:18:00.022Z"
   },
   {
    "duration": 5,
    "start_time": "2024-07-24T01:18:03.184Z"
   },
   {
    "duration": 4,
    "start_time": "2024-07-24T01:18:03.898Z"
   },
   {
    "duration": 4068,
    "start_time": "2024-07-24T01:18:04.780Z"
   },
   {
    "duration": 1068,
    "start_time": "2024-07-24T01:22:10.289Z"
   },
   {
    "duration": 1305,
    "start_time": "2024-07-24T01:23:11.719Z"
   },
   {
    "duration": 724,
    "start_time": "2024-07-24T01:23:13.027Z"
   },
   {
    "duration": 46,
    "start_time": "2024-07-24T01:23:13.754Z"
   },
   {
    "duration": 149,
    "start_time": "2024-07-24T01:23:13.822Z"
   },
   {
    "duration": 26,
    "start_time": "2024-07-24T01:23:13.976Z"
   },
   {
    "duration": 48,
    "start_time": "2024-07-24T01:23:14.004Z"
   },
   {
    "duration": 7,
    "start_time": "2024-07-24T01:23:14.055Z"
   },
   {
    "duration": 69,
    "start_time": "2024-07-24T01:23:14.067Z"
   },
   {
    "duration": 27,
    "start_time": "2024-07-24T01:23:14.139Z"
   },
   {
    "duration": 6,
    "start_time": "2024-07-24T01:23:14.169Z"
   },
   {
    "duration": 7,
    "start_time": "2024-07-24T01:23:14.178Z"
   },
   {
    "duration": 127,
    "start_time": "2024-07-24T01:23:14.223Z"
   },
   {
    "duration": 146,
    "start_time": "2024-07-24T01:23:14.354Z"
   },
   {
    "duration": 35,
    "start_time": "2024-07-24T01:23:14.508Z"
   },
   {
    "duration": 43,
    "start_time": "2024-07-24T01:23:14.546Z"
   },
   {
    "duration": 156,
    "start_time": "2024-07-24T01:23:14.592Z"
   },
   {
    "duration": 6,
    "start_time": "2024-07-24T01:23:14.751Z"
   },
   {
    "duration": 4,
    "start_time": "2024-07-24T01:23:14.760Z"
   },
   {
    "duration": 5,
    "start_time": "2024-07-24T01:23:14.768Z"
   },
   {
    "duration": 158,
    "start_time": "2024-07-24T01:23:14.776Z"
   },
   {
    "duration": 157,
    "start_time": "2024-07-24T01:23:14.937Z"
   },
   {
    "duration": 125,
    "start_time": "2024-07-24T01:23:15.097Z"
   },
   {
    "duration": 26,
    "start_time": "2024-07-24T01:23:15.225Z"
   },
   {
    "duration": 1294,
    "start_time": "2024-07-24T01:23:15.254Z"
   },
   {
    "duration": 6,
    "start_time": "2024-07-24T01:23:16.551Z"
   },
   {
    "duration": 16,
    "start_time": "2024-07-24T01:23:16.562Z"
   },
   {
    "duration": 56,
    "start_time": "2024-07-24T01:23:16.581Z"
   },
   {
    "duration": 29,
    "start_time": "2024-07-24T01:23:16.642Z"
   },
   {
    "duration": 24,
    "start_time": "2024-07-24T01:23:16.675Z"
   },
   {
    "duration": 18,
    "start_time": "2024-07-24T01:23:16.722Z"
   },
   {
    "duration": 26,
    "start_time": "2024-07-24T01:23:16.743Z"
   },
   {
    "duration": 61,
    "start_time": "2024-07-24T01:23:16.772Z"
   },
   {
    "duration": 6,
    "start_time": "2024-07-24T01:23:16.836Z"
   },
   {
    "duration": 5,
    "start_time": "2024-07-24T01:23:16.845Z"
   },
   {
    "duration": 291,
    "start_time": "2024-07-24T01:23:16.853Z"
   },
   {
    "duration": 1659,
    "start_time": "2024-07-24T01:23:17.147Z"
   },
   {
    "duration": 5,
    "start_time": "2024-07-24T01:23:18.809Z"
   },
   {
    "duration": 6,
    "start_time": "2024-07-24T01:23:18.824Z"
   },
   {
    "duration": 25,
    "start_time": "2024-07-24T01:23:18.833Z"
   },
   {
    "duration": 1080,
    "start_time": "2024-07-24T01:23:18.861Z"
   },
   {
    "duration": 5,
    "start_time": "2024-07-24T01:23:19.949Z"
   },
   {
    "duration": 5,
    "start_time": "2024-07-24T01:23:19.957Z"
   },
   {
    "duration": 4153,
    "start_time": "2024-07-24T01:23:19.966Z"
   },
   {
    "duration": 4026,
    "start_time": "2024-07-24T01:23:24.122Z"
   },
   {
    "duration": 1369,
    "start_time": "2024-07-24T01:24:44.714Z"
   },
   {
    "duration": 865,
    "start_time": "2024-07-24T01:24:46.087Z"
   },
   {
    "duration": 48,
    "start_time": "2024-07-24T01:24:46.956Z"
   },
   {
    "duration": 193,
    "start_time": "2024-07-24T01:24:47.009Z"
   },
   {
    "duration": 33,
    "start_time": "2024-07-24T01:24:47.205Z"
   },
   {
    "duration": 31,
    "start_time": "2024-07-24T01:24:47.241Z"
   },
   {
    "duration": 7,
    "start_time": "2024-07-24T01:24:47.276Z"
   },
   {
    "duration": 67,
    "start_time": "2024-07-24T01:24:47.286Z"
   },
   {
    "duration": 32,
    "start_time": "2024-07-24T01:24:47.357Z"
   },
   {
    "duration": 6,
    "start_time": "2024-07-24T01:24:47.424Z"
   },
   {
    "duration": 6,
    "start_time": "2024-07-24T01:24:47.435Z"
   },
   {
    "duration": 138,
    "start_time": "2024-07-24T01:24:47.444Z"
   },
   {
    "duration": 149,
    "start_time": "2024-07-24T01:24:47.586Z"
   },
   {
    "duration": 32,
    "start_time": "2024-07-24T01:24:47.738Z"
   },
   {
    "duration": 64,
    "start_time": "2024-07-24T01:24:47.773Z"
   },
   {
    "duration": 106,
    "start_time": "2024-07-24T01:24:47.840Z"
   },
   {
    "duration": 7,
    "start_time": "2024-07-24T01:24:47.950Z"
   },
   {
    "duration": 5,
    "start_time": "2024-07-24T01:24:47.960Z"
   },
   {
    "duration": 7,
    "start_time": "2024-07-24T01:24:47.968Z"
   },
   {
    "duration": 158,
    "start_time": "2024-07-24T01:24:47.979Z"
   },
   {
    "duration": 164,
    "start_time": "2024-07-24T01:24:48.141Z"
   },
   {
    "duration": 123,
    "start_time": "2024-07-24T01:24:48.309Z"
   },
   {
    "duration": 26,
    "start_time": "2024-07-24T01:24:48.436Z"
   },
   {
    "duration": 1311,
    "start_time": "2024-07-24T01:24:48.465Z"
   },
   {
    "duration": 6,
    "start_time": "2024-07-24T01:24:49.779Z"
   },
   {
    "duration": 38,
    "start_time": "2024-07-24T01:24:49.788Z"
   },
   {
    "duration": 21,
    "start_time": "2024-07-24T01:24:49.829Z"
   },
   {
    "duration": 27,
    "start_time": "2024-07-24T01:24:49.860Z"
   },
   {
    "duration": 25,
    "start_time": "2024-07-24T01:24:49.922Z"
   },
   {
    "duration": 22,
    "start_time": "2024-07-24T01:24:49.951Z"
   },
   {
    "duration": 68,
    "start_time": "2024-07-24T01:24:49.977Z"
   },
   {
    "duration": 35,
    "start_time": "2024-07-24T01:24:50.050Z"
   },
   {
    "duration": 6,
    "start_time": "2024-07-24T01:24:50.088Z"
   },
   {
    "duration": 8,
    "start_time": "2024-07-24T01:24:50.124Z"
   },
   {
    "duration": 280,
    "start_time": "2024-07-24T01:24:50.136Z"
   },
   {
    "duration": 1718,
    "start_time": "2024-07-24T01:24:50.419Z"
   },
   {
    "duration": 8,
    "start_time": "2024-07-24T01:24:52.143Z"
   },
   {
    "duration": 8,
    "start_time": "2024-07-24T01:24:52.154Z"
   },
   {
    "duration": 59,
    "start_time": "2024-07-24T01:24:52.165Z"
   },
   {
    "duration": 1046,
    "start_time": "2024-07-24T01:24:52.228Z"
   },
   {
    "duration": 7,
    "start_time": "2024-07-24T01:24:53.278Z"
   },
   {
    "duration": 4,
    "start_time": "2024-07-24T01:24:53.289Z"
   },
   {
    "duration": 4348,
    "start_time": "2024-07-24T01:24:53.297Z"
   },
   {
    "duration": 3002,
    "start_time": "2024-07-24T01:24:57.648Z"
   },
   {
    "duration": 1336,
    "start_time": "2024-07-25T18:48:55.662Z"
   },
   {
    "duration": 754,
    "start_time": "2024-07-25T18:48:57.002Z"
   },
   {
    "duration": 54,
    "start_time": "2024-07-25T18:48:57.759Z"
   },
   {
    "duration": 149,
    "start_time": "2024-07-25T18:48:57.816Z"
   },
   {
    "duration": 38,
    "start_time": "2024-07-25T18:48:57.970Z"
   },
   {
    "duration": 32,
    "start_time": "2024-07-25T18:48:58.011Z"
   },
   {
    "duration": 7,
    "start_time": "2024-07-25T18:48:58.046Z"
   },
   {
    "duration": 68,
    "start_time": "2024-07-25T18:48:58.057Z"
   },
   {
    "duration": 32,
    "start_time": "2024-07-25T18:48:58.128Z"
   },
   {
    "duration": 27,
    "start_time": "2024-07-25T18:48:58.163Z"
   },
   {
    "duration": 5,
    "start_time": "2024-07-25T18:48:58.193Z"
   },
   {
    "duration": 133,
    "start_time": "2024-07-25T18:48:58.201Z"
   },
   {
    "duration": 145,
    "start_time": "2024-07-25T18:48:58.337Z"
   },
   {
    "duration": 25,
    "start_time": "2024-07-25T18:48:58.493Z"
   },
   {
    "duration": 45,
    "start_time": "2024-07-25T18:48:58.521Z"
   },
   {
    "duration": 121,
    "start_time": "2024-07-25T18:48:58.591Z"
   },
   {
    "duration": 6,
    "start_time": "2024-07-25T18:48:58.714Z"
   },
   {
    "duration": 4,
    "start_time": "2024-07-25T18:48:58.723Z"
   },
   {
    "duration": 5,
    "start_time": "2024-07-25T18:48:58.730Z"
   },
   {
    "duration": 153,
    "start_time": "2024-07-25T18:48:58.738Z"
   },
   {
    "duration": 157,
    "start_time": "2024-07-25T18:48:58.893Z"
   },
   {
    "duration": 122,
    "start_time": "2024-07-25T18:48:59.053Z"
   },
   {
    "duration": 25,
    "start_time": "2024-07-25T18:48:59.190Z"
   },
   {
    "duration": 1246,
    "start_time": "2024-07-25T18:48:59.218Z"
   },
   {
    "duration": 5,
    "start_time": "2024-07-25T18:49:00.466Z"
   },
   {
    "duration": 29,
    "start_time": "2024-07-25T18:49:00.475Z"
   },
   {
    "duration": 23,
    "start_time": "2024-07-25T18:49:00.510Z"
   },
   {
    "duration": 54,
    "start_time": "2024-07-25T18:49:00.538Z"
   },
   {
    "duration": 22,
    "start_time": "2024-07-25T18:49:00.594Z"
   },
   {
    "duration": 17,
    "start_time": "2024-07-25T18:49:00.619Z"
   },
   {
    "duration": 66,
    "start_time": "2024-07-25T18:49:00.639Z"
   },
   {
    "duration": 27,
    "start_time": "2024-07-25T18:49:00.708Z"
   },
   {
    "duration": 6,
    "start_time": "2024-07-25T18:49:00.739Z"
   },
   {
    "duration": 40,
    "start_time": "2024-07-25T18:49:00.750Z"
   },
   {
    "duration": 257,
    "start_time": "2024-07-25T18:49:07.379Z"
   },
   {
    "duration": 1609,
    "start_time": "2024-07-25T18:49:08.050Z"
   },
   {
    "duration": 7,
    "start_time": "2024-07-25T18:49:09.663Z"
   },
   {
    "duration": 6,
    "start_time": "2024-07-25T18:49:09.690Z"
   },
   {
    "duration": 157,
    "start_time": "2024-07-25T18:49:13.045Z"
   },
   {
    "duration": 24,
    "start_time": "2024-07-25T18:49:39.025Z"
   },
   {
    "duration": 1377,
    "start_time": "2024-07-25T18:50:55.931Z"
   },
   {
    "duration": 747,
    "start_time": "2024-07-25T18:50:57.311Z"
   },
   {
    "duration": 53,
    "start_time": "2024-07-25T18:50:58.061Z"
   },
   {
    "duration": 167,
    "start_time": "2024-07-25T18:50:58.117Z"
   },
   {
    "duration": 26,
    "start_time": "2024-07-25T18:50:58.292Z"
   },
   {
    "duration": 30,
    "start_time": "2024-07-25T18:50:58.323Z"
   },
   {
    "duration": 35,
    "start_time": "2024-07-25T18:50:58.356Z"
   },
   {
    "duration": 41,
    "start_time": "2024-07-25T18:50:58.394Z"
   },
   {
    "duration": 60,
    "start_time": "2024-07-25T18:50:58.438Z"
   },
   {
    "duration": 6,
    "start_time": "2024-07-25T18:50:58.500Z"
   },
   {
    "duration": 6,
    "start_time": "2024-07-25T18:50:58.509Z"
   },
   {
    "duration": 150,
    "start_time": "2024-07-25T18:50:58.519Z"
   },
   {
    "duration": 152,
    "start_time": "2024-07-25T18:50:58.672Z"
   },
   {
    "duration": 26,
    "start_time": "2024-07-25T18:50:58.831Z"
   },
   {
    "duration": 65,
    "start_time": "2024-07-25T18:50:58.860Z"
   },
   {
    "duration": 116,
    "start_time": "2024-07-25T18:50:58.928Z"
   },
   {
    "duration": 6,
    "start_time": "2024-07-25T18:50:59.048Z"
   },
   {
    "duration": 4,
    "start_time": "2024-07-25T18:50:59.058Z"
   },
   {
    "duration": 26,
    "start_time": "2024-07-25T18:50:59.065Z"
   },
   {
    "duration": 131,
    "start_time": "2024-07-25T18:50:59.095Z"
   },
   {
    "duration": 172,
    "start_time": "2024-07-25T18:50:59.230Z"
   },
   {
    "duration": 121,
    "start_time": "2024-07-25T18:50:59.405Z"
   },
   {
    "duration": 27,
    "start_time": "2024-07-25T18:50:59.529Z"
   },
   {
    "duration": 1312,
    "start_time": "2024-07-25T18:50:59.559Z"
   },
   {
    "duration": 16,
    "start_time": "2024-07-25T18:51:00.874Z"
   },
   {
    "duration": 15,
    "start_time": "2024-07-25T18:51:00.893Z"
   },
   {
    "duration": 19,
    "start_time": "2024-07-25T18:51:00.911Z"
   },
   {
    "duration": 58,
    "start_time": "2024-07-25T18:51:00.934Z"
   },
   {
    "duration": 19,
    "start_time": "2024-07-25T18:51:00.994Z"
   },
   {
    "duration": 18,
    "start_time": "2024-07-25T18:51:01.016Z"
   },
   {
    "duration": 67,
    "start_time": "2024-07-25T18:51:01.037Z"
   },
   {
    "duration": 26,
    "start_time": "2024-07-25T18:51:01.106Z"
   },
   {
    "duration": 6,
    "start_time": "2024-07-25T18:51:01.135Z"
   },
   {
    "duration": 7,
    "start_time": "2024-07-25T18:51:01.145Z"
   },
   {
    "duration": 24,
    "start_time": "2024-07-25T18:51:06.556Z"
   },
   {
    "duration": 22,
    "start_time": "2024-07-25T18:51:14.333Z"
   },
   {
    "duration": 24,
    "start_time": "2024-07-25T18:52:09.563Z"
   },
   {
    "duration": 415,
    "start_time": "2024-07-25T18:52:18.476Z"
   },
   {
    "duration": 26,
    "start_time": "2024-07-25T18:52:23.110Z"
   },
   {
    "duration": 259,
    "start_time": "2024-07-25T18:52:28.644Z"
   },
   {
    "duration": 67,
    "start_time": "2024-07-25T18:52:33.265Z"
   },
   {
    "duration": 46,
    "start_time": "2024-07-25T18:52:42.445Z"
   },
   {
    "duration": 41,
    "start_time": "2024-07-25T18:53:26.387Z"
   },
   {
    "duration": 60,
    "start_time": "2024-07-25T18:53:29.605Z"
   },
   {
    "duration": 4,
    "start_time": "2024-07-25T18:55:54.533Z"
   },
   {
    "duration": 5,
    "start_time": "2024-07-25T18:57:10.363Z"
   },
   {
    "duration": 6,
    "start_time": "2024-07-25T18:57:10.950Z"
   },
   {
    "duration": 25,
    "start_time": "2024-07-25T18:57:21.786Z"
   },
   {
    "duration": 43,
    "start_time": "2024-07-25T18:58:19.430Z"
   },
   {
    "duration": 1348,
    "start_time": "2024-07-25T19:13:41.988Z"
   },
   {
    "duration": 723,
    "start_time": "2024-07-25T19:13:43.339Z"
   },
   {
    "duration": 54,
    "start_time": "2024-07-25T19:13:44.066Z"
   },
   {
    "duration": 151,
    "start_time": "2024-07-25T19:13:44.123Z"
   },
   {
    "duration": 36,
    "start_time": "2024-07-25T19:13:44.277Z"
   },
   {
    "duration": 31,
    "start_time": "2024-07-25T19:13:44.316Z"
   },
   {
    "duration": 5,
    "start_time": "2024-07-25T19:13:44.351Z"
   },
   {
    "duration": 35,
    "start_time": "2024-07-25T19:13:44.392Z"
   },
   {
    "duration": 27,
    "start_time": "2024-07-25T19:13:44.433Z"
   },
   {
    "duration": 30,
    "start_time": "2024-07-25T19:13:44.463Z"
   },
   {
    "duration": 5,
    "start_time": "2024-07-25T19:13:44.496Z"
   },
   {
    "duration": 140,
    "start_time": "2024-07-25T19:13:44.504Z"
   },
   {
    "duration": 153,
    "start_time": "2024-07-25T19:13:44.647Z"
   },
   {
    "duration": 32,
    "start_time": "2024-07-25T19:13:44.803Z"
   },
   {
    "duration": 66,
    "start_time": "2024-07-25T19:13:44.838Z"
   },
   {
    "duration": 117,
    "start_time": "2024-07-25T19:13:44.907Z"
   },
   {
    "duration": 6,
    "start_time": "2024-07-25T19:13:45.027Z"
   },
   {
    "duration": 4,
    "start_time": "2024-07-25T19:13:45.036Z"
   },
   {
    "duration": 4,
    "start_time": "2024-07-25T19:13:45.044Z"
   },
   {
    "duration": 150,
    "start_time": "2024-07-25T19:13:45.051Z"
   },
   {
    "duration": 166,
    "start_time": "2024-07-25T19:13:45.204Z"
   },
   {
    "duration": 123,
    "start_time": "2024-07-25T19:13:45.373Z"
   },
   {
    "duration": 25,
    "start_time": "2024-07-25T19:13:45.499Z"
   },
   {
    "duration": 1301,
    "start_time": "2024-07-25T19:13:45.527Z"
   },
   {
    "duration": 6,
    "start_time": "2024-07-25T19:13:46.831Z"
   },
   {
    "duration": 17,
    "start_time": "2024-07-25T19:13:46.841Z"
   },
   {
    "duration": 20,
    "start_time": "2024-07-25T19:13:46.895Z"
   },
   {
    "duration": 23,
    "start_time": "2024-07-25T19:13:46.918Z"
   },
   {
    "duration": 52,
    "start_time": "2024-07-25T19:13:46.945Z"
   },
   {
    "duration": 17,
    "start_time": "2024-07-25T19:13:47.000Z"
   },
   {
    "duration": 29,
    "start_time": "2024-07-25T19:13:47.020Z"
   },
   {
    "duration": 62,
    "start_time": "2024-07-25T19:13:47.052Z"
   },
   {
    "duration": 6,
    "start_time": "2024-07-25T19:13:47.118Z"
   },
   {
    "duration": 7,
    "start_time": "2024-07-25T19:13:47.126Z"
   },
   {
    "duration": 4,
    "start_time": "2024-07-25T19:13:53.553Z"
   },
   {
    "duration": 7,
    "start_time": "2024-07-25T19:13:57.585Z"
   },
   {
    "duration": 22,
    "start_time": "2024-07-25T19:14:48.217Z"
   },
   {
    "duration": 257,
    "start_time": "2024-07-25T19:14:56.997Z"
   },
   {
    "duration": 1293,
    "start_time": "2024-07-25T19:17:50.998Z"
   },
   {
    "duration": 748,
    "start_time": "2024-07-25T19:17:52.295Z"
   },
   {
    "duration": 54,
    "start_time": "2024-07-25T19:17:53.045Z"
   },
   {
    "duration": 160,
    "start_time": "2024-07-25T19:17:53.104Z"
   },
   {
    "duration": 42,
    "start_time": "2024-07-25T19:17:53.268Z"
   },
   {
    "duration": 29,
    "start_time": "2024-07-25T19:17:53.313Z"
   },
   {
    "duration": 5,
    "start_time": "2024-07-25T19:17:53.345Z"
   },
   {
    "duration": 64,
    "start_time": "2024-07-25T19:17:53.354Z"
   },
   {
    "duration": 26,
    "start_time": "2024-07-25T19:17:53.422Z"
   },
   {
    "duration": 5,
    "start_time": "2024-07-25T19:17:53.454Z"
   },
   {
    "duration": 11,
    "start_time": "2024-07-25T19:17:53.490Z"
   },
   {
    "duration": 143,
    "start_time": "2024-07-25T19:17:53.504Z"
   },
   {
    "duration": 147,
    "start_time": "2024-07-25T19:17:53.650Z"
   },
   {
    "duration": 25,
    "start_time": "2024-07-25T19:17:53.800Z"
   },
   {
    "duration": 72,
    "start_time": "2024-07-25T19:17:53.828Z"
   },
   {
    "duration": 107,
    "start_time": "2024-07-25T19:17:53.903Z"
   },
   {
    "duration": 8,
    "start_time": "2024-07-25T19:17:54.012Z"
   },
   {
    "duration": 4,
    "start_time": "2024-07-25T19:17:54.023Z"
   },
   {
    "duration": 4,
    "start_time": "2024-07-25T19:17:54.030Z"
   },
   {
    "duration": 143,
    "start_time": "2024-07-25T19:17:54.037Z"
   },
   {
    "duration": 164,
    "start_time": "2024-07-25T19:17:54.190Z"
   },
   {
    "duration": 114,
    "start_time": "2024-07-25T19:17:54.356Z"
   },
   {
    "duration": 36,
    "start_time": "2024-07-25T19:17:54.474Z"
   },
   {
    "duration": 831,
    "start_time": "2024-07-25T19:19:24.491Z"
   },
   {
    "duration": 1334,
    "start_time": "2024-07-25T19:19:30.730Z"
   },
   {
    "duration": 740,
    "start_time": "2024-07-25T19:19:32.067Z"
   },
   {
    "duration": 41,
    "start_time": "2024-07-25T19:19:32.810Z"
   },
   {
    "duration": 173,
    "start_time": "2024-07-25T19:19:32.855Z"
   },
   {
    "duration": 27,
    "start_time": "2024-07-25T19:19:33.032Z"
   },
   {
    "duration": 29,
    "start_time": "2024-07-25T19:19:33.091Z"
   },
   {
    "duration": 7,
    "start_time": "2024-07-25T19:19:33.123Z"
   },
   {
    "duration": 62,
    "start_time": "2024-07-25T19:19:33.133Z"
   },
   {
    "duration": 28,
    "start_time": "2024-07-25T19:19:33.201Z"
   },
   {
    "duration": 6,
    "start_time": "2024-07-25T19:19:33.235Z"
   },
   {
    "duration": 5,
    "start_time": "2024-07-25T19:19:33.245Z"
   },
   {
    "duration": 123,
    "start_time": "2024-07-25T19:19:33.292Z"
   },
   {
    "duration": 149,
    "start_time": "2024-07-25T19:19:33.417Z"
   },
   {
    "duration": 37,
    "start_time": "2024-07-25T19:19:33.569Z"
   },
   {
    "duration": 42,
    "start_time": "2024-07-25T19:19:33.609Z"
   },
   {
    "duration": 136,
    "start_time": "2024-07-25T19:19:33.654Z"
   },
   {
    "duration": 7,
    "start_time": "2024-07-25T19:19:33.794Z"
   },
   {
    "duration": 3,
    "start_time": "2024-07-25T19:19:33.805Z"
   },
   {
    "duration": 6,
    "start_time": "2024-07-25T19:19:33.811Z"
   },
   {
    "duration": 146,
    "start_time": "2024-07-25T19:19:33.821Z"
   },
   {
    "duration": 167,
    "start_time": "2024-07-25T19:19:33.970Z"
   },
   {
    "duration": 118,
    "start_time": "2024-07-25T19:19:34.140Z"
   },
   {
    "duration": 39,
    "start_time": "2024-07-25T19:19:34.261Z"
   },
   {
    "duration": 28,
    "start_time": "2024-07-25T19:19:43.395Z"
   },
   {
    "duration": 1319,
    "start_time": "2024-07-25T19:30:55.177Z"
   },
   {
    "duration": 733,
    "start_time": "2024-07-25T19:30:56.501Z"
   },
   {
    "duration": 54,
    "start_time": "2024-07-25T19:30:57.236Z"
   },
   {
    "duration": 147,
    "start_time": "2024-07-25T19:30:57.293Z"
   },
   {
    "duration": 45,
    "start_time": "2024-07-25T19:30:57.445Z"
   },
   {
    "duration": 30,
    "start_time": "2024-07-25T19:30:57.493Z"
   },
   {
    "duration": 6,
    "start_time": "2024-07-25T19:30:57.526Z"
   },
   {
    "duration": 64,
    "start_time": "2024-07-25T19:30:57.535Z"
   },
   {
    "duration": 27,
    "start_time": "2024-07-25T19:30:57.602Z"
   },
   {
    "duration": 7,
    "start_time": "2024-07-25T19:30:57.631Z"
   },
   {
    "duration": 6,
    "start_time": "2024-07-25T19:30:57.641Z"
   },
   {
    "duration": 123,
    "start_time": "2024-07-25T19:30:57.690Z"
   },
   {
    "duration": 146,
    "start_time": "2024-07-25T19:30:57.816Z"
   },
   {
    "duration": 189,
    "start_time": "2024-07-25T19:31:49.533Z"
   },
   {
    "duration": 98,
    "start_time": "2024-07-25T19:32:16.609Z"
   },
   {
    "duration": 107,
    "start_time": "2024-07-25T19:35:12.331Z"
   },
   {
    "duration": 134,
    "start_time": "2024-07-25T19:35:16.517Z"
   },
   {
    "duration": 1248,
    "start_time": "2024-07-25T19:35:26.387Z"
   },
   {
    "duration": 1338,
    "start_time": "2024-07-25T19:35:31.863Z"
   },
   {
    "duration": 761,
    "start_time": "2024-07-25T19:35:33.205Z"
   },
   {
    "duration": 54,
    "start_time": "2024-07-25T19:35:33.969Z"
   },
   {
    "duration": 167,
    "start_time": "2024-07-25T19:35:34.026Z"
   },
   {
    "duration": 27,
    "start_time": "2024-07-25T19:35:34.201Z"
   },
   {
    "duration": 58,
    "start_time": "2024-07-25T19:35:34.232Z"
   },
   {
    "duration": 6,
    "start_time": "2024-07-25T19:35:34.293Z"
   },
   {
    "duration": 37,
    "start_time": "2024-07-25T19:35:34.302Z"
   },
   {
    "duration": 64,
    "start_time": "2024-07-25T19:35:34.342Z"
   },
   {
    "duration": 6,
    "start_time": "2024-07-25T19:35:34.409Z"
   },
   {
    "duration": 7,
    "start_time": "2024-07-25T19:35:34.418Z"
   },
   {
    "duration": 145,
    "start_time": "2024-07-25T19:35:34.429Z"
   },
   {
    "duration": 160,
    "start_time": "2024-07-25T19:35:34.577Z"
   },
   {
    "duration": 1238,
    "start_time": "2024-07-25T19:36:18.721Z"
   },
   {
    "duration": 1385,
    "start_time": "2024-07-25T19:36:44.108Z"
   },
   {
    "duration": 772,
    "start_time": "2024-07-25T19:36:45.497Z"
   },
   {
    "duration": 51,
    "start_time": "2024-07-25T19:36:46.272Z"
   },
   {
    "duration": 164,
    "start_time": "2024-07-25T19:36:46.325Z"
   },
   {
    "duration": 24,
    "start_time": "2024-07-25T19:36:46.494Z"
   },
   {
    "duration": 28,
    "start_time": "2024-07-25T19:36:46.523Z"
   },
   {
    "duration": 37,
    "start_time": "2024-07-25T19:36:46.554Z"
   },
   {
    "duration": 36,
    "start_time": "2024-07-25T19:36:46.595Z"
   },
   {
    "duration": 30,
    "start_time": "2024-07-25T19:36:46.634Z"
   },
   {
    "duration": 9,
    "start_time": "2024-07-25T19:36:46.691Z"
   },
   {
    "duration": 6,
    "start_time": "2024-07-25T19:36:46.703Z"
   },
   {
    "duration": 143,
    "start_time": "2024-07-25T19:36:46.713Z"
   },
   {
    "duration": 163,
    "start_time": "2024-07-25T19:36:49.593Z"
   },
   {
    "duration": 45,
    "start_time": "2024-07-25T19:36:55.922Z"
   },
   {
    "duration": 120,
    "start_time": "2024-07-25T19:37:37.792Z"
   },
   {
    "duration": 122,
    "start_time": "2024-07-25T19:37:44.736Z"
   },
   {
    "duration": 3,
    "start_time": "2024-07-25T19:38:41.830Z"
   },
   {
    "duration": 24,
    "start_time": "2024-07-25T19:38:51.077Z"
   },
   {
    "duration": 3,
    "start_time": "2024-07-25T19:40:08.792Z"
   },
   {
    "duration": 631,
    "start_time": "2024-07-25T19:44:37.299Z"
   },
   {
    "duration": 6,
    "start_time": "2024-07-25T19:44:50.373Z"
   },
   {
    "duration": 15,
    "start_time": "2024-07-25T19:44:51.121Z"
   },
   {
    "duration": 19,
    "start_time": "2024-07-25T19:44:52.446Z"
   },
   {
    "duration": 19,
    "start_time": "2024-07-25T19:44:54.103Z"
   },
   {
    "duration": 10,
    "start_time": "2024-07-25T19:44:56.262Z"
   },
   {
    "duration": 15,
    "start_time": "2024-07-25T19:44:56.954Z"
   },
   {
    "duration": 65,
    "start_time": "2024-07-25T19:45:02.970Z"
   },
   {
    "duration": 63,
    "start_time": "2024-07-25T19:45:04.688Z"
   },
   {
    "duration": 7,
    "start_time": "2024-07-25T19:45:07.029Z"
   },
   {
    "duration": 5,
    "start_time": "2024-07-25T19:45:07.885Z"
   },
   {
    "duration": 1392,
    "start_time": "2024-07-25T19:45:38.872Z"
   },
   {
    "duration": 730,
    "start_time": "2024-07-25T19:45:40.268Z"
   },
   {
    "duration": 41,
    "start_time": "2024-07-25T19:45:41.001Z"
   },
   {
    "duration": 168,
    "start_time": "2024-07-25T19:45:41.046Z"
   },
   {
    "duration": 26,
    "start_time": "2024-07-25T19:45:41.217Z"
   },
   {
    "duration": 50,
    "start_time": "2024-07-25T19:45:41.246Z"
   },
   {
    "duration": 6,
    "start_time": "2024-07-25T19:45:41.300Z"
   },
   {
    "duration": 36,
    "start_time": "2024-07-25T19:45:41.308Z"
   },
   {
    "duration": 59,
    "start_time": "2024-07-25T19:45:41.347Z"
   },
   {
    "duration": 5,
    "start_time": "2024-07-25T19:45:41.413Z"
   },
   {
    "duration": 6,
    "start_time": "2024-07-25T19:45:41.422Z"
   },
   {
    "duration": 148,
    "start_time": "2024-07-25T19:45:41.431Z"
   },
   {
    "duration": 173,
    "start_time": "2024-07-25T19:45:41.582Z"
   },
   {
    "duration": 62,
    "start_time": "2024-07-25T19:45:41.758Z"
   },
   {
    "duration": 101,
    "start_time": "2024-07-25T19:45:41.823Z"
   },
   {
    "duration": 6,
    "start_time": "2024-07-25T19:45:41.927Z"
   },
   {
    "duration": 3,
    "start_time": "2024-07-25T19:45:41.936Z"
   },
   {
    "duration": 5,
    "start_time": "2024-07-25T19:45:41.943Z"
   },
   {
    "duration": 38,
    "start_time": "2024-07-25T19:45:41.952Z"
   },
   {
    "duration": 4,
    "start_time": "2024-07-25T19:45:41.995Z"
   },
   {
    "duration": 5,
    "start_time": "2024-07-25T19:45:42.003Z"
   },
   {
    "duration": 31,
    "start_time": "2024-07-25T19:45:42.012Z"
   },
   {
    "duration": 43,
    "start_time": "2024-07-25T19:45:42.047Z"
   },
   {
    "duration": 654,
    "start_time": "2024-07-25T19:45:42.094Z"
   },
   {
    "duration": 6,
    "start_time": "2024-07-25T19:45:42.751Z"
   },
   {
    "duration": 37,
    "start_time": "2024-07-25T19:45:42.761Z"
   },
   {
    "duration": 18,
    "start_time": "2024-07-25T19:45:42.803Z"
   },
   {
    "duration": 19,
    "start_time": "2024-07-25T19:45:42.827Z"
   },
   {
    "duration": 51,
    "start_time": "2024-07-25T19:45:42.849Z"
   },
   {
    "duration": 16,
    "start_time": "2024-07-25T19:45:42.903Z"
   },
   {
    "duration": 5,
    "start_time": "2024-07-25T19:48:27.896Z"
   },
   {
    "duration": 6,
    "start_time": "2024-07-25T19:48:28.631Z"
   },
   {
    "duration": 20,
    "start_time": "2024-07-25T19:48:34.911Z"
   },
   {
    "duration": 1323,
    "start_time": "2024-07-25T19:49:13.022Z"
   },
   {
    "duration": 1080,
    "start_time": "2024-07-25T19:49:14.349Z"
   },
   {
    "duration": 42,
    "start_time": "2024-07-25T19:49:15.432Z"
   },
   {
    "duration": 153,
    "start_time": "2024-07-25T19:49:15.491Z"
   },
   {
    "duration": 42,
    "start_time": "2024-07-25T19:49:15.648Z"
   },
   {
    "duration": 30,
    "start_time": "2024-07-25T19:49:15.693Z"
   },
   {
    "duration": 8,
    "start_time": "2024-07-25T19:49:15.726Z"
   },
   {
    "duration": 70,
    "start_time": "2024-07-25T19:49:15.737Z"
   },
   {
    "duration": 30,
    "start_time": "2024-07-25T19:49:15.811Z"
   },
   {
    "duration": 5,
    "start_time": "2024-07-25T19:49:15.850Z"
   },
   {
    "duration": 5,
    "start_time": "2024-07-25T19:49:15.891Z"
   },
   {
    "duration": 138,
    "start_time": "2024-07-25T19:49:15.900Z"
   },
   {
    "duration": 185,
    "start_time": "2024-07-25T19:49:16.042Z"
   },
   {
    "duration": 195,
    "start_time": "2024-07-25T19:49:16.231Z"
   },
   {
    "duration": 104,
    "start_time": "2024-07-25T19:49:16.430Z"
   },
   {
    "duration": 6,
    "start_time": "2024-07-25T19:49:16.537Z"
   },
   {
    "duration": 4,
    "start_time": "2024-07-25T19:49:16.547Z"
   },
   {
    "duration": 4,
    "start_time": "2024-07-25T19:49:16.556Z"
   },
   {
    "duration": 6,
    "start_time": "2024-07-25T19:49:16.590Z"
   },
   {
    "duration": 4,
    "start_time": "2024-07-25T19:49:16.600Z"
   },
   {
    "duration": 5,
    "start_time": "2024-07-25T19:49:16.608Z"
   },
   {
    "duration": 81,
    "start_time": "2024-07-25T19:49:16.618Z"
   },
   {
    "duration": 4,
    "start_time": "2024-07-25T19:49:16.702Z"
   },
   {
    "duration": 1126,
    "start_time": "2024-07-25T19:52:09.816Z"
   },
   {
    "duration": 31,
    "start_time": "2024-07-25T19:52:48.510Z"
   },
   {
    "duration": 28,
    "start_time": "2024-07-25T19:52:58.218Z"
   },
   {
    "duration": 33,
    "start_time": "2024-07-25T19:53:03.489Z"
   },
   {
    "duration": 29,
    "start_time": "2024-07-25T19:53:07.990Z"
   },
   {
    "duration": 6,
    "start_time": "2024-07-25T19:53:37.435Z"
   },
   {
    "duration": 5,
    "start_time": "2024-07-25T19:55:03.413Z"
   },
   {
    "duration": 18,
    "start_time": "2024-07-25T19:55:04.116Z"
   },
   {
    "duration": 12,
    "start_time": "2024-07-25T19:55:07.532Z"
   },
   {
    "duration": 22,
    "start_time": "2024-07-25T19:55:10.761Z"
   },
   {
    "duration": 10,
    "start_time": "2024-07-25T19:55:11.279Z"
   },
   {
    "duration": 24,
    "start_time": "2024-07-25T19:55:12.778Z"
   },
   {
    "duration": 32,
    "start_time": "2024-07-25T19:55:42.884Z"
   },
   {
    "duration": 4,
    "start_time": "2024-07-25T20:01:11.227Z"
   },
   {
    "duration": 119,
    "start_time": "2024-07-25T20:03:08.899Z"
   },
   {
    "duration": 54,
    "start_time": "2024-07-25T20:03:27.235Z"
   },
   {
    "duration": 28,
    "start_time": "2024-07-25T20:03:51.690Z"
   },
   {
    "duration": 1339,
    "start_time": "2024-07-25T20:04:09.399Z"
   },
   {
    "duration": 727,
    "start_time": "2024-07-25T20:04:10.742Z"
   },
   {
    "duration": 50,
    "start_time": "2024-07-25T20:04:11.472Z"
   },
   {
    "duration": 157,
    "start_time": "2024-07-25T20:04:11.525Z"
   },
   {
    "duration": 24,
    "start_time": "2024-07-25T20:04:11.695Z"
   },
   {
    "duration": 29,
    "start_time": "2024-07-25T20:04:11.723Z"
   },
   {
    "duration": 36,
    "start_time": "2024-07-25T20:04:11.756Z"
   },
   {
    "duration": 37,
    "start_time": "2024-07-25T20:04:11.796Z"
   },
   {
    "duration": 30,
    "start_time": "2024-07-25T20:04:11.836Z"
   },
   {
    "duration": 6,
    "start_time": "2024-07-25T20:04:11.891Z"
   },
   {
    "duration": 5,
    "start_time": "2024-07-25T20:04:11.901Z"
   },
   {
    "duration": 144,
    "start_time": "2024-07-25T20:04:11.909Z"
   },
   {
    "duration": 175,
    "start_time": "2024-07-25T20:04:12.056Z"
   },
   {
    "duration": 57,
    "start_time": "2024-07-25T20:04:12.236Z"
   },
   {
    "duration": 97,
    "start_time": "2024-07-25T20:04:12.296Z"
   },
   {
    "duration": 107,
    "start_time": "2024-07-25T20:05:20.576Z"
   },
   {
    "duration": 27,
    "start_time": "2024-07-25T20:05:24.633Z"
   },
   {
    "duration": 24,
    "start_time": "2024-07-25T20:05:30.394Z"
   },
   {
    "duration": 1114,
    "start_time": "2024-07-25T20:05:48.559Z"
   },
   {
    "duration": 36,
    "start_time": "2024-07-25T20:05:53.483Z"
   },
   {
    "duration": 28,
    "start_time": "2024-07-25T20:05:57.659Z"
   },
   {
    "duration": 1321,
    "start_time": "2024-07-25T20:06:04.688Z"
   },
   {
    "duration": 750,
    "start_time": "2024-07-25T20:06:06.016Z"
   },
   {
    "duration": 48,
    "start_time": "2024-07-25T20:06:06.769Z"
   },
   {
    "duration": 155,
    "start_time": "2024-07-25T20:06:06.820Z"
   },
   {
    "duration": 24,
    "start_time": "2024-07-25T20:06:06.993Z"
   },
   {
    "duration": 30,
    "start_time": "2024-07-25T20:06:07.019Z"
   },
   {
    "duration": 7,
    "start_time": "2024-07-25T20:06:07.051Z"
   },
   {
    "duration": 36,
    "start_time": "2024-07-25T20:06:07.090Z"
   },
   {
    "duration": 27,
    "start_time": "2024-07-25T20:06:07.129Z"
   },
   {
    "duration": 34,
    "start_time": "2024-07-25T20:06:07.159Z"
   },
   {
    "duration": 6,
    "start_time": "2024-07-25T20:06:07.196Z"
   },
   {
    "duration": 138,
    "start_time": "2024-07-25T20:06:07.205Z"
   },
   {
    "duration": 178,
    "start_time": "2024-07-25T20:06:07.346Z"
   },
   {
    "duration": 60,
    "start_time": "2024-07-25T20:06:07.530Z"
   },
   {
    "duration": 104,
    "start_time": "2024-07-25T20:06:07.593Z"
   },
   {
    "duration": 5,
    "start_time": "2024-07-25T20:06:07.701Z"
   },
   {
    "duration": 5,
    "start_time": "2024-07-25T20:06:07.709Z"
   },
   {
    "duration": 4,
    "start_time": "2024-07-25T20:06:07.718Z"
   },
   {
    "duration": 4,
    "start_time": "2024-07-25T20:06:07.725Z"
   },
   {
    "duration": 5,
    "start_time": "2024-07-25T20:06:07.733Z"
   },
   {
    "duration": 5,
    "start_time": "2024-07-25T20:06:07.741Z"
   },
   {
    "duration": 29,
    "start_time": "2024-07-25T20:06:07.791Z"
   },
   {
    "duration": 4,
    "start_time": "2024-07-25T20:06:07.823Z"
   },
   {
    "duration": 114,
    "start_time": "2024-07-25T20:06:23.511Z"
   },
   {
    "duration": 25,
    "start_time": "2024-07-25T20:06:27.150Z"
   },
   {
    "duration": 406,
    "start_time": "2024-07-25T20:06:41.847Z"
   },
   {
    "duration": 24,
    "start_time": "2024-07-25T20:06:45.377Z"
   },
   {
    "duration": 5,
    "start_time": "2024-07-25T20:06:59.642Z"
   },
   {
    "duration": 29,
    "start_time": "2024-07-25T20:07:02.603Z"
   },
   {
    "duration": 24,
    "start_time": "2024-07-25T20:07:05.427Z"
   },
   {
    "duration": 801,
    "start_time": "2024-07-25T20:07:14.110Z"
   },
   {
    "duration": 28,
    "start_time": "2024-07-25T20:07:17.697Z"
   },
   {
    "duration": 27,
    "start_time": "2024-07-25T20:07:20.464Z"
   },
   {
    "duration": 1419,
    "start_time": "2024-07-25T20:10:32.977Z"
   },
   {
    "duration": 828,
    "start_time": "2024-07-25T20:10:34.401Z"
   },
   {
    "duration": 59,
    "start_time": "2024-07-25T20:10:35.231Z"
   },
   {
    "duration": 158,
    "start_time": "2024-07-25T20:10:35.294Z"
   },
   {
    "duration": 42,
    "start_time": "2024-07-25T20:10:35.456Z"
   },
   {
    "duration": 30,
    "start_time": "2024-07-25T20:10:35.502Z"
   },
   {
    "duration": 6,
    "start_time": "2024-07-25T20:10:35.536Z"
   },
   {
    "duration": 62,
    "start_time": "2024-07-25T20:10:35.546Z"
   },
   {
    "duration": 30,
    "start_time": "2024-07-25T20:10:35.612Z"
   },
   {
    "duration": 43,
    "start_time": "2024-07-25T20:10:35.649Z"
   },
   {
    "duration": 6,
    "start_time": "2024-07-25T20:10:35.695Z"
   },
   {
    "duration": 141,
    "start_time": "2024-07-25T20:10:35.704Z"
   },
   {
    "duration": 183,
    "start_time": "2024-07-25T20:10:35.848Z"
   },
   {
    "duration": 66,
    "start_time": "2024-07-25T20:10:36.035Z"
   },
   {
    "duration": 145,
    "start_time": "2024-07-25T20:10:36.104Z"
   },
   {
    "duration": 6,
    "start_time": "2024-07-25T20:10:36.252Z"
   },
   {
    "duration": 7,
    "start_time": "2024-07-25T20:10:36.261Z"
   },
   {
    "duration": 21,
    "start_time": "2024-07-25T20:10:36.272Z"
   },
   {
    "duration": 4,
    "start_time": "2024-07-25T20:10:36.296Z"
   },
   {
    "duration": 4,
    "start_time": "2024-07-25T20:10:36.303Z"
   },
   {
    "duration": 3,
    "start_time": "2024-07-25T20:10:36.311Z"
   },
   {
    "duration": 73,
    "start_time": "2024-07-25T20:10:36.318Z"
   },
   {
    "duration": 4,
    "start_time": "2024-07-25T20:10:36.394Z"
   },
   {
    "duration": 1575,
    "start_time": "2024-07-25T20:11:51.204Z"
   },
   {
    "duration": 1331,
    "start_time": "2024-07-25T20:12:12.211Z"
   },
   {
    "duration": 768,
    "start_time": "2024-07-25T20:12:13.545Z"
   },
   {
    "duration": 45,
    "start_time": "2024-07-25T20:12:14.316Z"
   },
   {
    "duration": 167,
    "start_time": "2024-07-25T20:12:14.364Z"
   },
   {
    "duration": 25,
    "start_time": "2024-07-25T20:12:14.535Z"
   },
   {
    "duration": 45,
    "start_time": "2024-07-25T20:12:14.564Z"
   },
   {
    "duration": 7,
    "start_time": "2024-07-25T20:12:14.611Z"
   },
   {
    "duration": 69,
    "start_time": "2024-07-25T20:12:14.621Z"
   },
   {
    "duration": 27,
    "start_time": "2024-07-25T20:12:14.693Z"
   },
   {
    "duration": 6,
    "start_time": "2024-07-25T20:12:14.723Z"
   },
   {
    "duration": 6,
    "start_time": "2024-07-25T20:12:14.733Z"
   },
   {
    "duration": 165,
    "start_time": "2024-07-25T20:12:14.743Z"
   },
   {
    "duration": 179,
    "start_time": "2024-07-25T20:12:14.912Z"
   },
   {
    "duration": 47,
    "start_time": "2024-07-25T20:12:15.097Z"
   },
   {
    "duration": 141,
    "start_time": "2024-07-25T20:12:15.146Z"
   },
   {
    "duration": 6,
    "start_time": "2024-07-25T20:12:15.289Z"
   },
   {
    "duration": 3,
    "start_time": "2024-07-25T20:12:15.299Z"
   },
   {
    "duration": 4,
    "start_time": "2024-07-25T20:12:15.306Z"
   },
   {
    "duration": 5,
    "start_time": "2024-07-25T20:12:15.313Z"
   },
   {
    "duration": 5,
    "start_time": "2024-07-25T20:12:15.321Z"
   },
   {
    "duration": 4,
    "start_time": "2024-07-25T20:12:15.329Z"
   },
   {
    "duration": 81,
    "start_time": "2024-07-25T20:12:15.336Z"
   },
   {
    "duration": 5,
    "start_time": "2024-07-25T20:12:15.420Z"
   },
   {
    "duration": 138,
    "start_time": "2024-07-25T20:12:15.428Z"
   },
   {
    "duration": 802,
    "start_time": "2024-07-25T20:12:20.688Z"
   },
   {
    "duration": 666,
    "start_time": "2024-07-25T20:12:29.949Z"
   },
   {
    "duration": 181,
    "start_time": "2024-07-25T20:12:35.681Z"
   },
   {
    "duration": 1353,
    "start_time": "2024-07-25T20:12:41.296Z"
   },
   {
    "duration": 769,
    "start_time": "2024-07-25T20:12:42.652Z"
   },
   {
    "duration": 42,
    "start_time": "2024-07-25T20:12:43.424Z"
   },
   {
    "duration": 171,
    "start_time": "2024-07-25T20:12:43.468Z"
   },
   {
    "duration": 23,
    "start_time": "2024-07-25T20:12:43.646Z"
   },
   {
    "duration": 29,
    "start_time": "2024-07-25T20:12:43.692Z"
   },
   {
    "duration": 7,
    "start_time": "2024-07-25T20:12:43.724Z"
   },
   {
    "duration": 66,
    "start_time": "2024-07-25T20:12:43.734Z"
   },
   {
    "duration": 28,
    "start_time": "2024-07-25T20:12:43.803Z"
   },
   {
    "duration": 6,
    "start_time": "2024-07-25T20:12:43.833Z"
   },
   {
    "duration": 6,
    "start_time": "2024-07-25T20:12:43.843Z"
   },
   {
    "duration": 155,
    "start_time": "2024-07-25T20:12:43.852Z"
   },
   {
    "duration": 186,
    "start_time": "2024-07-25T20:12:44.010Z"
   },
   {
    "duration": 49,
    "start_time": "2024-07-25T20:12:44.202Z"
   },
   {
    "duration": 112,
    "start_time": "2024-07-25T20:12:44.254Z"
   },
   {
    "duration": 6,
    "start_time": "2024-07-25T20:12:44.369Z"
   },
   {
    "duration": 13,
    "start_time": "2024-07-25T20:12:44.378Z"
   },
   {
    "duration": 4,
    "start_time": "2024-07-25T20:12:44.395Z"
   },
   {
    "duration": 5,
    "start_time": "2024-07-25T20:12:44.402Z"
   },
   {
    "duration": 3,
    "start_time": "2024-07-25T20:12:44.410Z"
   },
   {
    "duration": 7,
    "start_time": "2024-07-25T20:12:44.416Z"
   },
   {
    "duration": 70,
    "start_time": "2024-07-25T20:12:44.426Z"
   },
   {
    "duration": 3,
    "start_time": "2024-07-25T20:12:44.501Z"
   },
   {
    "duration": 127,
    "start_time": "2024-07-25T20:12:44.507Z"
   },
   {
    "duration": 1024,
    "start_time": "2024-07-25T20:12:53.920Z"
   },
   {
    "duration": 1339,
    "start_time": "2024-07-25T20:13:23.408Z"
   },
   {
    "duration": 741,
    "start_time": "2024-07-25T20:13:24.752Z"
   },
   {
    "duration": 44,
    "start_time": "2024-07-25T20:13:25.495Z"
   },
   {
    "duration": 164,
    "start_time": "2024-07-25T20:13:25.541Z"
   },
   {
    "duration": 25,
    "start_time": "2024-07-25T20:13:25.711Z"
   },
   {
    "duration": 59,
    "start_time": "2024-07-25T20:13:25.739Z"
   },
   {
    "duration": 7,
    "start_time": "2024-07-25T20:13:25.802Z"
   },
   {
    "duration": 36,
    "start_time": "2024-07-25T20:13:25.812Z"
   },
   {
    "duration": 60,
    "start_time": "2024-07-25T20:13:25.851Z"
   },
   {
    "duration": 6,
    "start_time": "2024-07-25T20:13:25.914Z"
   },
   {
    "duration": 6,
    "start_time": "2024-07-25T20:13:25.923Z"
   },
   {
    "duration": 153,
    "start_time": "2024-07-25T20:13:25.933Z"
   },
   {
    "duration": 188,
    "start_time": "2024-07-25T20:13:26.090Z"
   },
   {
    "duration": 39,
    "start_time": "2024-07-25T20:13:26.292Z"
   },
   {
    "duration": 121,
    "start_time": "2024-07-25T20:13:26.334Z"
   },
   {
    "duration": 6,
    "start_time": "2024-07-25T20:13:26.457Z"
   },
   {
    "duration": 4,
    "start_time": "2024-07-25T20:13:26.466Z"
   },
   {
    "duration": 5,
    "start_time": "2024-07-25T20:13:26.492Z"
   },
   {
    "duration": 4,
    "start_time": "2024-07-25T20:13:26.500Z"
   },
   {
    "duration": 3,
    "start_time": "2024-07-25T20:13:26.508Z"
   },
   {
    "duration": 4,
    "start_time": "2024-07-25T20:13:26.514Z"
   },
   {
    "duration": 75,
    "start_time": "2024-07-25T20:13:26.522Z"
   },
   {
    "duration": 4,
    "start_time": "2024-07-25T20:13:26.599Z"
   },
   {
    "duration": 1647,
    "start_time": "2024-07-25T20:13:26.607Z"
   },
   {
    "duration": 1466,
    "start_time": "2024-07-25T20:13:42.489Z"
   },
   {
    "duration": 716,
    "start_time": "2024-07-25T20:13:43.958Z"
   },
   {
    "duration": 52,
    "start_time": "2024-07-25T20:13:44.678Z"
   },
   {
    "duration": 182,
    "start_time": "2024-07-25T20:13:44.733Z"
   },
   {
    "duration": 28,
    "start_time": "2024-07-25T20:13:44.919Z"
   },
   {
    "duration": 50,
    "start_time": "2024-07-25T20:13:44.951Z"
   },
   {
    "duration": 6,
    "start_time": "2024-07-25T20:13:45.004Z"
   },
   {
    "duration": 36,
    "start_time": "2024-07-25T20:13:45.014Z"
   },
   {
    "duration": 60,
    "start_time": "2024-07-25T20:13:45.053Z"
   },
   {
    "duration": 6,
    "start_time": "2024-07-25T20:13:45.116Z"
   },
   {
    "duration": 6,
    "start_time": "2024-07-25T20:13:45.126Z"
   },
   {
    "duration": 156,
    "start_time": "2024-07-25T20:13:45.135Z"
   },
   {
    "duration": 174,
    "start_time": "2024-07-25T20:13:45.294Z"
   },
   {
    "duration": 62,
    "start_time": "2024-07-25T20:13:45.475Z"
   },
   {
    "duration": 116,
    "start_time": "2024-07-25T20:13:45.540Z"
   },
   {
    "duration": 7,
    "start_time": "2024-07-25T20:13:45.658Z"
   },
   {
    "duration": 3,
    "start_time": "2024-07-25T20:13:45.668Z"
   },
   {
    "duration": 4,
    "start_time": "2024-07-25T20:13:45.691Z"
   },
   {
    "duration": 5,
    "start_time": "2024-07-25T20:13:45.698Z"
   },
   {
    "duration": 4,
    "start_time": "2024-07-25T20:13:45.706Z"
   },
   {
    "duration": 4,
    "start_time": "2024-07-25T20:13:45.715Z"
   },
   {
    "duration": 74,
    "start_time": "2024-07-25T20:13:45.722Z"
   },
   {
    "duration": 4,
    "start_time": "2024-07-25T20:13:45.800Z"
   },
   {
    "duration": 1170,
    "start_time": "2024-07-25T20:13:45.807Z"
   },
   {
    "duration": 6,
    "start_time": "2024-07-25T20:14:08.113Z"
   },
   {
    "duration": 18,
    "start_time": "2024-07-25T20:14:08.123Z"
   },
   {
    "duration": 13,
    "start_time": "2024-07-25T20:14:08.143Z"
   },
   {
    "duration": 37,
    "start_time": "2024-07-25T20:14:08.160Z"
   },
   {
    "duration": 10,
    "start_time": "2024-07-25T20:14:08.200Z"
   },
   {
    "duration": 19,
    "start_time": "2024-07-25T20:14:08.213Z"
   },
   {
    "duration": 4,
    "start_time": "2024-07-25T20:14:08.234Z"
   },
   {
    "duration": 3,
    "start_time": "2024-07-25T20:14:08.242Z"
   },
   {
    "duration": 4,
    "start_time": "2024-07-25T20:14:08.291Z"
   },
   {
    "duration": 4,
    "start_time": "2024-07-25T20:14:08.299Z"
   },
   {
    "duration": 29,
    "start_time": "2024-07-25T20:14:13.039Z"
   },
   {
    "duration": 1331,
    "start_time": "2024-07-25T20:14:57.492Z"
   },
   {
    "duration": 741,
    "start_time": "2024-07-25T20:14:58.827Z"
   },
   {
    "duration": 53,
    "start_time": "2024-07-25T20:14:59.570Z"
   },
   {
    "duration": 158,
    "start_time": "2024-07-25T20:14:59.626Z"
   },
   {
    "duration": 26,
    "start_time": "2024-07-25T20:14:59.795Z"
   },
   {
    "duration": 31,
    "start_time": "2024-07-25T20:14:59.824Z"
   },
   {
    "duration": 36,
    "start_time": "2024-07-25T20:14:59.857Z"
   },
   {
    "duration": 37,
    "start_time": "2024-07-25T20:14:59.896Z"
   },
   {
    "duration": 55,
    "start_time": "2024-07-25T20:14:59.936Z"
   },
   {
    "duration": 6,
    "start_time": "2024-07-25T20:14:59.994Z"
   },
   {
    "duration": 7,
    "start_time": "2024-07-25T20:15:00.003Z"
   },
   {
    "duration": 145,
    "start_time": "2024-07-25T20:15:00.013Z"
   },
   {
    "duration": 175,
    "start_time": "2024-07-25T20:15:00.161Z"
   },
   {
    "duration": 59,
    "start_time": "2024-07-25T20:15:00.342Z"
   },
   {
    "duration": 92,
    "start_time": "2024-07-25T20:15:00.403Z"
   },
   {
    "duration": 6,
    "start_time": "2024-07-25T20:15:00.498Z"
   },
   {
    "duration": 3,
    "start_time": "2024-07-25T20:15:00.508Z"
   },
   {
    "duration": 5,
    "start_time": "2024-07-25T20:15:00.515Z"
   },
   {
    "duration": 4,
    "start_time": "2024-07-25T20:15:00.523Z"
   },
   {
    "duration": 3,
    "start_time": "2024-07-25T20:15:00.531Z"
   },
   {
    "duration": 53,
    "start_time": "2024-07-25T20:15:00.538Z"
   },
   {
    "duration": 30,
    "start_time": "2024-07-25T20:15:00.595Z"
   },
   {
    "duration": 3,
    "start_time": "2024-07-25T20:15:00.630Z"
   },
   {
    "duration": 1142,
    "start_time": "2024-07-25T20:15:15.289Z"
   },
   {
    "duration": 28,
    "start_time": "2024-07-25T20:15:23.245Z"
   },
   {
    "duration": 28,
    "start_time": "2024-07-25T20:15:26.097Z"
   },
   {
    "duration": 6,
    "start_time": "2024-07-25T20:15:35.145Z"
   },
   {
    "duration": 17,
    "start_time": "2024-07-25T20:15:35.158Z"
   },
   {
    "duration": 12,
    "start_time": "2024-07-25T20:15:35.179Z"
   },
   {
    "duration": 22,
    "start_time": "2024-07-25T20:15:35.194Z"
   },
   {
    "duration": 9,
    "start_time": "2024-07-25T20:15:35.222Z"
   },
   {
    "duration": 56,
    "start_time": "2024-07-25T20:15:35.236Z"
   },
   {
    "duration": 3,
    "start_time": "2024-07-25T20:15:35.295Z"
   },
   {
    "duration": 4,
    "start_time": "2024-07-25T20:15:35.301Z"
   },
   {
    "duration": 3,
    "start_time": "2024-07-25T20:15:35.308Z"
   },
   {
    "duration": 4,
    "start_time": "2024-07-25T20:15:35.314Z"
   },
   {
    "duration": 25,
    "start_time": "2024-07-25T20:15:37.201Z"
   },
   {
    "duration": 233,
    "start_time": "2024-07-25T20:15:48.076Z"
   },
   {
    "duration": 55,
    "start_time": "2024-07-25T20:15:51.095Z"
   },
   {
    "duration": 35,
    "start_time": "2024-07-25T20:15:58.524Z"
   },
   {
    "duration": 57,
    "start_time": "2024-07-25T20:16:01.594Z"
   },
   {
    "duration": 1769,
    "start_time": "2024-07-25T20:16:24.829Z"
   },
   {
    "duration": 229,
    "start_time": "2024-07-25T20:16:39.088Z"
   },
   {
    "duration": 39,
    "start_time": "2024-07-25T20:16:42.760Z"
   },
   {
    "duration": 8,
    "start_time": "2024-07-25T20:16:47.884Z"
   },
   {
    "duration": 27,
    "start_time": "2024-07-25T20:16:50.981Z"
   },
   {
    "duration": 1356,
    "start_time": "2024-07-25T20:17:42.798Z"
   },
   {
    "duration": 728,
    "start_time": "2024-07-25T20:17:44.158Z"
   },
   {
    "duration": 43,
    "start_time": "2024-07-25T20:17:44.889Z"
   },
   {
    "duration": 167,
    "start_time": "2024-07-25T20:17:44.935Z"
   },
   {
    "duration": 27,
    "start_time": "2024-07-25T20:17:45.108Z"
   },
   {
    "duration": 54,
    "start_time": "2024-07-25T20:17:45.139Z"
   },
   {
    "duration": 7,
    "start_time": "2024-07-25T20:17:45.196Z"
   },
   {
    "duration": 36,
    "start_time": "2024-07-25T20:17:45.207Z"
   },
   {
    "duration": 59,
    "start_time": "2024-07-25T20:17:45.247Z"
   },
   {
    "duration": 6,
    "start_time": "2024-07-25T20:17:45.309Z"
   },
   {
    "duration": 6,
    "start_time": "2024-07-25T20:17:45.318Z"
   },
   {
    "duration": 147,
    "start_time": "2024-07-25T20:17:45.330Z"
   },
   {
    "duration": 171,
    "start_time": "2024-07-25T20:17:45.491Z"
   },
   {
    "duration": 52,
    "start_time": "2024-07-25T20:17:45.669Z"
   },
   {
    "duration": 105,
    "start_time": "2024-07-25T20:17:45.724Z"
   },
   {
    "duration": 6,
    "start_time": "2024-07-25T20:17:45.832Z"
   },
   {
    "duration": 4,
    "start_time": "2024-07-25T20:17:45.840Z"
   },
   {
    "duration": 5,
    "start_time": "2024-07-25T20:17:45.847Z"
   },
   {
    "duration": 36,
    "start_time": "2024-07-25T20:17:45.855Z"
   },
   {
    "duration": 4,
    "start_time": "2024-07-25T20:17:45.894Z"
   },
   {
    "duration": 4,
    "start_time": "2024-07-25T20:17:45.901Z"
   },
   {
    "duration": 30,
    "start_time": "2024-07-25T20:17:45.908Z"
   },
   {
    "duration": 3,
    "start_time": "2024-07-25T20:17:45.942Z"
   },
   {
    "duration": 1156,
    "start_time": "2024-07-25T20:17:45.991Z"
   },
   {
    "duration": 7,
    "start_time": "2024-07-25T20:17:47.150Z"
   },
   {
    "duration": 36,
    "start_time": "2024-07-25T20:17:47.160Z"
   },
   {
    "duration": 11,
    "start_time": "2024-07-25T20:17:47.199Z"
   },
   {
    "duration": 21,
    "start_time": "2024-07-25T20:17:47.214Z"
   },
   {
    "duration": 53,
    "start_time": "2024-07-25T20:17:47.238Z"
   },
   {
    "duration": 18,
    "start_time": "2024-07-25T20:17:47.294Z"
   },
   {
    "duration": 4,
    "start_time": "2024-07-25T20:17:47.314Z"
   },
   {
    "duration": 4,
    "start_time": "2024-07-25T20:17:47.321Z"
   },
   {
    "duration": 3,
    "start_time": "2024-07-25T20:17:47.328Z"
   },
   {
    "duration": 6,
    "start_time": "2024-07-25T20:17:47.334Z"
   },
   {
    "duration": 272,
    "start_time": "2024-07-25T20:17:47.392Z"
   },
   {
    "duration": 4,
    "start_time": "2024-07-25T20:17:47.667Z"
   },
   {
    "duration": 19,
    "start_time": "2024-07-25T20:17:47.674Z"
   },
   {
    "duration": 6,
    "start_time": "2024-07-25T20:17:47.697Z"
   },
   {
    "duration": 24,
    "start_time": "2024-07-25T20:17:58.773Z"
   },
   {
    "duration": 315,
    "start_time": "2024-07-25T20:20:31.140Z"
   },
   {
    "duration": 20,
    "start_time": "2024-07-25T20:20:44.911Z"
   },
   {
    "duration": 1340,
    "start_time": "2024-07-25T20:20:49.092Z"
   },
   {
    "duration": 741,
    "start_time": "2024-07-25T20:20:50.436Z"
   },
   {
    "duration": 47,
    "start_time": "2024-07-25T20:20:51.180Z"
   },
   {
    "duration": 163,
    "start_time": "2024-07-25T20:20:51.231Z"
   },
   {
    "duration": 25,
    "start_time": "2024-07-25T20:20:51.397Z"
   },
   {
    "duration": 30,
    "start_time": "2024-07-25T20:20:51.425Z"
   },
   {
    "duration": 36,
    "start_time": "2024-07-25T20:20:51.459Z"
   },
   {
    "duration": 36,
    "start_time": "2024-07-25T20:20:51.498Z"
   },
   {
    "duration": 56,
    "start_time": "2024-07-25T20:20:51.536Z"
   },
   {
    "duration": 5,
    "start_time": "2024-07-25T20:20:51.597Z"
   },
   {
    "duration": 5,
    "start_time": "2024-07-25T20:20:51.606Z"
   },
   {
    "duration": 141,
    "start_time": "2024-07-25T20:20:51.614Z"
   },
   {
    "duration": 170,
    "start_time": "2024-07-25T20:20:51.758Z"
   },
   {
    "duration": 36,
    "start_time": "2024-07-25T20:20:51.931Z"
   },
   {
    "duration": 86,
    "start_time": "2024-07-25T20:20:51.989Z"
   },
   {
    "duration": 16,
    "start_time": "2024-07-25T20:20:52.079Z"
   },
   {
    "duration": 3,
    "start_time": "2024-07-25T20:20:52.100Z"
   },
   {
    "duration": 5,
    "start_time": "2024-07-25T20:20:52.107Z"
   },
   {
    "duration": 4,
    "start_time": "2024-07-25T20:20:52.115Z"
   },
   {
    "duration": 5,
    "start_time": "2024-07-25T20:20:52.122Z"
   },
   {
    "duration": 3,
    "start_time": "2024-07-25T20:20:52.131Z"
   },
   {
    "duration": 78,
    "start_time": "2024-07-25T20:20:52.138Z"
   },
   {
    "duration": 4,
    "start_time": "2024-07-25T20:20:52.219Z"
   },
   {
    "duration": 1189,
    "start_time": "2024-07-25T20:20:52.227Z"
   },
   {
    "duration": 5,
    "start_time": "2024-07-25T20:20:53.419Z"
   },
   {
    "duration": 17,
    "start_time": "2024-07-25T20:20:53.428Z"
   },
   {
    "duration": 44,
    "start_time": "2024-07-25T20:20:53.448Z"
   },
   {
    "duration": 24,
    "start_time": "2024-07-25T20:20:53.500Z"
   },
   {
    "duration": 10,
    "start_time": "2024-07-25T20:20:53.527Z"
   },
   {
    "duration": 54,
    "start_time": "2024-07-25T20:20:53.540Z"
   },
   {
    "duration": 4,
    "start_time": "2024-07-25T20:20:53.597Z"
   },
   {
    "duration": 5,
    "start_time": "2024-07-25T20:20:53.604Z"
   },
   {
    "duration": 3,
    "start_time": "2024-07-25T20:20:53.612Z"
   },
   {
    "duration": 3,
    "start_time": "2024-07-25T20:20:53.619Z"
   },
   {
    "duration": 308,
    "start_time": "2024-07-25T20:20:53.626Z"
   },
   {
    "duration": 4,
    "start_time": "2024-07-25T20:20:53.937Z"
   },
   {
    "duration": 7,
    "start_time": "2024-07-25T20:20:53.945Z"
   },
   {
    "duration": 6,
    "start_time": "2024-07-25T20:20:53.954Z"
   },
   {
    "duration": 5,
    "start_time": "2024-07-25T20:20:53.990Z"
   },
   {
    "duration": 29,
    "start_time": "2024-07-25T20:20:59.018Z"
   },
   {
    "duration": 10,
    "start_time": "2024-07-25T20:21:11.453Z"
   },
   {
    "duration": 5,
    "start_time": "2024-07-25T20:21:30.174Z"
   },
   {
    "duration": 4,
    "start_time": "2024-07-25T20:21:37.969Z"
   },
   {
    "duration": 4,
    "start_time": "2024-07-25T20:21:55.804Z"
   },
   {
    "duration": 5,
    "start_time": "2024-07-25T20:22:00.930Z"
   },
   {
    "duration": 1304,
    "start_time": "2024-07-25T20:22:30.661Z"
   },
   {
    "duration": 759,
    "start_time": "2024-07-25T20:22:31.968Z"
   },
   {
    "duration": 44,
    "start_time": "2024-07-25T20:22:32.730Z"
   },
   {
    "duration": 158,
    "start_time": "2024-07-25T20:22:32.790Z"
   },
   {
    "duration": 38,
    "start_time": "2024-07-25T20:22:32.954Z"
   },
   {
    "duration": 31,
    "start_time": "2024-07-25T20:22:32.996Z"
   },
   {
    "duration": 6,
    "start_time": "2024-07-25T20:22:33.031Z"
   },
   {
    "duration": 63,
    "start_time": "2024-07-25T20:22:33.042Z"
   },
   {
    "duration": 29,
    "start_time": "2024-07-25T20:22:33.108Z"
   },
   {
    "duration": 8,
    "start_time": "2024-07-25T20:22:33.140Z"
   },
   {
    "duration": 41,
    "start_time": "2024-07-25T20:22:33.151Z"
   },
   {
    "duration": 133,
    "start_time": "2024-07-25T20:22:33.195Z"
   },
   {
    "duration": 184,
    "start_time": "2024-07-25T20:22:33.330Z"
   },
   {
    "duration": 46,
    "start_time": "2024-07-25T20:22:33.519Z"
   },
   {
    "duration": 112,
    "start_time": "2024-07-25T20:22:33.568Z"
   },
   {
    "duration": 25,
    "start_time": "2024-07-25T20:22:36.891Z"
   },
   {
    "duration": 25,
    "start_time": "2024-07-25T20:22:39.842Z"
   },
   {
    "duration": 1337,
    "start_time": "2024-07-25T20:23:38.478Z"
   },
   {
    "duration": 1286,
    "start_time": "2024-07-25T20:24:05.010Z"
   },
   {
    "duration": 737,
    "start_time": "2024-07-25T20:24:06.299Z"
   },
   {
    "duration": 57,
    "start_time": "2024-07-25T20:24:07.039Z"
   },
   {
    "duration": 156,
    "start_time": "2024-07-25T20:24:07.100Z"
   },
   {
    "duration": 37,
    "start_time": "2024-07-25T20:24:07.259Z"
   },
   {
    "duration": 30,
    "start_time": "2024-07-25T20:24:07.299Z"
   },
   {
    "duration": 6,
    "start_time": "2024-07-25T20:24:07.332Z"
   },
   {
    "duration": 61,
    "start_time": "2024-07-25T20:24:07.341Z"
   },
   {
    "duration": 27,
    "start_time": "2024-07-25T20:24:07.405Z"
   },
   {
    "duration": 6,
    "start_time": "2024-07-25T20:24:07.437Z"
   },
   {
    "duration": 43,
    "start_time": "2024-07-25T20:24:07.447Z"
   },
   {
    "duration": 130,
    "start_time": "2024-07-25T20:24:07.494Z"
   },
   {
    "duration": 181,
    "start_time": "2024-07-25T20:24:07.628Z"
   },
   {
    "duration": 50,
    "start_time": "2024-07-25T20:24:07.812Z"
   },
   {
    "duration": 111,
    "start_time": "2024-07-25T20:24:07.864Z"
   },
   {
    "duration": 14,
    "start_time": "2024-07-25T20:24:07.978Z"
   },
   {
    "duration": 4,
    "start_time": "2024-07-25T20:24:07.995Z"
   },
   {
    "duration": 5,
    "start_time": "2024-07-25T20:24:08.002Z"
   },
   {
    "duration": 3,
    "start_time": "2024-07-25T20:24:08.011Z"
   },
   {
    "duration": 4,
    "start_time": "2024-07-25T20:24:08.017Z"
   },
   {
    "duration": 3,
    "start_time": "2024-07-25T20:24:08.025Z"
   },
   {
    "duration": 81,
    "start_time": "2024-07-25T20:24:08.032Z"
   },
   {
    "duration": 3,
    "start_time": "2024-07-25T20:24:08.116Z"
   },
   {
    "duration": 1134,
    "start_time": "2024-07-25T20:24:17.127Z"
   },
   {
    "duration": 28,
    "start_time": "2024-07-25T20:24:21.380Z"
   },
   {
    "duration": 30,
    "start_time": "2024-07-25T20:24:29.145Z"
   },
   {
    "duration": 7,
    "start_time": "2024-07-25T20:24:40.419Z"
   },
   {
    "duration": 23,
    "start_time": "2024-07-25T20:24:40.431Z"
   },
   {
    "duration": 32,
    "start_time": "2024-07-25T20:24:40.458Z"
   },
   {
    "duration": 23,
    "start_time": "2024-07-25T20:24:40.495Z"
   },
   {
    "duration": 10,
    "start_time": "2024-07-25T20:24:40.521Z"
   },
   {
    "duration": 62,
    "start_time": "2024-07-25T20:24:40.535Z"
   },
   {
    "duration": 4,
    "start_time": "2024-07-25T20:24:40.601Z"
   },
   {
    "duration": 4,
    "start_time": "2024-07-25T20:24:40.609Z"
   },
   {
    "duration": 5,
    "start_time": "2024-07-25T20:24:40.616Z"
   },
   {
    "duration": 3,
    "start_time": "2024-07-25T20:24:40.627Z"
   },
   {
    "duration": 335,
    "start_time": "2024-07-25T20:24:40.633Z"
   },
   {
    "duration": 4,
    "start_time": "2024-07-25T20:24:40.972Z"
   },
   {
    "duration": 7,
    "start_time": "2024-07-25T20:24:40.991Z"
   },
   {
    "duration": 6,
    "start_time": "2024-07-25T20:24:41.002Z"
   },
   {
    "duration": 5,
    "start_time": "2024-07-25T20:24:41.011Z"
   },
   {
    "duration": 4,
    "start_time": "2024-07-25T20:24:41.020Z"
   },
   {
    "duration": 4,
    "start_time": "2024-07-25T20:24:41.028Z"
   },
   {
    "duration": 1293,
    "start_time": "2024-07-25T20:24:57.160Z"
   },
   {
    "duration": 727,
    "start_time": "2024-07-25T20:24:58.456Z"
   },
   {
    "duration": 41,
    "start_time": "2024-07-25T20:24:59.186Z"
   },
   {
    "duration": 166,
    "start_time": "2024-07-25T20:24:59.232Z"
   },
   {
    "duration": 24,
    "start_time": "2024-07-25T20:24:59.402Z"
   },
   {
    "duration": 32,
    "start_time": "2024-07-25T20:24:59.428Z"
   },
   {
    "duration": 6,
    "start_time": "2024-07-25T20:24:59.490Z"
   },
   {
    "duration": 38,
    "start_time": "2024-07-25T20:24:59.499Z"
   },
   {
    "duration": 63,
    "start_time": "2024-07-25T20:24:59.540Z"
   },
   {
    "duration": 6,
    "start_time": "2024-07-25T20:24:59.606Z"
   },
   {
    "duration": 6,
    "start_time": "2024-07-25T20:24:59.617Z"
   },
   {
    "duration": 134,
    "start_time": "2024-07-25T20:24:59.626Z"
   },
   {
    "duration": 180,
    "start_time": "2024-07-25T20:24:59.763Z"
   },
   {
    "duration": 64,
    "start_time": "2024-07-25T20:24:59.950Z"
   },
   {
    "duration": 109,
    "start_time": "2024-07-25T20:25:00.017Z"
   },
   {
    "duration": 6,
    "start_time": "2024-07-25T20:25:00.128Z"
   },
   {
    "duration": 3,
    "start_time": "2024-07-25T20:25:00.137Z"
   },
   {
    "duration": 5,
    "start_time": "2024-07-25T20:25:00.144Z"
   },
   {
    "duration": 4,
    "start_time": "2024-07-25T20:25:00.152Z"
   },
   {
    "duration": 4,
    "start_time": "2024-07-25T20:25:00.192Z"
   },
   {
    "duration": 3,
    "start_time": "2024-07-25T20:25:00.200Z"
   },
   {
    "duration": 29,
    "start_time": "2024-07-25T20:25:00.206Z"
   },
   {
    "duration": 4,
    "start_time": "2024-07-25T20:25:00.241Z"
   },
   {
    "duration": 1136,
    "start_time": "2024-07-25T20:25:00.292Z"
   },
   {
    "duration": 6,
    "start_time": "2024-07-25T20:25:05.985Z"
   },
   {
    "duration": 5,
    "start_time": "2024-07-25T20:25:12.195Z"
   },
   {
    "duration": 17,
    "start_time": "2024-07-25T20:25:19.310Z"
   },
   {
    "duration": 12,
    "start_time": "2024-07-25T20:25:21.929Z"
   },
   {
    "duration": 23,
    "start_time": "2024-07-25T20:25:27.434Z"
   },
   {
    "duration": 28,
    "start_time": "2024-07-25T20:25:31.867Z"
   },
   {
    "duration": 29,
    "start_time": "2024-07-25T20:25:35.986Z"
   },
   {
    "duration": 9,
    "start_time": "2024-07-25T20:25:39.269Z"
   },
   {
    "duration": 12,
    "start_time": "2024-07-25T20:25:43.896Z"
   },
   {
    "duration": 259,
    "start_time": "2024-07-25T20:25:48.252Z"
   },
   {
    "duration": 5,
    "start_time": "2024-07-25T20:25:57.733Z"
   },
   {
    "duration": 6,
    "start_time": "2024-07-25T20:25:57.742Z"
   },
   {
    "duration": 3,
    "start_time": "2024-07-25T20:25:57.752Z"
   },
   {
    "duration": 7,
    "start_time": "2024-07-25T20:25:57.759Z"
   },
   {
    "duration": 5,
    "start_time": "2024-07-25T20:25:57.769Z"
   },
   {
    "duration": 30,
    "start_time": "2024-07-25T20:26:16.485Z"
   },
   {
    "duration": 37,
    "start_time": "2024-07-25T20:33:52.838Z"
   },
   {
    "duration": 1815,
    "start_time": "2024-07-25T20:33:59.920Z"
   },
   {
    "duration": 35,
    "start_time": "2024-07-25T20:34:07.534Z"
   },
   {
    "duration": 43,
    "start_time": "2024-07-25T20:34:14.647Z"
   },
   {
    "duration": 7,
    "start_time": "2024-07-25T20:35:43.371Z"
   },
   {
    "duration": 81,
    "start_time": "2024-07-25T20:36:17.080Z"
   },
   {
    "duration": 29,
    "start_time": "2024-07-25T20:38:23.691Z"
   },
   {
    "duration": 3259,
    "start_time": "2024-07-25T20:38:36.884Z"
   },
   {
    "duration": 2645,
    "start_time": "2024-07-25T20:40:02.867Z"
   },
   {
    "duration": 164,
    "start_time": "2024-07-28T21:38:11.345Z"
   },
   {
    "duration": 1308,
    "start_time": "2024-07-28T21:38:24.459Z"
   },
   {
    "duration": 768,
    "start_time": "2024-07-28T21:38:25.770Z"
   },
   {
    "duration": 50,
    "start_time": "2024-07-28T21:38:26.541Z"
   },
   {
    "duration": 152,
    "start_time": "2024-07-28T21:38:26.594Z"
   },
   {
    "duration": 41,
    "start_time": "2024-07-28T21:38:26.752Z"
   },
   {
    "duration": 28,
    "start_time": "2024-07-28T21:38:26.796Z"
   },
   {
    "duration": 6,
    "start_time": "2024-07-28T21:38:26.827Z"
   },
   {
    "duration": 70,
    "start_time": "2024-07-28T21:38:26.837Z"
   },
   {
    "duration": 28,
    "start_time": "2024-07-28T21:38:26.910Z"
   },
   {
    "duration": 6,
    "start_time": "2024-07-28T21:38:26.941Z"
   },
   {
    "duration": 39,
    "start_time": "2024-07-28T21:38:26.951Z"
   },
   {
    "duration": 129,
    "start_time": "2024-07-28T21:38:26.994Z"
   },
   {
    "duration": 176,
    "start_time": "2024-07-28T21:38:27.127Z"
   },
   {
    "duration": 46,
    "start_time": "2024-07-28T21:38:27.310Z"
   },
   {
    "duration": 112,
    "start_time": "2024-07-28T21:38:27.360Z"
   },
   {
    "duration": 17,
    "start_time": "2024-07-28T21:38:27.476Z"
   },
   {
    "duration": 4,
    "start_time": "2024-07-28T21:38:27.497Z"
   },
   {
    "duration": 5,
    "start_time": "2024-07-28T21:38:27.505Z"
   },
   {
    "duration": 6,
    "start_time": "2024-07-28T21:38:27.514Z"
   },
   {
    "duration": 4,
    "start_time": "2024-07-28T21:38:27.523Z"
   },
   {
    "duration": 4,
    "start_time": "2024-07-28T21:38:27.531Z"
   },
   {
    "duration": 81,
    "start_time": "2024-07-28T21:38:27.538Z"
   },
   {
    "duration": 3,
    "start_time": "2024-07-28T21:38:27.622Z"
   },
   {
    "duration": 1185,
    "start_time": "2024-07-28T21:38:27.629Z"
   },
   {
    "duration": 18,
    "start_time": "2024-07-28T21:38:28.817Z"
   },
   {
    "duration": 13,
    "start_time": "2024-07-28T21:38:28.839Z"
   },
   {
    "duration": 50,
    "start_time": "2024-07-28T21:38:28.855Z"
   },
   {
    "duration": 12,
    "start_time": "2024-07-28T21:38:28.908Z"
   },
   {
    "duration": 13,
    "start_time": "2024-07-28T21:38:28.923Z"
   },
   {
    "duration": 3,
    "start_time": "2024-07-28T21:38:28.940Z"
   },
   {
    "duration": 4,
    "start_time": "2024-07-28T21:38:28.990Z"
   },
   {
    "duration": 3,
    "start_time": "2024-07-28T21:38:28.997Z"
   },
   {
    "duration": 3,
    "start_time": "2024-07-28T21:38:29.004Z"
   },
   {
    "duration": 289,
    "start_time": "2024-07-28T21:38:29.010Z"
   },
   {
    "duration": 4,
    "start_time": "2024-07-28T21:38:29.302Z"
   },
   {
    "duration": 6,
    "start_time": "2024-07-28T21:38:29.309Z"
   },
   {
    "duration": 5,
    "start_time": "2024-07-28T21:38:29.318Z"
   },
   {
    "duration": 4,
    "start_time": "2024-07-28T21:38:29.328Z"
   },
   {
    "duration": 4,
    "start_time": "2024-07-28T21:38:29.335Z"
   },
   {
    "duration": 4,
    "start_time": "2024-07-28T21:38:29.392Z"
   },
   {
    "duration": 5,
    "start_time": "2024-07-28T21:38:29.407Z"
   },
   {
    "duration": 5,
    "start_time": "2024-07-28T21:38:29.416Z"
   },
   {
    "duration": 3012,
    "start_time": "2024-07-28T21:38:29.424Z"
   },
   {
    "duration": 2975,
    "start_time": "2024-07-28T21:38:32.440Z"
   },
   {
    "duration": 602,
    "start_time": "2024-07-28T21:38:35.419Z"
   },
   {
    "duration": 8,
    "start_time": "2024-07-28T21:38:36.025Z"
   },
   {
    "duration": 0,
    "start_time": "2024-07-28T21:38:36.036Z"
   },
   {
    "duration": 105,
    "start_time": "2024-07-28T21:51:26.385Z"
   },
   {
    "duration": 2723,
    "start_time": "2024-07-28T21:51:28.088Z"
   },
   {
    "duration": 291,
    "start_time": "2024-07-28T21:59:22.864Z"
   },
   {
    "duration": 139,
    "start_time": "2024-07-28T21:59:29.340Z"
   },
   {
    "duration": 9,
    "start_time": "2024-07-28T21:59:31.436Z"
   },
   {
    "duration": 164,
    "start_time": "2024-07-28T22:12:27.444Z"
   },
   {
    "duration": 1300,
    "start_time": "2024-07-28T22:12:37.990Z"
   },
   {
    "duration": 729,
    "start_time": "2024-07-28T22:12:39.294Z"
   },
   {
    "duration": 43,
    "start_time": "2024-07-28T22:12:40.466Z"
   },
   {
    "duration": 141,
    "start_time": "2024-07-28T22:12:42.077Z"
   },
   {
    "duration": 24,
    "start_time": "2024-07-28T22:12:42.634Z"
   },
   {
    "duration": 29,
    "start_time": "2024-07-28T22:12:43.927Z"
   },
   {
    "duration": 5,
    "start_time": "2024-07-28T22:12:47.157Z"
   },
   {
    "duration": 39,
    "start_time": "2024-07-28T22:12:47.875Z"
   },
   {
    "duration": 30,
    "start_time": "2024-07-28T22:12:48.455Z"
   },
   {
    "duration": 6,
    "start_time": "2024-07-28T22:12:54.365Z"
   },
   {
    "duration": 6,
    "start_time": "2024-07-28T22:12:54.824Z"
   },
   {
    "duration": 113,
    "start_time": "2024-07-28T22:12:55.180Z"
   },
   {
    "duration": 166,
    "start_time": "2024-07-28T22:12:55.505Z"
   },
   {
    "duration": 41,
    "start_time": "2024-07-28T22:12:56.294Z"
   },
   {
    "duration": 113,
    "start_time": "2024-07-28T22:12:59.459Z"
   },
   {
    "duration": 20,
    "start_time": "2024-07-28T22:13:02.879Z"
   },
   {
    "duration": 112,
    "start_time": "2024-07-28T22:13:12.038Z"
   },
   {
    "duration": 132,
    "start_time": "2024-07-28T22:13:14.817Z"
   },
   {
    "duration": 8,
    "start_time": "2024-07-28T22:13:15.275Z"
   },
   {
    "duration": 4,
    "start_time": "2024-07-28T22:13:15.790Z"
   },
   {
    "duration": 3,
    "start_time": "2024-07-28T22:13:16.188Z"
   },
   {
    "duration": 3,
    "start_time": "2024-07-28T22:13:18.098Z"
   },
   {
    "duration": 4,
    "start_time": "2024-07-28T22:13:18.573Z"
   },
   {
    "duration": 3,
    "start_time": "2024-07-28T22:13:19.061Z"
   },
   {
    "duration": 24,
    "start_time": "2024-07-28T22:13:19.962Z"
   },
   {
    "duration": 4,
    "start_time": "2024-07-28T22:13:20.557Z"
   },
   {
    "duration": 1132,
    "start_time": "2024-07-28T22:13:21.916Z"
   },
   {
    "duration": 17,
    "start_time": "2024-07-28T22:13:23.052Z"
   },
   {
    "duration": 13,
    "start_time": "2024-07-28T22:13:23.495Z"
   },
   {
    "duration": 21,
    "start_time": "2024-07-28T22:13:24.011Z"
   },
   {
    "duration": 9,
    "start_time": "2024-07-28T22:13:24.513Z"
   },
   {
    "duration": 13,
    "start_time": "2024-07-28T22:13:25.096Z"
   },
   {
    "duration": 3,
    "start_time": "2024-07-28T22:13:27.508Z"
   },
   {
    "duration": 3,
    "start_time": "2024-07-28T22:13:27.986Z"
   },
   {
    "duration": 4,
    "start_time": "2024-07-28T22:13:28.422Z"
   },
   {
    "duration": 3,
    "start_time": "2024-07-28T22:13:28.852Z"
   },
   {
    "duration": 265,
    "start_time": "2024-07-28T22:13:30.084Z"
   },
   {
    "duration": 4,
    "start_time": "2024-07-28T22:13:31.960Z"
   },
   {
    "duration": 6,
    "start_time": "2024-07-28T22:13:32.432Z"
   },
   {
    "duration": 6,
    "start_time": "2024-07-28T22:13:32.780Z"
   },
   {
    "duration": 5,
    "start_time": "2024-07-28T22:13:34.735Z"
   },
   {
    "duration": 5,
    "start_time": "2024-07-28T22:13:35.845Z"
   },
   {
    "duration": 7,
    "start_time": "2024-07-28T22:13:36.276Z"
   },
   {
    "duration": 5,
    "start_time": "2024-07-28T22:13:37.750Z"
   },
   {
    "duration": 4,
    "start_time": "2024-07-28T22:13:38.433Z"
   },
   {
    "duration": 3037,
    "start_time": "2024-07-28T22:13:39.105Z"
   },
   {
    "duration": 490,
    "start_time": "2024-07-28T22:13:51.613Z"
   },
   {
    "duration": 163,
    "start_time": "2024-07-28T22:17:55.501Z"
   },
   {
    "duration": 1285,
    "start_time": "2024-07-28T22:18:09.560Z"
   },
   {
    "duration": 731,
    "start_time": "2024-07-28T22:18:10.850Z"
   },
   {
    "duration": 45,
    "start_time": "2024-07-28T22:18:11.584Z"
   },
   {
    "duration": 165,
    "start_time": "2024-07-28T22:18:11.632Z"
   },
   {
    "duration": 25,
    "start_time": "2024-07-28T22:18:11.802Z"
   },
   {
    "duration": 30,
    "start_time": "2024-07-28T22:18:11.830Z"
   },
   {
    "duration": 7,
    "start_time": "2024-07-28T22:18:11.890Z"
   },
   {
    "duration": 36,
    "start_time": "2024-07-28T22:18:11.900Z"
   },
   {
    "duration": 55,
    "start_time": "2024-07-28T22:18:11.942Z"
   },
   {
    "duration": 5,
    "start_time": "2024-07-28T22:18:12.000Z"
   },
   {
    "duration": 9,
    "start_time": "2024-07-28T22:18:12.008Z"
   },
   {
    "duration": 141,
    "start_time": "2024-07-28T22:18:12.020Z"
   },
   {
    "duration": 172,
    "start_time": "2024-07-28T22:18:12.164Z"
   },
   {
    "duration": 57,
    "start_time": "2024-07-28T22:18:12.343Z"
   },
   {
    "duration": 114,
    "start_time": "2024-07-28T22:18:12.402Z"
   },
   {
    "duration": 9,
    "start_time": "2024-07-28T22:18:12.519Z"
   },
   {
    "duration": 8,
    "start_time": "2024-07-28T22:18:12.532Z"
   },
   {
    "duration": 5,
    "start_time": "2024-07-28T22:18:12.544Z"
   },
   {
    "duration": 4,
    "start_time": "2024-07-28T22:18:12.552Z"
   },
   {
    "duration": 4,
    "start_time": "2024-07-28T22:18:12.592Z"
   },
   {
    "duration": 5,
    "start_time": "2024-07-28T22:18:12.599Z"
   },
   {
    "duration": 28,
    "start_time": "2024-07-28T22:18:12.607Z"
   },
   {
    "duration": 4,
    "start_time": "2024-07-28T22:18:12.639Z"
   },
   {
    "duration": 1184,
    "start_time": "2024-07-28T22:18:12.647Z"
   },
   {
    "duration": 18,
    "start_time": "2024-07-28T22:18:13.834Z"
   },
   {
    "duration": 36,
    "start_time": "2024-07-28T22:18:13.855Z"
   },
   {
    "duration": 21,
    "start_time": "2024-07-28T22:18:13.894Z"
   },
   {
    "duration": 10,
    "start_time": "2024-07-28T22:18:13.918Z"
   },
   {
    "duration": 12,
    "start_time": "2024-07-28T22:18:13.931Z"
   },
   {
    "duration": 3,
    "start_time": "2024-07-28T22:18:13.946Z"
   },
   {
    "duration": 3,
    "start_time": "2024-07-28T22:18:13.992Z"
   },
   {
    "duration": 6,
    "start_time": "2024-07-28T22:18:13.998Z"
   },
   {
    "duration": 3,
    "start_time": "2024-07-28T22:18:14.007Z"
   },
   {
    "duration": 294,
    "start_time": "2024-07-28T22:18:14.014Z"
   },
   {
    "duration": 4,
    "start_time": "2024-07-28T22:18:14.312Z"
   },
   {
    "duration": 6,
    "start_time": "2024-07-28T22:18:14.320Z"
   },
   {
    "duration": 7,
    "start_time": "2024-07-28T22:18:14.330Z"
   },
   {
    "duration": 4,
    "start_time": "2024-07-28T22:18:14.340Z"
   },
   {
    "duration": 47,
    "start_time": "2024-07-28T22:18:14.347Z"
   },
   {
    "duration": 5,
    "start_time": "2024-07-28T22:18:14.397Z"
   },
   {
    "duration": 5,
    "start_time": "2024-07-28T22:18:14.410Z"
   },
   {
    "duration": 5,
    "start_time": "2024-07-28T22:18:14.419Z"
   },
   {
    "duration": 2937,
    "start_time": "2024-07-28T22:18:14.427Z"
   },
   {
    "duration": 2827,
    "start_time": "2024-07-28T22:18:17.367Z"
   },
   {
    "duration": 1343,
    "start_time": "2024-07-28T22:18:55.327Z"
   },
   {
    "duration": 756,
    "start_time": "2024-07-28T22:18:56.674Z"
   },
   {
    "duration": 41,
    "start_time": "2024-07-28T22:18:57.433Z"
   },
   {
    "duration": 144,
    "start_time": "2024-07-28T22:18:57.490Z"
   },
   {
    "duration": 25,
    "start_time": "2024-07-28T22:18:57.639Z"
   },
   {
    "duration": 33,
    "start_time": "2024-07-28T22:18:57.691Z"
   },
   {
    "duration": 6,
    "start_time": "2024-07-28T22:18:57.729Z"
   },
   {
    "duration": 68,
    "start_time": "2024-07-28T22:18:57.739Z"
   },
   {
    "duration": 28,
    "start_time": "2024-07-28T22:18:57.814Z"
   },
   {
    "duration": 6,
    "start_time": "2024-07-28T22:18:57.845Z"
   },
   {
    "duration": 39,
    "start_time": "2024-07-28T22:18:57.853Z"
   },
   {
    "duration": 125,
    "start_time": "2024-07-28T22:18:57.895Z"
   },
   {
    "duration": 173,
    "start_time": "2024-07-28T22:18:58.023Z"
   },
   {
    "duration": 37,
    "start_time": "2024-07-28T22:18:58.202Z"
   },
   {
    "duration": 115,
    "start_time": "2024-07-28T22:18:58.242Z"
   },
   {
    "duration": 6,
    "start_time": "2024-07-28T22:18:58.360Z"
   },
   {
    "duration": 4,
    "start_time": "2024-07-28T22:18:58.369Z"
   },
   {
    "duration": 5,
    "start_time": "2024-07-28T22:18:58.392Z"
   },
   {
    "duration": 3,
    "start_time": "2024-07-28T22:18:58.401Z"
   },
   {
    "duration": 5,
    "start_time": "2024-07-28T22:18:58.407Z"
   },
   {
    "duration": 4,
    "start_time": "2024-07-28T22:18:58.415Z"
   },
   {
    "duration": 74,
    "start_time": "2024-07-28T22:18:58.422Z"
   },
   {
    "duration": 3,
    "start_time": "2024-07-28T22:18:58.499Z"
   },
   {
    "duration": 1140,
    "start_time": "2024-07-28T22:18:58.505Z"
   },
   {
    "duration": 20,
    "start_time": "2024-07-28T22:18:59.648Z"
   },
   {
    "duration": 30,
    "start_time": "2024-07-28T22:18:59.670Z"
   },
   {
    "duration": 22,
    "start_time": "2024-07-28T22:18:59.703Z"
   },
   {
    "duration": 11,
    "start_time": "2024-07-28T22:18:59.728Z"
   },
   {
    "duration": 53,
    "start_time": "2024-07-28T22:18:59.742Z"
   },
   {
    "duration": 4,
    "start_time": "2024-07-28T22:18:59.798Z"
   },
   {
    "duration": 4,
    "start_time": "2024-07-28T22:18:59.805Z"
   },
   {
    "duration": 3,
    "start_time": "2024-07-28T22:18:59.813Z"
   },
   {
    "duration": 5,
    "start_time": "2024-07-28T22:18:59.821Z"
   },
   {
    "duration": 312,
    "start_time": "2024-07-28T22:18:59.830Z"
   },
   {
    "duration": 4,
    "start_time": "2024-07-28T22:19:00.145Z"
   },
   {
    "duration": 6,
    "start_time": "2024-07-28T22:19:00.153Z"
   },
   {
    "duration": 31,
    "start_time": "2024-07-28T22:19:00.162Z"
   },
   {
    "duration": 4,
    "start_time": "2024-07-28T22:19:00.196Z"
   },
   {
    "duration": 5,
    "start_time": "2024-07-28T22:19:00.204Z"
   },
   {
    "duration": 5,
    "start_time": "2024-07-28T22:19:00.212Z"
   },
   {
    "duration": 7,
    "start_time": "2024-07-28T22:19:00.225Z"
   },
   {
    "duration": 4,
    "start_time": "2024-07-28T22:19:00.234Z"
   },
   {
    "duration": 3464,
    "start_time": "2024-07-28T22:19:00.242Z"
   },
   {
    "duration": 2886,
    "start_time": "2024-07-28T22:19:03.709Z"
   },
   {
    "duration": 169,
    "start_time": "2024-07-28T22:25:10.744Z"
   },
   {
    "duration": 1334,
    "start_time": "2024-07-28T22:25:17.884Z"
   },
   {
    "duration": 734,
    "start_time": "2024-07-28T22:25:19.221Z"
   },
   {
    "duration": 51,
    "start_time": "2024-07-28T22:25:19.958Z"
   },
   {
    "duration": 160,
    "start_time": "2024-07-28T22:25:20.011Z"
   },
   {
    "duration": 34,
    "start_time": "2024-07-28T22:25:20.175Z"
   },
   {
    "duration": 33,
    "start_time": "2024-07-28T22:25:20.211Z"
   },
   {
    "duration": 6,
    "start_time": "2024-07-28T22:25:20.247Z"
   },
   {
    "duration": 68,
    "start_time": "2024-07-28T22:25:20.256Z"
   },
   {
    "duration": 27,
    "start_time": "2024-07-28T22:25:20.327Z"
   },
   {
    "duration": 33,
    "start_time": "2024-07-28T22:25:20.357Z"
   },
   {
    "duration": 6,
    "start_time": "2024-07-28T22:25:20.394Z"
   },
   {
    "duration": 135,
    "start_time": "2024-07-28T22:25:20.403Z"
   },
   {
    "duration": 179,
    "start_time": "2024-07-28T22:25:20.541Z"
   },
   {
    "duration": 64,
    "start_time": "2024-07-28T22:25:20.729Z"
   },
   {
    "duration": 95,
    "start_time": "2024-07-28T22:25:20.796Z"
   },
   {
    "duration": 6,
    "start_time": "2024-07-28T22:25:20.894Z"
   },
   {
    "duration": 3,
    "start_time": "2024-07-28T22:25:20.904Z"
   },
   {
    "duration": 4,
    "start_time": "2024-07-28T22:25:20.911Z"
   },
   {
    "duration": 3,
    "start_time": "2024-07-28T22:25:20.919Z"
   },
   {
    "duration": 3,
    "start_time": "2024-07-28T22:25:20.926Z"
   },
   {
    "duration": 4,
    "start_time": "2024-07-28T22:25:20.932Z"
   },
   {
    "duration": 30,
    "start_time": "2024-07-28T22:25:20.991Z"
   },
   {
    "duration": 3,
    "start_time": "2024-07-28T22:25:21.024Z"
   },
   {
    "duration": 1148,
    "start_time": "2024-07-28T22:25:21.030Z"
   },
   {
    "duration": 17,
    "start_time": "2024-07-28T22:25:22.181Z"
   },
   {
    "duration": 12,
    "start_time": "2024-07-28T22:25:22.203Z"
   },
   {
    "duration": 22,
    "start_time": "2024-07-28T22:25:22.218Z"
   },
   {
    "duration": 48,
    "start_time": "2024-07-28T22:25:22.244Z"
   },
   {
    "duration": 13,
    "start_time": "2024-07-28T22:25:22.294Z"
   },
   {
    "duration": 4,
    "start_time": "2024-07-28T22:25:22.309Z"
   },
   {
    "duration": 4,
    "start_time": "2024-07-28T22:25:22.316Z"
   },
   {
    "duration": 4,
    "start_time": "2024-07-28T22:25:22.323Z"
   },
   {
    "duration": 3,
    "start_time": "2024-07-28T22:25:22.330Z"
   },
   {
    "duration": 345,
    "start_time": "2024-07-28T22:25:22.336Z"
   },
   {
    "duration": 6,
    "start_time": "2024-07-28T22:25:22.684Z"
   },
   {
    "duration": 6,
    "start_time": "2024-07-28T22:25:22.695Z"
   },
   {
    "duration": 13,
    "start_time": "2024-07-28T22:25:22.707Z"
   },
   {
    "duration": 5,
    "start_time": "2024-07-28T22:25:22.723Z"
   },
   {
    "duration": 5,
    "start_time": "2024-07-28T22:25:22.731Z"
   },
   {
    "duration": 5,
    "start_time": "2024-07-28T22:25:22.739Z"
   },
   {
    "duration": 5,
    "start_time": "2024-07-28T22:25:22.806Z"
   },
   {
    "duration": 3,
    "start_time": "2024-07-28T22:25:22.815Z"
   },
   {
    "duration": 2959,
    "start_time": "2024-07-28T22:25:22.822Z"
   },
   {
    "duration": 3012,
    "start_time": "2024-07-28T22:25:25.784Z"
   },
   {
    "duration": 1374,
    "start_time": "2024-07-28T22:26:24.922Z"
   },
   {
    "duration": 783,
    "start_time": "2024-07-28T22:26:26.300Z"
   },
   {
    "duration": 43,
    "start_time": "2024-07-28T22:26:27.090Z"
   },
   {
    "duration": 166,
    "start_time": "2024-07-28T22:26:27.136Z"
   },
   {
    "duration": 26,
    "start_time": "2024-07-28T22:26:28.243Z"
   },
   {
    "duration": 30,
    "start_time": "2024-07-28T22:26:29.250Z"
   },
   {
    "duration": 7,
    "start_time": "2024-07-28T22:26:32.107Z"
   },
   {
    "duration": 39,
    "start_time": "2024-07-28T22:26:32.506Z"
   },
   {
    "duration": 27,
    "start_time": "2024-07-28T22:26:32.956Z"
   },
   {
    "duration": 6,
    "start_time": "2024-07-28T22:26:33.400Z"
   },
   {
    "duration": 5,
    "start_time": "2024-07-28T22:26:34.069Z"
   },
   {
    "duration": 118,
    "start_time": "2024-07-28T22:26:34.874Z"
   },
   {
    "duration": 171,
    "start_time": "2024-07-28T22:26:35.319Z"
   },
   {
    "duration": 55,
    "start_time": "2024-07-28T22:26:36.383Z"
   },
   {
    "duration": 93,
    "start_time": "2024-07-28T22:26:38.005Z"
   },
   {
    "duration": 6,
    "start_time": "2024-07-28T22:26:38.943Z"
   },
   {
    "duration": 3,
    "start_time": "2024-07-28T22:26:39.677Z"
   },
   {
    "duration": 4,
    "start_time": "2024-07-28T22:26:40.228Z"
   },
   {
    "duration": 4,
    "start_time": "2024-07-28T22:26:41.457Z"
   },
   {
    "duration": 4,
    "start_time": "2024-07-28T22:26:41.834Z"
   },
   {
    "duration": 4,
    "start_time": "2024-07-28T22:26:42.271Z"
   },
   {
    "duration": 29,
    "start_time": "2024-07-28T22:26:42.915Z"
   },
   {
    "duration": 3,
    "start_time": "2024-07-28T22:26:43.205Z"
   },
   {
    "duration": 1149,
    "start_time": "2024-07-28T22:26:43.994Z"
   },
   {
    "duration": 18,
    "start_time": "2024-07-28T22:26:45.146Z"
   },
   {
    "duration": 12,
    "start_time": "2024-07-28T22:26:45.557Z"
   },
   {
    "duration": 21,
    "start_time": "2024-07-28T22:26:46.093Z"
   },
   {
    "duration": 9,
    "start_time": "2024-07-28T22:26:46.576Z"
   },
   {
    "duration": 11,
    "start_time": "2024-07-28T22:26:47.021Z"
   },
   {
    "duration": 3,
    "start_time": "2024-07-28T22:26:49.131Z"
   },
   {
    "duration": 3,
    "start_time": "2024-07-28T22:26:49.680Z"
   },
   {
    "duration": 3,
    "start_time": "2024-07-28T22:26:50.366Z"
   },
   {
    "duration": 3,
    "start_time": "2024-07-28T22:26:50.852Z"
   },
   {
    "duration": 267,
    "start_time": "2024-07-28T22:26:51.958Z"
   },
   {
    "duration": 4,
    "start_time": "2024-07-28T22:26:53.181Z"
   },
   {
    "duration": 5,
    "start_time": "2024-07-28T22:26:53.624Z"
   },
   {
    "duration": 5,
    "start_time": "2024-07-28T22:26:54.013Z"
   },
   {
    "duration": 5,
    "start_time": "2024-07-28T22:26:55.793Z"
   },
   {
    "duration": 4,
    "start_time": "2024-07-28T22:26:56.974Z"
   },
   {
    "duration": 4,
    "start_time": "2024-07-28T22:26:57.544Z"
   },
   {
    "duration": 7,
    "start_time": "2024-07-28T22:26:58.982Z"
   },
   {
    "duration": 4,
    "start_time": "2024-07-28T22:26:59.736Z"
   },
   {
    "duration": 2854,
    "start_time": "2024-07-28T22:27:00.357Z"
   },
   {
    "duration": 1308,
    "start_time": "2024-07-28T22:27:45.776Z"
   },
   {
    "duration": 717,
    "start_time": "2024-07-28T22:27:47.088Z"
   },
   {
    "duration": 44,
    "start_time": "2024-07-28T22:27:47.808Z"
   },
   {
    "duration": 159,
    "start_time": "2024-07-28T22:27:47.855Z"
   },
   {
    "duration": 29,
    "start_time": "2024-07-28T22:27:48.020Z"
   },
   {
    "duration": 59,
    "start_time": "2024-07-28T22:27:48.052Z"
   },
   {
    "duration": 6,
    "start_time": "2024-07-28T22:27:48.114Z"
   },
   {
    "duration": 39,
    "start_time": "2024-07-28T22:27:48.125Z"
   },
   {
    "duration": 29,
    "start_time": "2024-07-28T22:27:48.190Z"
   },
   {
    "duration": 6,
    "start_time": "2024-07-28T22:27:48.223Z"
   },
   {
    "duration": 6,
    "start_time": "2024-07-28T22:27:48.232Z"
   },
   {
    "duration": 160,
    "start_time": "2024-07-28T22:27:48.243Z"
   },
   {
    "duration": 174,
    "start_time": "2024-07-28T22:27:48.406Z"
   },
   {
    "duration": 48,
    "start_time": "2024-07-28T22:27:48.591Z"
   },
   {
    "duration": 125,
    "start_time": "2024-07-28T22:27:48.642Z"
   },
   {
    "duration": 6,
    "start_time": "2024-07-28T22:27:48.770Z"
   },
   {
    "duration": 3,
    "start_time": "2024-07-28T22:27:48.792Z"
   },
   {
    "duration": 5,
    "start_time": "2024-07-28T22:27:48.798Z"
   },
   {
    "duration": 3,
    "start_time": "2024-07-28T22:27:48.806Z"
   },
   {
    "duration": 4,
    "start_time": "2024-07-28T22:27:48.813Z"
   },
   {
    "duration": 4,
    "start_time": "2024-07-28T22:27:48.821Z"
   },
   {
    "duration": 79,
    "start_time": "2024-07-28T22:27:48.829Z"
   },
   {
    "duration": 4,
    "start_time": "2024-07-28T22:27:48.911Z"
   },
   {
    "duration": 1159,
    "start_time": "2024-07-28T22:27:48.921Z"
   },
   {
    "duration": 24,
    "start_time": "2024-07-28T22:27:50.082Z"
   },
   {
    "duration": 13,
    "start_time": "2024-07-28T22:27:50.108Z"
   },
   {
    "duration": 23,
    "start_time": "2024-07-28T22:27:50.126Z"
   },
   {
    "duration": 44,
    "start_time": "2024-07-28T22:27:50.154Z"
   },
   {
    "duration": 12,
    "start_time": "2024-07-28T22:27:50.200Z"
   },
   {
    "duration": 4,
    "start_time": "2024-07-28T22:27:50.214Z"
   },
   {
    "duration": 3,
    "start_time": "2024-07-28T22:27:50.221Z"
   },
   {
    "duration": 3,
    "start_time": "2024-07-28T22:27:50.227Z"
   },
   {
    "duration": 56,
    "start_time": "2024-07-28T22:27:50.234Z"
   },
   {
    "duration": 270,
    "start_time": "2024-07-28T22:27:50.293Z"
   },
   {
    "duration": 3,
    "start_time": "2024-07-28T22:27:50.566Z"
   },
   {
    "duration": 20,
    "start_time": "2024-07-28T22:27:50.573Z"
   },
   {
    "duration": 5,
    "start_time": "2024-07-28T22:27:50.596Z"
   },
   {
    "duration": 4,
    "start_time": "2024-07-28T22:27:50.605Z"
   },
   {
    "duration": 5,
    "start_time": "2024-07-28T22:27:50.612Z"
   },
   {
    "duration": 5,
    "start_time": "2024-07-28T22:27:50.620Z"
   },
   {
    "duration": 57,
    "start_time": "2024-07-28T22:27:50.635Z"
   },
   {
    "duration": 4,
    "start_time": "2024-07-28T22:27:50.696Z"
   },
   {
    "duration": 2992,
    "start_time": "2024-07-28T22:27:50.703Z"
   },
   {
    "duration": 2718,
    "start_time": "2024-07-28T22:27:53.698Z"
   },
   {
    "duration": 162,
    "start_time": "2024-07-28T22:29:57.956Z"
   },
   {
    "duration": 258,
    "start_time": "2024-07-28T22:30:06.044Z"
   },
   {
    "duration": 21,
    "start_time": "2024-07-28T22:30:06.668Z"
   },
   {
    "duration": 1321,
    "start_time": "2024-07-28T22:30:23.754Z"
   },
   {
    "duration": 715,
    "start_time": "2024-07-28T22:30:25.078Z"
   },
   {
    "duration": 43,
    "start_time": "2024-07-28T22:30:25.796Z"
   },
   {
    "duration": 163,
    "start_time": "2024-07-28T22:30:25.843Z"
   },
   {
    "duration": 24,
    "start_time": "2024-07-28T22:30:26.011Z"
   },
   {
    "duration": 55,
    "start_time": "2024-07-28T22:30:26.038Z"
   },
   {
    "duration": 6,
    "start_time": "2024-07-28T22:30:26.097Z"
   },
   {
    "duration": 35,
    "start_time": "2024-07-28T22:30:26.106Z"
   },
   {
    "duration": 66,
    "start_time": "2024-07-28T22:30:26.144Z"
   },
   {
    "duration": 6,
    "start_time": "2024-07-28T22:30:26.213Z"
   },
   {
    "duration": 8,
    "start_time": "2024-07-28T22:30:26.223Z"
   },
   {
    "duration": 141,
    "start_time": "2024-07-28T22:30:26.235Z"
   },
   {
    "duration": 176,
    "start_time": "2024-07-28T22:30:26.382Z"
   },
   {
    "duration": 56,
    "start_time": "2024-07-28T22:30:26.565Z"
   },
   {
    "duration": 107,
    "start_time": "2024-07-28T22:30:26.624Z"
   },
   {
    "duration": 6,
    "start_time": "2024-07-28T22:30:26.733Z"
   },
   {
    "duration": 3,
    "start_time": "2024-07-28T22:30:26.742Z"
   },
   {
    "duration": 7,
    "start_time": "2024-07-28T22:30:26.749Z"
   },
   {
    "duration": 33,
    "start_time": "2024-07-28T22:30:26.759Z"
   },
   {
    "duration": 3,
    "start_time": "2024-07-28T22:30:26.796Z"
   },
   {
    "duration": 4,
    "start_time": "2024-07-28T22:30:26.802Z"
   },
   {
    "duration": 30,
    "start_time": "2024-07-28T22:30:26.809Z"
   },
   {
    "duration": 4,
    "start_time": "2024-07-28T22:30:26.842Z"
   },
   {
    "duration": 1134,
    "start_time": "2024-07-28T22:30:26.894Z"
   },
   {
    "duration": 18,
    "start_time": "2024-07-28T22:30:28.031Z"
   },
   {
    "duration": 12,
    "start_time": "2024-07-28T22:30:28.052Z"
   },
   {
    "duration": 21,
    "start_time": "2024-07-28T22:30:28.092Z"
   },
   {
    "duration": 10,
    "start_time": "2024-07-28T22:30:28.116Z"
   },
   {
    "duration": 12,
    "start_time": "2024-07-28T22:30:28.129Z"
   },
   {
    "duration": 46,
    "start_time": "2024-07-28T22:30:28.144Z"
   },
   {
    "duration": 3,
    "start_time": "2024-07-28T22:30:28.194Z"
   },
   {
    "duration": 3,
    "start_time": "2024-07-28T22:30:28.201Z"
   },
   {
    "duration": 4,
    "start_time": "2024-07-28T22:30:28.208Z"
   },
   {
    "duration": 299,
    "start_time": "2024-07-28T22:30:28.216Z"
   },
   {
    "duration": 4,
    "start_time": "2024-07-28T22:30:28.517Z"
   },
   {
    "duration": 6,
    "start_time": "2024-07-28T22:30:28.524Z"
   },
   {
    "duration": 5,
    "start_time": "2024-07-28T22:30:28.534Z"
   },
   {
    "duration": 5,
    "start_time": "2024-07-28T22:30:28.542Z"
   },
   {
    "duration": 43,
    "start_time": "2024-07-28T22:30:28.550Z"
   },
   {
    "duration": 4,
    "start_time": "2024-07-28T22:30:28.597Z"
   },
   {
    "duration": 6,
    "start_time": "2024-07-28T22:30:28.610Z"
   },
   {
    "duration": 4,
    "start_time": "2024-07-28T22:30:28.619Z"
   },
   {
    "duration": 2963,
    "start_time": "2024-07-28T22:30:28.626Z"
   },
   {
    "duration": 2815,
    "start_time": "2024-07-28T22:30:31.592Z"
   },
   {
    "duration": 1413,
    "start_time": "2024-07-28T22:31:42.169Z"
   },
   {
    "duration": 761,
    "start_time": "2024-07-28T22:31:43.586Z"
   },
   {
    "duration": 58,
    "start_time": "2024-07-28T22:31:44.349Z"
   },
   {
    "duration": 155,
    "start_time": "2024-07-28T22:31:44.410Z"
   },
   {
    "duration": 37,
    "start_time": "2024-07-28T22:31:44.569Z"
   },
   {
    "duration": 30,
    "start_time": "2024-07-28T22:31:44.609Z"
   },
   {
    "duration": 6,
    "start_time": "2024-07-28T22:31:44.642Z"
   },
   {
    "duration": 67,
    "start_time": "2024-07-28T22:31:44.651Z"
   },
   {
    "duration": 29,
    "start_time": "2024-07-28T22:31:44.722Z"
   },
   {
    "duration": 6,
    "start_time": "2024-07-28T22:31:44.754Z"
   },
   {
    "duration": 6,
    "start_time": "2024-07-28T22:31:44.792Z"
   },
   {
    "duration": 149,
    "start_time": "2024-07-28T22:31:44.801Z"
   },
   {
    "duration": 182,
    "start_time": "2024-07-28T22:31:44.953Z"
   },
   {
    "duration": 59,
    "start_time": "2024-07-28T22:31:45.142Z"
   },
   {
    "duration": 116,
    "start_time": "2024-07-28T22:31:45.204Z"
   },
   {
    "duration": 6,
    "start_time": "2024-07-28T22:31:45.324Z"
   },
   {
    "duration": 3,
    "start_time": "2024-07-28T22:31:45.334Z"
   },
   {
    "duration": 5,
    "start_time": "2024-07-28T22:31:45.341Z"
   },
   {
    "duration": 4,
    "start_time": "2024-07-28T22:31:45.351Z"
   },
   {
    "duration": 3,
    "start_time": "2024-07-28T22:31:45.392Z"
   },
   {
    "duration": 4,
    "start_time": "2024-07-28T22:31:45.399Z"
   },
   {
    "duration": 31,
    "start_time": "2024-07-28T22:31:45.407Z"
   },
   {
    "duration": 5,
    "start_time": "2024-07-28T22:31:45.441Z"
   },
   {
    "duration": 1191,
    "start_time": "2024-07-28T22:31:45.449Z"
   },
   {
    "duration": 18,
    "start_time": "2024-07-28T22:31:46.644Z"
   },
   {
    "duration": 32,
    "start_time": "2024-07-28T22:31:46.666Z"
   },
   {
    "duration": 23,
    "start_time": "2024-07-28T22:31:46.701Z"
   },
   {
    "duration": 10,
    "start_time": "2024-07-28T22:31:46.727Z"
   },
   {
    "duration": 53,
    "start_time": "2024-07-28T22:31:46.740Z"
   },
   {
    "duration": 4,
    "start_time": "2024-07-28T22:31:46.797Z"
   },
   {
    "duration": 6,
    "start_time": "2024-07-28T22:31:46.805Z"
   },
   {
    "duration": 4,
    "start_time": "2024-07-28T22:31:46.814Z"
   },
   {
    "duration": 3,
    "start_time": "2024-07-28T22:31:46.822Z"
   },
   {
    "duration": 328,
    "start_time": "2024-07-28T22:31:46.829Z"
   },
   {
    "duration": 4,
    "start_time": "2024-07-28T22:31:47.161Z"
   },
   {
    "duration": 6,
    "start_time": "2024-07-28T22:31:47.169Z"
   },
   {
    "duration": 6,
    "start_time": "2024-07-28T22:31:47.192Z"
   },
   {
    "duration": 4,
    "start_time": "2024-07-28T22:31:47.201Z"
   },
   {
    "duration": 4,
    "start_time": "2024-07-28T22:31:47.209Z"
   },
   {
    "duration": 4,
    "start_time": "2024-07-28T22:31:47.217Z"
   },
   {
    "duration": 58,
    "start_time": "2024-07-28T22:31:47.231Z"
   },
   {
    "duration": 4,
    "start_time": "2024-07-28T22:31:47.293Z"
   },
   {
    "duration": 3083,
    "start_time": "2024-07-28T22:31:47.300Z"
   },
   {
    "duration": 3309,
    "start_time": "2024-07-28T22:31:50.386Z"
   },
   {
    "duration": 1364,
    "start_time": "2024-07-28T22:34:19.073Z"
   },
   {
    "duration": 731,
    "start_time": "2024-07-28T22:34:20.442Z"
   },
   {
    "duration": 51,
    "start_time": "2024-07-28T22:34:21.176Z"
   },
   {
    "duration": 167,
    "start_time": "2024-07-28T22:34:21.231Z"
   },
   {
    "duration": 24,
    "start_time": "2024-07-28T22:34:21.403Z"
   },
   {
    "duration": 31,
    "start_time": "2024-07-28T22:34:21.430Z"
   },
   {
    "duration": 30,
    "start_time": "2024-07-28T22:34:21.464Z"
   },
   {
    "duration": 36,
    "start_time": "2024-07-28T22:34:21.498Z"
   },
   {
    "duration": 64,
    "start_time": "2024-07-28T22:34:21.537Z"
   },
   {
    "duration": 6,
    "start_time": "2024-07-28T22:34:21.604Z"
   },
   {
    "duration": 5,
    "start_time": "2024-07-28T22:34:21.613Z"
   },
   {
    "duration": 142,
    "start_time": "2024-07-28T22:34:21.621Z"
   },
   {
    "duration": 178,
    "start_time": "2024-07-28T22:34:21.765Z"
   },
   {
    "duration": 58,
    "start_time": "2024-07-28T22:34:21.950Z"
   },
   {
    "duration": 102,
    "start_time": "2024-07-28T22:34:22.011Z"
   },
   {
    "duration": 6,
    "start_time": "2024-07-28T22:34:22.116Z"
   },
   {
    "duration": 4,
    "start_time": "2024-07-28T22:34:22.125Z"
   },
   {
    "duration": 4,
    "start_time": "2024-07-28T22:34:22.132Z"
   },
   {
    "duration": 6,
    "start_time": "2024-07-28T22:34:22.140Z"
   },
   {
    "duration": 42,
    "start_time": "2024-07-28T22:34:22.149Z"
   },
   {
    "duration": 4,
    "start_time": "2024-07-28T22:34:22.194Z"
   },
   {
    "duration": 31,
    "start_time": "2024-07-28T22:34:22.201Z"
   },
   {
    "duration": 3,
    "start_time": "2024-07-28T22:34:22.235Z"
   },
   {
    "duration": 1207,
    "start_time": "2024-07-28T22:34:22.241Z"
   },
   {
    "duration": 17,
    "start_time": "2024-07-28T22:34:23.450Z"
   },
   {
    "duration": 30,
    "start_time": "2024-07-28T22:34:23.470Z"
   },
   {
    "duration": 22,
    "start_time": "2024-07-28T22:34:23.503Z"
   },
   {
    "duration": 9,
    "start_time": "2024-07-28T22:34:23.528Z"
   },
   {
    "duration": 56,
    "start_time": "2024-07-28T22:34:23.540Z"
   },
   {
    "duration": 4,
    "start_time": "2024-07-28T22:34:23.599Z"
   },
   {
    "duration": 4,
    "start_time": "2024-07-28T22:34:23.607Z"
   },
   {
    "duration": 4,
    "start_time": "2024-07-28T22:34:23.614Z"
   },
   {
    "duration": 3,
    "start_time": "2024-07-28T22:34:23.622Z"
   },
   {
    "duration": 303,
    "start_time": "2024-07-28T22:34:23.629Z"
   },
   {
    "duration": 4,
    "start_time": "2024-07-28T22:34:23.935Z"
   },
   {
    "duration": 5,
    "start_time": "2024-07-28T22:34:23.942Z"
   },
   {
    "duration": 5,
    "start_time": "2024-07-28T22:34:23.950Z"
   },
   {
    "duration": 4,
    "start_time": "2024-07-28T22:34:23.991Z"
   },
   {
    "duration": 5,
    "start_time": "2024-07-28T22:34:23.998Z"
   },
   {
    "duration": 5,
    "start_time": "2024-07-28T22:34:24.007Z"
   },
   {
    "duration": 5,
    "start_time": "2024-07-28T22:34:24.022Z"
   },
   {
    "duration": 5,
    "start_time": "2024-07-28T22:34:24.030Z"
   },
   {
    "duration": 2933,
    "start_time": "2024-07-28T22:34:24.038Z"
   },
   {
    "duration": 2736,
    "start_time": "2024-07-28T22:34:26.974Z"
   },
   {
    "duration": 168,
    "start_time": "2024-07-28T22:38:59.635Z"
   },
   {
    "duration": 1341,
    "start_time": "2024-07-28T22:39:09.601Z"
   },
   {
    "duration": 718,
    "start_time": "2024-07-28T22:39:11.839Z"
   },
   {
    "duration": 42,
    "start_time": "2024-07-28T22:39:13.678Z"
   },
   {
    "duration": 144,
    "start_time": "2024-07-28T22:39:14.409Z"
   },
   {
    "duration": 24,
    "start_time": "2024-07-28T22:39:15.192Z"
   },
   {
    "duration": 30,
    "start_time": "2024-07-28T22:39:16.751Z"
   },
   {
    "duration": 6,
    "start_time": "2024-07-28T22:39:19.406Z"
   },
   {
    "duration": 37,
    "start_time": "2024-07-28T22:39:19.719Z"
   },
   {
    "duration": 29,
    "start_time": "2024-07-28T22:39:20.210Z"
   },
   {
    "duration": 5,
    "start_time": "2024-07-28T22:39:20.688Z"
   },
   {
    "duration": 4,
    "start_time": "2024-07-28T22:39:21.178Z"
   },
   {
    "duration": 116,
    "start_time": "2024-07-28T22:39:21.574Z"
   },
   {
    "duration": 167,
    "start_time": "2024-07-28T22:39:21.865Z"
   },
   {
    "duration": 48,
    "start_time": "2024-07-28T22:39:22.943Z"
   },
   {
    "duration": 101,
    "start_time": "2024-07-28T22:39:24.494Z"
   },
   {
    "duration": 6,
    "start_time": "2024-07-28T22:39:24.899Z"
   },
   {
    "duration": 4,
    "start_time": "2024-07-28T22:39:25.529Z"
   },
   {
    "duration": 4,
    "start_time": "2024-07-28T22:39:26.697Z"
   },
   {
    "duration": 3,
    "start_time": "2024-07-28T22:39:28.185Z"
   },
   {
    "duration": 5,
    "start_time": "2024-07-28T22:39:28.653Z"
   },
   {
    "duration": 3,
    "start_time": "2024-07-28T22:39:29.171Z"
   },
   {
    "duration": 30,
    "start_time": "2024-07-28T22:39:30.126Z"
   },
   {
    "duration": 3,
    "start_time": "2024-07-28T22:39:30.631Z"
   },
   {
    "duration": 1143,
    "start_time": "2024-07-28T22:39:31.754Z"
   },
   {
    "duration": 18,
    "start_time": "2024-07-28T22:39:39.729Z"
   },
   {
    "duration": 12,
    "start_time": "2024-07-28T22:39:40.720Z"
   },
   {
    "duration": 21,
    "start_time": "2024-07-28T22:39:41.502Z"
   },
   {
    "duration": 10,
    "start_time": "2024-07-28T22:39:42.420Z"
   },
   {
    "duration": 13,
    "start_time": "2024-07-28T22:39:50.766Z"
   },
   {
    "duration": 270,
    "start_time": "2024-07-28T22:39:56.709Z"
   },
   {
    "duration": 7,
    "start_time": "2024-07-28T22:40:03.292Z"
   },
   {
    "duration": 5,
    "start_time": "2024-07-28T22:40:03.914Z"
   },
   {
    "duration": 166,
    "start_time": "2024-07-29T02:05:13.099Z"
   },
   {
    "duration": 162,
    "start_time": "2024-07-29T02:05:32.357Z"
   },
   {
    "duration": 1260,
    "start_time": "2024-07-29T02:05:42.888Z"
   },
   {
    "duration": 766,
    "start_time": "2024-07-29T02:05:44.151Z"
   },
   {
    "duration": 41,
    "start_time": "2024-07-29T02:05:46.730Z"
   },
   {
    "duration": 168,
    "start_time": "2024-07-29T02:05:47.449Z"
   },
   {
    "duration": 23,
    "start_time": "2024-07-29T02:05:48.306Z"
   },
   {
    "duration": 29,
    "start_time": "2024-07-29T02:05:49.525Z"
   },
   {
    "duration": 6,
    "start_time": "2024-07-29T02:05:53.140Z"
   },
   {
    "duration": 37,
    "start_time": "2024-07-29T02:05:53.749Z"
   },
   {
    "duration": 27,
    "start_time": "2024-07-29T02:05:54.365Z"
   },
   {
    "duration": 5,
    "start_time": "2024-07-29T02:05:55.106Z"
   },
   {
    "duration": 5,
    "start_time": "2024-07-29T02:05:55.758Z"
   },
   {
    "duration": 110,
    "start_time": "2024-07-29T02:05:56.316Z"
   },
   {
    "duration": 161,
    "start_time": "2024-07-29T02:05:56.869Z"
   },
   {
    "duration": 42,
    "start_time": "2024-07-29T02:05:58.017Z"
   },
   {
    "duration": 94,
    "start_time": "2024-07-29T02:06:00.418Z"
   },
   {
    "duration": 5,
    "start_time": "2024-07-29T02:06:01.088Z"
   },
   {
    "duration": 3,
    "start_time": "2024-07-29T02:06:01.850Z"
   },
   {
    "duration": 3,
    "start_time": "2024-07-29T02:06:02.360Z"
   },
   {
    "duration": 3,
    "start_time": "2024-07-29T02:06:04.018Z"
   },
   {
    "duration": 3,
    "start_time": "2024-07-29T02:06:04.577Z"
   },
   {
    "duration": 4,
    "start_time": "2024-07-29T02:06:05.126Z"
   },
   {
    "duration": 28,
    "start_time": "2024-07-29T02:06:06.219Z"
   },
   {
    "duration": 3,
    "start_time": "2024-07-29T02:06:06.752Z"
   },
   {
    "duration": 1119,
    "start_time": "2024-07-29T02:06:07.918Z"
   },
   {
    "duration": 20,
    "start_time": "2024-07-29T02:06:09.326Z"
   },
   {
    "duration": 12,
    "start_time": "2024-07-29T02:06:09.965Z"
   },
   {
    "duration": 22,
    "start_time": "2024-07-29T02:06:10.657Z"
   },
   {
    "duration": 9,
    "start_time": "2024-07-29T02:06:11.320Z"
   },
   {
    "duration": 12,
    "start_time": "2024-07-29T02:06:12.127Z"
   },
   {
    "duration": 2,
    "start_time": "2024-07-29T02:06:15.136Z"
   },
   {
    "duration": 3,
    "start_time": "2024-07-29T02:06:15.547Z"
   },
   {
    "duration": 3,
    "start_time": "2024-07-29T02:06:15.894Z"
   },
   {
    "duration": 6,
    "start_time": "2024-07-29T02:06:16.184Z"
   },
   {
    "duration": 256,
    "start_time": "2024-07-29T02:06:28.589Z"
   },
   {
    "duration": 4,
    "start_time": "2024-07-29T02:06:30.195Z"
   },
   {
    "duration": 6,
    "start_time": "2024-07-29T02:06:30.846Z"
   },
   {
    "duration": 5,
    "start_time": "2024-07-29T02:06:31.657Z"
   },
   {
    "duration": 3,
    "start_time": "2024-07-29T02:06:33.998Z"
   },
   {
    "duration": 4,
    "start_time": "2024-07-29T02:06:35.987Z"
   },
   {
    "duration": 5,
    "start_time": "2024-07-29T02:06:36.727Z"
   },
   {
    "duration": 1311,
    "start_time": "2024-07-29T02:08:03.271Z"
   },
   {
    "duration": 735,
    "start_time": "2024-07-29T02:08:04.586Z"
   },
   {
    "duration": 44,
    "start_time": "2024-07-29T02:08:05.324Z"
   },
   {
    "duration": 168,
    "start_time": "2024-07-29T02:08:05.370Z"
   },
   {
    "duration": 23,
    "start_time": "2024-07-29T02:08:05.544Z"
   },
   {
    "duration": 29,
    "start_time": "2024-07-29T02:08:05.570Z"
   },
   {
    "duration": 27,
    "start_time": "2024-07-29T02:08:05.602Z"
   },
   {
    "duration": 37,
    "start_time": "2024-07-29T02:08:05.631Z"
   },
   {
    "duration": 64,
    "start_time": "2024-07-29T02:08:05.671Z"
   },
   {
    "duration": 5,
    "start_time": "2024-07-29T02:08:05.738Z"
   },
   {
    "duration": 8,
    "start_time": "2024-07-29T02:08:05.746Z"
   },
   {
    "duration": 136,
    "start_time": "2024-07-29T02:08:05.757Z"
   },
   {
    "duration": 171,
    "start_time": "2024-07-29T02:08:05.896Z"
   },
   {
    "duration": 56,
    "start_time": "2024-07-29T02:08:06.074Z"
   },
   {
    "duration": 105,
    "start_time": "2024-07-29T02:08:06.133Z"
   },
   {
    "duration": 6,
    "start_time": "2024-07-29T02:08:06.241Z"
   },
   {
    "duration": 3,
    "start_time": "2024-07-29T02:08:06.250Z"
   },
   {
    "duration": 5,
    "start_time": "2024-07-29T02:08:06.257Z"
   },
   {
    "duration": 3,
    "start_time": "2024-07-29T02:08:06.265Z"
   },
   {
    "duration": 3,
    "start_time": "2024-07-29T02:08:06.272Z"
   },
   {
    "duration": 48,
    "start_time": "2024-07-29T02:08:06.278Z"
   },
   {
    "duration": 30,
    "start_time": "2024-07-29T02:08:06.328Z"
   },
   {
    "duration": 4,
    "start_time": "2024-07-29T02:08:06.360Z"
   },
   {
    "duration": 1146,
    "start_time": "2024-07-29T02:08:06.367Z"
   },
   {
    "duration": 33,
    "start_time": "2024-07-29T02:08:07.516Z"
   },
   {
    "duration": 12,
    "start_time": "2024-07-29T02:08:07.553Z"
   },
   {
    "duration": 23,
    "start_time": "2024-07-29T02:08:07.568Z"
   },
   {
    "duration": 44,
    "start_time": "2024-07-29T02:08:07.595Z"
   },
   {
    "duration": 12,
    "start_time": "2024-07-29T02:08:07.642Z"
   },
   {
    "duration": 4,
    "start_time": "2024-07-29T02:08:07.657Z"
   },
   {
    "duration": 5,
    "start_time": "2024-07-29T02:08:07.665Z"
   },
   {
    "duration": 4,
    "start_time": "2024-07-29T02:08:07.673Z"
   },
   {
    "duration": 49,
    "start_time": "2024-07-29T02:08:07.680Z"
   },
   {
    "duration": 278,
    "start_time": "2024-07-29T02:08:07.735Z"
   },
   {
    "duration": 12,
    "start_time": "2024-07-29T02:08:08.016Z"
   },
   {
    "duration": 8,
    "start_time": "2024-07-29T02:08:08.032Z"
   },
   {
    "duration": 6,
    "start_time": "2024-07-29T02:08:08.043Z"
   },
   {
    "duration": 6,
    "start_time": "2024-07-29T02:08:08.052Z"
   },
   {
    "duration": 5,
    "start_time": "2024-07-29T02:08:08.061Z"
   },
   {
    "duration": 5,
    "start_time": "2024-07-29T02:08:08.070Z"
   },
   {
    "duration": 5,
    "start_time": "2024-07-29T02:08:08.128Z"
   },
   {
    "duration": 5,
    "start_time": "2024-07-29T02:08:08.136Z"
   },
   {
    "duration": 2908,
    "start_time": "2024-07-29T02:08:08.144Z"
   },
   {
    "duration": 2690,
    "start_time": "2024-07-29T02:08:11.055Z"
   },
   {
    "duration": 1380,
    "start_time": "2024-07-29T02:08:52.217Z"
   },
   {
    "duration": 737,
    "start_time": "2024-07-29T02:08:53.600Z"
   },
   {
    "duration": 43,
    "start_time": "2024-07-29T02:08:54.340Z"
   },
   {
    "duration": 171,
    "start_time": "2024-07-29T02:08:54.386Z"
   },
   {
    "duration": 25,
    "start_time": "2024-07-29T02:08:54.561Z"
   },
   {
    "duration": 49,
    "start_time": "2024-07-29T02:08:54.588Z"
   },
   {
    "duration": 5,
    "start_time": "2024-07-29T02:08:54.640Z"
   },
   {
    "duration": 36,
    "start_time": "2024-07-29T02:08:54.648Z"
   },
   {
    "duration": 60,
    "start_time": "2024-07-29T02:08:54.687Z"
   },
   {
    "duration": 6,
    "start_time": "2024-07-29T02:08:54.750Z"
   },
   {
    "duration": 6,
    "start_time": "2024-07-29T02:08:54.758Z"
   },
   {
    "duration": 152,
    "start_time": "2024-07-29T02:08:54.767Z"
   },
   {
    "duration": 176,
    "start_time": "2024-07-29T02:08:54.926Z"
   },
   {
    "duration": 59,
    "start_time": "2024-07-29T02:08:55.110Z"
   },
   {
    "duration": 117,
    "start_time": "2024-07-29T02:08:55.172Z"
   },
   {
    "duration": 6,
    "start_time": "2024-07-29T02:08:55.293Z"
   },
   {
    "duration": 4,
    "start_time": "2024-07-29T02:08:55.302Z"
   },
   {
    "duration": 4,
    "start_time": "2024-07-29T02:08:55.328Z"
   },
   {
    "duration": 4,
    "start_time": "2024-07-29T02:08:55.335Z"
   },
   {
    "duration": 4,
    "start_time": "2024-07-29T02:08:55.342Z"
   },
   {
    "duration": 4,
    "start_time": "2024-07-29T02:08:55.349Z"
   },
   {
    "duration": 71,
    "start_time": "2024-07-29T02:08:55.355Z"
   },
   {
    "duration": 3,
    "start_time": "2024-07-29T02:08:55.429Z"
   },
   {
    "duration": 1139,
    "start_time": "2024-07-29T02:08:55.435Z"
   },
   {
    "duration": 17,
    "start_time": "2024-07-29T02:08:56.578Z"
   },
   {
    "duration": 32,
    "start_time": "2024-07-29T02:08:56.599Z"
   },
   {
    "duration": 22,
    "start_time": "2024-07-29T02:08:56.633Z"
   },
   {
    "duration": 10,
    "start_time": "2024-07-29T02:08:56.657Z"
   },
   {
    "duration": 12,
    "start_time": "2024-07-29T02:08:56.669Z"
   },
   {
    "duration": 3,
    "start_time": "2024-07-29T02:08:56.725Z"
   },
   {
    "duration": 4,
    "start_time": "2024-07-29T02:08:56.731Z"
   },
   {
    "duration": 3,
    "start_time": "2024-07-29T02:08:56.738Z"
   },
   {
    "duration": 4,
    "start_time": "2024-07-29T02:08:56.743Z"
   },
   {
    "duration": 302,
    "start_time": "2024-07-29T02:08:56.750Z"
   },
   {
    "duration": 5,
    "start_time": "2024-07-29T02:08:57.055Z"
   },
   {
    "duration": 6,
    "start_time": "2024-07-29T02:08:57.065Z"
   },
   {
    "duration": 7,
    "start_time": "2024-07-29T02:08:57.074Z"
   },
   {
    "duration": 5,
    "start_time": "2024-07-29T02:08:57.084Z"
   },
   {
    "duration": 4,
    "start_time": "2024-07-29T02:08:57.127Z"
   },
   {
    "duration": 5,
    "start_time": "2024-07-29T02:08:57.134Z"
   },
   {
    "duration": 6,
    "start_time": "2024-07-29T02:08:57.147Z"
   },
   {
    "duration": 4,
    "start_time": "2024-07-29T02:08:57.158Z"
   },
   {
    "duration": 3037,
    "start_time": "2024-07-29T02:08:57.165Z"
   },
   {
    "duration": 2741,
    "start_time": "2024-07-29T02:09:00.205Z"
   },
   {
    "duration": 1461,
    "start_time": "2024-07-31T08:00:12.975Z"
   },
   {
    "duration": 1830,
    "start_time": "2024-07-31T08:00:14.440Z"
   },
   {
    "duration": 49,
    "start_time": "2024-07-31T08:00:16.273Z"
   },
   {
    "duration": 150,
    "start_time": "2024-07-31T08:00:16.326Z"
   },
   {
    "duration": 24,
    "start_time": "2024-07-31T08:00:16.491Z"
   },
   {
    "duration": 32,
    "start_time": "2024-07-31T08:00:16.518Z"
   },
   {
    "duration": 37,
    "start_time": "2024-07-31T08:00:16.554Z"
   },
   {
    "duration": 35,
    "start_time": "2024-07-31T08:00:16.594Z"
   },
   {
    "duration": 28,
    "start_time": "2024-07-31T08:00:16.633Z"
   },
   {
    "duration": 6,
    "start_time": "2024-07-31T08:00:16.692Z"
   },
   {
    "duration": 9,
    "start_time": "2024-07-31T08:00:16.701Z"
   },
   {
    "duration": 199,
    "start_time": "2024-07-31T08:00:16.713Z"
   },
   {
    "duration": 311,
    "start_time": "2024-07-31T08:00:16.916Z"
   },
   {
    "duration": 107,
    "start_time": "2024-07-31T08:00:17.230Z"
   },
   {
    "duration": 208,
    "start_time": "2024-07-31T08:00:17.392Z"
   },
   {
    "duration": 8,
    "start_time": "2024-07-31T08:00:17.603Z"
   },
   {
    "duration": 4,
    "start_time": "2024-07-31T08:00:17.615Z"
   },
   {
    "duration": 70,
    "start_time": "2024-07-31T08:00:17.622Z"
   },
   {
    "duration": 4,
    "start_time": "2024-07-31T08:00:17.696Z"
   },
   {
    "duration": 8,
    "start_time": "2024-07-31T08:00:17.703Z"
   },
   {
    "duration": 5,
    "start_time": "2024-07-31T08:00:17.714Z"
   },
   {
    "duration": 98,
    "start_time": "2024-07-31T08:00:17.722Z"
   },
   {
    "duration": 67,
    "start_time": "2024-07-31T08:00:17.823Z"
   },
   {
    "duration": 1541,
    "start_time": "2024-07-31T08:00:17.895Z"
   },
   {
    "duration": 18,
    "start_time": "2024-07-31T08:00:19.439Z"
   },
   {
    "duration": 33,
    "start_time": "2024-07-31T08:00:19.460Z"
   },
   {
    "duration": 23,
    "start_time": "2024-07-31T08:00:19.496Z"
   },
   {
    "duration": 9,
    "start_time": "2024-07-31T08:00:19.526Z"
   },
   {
    "duration": 56,
    "start_time": "2024-07-31T08:00:19.539Z"
   },
   {
    "duration": 3,
    "start_time": "2024-07-31T08:00:19.599Z"
   },
   {
    "duration": 6,
    "start_time": "2024-07-31T08:00:19.605Z"
   },
   {
    "duration": 6,
    "start_time": "2024-07-31T08:00:19.614Z"
   },
   {
    "duration": 11,
    "start_time": "2024-07-31T08:00:19.623Z"
   },
   {
    "duration": 309,
    "start_time": "2024-07-31T08:00:19.637Z"
   },
   {
    "duration": 6,
    "start_time": "2024-07-31T08:00:19.948Z"
   },
   {
    "duration": 6,
    "start_time": "2024-07-31T08:00:19.957Z"
   },
   {
    "duration": 5,
    "start_time": "2024-07-31T08:00:19.990Z"
   },
   {
    "duration": 5,
    "start_time": "2024-07-31T08:00:19.999Z"
   },
   {
    "duration": 7,
    "start_time": "2024-07-31T08:00:20.006Z"
   },
   {
    "duration": 8,
    "start_time": "2024-07-31T08:00:20.015Z"
   },
   {
    "duration": 5,
    "start_time": "2024-07-31T08:00:57.184Z"
   },
   {
    "duration": 4,
    "start_time": "2024-07-31T08:00:57.699Z"
   },
   {
    "duration": 2942,
    "start_time": "2024-07-31T08:01:00.695Z"
   },
   {
    "duration": 1407,
    "start_time": "2024-07-31T08:02:30.527Z"
   },
   {
    "duration": 871,
    "start_time": "2024-07-31T08:02:31.937Z"
   },
   {
    "duration": 46,
    "start_time": "2024-07-31T08:02:32.811Z"
   },
   {
    "duration": 182,
    "start_time": "2024-07-31T08:02:32.862Z"
   },
   {
    "duration": 47,
    "start_time": "2024-07-31T08:02:33.047Z"
   },
   {
    "duration": 32,
    "start_time": "2024-07-31T08:02:33.099Z"
   },
   {
    "duration": 6,
    "start_time": "2024-07-31T08:02:33.135Z"
   },
   {
    "duration": 68,
    "start_time": "2024-07-31T08:02:33.145Z"
   },
   {
    "duration": 31,
    "start_time": "2024-07-31T08:02:33.217Z"
   },
   {
    "duration": 11,
    "start_time": "2024-07-31T08:02:33.290Z"
   },
   {
    "duration": 8,
    "start_time": "2024-07-31T08:02:33.305Z"
   },
   {
    "duration": 145,
    "start_time": "2024-07-31T08:02:33.318Z"
   },
   {
    "duration": 188,
    "start_time": "2024-07-31T08:02:33.466Z"
   },
   {
    "duration": 59,
    "start_time": "2024-07-31T08:02:33.657Z"
   },
   {
    "duration": 121,
    "start_time": "2024-07-31T08:02:33.719Z"
   },
   {
    "duration": 7,
    "start_time": "2024-07-31T08:02:33.844Z"
   },
   {
    "duration": 3,
    "start_time": "2024-07-31T08:02:33.856Z"
   },
   {
    "duration": 29,
    "start_time": "2024-07-31T08:02:33.863Z"
   },
   {
    "duration": 3,
    "start_time": "2024-07-31T08:02:33.896Z"
   },
   {
    "duration": 4,
    "start_time": "2024-07-31T08:02:33.902Z"
   },
   {
    "duration": 4,
    "start_time": "2024-07-31T08:02:33.910Z"
   },
   {
    "duration": 75,
    "start_time": "2024-07-31T08:02:33.919Z"
   },
   {
    "duration": 4,
    "start_time": "2024-07-31T08:02:33.997Z"
   },
   {
    "duration": 1243,
    "start_time": "2024-07-31T08:02:34.004Z"
   },
   {
    "duration": 19,
    "start_time": "2024-07-31T08:02:35.250Z"
   },
   {
    "duration": 29,
    "start_time": "2024-07-31T08:02:35.272Z"
   },
   {
    "duration": 25,
    "start_time": "2024-07-31T08:02:35.304Z"
   },
   {
    "duration": 9,
    "start_time": "2024-07-31T08:02:35.337Z"
   },
   {
    "duration": 54,
    "start_time": "2024-07-31T08:02:35.349Z"
   },
   {
    "duration": 4,
    "start_time": "2024-07-31T08:02:35.406Z"
   },
   {
    "duration": 4,
    "start_time": "2024-07-31T08:02:35.414Z"
   },
   {
    "duration": 4,
    "start_time": "2024-07-31T08:02:35.421Z"
   },
   {
    "duration": 4,
    "start_time": "2024-07-31T08:02:35.429Z"
   },
   {
    "duration": 343,
    "start_time": "2024-07-31T08:02:35.436Z"
   },
   {
    "duration": 9,
    "start_time": "2024-07-31T08:02:35.784Z"
   },
   {
    "duration": 7,
    "start_time": "2024-07-31T08:02:35.796Z"
   },
   {
    "duration": 7,
    "start_time": "2024-07-31T08:02:35.806Z"
   },
   {
    "duration": 5,
    "start_time": "2024-07-31T08:02:35.816Z"
   },
   {
    "duration": 5,
    "start_time": "2024-07-31T08:02:35.824Z"
   },
   {
    "duration": 59,
    "start_time": "2024-07-31T08:02:35.832Z"
   },
   {
    "duration": 5,
    "start_time": "2024-07-31T08:02:35.895Z"
   },
   {
    "duration": 5,
    "start_time": "2024-07-31T08:02:35.903Z"
   },
   {
    "duration": 3096,
    "start_time": "2024-07-31T08:02:35.911Z"
   },
   {
    "duration": 36,
    "start_time": "2024-07-31T08:02:51.006Z"
   },
   {
    "duration": 27,
    "start_time": "2024-07-31T08:03:17.861Z"
   },
   {
    "duration": 1351,
    "start_time": "2024-07-31T08:05:51.859Z"
   },
   {
    "duration": 803,
    "start_time": "2024-07-31T08:05:53.214Z"
   },
   {
    "duration": 43,
    "start_time": "2024-07-31T08:05:54.023Z"
   },
   {
    "duration": 165,
    "start_time": "2024-07-31T08:05:54.069Z"
   },
   {
    "duration": 25,
    "start_time": "2024-07-31T08:05:54.239Z"
   },
   {
    "duration": 51,
    "start_time": "2024-07-31T08:05:54.267Z"
   },
   {
    "duration": 8,
    "start_time": "2024-07-31T08:05:54.321Z"
   },
   {
    "duration": 60,
    "start_time": "2024-07-31T08:05:54.332Z"
   },
   {
    "duration": 29,
    "start_time": "2024-07-31T08:05:54.394Z"
   },
   {
    "duration": 6,
    "start_time": "2024-07-31T08:05:54.426Z"
   },
   {
    "duration": 7,
    "start_time": "2024-07-31T08:05:54.434Z"
   },
   {
    "duration": 161,
    "start_time": "2024-07-31T08:05:54.444Z"
   },
   {
    "duration": 186,
    "start_time": "2024-07-31T08:05:54.608Z"
   },
   {
    "duration": 51,
    "start_time": "2024-07-31T08:05:54.806Z"
   },
   {
    "duration": 109,
    "start_time": "2024-07-31T08:05:54.860Z"
   },
   {
    "duration": 17,
    "start_time": "2024-07-31T08:05:54.973Z"
   },
   {
    "duration": 3,
    "start_time": "2024-07-31T08:05:54.993Z"
   },
   {
    "duration": 5,
    "start_time": "2024-07-31T08:05:55.000Z"
   },
   {
    "duration": 4,
    "start_time": "2024-07-31T08:05:55.008Z"
   },
   {
    "duration": 3,
    "start_time": "2024-07-31T08:05:55.016Z"
   },
   {
    "duration": 4,
    "start_time": "2024-07-31T08:05:55.022Z"
   },
   {
    "duration": 75,
    "start_time": "2024-07-31T08:05:55.029Z"
   },
   {
    "duration": 3,
    "start_time": "2024-07-31T08:05:55.107Z"
   },
   {
    "duration": 1163,
    "start_time": "2024-07-31T08:05:55.114Z"
   },
   {
    "duration": 26,
    "start_time": "2024-07-31T08:05:56.280Z"
   },
   {
    "duration": 12,
    "start_time": "2024-07-31T08:05:56.309Z"
   },
   {
    "duration": 22,
    "start_time": "2024-07-31T08:05:56.325Z"
   },
   {
    "duration": 47,
    "start_time": "2024-07-31T08:05:56.350Z"
   },
   {
    "duration": 13,
    "start_time": "2024-07-31T08:05:56.400Z"
   },
   {
    "duration": 4,
    "start_time": "2024-07-31T08:05:56.416Z"
   },
   {
    "duration": 3,
    "start_time": "2024-07-31T08:05:56.423Z"
   },
   {
    "duration": 4,
    "start_time": "2024-07-31T08:05:56.430Z"
   },
   {
    "duration": 55,
    "start_time": "2024-07-31T08:05:56.437Z"
   },
   {
    "duration": 288,
    "start_time": "2024-07-31T08:05:56.495Z"
   },
   {
    "duration": 7,
    "start_time": "2024-07-31T08:05:56.786Z"
   },
   {
    "duration": 7,
    "start_time": "2024-07-31T08:05:56.797Z"
   },
   {
    "duration": 7,
    "start_time": "2024-07-31T08:05:56.807Z"
   },
   {
    "duration": 4,
    "start_time": "2024-07-31T08:05:56.819Z"
   },
   {
    "duration": 5,
    "start_time": "2024-07-31T08:05:56.828Z"
   },
   {
    "duration": 6,
    "start_time": "2024-07-31T08:05:56.893Z"
   },
   {
    "duration": 6,
    "start_time": "2024-07-31T08:05:56.908Z"
   },
   {
    "duration": 5,
    "start_time": "2024-07-31T08:05:56.917Z"
   },
   {
    "duration": 2998,
    "start_time": "2024-07-31T08:05:56.926Z"
   },
   {
    "duration": 27,
    "start_time": "2024-07-31T08:05:59.927Z"
   },
   {
    "duration": 1356,
    "start_time": "2024-07-31T08:07:20.610Z"
   },
   {
    "duration": 797,
    "start_time": "2024-07-31T08:07:21.970Z"
   },
   {
    "duration": 58,
    "start_time": "2024-07-31T08:07:22.770Z"
   },
   {
    "duration": 165,
    "start_time": "2024-07-31T08:07:22.832Z"
   },
   {
    "duration": 24,
    "start_time": "2024-07-31T08:07:23.001Z"
   },
   {
    "duration": 30,
    "start_time": "2024-07-31T08:07:23.028Z"
   },
   {
    "duration": 37,
    "start_time": "2024-07-31T08:07:23.061Z"
   },
   {
    "duration": 39,
    "start_time": "2024-07-31T08:07:23.101Z"
   },
   {
    "duration": 56,
    "start_time": "2024-07-31T08:07:23.144Z"
   },
   {
    "duration": 5,
    "start_time": "2024-07-31T08:07:23.206Z"
   },
   {
    "duration": 6,
    "start_time": "2024-07-31T08:07:23.214Z"
   },
   {
    "duration": 145,
    "start_time": "2024-07-31T08:07:23.223Z"
   },
   {
    "duration": 185,
    "start_time": "2024-07-31T08:07:23.371Z"
   },
   {
    "duration": 59,
    "start_time": "2024-07-31T08:07:23.558Z"
   },
   {
    "duration": 108,
    "start_time": "2024-07-31T08:07:23.620Z"
   },
   {
    "duration": 9,
    "start_time": "2024-07-31T08:07:23.731Z"
   },
   {
    "duration": 4,
    "start_time": "2024-07-31T08:07:23.742Z"
   },
   {
    "duration": 4,
    "start_time": "2024-07-31T08:07:23.750Z"
   },
   {
    "duration": 34,
    "start_time": "2024-07-31T08:07:23.758Z"
   },
   {
    "duration": 4,
    "start_time": "2024-07-31T08:07:23.795Z"
   },
   {
    "duration": 4,
    "start_time": "2024-07-31T08:07:23.802Z"
   },
   {
    "duration": 34,
    "start_time": "2024-07-31T08:07:23.809Z"
   },
   {
    "duration": 3,
    "start_time": "2024-07-31T08:07:23.847Z"
   },
   {
    "duration": 1184,
    "start_time": "2024-07-31T08:07:23.892Z"
   },
   {
    "duration": 26,
    "start_time": "2024-07-31T08:07:25.078Z"
   },
   {
    "duration": 13,
    "start_time": "2024-07-31T08:07:25.108Z"
   },
   {
    "duration": 23,
    "start_time": "2024-07-31T08:07:25.124Z"
   },
   {
    "duration": 10,
    "start_time": "2024-07-31T08:07:25.191Z"
   },
   {
    "duration": 13,
    "start_time": "2024-07-31T08:07:25.205Z"
   },
   {
    "duration": 3,
    "start_time": "2024-07-31T08:07:25.221Z"
   },
   {
    "duration": 6,
    "start_time": "2024-07-31T08:07:25.227Z"
   },
   {
    "duration": 4,
    "start_time": "2024-07-31T08:07:25.236Z"
   },
   {
    "duration": 51,
    "start_time": "2024-07-31T08:07:25.243Z"
   },
   {
    "duration": 278,
    "start_time": "2024-07-31T08:07:25.296Z"
   },
   {
    "duration": 4,
    "start_time": "2024-07-31T08:07:25.576Z"
   },
   {
    "duration": 5,
    "start_time": "2024-07-31T08:07:25.591Z"
   },
   {
    "duration": 6,
    "start_time": "2024-07-31T08:07:25.599Z"
   },
   {
    "duration": 5,
    "start_time": "2024-07-31T08:07:25.609Z"
   },
   {
    "duration": 5,
    "start_time": "2024-07-31T08:07:25.617Z"
   },
   {
    "duration": 4,
    "start_time": "2024-07-31T08:07:25.625Z"
   },
   {
    "duration": 58,
    "start_time": "2024-07-31T08:07:25.632Z"
   },
   {
    "duration": 4,
    "start_time": "2024-07-31T08:07:25.694Z"
   },
   {
    "duration": 3078,
    "start_time": "2024-07-31T08:07:25.701Z"
   },
   {
    "duration": 31,
    "start_time": "2024-07-31T08:07:28.783Z"
   },
   {
    "duration": 1319,
    "start_time": "2024-07-31T08:07:48.740Z"
   },
   {
    "duration": 794,
    "start_time": "2024-07-31T08:07:50.063Z"
   },
   {
    "duration": 64,
    "start_time": "2024-07-31T08:07:50.861Z"
   },
   {
    "duration": 149,
    "start_time": "2024-07-31T08:07:50.928Z"
   },
   {
    "duration": 23,
    "start_time": "2024-07-31T08:07:51.090Z"
   },
   {
    "duration": 30,
    "start_time": "2024-07-31T08:07:51.116Z"
   },
   {
    "duration": 7,
    "start_time": "2024-07-31T08:07:51.149Z"
   },
   {
    "duration": 37,
    "start_time": "2024-07-31T08:07:51.191Z"
   },
   {
    "duration": 28,
    "start_time": "2024-07-31T08:07:51.231Z"
   },
   {
    "duration": 32,
    "start_time": "2024-07-31T08:07:51.261Z"
   },
   {
    "duration": 6,
    "start_time": "2024-07-31T08:07:51.296Z"
   },
   {
    "duration": 141,
    "start_time": "2024-07-31T08:07:51.306Z"
   },
   {
    "duration": 176,
    "start_time": "2024-07-31T08:07:51.451Z"
   },
   {
    "duration": 60,
    "start_time": "2024-07-31T08:07:51.634Z"
   },
   {
    "duration": 115,
    "start_time": "2024-07-31T08:07:51.698Z"
   },
   {
    "duration": 8,
    "start_time": "2024-07-31T08:07:51.816Z"
   },
   {
    "duration": 4,
    "start_time": "2024-07-31T08:07:51.827Z"
   },
   {
    "duration": 5,
    "start_time": "2024-07-31T08:07:51.834Z"
   },
   {
    "duration": 4,
    "start_time": "2024-07-31T08:07:51.842Z"
   },
   {
    "duration": 3,
    "start_time": "2024-07-31T08:07:51.889Z"
   },
   {
    "duration": 4,
    "start_time": "2024-07-31T08:07:51.895Z"
   },
   {
    "duration": 30,
    "start_time": "2024-07-31T08:07:51.902Z"
   },
   {
    "duration": 4,
    "start_time": "2024-07-31T08:07:51.935Z"
   },
   {
    "duration": 1215,
    "start_time": "2024-07-31T08:07:51.942Z"
   },
   {
    "duration": 34,
    "start_time": "2024-07-31T08:07:53.160Z"
   },
   {
    "duration": 12,
    "start_time": "2024-07-31T08:07:53.197Z"
   },
   {
    "duration": 23,
    "start_time": "2024-07-31T08:07:53.212Z"
   },
   {
    "duration": 55,
    "start_time": "2024-07-31T08:07:53.238Z"
   },
   {
    "duration": 14,
    "start_time": "2024-07-31T08:07:53.298Z"
   },
   {
    "duration": 4,
    "start_time": "2024-07-31T08:07:53.314Z"
   },
   {
    "duration": 3,
    "start_time": "2024-07-31T08:07:53.321Z"
   },
   {
    "duration": 4,
    "start_time": "2024-07-31T08:07:53.327Z"
   },
   {
    "duration": 3,
    "start_time": "2024-07-31T08:07:53.334Z"
   },
   {
    "duration": 327,
    "start_time": "2024-07-31T08:07:53.341Z"
   },
   {
    "duration": 4,
    "start_time": "2024-07-31T08:07:53.671Z"
   },
   {
    "duration": 6,
    "start_time": "2024-07-31T08:07:53.690Z"
   },
   {
    "duration": 5,
    "start_time": "2024-07-31T08:07:53.699Z"
   },
   {
    "duration": 5,
    "start_time": "2024-07-31T08:07:53.709Z"
   },
   {
    "duration": 5,
    "start_time": "2024-07-31T08:07:53.718Z"
   },
   {
    "duration": 5,
    "start_time": "2024-07-31T08:07:53.726Z"
   },
   {
    "duration": 8,
    "start_time": "2024-07-31T08:07:53.792Z"
   },
   {
    "duration": 4,
    "start_time": "2024-07-31T08:07:53.803Z"
   },
   {
    "duration": 3041,
    "start_time": "2024-07-31T08:07:53.811Z"
   },
   {
    "duration": 39,
    "start_time": "2024-07-31T08:08:29.332Z"
   },
   {
    "duration": 43,
    "start_time": "2024-07-31T08:08:44.579Z"
   },
   {
    "duration": 8,
    "start_time": "2024-07-31T08:08:57.755Z"
   },
   {
    "duration": 15,
    "start_time": "2024-07-31T08:10:35.166Z"
   },
   {
    "duration": 1335,
    "start_time": "2024-07-31T08:10:47.139Z"
   },
   {
    "duration": 805,
    "start_time": "2024-07-31T08:10:48.478Z"
   },
   {
    "duration": 43,
    "start_time": "2024-07-31T08:10:49.286Z"
   },
   {
    "duration": 164,
    "start_time": "2024-07-31T08:10:49.332Z"
   },
   {
    "duration": 24,
    "start_time": "2024-07-31T08:10:49.503Z"
   },
   {
    "duration": 31,
    "start_time": "2024-07-31T08:10:49.531Z"
   },
   {
    "duration": 6,
    "start_time": "2024-07-31T08:10:49.590Z"
   },
   {
    "duration": 38,
    "start_time": "2024-07-31T08:10:49.599Z"
   },
   {
    "duration": 61,
    "start_time": "2024-07-31T08:10:49.640Z"
   },
   {
    "duration": 8,
    "start_time": "2024-07-31T08:10:49.703Z"
   },
   {
    "duration": 6,
    "start_time": "2024-07-31T08:10:49.714Z"
   },
   {
    "duration": 141,
    "start_time": "2024-07-31T08:10:49.723Z"
   },
   {
    "duration": 183,
    "start_time": "2024-07-31T08:10:49.867Z"
   },
   {
    "duration": 48,
    "start_time": "2024-07-31T08:10:50.057Z"
   },
   {
    "duration": 111,
    "start_time": "2024-07-31T08:10:50.108Z"
   },
   {
    "duration": 5,
    "start_time": "2024-07-31T08:10:50.222Z"
   },
   {
    "duration": 3,
    "start_time": "2024-07-31T08:10:50.231Z"
   },
   {
    "duration": 5,
    "start_time": "2024-07-31T08:10:50.237Z"
   },
   {
    "duration": 4,
    "start_time": "2024-07-31T08:10:50.245Z"
   },
   {
    "duration": 40,
    "start_time": "2024-07-31T08:10:50.252Z"
   },
   {
    "duration": 3,
    "start_time": "2024-07-31T08:10:50.295Z"
   },
   {
    "duration": 30,
    "start_time": "2024-07-31T08:10:50.302Z"
   },
   {
    "duration": 4,
    "start_time": "2024-07-31T08:10:50.336Z"
   },
   {
    "duration": 1239,
    "start_time": "2024-07-31T08:10:50.344Z"
   },
   {
    "duration": 19,
    "start_time": "2024-07-31T08:10:51.590Z"
   },
   {
    "duration": 11,
    "start_time": "2024-07-31T08:10:51.612Z"
   },
   {
    "duration": 22,
    "start_time": "2024-07-31T08:10:51.626Z"
   },
   {
    "duration": 47,
    "start_time": "2024-07-31T08:10:51.651Z"
   },
   {
    "duration": 12,
    "start_time": "2024-07-31T08:10:51.700Z"
   },
   {
    "duration": 4,
    "start_time": "2024-07-31T08:10:51.715Z"
   },
   {
    "duration": 4,
    "start_time": "2024-07-31T08:10:51.722Z"
   },
   {
    "duration": 3,
    "start_time": "2024-07-31T08:10:51.729Z"
   },
   {
    "duration": 54,
    "start_time": "2024-07-31T08:10:51.736Z"
   },
   {
    "duration": 289,
    "start_time": "2024-07-31T08:10:51.794Z"
   },
   {
    "duration": 7,
    "start_time": "2024-07-31T08:10:52.085Z"
   },
   {
    "duration": 6,
    "start_time": "2024-07-31T08:10:52.095Z"
   },
   {
    "duration": 6,
    "start_time": "2024-07-31T08:10:52.104Z"
   },
   {
    "duration": 5,
    "start_time": "2024-07-31T08:10:52.113Z"
   },
   {
    "duration": 5,
    "start_time": "2024-07-31T08:10:52.121Z"
   },
   {
    "duration": 6,
    "start_time": "2024-07-31T08:10:52.129Z"
   },
   {
    "duration": 6,
    "start_time": "2024-07-31T08:10:52.197Z"
   },
   {
    "duration": 4,
    "start_time": "2024-07-31T08:10:52.206Z"
   },
   {
    "duration": 3001,
    "start_time": "2024-07-31T08:10:52.213Z"
   },
   {
    "duration": 43,
    "start_time": "2024-07-31T08:11:08.832Z"
   },
   {
    "duration": 44,
    "start_time": "2024-07-31T08:11:09.550Z"
   },
   {
    "duration": 46,
    "start_time": "2024-07-31T08:11:10.025Z"
   },
   {
    "duration": 1368,
    "start_time": "2024-07-31T08:12:00.705Z"
   },
   {
    "duration": 830,
    "start_time": "2024-07-31T08:12:02.077Z"
   },
   {
    "duration": 46,
    "start_time": "2024-07-31T08:12:02.911Z"
   },
   {
    "duration": 177,
    "start_time": "2024-07-31T08:12:02.959Z"
   },
   {
    "duration": 25,
    "start_time": "2024-07-31T08:12:03.141Z"
   },
   {
    "duration": 47,
    "start_time": "2024-07-31T08:12:03.168Z"
   },
   {
    "duration": 7,
    "start_time": "2024-07-31T08:12:03.218Z"
   },
   {
    "duration": 65,
    "start_time": "2024-07-31T08:12:03.228Z"
   },
   {
    "duration": 28,
    "start_time": "2024-07-31T08:12:03.296Z"
   },
   {
    "duration": 6,
    "start_time": "2024-07-31T08:12:03.328Z"
   },
   {
    "duration": 5,
    "start_time": "2024-07-31T08:12:03.337Z"
   },
   {
    "duration": 165,
    "start_time": "2024-07-31T08:12:03.345Z"
   },
   {
    "duration": 180,
    "start_time": "2024-07-31T08:12:03.514Z"
   },
   {
    "duration": 51,
    "start_time": "2024-07-31T08:12:03.702Z"
   },
   {
    "duration": 128,
    "start_time": "2024-07-31T08:12:03.756Z"
   },
   {
    "duration": 6,
    "start_time": "2024-07-31T08:12:03.887Z"
   },
   {
    "duration": 3,
    "start_time": "2024-07-31T08:12:03.897Z"
   },
   {
    "duration": 5,
    "start_time": "2024-07-31T08:12:03.903Z"
   },
   {
    "duration": 4,
    "start_time": "2024-07-31T08:12:03.910Z"
   },
   {
    "duration": 3,
    "start_time": "2024-07-31T08:12:03.918Z"
   },
   {
    "duration": 4,
    "start_time": "2024-07-31T08:12:03.923Z"
   },
   {
    "duration": 83,
    "start_time": "2024-07-31T08:12:03.930Z"
   },
   {
    "duration": 4,
    "start_time": "2024-07-31T08:12:04.016Z"
   },
   {
    "duration": 1192,
    "start_time": "2024-07-31T08:12:04.023Z"
   },
   {
    "duration": 17,
    "start_time": "2024-07-31T08:12:05.217Z"
   },
   {
    "duration": 12,
    "start_time": "2024-07-31T08:12:05.238Z"
   },
   {
    "duration": 53,
    "start_time": "2024-07-31T08:12:05.253Z"
   },
   {
    "duration": 10,
    "start_time": "2024-07-31T08:12:05.308Z"
   },
   {
    "duration": 12,
    "start_time": "2024-07-31T08:12:05.321Z"
   },
   {
    "duration": 4,
    "start_time": "2024-07-31T08:12:05.336Z"
   },
   {
    "duration": 50,
    "start_time": "2024-07-31T08:12:05.342Z"
   },
   {
    "duration": 3,
    "start_time": "2024-07-31T08:12:05.395Z"
   },
   {
    "duration": 4,
    "start_time": "2024-07-31T08:12:05.401Z"
   },
   {
    "duration": 300,
    "start_time": "2024-07-31T08:12:05.408Z"
   },
   {
    "duration": 4,
    "start_time": "2024-07-31T08:12:05.711Z"
   },
   {
    "duration": 6,
    "start_time": "2024-07-31T08:12:05.718Z"
   },
   {
    "duration": 7,
    "start_time": "2024-07-31T08:12:05.728Z"
   },
   {
    "duration": 4,
    "start_time": "2024-07-31T08:12:05.740Z"
   },
   {
    "duration": 4,
    "start_time": "2024-07-31T08:12:05.791Z"
   },
   {
    "duration": 5,
    "start_time": "2024-07-31T08:12:05.798Z"
   },
   {
    "duration": 5,
    "start_time": "2024-07-31T08:12:05.813Z"
   },
   {
    "duration": 4,
    "start_time": "2024-07-31T08:12:05.822Z"
   },
   {
    "duration": 2949,
    "start_time": "2024-07-31T08:12:05.829Z"
   },
   {
    "duration": 32,
    "start_time": "2024-07-31T08:12:40.099Z"
   },
   {
    "duration": 8,
    "start_time": "2024-07-31T08:12:44.924Z"
   },
   {
    "duration": 32,
    "start_time": "2024-07-31T08:12:46.598Z"
   },
   {
    "duration": 30,
    "start_time": "2024-07-31T08:13:35.485Z"
   },
   {
    "duration": 1377,
    "start_time": "2024-07-31T08:14:51.926Z"
   },
   {
    "duration": 797,
    "start_time": "2024-07-31T08:14:53.306Z"
   },
   {
    "duration": 43,
    "start_time": "2024-07-31T08:14:54.106Z"
   },
   {
    "duration": 176,
    "start_time": "2024-07-31T08:14:54.152Z"
   },
   {
    "duration": 24,
    "start_time": "2024-07-31T08:14:54.334Z"
   },
   {
    "duration": 46,
    "start_time": "2024-07-31T08:14:54.361Z"
   },
   {
    "duration": 6,
    "start_time": "2024-07-31T08:14:54.410Z"
   },
   {
    "duration": 37,
    "start_time": "2024-07-31T08:14:54.419Z"
   },
   {
    "duration": 56,
    "start_time": "2024-07-31T08:14:54.460Z"
   },
   {
    "duration": 6,
    "start_time": "2024-07-31T08:14:54.519Z"
   },
   {
    "duration": 6,
    "start_time": "2024-07-31T08:14:54.529Z"
   },
   {
    "duration": 153,
    "start_time": "2024-07-31T08:14:54.538Z"
   },
   {
    "duration": 188,
    "start_time": "2024-07-31T08:14:54.694Z"
   },
   {
    "duration": 47,
    "start_time": "2024-07-31T08:14:54.893Z"
   },
   {
    "duration": 112,
    "start_time": "2024-07-31T08:14:54.943Z"
   },
   {
    "duration": 6,
    "start_time": "2024-07-31T08:14:55.058Z"
   },
   {
    "duration": 24,
    "start_time": "2024-07-31T08:14:55.068Z"
   },
   {
    "duration": 4,
    "start_time": "2024-07-31T08:14:55.095Z"
   },
   {
    "duration": 5,
    "start_time": "2024-07-31T08:14:55.102Z"
   },
   {
    "duration": 4,
    "start_time": "2024-07-31T08:14:55.110Z"
   },
   {
    "duration": 4,
    "start_time": "2024-07-31T08:14:55.117Z"
   },
   {
    "duration": 72,
    "start_time": "2024-07-31T08:14:55.124Z"
   },
   {
    "duration": 4,
    "start_time": "2024-07-31T08:14:55.199Z"
   },
   {
    "duration": 1180,
    "start_time": "2024-07-31T08:14:55.207Z"
   },
   {
    "duration": 21,
    "start_time": "2024-07-31T08:14:56.392Z"
   },
   {
    "duration": 12,
    "start_time": "2024-07-31T08:14:56.417Z"
   },
   {
    "duration": 58,
    "start_time": "2024-07-31T08:14:56.432Z"
   },
   {
    "duration": 17,
    "start_time": "2024-07-31T08:14:56.494Z"
   },
   {
    "duration": 12,
    "start_time": "2024-07-31T08:14:56.515Z"
   },
   {
    "duration": 5,
    "start_time": "2024-07-31T08:14:56.529Z"
   },
   {
    "duration": 4,
    "start_time": "2024-07-31T08:14:56.537Z"
   },
   {
    "duration": 3,
    "start_time": "2024-07-31T08:14:56.545Z"
   },
   {
    "duration": 4,
    "start_time": "2024-07-31T08:14:56.590Z"
   },
   {
    "duration": 288,
    "start_time": "2024-07-31T08:14:56.597Z"
   },
   {
    "duration": 5,
    "start_time": "2024-07-31T08:14:56.890Z"
   },
   {
    "duration": 9,
    "start_time": "2024-07-31T08:14:56.898Z"
   },
   {
    "duration": 7,
    "start_time": "2024-07-31T08:14:56.910Z"
   },
   {
    "duration": 4,
    "start_time": "2024-07-31T08:14:56.921Z"
   },
   {
    "duration": 5,
    "start_time": "2024-07-31T08:14:56.929Z"
   },
   {
    "duration": 52,
    "start_time": "2024-07-31T08:14:56.938Z"
   },
   {
    "duration": 1334,
    "start_time": "2024-07-31T08:15:23.532Z"
   },
   {
    "duration": 790,
    "start_time": "2024-07-31T08:15:24.871Z"
   },
   {
    "duration": 50,
    "start_time": "2024-07-31T08:15:25.664Z"
   },
   {
    "duration": 150,
    "start_time": "2024-07-31T08:15:25.717Z"
   },
   {
    "duration": 37,
    "start_time": "2024-07-31T08:15:25.871Z"
   },
   {
    "duration": 32,
    "start_time": "2024-07-31T08:15:25.911Z"
   },
   {
    "duration": 6,
    "start_time": "2024-07-31T08:15:25.946Z"
   },
   {
    "duration": 63,
    "start_time": "2024-07-31T08:15:25.955Z"
   },
   {
    "duration": 28,
    "start_time": "2024-07-31T08:15:26.021Z"
   },
   {
    "duration": 6,
    "start_time": "2024-07-31T08:15:26.051Z"
   },
   {
    "duration": 6,
    "start_time": "2024-07-31T08:15:26.091Z"
   },
   {
    "duration": 134,
    "start_time": "2024-07-31T08:15:26.100Z"
   },
   {
    "duration": 174,
    "start_time": "2024-07-31T08:15:26.239Z"
   },
   {
    "duration": 39,
    "start_time": "2024-07-31T08:15:26.420Z"
   },
   {
    "duration": 116,
    "start_time": "2024-07-31T08:15:26.462Z"
   },
   {
    "duration": 15,
    "start_time": "2024-07-31T08:15:26.581Z"
   },
   {
    "duration": 4,
    "start_time": "2024-07-31T08:15:26.599Z"
   },
   {
    "duration": 4,
    "start_time": "2024-07-31T08:15:26.606Z"
   },
   {
    "duration": 4,
    "start_time": "2024-07-31T08:15:26.613Z"
   },
   {
    "duration": 4,
    "start_time": "2024-07-31T08:15:26.620Z"
   },
   {
    "duration": 5,
    "start_time": "2024-07-31T08:15:26.627Z"
   },
   {
    "duration": 29,
    "start_time": "2024-07-31T08:15:26.692Z"
   },
   {
    "duration": 5,
    "start_time": "2024-07-31T08:15:26.724Z"
   },
   {
    "duration": 1208,
    "start_time": "2024-07-31T08:15:26.732Z"
   },
   {
    "duration": 19,
    "start_time": "2024-07-31T08:15:27.943Z"
   },
   {
    "duration": 35,
    "start_time": "2024-07-31T08:15:27.965Z"
   },
   {
    "duration": 23,
    "start_time": "2024-07-31T08:15:28.003Z"
   },
   {
    "duration": 11,
    "start_time": "2024-07-31T08:15:28.030Z"
   },
   {
    "duration": 55,
    "start_time": "2024-07-31T08:15:28.045Z"
   },
   {
    "duration": 4,
    "start_time": "2024-07-31T08:15:28.104Z"
   },
   {
    "duration": 5,
    "start_time": "2024-07-31T08:15:28.110Z"
   },
   {
    "duration": 3,
    "start_time": "2024-07-31T08:15:28.118Z"
   },
   {
    "duration": 4,
    "start_time": "2024-07-31T08:15:28.124Z"
   },
   {
    "duration": 331,
    "start_time": "2024-07-31T08:15:28.131Z"
   },
   {
    "duration": 4,
    "start_time": "2024-07-31T08:15:28.465Z"
   },
   {
    "duration": 20,
    "start_time": "2024-07-31T08:15:28.473Z"
   },
   {
    "duration": 6,
    "start_time": "2024-07-31T08:15:28.497Z"
   },
   {
    "duration": 5,
    "start_time": "2024-07-31T08:15:28.506Z"
   },
   {
    "duration": 8,
    "start_time": "2024-07-31T08:15:28.514Z"
   },
   {
    "duration": 5,
    "start_time": "2024-07-31T08:15:28.525Z"
   }
  ],
  "kernelspec": {
   "display_name": "Python 3 (ipykernel)",
   "language": "python",
   "name": "python3"
  },
  "language_info": {
   "codemirror_mode": {
    "name": "ipython",
    "version": 3
   },
   "file_extension": ".py",
   "mimetype": "text/x-python",
   "name": "python",
   "nbconvert_exporter": "python",
   "pygments_lexer": "ipython3",
   "version": "3.9.19"
  },
  "toc": {
   "base_numbering": 1,
   "nav_menu": {},
   "number_sections": true,
   "sideBar": true,
   "skip_h1_title": true,
   "title_cell": "Table of Contents",
   "title_sidebar": "Contents",
   "toc_cell": false,
   "toc_position": {
    "height": "calc(100% - 180px)",
    "left": "10px",
    "top": "150px",
    "width": "392.269px"
   },
   "toc_section_display": true,
   "toc_window_display": true
  }
 },
 "nbformat": 4,
 "nbformat_minor": 2
}
